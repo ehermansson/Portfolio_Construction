{
 "cells": [
  {
   "cell_type": "code",
   "execution_count": 1,
   "metadata": {},
   "outputs": [],
   "source": [
    "import yfinance as yf \n",
    "import pandas as pd\n",
    "import matplotlib.pyplot as plt\n",
    "import numpy as np\n",
    "from datetime import datetime\n",
    "import pandas_datareader.data as web\n",
    "from time import sleep\n",
    "import quandl\n",
    "import seaborn as sns\n",
    "import sys\n",
    "from scipy.stats import norm\n",
    "from statsmodels.distributions.empirical_distribution import ECDF\n",
    "import urllib\n",
    "from datetime import date , timedelta\n",
    "import scipy.stats as stats\n",
    "import statsmodels.api as sm\n",
    "import fattails.metrics as fattails\n",
    "\n",
    "\n",
    "import powerlaw"
   ]
  },
  {
   "cell_type": "markdown",
   "metadata": {},
   "source": [
    "## Power Laws of Assets\n",
    "\n",
    "Do asset analysis as Pasquale Cirillo but in Python,\n",
    "\n",
    "Build it adaptive and save parameters to data frame. \n",
    "\n"
   ]
  },
  {
   "cell_type": "code",
   "execution_count": 142,
   "metadata": {},
   "outputs": [],
   "source": [
    "tickers = ['TSLA']\n",
    "\n",
    "prices_df = pd.DataFrame()\n",
    "\n",
    "for tick in tickers:\n",
    "    \n",
    "    price = yf.download(tick,start='2000-01-01', progress = False, threads = False)\n",
    "    price = price['Close']\n",
    "    prices_df[tick] = price"
   ]
  },
  {
   "cell_type": "code",
   "execution_count": 143,
   "metadata": {},
   "outputs": [],
   "source": [
    "log_ret = np.log(prices_df) - np.log(prices_df.shift(1))\n",
    "log_ret.columns = ['log_ret']\n",
    "log_ret['pct_chg'] = prices_df.pct_change()\n",
    "log_ret = log_ret.dropna()"
   ]
  },
  {
   "cell_type": "markdown",
   "metadata": {},
   "source": [
    "## VaR and ES"
   ]
  },
  {
   "cell_type": "code",
   "execution_count": 144,
   "metadata": {},
   "outputs": [],
   "source": [
    "log_losses = -log_ret #losses as positive values\n",
    "n = len(log_losses)"
   ]
  },
  {
   "cell_type": "code",
   "execution_count": 145,
   "metadata": {},
   "outputs": [
    {
     "data": {
      "text/plain": [
       "array([0.09345116, 0.08921749])"
      ]
     },
     "execution_count": 145,
     "metadata": {},
     "output_type": "execute_result"
    }
   ],
   "source": [
    "VAR95 = log_losses.quantile(q=0.95)\n",
    "VAR99 = log_losses.quantile(q=0.99)\n",
    "VAR99.values"
   ]
  },
  {
   "cell_type": "code",
   "execution_count": 146,
   "metadata": {},
   "outputs": [
    {
     "data": {
      "text/plain": [
       "0.0102880658436214"
      ]
     },
     "execution_count": 146,
     "metadata": {},
     "output_type": "execute_result"
    }
   ],
   "source": [
    "### how many observations above threshold, quite close!!\n",
    "len(pd.DataFrame(log_losses.loc[:,'log_ret'])[log_losses['log_ret']>=VAR99['log_ret']])/n"
   ]
  },
  {
   "cell_type": "code",
   "execution_count": 147,
   "metadata": {
    "scrolled": true
   },
   "outputs": [
    {
     "data": {
      "text/plain": [
       "array([0.13763257, 0.12795861])"
      ]
     },
     "execution_count": 147,
     "metadata": {},
     "output_type": "execute_result"
    }
   ],
   "source": [
    "#Expected Shortfall\n",
    "ES99 = log_losses[log_losses>VAR99].mean()\n",
    "ES99.values"
   ]
  },
  {
   "cell_type": "markdown",
   "metadata": {},
   "source": [
    "## Survival Function\n",
    "\n",
    "- find threshhold"
   ]
  },
  {
   "cell_type": "code",
   "execution_count": 148,
   "metadata": {},
   "outputs": [],
   "source": [
    "log_ret['abs_ret'] = log_ret['log_ret'].abs()\n",
    "\n",
    "tail_df = log_ret.copy()\n",
    "VAL = 'abs_ret'\n",
    "\n",
    "tail_df['survival_probability'] = fattails.get_survival_probability(tail_df[VAL])\n",
    "tail_df = tail_df.sort_values(by=VAL) # show sorted values"
   ]
  },
  {
   "cell_type": "code",
   "execution_count": 149,
   "metadata": {
    "scrolled": true
   },
   "outputs": [
    {
     "name": "stderr",
     "output_type": "stream",
     "text": [
      "Values less than or equal to 0 in data. Throwing out 0 or negative values\n"
     ]
    },
    {
     "name": "stdout",
     "output_type": "stream",
     "text": [
      "Calculating best minimal value for power law fit\n",
      "xmin progress: 99%\r"
     ]
    }
   ],
   "source": [
    "## FIR POWER LAW\n",
    "\n",
    "fit = powerlaw.Fit(tail_df[VAL])\n",
    "thresh = fit.power_law.xmin\n",
    "surv_thresh = tail_df[tail_df[VAL]==thresh]['survival_probability'].values[0]"
   ]
  },
  {
   "cell_type": "code",
   "execution_count": 150,
   "metadata": {},
   "outputs": [],
   "source": [
    "### FINS CUT OFF????\n",
    "\n"
   ]
  },
  {
   "cell_type": "code",
   "execution_count": 151,
   "metadata": {},
   "outputs": [
    {
     "name": "stdout",
     "output_type": "stream",
     "text": [
      "2.2128357041868285\n"
     ]
    }
   ],
   "source": [
    "ysort = np.sort(tail_df[VAL])   # sort the returns\n",
    "CT = fit.power_law.xmin  # set the threshold\n",
    "iota = 1/(np.mean(np.log(ysort[ysort>CT]/CT))) # get the tail index\n",
    "print(iota)"
   ]
  },
  {
   "cell_type": "code",
   "execution_count": 152,
   "metadata": {},
   "outputs": [
    {
     "data": {
      "image/png": "[encoded data removed]",
      "text/plain": [
       "<Figure size 432x288 with 1 Axes>"
      ]
     },
     "metadata": {
      "needs_background": "light"
     },
     "output_type": "display_data"
    }
   ],
   "source": [
    "fig, ax = plt.subplots()\n",
    "ax.loglog(tail_df[VAL], tail_df['survival_probability'], '.');\n",
    "ax.plot(thresh, surv_thresh, 'ro');\n",
    "#ax.axline((3, 4), slope=-2, linewidth=4, color='r')\n",
    "plt.xlabel('Absolute Returns');\n",
    "plt.ylabel('Probability of >= X');"
   ]
  },
  {
   "cell_type": "code",
   "execution_count": 153,
   "metadata": {},
   "outputs": [],
   "source": [
    "def get_hurst_exponent(time_series, max_lag=20):\n",
    "    \"\"\"Returns the Hurst Exponent of the time series\"\"\"\n",
    "    lags = range(2, max_lag)\n",
    "    # variances of the lagged differences\n",
    "    tau = [np.std(np.subtract(time_series[lag:], time_series[:-lag])) for lag in lags]\n",
    "    # calculate the slope of the log plot -> the Hurst Exponent\n",
    "    reg = np.polyfit(np.log(lags), np.log(tau), 1)\n",
    "    return reg[0]"
   ]
  },
  {
   "cell_type": "code",
   "execution_count": 154,
   "metadata": {},
   "outputs": [
    {
     "name": "stdout",
     "output_type": "stream",
     "text": [
      "Hurst exponent with 5 lags: 0.5089\n",
      "Hurst exponent with 10 lags: 0.5218\n",
      "Hurst exponent with 20 lags: 0.5006\n",
      "Hurst exponent with 50 lags: 0.4879\n",
      "Hurst exponent with 100 lags: 0.4881\n",
      "Hurst exponent with 200 lags: 0.4815\n",
      "Hurst exponent with 300 lags: 0.4998\n",
      "Hurst exponent with 500 lags: 0.5338\n",
      "Hurst exponent with 1000 lags: 0.4583\n"
     ]
    }
   ],
   "source": [
    "for lag in [5, 10, 20, 50, 100,200, 300, 500, 1000 ]:\n",
    "    hurst_exp = get_hurst_exponent(prices_df.values, lag)\n",
    "    print(f\"Hurst exponent with {lag} lags: {hurst_exp:.4f}\")"
   ]
  },
  {
   "cell_type": "code",
   "execution_count": null,
   "metadata": {},
   "outputs": [],
   "source": []
  }
 ],
 "metadata": {
  "kernelspec": {
   "display_name": "Python 3",
   "language": "python",
   "name": "python3"
  },
  "language_info": {
   "codemirror_mode": {
    "name": "ipython",
    "version": 3
   },
   "file_extension": ".py",
   "mimetype": "text/x-python",
   "name": "python",
   "nbconvert_exporter": "python",
   "pygments_lexer": "ipython3",
   "version": "3.7.4"
  }
 },
 "nbformat": 4,
 "nbformat_minor": 2
}
