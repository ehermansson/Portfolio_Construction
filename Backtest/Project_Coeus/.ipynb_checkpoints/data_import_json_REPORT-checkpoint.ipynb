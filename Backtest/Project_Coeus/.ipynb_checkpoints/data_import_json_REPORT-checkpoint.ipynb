{
 "cells": [
  {
   "cell_type": "code",
   "execution_count": 15,
   "metadata": {},
   "outputs": [],
   "source": [
    "from requests import get\n",
    "from json import loads\n",
    "from time import sleep\n",
    "from typing import List\n",
    "from borsdata_sdk.models.Instrument import Instrument\n",
    "from borsdata_sdk.models.Market import Market\n",
    "import pandas as pd\n",
    "from http import HTTPStatus\n",
    "from borsdata_sdk import BorsdataAPI\n",
    "import borsdata_sdk\n",
    "import requests\n",
    "from pandas.io.json import json_normalize\n",
    "import numpy as np"
   ]
  },
  {
   "cell_type": "code",
   "execution_count": 16,
   "metadata": {},
   "outputs": [],
   "source": [
    "auth_key = 'f4e8e3c7c46c4c34ae238a1822863410'\n",
    "\n",
    "RATE_LIMIT = 429\n",
    "borsdata = BorsdataAPI(auth_key)\n",
    "instruments = borsdata.get_instruments()"
   ]
  },
  {
   "cell_type": "code",
   "execution_count": 17,
   "metadata": {},
   "outputs": [],
   "source": [
    "my_list = []\n",
    "for i in range(len(instruments)):\n",
    "    tmp_list = [instruments[i].insId,instruments[i].name,instruments[i].countryId,instruments[i].sectorId,instruments[i].marketId,instruments[i].instrument]\n",
    "    my_list.append(tmp_list)\n",
    "\n",
    "instruments_df=pd.DataFrame(my_list,columns=['insID','Name','countryId','sectorId', 'marketId', 'instrument']) \n",
    "\n",
    "# Rename the lists to the real names\n",
    "# MarketId: 1 = Large Cap, 2 = Mid Cap, 3=Small Cap, 4=First North\n",
    "\n",
    "swe_stock_main = instruments_df[(instruments_df['countryId'] == 1) & (instruments_df['instrument'] == 0) & (instruments_df['marketId'].isin([1,2,3, 4]))]"
   ]
  },
  {
   "cell_type": "markdown",
   "metadata": {},
   "source": [
    "### TEST WITH JSON\n",
    "\n",
    "- stack reports"
   ]
  },
  {
   "cell_type": "code",
   "execution_count": 18,
   "metadata": {},
   "outputs": [],
   "source": [
    "URL = \"https://apiservice.borsdata.se/v1/instruments/2/reports?authKey=f4e8e3c7c46c4c34ae238a1822863410&maxQuarterCount=40\"\n",
    "response = requests.get(URL)\n",
    "#tmp_df = json_normalize(response.json(), record_path ='reportsR12')"
   ]
  },
  {
   "cell_type": "code",
   "execution_count": 25,
   "metadata": {},
   "outputs": [],
   "source": [
    "#insID = 2\n",
    "#swe_stock_main['insID'].values:\n",
    "\n",
    "#REPORTS_df = pd.DataFrame(columns=['d', 'insID','h','l','c','o','v'])\n",
    "#REPORTS_df = REPORTS_df.set_index(['d', 'insID'])\n",
    "REPORTS_df = pd.DataFrame()\n",
    "\n",
    "for ins in swe_stock_main['insID'].values:\n",
    "    sleep(1) \n",
    "    \n",
    "    q_URL = \"https://apiservice.borsdata.se/v1/instruments/\"+str(ins)+\"/reports?authKey=f4e8e3c7c46c4c34ae238a1822863410&maxQuarterCount=40\"\n",
    "    y_URL = \"https://apiservice.borsdata.se/v1/instruments/\"+str(ins)+\"/reports?authKey=f4e8e3c7c46c4c34ae238a1822863410&maxYearCount=40\"\n",
    "    r12_URL = \"https://apiservice.borsdata.se/v1/instruments/\"+str(ins)+\"/reports?authKey=f4e8e3c7c46c4c34ae238a1822863410&maxR12Count=40\"\n",
    "    q_response = requests.get(q_URL)\n",
    "    y_response = requests.get(y_URL)\n",
    "    r12_response = requests.get(r12_URL)\n",
    "\n",
    "    R12_tmp = json_normalize(r12_response.json(), record_path ='reportsR12')\n",
    "    #if report date is missing, set first day of next year\n",
    "    R12_tmp.loc[R12_tmp['report_Date'].isna(),'report_Date'] = pd.to_datetime(R12_tmp[R12_tmp['report_Date'].isna()]['year']+1,format=\"%Y\")\n",
    "    \n",
    "    R12_tmp['report_Date'] = pd.to_datetime(R12_tmp['report_Date'])\n",
    "    R12_tmp['d'] = pd.to_datetime(R12_tmp['report_Date'])\n",
    "    R12_tmp['insID'] = ins\n",
    "    R12_tmp = R12_tmp.set_index(['d', 'insID'])\n",
    "    \n",
    "    yearly_tmp = json_normalize(y_response.json(), record_path ='reportsYear')\n",
    "    #if report date is missing, set first day of next year\n",
    "    yearly_tmp.loc[yearly_tmp['report_Date'].isna(),'report_Date'] = pd.to_datetime(yearly_tmp[yearly_tmp['report_Date'].isna()]['year']+1,format=\"%Y\")\n",
    "    \n",
    "    yearly_tmp['report_Date'] = pd.to_datetime(yearly_tmp['report_Date'])\n",
    "    yearly_tmp['d'] = pd.to_datetime(yearly_tmp['report_Date'])\n",
    "    yearly_tmp['insID'] = ins\n",
    "    yearly_tmp = yearly_tmp.set_index(['d', 'insID'])\n",
    "    \n",
    "    quarter_tmp = json_normalize(q_response.json(), record_path ='reportsYear')\n",
    "    #if report date is missing, set first day of next year\n",
    "    quarter_tmp.loc[quarter_tmp['report_Date'].isna(),'report_Date'] = pd.to_datetime(quarter_tmp[quarter_tmp['report_Date'].isna()]['year']+1,format=\"%Y\")\n",
    "    \n",
    "    quarter_tmp['report_Date'] = pd.to_datetime(quarter_tmp['report_Date'])\n",
    "    quarter_tmp['d'] = pd.to_datetime(quarter_tmp['report_Date'])\n",
    "    quarter_tmp['insID'] = ins\n",
    "    quarter_tmp = quarter_tmp.set_index(['d', 'insID'])\n",
    "    quarter_tmp.columns = quarter_tmp.columns + \"_quarter\"\n",
    "    \n",
    "    full_report_tmp = pd.concat([R12_tmp,yearly_tmp, quarter_tmp], sort=True)\n",
    "    REPORTS_df = pd.concat([REPORTS_df,full_report_tmp], sort=True) \n",
    "    \n",
    "REPORTS_df = REPORTS_df.sort_index() "
   ]
  },
  {
   "cell_type": "code",
   "execution_count": 26,
   "metadata": {},
   "outputs": [],
   "source": [
    "SAVE = 'YES'\n",
    "\n",
    "if SAVE == 'YES':\n",
    "    REPORTS_df.to_csv(\"data/SWE_REPORTS.csv\")"
   ]
  }
 ],
 "metadata": {
  "kernelspec": {
   "display_name": "Python 3",
   "language": "python",
   "name": "python3"
  },
  "language_info": {
   "codemirror_mode": {
    "name": "ipython",
    "version": 3
   },
   "file_extension": ".py",
   "mimetype": "text/x-python",
   "name": "python",
   "nbconvert_exporter": "python",
   "pygments_lexer": "ipython3",
   "version": "3.7.4"
  }
 },
 "nbformat": 4,
 "nbformat_minor": 2
}
