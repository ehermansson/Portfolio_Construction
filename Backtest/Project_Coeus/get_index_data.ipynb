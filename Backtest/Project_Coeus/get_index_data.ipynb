{
 "cells": [
  {
   "cell_type": "code",
   "execution_count": 1,
   "metadata": {},
   "outputs": [],
   "source": [
    "from requests import get\n",
    "from json import loads\n",
    "from time import sleep\n",
    "from typing import List\n",
    "from borsdata_sdk.models.Instrument import Instrument\n",
    "from borsdata_sdk.models.Market import Market\n",
    "import pandas as pd\n",
    "from http import HTTPStatus\n",
    "from borsdata_sdk import BorsdataAPI\n",
    "import borsdata_sdk\n",
    "import requests\n",
    "from pandas.io.json import json_normalize"
   ]
  },
  {
   "cell_type": "code",
   "execution_count": 2,
   "metadata": {},
   "outputs": [],
   "source": [
    "auth_key = 'f4e8e3c7c46c4c34ae238a1822863410'\n",
    "\n",
    "RATE_LIMIT = 429\n",
    "borsdata = BorsdataAPI(auth_key)\n",
    "instruments = borsdata.get_instruments()"
   ]
  },
  {
   "cell_type": "code",
   "execution_count": 3,
   "metadata": {},
   "outputs": [],
   "source": [
    "my_list = []\n",
    "for i in range(len(instruments)):\n",
    "    tmp_list = [instruments[i].insId,instruments[i].name,instruments[i].countryId,instruments[i].sectorId,instruments[i].marketId,instruments[i].instrument]\n",
    "    my_list.append(tmp_list)\n",
    "\n",
    "instruments_df=pd.DataFrame(my_list,columns=['insID','Name','countryId','sectorId', 'marketId', 'instrument']) \n",
    "\n",
    "# Rename the lists to the real names\n",
    "# MarketId: 1 = Large Cap, 2 = Mid Cap, 3=Small Cap, 4=First North\n",
    "\n",
    "swe_stock_main = instruments_df[(instruments_df['countryId'] == 1) & (instruments_df['instrument'] == 0) & (instruments_df['marketId'].isin([1,2,3, 4]))]"
   ]
  },
  {
   "cell_type": "code",
   "execution_count": 4,
   "metadata": {},
   "outputs": [
    {
     "data": {
      "text/html": [
       "<div>\n",
       "<style scoped>\n",
       "    .dataframe tbody tr th:only-of-type {\n",
       "        vertical-align: middle;\n",
       "    }\n",
       "\n",
       "    .dataframe tbody tr th {\n",
       "        vertical-align: top;\n",
       "    }\n",
       "\n",
       "    .dataframe thead th {\n",
       "        text-align: right;\n",
       "    }\n",
       "</style>\n",
       "<table border=\"1\" class=\"dataframe\">\n",
       "  <thead>\n",
       "    <tr style=\"text-align: right;\">\n",
       "      <th></th>\n",
       "      <th>insID</th>\n",
       "      <th>Name</th>\n",
       "      <th>countryId</th>\n",
       "      <th>sectorId</th>\n",
       "      <th>marketId</th>\n",
       "      <th>instrument</th>\n",
       "    </tr>\n",
       "  </thead>\n",
       "  <tbody>\n",
       "    <tr>\n",
       "      <th>448</th>\n",
       "      <td>637</td>\n",
       "      <td>Omx Sthlm 30 GI</td>\n",
       "      <td>1</td>\n",
       "      <td>NaN</td>\n",
       "      <td>7</td>\n",
       "      <td>2</td>\n",
       "    </tr>\n",
       "  </tbody>\n",
       "</table>\n",
       "</div>"
      ],
      "text/plain": [
       "     insID             Name  countryId  sectorId  marketId  instrument\n",
       "448    637  Omx Sthlm 30 GI          1       NaN         7           2"
      ]
     },
     "execution_count": 4,
     "metadata": {},
     "output_type": "execute_result"
    }
   ],
   "source": [
    "instruments_df[instruments_df['Name']=='Omx Sthlm 30 GI']"
   ]
  },
  {
   "cell_type": "code",
   "execution_count": 5,
   "metadata": {},
   "outputs": [
    {
     "name": "stderr",
     "output_type": "stream",
     "text": [
      "/opt/anaconda3/lib/python3.7/site-packages/ipykernel_launcher.py:3: FutureWarning: pandas.io.json.json_normalize is deprecated, use pandas.json_normalize instead\n",
      "  This is separate from the ipykernel package so we can avoid doing imports until\n"
     ]
    }
   ],
   "source": [
    "URL = \"https://apiservice.borsdata.se/v1/instruments/\"  + str(637) + \"/stockprices/?authKey=f4e8e3c7c46c4c34ae238a1822863410&maxCount=20\"\n",
    "response = requests.get(URL)\n",
    "tmp_df = json_normalize(response.json(), record_path ='stockPricesList')"
   ]
  },
  {
   "cell_type": "code",
   "execution_count": 6,
   "metadata": {},
   "outputs": [],
   "source": [
    "tmp_df.to_csv(\"data/OMX_GI.csv\")"
   ]
  },
  {
   "cell_type": "code",
   "execution_count": null,
   "metadata": {},
   "outputs": [],
   "source": []
  }
 ],
 "metadata": {
  "kernelspec": {
   "display_name": "Python 3",
   "language": "python",
   "name": "python3"
  },
  "language_info": {
   "codemirror_mode": {
    "name": "ipython",
    "version": 3
   },
   "file_extension": ".py",
   "mimetype": "text/x-python",
   "name": "python",
   "nbconvert_exporter": "python",
   "pygments_lexer": "ipython3",
   "version": "3.7.4"
  }
 },
 "nbformat": 4,
 "nbformat_minor": 2
}
