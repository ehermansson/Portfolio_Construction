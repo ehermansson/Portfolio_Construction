{
 "cells": [
  {
   "cell_type": "code",
   "execution_count": 1,
   "metadata": {},
   "outputs": [
    {
     "name": "stderr",
     "output_type": "stream",
     "text": [
      "/opt/anaconda3/lib/python3.7/site-packages/requests/__init__.py:91: RequestsDependencyWarning: urllib3 (1.26.8) or chardet (3.0.4) doesn't match a supported version!\n",
      "  RequestsDependencyWarning)\n"
     ]
    }
   ],
   "source": [
    "import yfinance as yf \n",
    "\n",
    "import pandas as pd\n",
    "from matplotlib import pylab as plt\n",
    "import numpy as np\n",
    "from datetime import datetime\n",
    "import math\n",
    "from time import sleep\n",
    "import quandl\n",
    "import seaborn as sns\n",
    "import sys\n",
    "from scipy.stats import norm\n",
    "from sklearn.linear_model import LinearRegression\n",
    "import sys\n",
    "from scipy.stats import norm\n",
    "import ezodf\n",
    "import scipy.optimize as sco\n",
    "import scipy\n",
    "import re\n",
    "import os.path\n",
    "from tqdm import tqdm"
   ]
  },
  {
   "cell_type": "markdown",
   "metadata": {},
   "source": [
    "## Functions\n"
   ]
  },
  {
   "cell_type": "code",
   "execution_count": 2,
   "metadata": {},
   "outputs": [],
   "source": [
    "# FUNCTIONS FOR VIEWING SINGLE COMPANY RANKINGS \n",
    "\n",
    "def company(company):\n",
    "    for i in data['Company']:\n",
    "        if company in i or company in i.lower():\n",
    "            return data.loc[data['Company'] == i]\n",
    "    print('No company found')\n",
    "    \n",
    "def Company(company):\n",
    "    for i in data['Company']:\n",
    "        if company in i or company in i.lower():\n",
    "            stock = data.loc[data['Company'] == i]\n",
    "            stock = stock[compact]\n",
    "            return stock\n",
    "    print('No company found')"
   ]
  },
  {
   "cell_type": "code",
   "execution_count": 3,
   "metadata": {},
   "outputs": [],
   "source": [
    "def mod_Z_score(data):\n",
    "    mean = np.mean(data.iloc[:-1])\n",
    "    deviation_from_med = np.array(data.iloc[:-1]) - mean\n",
    "    MAD = np.mean(np.abs(deviation_from_med))\n",
    "    mod_Z = (data[-1:] - mean)/(MAD * 1.4826)\n",
    "    return mod_Z"
   ]
  },
  {
   "cell_type": "markdown",
   "metadata": {},
   "source": [
    "## Data Import and Wrangling\n"
   ]
  },
  {
   "cell_type": "code",
   "execution_count": 7,
   "metadata": {},
   "outputs": [],
   "source": [
    "# IMPORT LATEST DATA \n",
    "\n",
    "folder = \"../equity_data/\"\n",
    "file_name = \"Borsdata_2022-02-26.xlsx\"\n",
    "\n",
    "data_tmp = pd.read_excel(os.path.join(folder, file_name), sheet_name=\"Export\")\n",
    "data_tmp = data_tmp[1:]\n",
    "\n",
    "data_tmp = data_tmp.rename({'Performance - Perform. 3m' : 'Return 3m','Performance - Perform. 6m' : 'Return 6m',\n",
    "                            'Total Return - Return 1y' : 'Return 1y',\n",
    "                            'Div. Yield - Current': 'Yield', \n",
    "                            'Total Equity  - Millions':'Total Equity', 'FCF - Millions': 'FCF','ROE - Current':'ROE',\n",
    "                            'Volatility - St.Dev. 100d':'Volatility','Market Cap - Current': 'Market Cap', \n",
    "                            'ROC - Current':'ROC', 'Tot. Assets - Millions':'Tot. Assets', \n",
    "                            'Gross profit - Millions':'Gross profit', 'Assets Turn - Current': 'Assets Turn',\n",
    "                            'P/FCF - Current':'P/FCF', 'P/E - Current':'P/E', 'P/S - Current':'P/S',\n",
    "                            'P/B - Current':'P/B','EV/EBIT - Current':'EV/EBIT',\n",
    "                            'Info - Country' : 'Country','F-Score - Point':'F-Score',\n",
    "                            'Info - List' : 'List', 'Info - Sector' : 'Sector', 'Info - Industry' : 'Industry',\n",
    "                            'Info - Ticker' : 'Tick', 'Info - Yahoo':'Yahoo', 'Info - Last Report': 'Last Report',\n",
    "                           'Volume - Average 50d Mill' : 'Volume', 'Tot. Assets - Growth 1y' : 'Asset Growth'}, axis=1)\n",
    "\n",
    "# FORMAT FOR VIEWING PLEASURE\n",
    "pd.set_option(\"display.max_rows\", None, \"display.max_columns\", None)\n",
    "pd.options.display.float_format = \"{:,.2f}\".format"
   ]
  },
  {
   "cell_type": "code",
   "execution_count": 9,
   "metadata": {},
   "outputs": [],
   "source": [
    "# MAKE NUMBERS FLOATS \n",
    "\n",
    "data_tmp['Market Cap'] = data_tmp['Market Cap'].replace(',', '') # remove , as 1000 separator\n",
    "\n",
    "param_list = ['P/E', 'EV/EBIT', 'P/FCF', 'P/S', 'P/B', 'Assets Turn', 'Gross profit', 'Tot. Assets', 'ROC', 'Yield', 'Market Cap', 'Volatility',\n",
    "        'ROC', 'ROE', 'FCF', 'Total Equity', \n",
    "        'Return 3m', 'Return 6m', 'Return 1y', 'Asset Growth']\n",
    "\n",
    "for i in param_list: \n",
    "    data_tmp[i] = pd.to_numeric(data_tmp[i]) # make every number numeric\n",
    "\n",
    "\n",
    "data_tmp['FCFROE'] = data_tmp['FCF']/data_tmp['Total Equity'] # calc FCFROE\n",
    "data_tmp['GPA'] = data_tmp['Gross profit']/data_tmp['Tot. Assets']\n",
    "\n",
    "\n",
    "data_tmp.loc[(data_tmp['Total Equity'] < 0), ['ROE', 'FCFROE', 'P/B']] = np.nan"
   ]
  },
  {
   "cell_type": "code",
   "execution_count": 10,
   "metadata": {},
   "outputs": [],
   "source": [
    "### FILTER DATA FOR VOLUME, LIST AND MARKET CAP\n",
    "\n",
    "data_tmp = data_tmp.loc[data_tmp['Market Cap'] > 400] #Market cap filter\n",
    "\n",
    "\n",
    "data_tmp = data_tmp.loc[ (data_tmp['List'] != 'Spotlight') \n",
    "                        & (data_tmp['List'] != 'NGM')]\n",
    "\n",
    "#Volume Filter\n",
    "data_tmp = data_tmp.loc[data_tmp['Volume'] > 0.5] \n",
    "\n",
    "# Set to dattime\n",
    "data_tmp['Last Report'] = pd.to_datetime(data_tmp['Last Report'])\n",
    "\n",
    "#set new index\n",
    "data_tmp.index = range(len(data_tmp.index))"
   ]
  },
  {
   "cell_type": "code",
   "execution_count": 12,
   "metadata": {},
   "outputs": [
    {
     "name": "stdout",
     "output_type": "stream",
     "text": [
      "Companies in data:  457\n",
      "Missing Report Dates:  13\n"
     ]
    }
   ],
   "source": [
    "print(\"Companies in data: \",len(data_tmp))\n",
    "print(\"Missing Report Dates: \",sum(data_tmp['Last Report'].isna()))\n",
    "\n"
   ]
  },
  {
   "cell_type": "markdown",
   "metadata": {},
   "source": [
    "## Calculate Price Based Data from Yahoo Finance"
   ]
  },
  {
   "cell_type": "code",
   "execution_count": 13,
   "metadata": {},
   "outputs": [],
   "source": [
    "## Get PEAD\n",
    "IMPORT_DATE = '2020-01-01'\n",
    "data_tmp[\"EA ret\"] = np.nan\n",
    "data_tmp[\"EA ret std\"] = np.nan\n",
    "data_tmp['1 Year Volatility'] = np.nan\n",
    "data_tmp['1 Year MAD'] = np.nan\n",
    "\n",
    "##TEST\n",
    "#data_tmp['1 Year Ret'] = np.nan\n",
    "\n",
    "index = yf.download('^OMXSPI',start='2020-01-01', threads = False, progress = False)\n",
    "index = index['Close']\n",
    "\n",
    "error_count = 0\n",
    "error_list = []"
   ]
  },
  {
   "cell_type": "code",
   "execution_count": 14,
   "metadata": {
    "scrolled": true
   },
   "outputs": [
    {
     "name": "stderr",
     "output_type": "stream",
     "text": [
      " 37%|███▋      | 168/457 [00:50<01:10,  4.10it/s]"
     ]
    },
    {
     "name": "stdout",
     "output_type": "stream",
     "text": [
      "\n",
      "1 Failed download:\n",
      "- FLAT-B-ST: No data found, symbol may be delisted\n"
     ]
    },
    {
     "name": "stderr",
     "output_type": "stream",
     "text": [
      " 49%|████▊     | 222/457 [01:07<01:08,  3.42it/s]"
     ]
    },
    {
     "name": "stdout",
     "output_type": "stream",
     "text": [
      "\n",
      "1 Failed download:\n",
      "- SPLTN.ST: No data found, symbol may be delisted\n"
     ]
    },
    {
     "name": "stderr",
     "output_type": "stream",
     "text": [
      " 80%|███████▉  | 364/457 [01:53<01:17,  1.19it/s]"
     ]
    },
    {
     "name": "stdout",
     "output_type": "stream",
     "text": [
      "\n",
      "1 Failed download:\n",
      "- SDIP.ST: No data found, symbol may be delisted\n"
     ]
    },
    {
     "name": "stderr",
     "output_type": "stream",
     "text": [
      "100%|██████████| 457/457 [03:41<00:00,  2.07it/s]\n"
     ]
    }
   ],
   "source": [
    "for i in tqdm(range(len(data_tmp))):\n",
    "    try:\n",
    "        stock = yf.download(data_tmp.iloc[i]['Yahoo'],start=IMPORT_DATE, progress = False, threads = False)\n",
    "        stock = stock['Adj Close']\n",
    "        import_data = pd.concat([stock, index], axis = 1)\n",
    "        import_data.columns = ['stock', 'index']\n",
    "        import_data = import_data.dropna()\n",
    "        \n",
    "        # get index of date of report\n",
    "        if pd.isna(data_tmp.iloc[i]['Last Report']) == False:\n",
    "            idx = import_data.index.get_loc(data_tmp.iloc[i]['Last Report'], method='nearest')\n",
    "            EA_data = import_data.iloc[idx - 2 : idx +2 ]\n",
    "        \n",
    "            stock_idx = stock.index.get_loc(data_tmp.iloc[i]['Last Report'], method='nearest')\n",
    "        \n",
    "            EA_ret = (EA_data.pct_change().dropna()+1).cumprod().tail(1)\n",
    "            pead_ret = float(EA_ret['stock'] - EA_ret['index'])\n",
    "            data_tmp.loc[i,\"EA ret\"]= pead_ret\n",
    "            data_tmp.loc[i, 'EA Volatility'] = np.log(stock.iloc[:idx]/stock.iloc[:idx].shift()).tail(60).std()*252**.5\n",
    "        else:\n",
    "            data_tmp.loc[i,\"EA ret\"]= np.nan\n",
    "            data_tmp.loc[i, 'EA Volatility'] = np.nan\n",
    "        \n",
    "        \n",
    "        #Get MAD of stock\n",
    "        data_tmp.loc[i,\"1 Year MAD\"]= np.log(stock/stock.shift()).tail(252).mad()*252**.5*1.25\n",
    "        # Get volatility of stock\n",
    "        data_tmp.loc[i,\"1 Year Volatility\"]= np.log(stock/stock.shift()).tail(252).std()*252**.5 \n",
    "        \n",
    "        #data_tmp.loc[i,\"1 Year Ret\"] = stock.pct_change(252).tail(1).values[0]\n",
    "    \n",
    "    \n",
    "    except:\n",
    "        #data_tmp.loc[i,\"EA ret\"]= np.nan\n",
    "        #print(\"ERROR! INDEX: \", i, ', TICKER: ', data_tmp.iloc[i]['Yahoo'])\n",
    "        error_count = error_count + 1\n",
    "        error_list.append(i)\n",
    "    \n",
    "    "
   ]
  },
  {
   "cell_type": "code",
   "execution_count": 15,
   "metadata": {
    "scrolled": true
   },
   "outputs": [
    {
     "name": "stdout",
     "output_type": "stream",
     "text": [
      "Amount of Errors:  3\n",
      "Missing EA rets:  16\n",
      "Missing EA volatility:  16\n",
      "Missing 1 Year volatility:  3\n"
     ]
    }
   ],
   "source": [
    "### NA ANALYTICS\n",
    "print(\"Amount of Errors: \",error_count )\n",
    "print(\"Missing EA rets: \",sum(data_tmp[\"EA ret\"].isna()) )\n",
    "print(\"Missing EA volatility: \",sum(data_tmp[\"EA Volatility\"].isna()) )\n",
    "print(\"Missing 1 Year volatility: \",sum(data_tmp[\"1 Year Volatility\"].isna()))"
   ]
  },
  {
   "cell_type": "code",
   "execution_count": 16,
   "metadata": {
    "scrolled": false
   },
   "outputs": [
    {
     "data": {
      "text/html": [
       "<div>\n",
       "<style scoped>\n",
       "    .dataframe tbody tr th:only-of-type {\n",
       "        vertical-align: middle;\n",
       "    }\n",
       "\n",
       "    .dataframe tbody tr th {\n",
       "        vertical-align: top;\n",
       "    }\n",
       "\n",
       "    .dataframe thead th {\n",
       "        text-align: right;\n",
       "    }\n",
       "</style>\n",
       "<table border=\"1\" class=\"dataframe\">\n",
       "  <thead>\n",
       "    <tr style=\"text-align: right;\">\n",
       "      <th></th>\n",
       "      <th>Company</th>\n",
       "      <th>Yahoo</th>\n",
       "      <th>Last Report</th>\n",
       "      <th>EA ret</th>\n",
       "    </tr>\n",
       "  </thead>\n",
       "  <tbody>\n",
       "    <tr>\n",
       "      <th>18</th>\n",
       "      <td>Aligro Planet SPAC</td>\n",
       "      <td>APAC-SPAC-A.ST</td>\n",
       "      <td>NaT</td>\n",
       "      <td>NaN</td>\n",
       "    </tr>\n",
       "    <tr>\n",
       "      <th>80</th>\n",
       "      <td>Byggfakta</td>\n",
       "      <td>BFG.ST</td>\n",
       "      <td>NaT</td>\n",
       "      <td>NaN</td>\n",
       "    </tr>\n",
       "    <tr>\n",
       "      <th>89</th>\n",
       "      <td>Case Group</td>\n",
       "      <td>CASE.ST</td>\n",
       "      <td>NaT</td>\n",
       "      <td>NaN</td>\n",
       "    </tr>\n",
       "    <tr>\n",
       "      <th>121</th>\n",
       "      <td>Devyser Diagnostics</td>\n",
       "      <td>DVYSR.ST</td>\n",
       "      <td>NaT</td>\n",
       "      <td>NaN</td>\n",
       "    </tr>\n",
       "    <tr>\n",
       "      <th>167</th>\n",
       "      <td>Flat Capital</td>\n",
       "      <td>FLAT-B-ST</td>\n",
       "      <td>2022-02-16</td>\n",
       "      <td>NaN</td>\n",
       "    </tr>\n",
       "    <tr>\n",
       "      <th>197</th>\n",
       "      <td>Hilbert Group</td>\n",
       "      <td>HILB-B.ST</td>\n",
       "      <td>NaT</td>\n",
       "      <td>NaN</td>\n",
       "    </tr>\n",
       "    <tr>\n",
       "      <th>221</th>\n",
       "      <td>Investment AB Spiltan</td>\n",
       "      <td>SPLTN.ST</td>\n",
       "      <td>2022-01-28</td>\n",
       "      <td>NaN</td>\n",
       "    </tr>\n",
       "    <tr>\n",
       "      <th>245</th>\n",
       "      <td>KlaraBo</td>\n",
       "      <td>KLARA-B.ST</td>\n",
       "      <td>NaT</td>\n",
       "      <td>NaN</td>\n",
       "    </tr>\n",
       "    <tr>\n",
       "      <th>255</th>\n",
       "      <td>Logistea B</td>\n",
       "      <td>LOGI-B.ST</td>\n",
       "      <td>NaT</td>\n",
       "      <td>NaN</td>\n",
       "    </tr>\n",
       "    <tr>\n",
       "      <th>306</th>\n",
       "      <td>Norva24</td>\n",
       "      <td>NORVA.ST</td>\n",
       "      <td>NaT</td>\n",
       "      <td>NaN</td>\n",
       "    </tr>\n",
       "    <tr>\n",
       "      <th>326</th>\n",
       "      <td>Pfizer</td>\n",
       "      <td>PFE.ST</td>\n",
       "      <td>NaT</td>\n",
       "      <td>NaN</td>\n",
       "    </tr>\n",
       "    <tr>\n",
       "      <th>363</th>\n",
       "      <td>Sdiptech</td>\n",
       "      <td>SDIP.ST</td>\n",
       "      <td>2022-02-10</td>\n",
       "      <td>NaN</td>\n",
       "    </tr>\n",
       "    <tr>\n",
       "      <th>383</th>\n",
       "      <td>Smart Wires</td>\n",
       "      <td>GOGRID-SDB.ST</td>\n",
       "      <td>NaT</td>\n",
       "      <td>NaN</td>\n",
       "    </tr>\n",
       "    <tr>\n",
       "      <th>385</th>\n",
       "      <td>Solid Försäkring</td>\n",
       "      <td>SFAB.ST</td>\n",
       "      <td>NaT</td>\n",
       "      <td>NaN</td>\n",
       "    </tr>\n",
       "    <tr>\n",
       "      <th>420</th>\n",
       "      <td>Titania</td>\n",
       "      <td>TITA-B.ST</td>\n",
       "      <td>NaT</td>\n",
       "      <td>NaN</td>\n",
       "    </tr>\n",
       "    <tr>\n",
       "      <th>422</th>\n",
       "      <td>Tobii Dynavox</td>\n",
       "      <td>TDVOX.ST</td>\n",
       "      <td>NaT</td>\n",
       "      <td>NaN</td>\n",
       "    </tr>\n",
       "  </tbody>\n",
       "</table>\n",
       "</div>"
      ],
      "text/plain": [
       "                   Company           Yahoo Last Report  EA ret\n",
       "18      Aligro Planet SPAC  APAC-SPAC-A.ST         NaT     NaN\n",
       "80               Byggfakta          BFG.ST         NaT     NaN\n",
       "89              Case Group         CASE.ST         NaT     NaN\n",
       "121    Devyser Diagnostics        DVYSR.ST         NaT     NaN\n",
       "167           Flat Capital       FLAT-B-ST  2022-02-16     NaN\n",
       "197          Hilbert Group       HILB-B.ST         NaT     NaN\n",
       "221  Investment AB Spiltan        SPLTN.ST  2022-01-28     NaN\n",
       "245                KlaraBo      KLARA-B.ST         NaT     NaN\n",
       "255             Logistea B       LOGI-B.ST         NaT     NaN\n",
       "306                Norva24        NORVA.ST         NaT     NaN\n",
       "326                 Pfizer          PFE.ST         NaT     NaN\n",
       "363               Sdiptech         SDIP.ST  2022-02-10     NaN\n",
       "383            Smart Wires   GOGRID-SDB.ST         NaT     NaN\n",
       "385       Solid Försäkring         SFAB.ST         NaT     NaN\n",
       "420                Titania       TITA-B.ST         NaT     NaN\n",
       "422          Tobii Dynavox        TDVOX.ST         NaT     NaN"
      ]
     },
     "execution_count": 16,
     "metadata": {},
     "output_type": "execute_result"
    }
   ],
   "source": [
    "## Show errors\n",
    "data_tmp[data_tmp['EA ret'].isna()][['Company', 'Yahoo', 'Last Report', 'EA ret']]"
   ]
  },
  {
   "cell_type": "markdown",
   "metadata": {},
   "source": [
    "### TESTING TICKERS ONCE AGAIN, RE ENTER FAILED TICKERS BY HAND"
   ]
  },
  {
   "cell_type": "code",
   "execution_count": 17,
   "metadata": {},
   "outputs": [],
   "source": [
    "##### TESTING TICKERS ONCE AGAIN, RE ENTER FAILED TICKERS BY HAND #####\n",
    "j = None\n",
    "if j != None:\n",
    "    stock = yf.download(data_tmp.iloc[j]['Yahoo'],start='2020-01-01', progress = False, threads = False)\n",
    "    stock = stock['Close']\n",
    "    import_data = pd.concat([stock, index], axis = 1)\n",
    "    import_data.columns = ['stock', 'index']\n",
    "    import_data = import_data.dropna()\n",
    "\n",
    "    # get index of date of report\n",
    "    idx = import_data.index.get_loc(data_tmp.iloc[j]['Last Report'], method='nearest')\n",
    "    EA_data = import_data.iloc[idx - 2 : idx +2 ]\n",
    "\n",
    "    stock_idx = stock.index.get_loc(data_tmp.iloc[j]['Last Report'])\n",
    "\n",
    "    EA_ret = (EA_data.pct_change().dropna()+1).cumprod().tail(1)\n",
    "    pead_ret = float(EA_ret['stock'] - EA_ret['index'])\n",
    "    data_tmp.loc[j,\"EA ret\"]= pead_ret\n",
    "    data_tmp.loc[j, 'EA Volatility'] = np.log(stock.iloc[:idx]/stock.iloc[:idx].shift()).tail(60).std()*252**.5 \n",
    "    #Get MAD of stock\n",
    "    data_tmp.loc[j,\"1 Year MAD\"]= np.log(stock/stock.shift()).tail(252).mad()*252**.5*1.25\n",
    "    # Get volatility of stock\n",
    "    data_tmp.loc[j,\"1 Year Volatility\"]= np.log(stock/stock.shift()).tail(252).std()*252**.5"
   ]
  },
  {
   "cell_type": "code",
   "execution_count": 18,
   "metadata": {},
   "outputs": [],
   "source": [
    "# MANAGE NaNs and NEGATIVE EARNINGS  \n",
    "# set nan to min\n",
    "for i in ['Return 3m', 'Return 6m', 'Return 1y']:\n",
    "    data_tmp.loc[data_tmp[i].isna() ,i] = data_tmp[i].min()\n",
    "    \n",
    "data_tmp.loc[data_tmp['Volatility'].isna(),'Volatility'] = data_tmp['Volatility'].median()\n",
    "\n",
    "data_tmp.loc[data_tmp['EA ret'].isna(),'EA ret'] = data_tmp['EA ret'].median()\n",
    "data_tmp.loc[data_tmp['EA Volatility'].isna(),'EA Volatility'] = data_tmp['Volatility'].median()/100\n",
    "\n",
    "#Impute 100 day volatility for NANs\n",
    "data_tmp.loc[data_tmp['1 Year Volatility'].isna(),'1 Year Volatility'] = data_tmp.loc[data_tmp['1 Year Volatility'].isna(),'Volatility']/100\n",
    "\n",
    "#Impute median for NAN MAD\n",
    "data_tmp.loc[data_tmp['1 Year MAD'].isna(),'1 Year MAD'] = data_tmp['1 Year MAD'].median()"
   ]
  },
  {
   "cell_type": "code",
   "execution_count": 19,
   "metadata": {},
   "outputs": [],
   "source": [
    "## Impute EA std and calculate EA STD after everything has been imputed\n",
    "data_tmp[\"EA ret std\"] = data_tmp[\"EA ret\"]/((data_tmp[\"EA Volatility\"]*np.sqrt(3))/np.sqrt(252))\n",
    "\n",
    "#Impute median for NAN EA STD\n",
    "data_tmp.loc[data_tmp['EA ret std'].isna(),'EA ret std'] = data_tmp['EA ret std'].median()"
   ]
  },
  {
   "cell_type": "code",
   "execution_count": 20,
   "metadata": {},
   "outputs": [],
   "source": [
    "### SAVE cleaned file into a CSV\n",
    "save = \"YES\"\n",
    "if save == \"YES\":\n",
    "    data_date  = re.search(r'\\d{4}-\\d{2}-\\d{2}', file_name)\n",
    "    folder = '../clean_equity_data'\n",
    "    exp_file_name = \"clean_data_{}\".format(data_date.group(0))+ \".csv\"\n",
    "    data_tmp.to_csv(os.path.join(folder, exp_file_name))"
   ]
  },
  {
   "cell_type": "code",
   "execution_count": null,
   "metadata": {},
   "outputs": [],
   "source": []
  }
 ],
 "metadata": {
  "kernelspec": {
   "display_name": "Python 3",
   "language": "python",
   "name": "python3"
  },
  "language_info": {
   "codemirror_mode": {
    "name": "ipython",
    "version": 3
   },
   "file_extension": ".py",
   "mimetype": "text/x-python",
   "name": "python",
   "nbconvert_exporter": "python",
   "pygments_lexer": "ipython3",
   "version": "3.7.4"
  }
 },
 "nbformat": 4,
 "nbformat_minor": 2
}
