{
 "cells": [
  {
   "cell_type": "code",
   "execution_count": 342,
   "metadata": {},
   "outputs": [],
   "source": [
    "import yfinance as yf \n",
    "import pandas as pd\n",
    "from matplotlib import pylab as plt\n",
    "import numpy as np\n",
    "from datetime import datetime\n",
    "import pytz\n",
    "\n",
    "import quandl\n",
    "\n",
    "import seaborn as sns\n"
   ]
  },
  {
   "cell_type": "code",
   "execution_count": 277,
   "metadata": {},
   "outputs": [],
   "source": [
    "def port_eval(port):\n",
    "    \n",
    "    port = pd.DataFrame(port)\n",
    "    port_ret = calc_port_ret(port)\n",
    "    vol = np.log(port_ret).std()*np.sqrt(252)\n",
    "    \n",
    "    Roll_Max = port.cummax()\n",
    "    Daily_Drawdown = port/Roll_Max - 1.0\n",
    "    Max_Daily_Drawdown = Daily_Drawdown.cummin()\n",
    "    Max_Daily_Drawdown = Max_Daily_Drawdown.tail(1)\n",
    "    \n",
    "    neg_ret = port_ret[port_ret<1].dropna()\n",
    "    sortino = np.log(neg_ret).std()*np.sqrt(252)\n",
    "    \n",
    "    cagr = port_ret.cumprod().tail(1)**(252/len(port_ret)) - 1\n",
    "    \n",
    "    MAR = cagr/Max_Daily_Drawdown\n",
    "    \n",
    "    metrics = pd.DataFrame({'': [float(cagr.iloc[0]), float(vol.iloc[0]), float(sortino.iloc[0]),\n",
    "                                   float(Max_Daily_Drawdown.iloc[0])]},\n",
    "                   index=['CAGR', 'Volatility', 'Sortino', 'Mad DD'])\n",
    "    \n",
    "    metrics = round(metrics*100, 2)\n",
    "    metrics = metrics.astype(str) + '%'\n",
    "    \n",
    "    return metrics "
   ]
  },
  {
   "cell_type": "code",
   "execution_count": 262,
   "metadata": {},
   "outputs": [],
   "source": [
    "def calc_port_ret(port):\n",
    "    port_ret = port/port.shift(1)\n",
    "    port_ret = port_ret.fillna(1)\n",
    "    \n",
    "    return port_ret"
   ]
  },
  {
   "cell_type": "markdown",
   "metadata": {},
   "source": [
    "# Backtesting Portfolio\n",
    "\n",
    "TODO:\n",
    "- "
   ]
  },
  {
   "cell_type": "code",
   "execution_count": 285,
   "metadata": {
    "scrolled": true
   },
   "outputs": [
    {
     "name": "stdout",
     "output_type": "stream",
     "text": [
      "[*********************100%***********************]  1 of 1 completed\n",
      "[*********************100%***********************]  1 of 1 completed\n"
     ]
    }
   ],
   "source": [
    "asset_1_tmp = yf.download(\"^GSPC\")\n",
    "#asset_2_tmp = yf.download(\"^VIX\")"
   ]
  },
  {
   "cell_type": "code",
   "execution_count": 301,
   "metadata": {},
   "outputs": [],
   "source": [
    "asset_2_tmp = quandl.get(\"LBMA/GOLD\", authtoken=\"6rNSyTM5R4g7_B7XSyQW\")"
   ]
  },
  {
   "cell_type": "code",
   "execution_count": 311,
   "metadata": {},
   "outputs": [],
   "source": [
    "asset_1 = asset_1_tmp['Close']\n",
    "#asset_2 = asset_2_tmp[\"Close\"]"
   ]
  },
  {
   "cell_type": "code",
   "execution_count": 312,
   "metadata": {},
   "outputs": [],
   "source": [
    "asset_2 = asset_2_tmp[\"USD (AM)\"]"
   ]
  },
  {
   "cell_type": "code",
   "execution_count": 313,
   "metadata": {},
   "outputs": [],
   "source": [
    "assets = pd.concat([asset_1, asset_2], axis = 1)\n",
    "assets.columns = ['Asset_1', 'Asset_2']\n",
    "assets = assets.ffill()\n",
    "assets = assets/assets.shift(1)\n",
    "assets = assets.dropna()"
   ]
  },
  {
   "cell_type": "code",
   "execution_count": 376,
   "metadata": {},
   "outputs": [
    {
     "data": {
      "text/plain": [
       "2"
      ]
     },
     "execution_count": 376,
     "metadata": {},
     "output_type": "execute_result"
    }
   ],
   "source": [
    "range(assets.shape[1])"
   ]
  },
  {
   "cell_type": "code",
   "execution_count": 370,
   "metadata": {},
   "outputs": [],
   "source": [
    "initial = 1\n",
    "rebalance_freq = 120\n",
    "tol = 0.01\n",
    "\n",
    "port = []\n",
    "\n",
    "w_1 = 0.7\n",
    "w_2 = 1-w_1\n",
    "\n",
    "asset_1 = initial * w_1\n",
    "asset_2 = initial * w_2\n",
    "\n",
    "port_w1=[]\n",
    "port_w2=[]\n",
    "\n",
    "for i in range(len(assets)):\n",
    "    port.append(initial)\n",
    "    port_w1.append(asset_1/initial)\n",
    "    port_w2.append(asset_2/initial)\n",
    "    \n",
    "    asset_1 = asset_1 * assets['Asset_1'].iloc[i]\n",
    "    asset_2 = asset_2 * assets['Asset_2'].iloc[i]\n",
    "    initial = asset_1 + asset_2\n",
    "    \n",
    "    \n",
    "    \n",
    "    \n",
    "    #if i%rebalance_freq == 0: \n",
    "    #    asset_1 = initial * w_1\n",
    "    #    asset_2 = initial * w_2\n",
    "        \n",
    "    \n",
    "\n",
    "    if abs(port_w1[i]- w_1) > tol:\n",
    "        asset_1 = initial * w_1\n",
    "        asset_2 = initial * w_2\n",
    "    \n",
    "    elif abs(port_w2[i]- w_2) > tol:\n",
    "        asset_1 = initial * w_1\n",
    "        asset_2 = initial * w_2\n",
    "\n",
    "        \n",
    "        \n",
    "port = pd.DataFrame(port)\n",
    "port.index = assets.index"
   ]
  },
  {
   "cell_type": "code",
   "execution_count": 371,
   "metadata": {},
   "outputs": [
    {
     "data": {
      "text/plain": [
       "[<matplotlib.lines.Line2D at 0x7ff622b71e90>]"
      ]
     },
     "execution_count": 371,
     "metadata": {},
     "output_type": "execute_result"
    },
    {
     "data": {
      "image/png": "[encoded data removed]",
      "text/plain": [
       "<Figure size 432x288 with 1 Axes>"
      ]
     },
     "metadata": {},
     "output_type": "display_data"
    }
   ],
   "source": [
    "plt.plot(port_w1)"
   ]
  },
  {
   "cell_type": "code",
   "execution_count": 372,
   "metadata": {
    "scrolled": true
   },
   "outputs": [],
   "source": [
    "port_ret = calc_port_ret(port)"
   ]
  },
  {
   "cell_type": "code",
   "execution_count": 373,
   "metadata": {},
   "outputs": [
    {
     "data": {
      "text/html": [
       "<div>\n",
       "<style scoped>\n",
       "    .dataframe tbody tr th:only-of-type {\n",
       "        vertical-align: middle;\n",
       "    }\n",
       "\n",
       "    .dataframe tbody tr th {\n",
       "        vertical-align: top;\n",
       "    }\n",
       "\n",
       "    .dataframe thead th {\n",
       "        text-align: right;\n",
       "    }\n",
       "</style>\n",
       "<table border=\"1\" class=\"dataframe\">\n",
       "  <thead>\n",
       "    <tr style=\"text-align: right;\">\n",
       "      <th></th>\n",
       "      <th></th>\n",
       "    </tr>\n",
       "  </thead>\n",
       "  <tbody>\n",
       "    <tr>\n",
       "      <td>CAGR</td>\n",
       "      <td>7.76%</td>\n",
       "    </tr>\n",
       "    <tr>\n",
       "      <td>Volatility</td>\n",
       "      <td>13.15%</td>\n",
       "    </tr>\n",
       "    <tr>\n",
       "      <td>Sortino</td>\n",
       "      <td>10.04%</td>\n",
       "    </tr>\n",
       "    <tr>\n",
       "      <td>Mad DD</td>\n",
       "      <td>-39.18%</td>\n",
       "    </tr>\n",
       "  </tbody>\n",
       "</table>\n",
       "</div>"
      ],
      "text/plain": [
       "                   \n",
       "CAGR          7.76%\n",
       "Volatility   13.15%\n",
       "Sortino      10.04%\n",
       "Mad DD      -39.18%"
      ]
     },
     "execution_count": 373,
     "metadata": {},
     "output_type": "execute_result"
    },
    {
     "data": {
      "image/png": "[encoded data removed]",
      "text/plain": [
       "<Figure size 432x288 with 1 Axes>"
      ]
     },
     "metadata": {},
     "output_type": "display_data"
    }
   ],
   "source": [
    "#sns.set()\n",
    "sns.set_style(\"darkgrid\")\n",
    "plt.plot(np.log(port), label = \"Portfolio\");\n",
    "plt.plot(np.log(assets['Asset_1'].cumprod()), label = \"Asset 1\");\n",
    "plt.plot(np.log(assets['Asset_2'].cumprod()), label = \"Asset 2\");\n",
    "\n",
    "plt.legend();\n",
    "\n",
    "port_eval(port)"
   ]
  },
  {
   "cell_type": "code",
   "execution_count": 374,
   "metadata": {
    "scrolled": true
   },
   "outputs": [
    {
     "name": "stdout",
     "output_type": "stream",
     "text": [
      "Asset 1:                    \n",
      "CAGR          6.76%\n",
      "Volatility   16.88%\n",
      "Sortino      13.68%\n",
      "Mad DD      -56.78%\n",
      "Asset 2:                   \n",
      "CAGR         7.62%\n",
      "Volatility  19.62%\n",
      "Sortino     15.06%\n",
      "Mad DD      -70.0%\n"
     ]
    }
   ],
   "source": [
    "print(\"Asset 1: \"+str(port_eval(assets['Asset_1'].cumprod())))\n",
    "print(\"Asset 2: \"+str(port_eval(assets['Asset_2'].cumprod())))"
   ]
  },
  {
   "cell_type": "code",
   "execution_count": 377,
   "metadata": {},
   "outputs": [],
   "source": [
    "W = [0.4, 0.3, ]"
   ]
  },
  {
   "cell_type": "code",
   "execution_count": 378,
   "metadata": {},
   "outputs": [
    {
     "data": {
      "text/plain": [
       "0.7"
      ]
     },
     "execution_count": 378,
     "metadata": {},
     "output_type": "execute_result"
    }
   ],
   "source": [
    "sum(W)"
   ]
  },
  {
   "cell_type": "code",
   "execution_count": 380,
   "metadata": {},
   "outputs": [
    {
     "data": {
      "text/plain": [
       "0.4"
      ]
     },
     "execution_count": 380,
     "metadata": {},
     "output_type": "execute_result"
    }
   ],
   "source": [
    "W[0]"
   ]
  },
  {
   "cell_type": "code",
   "execution_count": null,
   "metadata": {},
   "outputs": [],
   "source": []
  }
 ],
 "metadata": {
  "kernelspec": {
   "display_name": "Python 3",
   "language": "python",
   "name": "python3"
  },
  "language_info": {
   "codemirror_mode": {
    "name": "ipython",
    "version": 3
   },
   "file_extension": ".py",
   "mimetype": "text/x-python",
   "name": "python",
   "nbconvert_exporter": "python",
   "pygments_lexer": "ipython3",
   "version": "3.7.4"
  }
 },
 "nbformat": 4,
 "nbformat_minor": 4
}
