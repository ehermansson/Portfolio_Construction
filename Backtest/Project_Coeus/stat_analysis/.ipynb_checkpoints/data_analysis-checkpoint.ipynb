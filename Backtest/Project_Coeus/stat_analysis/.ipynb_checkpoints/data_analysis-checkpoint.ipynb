{
 "cells": [
  {
   "cell_type": "code",
   "execution_count": 41,
   "metadata": {},
   "outputs": [],
   "source": [
    "import pandas as pd\n",
    "from scipy.stats import zscore\n",
    "import matplotlib.pyplot as plt\n",
    "import numpy as np\n",
    "import seaborn as sns\n",
    "from sklearn.linear_model import LinearRegression\n",
    "import statsmodels.api as sm\n",
    "import statsmodels.formula.api as smf\n",
    "\n",
    "import re\n",
    "from sklearn import linear_model\n",
    "import patsy"
   ]
  },
  {
   "cell_type": "markdown",
   "metadata": {},
   "source": [
    "## Data Analysis for Stocks\n",
    "\n",
    "- DO DIFFEREN RANK FOR VALUE METRICS< SET TO BE HIGH RANK IS GOOD!!!!\n",
    "    - Or do invesrion of these??"
   ]
  },
  {
   "cell_type": "code",
   "execution_count": 42,
   "metadata": {},
   "outputs": [],
   "source": [
    "tmp_df = pd.read_csv('../data/VQ_data.csv')\n",
    "tmp_df['d'] = pd.to_datetime(tmp_df['d'])\n",
    "tmp_df = tmp_df.set_index(['d', 'insID'])"
   ]
  },
  {
   "cell_type": "code",
   "execution_count": 138,
   "metadata": {
    "scrolled": true
   },
   "outputs": [
    {
     "name": "stderr",
     "output_type": "stream",
     "text": [
      "/opt/anaconda3/lib/python3.7/site-packages/ipykernel_launcher.py:22: FutureWarning: Dropping of nuisance columns in DataFrame reductions (with 'numeric_only=None') is deprecated; in a future version this will raise TypeError.  Select only valid columns before calling the reduction.\n",
      "/opt/anaconda3/lib/python3.7/site-packages/ipykernel_launcher.py:38: SettingWithCopyWarning: \n",
      "A value is trying to be set on a copy of a slice from a DataFrame.\n",
      "Try using .loc[row_indexer,col_indexer] = value instead\n",
      "\n",
      "See the caveats in the documentation: https://pandas.pydata.org/pandas-docs/stable/user_guide/indexing.html#returning-a-view-versus-a-copy\n"
     ]
    }
   ],
   "source": [
    "min_MCAP = 500\n",
    "clean_df = tmp_df[tmp_df['MCAP']>min_MCAP]\n",
    "horizon = 3\n",
    "n_groups = 20\n",
    "\n",
    "monthly_df =clean_df.groupby([clean_df.index.get_level_values(1), pd.Grouper(freq='m', level=0)]).last()\n",
    "monthly_df['log_ret'] = monthly_df['adj_c'].groupby(level='insID').apply(lambda x: np.log(x.shift(-horizon)) - np.log(x))\n",
    "monthly_df = monthly_df.unstack('insID').iloc[::horizon, :].stack('insID')\n",
    "\n",
    "#Take rank of log ret per month values! Ranking forces it into a stationary distribution!!\n",
    "monthly_df['rank_ret'] = monthly_df['log_ret'].groupby(level='d').rank(ascending=False)\n",
    "\n",
    "\n",
    "\n",
    "#### CLEAN DATA\n",
    "\n",
    "\n",
    "colmax_list = ['PE', 'PB', 'EVEBIT', 'EVFCF', 'PS', 'PFCF']\n",
    "\n",
    "#set inf values to max\n",
    "for col in colmax_list:\n",
    "    m = monthly_df.loc[monthly_df[col] != np.inf, :].max()\n",
    "    monthly_df.replace(np.inf,m,inplace=True)\n",
    "\n",
    "\n",
    "#    #New method, more robust!!!\n",
    "#for colmax in colmax_list:\n",
    "#    max_tmp = monthly_df.loc[:,col].max()\n",
    "#    monthly_df.loc[monthly_df[colmax]<0, colmax] = max_tmp\n",
    "\n",
    "#Invesrt the values that should be low so they should be high\n",
    "for colmax in colmax_list:\n",
    "    monthly_df.loc[:, colmax] = (1/monthly_df[colmax])\n",
    "    \n",
    "    \n",
    "### INDICATOR FUNCTION IF THE COMPANY IS IN FINANCE & RE\n",
    "monthly_df['sector_ind'] = 0\n",
    "monthly_df[monthly_df['sector'] == 'finance_RE']['sector_ind'] = 1\n",
    "    "
   ]
  },
  {
   "cell_type": "markdown",
   "metadata": {},
   "source": [
    "## Quintile analysis for forward 1 m return"
   ]
  },
  {
   "cell_type": "code",
   "execution_count": 139,
   "metadata": {
    "scrolled": false
   },
   "outputs": [],
   "source": [
    "col_list = monthly_df.columns.to_list()\n",
    "\n",
    "for ele in ['c','number_Of_Shares', '1_day_ret','Name','volatility_60day',\n",
    "                 'sector','market', 'acceleration', 'adj_mom', 'sharpe', 'log_ret','adj_c', 'EA_ret', 'sector_ind']:\n",
    "    try:\n",
    "        col_list.remove(ele)\n",
    "    except:\n",
    "        print(ele)\n",
    "\n",
    "\n",
    "col_list1 = col_list.copy()\n",
    "col_list1.append('rank_ret')\n",
    "\n",
    "\n",
    "zscore_df = pd.DataFrame()\n",
    "zscore_df.index = monthly_df.index\n",
    "\n",
    "for col in col_list1:\n",
    "    col_zscore = col+ '_zscore'\n",
    "    zscore_tmp_df = monthly_df[col]\n",
    "    zscore_tmp_df = zscore_tmp_df.dropna()\n",
    "    #Rank for each day!! This makes it robust and stationary!! \n",
    "    # HIGH VALUE GIVES LOW RANK!!!\n",
    "    zscore_tmp_df = zscore_tmp_df.groupby(level='d').rank(ascending=False)\n",
    "    zscore_df[col_zscore] = (zscore_tmp_df - zscore_tmp_df.unstack(level ='d').mean())/zscore_tmp_df.unstack(level ='d').std()\n",
    "\n",
    "    \n",
    "\n",
    "model_list = []\n",
    "for col in zscore_df.columns:\n",
    "    x = re.search('zscore$', col)\n",
    "    if(x!=None):\n",
    "        model_list.append(col)\n",
    "\n",
    "#group by quintiles \n",
    "\n",
    "for col in list(set(list(zscore_df.columns)) - set('rank_ret_zscore')):\n",
    "    col_group = col + '_group'\n",
    "    zscore_df[col_group] = pd.qcut(zscore_df[col].rank(method='first'), n_groups, labels = range(1, n_groups + 1))\n",
    "    \n",
    "    \n",
    "#Add indicator function for sector\n",
    "zscore_df = zscore_df.join(monthly_df['sector_ind'], on=['d','insID'],how='left')"
   ]
  },
  {
   "cell_type": "code",
   "execution_count": 140,
   "metadata": {},
   "outputs": [
    {
     "name": "stderr",
     "output_type": "stream",
     "text": [
      "/opt/anaconda3/lib/python3.7/site-packages/ipykernel_launcher.py:8: PerformanceWarning: DataFrame is highly fragmented.  This is usually the result of calling `frame.insert` many times, which has poor performance.  Consider joining all columns at once using pd.concat(axis=1) instead.  To get a de-fragmented frame, use `newframe = frame.copy()`\n",
      "  \n",
      "/opt/anaconda3/lib/python3.7/site-packages/ipykernel_launcher.py:16: PerformanceWarning: DataFrame is highly fragmented.  This is usually the result of calling `frame.insert` many times, which has poor performance.  Consider joining all columns at once using pd.concat(axis=1) instead.  To get a de-fragmented frame, use `newframe = frame.copy()`\n",
      "  app.launch_new_instance()\n",
      "/opt/anaconda3/lib/python3.7/site-packages/ipykernel_launcher.py:20: PerformanceWarning: DataFrame is highly fragmented.  This is usually the result of calling `frame.insert` many times, which has poor performance.  Consider joining all columns at once using pd.concat(axis=1) instead.  To get a de-fragmented frame, use `newframe = frame.copy()`\n",
      "/opt/anaconda3/lib/python3.7/site-packages/ipykernel_launcher.py:26: PerformanceWarning: DataFrame is highly fragmented.  This is usually the result of calling `frame.insert` many times, which has poor performance.  Consider joining all columns at once using pd.concat(axis=1) instead.  To get a de-fragmented frame, use `newframe = frame.copy()`\n",
      "/opt/anaconda3/lib/python3.7/site-packages/ipykernel_launcher.py:27: PerformanceWarning: DataFrame is highly fragmented.  This is usually the result of calling `frame.insert` many times, which has poor performance.  Consider joining all columns at once using pd.concat(axis=1) instead.  To get a de-fragmented frame, use `newframe = frame.copy()`\n",
      "/opt/anaconda3/lib/python3.7/site-packages/ipykernel_launcher.py:28: PerformanceWarning: DataFrame is highly fragmented.  This is usually the result of calling `frame.insert` many times, which has poor performance.  Consider joining all columns at once using pd.concat(axis=1) instead.  To get a de-fragmented frame, use `newframe = frame.copy()`\n",
      "/opt/anaconda3/lib/python3.7/site-packages/ipykernel_launcher.py:29: PerformanceWarning: DataFrame is highly fragmented.  This is usually the result of calling `frame.insert` many times, which has poor performance.  Consider joining all columns at once using pd.concat(axis=1) instead.  To get a de-fragmented frame, use `newframe = frame.copy()`\n",
      "/opt/anaconda3/lib/python3.7/site-packages/ipykernel_launcher.py:36: PerformanceWarning: DataFrame is highly fragmented.  This is usually the result of calling `frame.insert` many times, which has poor performance.  Consider joining all columns at once using pd.concat(axis=1) instead.  To get a de-fragmented frame, use `newframe = frame.copy()`\n",
      "/opt/anaconda3/lib/python3.7/site-packages/ipykernel_launcher.py:40: PerformanceWarning: DataFrame is highly fragmented.  This is usually the result of calling `frame.insert` many times, which has poor performance.  Consider joining all columns at once using pd.concat(axis=1) instead.  To get a de-fragmented frame, use `newframe = frame.copy()`\n"
     ]
    }
   ],
   "source": [
    "\n",
    "##############################################    \n",
    "#combined measures, redo z scores and groups!!\n",
    "##############################################\n",
    "\n",
    "zscore_df['comb_mom'] = zscore_df['mom3_zscore'] + zscore_df['mom6_zscore'] +zscore_df['mom12_zscore']\n",
    "zscore_df['ear_mom'] = zscore_df['mom3_zscore'] + zscore_df['mom6_zscore'] +zscore_df['mom12_zscore'] + zscore_df['EAR_std_zscore']\n",
    "zscore_df['val_comp'] = zscore_df['PE_zscore'] + zscore_df['PB_zscore'] +zscore_df['EVEBIT_zscore'] +zscore_df['PFCF_zscore']+zscore_df['PS_zscore']\n",
    "zscore_df['qual_comp'] = zscore_df['GPA_zscore'] + zscore_df['ROIC_zscore'] +zscore_df['ROE_zscore'] + zscore_df['AT_zscore']+zscore_df['FCFROE_zscore'] + zscore_df['Asset_growth_zscore']\n",
    "\n",
    "\n",
    "## REDO ZSCORE AND QUANTILES FOR COMBINED MEASURES\n",
    "\n",
    "for col in ['comb_mom', 'ear_mom', 'val_comp', 'qual_comp']:\n",
    "    col_zscore = col+ '_zscore'\n",
    "    zscore_tmp_df = zscore_df[col]\n",
    "    zscore_df[col_zscore] = (zscore_tmp_df - zscore_tmp_df.unstack(level ='d').mean())/zscore_tmp_df.unstack(level ='d').std()\n",
    "\n",
    "for col in ['comb_mom_zscore', 'ear_mom_zscore', 'val_comp_zscore', 'qual_comp_zscore']:\n",
    "    col_group = col + '_group'\n",
    "    zscore_df[col_group] = pd.qcut(zscore_df[col].rank(method='first'), n_groups, labels = range(1, n_groups + 1))\n",
    "\n",
    "##############################################    \n",
    "######### REDO FOR COMBINATION OF COMBINATIONS, VMQ, QM, VQ, VM\n",
    "#################################################\n",
    "\n",
    "zscore_df['VMQ'] = zscore_df['ear_mom_zscore'] + zscore_df['val_comp_zscore'] +zscore_df['qual_comp_zscore']\n",
    "zscore_df['MQ'] = zscore_df['ear_mom_zscore'] +zscore_df['qual_comp_zscore']\n",
    "zscore_df['VQ'] =  zscore_df['val_comp_zscore'] +zscore_df['qual_comp_zscore']\n",
    "zscore_df['VM'] = zscore_df['ear_mom_zscore'] + zscore_df['val_comp_zscore']\n",
    "\n",
    "## REDO ZSCORE AND QUANTILES FOR COMBINED OF COMBINED MEASURES\n",
    "\n",
    "for col in ['VMQ', 'MQ', 'VQ', 'VM']:\n",
    "    col_zscore = col+ '_zscore'\n",
    "    zscore_tmp_df = zscore_df[col]\n",
    "    zscore_df[col_zscore] = (zscore_tmp_df - zscore_tmp_df.unstack(level ='d').mean())/zscore_tmp_df.unstack(level ='d').std()\n",
    "\n",
    "for col in ['VMQ_zscore', 'MQ_zscore', 'VQ_zscore', 'VM_zscore']:\n",
    "    col_group = col + '_group'\n",
    "    zscore_df[col_group] = pd.qcut(zscore_df[col].rank(method='first'), n_groups, labels = range(1, n_groups + 1))\n",
    "\n",
    "\n"
   ]
  },
  {
   "cell_type": "markdown",
   "metadata": {},
   "source": [
    "## MOMENTUM MEASURES"
   ]
  },
  {
   "cell_type": "code",
   "execution_count": 141,
   "metadata": {
    "scrolled": false
   },
   "outputs": [
    {
     "data": {
      "image/png": "[encoded data removed]",
      "text/plain": [
       "<Figure size 432x288 with 6 Axes>"
      ]
     },
     "metadata": {},
     "output_type": "display_data"
    }
   ],
   "source": [
    "sns.set_style(\"whitegrid\")\n",
    "fig, ax = plt.subplots(2,3, sharex=True, sharey = True)\n",
    "fig.suptitle('Momentum measures and 1 month forward returns', fontsize=18, y=1)\n",
    "ax[0, 0].bar(range(1, n_groups + 1) ,zscore_df.groupby(\"mom3_zscore_group\").mean()['rank_ret_zscore']);\n",
    "ax[0, 0].set_title('3 month Momentum');\n",
    "ax[1, 0].bar(range(1, n_groups + 1) ,zscore_df.groupby(\"mom6_zscore_group\").mean()['rank_ret_zscore']);\n",
    "ax[1, 0].set_title('6 month Momentum');\n",
    "ax[0, 1].bar(range(1, n_groups + 1) ,zscore_df.groupby(\"mom12_zscore_group\").mean()['rank_ret_zscore']);\n",
    "ax[0, 1].set_title('12 month Momentum');\n",
    "ax[1, 1].bar(range(1, n_groups + 1) ,zscore_df.groupby(\"EAR_std_zscore_group\").mean()['rank_ret_zscore']);\n",
    "ax[1, 1].set_title('EAR std');\n",
    "ax[0, 2].bar(range(1, n_groups + 1) ,zscore_df.groupby(\"RSURP_Y_zscore_group\").mean()['rank_ret_zscore']);\n",
    "ax[0, 2].set_title('RSURP_Y');\n",
    "ax[1, 2].bar(range(1, n_groups + 1) ,zscore_df.groupby(\"SUE_Y_zscore_group\").mean()['rank_ret_zscore']);\n",
    "ax[1, 2].set_title('SUE_Y');\n"
   ]
  },
  {
   "cell_type": "code",
   "execution_count": 142,
   "metadata": {
    "scrolled": true
   },
   "outputs": [
    {
     "data": {
      "image/png": "[encoded data removed]",
      "text/plain": [
       "<Figure size 432x288 with 2 Axes>"
      ]
     },
     "metadata": {},
     "output_type": "display_data"
    }
   ],
   "source": [
    "sns.set_style(\"whitegrid\")\n",
    "fig, ax = plt.subplots(nrows=1, ncols=2, sharex=True, sharey = True)\n",
    "fig.suptitle('Momentum measures and 1 month forward returns', fontsize=18, y=1)\n",
    "ax[0].bar(range(1, n_groups + 1) ,zscore_df.groupby(\"comb_mom_zscore_group\").mean()['rank_ret_zscore']);\n",
    "ax[0].set_title('Combined Momentum');\n",
    "ax[1].bar(range(1, n_groups + 1) ,zscore_df.groupby(\"ear_mom_zscore_group\").mean()['rank_ret_zscore']);\n",
    "ax[1].set_title('EAR-Momentum');"
   ]
  },
  {
   "cell_type": "markdown",
   "metadata": {},
   "source": [
    "### Value Measures"
   ]
  },
  {
   "cell_type": "code",
   "execution_count": 143,
   "metadata": {},
   "outputs": [
    {
     "data": {
      "image/png": "[encoded data removed]",
      "text/plain": [
       "<Figure size 432x288 with 8 Axes>"
      ]
     },
     "metadata": {},
     "output_type": "display_data"
    }
   ],
   "source": [
    "sns.set_style(\"whitegrid\")\n",
    "fig, ax = plt.subplots(2,4, sharex=True, sharey = True)\n",
    "fig.suptitle('Value measures and 3 month forward returns', fontsize=18, y=1)\n",
    "ax[0, 0].bar(range(1, n_groups + 1) ,zscore_df.groupby(\"PFCF_zscore_group\").mean()['rank_ret_zscore']);\n",
    "ax[0, 0].set_title('PFCF');\n",
    "ax[1, 0].bar(range(1, n_groups + 1) ,zscore_df.groupby(\"PE_zscore_group\").mean()['rank_ret_zscore']);\n",
    "ax[1, 0].set_title('PE');\n",
    "ax[0, 1].bar(range(1, n_groups + 1) ,zscore_df.groupby(\"PB_zscore_group\").mean()['rank_ret_zscore']);\n",
    "ax[0, 1].set_title('PB');\n",
    "ax[1, 1].bar(range(1, n_groups + 1) ,zscore_df.groupby(\"Asset_growth_zscore_group\").mean()['rank_ret_zscore']);\n",
    "ax[1, 1].set_title('Asset Growth');\n",
    "\n",
    "ax[0, 2].bar(range(1, n_groups + 1) ,zscore_df.groupby(\"EVEBIT_zscore_group\").mean()['rank_ret_zscore']);\n",
    "ax[0, 2].set_title('EVEBIT');\n",
    "ax[1, 2].bar(range(1, n_groups + 1) ,zscore_df.groupby(\"DIV_Y_zscore_group\").mean()['rank_ret_zscore']);\n",
    "ax[1, 2].set_title('Dividend Yield');\n",
    "\n",
    "ax[0, 3].bar(range(1, n_groups + 1) ,zscore_df.groupby(\"PS_zscore_group\").mean()['rank_ret_zscore']);\n",
    "ax[0, 3].set_title('PS');\n",
    "ax[1, 3].bar(range(1, n_groups + 1) ,zscore_df.groupby(\"val_comp_zscore_group\").mean()['rank_ret_zscore']);\n",
    "ax[1, 3].set_title('Value Composite');"
   ]
  },
  {
   "cell_type": "code",
   "execution_count": 144,
   "metadata": {},
   "outputs": [
    {
     "data": {
      "image/png": "[encoded data removed]",
      "text/plain": [
       "<Figure size 432x288 with 8 Axes>"
      ]
     },
     "metadata": {},
     "output_type": "display_data"
    }
   ],
   "source": [
    "sns.set_style(\"whitegrid\")\n",
    "fig, ax = plt.subplots(2,4, sharex=True, sharey = True)\n",
    "fig.suptitle('Quality measures and 3 month forward returns', fontsize=18, y=1)\n",
    "ax[0, 0].bar(range(1, n_groups + 1) ,zscore_df.groupby(\"ROE_zscore_group\").mean()['rank_ret_zscore']);\n",
    "ax[0, 0].set_title('ROE');\n",
    "ax[1, 0].bar(range(1, n_groups + 1) ,zscore_df.groupby(\"ROIC_zscore_group\").mean()['rank_ret_zscore']);\n",
    "ax[1, 0].set_title('ROIC');\n",
    "ax[0, 1].bar(range(1, n_groups + 1) ,zscore_df.groupby(\"FCFROE_zscore_group\").mean()['rank_ret_zscore']);\n",
    "ax[0, 1].set_title('FCFROE');\n",
    "ax[1, 1].bar(range(1, n_groups + 1) ,zscore_df.groupby(\"GPA_zscore_group\").mean()['rank_ret_zscore']);\n",
    "ax[1, 1].set_title('GPA');\n",
    "\n",
    "ax[0, 2].bar(range(1, n_groups + 1) ,zscore_df.groupby(\"AT_zscore_group\").mean()['rank_ret_zscore']);\n",
    "ax[0, 2].set_title('AT');\n",
    "ax[1, 2].bar(range(1, n_groups + 1) ,zscore_df.groupby(\"ROA_zscore_group\").mean()['rank_ret_zscore']);\n",
    "ax[1, 2].set_title('ROA');\n",
    "\n",
    "ax[0, 3].bar(range(1, n_groups + 1) ,zscore_df.groupby(\"qual_comp_zscore_group\").mean()['rank_ret_zscore']);\n",
    "ax[0, 3].set_title('Quality Composite');\n"
   ]
  },
  {
   "cell_type": "code",
   "execution_count": 145,
   "metadata": {
    "scrolled": false
   },
   "outputs": [
    {
     "data": {
      "image/png": "[encoded data removed]",
      "text/plain": [
       "<Figure size 432x288 with 1 Axes>"
      ]
     },
     "metadata": {},
     "output_type": "display_data"
    }
   ],
   "source": [
    "sns.set_style(\"whitegrid\")\n",
    "plt.bar(range(1, n_groups + 1), zscore_df.groupby(\"VMQ_zscore_group\").mean()['rank_ret_zscore']);\n",
    "plt.title('VMQ');"
   ]
  },
  {
   "cell_type": "code",
   "execution_count": 146,
   "metadata": {
    "scrolled": true
   },
   "outputs": [
    {
     "data": {
      "image/png": "[encoded data removed]",
      "text/plain": [
       "<Figure size 432x288 with 1 Axes>"
      ]
     },
     "metadata": {},
     "output_type": "display_data"
    }
   ],
   "source": [
    "sns.set_style(\"whitegrid\")\n",
    "plt.bar(range(1, n_groups + 1), zscore_df.groupby(\"MQ_zscore_group\").mean()['rank_ret_zscore']);\n",
    "plt.title('QM');"
   ]
  },
  {
   "cell_type": "code",
   "execution_count": 147,
   "metadata": {
    "scrolled": true
   },
   "outputs": [
    {
     "data": {
      "image/png": "[encoded data removed]",
      "text/plain": [
       "<Figure size 432x288 with 1 Axes>"
      ]
     },
     "metadata": {},
     "output_type": "display_data"
    }
   ],
   "source": [
    "sns.set_style(\"whitegrid\")\n",
    "plt.bar(range(1, n_groups + 1), zscore_df.groupby(\"VM_zscore_group\").mean()['rank_ret_zscore']);\n",
    "plt.title('VM');"
   ]
  },
  {
   "cell_type": "code",
   "execution_count": 148,
   "metadata": {},
   "outputs": [
    {
     "data": {
      "image/png": "[encoded data removed]",
      "text/plain": [
       "<Figure size 432x288 with 1 Axes>"
      ]
     },
     "metadata": {},
     "output_type": "display_data"
    }
   ],
   "source": [
    "sns.set_style(\"whitegrid\")\n",
    "plt.bar(range(1, n_groups + 1), zscore_df.groupby(\"VQ_zscore_group\").mean()['rank_ret_zscore']);\n",
    "plt.title('VQ');"
   ]
  },
  {
   "cell_type": "code",
   "execution_count": 149,
   "metadata": {
    "scrolled": true
   },
   "outputs": [
    {
     "data": {
      "image/png": "[encoded data removed]",
      "text/plain": [
       "<Figure size 432x288 with 1 Axes>"
      ]
     },
     "metadata": {},
     "output_type": "display_data"
    }
   ],
   "source": [
    "sns.set_style(\"whitegrid\")\n",
    "plt.bar(range(1, n_groups + 1), zscore_df.groupby(\"volatility_zscore_group\").mean()['rank_ret_zscore']);\n",
    "plt.title('Volatility');"
   ]
  },
  {
   "cell_type": "markdown",
   "metadata": {},
   "source": [
    "## SIMPEL LINEAR MODEL"
   ]
  },
  {
   "cell_type": "code",
   "execution_count": 150,
   "metadata": {},
   "outputs": [],
   "source": [
    "coeff_list = model_list.copy()\n",
    "coeff_list.remove('rank_ret_zscore')\n"
   ]
  },
  {
   "cell_type": "code",
   "execution_count": 151,
   "metadata": {
    "scrolled": true
   },
   "outputs": [
    {
     "data": {
      "text/plain": [
       "['MCAP_zscore',\n",
       " 'PE_zscore',\n",
       " 'GPA_zscore',\n",
       " 'GPA_chg_zscore',\n",
       " 'Asset_growth_zscore',\n",
       " 'PB_zscore',\n",
       " 'EVEBIT_zscore',\n",
       " 'EVFCF_zscore',\n",
       " 'ROIC_zscore',\n",
       " 'ROE_zscore',\n",
       " 'ROE_chg_zscore',\n",
       " 'AT_zscore',\n",
       " 'RSURP_Y_zscore',\n",
       " 'rev_growth_zscore',\n",
       " 'SUE_Y_zscore',\n",
       " 'EPS_growth_zscore',\n",
       " 'EPS_acceleration_zscore',\n",
       " 'mom12_zscore',\n",
       " 'mom6_zscore',\n",
       " 'mom3_zscore',\n",
       " 'mom1_zscore',\n",
       " 'volatility_zscore',\n",
       " 'high_12m_zscore',\n",
       " 'high_6m_zscore',\n",
       " 'high_3m_zscore',\n",
       " 'high_1m_zscore',\n",
       " 'high_2y_zscore',\n",
       " 'low_1m_zscore',\n",
       " 'low_3m_zscore',\n",
       " 'low_6m_zscore',\n",
       " 'low_12m_zscore',\n",
       " 'low_2y_zscore',\n",
       " 'FCFROE_zscore',\n",
       " 'ROA_zscore',\n",
       " 'PS_zscore',\n",
       " 'PFCF_zscore',\n",
       " 'DIV_Y_zscore',\n",
       " 'SUE_Q_zscore',\n",
       " 'res_mom12_zscore',\n",
       " 'res_mom6_zscore',\n",
       " 'res_mom3_zscore',\n",
       " 'MEME_factor_zscore',\n",
       " 'MA20_VOL_zscore',\n",
       " 'volume_balance_zscore',\n",
       " 'MA20_zscore',\n",
       " 'MA50_VOL_zscore',\n",
       " 'EAR_std_zscore']"
      ]
     },
     "execution_count": 151,
     "metadata": {},
     "output_type": "execute_result"
    }
   ],
   "source": [
    "coeff_list"
   ]
  },
  {
   "cell_type": "code",
   "execution_count": 152,
   "metadata": {
    "scrolled": true
   },
   "outputs": [
    {
     "data": {
      "text/plain": [
       "['qual_comp_zscore', 'val_comp_zscore', 'ear_mom_zscore', 'volatility_zscore']"
      ]
     },
     "execution_count": 152,
     "metadata": {},
     "output_type": "execute_result"
    }
   ],
   "source": [
    "coeff_list_comp"
   ]
  },
  {
   "cell_type": "markdown",
   "metadata": {},
   "source": [
    "## 1 month returns"
   ]
  },
  {
   "cell_type": "code",
   "execution_count": 155,
   "metadata": {
    "scrolled": false
   },
   "outputs": [
    {
     "name": "stderr",
     "output_type": "stream",
     "text": [
      "/opt/anaconda3/lib/python3.7/site-packages/pandas/core/indexing.py:1884: SettingWithCopyWarning: \n",
      "A value is trying to be set on a copy of a slice from a DataFrame.\n",
      "Try using .loc[row_indexer,col_indexer] = value instead\n",
      "\n",
      "See the caveats in the documentation: https://pandas.pydata.org/pandas-docs/stable/user_guide/indexing.html#returning-a-view-versus-a-copy\n",
      "  self._setitem_single_column(loc, val, pi)\n"
     ]
    },
    {
     "name": "stdout",
     "output_type": "stream",
     "text": [
      "                            OLS Regression Results                            \n",
      "==============================================================================\n",
      "Dep. Variable:        rank_ret_zscore   R-squared:                       0.014\n",
      "Model:                            OLS   Adj. R-squared:                  0.013\n",
      "Method:                 Least Squares   F-statistic:                     7.754\n",
      "Date:                Mon, 24 Jan 2022   Prob (F-statistic):           1.83e-12\n",
      "Time:                        08:59:02   Log-Likelihood:                -9078.1\n",
      "No. Observations:                6539   AIC:                         1.818e+04\n",
      "Df Residuals:                    6528   BIC:                         1.825e+04\n",
      "Df Model:                          10                                         \n",
      "Covariance Type:                  HAC                                         \n",
      "======================================================================================================\n",
      "                                         coef    std err          z      P>|z|      [0.025      0.975]\n",
      "------------------------------------------------------------------------------------------------------\n",
      "Intercept                              0.0019      0.016      0.113      0.910      -0.030       0.034\n",
      "qual_comp_zscore                      -0.0216      0.013     -1.615      0.106      -0.048       0.005\n",
      "val_comp_zscore                        0.0286      0.013      2.221      0.026       0.003       0.054\n",
      "ear_mom_zscore                         0.0704      0.012      5.946      0.000       0.047       0.094\n",
      "volatility_zscore                      0.0506      0.013      3.877      0.000       0.025       0.076\n",
      "qual_comp_zscore:val_comp_zscore      -0.0203      0.010     -2.120      0.034      -0.039      -0.002\n",
      "qual_comp_zscore:ear_mom_zscore        0.0009      0.007      0.124      0.901      -0.014       0.015\n",
      "qual_comp_zscore:volatility_zscore    -0.0046      0.009     -0.537      0.591      -0.021       0.012\n",
      "val_comp_zscore:ear_mom_zscore         0.0020      0.009      0.234      0.815      -0.015       0.019\n",
      "val_comp_zscore:volatility_zscore     -0.0020      0.010     -0.195      0.845      -0.022       0.018\n",
      "ear_mom_zscore:volatility_zscore      -0.0232      0.009     -2.712      0.007      -0.040      -0.006\n",
      "==============================================================================\n",
      "Omnibus:                     3540.668   Durbin-Watson:                   2.015\n",
      "Prob(Omnibus):                  0.000   Jarque-Bera (JB):              358.817\n",
      "Skew:                           0.055   Prob(JB):                     1.21e-78\n",
      "Kurtosis:                       1.858   Cond. No.                         3.83\n",
      "==============================================================================\n",
      "\n",
      "Notes:\n",
      "[1] Standard Errors are heteroscedasticity and autocorrelation robust (HAC) using 1 lags and without small sample correction\n"
     ]
    }
   ],
   "source": [
    "coeff_list_comp = ['qual_comp_zscore', 'val_comp_zscore', 'ear_mom_zscore','volatility_zscore']\n",
    "#mom_coeff = ['mom12_zscore', 'high_12m_zscore']\n",
    "#coeff_list_comp = mom_coeff + ['volatility_zscore', 'EAR_std_zscore']\n",
    "\n",
    "y = pd.DataFrame(zscore_df['rank_ret_zscore'])\n",
    "X = zscore_df[coeff_list_comp]\n",
    "\n",
    "model_list = coeff_list_comp.copy()\n",
    "model_list.append('rank_ret_zscore')\n",
    "\n",
    "formula = y.columns[0] + ' ~ ' \n",
    "\n",
    "\n",
    "#coeff_list_comp_tmp = ['qual_comp_zscore', 'val_comp_zscore','volatility_zscore', 'ear_mom_zscore']\n",
    "coeff_list_comp_tmp = coeff_list_comp\n",
    "\n",
    "#for coeff in X.columns.tolist():\n",
    "for coeff in coeff_list_comp_tmp:\n",
    "        formula = formula + coeff + \" + \" \n",
    "        \n",
    "for coeff_i in coeff_list_comp_tmp:\n",
    "    for coeff_j in coeff_list_comp_tmp:\n",
    "        if coeff_i != coeff_j:\n",
    "            formula = formula + coeff_i+\":\"+ coeff_j + \" + \"\n",
    "\n",
    "\n",
    "\n",
    "formula = formula[:-3]\n",
    "reg_df = zscore_df.dropna()\n",
    "### MAKE NEGATIVE values positive for ranking\n",
    "\n",
    "turn_positive = ['mom12_zscore', 'mom6_zscore', 'mom3_zscore', 'high_12m_zscore',\n",
    "        'high_6m_zscore', 'high_3m_zscore', 'EAR_std_zscore','qual_comp_zscore', \n",
    "                 'val_comp_zscore','ear_mom_zscore' ]\n",
    "\n",
    "reg_df.loc[:,turn_positive ] = -reg_df.loc[:,turn_positive ]\n",
    "\n",
    "\n",
    "est2 = smf.ols(formula= formula, data=reg_df[model_list]).fit(cov_type='HAC',cov_kwds={'maxlags':1})\n",
    "print(est2.summary())\n"
   ]
  },
  {
   "cell_type": "code",
   "execution_count": 154,
   "metadata": {
    "scrolled": true
   },
   "outputs": [
    {
     "data": {
      "text/html": [
       "<div>\n",
       "<style scoped>\n",
       "    .dataframe tbody tr th:only-of-type {\n",
       "        vertical-align: middle;\n",
       "    }\n",
       "\n",
       "    .dataframe tbody tr th {\n",
       "        vertical-align: top;\n",
       "    }\n",
       "\n",
       "    .dataframe thead th {\n",
       "        text-align: right;\n",
       "    }\n",
       "</style>\n",
       "<table border=\"1\" class=\"dataframe\">\n",
       "  <thead>\n",
       "    <tr style=\"text-align: right;\">\n",
       "      <th></th>\n",
       "      <th>qual_comp_zscore</th>\n",
       "      <th>val_comp_zscore</th>\n",
       "      <th>ear_mom_zscore</th>\n",
       "      <th>volatility_zscore</th>\n",
       "    </tr>\n",
       "  </thead>\n",
       "  <tbody>\n",
       "    <tr>\n",
       "      <th>qual_comp_zscore</th>\n",
       "      <td>1.000000</td>\n",
       "      <td>-0.120377</td>\n",
       "      <td>0.173554</td>\n",
       "      <td>-0.306711</td>\n",
       "    </tr>\n",
       "    <tr>\n",
       "      <th>val_comp_zscore</th>\n",
       "      <td>-0.120377</td>\n",
       "      <td>1.000000</td>\n",
       "      <td>-0.250111</td>\n",
       "      <td>0.191238</td>\n",
       "    </tr>\n",
       "    <tr>\n",
       "      <th>ear_mom_zscore</th>\n",
       "      <td>0.173554</td>\n",
       "      <td>-0.250111</td>\n",
       "      <td>1.000000</td>\n",
       "      <td>-0.154165</td>\n",
       "    </tr>\n",
       "    <tr>\n",
       "      <th>volatility_zscore</th>\n",
       "      <td>-0.306711</td>\n",
       "      <td>0.191238</td>\n",
       "      <td>-0.154165</td>\n",
       "      <td>1.000000</td>\n",
       "    </tr>\n",
       "  </tbody>\n",
       "</table>\n",
       "</div>"
      ],
      "text/plain": [
       "                   qual_comp_zscore  val_comp_zscore  ear_mom_zscore  \\\n",
       "qual_comp_zscore           1.000000        -0.120377        0.173554   \n",
       "val_comp_zscore           -0.120377         1.000000       -0.250111   \n",
       "ear_mom_zscore             0.173554        -0.250111        1.000000   \n",
       "volatility_zscore         -0.306711         0.191238       -0.154165   \n",
       "\n",
       "                   volatility_zscore  \n",
       "qual_comp_zscore           -0.306711  \n",
       "val_comp_zscore             0.191238  \n",
       "ear_mom_zscore             -0.154165  \n",
       "volatility_zscore           1.000000  "
      ]
     },
     "execution_count": 154,
     "metadata": {},
     "output_type": "execute_result"
    }
   ],
   "source": [
    "zscore_df[coeff_list_comp].corr(method = 'spearman')"
   ]
  },
  {
   "cell_type": "code",
   "execution_count": null,
   "metadata": {},
   "outputs": [],
   "source": []
  },
  {
   "cell_type": "code",
   "execution_count": null,
   "metadata": {},
   "outputs": [],
   "source": []
  }
 ],
 "metadata": {
  "kernelspec": {
   "display_name": "Python 3",
   "language": "python",
   "name": "python3"
  },
  "language_info": {
   "codemirror_mode": {
    "name": "ipython",
    "version": 3
   },
   "file_extension": ".py",
   "mimetype": "text/x-python",
   "name": "python",
   "nbconvert_exporter": "python",
   "pygments_lexer": "ipython3",
   "version": "3.7.4"
  }
 },
 "nbformat": 4,
 "nbformat_minor": 2
}
