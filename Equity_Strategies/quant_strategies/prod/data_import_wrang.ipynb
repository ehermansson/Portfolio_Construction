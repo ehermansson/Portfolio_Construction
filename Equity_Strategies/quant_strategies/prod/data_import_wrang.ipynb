{
 "cells": [
  {
   "cell_type": "code",
   "execution_count": 21,
   "metadata": {},
   "outputs": [],
   "source": [
    "import yfinance as yf \n",
    "\n",
    "import pandas as pd\n",
    "from matplotlib import pylab as plt\n",
    "import numpy as np\n",
    "from datetime import datetime\n",
    "import math\n",
    "from time import sleep\n",
    "import quandl\n",
    "import seaborn as sns\n",
    "import sys\n",
    "from scipy.stats import norm\n",
    "from sklearn.linear_model import LinearRegression\n",
    "import sys\n",
    "from scipy.stats import norm\n",
    "import ezodf\n",
    "import scipy.optimize as sco\n",
    "import scipy\n",
    "import re\n",
    "import os.path"
   ]
  },
  {
   "cell_type": "markdown",
   "metadata": {},
   "source": [
    "## Functions\n"
   ]
  },
  {
   "cell_type": "code",
   "execution_count": 22,
   "metadata": {},
   "outputs": [],
   "source": [
    "# FUNCTIONS FOR VIEWING SINGLE COMPANY RANKINGS \n",
    "\n",
    "def company(company):\n",
    "    for i in data['Company']:\n",
    "        if company in i or company in i.lower():\n",
    "            return data.loc[data['Company'] == i]\n",
    "    print('No company found')\n",
    "    \n",
    "def Company(company):\n",
    "    for i in data['Company']:\n",
    "        if company in i or company in i.lower():\n",
    "            stock = data.loc[data['Company'] == i]\n",
    "            stock = stock[compact]\n",
    "            return stock\n",
    "    print('No company found')"
   ]
  },
  {
   "cell_type": "code",
   "execution_count": 23,
   "metadata": {},
   "outputs": [],
   "source": [
    "def mod_Z_score(data):\n",
    "    mean = np.mean(data.iloc[:-1])\n",
    "    deviation_from_med = np.array(data.iloc[:-1]) - mean\n",
    "    MAD = np.mean(np.abs(deviation_from_med))\n",
    "    mod_Z = (data[-1:] - mean)/(MAD * 1.4826)\n",
    "    return mod_Z"
   ]
  },
  {
   "cell_type": "markdown",
   "metadata": {},
   "source": [
    "## Data Import and Wrangling\n"
   ]
  },
  {
   "cell_type": "code",
   "execution_count": 24,
   "metadata": {},
   "outputs": [],
   "source": [
    "# IMPORT LATEST DATA \n",
    "\n",
    "folder = \"../equity_data/\"\n",
    "file_name = \"Borsdata_2021-11-29.xlsx\"\n",
    "\n",
    "data_tmp = pd.read_excel(os.path.join(folder, file_name), sheet_name=\"Export\")\n",
    "data_tmp = data_tmp[1:]\n",
    "\n",
    "data_tmp = data_tmp.rename({'Performance - Perform. 3m' : 'Return 3m','Performance - Perform. 6m' : 'Return 6m',\n",
    "                            'Performance - Perform. 1y' : 'Return 1y',\n",
    "                            'Div. Yield - Current': 'Yield', \n",
    "                            'Total Equity  - Millions':'Total Equity', 'FCF - Millions': 'FCF','ROE - Current':'ROE',\n",
    "                            'Volatility - St.Dev. 100d':'Volatility','Market Cap - Current': 'Market Cap', \n",
    "                            'ROC - Current':'ROC', 'Tot. Assets - Millions':'Tot. Assets', \n",
    "                            'Gross profit - Millions':'Gross profit', 'Assets Turn - Current': 'Assets Turn',\n",
    "                            'P/FCF - Current':'P/FCF', 'P/E - Current':'P/E', 'P/S - Current':'P/S',\n",
    "                            'P/B - Current':'P/B','EV/EBIT - Current':'EV/EBIT',\n",
    "                            'Info - Country' : 'Country','F-Score - Point':'F-Score',\n",
    "                            'Info - List' : 'List', 'Info - Sector' : 'Sector', 'Info - Industry' : 'Industry',\n",
    "                            'Info - Ticker' : 'Tick', 'Info - Yahoo':'Yahoo', 'Info - Last Report': 'Last Report',\n",
    "                           'Volume - Average 50d Mill' : 'Volume'}, axis=1)\n",
    "\n",
    "# FORMAT FOR VIEWING PLEASURE\n",
    "pd.set_option(\"display.max_rows\", None, \"display.max_columns\", None)\n",
    "pd.options.display.float_format = \"{:,.2f}\".format"
   ]
  },
  {
   "cell_type": "code",
   "execution_count": 25,
   "metadata": {},
   "outputs": [],
   "source": [
    "# MAKE NUMBERS FLOATS \n",
    "\n",
    "data_tmp['Market Cap'] = data_tmp['Market Cap'].replace(',', '') # remove , as 1000 separator\n",
    "\n",
    "param_list = ['P/E', 'EV/EBIT', 'P/FCF', 'P/S', 'P/B', 'Assets Turn', 'Gross profit', 'Tot. Assets', 'ROC', 'Yield', 'Market Cap', 'Volatility',\n",
    "        'ROC', 'ROE', 'FCF', 'Total Equity', \n",
    "        'Return 3m', 'Return 6m', 'Return 1y']\n",
    "\n",
    "for i in param_list: \n",
    "    data_tmp[i] = pd.to_numeric(data_tmp[i]) # make every number numeric\n",
    "\n",
    "\n",
    "data_tmp['FCFROE'] = data_tmp['FCF']/data_tmp['Total Equity'] # calc FCFROE\n",
    "data_tmp['GPA'] = data_tmp['Gross profit']/data_tmp['Tot. Assets']\n",
    "\n",
    "\n",
    "data_tmp.loc[(data_tmp['Total Equity'] < 0), ['ROE', 'FCFROE', 'P/B']] = np.nan"
   ]
  },
  {
   "cell_type": "code",
   "execution_count": 26,
   "metadata": {},
   "outputs": [],
   "source": [
    "### FILTER DATA FOR VOLUME, LIST AND MARKET CAP\n",
    "\n",
    "data_tmp = data_tmp.loc[data_tmp['Market Cap'] > 400] #Market cap filter\n",
    "\n",
    "\n",
    "data_tmp = data_tmp.loc[ (data_tmp['List'] != 'Spotlight') \n",
    "                        & (data_tmp['List'] != 'NGM')]\n",
    "\n",
    "#Volume Filter\n",
    "data_tmp = data_tmp.loc[data_tmp['Volume'] > 0.5] \n",
    "\n",
    "# Set to dattime\n",
    "data_tmp['Last Report'] = pd.to_datetime(data_tmp['Last Report'])\n",
    "\n",
    "#set new index\n",
    "data_tmp.index = range(len(data_tmp.index))"
   ]
  },
  {
   "cell_type": "code",
   "execution_count": 27,
   "metadata": {},
   "outputs": [
    {
     "name": "stdout",
     "output_type": "stream",
     "text": [
      "Companies in data:  451\n",
      "Missing Report Dates:  3\n"
     ]
    }
   ],
   "source": [
    "print(\"Companies in data: \",len(data_tmp))\n",
    "print(\"Missing Report Dates: \",sum(data_tmp['Last Report'].isna()))\n",
    "\n"
   ]
  },
  {
   "cell_type": "markdown",
   "metadata": {},
   "source": [
    "## Calculate Price Based Data from Yahoo Finance"
   ]
  },
  {
   "cell_type": "code",
   "execution_count": 28,
   "metadata": {},
   "outputs": [],
   "source": [
    "## Get PEAD\n",
    "data_tmp[\"EA ret\"] = np.nan\n",
    "data_tmp[\"EA ret std\"] = np.nan\n",
    "data_tmp['1 Year Volatility'] = np.nan\n",
    "data_tmp['1 Year MAD'] = np.nan\n",
    "index = yf.download('^OMXSPI',start='2020-01-01', threads = False, progress = False)\n",
    "index = index['Close']\n",
    "\n",
    "error_count = 0\n",
    "error_list = []"
   ]
  },
  {
   "cell_type": "code",
   "execution_count": 29,
   "metadata": {},
   "outputs": [
    {
     "name": "stdout",
     "output_type": "stream",
     "text": [
      "\n",
      "1 Failed download:\n",
      "- SDIP.ST: No data found, symbol may be delisted\n"
     ]
    }
   ],
   "source": [
    "for i in range(len(data_tmp)):\n",
    "    try:\n",
    "        stock = yf.download(data_tmp.iloc[i]['Yahoo'],start='2020-01-01', progress = False, threads = False)\n",
    "        stock = stock['Close']\n",
    "        import_data = pd.concat([stock, index], axis = 1)\n",
    "        import_data.columns = ['stock', 'index']\n",
    "        import_data = import_data.dropna()\n",
    "        \n",
    "        # get index of date of report\n",
    "        idx = import_data.index.get_loc(data_tmp.iloc[i]['Last Report'], method='nearest')\n",
    "        EA_data = import_data.iloc[idx - 2 : idx +2 ]\n",
    "        \n",
    "        stock_idx = stock.index.get_loc(data_tmp.iloc[i]['Last Report'], method='nearest')\n",
    "        \n",
    "        EA_ret = (EA_data.pct_change().dropna()+1).cumprod().tail(1)\n",
    "        pead_ret = float(EA_ret['stock'] - EA_ret['index'])\n",
    "        data_tmp.loc[i,\"EA ret\"]= pead_ret\n",
    "        data_tmp.loc[i, 'EA Volatility'] = np.log(stock.iloc[:idx]/stock.iloc[:idx].shift()).tail(60).std()*252**.5 \n",
    "        #Get MAD of stock\n",
    "        data_tmp.loc[i,\"1 Year MAD\"]= np.log(stock/stock.shift()).tail(252).mad()*252**.5*1.25\n",
    "        # Get volatility of stock\n",
    "        data_tmp.loc[i,\"1 Year Volatility\"]= np.log(stock/stock.shift()).tail(252).std()*252**.5 \n",
    "       \n",
    "    except:\n",
    "        #data_tmp.loc[i,\"EA ret\"]= np.nan\n",
    "        #print(\"ERROR! INDEX: \", i, ', TICKER: ', data_tmp.iloc[i]['Yahoo'])\n",
    "        error_count = error_count + 1\n",
    "        error_list.append(i)\n",
    "    \n",
    "    "
   ]
  },
  {
   "cell_type": "code",
   "execution_count": 30,
   "metadata": {},
   "outputs": [
    {
     "name": "stdout",
     "output_type": "stream",
     "text": [
      "Amount of Errors:  4\n",
      "Missing EA rets:  4\n",
      "Missing EA volatility:  4\n",
      "Missing 1 Year volatility:  4\n"
     ]
    }
   ],
   "source": [
    "### NA ANALYTICS\n",
    "print(\"Amount of Errors: \",error_count )\n",
    "print(\"Missing EA rets: \",sum(data_tmp[\"EA ret\"].isna()) )\n",
    "print(\"Missing EA volatility: \",sum(data_tmp[\"EA Volatility\"].isna()) )\n",
    "print(\"Missing 1 Year volatility: \",sum(data_tmp[\"1 Year Volatility\"].isna()) )"
   ]
  },
  {
   "cell_type": "code",
   "execution_count": 31,
   "metadata": {},
   "outputs": [
    {
     "data": {
      "text/html": [
       "<div>\n",
       "<style scoped>\n",
       "    .dataframe tbody tr th:only-of-type {\n",
       "        vertical-align: middle;\n",
       "    }\n",
       "\n",
       "    .dataframe tbody tr th {\n",
       "        vertical-align: top;\n",
       "    }\n",
       "\n",
       "    .dataframe thead th {\n",
       "        text-align: right;\n",
       "    }\n",
       "</style>\n",
       "<table border=\"1\" class=\"dataframe\">\n",
       "  <thead>\n",
       "    <tr style=\"text-align: right;\">\n",
       "      <th></th>\n",
       "      <th>Company</th>\n",
       "      <th>Yahoo</th>\n",
       "      <th>Last Report</th>\n",
       "      <th>EA ret</th>\n",
       "    </tr>\n",
       "  </thead>\n",
       "  <tbody>\n",
       "    <tr>\n",
       "      <td>20</td>\n",
       "      <td>Aligro Planet SPAC</td>\n",
       "      <td>APAC-SPAC-A.ST</td>\n",
       "      <td>NaT</td>\n",
       "      <td>nan</td>\n",
       "    </tr>\n",
       "    <tr>\n",
       "      <td>324</td>\n",
       "      <td>Pfizer</td>\n",
       "      <td>PFE.ST</td>\n",
       "      <td>NaT</td>\n",
       "      <td>nan</td>\n",
       "    </tr>\n",
       "    <tr>\n",
       "      <td>364</td>\n",
       "      <td>Sdiptech</td>\n",
       "      <td>SDIP.ST</td>\n",
       "      <td>2021-10-26</td>\n",
       "      <td>nan</td>\n",
       "    </tr>\n",
       "    <tr>\n",
       "      <td>382</td>\n",
       "      <td>Smart Wires</td>\n",
       "      <td>GOGRID-SDB.ST</td>\n",
       "      <td>NaT</td>\n",
       "      <td>nan</td>\n",
       "    </tr>\n",
       "  </tbody>\n",
       "</table>\n",
       "</div>"
      ],
      "text/plain": [
       "                Company           Yahoo Last Report  EA ret\n",
       "20   Aligro Planet SPAC  APAC-SPAC-A.ST         NaT     nan\n",
       "324              Pfizer          PFE.ST         NaT     nan\n",
       "364            Sdiptech         SDIP.ST  2021-10-26     nan\n",
       "382         Smart Wires   GOGRID-SDB.ST         NaT     nan"
      ]
     },
     "execution_count": 31,
     "metadata": {},
     "output_type": "execute_result"
    }
   ],
   "source": [
    "## Show errors\n",
    "data_tmp[data_tmp['EA ret'].isna()][['Company', 'Yahoo', 'Last Report', 'EA ret']]"
   ]
  },
  {
   "cell_type": "markdown",
   "metadata": {},
   "source": [
    "### TESTING TICKERS ONCE AGAIN, RE ENTER FAILED TICKERS BY HAND"
   ]
  },
  {
   "cell_type": "code",
   "execution_count": 32,
   "metadata": {},
   "outputs": [],
   "source": [
    "##### TESTING TICKERS ONCE AGAIN, RE ENTER FAILED TICKERS BY HAND #####\n",
    "j = None\n",
    "if j != None:\n",
    "    stock = yf.download(data_tmp.iloc[j]['Yahoo'],start='2020-01-01', progress = False, threads = False)\n",
    "    stock = stock['Close']\n",
    "    import_data = pd.concat([stock, index], axis = 1)\n",
    "    import_data.columns = ['stock', 'index']\n",
    "    import_data = import_data.dropna()\n",
    "\n",
    "    # get index of date of report\n",
    "    idx = import_data.index.get_loc(data_tmp.iloc[j]['Last Report'], method='nearest')\n",
    "    EA_data = import_data.iloc[idx - 2 : idx +2 ]\n",
    "\n",
    "    stock_idx = stock.index.get_loc(data_tmp.iloc[j]['Last Report'])\n",
    "\n",
    "    EA_ret = (EA_data.pct_change().dropna()+1).cumprod().tail(1)\n",
    "    pead_ret = float(EA_ret['stock'] - EA_ret['index'])\n",
    "    data_tmp.loc[j,\"EA ret\"]= pead_ret\n",
    "    data_tmp.loc[j, 'EA Volatility'] = np.log(stock.iloc[:idx]/stock.iloc[:idx].shift()).tail(60).std()*252**.5 \n",
    "    #Get MAD of stock\n",
    "    data_tmp.loc[j,\"1 Year MAD\"]= np.log(stock/stock.shift()).tail(252).mad()*252**.5*1.25\n",
    "    # Get volatility of stock\n",
    "    data_tmp.loc[j,\"1 Year Volatility\"]= np.log(stock/stock.shift()).tail(252).std()*252**.5"
   ]
  },
  {
   "cell_type": "code",
   "execution_count": 33,
   "metadata": {},
   "outputs": [],
   "source": [
    "# MANAGE NaNs and NEGATIVE EARNINGS  \n",
    "# set nan to min\n",
    "for i in ['Return 3m', 'Return 6m', 'Return 1y']:\n",
    "    data_tmp.loc[data_tmp[i].isna() ,i] = data_tmp[i].min()\n",
    "    \n",
    "data_tmp.loc[data_tmp['Volatility'].isna(),'Volatility'] = data_tmp['Volatility'].median()\n",
    "\n",
    "data_tmp.loc[data_tmp['EA ret'].isna(),'EA ret'] = data_tmp['EA ret'].median()\n",
    "data_tmp.loc[data_tmp['EA Volatility'].isna(),'EA Volatility'] = data_tmp['Volatility'].median()/100\n",
    "\n",
    "#Impute 100 day volatility for NANs\n",
    "data_tmp.loc[data_tmp['1 Year Volatility'].isna(),'1 Year Volatility'] = data_tmp.loc[data_tmp['1 Year Volatility'].isna(),'Volatility']/100\n",
    "\n",
    "#Impute median for NAN MAD\n",
    "data_tmp.loc[data_tmp['1 Year MAD'].isna(),'1 Year MAD'] = data_tmp['1 Year MAD'].median()"
   ]
  },
  {
   "cell_type": "code",
   "execution_count": 34,
   "metadata": {},
   "outputs": [],
   "source": [
    "## Impute EA std and calculate EA STD after everything has been imputed\n",
    "data_tmp[\"EA ret std\"] = data_tmp[\"EA ret\"]/((data_tmp[\"EA Volatility\"]*np.sqrt(3))/np.sqrt(252))\n",
    "\n",
    "#Impute median for NAN EA STD\n",
    "data_tmp.loc[data_tmp['EA ret std'].isna(),'EA ret std'] = data_tmp['EA ret std'].median()"
   ]
  },
  {
   "cell_type": "code",
   "execution_count": 35,
   "metadata": {},
   "outputs": [],
   "source": [
    "### SAVE cleaned file into a CSV\n",
    "save = \"YES\"\n",
    "if save == \"YES\":\n",
    "    data_date  = re.search(r'\\d{4}-\\d{2}-\\d{2}', file_name)\n",
    "    folder = '../clean_equity_data'\n",
    "    exp_file_name = \"clean_data_{}\".format(data_date.group(0))+ \".csv\"\n",
    "    data_tmp.to_csv(os.path.join(folder, exp_file_name))"
   ]
  },
  {
   "cell_type": "code",
   "execution_count": null,
   "metadata": {},
   "outputs": [],
   "source": []
  }
 ],
 "metadata": {
  "kernelspec": {
   "display_name": "Python 3",
   "language": "python",
   "name": "python3"
  },
  "language_info": {
   "codemirror_mode": {
    "name": "ipython",
    "version": 3
   },
   "file_extension": ".py",
   "mimetype": "text/x-python",
   "name": "python",
   "nbconvert_exporter": "python",
   "pygments_lexer": "ipython3",
   "version": "3.7.4"
  }
 },
 "nbformat": 4,
 "nbformat_minor": 2
}
