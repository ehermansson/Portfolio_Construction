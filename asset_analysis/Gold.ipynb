{
 "cells": [
  {
   "cell_type": "code",
   "execution_count": 59,
   "metadata": {},
   "outputs": [],
   "source": [
    "import yfinance as yf \n",
    "import pandas as pd\n",
    "from matplotlib import pylab as plt\n",
    "import numpy as np\n",
    "from datetime import datetime \n",
    "\n",
    "import quandl\n",
    "\n",
    "import seaborn as sns\n",
    "\n",
    "import sys\n",
    "\n",
    "from scipy.stats import norm\n",
    "import pandas_datareader.data as web\n",
    "\n",
    "from sklearn.linear_model import LinearRegression\n",
    "from sklearn import metrics"
   ]
  },
  {
   "cell_type": "markdown",
   "metadata": {},
   "source": [
    "# Analysis of the Drivers of Gold\n",
    "\n",
    "This script looks for what drives the price of Gold, which should be inflation since Gold is a dead asset. With low inflation of the monetary system gold should perform poorly. But is this true? Lets find out."
   ]
  },
  {
   "cell_type": "code",
   "execution_count": 14,
   "metadata": {},
   "outputs": [],
   "source": [
    "Gold_tmp = quandl.get(\"LBMA/GOLD\", authtoken=\"6rNSyTM5R4g7_B7XSyQW\")\n",
    "M2_tmp = web.DataReader(\"M2NS\", \"fred\", datetime(1960, 1, 1))"
   ]
  },
  {
   "cell_type": "code",
   "execution_count": 19,
   "metadata": {},
   "outputs": [],
   "source": [
    "Gold =Gold_tmp['USD (AM)']\n",
    "\n",
    "Gold = Gold.resample('M').last()"
   ]
  },
  {
   "cell_type": "code",
   "execution_count": 65,
   "metadata": {},
   "outputs": [],
   "source": [
    "data_tmp = pd.concat([Gold, M2_tmp], axis = 1)\n",
    "data_tmp = data_tmp.ffill()\n",
    "data_tmp = data_tmp.dropna()\n",
    "\n",
    "dates_month = pd.bdate_range(data_tmp.index.min(), data_tmp.index.max(), freq='1M')\n",
    "data = data_tmp[data_tmp.index.isin(dates_month)]\n",
    "\n",
    "data = data.pct_change(3)\n",
    "data = data.dropna()\n",
    "data.columns = ['Gold', 'M2']"
   ]
  },
  {
   "cell_type": "code",
   "execution_count": 66,
   "metadata": {},
   "outputs": [
    {
     "name": "stdout",
     "output_type": "stream",
     "text": [
      "Correlation: 0.01456413898767907\n"
     ]
    },
    {
     "data": {
      "image/png": "[encoded data removed]",
      "text/plain": [
       "<Figure size 432x288 with 1 Axes>"
      ]
     },
     "metadata": {
      "needs_background": "light"
     },
     "output_type": "display_data"
    }
   ],
   "source": [
    "regressor = LinearRegression()  \n",
    "regressor.fit(data['Gold'].values.reshape(-1,1), data['M2'].values.reshape(-1,1))\n",
    "\n",
    "y_pred = regressor.predict(data['Gold'].values.reshape(-1,1))\n",
    "\n",
    "plt.scatter(data['Gold'], data['M2'])\n",
    "plt.plot(data['Gold'], y_pred, color='red', linewidth=2)\n",
    "\n",
    "print(\"Correlation: \" + str(float(regressor.coef_)))"
   ]
  },
  {
   "cell_type": "code",
   "execution_count": null,
   "metadata": {},
   "outputs": [],
   "source": []
  }
 ],
 "metadata": {
  "kernelspec": {
   "display_name": "Python 3",
   "language": "python",
   "name": "python3"
  },
  "language_info": {
   "codemirror_mode": {
    "name": "ipython",
    "version": 3
   },
   "file_extension": ".py",
   "mimetype": "text/x-python",
   "name": "python",
   "nbconvert_exporter": "python",
   "pygments_lexer": "ipython3",
   "version": "3.7.4"
  }
 },
 "nbformat": 4,
 "nbformat_minor": 2
}
