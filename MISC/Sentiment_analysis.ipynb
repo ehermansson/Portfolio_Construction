{
 "cells": [
  {
   "cell_type": "code",
   "execution_count": 45,
   "metadata": {},
   "outputs": [],
   "source": [
    "import quandl\n",
    "import pandas as pd\n",
    "import seaborn as sns"
   ]
  },
  {
   "cell_type": "code",
   "execution_count": 28,
   "metadata": {},
   "outputs": [],
   "source": [
    "def Z_score(data):\n",
    "    # not including the current observation\n",
    "    std = data.iloc[:-1].std()\n",
    "    mean = data.iloc[:-1].mean()\n",
    "    Z = (data[-1:] - mean)/std\n",
    "    return Z"
   ]
  },
  {
   "cell_type": "code",
   "execution_count": 43,
   "metadata": {},
   "outputs": [],
   "source": [
    "def color_negative_red(value):\n",
    "    \"\"\"\n",
    "      Colors elements in a dateframe\n",
    "      green if positive and red if\n",
    "      negative. Does not color NaN\n",
    "      values.\n",
    "      \"\"\"\n",
    "\n",
    "    if value < 0:\n",
    "        color = 'red'\n",
    "    elif value > 0:\n",
    "        color = 'green'\n",
    "    else:\n",
    "        color = 'black'\n",
    "\n",
    "    return 'color: %s' % color"
   ]
  },
  {
   "cell_type": "markdown",
   "metadata": {},
   "source": [
    "# Sentiment analysis (Futures only)\n",
    "- sp500\n",
    "- gold\n",
    "- dollar\n",
    "\n",
    "\n",
    "Z score for net positions (1 and 3 years) and change in position (1 month and 3 months).\n",
    "\n"
   ]
  },
  {
   "cell_type": "code",
   "execution_count": 4,
   "metadata": {},
   "outputs": [],
   "source": [
    "#data import\n",
    "\n",
    "gold_tmp = quandl.get(\"CFTC/088691_F_L_ALL\")\n",
    "sp500_tmp = quandl.get(\"CFTC/138741_F_L_ALL\")\n",
    "dxy_tmp = quandl.get(\"CFTC/098662_F_L_ALL\")\n"
   ]
  },
  {
   "cell_type": "code",
   "execution_count": 22,
   "metadata": {},
   "outputs": [],
   "source": [
    "assets = [gold_tmp,sp500_tmp, dxy_tmp ]\n",
    "asset_names = ['Gold', 'SP500', 'DXY']"
   ]
  },
  {
   "cell_type": "code",
   "execution_count": 39,
   "metadata": {},
   "outputs": [],
   "source": [
    "for asset in assets:\n",
    "    asset['Net Position'] = asset['Noncommercial Long'] - asset['Noncommercial Short']\n",
    "    asset['1 Yr Z Score'] = asset['Net Position'].rolling(52).apply(lambda x: Z_score(x),raw=False)\n",
    "    asset['3 Yr Z Score'] = asset['Net Position'].rolling(3 * 52).apply(lambda x: Z_score(x),raw=False) \n",
    "    asset['1 Month Change'] = asset['Net Position'].pct_change(4)  \n",
    "    asset['3 Month Change'] = asset['Net Position'].pct_change(3*4)"
   ]
  },
  {
   "cell_type": "code",
   "execution_count": 47,
   "metadata": {},
   "outputs": [],
   "source": [
    "TOTAL_ASSETS = None\n",
    "\n",
    "for asset in assets:\n",
    "    \n",
    "    TOTAL_ASSETS = pd.concat([TOTAL_ASSETS, asset.tail(1)], axis = 0)\n",
    "    \n",
    "TOTAL_ASSETS['Asset'] = asset_names\n",
    "TOTAL_ASSETS.set_index(['Asset'], inplace=True, drop=True)\n",
    "\n",
    "compact = ['1 Yr Z Score', '3 Yr Z Score', '1 Month Change', '3 Month Change']\n",
    "TOTAL_ASSETS = TOTAL_ASSETS[compact]"
   ]
  },
  {
   "cell_type": "code",
   "execution_count": 48,
   "metadata": {
    "scrolled": true
   },
   "outputs": [
    {
     "data": {
      "text/html": [
       "<div>\n",
       "<style scoped>\n",
       "    .dataframe tbody tr th:only-of-type {\n",
       "        vertical-align: middle;\n",
       "    }\n",
       "\n",
       "    .dataframe tbody tr th {\n",
       "        vertical-align: top;\n",
       "    }\n",
       "\n",
       "    .dataframe thead th {\n",
       "        text-align: right;\n",
       "    }\n",
       "</style>\n",
       "<table border=\"1\" class=\"dataframe\">\n",
       "  <thead>\n",
       "    <tr style=\"text-align: right;\">\n",
       "      <th></th>\n",
       "      <th>1 Yr Z Score</th>\n",
       "      <th>3 Yr Z Score</th>\n",
       "      <th>1 Month Change</th>\n",
       "      <th>3 Month Change</th>\n",
       "    </tr>\n",
       "    <tr>\n",
       "      <th>Asset</th>\n",
       "      <th></th>\n",
       "      <th></th>\n",
       "      <th></th>\n",
       "      <th></th>\n",
       "    </tr>\n",
       "  </thead>\n",
       "  <tbody>\n",
       "    <tr>\n",
       "      <td>Gold</td>\n",
       "      <td>0.223761</td>\n",
       "      <td>0.903316</td>\n",
       "      <td>0.080845</td>\n",
       "      <td>0.239770</td>\n",
       "    </tr>\n",
       "    <tr>\n",
       "      <td>SP500</td>\n",
       "      <td>-0.412524</td>\n",
       "      <td>0.041462</td>\n",
       "      <td>-0.487482</td>\n",
       "      <td>-0.832417</td>\n",
       "    </tr>\n",
       "    <tr>\n",
       "      <td>DXY</td>\n",
       "      <td>-1.782527</td>\n",
       "      <td>-1.964866</td>\n",
       "      <td>13.431211</td>\n",
       "      <td>0.536847</td>\n",
       "    </tr>\n",
       "  </tbody>\n",
       "</table>\n",
       "</div>"
      ],
      "text/plain": [
       "       1 Yr Z Score  3 Yr Z Score  1 Month Change  3 Month Change\n",
       "Asset                                                            \n",
       "Gold       0.223761      0.903316        0.080845        0.239770\n",
       "SP500     -0.412524      0.041462       -0.487482       -0.832417\n",
       "DXY       -1.782527     -1.964866       13.431211        0.536847"
      ]
     },
     "execution_count": 48,
     "metadata": {},
     "output_type": "execute_result"
    }
   ],
   "source": [
    "TOTAL_ASSETS"
   ]
  },
  {
   "cell_type": "markdown",
   "metadata": {},
   "source": [
    "## Display Results"
   ]
  },
  {
   "cell_type": "code",
   "execution_count": 49,
   "metadata": {},
   "outputs": [],
   "source": [
    "th_props = [\n",
    "  ('font-size', '16px'),\n",
    "  ('text-align', 'center'),\n",
    "  ('font-weight', 'bold'),\n",
    "  ('color', 'Black'),\n",
    "  ('background-color', '#f7f7f9')\n",
    "  ]\n",
    "\n",
    "\n",
    "# Set CSS properties for td elements in dataframe\n",
    "td_props = [('font-size', '16px'), ('text-align', 'center')]\n",
    "\n",
    "# Set table styles\n",
    "styles = [\n",
    "    dict(selector=\"th\", props=th_props),\n",
    "    dict(selector=\"td\", props=td_props)\n",
    "]\n",
    "\n",
    "cm_low_good = sns.diverging_palette(150, 10, s=80, l=70, n=len(TOTAL_ASSETS.columns), as_cmap=True)#sns.light_palette(\"green\", as_cmap=True)\n",
    "cm_high_good = sns.diverging_palette(10, 150, s=80, l=70, n=len(TOTAL_ASSETS.columns), as_cmap=True)\n",
    "\n",
    "TOTAL_ASSETS_VIEW = (TOTAL_ASSETS.style\n",
    "    .applymap(color_negative_red, subset=['1 Yr Z Score', '3 Yr Z Score', '1 Month Change', '3 Month Change'])\n",
    "    #.background_gradient(axis = 0 ,subset = ['DSSP', 'HIDI'],cmap=cm_high_good)\n",
    "    #.background_gradient(axis = 0 ,subset = ['VRANK', 'MRANK','CRANK', 'ST'],cmap=cm_low_good)\n",
    "    #.set_caption('Performance Metrics')\n",
    "    .format({'1 Month Change': \"{:.1%}\",'3 Month Change': \"{:.1%}\", '1 Yr Z Score': \"{:.2f}\", '3 Yr Z Score': \"{:.2f}\"})\n",
    "    .set_table_styles(styles))"
   ]
  },
  {
   "cell_type": "code",
   "execution_count": 50,
   "metadata": {},
   "outputs": [
    {
     "data": {
      "text/html": [
       "<style  type=\"text/css\" >\n",
       "    #T_0dcc3f40_490c_11eb_93bf_8c859039bca2 th {\n",
       "          font-size: 16px;\n",
       "          text-align: center;\n",
       "          font-weight: bold;\n",
       "          color: Black;\n",
       "          background-color: #f7f7f9;\n",
       "    }    #T_0dcc3f40_490c_11eb_93bf_8c859039bca2 td {\n",
       "          font-size: 16px;\n",
       "          text-align: center;\n",
       "    }    #T_0dcc3f40_490c_11eb_93bf_8c859039bca2row0_col0 {\n",
       "            color:  green;\n",
       "        }    #T_0dcc3f40_490c_11eb_93bf_8c859039bca2row0_col1 {\n",
       "            color:  green;\n",
       "        }    #T_0dcc3f40_490c_11eb_93bf_8c859039bca2row0_col2 {\n",
       "            color:  green;\n",
       "        }    #T_0dcc3f40_490c_11eb_93bf_8c859039bca2row0_col3 {\n",
       "            color:  green;\n",
       "        }    #T_0dcc3f40_490c_11eb_93bf_8c859039bca2row1_col0 {\n",
       "            color:  red;\n",
       "        }    #T_0dcc3f40_490c_11eb_93bf_8c859039bca2row1_col1 {\n",
       "            color:  green;\n",
       "        }    #T_0dcc3f40_490c_11eb_93bf_8c859039bca2row1_col2 {\n",
       "            color:  red;\n",
       "        }    #T_0dcc3f40_490c_11eb_93bf_8c859039bca2row1_col3 {\n",
       "            color:  red;\n",
       "        }    #T_0dcc3f40_490c_11eb_93bf_8c859039bca2row2_col0 {\n",
       "            color:  red;\n",
       "        }    #T_0dcc3f40_490c_11eb_93bf_8c859039bca2row2_col1 {\n",
       "            color:  red;\n",
       "        }    #T_0dcc3f40_490c_11eb_93bf_8c859039bca2row2_col2 {\n",
       "            color:  green;\n",
       "        }    #T_0dcc3f40_490c_11eb_93bf_8c859039bca2row2_col3 {\n",
       "            color:  green;\n",
       "        }</style><table id=\"T_0dcc3f40_490c_11eb_93bf_8c859039bca2\" ><thead>    <tr>        <th class=\"blank level0\" ></th>        <th class=\"col_heading level0 col0\" >1 Yr Z Score</th>        <th class=\"col_heading level0 col1\" >3 Yr Z Score</th>        <th class=\"col_heading level0 col2\" >1 Month Change</th>        <th class=\"col_heading level0 col3\" >3 Month Change</th>    </tr>    <tr>        <th class=\"index_name level0\" >Asset</th>        <th class=\"blank\" ></th>        <th class=\"blank\" ></th>        <th class=\"blank\" ></th>        <th class=\"blank\" ></th>    </tr></thead><tbody>\n",
       "                <tr>\n",
       "                        <th id=\"T_0dcc3f40_490c_11eb_93bf_8c859039bca2level0_row0\" class=\"row_heading level0 row0\" >Gold</th>\n",
       "                        <td id=\"T_0dcc3f40_490c_11eb_93bf_8c859039bca2row0_col0\" class=\"data row0 col0\" >0.22</td>\n",
       "                        <td id=\"T_0dcc3f40_490c_11eb_93bf_8c859039bca2row0_col1\" class=\"data row0 col1\" >0.90</td>\n",
       "                        <td id=\"T_0dcc3f40_490c_11eb_93bf_8c859039bca2row0_col2\" class=\"data row0 col2\" >8.1%</td>\n",
       "                        <td id=\"T_0dcc3f40_490c_11eb_93bf_8c859039bca2row0_col3\" class=\"data row0 col3\" >24.0%</td>\n",
       "            </tr>\n",
       "            <tr>\n",
       "                        <th id=\"T_0dcc3f40_490c_11eb_93bf_8c859039bca2level0_row1\" class=\"row_heading level0 row1\" >SP500</th>\n",
       "                        <td id=\"T_0dcc3f40_490c_11eb_93bf_8c859039bca2row1_col0\" class=\"data row1 col0\" >-0.41</td>\n",
       "                        <td id=\"T_0dcc3f40_490c_11eb_93bf_8c859039bca2row1_col1\" class=\"data row1 col1\" >0.04</td>\n",
       "                        <td id=\"T_0dcc3f40_490c_11eb_93bf_8c859039bca2row1_col2\" class=\"data row1 col2\" >-48.7%</td>\n",
       "                        <td id=\"T_0dcc3f40_490c_11eb_93bf_8c859039bca2row1_col3\" class=\"data row1 col3\" >-83.2%</td>\n",
       "            </tr>\n",
       "            <tr>\n",
       "                        <th id=\"T_0dcc3f40_490c_11eb_93bf_8c859039bca2level0_row2\" class=\"row_heading level0 row2\" >DXY</th>\n",
       "                        <td id=\"T_0dcc3f40_490c_11eb_93bf_8c859039bca2row2_col0\" class=\"data row2 col0\" >-1.78</td>\n",
       "                        <td id=\"T_0dcc3f40_490c_11eb_93bf_8c859039bca2row2_col1\" class=\"data row2 col1\" >-1.96</td>\n",
       "                        <td id=\"T_0dcc3f40_490c_11eb_93bf_8c859039bca2row2_col2\" class=\"data row2 col2\" >1343.1%</td>\n",
       "                        <td id=\"T_0dcc3f40_490c_11eb_93bf_8c859039bca2row2_col3\" class=\"data row2 col3\" >53.7%</td>\n",
       "            </tr>\n",
       "    </tbody></table>"
      ],
      "text/plain": [
       "<pandas.io.formats.style.Styler at 0x7fb48ee62710>"
      ]
     },
     "execution_count": 50,
     "metadata": {},
     "output_type": "execute_result"
    }
   ],
   "source": [
    "TOTAL_ASSETS_VIEW"
   ]
  },
  {
   "cell_type": "code",
   "execution_count": 53,
   "metadata": {},
   "outputs": [
    {
     "data": {
      "text/plain": [
       "14.416410256410256"
      ]
     },
     "execution_count": 53,
     "metadata": {},
     "output_type": "execute_result"
    }
   ],
   "source": [
    "(-14056)/(-975)"
   ]
  }
 ],
 "metadata": {
  "kernelspec": {
   "display_name": "Python 3",
   "language": "python",
   "name": "python3"
  },
  "language_info": {
   "codemirror_mode": {
    "name": "ipython",
    "version": 3
   },
   "file_extension": ".py",
   "mimetype": "text/x-python",
   "name": "python",
   "nbconvert_exporter": "python",
   "pygments_lexer": "ipython3",
   "version": "3.7.4"
  }
 },
 "nbformat": 4,
 "nbformat_minor": 2
}
