{
 "cells": [
  {
   "cell_type": "code",
   "execution_count": 1,
   "metadata": {},
   "outputs": [],
   "source": [
    "import yfinance as yf \n",
    "import pandas as pd\n",
    "from matplotlib import pylab as plt\n",
    "import numpy as np\n",
    "from datetime import datetime\n",
    "import pandas_datareader.data as web\n",
    "\n",
    "from time import sleep\n",
    "\n",
    "import quandl\n",
    "\n",
    "import seaborn as sns\n",
    "\n",
    "import sys\n",
    "\n",
    "from scipy.stats import norm\n",
    "from statsmodels.distributions.empirical_distribution import ECDF\n",
    "import urllib\n",
    "from datetime import date , timedelta"
   ]
  },
  {
   "cell_type": "code",
   "execution_count": 2,
   "metadata": {},
   "outputs": [],
   "source": [
    "def color_negative_red(value):\n",
    "    \"\"\"\n",
    "      Colors elements in a dateframe\n",
    "      green if positive and red if\n",
    "      negative. Does not color NaN\n",
    "      values.\n",
    "      \"\"\"\n",
    "\n",
    "    if value < 0:\n",
    "        color = 'red'\n",
    "    elif value > 0:\n",
    "        color = 'green'\n",
    "    else:\n",
    "        color = 'black'\n",
    "\n",
    "    return 'color: %s' % color"
   ]
  },
  {
   "cell_type": "markdown",
   "metadata": {},
   "source": [
    "# Macro Analysis\n",
    "\n",
    "To Do\n",
    "- Economic Quadrant\n",
    "- Econmic Quadrant with Rate of Change\n",
    "- M2 growth\n",
    "- M2 Acceleration\n",
    "- 10Y bond yield rate of change\n",
    "- Include Qualtiles of all\n",
    "- Present in a nice format\n",
    "- economic policy\n",
    "-  Sentiment (TED spread, )"
   ]
  },
  {
   "cell_type": "code",
   "execution_count": 60,
   "metadata": {},
   "outputs": [],
   "source": [
    "GDP_tmp = web.DataReader('GDPC1','fred', '1970-01-01') #Quaterly\n",
    "CPI_tmp = web.DataReader('CPIAUCSL','fred', '1970-01-01') # Monthly\n",
    "yield10_tmp = web.DataReader('DGS10','fred', '1970-01-01') # Daily\n",
    "M2_tmp = web.DataReader('M2','fred', '1970-01-01') # Weekly\n",
    "yield2_tmp = web.DataReader('DGS2','fred', '1970-01-01') # Daily\n",
    "IP_tmp =  web.DataReader('INDPRO','fred', '1970-01-01') #monthly"
   ]
  },
  {
   "cell_type": "markdown",
   "metadata": {},
   "source": [
    "### Rate of Change YoY"
   ]
  },
  {
   "cell_type": "code",
   "execution_count": 86,
   "metadata": {},
   "outputs": [],
   "source": [
    "#We want diff from 1 year ago!!\n",
    "\n",
    "IP_RC = IP_tmp.pct_change(12).diff(12)\n",
    "CPI_RC = CPI_tmp.pct_change(12).diff(12)\n",
    "yield2_change = yield2_tmp.diff(252)\n",
    "\n",
    "RC_tmp = pd.concat([IP_RC, CPI_RC],axis =1)\n",
    "\n",
    "tol = pd.Timedelta('5 day')\n",
    "RC_Data = pd.merge_asof(left=RC_tmp,right=yield2_change,right_index=True,left_index=True,direction='nearest',tolerance=tol)\n",
    "RC_Data.columns = [\"IP\", \"CPI\", '2 Year Yield']\n",
    "RC_Data = RC_Data.dropna()\n",
    "\n",
    "RC_Data.index = RC_Data.index.to_period('M')"
   ]
  },
  {
   "cell_type": "markdown",
   "metadata": {},
   "source": [
    "## Dashboard"
   ]
  },
  {
   "cell_type": "code",
   "execution_count": 90,
   "metadata": {},
   "outputs": [],
   "source": [
    "macro_dash = RC_Data.tail(12)\n",
    "th_props = [\n",
    "  ('font-size', '16px'),\n",
    "  ('text-align', 'center'),\n",
    "  ('font-weight', 'bold'),\n",
    "  ('color', 'Black'),\n",
    "  ('background-color', '#f7f7f9')\n",
    "  ]\n",
    "\n",
    "\n",
    "# Set CSS properties for td elements in dataframe\n",
    "td_props = [('font-size', '16px'), ('text-align', 'center')]\n",
    "\n",
    "# Set table styles\n",
    "styles = [\n",
    "    dict(selector=\"th\", props=th_props),\n",
    "    dict(selector=\"td\", props=td_props)\n",
    "]\n",
    "\n",
    "cm_low_good = sns.diverging_palette(150, 10, s=80, l=70, n=len(macro_dash.columns), as_cmap=True)#sns.light_palette(\"green\", as_cmap=True)\n",
    "cm_high_good = sns.diverging_palette(10, 150, s=80, l=70, n=len(macro_dash.columns), as_cmap=True)\n",
    "\n",
    "macro_dash_VIEW = (macro_dash.style\n",
    "    .applymap(color_negative_red, subset=['IP', 'CPI', '2 Year Yield'])\n",
    "    #.background_gradient(axis = 0 ,subset = ['DSSP', 'HIDI'],cmap=cm_high_good)\n",
    "    #.background_gradient(axis = 0 ,subset = ['VRANK', 'MRANK','CRANK', 'ST'],cmap=cm_low_good)\n",
    "    #.set_caption('Performance Metrics')\n",
    "    .format({'IP': \"{:.1%}\",'CPI': \"{:.1%}\", '2 Year Yield': \"{:.2f}\"})\n",
    "    .set_table_styles(styles))"
   ]
  },
  {
   "cell_type": "code",
   "execution_count": 91,
   "metadata": {
    "scrolled": false
   },
   "outputs": [
    {
     "data": {
      "text/html": [
       "<style type=\"text/css\">\n",
       "#T_7ca25_ th {\n",
       "  font-size: 16px;\n",
       "  text-align: center;\n",
       "  font-weight: bold;\n",
       "  color: Black;\n",
       "  background-color: #f7f7f9;\n",
       "}\n",
       "#T_7ca25_ td {\n",
       "  font-size: 16px;\n",
       "  text-align: center;\n",
       "}\n",
       "#T_7ca25_row0_col0, #T_7ca25_row0_col1, #T_7ca25_row0_col2, #T_7ca25_row1_col0, #T_7ca25_row1_col1, #T_7ca25_row1_col2, #T_7ca25_row2_col2, #T_7ca25_row3_col2, #T_7ca25_row5_col2 {\n",
       "  color: red;\n",
       "}\n",
       "#T_7ca25_row2_col0, #T_7ca25_row2_col1, #T_7ca25_row3_col0, #T_7ca25_row3_col1, #T_7ca25_row4_col0, #T_7ca25_row4_col1, #T_7ca25_row5_col0, #T_7ca25_row5_col1, #T_7ca25_row6_col0, #T_7ca25_row6_col1, #T_7ca25_row6_col2, #T_7ca25_row7_col0, #T_7ca25_row7_col1, #T_7ca25_row7_col2, #T_7ca25_row8_col0, #T_7ca25_row8_col1, #T_7ca25_row8_col2, #T_7ca25_row9_col0, #T_7ca25_row9_col1, #T_7ca25_row9_col2, #T_7ca25_row10_col0, #T_7ca25_row10_col1, #T_7ca25_row10_col2, #T_7ca25_row11_col0, #T_7ca25_row11_col1, #T_7ca25_row11_col2 {\n",
       "  color: green;\n",
       "}\n",
       "#T_7ca25_row4_col2 {\n",
       "  color: black;\n",
       "}\n",
       "</style>\n",
       "<table id=\"T_7ca25_\">\n",
       "  <thead>\n",
       "    <tr>\n",
       "      <th class=\"blank level0\" >&nbsp;</th>\n",
       "      <th class=\"col_heading level0 col0\" >IP</th>\n",
       "      <th class=\"col_heading level0 col1\" >CPI</th>\n",
       "      <th class=\"col_heading level0 col2\" >2 Year Yield</th>\n",
       "    </tr>\n",
       "    <tr>\n",
       "      <th class=\"index_name level0\" >DATE</th>\n",
       "      <th class=\"blank col0\" >&nbsp;</th>\n",
       "      <th class=\"blank col1\" >&nbsp;</th>\n",
       "      <th class=\"blank col2\" >&nbsp;</th>\n",
       "    </tr>\n",
       "  </thead>\n",
       "  <tbody>\n",
       "    <tr>\n",
       "      <th id=\"T_7ca25_level0_row0\" class=\"row_heading level0 row0\" >2020-12</th>\n",
       "      <td id=\"T_7ca25_row0_col0\" class=\"data row0 col0\" >-1.1%</td>\n",
       "      <td id=\"T_7ca25_row0_col1\" class=\"data row0 col1\" >-1.0%</td>\n",
       "      <td id=\"T_7ca25_row0_col2\" class=\"data row0 col2\" >-1.44</td>\n",
       "    </tr>\n",
       "    <tr>\n",
       "      <th id=\"T_7ca25_level0_row1\" class=\"row_heading level0 row1\" >2021-02</th>\n",
       "      <td id=\"T_7ca25_row1_col0\" class=\"data row1 col0\" >-3.5%</td>\n",
       "      <td id=\"T_7ca25_row1_col1\" class=\"data row1 col1\" >-0.6%</td>\n",
       "      <td id=\"T_7ca25_row1_col2\" class=\"data row1 col2\" >-1.33</td>\n",
       "    </tr>\n",
       "    <tr>\n",
       "      <th id=\"T_7ca25_level0_row2\" class=\"row_heading level0 row2\" >2021-03</th>\n",
       "      <td id=\"T_7ca25_row2_col0\" class=\"data row2 col0\" >7.0%</td>\n",
       "      <td id=\"T_7ca25_row2_col1\" class=\"data row2 col1\" >1.1%</td>\n",
       "      <td id=\"T_7ca25_row2_col2\" class=\"data row2 col2\" >-0.37</td>\n",
       "    </tr>\n",
       "    <tr>\n",
       "      <th id=\"T_7ca25_level0_row3\" class=\"row_heading level0 row3\" >2021-04</th>\n",
       "      <td id=\"T_7ca25_row3_col0\" class=\"data row3 col0\" >35.5%</td>\n",
       "      <td id=\"T_7ca25_row3_col1\" class=\"data row3 col1\" >3.8%</td>\n",
       "      <td id=\"T_7ca25_row3_col2\" class=\"data row3 col2\" >-0.06</td>\n",
       "    </tr>\n",
       "    <tr>\n",
       "      <th id=\"T_7ca25_level0_row4\" class=\"row_heading level0 row4\" >2021-05</th>\n",
       "      <td id=\"T_7ca25_row4_col0\" class=\"data row4 col0\" >32.6%</td>\n",
       "      <td id=\"T_7ca25_row4_col1\" class=\"data row4 col1\" >4.7%</td>\n",
       "      <td id=\"T_7ca25_row4_col2\" class=\"data row4 col2\" >0.00</td>\n",
       "    </tr>\n",
       "    <tr>\n",
       "      <th id=\"T_7ca25_level0_row5\" class=\"row_heading level0 row5\" >2021-06</th>\n",
       "      <td id=\"T_7ca25_row5_col0\" class=\"data row5 col0\" >21.2%</td>\n",
       "      <td id=\"T_7ca25_row5_col1\" class=\"data row5 col1\" >4.6%</td>\n",
       "      <td id=\"T_7ca25_row5_col2\" class=\"data row5 col2\" >-0.03</td>\n",
       "    </tr>\n",
       "    <tr>\n",
       "      <th id=\"T_7ca25_level0_row6\" class=\"row_heading level0 row6\" >2021-07</th>\n",
       "      <td id=\"T_7ca25_row6_col0\" class=\"data row6 col0\" >13.6%</td>\n",
       "      <td id=\"T_7ca25_row6_col1\" class=\"data row6 col1\" >4.2%</td>\n",
       "      <td id=\"T_7ca25_row6_col2\" class=\"data row6 col2\" >0.11</td>\n",
       "    </tr>\n",
       "    <tr>\n",
       "      <th id=\"T_7ca25_level0_row7\" class=\"row_heading level0 row7\" >2021-08</th>\n",
       "      <td id=\"T_7ca25_row7_col0\" class=\"data row7 col0\" >11.9%</td>\n",
       "      <td id=\"T_7ca25_row7_col1\" class=\"data row7 col1\" >3.9%</td>\n",
       "      <td id=\"T_7ca25_row7_col2\" class=\"data row7 col2\" >0.01</td>\n",
       "    </tr>\n",
       "    <tr>\n",
       "      <th id=\"T_7ca25_level0_row8\" class=\"row_heading level0 row8\" >2021-09</th>\n",
       "      <td id=\"T_7ca25_row8_col0\" class=\"data row8 col0\" >11.2%</td>\n",
       "      <td id=\"T_7ca25_row8_col1\" class=\"data row8 col1\" >4.0%</td>\n",
       "      <td id=\"T_7ca25_row8_col2\" class=\"data row8 col2\" >0.06</td>\n",
       "    </tr>\n",
       "    <tr>\n",
       "      <th id=\"T_7ca25_level0_row9\" class=\"row_heading level0 row9\" >2021-10</th>\n",
       "      <td id=\"T_7ca25_row9_col0\" class=\"data row9 col0\" >9.5%</td>\n",
       "      <td id=\"T_7ca25_row9_col1\" class=\"data row9 col1\" >5.0%</td>\n",
       "      <td id=\"T_7ca25_row9_col2\" class=\"data row9 col2\" >0.13</td>\n",
       "    </tr>\n",
       "    <tr>\n",
       "      <th id=\"T_7ca25_level0_row10\" class=\"row_heading level0 row10\" >2021-11</th>\n",
       "      <td id=\"T_7ca25_row10_col0\" class=\"data row10 col0\" >9.7%</td>\n",
       "      <td id=\"T_7ca25_row10_col1\" class=\"data row10 col1\" >5.7%</td>\n",
       "      <td id=\"T_7ca25_row10_col2\" class=\"data row10 col2\" >0.33</td>\n",
       "    </tr>\n",
       "    <tr>\n",
       "      <th id=\"T_7ca25_level0_row11\" class=\"row_heading level0 row11\" >2021-12</th>\n",
       "      <td id=\"T_7ca25_row11_col0\" class=\"data row11 col0\" >6.9%</td>\n",
       "      <td id=\"T_7ca25_row11_col1\" class=\"data row11 col1\" >5.8%</td>\n",
       "      <td id=\"T_7ca25_row11_col2\" class=\"data row11 col2\" >0.43</td>\n",
       "    </tr>\n",
       "  </tbody>\n",
       "</table>\n"
      ],
      "text/plain": [
       "<pandas.io.formats.style.Styler at 0x7f8b2e9231d0>"
      ]
     },
     "execution_count": 91,
     "metadata": {},
     "output_type": "execute_result"
    }
   ],
   "source": [
    "macro_dash_VIEW"
   ]
  },
  {
   "cell_type": "markdown",
   "metadata": {},
   "source": [
    "# Rolling Correlation Estimation\n",
    "- SPY\n",
    "- Gold\n",
    "- IEF (10 Yr Bond)\n",
    "- TIPS"
   ]
  },
  {
   "cell_type": "code",
   "execution_count": 89,
   "metadata": {},
   "outputs": [
    {
     "name": "stdout",
     "output_type": "stream",
     "text": [
      "[*********************100%***********************]  1 of 1 completed\n",
      "[*********************100%***********************]  1 of 1 completed\n",
      "[*********************100%***********************]  1 of 1 completed\n",
      "[*********************100%***********************]  1 of 1 completed\n",
      "[*********************100%***********************]  1 of 1 completed\n"
     ]
    }
   ],
   "source": [
    "spy_tmp = yf.download('SPY') \n",
    "gld_tmp = yf.download('GLD') \n",
    "ief_tmp = yf.download('IEF') \n",
    "tips_tmp = yf.download('TIP') \n",
    "dbc_tmp = yf.download('DBC')"
   ]
  },
  {
   "cell_type": "code",
   "execution_count": 37,
   "metadata": {},
   "outputs": [],
   "source": [
    "spy = spy_tmp['Close']\n",
    "gld = gld_tmp['Close']\n",
    "ief = ief_tmp['Close']\n",
    "tips = tips_tmp['Close']\n",
    "dbc = dbc_tmp['Close']"
   ]
  },
  {
   "cell_type": "code",
   "execution_count": 38,
   "metadata": {},
   "outputs": [
    {
     "data": {
      "text/html": [
       "<div>\n",
       "<style scoped>\n",
       "    .dataframe tbody tr th:only-of-type {\n",
       "        vertical-align: middle;\n",
       "    }\n",
       "\n",
       "    .dataframe tbody tr th {\n",
       "        vertical-align: top;\n",
       "    }\n",
       "\n",
       "    .dataframe thead th {\n",
       "        text-align: right;\n",
       "    }\n",
       "</style>\n",
       "<table border=\"1\" class=\"dataframe\">\n",
       "  <thead>\n",
       "    <tr style=\"text-align: right;\">\n",
       "      <th></th>\n",
       "      <th>SP500</th>\n",
       "      <th>Gold</th>\n",
       "      <th>10Yr Bonds</th>\n",
       "      <th>TIPS</th>\n",
       "      <th>Commodities</th>\n",
       "    </tr>\n",
       "  </thead>\n",
       "  <tbody>\n",
       "    <tr>\n",
       "      <th>SP500</th>\n",
       "      <td>1.000000</td>\n",
       "      <td>0.057127</td>\n",
       "      <td>-0.277466</td>\n",
       "      <td>0.166602</td>\n",
       "      <td>0.525979</td>\n",
       "    </tr>\n",
       "    <tr>\n",
       "      <th>Gold</th>\n",
       "      <td>0.057127</td>\n",
       "      <td>1.000000</td>\n",
       "      <td>0.257071</td>\n",
       "      <td>0.325368</td>\n",
       "      <td>0.177160</td>\n",
       "    </tr>\n",
       "    <tr>\n",
       "      <th>10Yr Bonds</th>\n",
       "      <td>-0.277466</td>\n",
       "      <td>0.257071</td>\n",
       "      <td>1.000000</td>\n",
       "      <td>0.542151</td>\n",
       "      <td>-0.363490</td>\n",
       "    </tr>\n",
       "    <tr>\n",
       "      <th>TIPS</th>\n",
       "      <td>0.166602</td>\n",
       "      <td>0.325368</td>\n",
       "      <td>0.542151</td>\n",
       "      <td>1.000000</td>\n",
       "      <td>-0.031787</td>\n",
       "    </tr>\n",
       "    <tr>\n",
       "      <th>Commodities</th>\n",
       "      <td>0.525979</td>\n",
       "      <td>0.177160</td>\n",
       "      <td>-0.363490</td>\n",
       "      <td>-0.031787</td>\n",
       "      <td>1.000000</td>\n",
       "    </tr>\n",
       "  </tbody>\n",
       "</table>\n",
       "</div>"
      ],
      "text/plain": [
       "                SP500      Gold  10Yr Bonds      TIPS  Commodities\n",
       "SP500        1.000000  0.057127   -0.277466  0.166602     0.525979\n",
       "Gold         0.057127  1.000000    0.257071  0.325368     0.177160\n",
       "10Yr Bonds  -0.277466  0.257071    1.000000  0.542151    -0.363490\n",
       "TIPS         0.166602  0.325368    0.542151  1.000000    -0.031787\n",
       "Commodities  0.525979  0.177160   -0.363490 -0.031787     1.000000"
      ]
     },
     "execution_count": 38,
     "metadata": {},
     "output_type": "execute_result"
    }
   ],
   "source": [
    "corr_data = pd.concat([spy, gld, ief, tips, dbc],axis =1)\n",
    "corr_data.columns = ['SP500', 'Gold', '10Yr Bonds', 'TIPS', 'Commodities']\n",
    "\n",
    "corr_data_3yr = corr_data.pct_change(1).tail(60)\n",
    "corr_matrix = corr_data_3yr.corr(method = 'spearman')\n",
    "corr_matrix"
   ]
  },
  {
   "cell_type": "markdown",
   "metadata": {},
   "source": [
    "## High Yield Spread and Yield Curve\n",
    "\n",
    "Use above/below 10 year median for signal for growth and inflation\n",
    "\n"
   ]
  },
  {
   "cell_type": "code",
   "execution_count": 39,
   "metadata": {},
   "outputs": [],
   "source": [
    "# Import Data\n",
    "HY_spread_tmp = web.DataReader('BAMLH0A0HYM2','fred', '1970-01-01') \n",
    "yiedl_10_2_tmp = web.DataReader('T10Y2Y','fred', '1970-01-01')"
   ]
  },
  {
   "cell_type": "code",
   "execution_count": 40,
   "metadata": {},
   "outputs": [],
   "source": [
    "HY_spread = HY_spread_tmp[-10*252:]\n",
    "yiedl_10_2 = yiedl_10_2_tmp[-10*252:]\n",
    "\n",
    "yiedl_10_2_chg = yiedl_10_2.pct_change(3*30)[-1:].values\n",
    "HY_spread_chg = HY_spread.pct_change(3*30)[-1:].values\n",
    "\n",
    "HY_spread_ecdf = ECDF(HY_spread['BAMLH0A0HYM2'])\n",
    "yiedl_10_2_ecdf = ECDF(yiedl_10_2['T10Y2Y'])\n",
    "\n",
    "HY_spread_current = HY_spread_ecdf(HY_spread[-1:])\n",
    "yiedl_10_2_current = yiedl_10_2_ecdf(yiedl_10_2[-1:])\n",
    "\n",
    "\n",
    "\n",
    "macro_percentile = pd.concat([pd.DataFrame(HY_spread_current), pd.DataFrame(yiedl_10_2_current)],axis =1)\n",
    "macro_percentile.columns = [\"HY Spread Pct\", \"Yield Curve Pct\"]\n",
    "\n",
    "macro_chg = pd.concat([pd.DataFrame(HY_spread_chg), pd.DataFrame(yiedl_10_2_chg)],axis =1)\n",
    "macro_chg.columns = [\"HY Spread Chg\", \"Yield Curve Chg\"]"
   ]
  },
  {
   "cell_type": "code",
   "execution_count": 46,
   "metadata": {},
   "outputs": [],
   "source": [
    "percentile_dash = macro_percentile\n",
    "th_props = [\n",
    "  ('font-size', '16px'),\n",
    "  ('text-align', 'center'),\n",
    "  ('font-weight', 'bold'),\n",
    "  ('color', 'Black'),\n",
    "  ('background-color', '#f7f7f9')\n",
    "  ]\n",
    "\n",
    "\n",
    "# Set CSS properties for td elements in dataframe\n",
    "td_props = [('font-size', '16px'), ('text-align', 'center')]\n",
    "\n",
    "# Set table styles\n",
    "styles = [\n",
    "    dict(selector=\"th\", props=th_props),\n",
    "    dict(selector=\"td\", props=td_props)\n",
    "]\n",
    "\n",
    "cm_low_good = sns.diverging_palette(150, 10, s=80, l=70, n=len(macro_dash.columns), as_cmap=True)#sns.light_palette(\"green\", as_cmap=True)\n",
    "cm_high_good = sns.diverging_palette(10, 150, s=80, l=70, n=len(macro_dash.columns), as_cmap=True)\n",
    "\n",
    "percentile_dash_VIEW = (percentile_dash.style\n",
    "    #.applymap(color_negative_red, subset=['GDP', 'CPI', '2 Year Yield'])\n",
    "    #.background_gradient(axis = 0 ,subset = ['DSSP', 'HIDI'],cmap=cm_high_good)\n",
    "    #.background_gradient(axis = 0 ,subset = ['VRANK', 'MRANK','CRANK', 'ST'],cmap=cm_low_good)\n",
    "    #.set_caption('Performance Metrics')\n",
    "    .format({'HY Spread Pct': \"{:.1%}\",'Yield Curve Pct': \"{:.1%}\"})\n",
    "    .set_table_styles(styles))"
   ]
  },
  {
   "cell_type": "code",
   "execution_count": 47,
   "metadata": {},
   "outputs": [
    {
     "data": {
      "text/html": [
       "<style type=\"text/css\">\n",
       "#T_3fedb_ th {\n",
       "  font-size: 16px;\n",
       "  text-align: center;\n",
       "  font-weight: bold;\n",
       "  color: Black;\n",
       "  background-color: #f7f7f9;\n",
       "}\n",
       "#T_3fedb_ td {\n",
       "  font-size: 16px;\n",
       "  text-align: center;\n",
       "}\n",
       "#T_3fedb_row0_col0, #T_3fedb_row0_col1, #T_3fedb_row0_col2, #T_3fedb_row1_col0, #T_3fedb_row1_col1, #T_3fedb_row1_col2, #T_3fedb_row2_col0, #T_3fedb_row2_col1, #T_3fedb_row2_col2, #T_3fedb_row3_col2 {\n",
       "  color: red;\n",
       "}\n",
       "#T_3fedb_row3_col0, #T_3fedb_row3_col1, #T_3fedb_row4_col0, #T_3fedb_row4_col1, #T_3fedb_row4_col2 {\n",
       "  color: green;\n",
       "}\n",
       "</style>\n",
       "<table id=\"T_3fedb_\">\n",
       "  <thead>\n",
       "    <tr>\n",
       "      <th class=\"blank level0\" >&nbsp;</th>\n",
       "      <th class=\"col_heading level0 col0\" >GDP</th>\n",
       "      <th class=\"col_heading level0 col1\" >CPI</th>\n",
       "      <th class=\"col_heading level0 col2\" >2 Year Yield</th>\n",
       "    </tr>\n",
       "    <tr>\n",
       "      <th class=\"index_name level0\" >DATE</th>\n",
       "      <th class=\"blank col0\" >&nbsp;</th>\n",
       "      <th class=\"blank col1\" >&nbsp;</th>\n",
       "      <th class=\"blank col2\" >&nbsp;</th>\n",
       "    </tr>\n",
       "  </thead>\n",
       "  <tbody>\n",
       "    <tr>\n",
       "      <th id=\"T_3fedb_level0_row0\" class=\"row_heading level0 row0\" >2020Q3</th>\n",
       "      <td id=\"T_3fedb_row0_col0\" class=\"data row0 col0\" >-0.05</td>\n",
       "      <td id=\"T_3fedb_row0_col1\" class=\"data row0 col1\" >-0.01</td>\n",
       "      <td id=\"T_3fedb_row0_col2\" class=\"data row0 col2\" >-90.7%</td>\n",
       "    </tr>\n",
       "    <tr>\n",
       "      <th id=\"T_3fedb_level0_row1\" class=\"row_heading level0 row1\" >2020Q4</th>\n",
       "      <td id=\"T_3fedb_row1_col0\" class=\"data row1 col0\" >-0.05</td>\n",
       "      <td id=\"T_3fedb_row1_col1\" class=\"data row1 col1\" >-0.01</td>\n",
       "      <td id=\"T_3fedb_row1_col2\" class=\"data row1 col2\" >-91.3%</td>\n",
       "    </tr>\n",
       "    <tr>\n",
       "      <th id=\"T_3fedb_level0_row2\" class=\"row_heading level0 row2\" >2021Q1</th>\n",
       "      <td id=\"T_3fedb_row2_col0\" class=\"data row2 col0\" >-0.00</td>\n",
       "      <td id=\"T_3fedb_row2_col1\" class=\"data row2 col1\" >-0.01</td>\n",
       "      <td id=\"T_3fedb_row2_col2\" class=\"data row2 col2\" >-91.7%</td>\n",
       "    </tr>\n",
       "    <tr>\n",
       "      <th id=\"T_3fedb_level0_row3\" class=\"row_heading level0 row3\" >2021Q2</th>\n",
       "      <td id=\"T_3fedb_row3_col0\" class=\"data row3 col0\" >0.21</td>\n",
       "      <td id=\"T_3fedb_row3_col1\" class=\"data row3 col1\" >0.04</td>\n",
       "      <td id=\"T_3fedb_row3_col2\" class=\"data row3 col2\" >-26.1%</td>\n",
       "    </tr>\n",
       "    <tr>\n",
       "      <th id=\"T_3fedb_level0_row4\" class=\"row_heading level0 row4\" >2021Q3</th>\n",
       "      <td id=\"T_3fedb_row4_col0\" class=\"data row4 col0\" >0.08</td>\n",
       "      <td id=\"T_3fedb_row4_col1\" class=\"data row4 col1\" >0.04</td>\n",
       "      <td id=\"T_3fedb_row4_col2\" class=\"data row4 col2\" >78.6%</td>\n",
       "    </tr>\n",
       "  </tbody>\n",
       "</table>\n"
      ],
      "text/plain": [
       "<pandas.io.formats.style.Styler at 0x7f8b2f122050>"
      ]
     },
     "execution_count": 47,
     "metadata": {},
     "output_type": "execute_result"
    }
   ],
   "source": [
    "macro_dash_VIEW"
   ]
  },
  {
   "cell_type": "code",
   "execution_count": 48,
   "metadata": {
    "scrolled": true
   },
   "outputs": [
    {
     "data": {
      "text/html": [
       "<style type=\"text/css\">\n",
       "#T_c1398_ th {\n",
       "  font-size: 16px;\n",
       "  text-align: center;\n",
       "  font-weight: bold;\n",
       "  color: Black;\n",
       "  background-color: #f7f7f9;\n",
       "}\n",
       "#T_c1398_ td {\n",
       "  font-size: 16px;\n",
       "  text-align: center;\n",
       "}\n",
       "</style>\n",
       "<table id=\"T_c1398_\">\n",
       "  <thead>\n",
       "    <tr>\n",
       "      <th class=\"blank level0\" >&nbsp;</th>\n",
       "      <th class=\"col_heading level0 col0\" >HY Spread Pct</th>\n",
       "      <th class=\"col_heading level0 col1\" >Yield Curve Pct</th>\n",
       "    </tr>\n",
       "  </thead>\n",
       "  <tbody>\n",
       "    <tr>\n",
       "      <th id=\"T_c1398_level0_row0\" class=\"row_heading level0 row0\" >0</th>\n",
       "      <td id=\"T_c1398_row0_col0\" class=\"data row0 col0\" >10.8%</td>\n",
       "      <td id=\"T_c1398_row0_col1\" class=\"data row0 col1\" >31.0%</td>\n",
       "    </tr>\n",
       "  </tbody>\n",
       "</table>\n"
      ],
      "text/plain": [
       "<pandas.io.formats.style.Styler at 0x7f8b2eb1cd90>"
      ]
     },
     "execution_count": 48,
     "metadata": {},
     "output_type": "execute_result"
    }
   ],
   "source": [
    "## Add 3 month trend !!\n",
    "percentile_dash_VIEW"
   ]
  },
  {
   "cell_type": "code",
   "execution_count": null,
   "metadata": {},
   "outputs": [],
   "source": []
  }
 ],
 "metadata": {
  "kernelspec": {
   "display_name": "Python 3",
   "language": "python",
   "name": "python3"
  },
  "language_info": {
   "codemirror_mode": {
    "name": "ipython",
    "version": 3
   },
   "file_extension": ".py",
   "mimetype": "text/x-python",
   "name": "python",
   "nbconvert_exporter": "python",
   "pygments_lexer": "ipython3",
   "version": "3.7.4"
  }
 },
 "nbformat": 4,
 "nbformat_minor": 2
}
