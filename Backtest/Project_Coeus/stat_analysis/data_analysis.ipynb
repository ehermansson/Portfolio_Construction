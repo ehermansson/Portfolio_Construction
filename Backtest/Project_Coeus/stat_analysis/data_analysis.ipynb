{
 "cells": [
  {
   "cell_type": "code",
   "execution_count": 1,
   "metadata": {},
   "outputs": [],
   "source": [
    "import pandas as pd\n",
    "from scipy.stats import zscore\n",
    "import matplotlib.pyplot as plt\n",
    "import numpy as np\n",
    "import seaborn as sns\n",
    "from sklearn.linear_model import LinearRegression\n",
    "import statsmodels.api as sm\n",
    "import statsmodels.formula.api as smf\n",
    "\n",
    "import re\n",
    "from sklearn import linear_model\n",
    "import patsy"
   ]
  },
  {
   "cell_type": "markdown",
   "metadata": {},
   "source": [
    "## Data Analysis for Stocks\n",
    "\n",
    "- DO DIFFEREN RANK FOR VALUE METRICS< SET TO BE HIGH RANK IS GOOD!!!!\n",
    "    - Or do invesrion of these??"
   ]
  },
  {
   "cell_type": "code",
   "execution_count": 2,
   "metadata": {},
   "outputs": [],
   "source": [
    "tmp_df = pd.read_csv('../data/VQ_data.csv')\n",
    "tmp_df['d'] = pd.to_datetime(tmp_df['d'])\n",
    "tmp_df = tmp_df.set_index(['d', 'insID'])"
   ]
  },
  {
   "cell_type": "code",
   "execution_count": 3,
   "metadata": {
    "scrolled": true
   },
   "outputs": [
    {
     "name": "stderr",
     "output_type": "stream",
     "text": [
      "/opt/anaconda3/lib/python3.7/site-packages/ipykernel_launcher.py:22: FutureWarning: Dropping of nuisance columns in DataFrame reductions (with 'numeric_only=None') is deprecated; in a future version this will raise TypeError.  Select only valid columns before calling the reduction.\n",
      "/opt/anaconda3/lib/python3.7/site-packages/ipykernel_launcher.py:38: SettingWithCopyWarning: \n",
      "A value is trying to be set on a copy of a slice from a DataFrame.\n",
      "Try using .loc[row_indexer,col_indexer] = value instead\n",
      "\n",
      "See the caveats in the documentation: https://pandas.pydata.org/pandas-docs/stable/user_guide/indexing.html#returning-a-view-versus-a-copy\n"
     ]
    }
   ],
   "source": [
    "min_MCAP = 500\n",
    "clean_df = tmp_df[tmp_df['MCAP']>min_MCAP]\n",
    "horizon = 3\n",
    "n_groups = 10\n",
    "\n",
    "monthly_df =clean_df.groupby([clean_df.index.get_level_values(1), pd.Grouper(freq='m', level=0)]).last()\n",
    "monthly_df['log_ret'] = monthly_df['adj_c'].groupby(level='insID').apply(lambda x: np.log(x.shift(-horizon)) - np.log(x))\n",
    "monthly_df = monthly_df.unstack('insID').iloc[::horizon, :].stack('insID')\n",
    "\n",
    "#Take rank of log ret per month values! Ranking forces it into a stationary distribution!!\n",
    "monthly_df['rank_ret'] = monthly_df['log_ret'].groupby(level='d').rank(ascending=False)\n",
    "\n",
    "\n",
    "\n",
    "#### CLEAN DATA\n",
    "\n",
    "\n",
    "colmax_list = ['PE', 'PB', 'EVEBIT', 'EVFCF', 'PS', 'PFCF']\n",
    "\n",
    "#set inf values to max\n",
    "for col in colmax_list:\n",
    "    m = monthly_df.loc[monthly_df[col] != np.inf, :].max()\n",
    "    monthly_df.replace(np.inf,m,inplace=True)\n",
    "\n",
    "\n",
    "#    #New method, more robust!!!\n",
    "#for colmax in colmax_list:\n",
    "#    max_tmp = monthly_df.loc[:,col].max()\n",
    "#    monthly_df.loc[monthly_df[colmax]<0, colmax] = max_tmp\n",
    "\n",
    "#Invesrt the values that should be low so they should be high\n",
    "for colmax in colmax_list:\n",
    "    monthly_df.loc[:, colmax] = (1/monthly_df[colmax])\n",
    "    \n",
    "    \n",
    "### INDICATOR FUNCTION IF THE COMPANY IS IN FINANCE & RE\n",
    "monthly_df['sector_ind'] = 0\n",
    "monthly_df[monthly_df['sector'] == 'finance_RE']['sector_ind'] = 1\n",
    "    "
   ]
  },
  {
   "cell_type": "markdown",
   "metadata": {},
   "source": [
    "## Quintile analysis for forward 1 m return"
   ]
  },
  {
   "cell_type": "code",
   "execution_count": 4,
   "metadata": {
    "scrolled": false
   },
   "outputs": [
    {
     "name": "stderr",
     "output_type": "stream",
     "text": [
      "/opt/anaconda3/lib/python3.7/site-packages/ipykernel_launcher.py:39: PerformanceWarning: DataFrame is highly fragmented.  This is usually the result of calling `frame.insert` many times, which has poor performance.  Consider joining all columns at once using pd.concat(axis=1) instead.  To get a de-fragmented frame, use `newframe = frame.copy()`\n"
     ]
    }
   ],
   "source": [
    "col_list = monthly_df.columns.to_list()\n",
    "\n",
    "for ele in ['c','number_Of_Shares', '1_day_ret','Name','volatility_60day',\n",
    "                 'sector','market', 'acceleration', 'adj_mom', 'log_ret','adj_c', 'EA_ret', 'sector_ind']:\n",
    "    try:\n",
    "        col_list.remove(ele)\n",
    "    except:\n",
    "        print(ele)\n",
    "\n",
    "\n",
    "col_list1 = col_list.copy()\n",
    "col_list1.append('rank_ret')\n",
    "\n",
    "\n",
    "zscore_df = pd.DataFrame()\n",
    "zscore_df.index = monthly_df.index\n",
    "\n",
    "for col in col_list1:\n",
    "    col_zscore = col+ '_zscore'\n",
    "    zscore_tmp_df = monthly_df[col]\n",
    "    zscore_tmp_df = zscore_tmp_df.dropna()\n",
    "    #Rank for each day!! This makes it robust and stationary!! \n",
    "    # HIGH VALUE GIVES LOW RANK!!!\n",
    "    zscore_tmp_df = zscore_tmp_df.groupby(level='d').rank(ascending=False)\n",
    "    zscore_df[col_zscore] = (zscore_tmp_df - zscore_tmp_df.unstack(level ='d').mean())/zscore_tmp_df.unstack(level ='d').std()\n",
    "\n",
    "    \n",
    "\n",
    "model_list = []\n",
    "for col in zscore_df.columns:\n",
    "    x = re.search('zscore$', col)\n",
    "    if(x!=None):\n",
    "        model_list.append(col)\n",
    "\n",
    "#group by quintiles \n",
    "\n",
    "for col in list(set(list(zscore_df.columns)) - set('rank_ret_zscore')):\n",
    "    col_group = col + '_group'\n",
    "    zscore_df[col_group] = pd.qcut(zscore_df[col].rank(method='first'), n_groups, labels = range(1, n_groups + 1))\n",
    "    \n",
    "    \n",
    "#Add indicator function for sector\n",
    "zscore_df = zscore_df.join(monthly_df['sector_ind'], on=['d','insID'],how='left')"
   ]
  },
  {
   "cell_type": "code",
   "execution_count": 5,
   "metadata": {},
   "outputs": [
    {
     "name": "stderr",
     "output_type": "stream",
     "text": [
      "/opt/anaconda3/lib/python3.7/site-packages/ipykernel_launcher.py:5: PerformanceWarning: DataFrame is highly fragmented.  This is usually the result of calling `frame.insert` many times, which has poor performance.  Consider joining all columns at once using pd.concat(axis=1) instead.  To get a de-fragmented frame, use `newframe = frame.copy()`\n",
      "  \"\"\"\n",
      "/opt/anaconda3/lib/python3.7/site-packages/ipykernel_launcher.py:6: PerformanceWarning: DataFrame is highly fragmented.  This is usually the result of calling `frame.insert` many times, which has poor performance.  Consider joining all columns at once using pd.concat(axis=1) instead.  To get a de-fragmented frame, use `newframe = frame.copy()`\n",
      "  \n",
      "/opt/anaconda3/lib/python3.7/site-packages/ipykernel_launcher.py:7: PerformanceWarning: DataFrame is highly fragmented.  This is usually the result of calling `frame.insert` many times, which has poor performance.  Consider joining all columns at once using pd.concat(axis=1) instead.  To get a de-fragmented frame, use `newframe = frame.copy()`\n",
      "  import sys\n",
      "/opt/anaconda3/lib/python3.7/site-packages/ipykernel_launcher.py:8: PerformanceWarning: DataFrame is highly fragmented.  This is usually the result of calling `frame.insert` many times, which has poor performance.  Consider joining all columns at once using pd.concat(axis=1) instead.  To get a de-fragmented frame, use `newframe = frame.copy()`\n",
      "  \n",
      "/opt/anaconda3/lib/python3.7/site-packages/ipykernel_launcher.py:16: PerformanceWarning: DataFrame is highly fragmented.  This is usually the result of calling `frame.insert` many times, which has poor performance.  Consider joining all columns at once using pd.concat(axis=1) instead.  To get a de-fragmented frame, use `newframe = frame.copy()`\n",
      "  app.launch_new_instance()\n",
      "/opt/anaconda3/lib/python3.7/site-packages/ipykernel_launcher.py:20: PerformanceWarning: DataFrame is highly fragmented.  This is usually the result of calling `frame.insert` many times, which has poor performance.  Consider joining all columns at once using pd.concat(axis=1) instead.  To get a de-fragmented frame, use `newframe = frame.copy()`\n",
      "/opt/anaconda3/lib/python3.7/site-packages/ipykernel_launcher.py:26: PerformanceWarning: DataFrame is highly fragmented.  This is usually the result of calling `frame.insert` many times, which has poor performance.  Consider joining all columns at once using pd.concat(axis=1) instead.  To get a de-fragmented frame, use `newframe = frame.copy()`\n",
      "/opt/anaconda3/lib/python3.7/site-packages/ipykernel_launcher.py:27: PerformanceWarning: DataFrame is highly fragmented.  This is usually the result of calling `frame.insert` many times, which has poor performance.  Consider joining all columns at once using pd.concat(axis=1) instead.  To get a de-fragmented frame, use `newframe = frame.copy()`\n",
      "/opt/anaconda3/lib/python3.7/site-packages/ipykernel_launcher.py:28: PerformanceWarning: DataFrame is highly fragmented.  This is usually the result of calling `frame.insert` many times, which has poor performance.  Consider joining all columns at once using pd.concat(axis=1) instead.  To get a de-fragmented frame, use `newframe = frame.copy()`\n",
      "/opt/anaconda3/lib/python3.7/site-packages/ipykernel_launcher.py:29: PerformanceWarning: DataFrame is highly fragmented.  This is usually the result of calling `frame.insert` many times, which has poor performance.  Consider joining all columns at once using pd.concat(axis=1) instead.  To get a de-fragmented frame, use `newframe = frame.copy()`\n",
      "/opt/anaconda3/lib/python3.7/site-packages/ipykernel_launcher.py:36: PerformanceWarning: DataFrame is highly fragmented.  This is usually the result of calling `frame.insert` many times, which has poor performance.  Consider joining all columns at once using pd.concat(axis=1) instead.  To get a de-fragmented frame, use `newframe = frame.copy()`\n",
      "/opt/anaconda3/lib/python3.7/site-packages/ipykernel_launcher.py:40: PerformanceWarning: DataFrame is highly fragmented.  This is usually the result of calling `frame.insert` many times, which has poor performance.  Consider joining all columns at once using pd.concat(axis=1) instead.  To get a de-fragmented frame, use `newframe = frame.copy()`\n"
     ]
    }
   ],
   "source": [
    "\n",
    "##############################################    \n",
    "#combined measures, redo z scores and groups!!\n",
    "##############################################\n",
    "\n",
    "zscore_df['comb_mom'] = zscore_df['mom3_zscore'] + zscore_df['mom6_zscore'] +zscore_df['mom12_zscore']\n",
    "zscore_df['ear_mom'] = zscore_df['mom3_zscore'] + zscore_df['mom6_zscore'] +zscore_df['mom12_zscore'] + zscore_df['EAR_std_zscore']\n",
    "zscore_df['val_comp'] = zscore_df['PE_zscore'] + zscore_df['PB_zscore'] +zscore_df['EVEBIT_zscore'] +zscore_df['PFCF_zscore']+zscore_df['PS_zscore']\n",
    "zscore_df['qual_comp'] = zscore_df['GPA_zscore'] + zscore_df['ROIC_zscore'] +zscore_df['ROE_zscore'] + zscore_df['AT_zscore']+zscore_df['FCFROE_zscore'] + zscore_df['Asset_growth_zscore']\n",
    "\n",
    "\n",
    "## REDO ZSCORE AND QUANTILES FOR COMBINED MEASURES\n",
    "\n",
    "for col in ['comb_mom', 'ear_mom', 'val_comp', 'qual_comp']:\n",
    "    col_zscore = col+ '_zscore'\n",
    "    zscore_tmp_df = zscore_df[col]\n",
    "    zscore_df[col_zscore] = (zscore_tmp_df - zscore_tmp_df.unstack(level ='d').mean())/zscore_tmp_df.unstack(level ='d').std()\n",
    "\n",
    "for col in ['comb_mom_zscore', 'ear_mom_zscore', 'val_comp_zscore', 'qual_comp_zscore']:\n",
    "    col_group = col + '_group'\n",
    "    zscore_df[col_group] = pd.qcut(zscore_df[col].rank(method='first'), n_groups, labels = range(1, n_groups + 1))\n",
    "\n",
    "##############################################    \n",
    "######### REDO FOR COMBINATION OF COMBINATIONS, VMQ, QM, VQ, VM\n",
    "#################################################\n",
    "\n",
    "zscore_df['VMQ'] = zscore_df['ear_mom_zscore'] + zscore_df['val_comp_zscore'] +zscore_df['qual_comp_zscore']\n",
    "zscore_df['MQ'] = zscore_df['ear_mom_zscore'] +zscore_df['qual_comp_zscore']\n",
    "zscore_df['VQ'] =  zscore_df['val_comp_zscore'] +zscore_df['qual_comp_zscore']\n",
    "zscore_df['VM'] = zscore_df['ear_mom_zscore'] + zscore_df['val_comp_zscore']\n",
    "\n",
    "## REDO ZSCORE AND QUANTILES FOR COMBINED OF COMBINED MEASURES\n",
    "\n",
    "for col in ['VMQ', 'MQ', 'VQ', 'VM']:\n",
    "    col_zscore = col+ '_zscore'\n",
    "    zscore_tmp_df = zscore_df[col]\n",
    "    zscore_df[col_zscore] = (zscore_tmp_df - zscore_tmp_df.unstack(level ='d').mean())/zscore_tmp_df.unstack(level ='d').std()\n",
    "\n",
    "for col in ['VMQ_zscore', 'MQ_zscore', 'VQ_zscore', 'VM_zscore']:\n",
    "    col_group = col + '_group'\n",
    "    zscore_df[col_group] = pd.qcut(zscore_df[col].rank(method='first'), n_groups, labels = range(1, n_groups + 1))\n",
    "\n",
    "\n"
   ]
  },
  {
   "cell_type": "markdown",
   "metadata": {},
   "source": [
    "## MOMENTUM MEASURES"
   ]
  },
  {
   "cell_type": "code",
   "execution_count": 6,
   "metadata": {
    "scrolled": false
   },
   "outputs": [
    {
     "data": {
      "image/png": "[encoded data removed]",
      "text/plain": [
       "<Figure size 432x288 with 6 Axes>"
      ]
     },
     "metadata": {},
     "output_type": "display_data"
    }
   ],
   "source": [
    "sns.set_style(\"whitegrid\")\n",
    "fig, ax = plt.subplots(2,3, sharex=True, sharey = True)\n",
    "fig.suptitle('Momentum measures and 1 month forward returns', fontsize=18, y=1)\n",
    "ax[0, 0].bar(range(1, n_groups + 1) ,zscore_df.groupby(\"mom3_zscore_group\").mean()['rank_ret_zscore']);\n",
    "ax[0, 0].set_title('3 month Momentum');\n",
    "ax[1, 0].bar(range(1, n_groups + 1) ,zscore_df.groupby(\"mom6_zscore_group\").mean()['rank_ret_zscore']);\n",
    "ax[1, 0].set_title('6 month Momentum');\n",
    "ax[0, 1].bar(range(1, n_groups + 1) ,zscore_df.groupby(\"mom12_zscore_group\").mean()['rank_ret_zscore']);\n",
    "ax[0, 1].set_title('12 month Momentum');\n",
    "ax[1, 1].bar(range(1, n_groups + 1) ,zscore_df.groupby(\"EAR_std_zscore_group\").mean()['rank_ret_zscore']);\n",
    "ax[1, 1].set_title('EAR std');\n",
    "ax[0, 2].bar(range(1, n_groups + 1) ,zscore_df.groupby(\"RSURP_Y_zscore_group\").mean()['rank_ret_zscore']);\n",
    "ax[0, 2].set_title('RSURP_Y');\n",
    "ax[1, 2].bar(range(1, n_groups + 1) ,zscore_df.groupby(\"SUE_Y_zscore_group\").mean()['rank_ret_zscore']);\n",
    "ax[1, 2].set_title('SUE_Y');\n"
   ]
  },
  {
   "cell_type": "code",
   "execution_count": 7,
   "metadata": {
    "scrolled": true
   },
   "outputs": [
    {
     "data": {
      "image/png": "[encoded data removed]",
      "text/plain": [
       "<Figure size 432x288 with 2 Axes>"
      ]
     },
     "metadata": {},
     "output_type": "display_data"
    }
   ],
   "source": [
    "sns.set_style(\"whitegrid\")\n",
    "fig, ax = plt.subplots(nrows=1, ncols=2, sharex=True, sharey = True)\n",
    "fig.suptitle('Momentum measures and 1 month forward returns', fontsize=18, y=1)\n",
    "ax[0].bar(range(1, n_groups + 1) ,zscore_df.groupby(\"comb_mom_zscore_group\").mean()['rank_ret_zscore']);\n",
    "ax[0].set_title('Combined Momentum');\n",
    "ax[1].bar(range(1, n_groups + 1) ,zscore_df.groupby(\"ear_mom_zscore_group\").mean()['rank_ret_zscore']);\n",
    "ax[1].set_title('EAR-Momentum');"
   ]
  },
  {
   "cell_type": "markdown",
   "metadata": {},
   "source": [
    "### Value Measures"
   ]
  },
  {
   "cell_type": "code",
   "execution_count": 8,
   "metadata": {},
   "outputs": [
    {
     "data": {
      "image/png": "[encoded data removed]",
      "text/plain": [
       "<Figure size 432x288 with 8 Axes>"
      ]
     },
     "metadata": {},
     "output_type": "display_data"
    }
   ],
   "source": [
    "sns.set_style(\"whitegrid\")\n",
    "fig, ax = plt.subplots(2,4, sharex=True, sharey = True)\n",
    "fig.suptitle('Value measures and 3 month forward returns', fontsize=18, y=1)\n",
    "ax[0, 0].bar(range(1, n_groups + 1) ,zscore_df.groupby(\"PFCF_zscore_group\").mean()['rank_ret_zscore']);\n",
    "ax[0, 0].set_title('PFCF');\n",
    "ax[1, 0].bar(range(1, n_groups + 1) ,zscore_df.groupby(\"PE_zscore_group\").mean()['rank_ret_zscore']);\n",
    "ax[1, 0].set_title('PE');\n",
    "ax[0, 1].bar(range(1, n_groups + 1) ,zscore_df.groupby(\"PB_zscore_group\").mean()['rank_ret_zscore']);\n",
    "ax[0, 1].set_title('PB');\n",
    "ax[1, 1].bar(range(1, n_groups + 1) ,zscore_df.groupby(\"Asset_growth_zscore_group\").mean()['rank_ret_zscore']);\n",
    "ax[1, 1].set_title('Asset Growth');\n",
    "\n",
    "ax[0, 2].bar(range(1, n_groups + 1) ,zscore_df.groupby(\"EVEBIT_zscore_group\").mean()['rank_ret_zscore']);\n",
    "ax[0, 2].set_title('EVEBIT');\n",
    "ax[1, 2].bar(range(1, n_groups + 1) ,zscore_df.groupby(\"DIV_Y_zscore_group\").mean()['rank_ret_zscore']);\n",
    "ax[1, 2].set_title('Dividend Yield');\n",
    "\n",
    "ax[0, 3].bar(range(1, n_groups + 1) ,zscore_df.groupby(\"PS_zscore_group\").mean()['rank_ret_zscore']);\n",
    "ax[0, 3].set_title('PS');\n",
    "ax[1, 3].bar(range(1, n_groups + 1) ,zscore_df.groupby(\"val_comp_zscore_group\").mean()['rank_ret_zscore']);\n",
    "ax[1, 3].set_title('Value Composite');"
   ]
  },
  {
   "cell_type": "code",
   "execution_count": 9,
   "metadata": {},
   "outputs": [
    {
     "data": {
      "image/png": "[encoded data removed]",
      "text/plain": [
       "<Figure size 432x288 with 8 Axes>"
      ]
     },
     "metadata": {},
     "output_type": "display_data"
    }
   ],
   "source": [
    "sns.set_style(\"whitegrid\")\n",
    "fig, ax = plt.subplots(2,4, sharex=True, sharey = True)\n",
    "fig.suptitle('Quality measures and 3 month forward returns', fontsize=18, y=1)\n",
    "ax[0, 0].bar(range(1, n_groups + 1) ,zscore_df.groupby(\"ROE_zscore_group\").mean()['rank_ret_zscore']);\n",
    "ax[0, 0].set_title('ROE');\n",
    "ax[1, 0].bar(range(1, n_groups + 1) ,zscore_df.groupby(\"ROIC_zscore_group\").mean()['rank_ret_zscore']);\n",
    "ax[1, 0].set_title('ROIC');\n",
    "ax[0, 1].bar(range(1, n_groups + 1) ,zscore_df.groupby(\"FCFROE_zscore_group\").mean()['rank_ret_zscore']);\n",
    "ax[0, 1].set_title('FCFROE');\n",
    "ax[1, 1].bar(range(1, n_groups + 1) ,zscore_df.groupby(\"GPA_zscore_group\").mean()['rank_ret_zscore']);\n",
    "ax[1, 1].set_title('GPA');\n",
    "\n",
    "ax[0, 2].bar(range(1, n_groups + 1) ,zscore_df.groupby(\"AT_zscore_group\").mean()['rank_ret_zscore']);\n",
    "ax[0, 2].set_title('AT');\n",
    "ax[1, 2].bar(range(1, n_groups + 1) ,zscore_df.groupby(\"ROA_zscore_group\").mean()['rank_ret_zscore']);\n",
    "ax[1, 2].set_title('ROA');\n",
    "\n",
    "ax[0, 3].bar(range(1, n_groups + 1) ,zscore_df.groupby(\"qual_comp_zscore_group\").mean()['rank_ret_zscore']);\n",
    "ax[0, 3].set_title('Quality Composite');\n"
   ]
  },
  {
   "cell_type": "code",
   "execution_count": 10,
   "metadata": {
    "scrolled": false
   },
   "outputs": [
    {
     "data": {
      "image/png": "[encoded data removed]",
      "text/plain": [
       "<Figure size 432x288 with 1 Axes>"
      ]
     },
     "metadata": {},
     "output_type": "display_data"
    }
   ],
   "source": [
    "sns.set_style(\"whitegrid\")\n",
    "plt.bar(range(1, n_groups + 1), zscore_df.groupby(\"VMQ_zscore_group\").mean()['rank_ret_zscore']);\n",
    "plt.title('VMQ');"
   ]
  },
  {
   "cell_type": "code",
   "execution_count": 11,
   "metadata": {
    "scrolled": true
   },
   "outputs": [
    {
     "data": {
      "image/png": "[encoded data removed]",
      "text/plain": [
       "<Figure size 432x288 with 1 Axes>"
      ]
     },
     "metadata": {},
     "output_type": "display_data"
    }
   ],
   "source": [
    "sns.set_style(\"whitegrid\")\n",
    "plt.bar(range(1, n_groups + 1), zscore_df.groupby(\"MQ_zscore_group\").mean()['rank_ret_zscore']);\n",
    "plt.title('QM');"
   ]
  },
  {
   "cell_type": "code",
   "execution_count": 12,
   "metadata": {
    "scrolled": true
   },
   "outputs": [
    {
     "data": {
      "image/png": "[encoded data removed]",
      "text/plain": [
       "<Figure size 432x288 with 1 Axes>"
      ]
     },
     "metadata": {},
     "output_type": "display_data"
    }
   ],
   "source": [
    "sns.set_style(\"whitegrid\")\n",
    "plt.bar(range(1, n_groups + 1), zscore_df.groupby(\"VM_zscore_group\").mean()['rank_ret_zscore']);\n",
    "plt.title('VM');"
   ]
  },
  {
   "cell_type": "code",
   "execution_count": 13,
   "metadata": {},
   "outputs": [
    {
     "data": {
      "image/png": "[encoded data removed]",
      "text/plain": [
       "<Figure size 432x288 with 1 Axes>"
      ]
     },
     "metadata": {},
     "output_type": "display_data"
    }
   ],
   "source": [
    "sns.set_style(\"whitegrid\")\n",
    "plt.bar(range(1, n_groups + 1), zscore_df.groupby(\"VQ_zscore_group\").mean()['rank_ret_zscore']);\n",
    "plt.title('VQ');"
   ]
  },
  {
   "cell_type": "code",
   "execution_count": 14,
   "metadata": {
    "scrolled": false
   },
   "outputs": [
    {
     "data": {
      "image/png": "[encoded data removed]",
      "text/plain": [
       "<Figure size 432x288 with 1 Axes>"
      ]
     },
     "metadata": {},
     "output_type": "display_data"
    }
   ],
   "source": [
    "sns.set_style(\"whitegrid\")\n",
    "plt.bar(range(1, n_groups + 1), zscore_df.groupby(\"volatility_zscore_group\").mean()['rank_ret_zscore']);\n",
    "plt.title('Volatility');"
   ]
  },
  {
   "cell_type": "code",
   "execution_count": 15,
   "metadata": {},
   "outputs": [
    {
     "data": {
      "image/png": "[encoded data removed]",
      "text/plain": [
       "<Figure size 432x288 with 1 Axes>"
      ]
     },
     "metadata": {},
     "output_type": "display_data"
    }
   ],
   "source": [
    "sns.set_style(\"whitegrid\")\n",
    "plt.bar(range(1, n_groups + 1), zscore_df.groupby(\"sharpe_zscore_group\").mean()['rank_ret_zscore']);\n",
    "plt.title('Sharpe');"
   ]
  },
  {
   "cell_type": "markdown",
   "metadata": {},
   "source": [
    "## SIMPEL LINEAR MODEL"
   ]
  },
  {
   "cell_type": "code",
   "execution_count": 16,
   "metadata": {},
   "outputs": [],
   "source": [
    "coeff_list = model_list.copy()\n",
    "coeff_list.remove('rank_ret_zscore')\n"
   ]
  },
  {
   "cell_type": "code",
   "execution_count": 17,
   "metadata": {
    "scrolled": false
   },
   "outputs": [
    {
     "data": {
      "text/plain": [
       "['MCAP_zscore',\n",
       " 'PE_zscore',\n",
       " 'GPA_zscore',\n",
       " 'GPA_chg_zscore',\n",
       " 'Asset_growth_zscore',\n",
       " 'PB_zscore',\n",
       " 'EAR_std_zscore',\n",
       " 'EVEBIT_zscore',\n",
       " 'EVFCF_zscore',\n",
       " 'ROIC_zscore',\n",
       " 'ROE_zscore',\n",
       " 'ROE_chg_zscore',\n",
       " 'AT_zscore',\n",
       " 'RSURP_Y_zscore',\n",
       " 'rev_growth_zscore',\n",
       " 'SUE_Y_zscore',\n",
       " 'EPS_growth_zscore',\n",
       " 'EPS_acceleration_zscore',\n",
       " 'mom12_zscore',\n",
       " 'mom6_zscore',\n",
       " 'mom3_zscore',\n",
       " 'mom1_zscore',\n",
       " 'volatility_zscore',\n",
       " 'sharpe_zscore',\n",
       " 'high_12m_zscore',\n",
       " 'high_6m_zscore',\n",
       " 'high_3m_zscore',\n",
       " 'high_1m_zscore',\n",
       " 'high_2y_zscore',\n",
       " 'low_1m_zscore',\n",
       " 'low_3m_zscore',\n",
       " 'low_6m_zscore',\n",
       " 'low_12m_zscore',\n",
       " 'low_2y_zscore',\n",
       " 'skew_zscore',\n",
       " 'EMA_32_96_zscore',\n",
       " 'EMA_96_288_zscore',\n",
       " 'range_2y_zscore',\n",
       " 'range_12m_zscore',\n",
       " 'range_6m_zscore',\n",
       " 'range_3m_zscore',\n",
       " 'range_1m_zscore',\n",
       " 'FCFROE_zscore',\n",
       " 'ROA_zscore',\n",
       " 'PS_zscore',\n",
       " 'PFCF_zscore',\n",
       " 'DIV_Y_zscore',\n",
       " 'res_mom12_zscore',\n",
       " 'MEME_factor_zscore',\n",
       " 'MA20_VOL_zscore',\n",
       " 'volume_balance_zscore',\n",
       " 'MA20_zscore',\n",
       " 'MA50_VOL_zscore',\n",
       " 'Gross_margin_zscore',\n",
       " 'beta_zscore',\n",
       " 'alpha_zscore']"
      ]
     },
     "execution_count": 17,
     "metadata": {},
     "output_type": "execute_result"
    }
   ],
   "source": [
    "coeff_list"
   ]
  },
  {
   "cell_type": "code",
   "execution_count": 18,
   "metadata": {
    "scrolled": true
   },
   "outputs": [],
   "source": [
    "coeff_list_comp = coeff_list"
   ]
  },
  {
   "cell_type": "markdown",
   "metadata": {},
   "source": [
    "## 1 month returns"
   ]
  },
  {
   "cell_type": "code",
   "execution_count": 27,
   "metadata": {
    "scrolled": false
   },
   "outputs": [
    {
     "name": "stderr",
     "output_type": "stream",
     "text": [
      "/opt/anaconda3/lib/python3.7/site-packages/pandas/core/indexing.py:1884: SettingWithCopyWarning: \n",
      "A value is trying to be set on a copy of a slice from a DataFrame.\n",
      "Try using .loc[row_indexer,col_indexer] = value instead\n",
      "\n",
      "See the caveats in the documentation: https://pandas.pydata.org/pandas-docs/stable/user_guide/indexing.html#returning-a-view-versus-a-copy\n",
      "  self._setitem_single_column(loc, val, pi)\n"
     ]
    },
    {
     "name": "stdout",
     "output_type": "stream",
     "text": [
      "                            OLS Regression Results                            \n",
      "==============================================================================\n",
      "Dep. Variable:        rank_ret_zscore   R-squared:                       0.001\n",
      "Model:                            OLS   Adj. R-squared:                  0.001\n",
      "Method:                 Least Squares   F-statistic:                     12.65\n",
      "Date:                Mon, 21 Feb 2022   Prob (F-statistic):           0.000377\n",
      "Time:                        08:58:41   Log-Likelihood:                -20591.\n",
      "No. Observations:               14539   AIC:                         4.119e+04\n",
      "Df Residuals:                   14537   BIC:                         4.120e+04\n",
      "Df Model:                           1                                         \n",
      "Covariance Type:                  HAC                                         \n",
      "====================================================================================\n",
      "                       coef    std err          z      P>|z|      [0.025      0.975]\n",
      "------------------------------------------------------------------------------------\n",
      "Intercept         3.728e-05      0.008      0.005      0.996      -0.016       0.016\n",
      "res_mom12_zscore    -0.0221      0.006     -3.556      0.000      -0.034      -0.010\n",
      "==============================================================================\n",
      "Omnibus:                    12707.856   Durbin-Watson:                   2.016\n",
      "Prob(Omnibus):                  0.000   Jarque-Bera (JB):              872.087\n",
      "Skew:                          -0.001   Prob(JB):                    4.25e-190\n",
      "Kurtosis:                       1.800   Cond. No.                         1.34\n",
      "==============================================================================\n",
      "\n",
      "Notes:\n",
      "[1] Standard Errors are heteroscedasticity and autocorrelation robust (HAC) using 1 lags and without small sample correction\n"
     ]
    }
   ],
   "source": [
    "#coeff_list_comp = ['qual_comp_zscore', 'val_comp_zscore', 'ear_mom_zscore']\n",
    "#coeff_list_comp = [ 'mom12_zscore', 'mom6_zscore',  'EAR_std_zscore']\n",
    "#coeff_list_comp = ['EVEBIT_zscore','Asset_growth_zscore', 'PS_zscore', 'PB_zscore', 'PE_zscore', 'mom12_zscore',  'mom6_zscore', 'EAR_std_zscore', ]\n",
    "\n",
    "#coeff_list_comp = [ 'EAR_std_zscore','mom12_zscore', 'mom6_zscore','res_mom12_zscore', 'volatility_zscore']\n",
    "coeff_list_comp = ['mom12_zscore','alpha_zscore', 'beta_zscore', 'res_mom12_zscore']\n",
    "\n",
    "#coeff_list_comp = ['qual_comp_zscore', 'val_comp_zscore', 'ear_mom_zscore', 'EMA_32_96_zscore', 'EMA_96_288_zscore']\n",
    "#coeff_list_comp = mom_coeff + ['volatility_zscore', 'EAR_std_zscore']\n",
    "\n",
    "y = pd.DataFrame(zscore_df['rank_ret_zscore'])\n",
    "X = zscore_df[coeff_list_comp]\n",
    "\n",
    "model_list = coeff_list_comp.copy()\n",
    "model_list.append('rank_ret_zscore')\n",
    "\n",
    "formula = y.columns[0] + ' ~ ' \n",
    "\n",
    "\n",
    "#coeff_list_comp_tmp = ['qual_comp_zscore', 'val_comp_zscore','volatility_zscore', 'ear_mom_zscore']\n",
    "coeff_list_comp_tmp = coeff_list_comp\n",
    "\n",
    "#for coeff in X.columns.tolist():\n",
    "for coeff in coeff_list_comp_tmp:\n",
    "        formula = formula + coeff + \" + \" \n",
    "        \n",
    "for coeff_i in coeff_list_comp_tmp:\n",
    "    for coeff_j in coeff_list_comp_tmp:\n",
    "        if coeff_i != coeff_j:\n",
    "            formula = formula + coeff_i+\":\"+ coeff_j + \" + \"\n",
    "\n",
    "\n",
    "\n",
    "formula = formula[:-3]\n",
    "reg_df = zscore_df.dropna()\n",
    "### MAKE NEGATIVE values positive for ranking\n",
    "\n",
    "turn_positive = ['mom12_zscore', 'mom6_zscore', 'mom3_zscore', 'high_12m_zscore',\n",
    "        'high_6m_zscore', 'high_3m_zscore', 'EAR_std_zscore','qual_comp_zscore', \n",
    "                 'val_comp_zscore','ear_mom_zscore', 'EMA_32_96_zscore', 'EMA_96_288_zscore', 'sharpe_zscore' ]\n",
    "\n",
    "reg_df.loc[:,turn_positive ] = -reg_df.loc[:,turn_positive ]\n",
    "\n",
    "\n",
    "est2 = smf.ols(formula= formula, data=reg_df[model_list]).fit(cov_type='HAC',cov_kwds={'maxlags':1})\n",
    "print(est2.summary())\n"
   ]
  },
  {
   "cell_type": "markdown",
   "metadata": {},
   "source": [
    "## Correlation Analysis"
   ]
  },
  {
   "cell_type": "code",
   "execution_count": 23,
   "metadata": {
    "scrolled": true
   },
   "outputs": [
    {
     "data": {
      "text/html": [
       "<div>\n",
       "<style scoped>\n",
       "    .dataframe tbody tr th:only-of-type {\n",
       "        vertical-align: middle;\n",
       "    }\n",
       "\n",
       "    .dataframe tbody tr th {\n",
       "        vertical-align: top;\n",
       "    }\n",
       "\n",
       "    .dataframe thead th {\n",
       "        text-align: right;\n",
       "    }\n",
       "</style>\n",
       "<table border=\"1\" class=\"dataframe\">\n",
       "  <thead>\n",
       "    <tr style=\"text-align: right;\">\n",
       "      <th></th>\n",
       "      <th>mom12_zscore</th>\n",
       "      <th>alpha_zscore</th>\n",
       "      <th>beta_zscore</th>\n",
       "      <th>res_mom12_zscore</th>\n",
       "    </tr>\n",
       "  </thead>\n",
       "  <tbody>\n",
       "    <tr>\n",
       "      <th>mom12_zscore</th>\n",
       "      <td>1.000000</td>\n",
       "      <td>0.466427</td>\n",
       "      <td>0.029562</td>\n",
       "      <td>0.585922</td>\n",
       "    </tr>\n",
       "    <tr>\n",
       "      <th>alpha_zscore</th>\n",
       "      <td>0.466427</td>\n",
       "      <td>1.000000</td>\n",
       "      <td>-0.139732</td>\n",
       "      <td>0.059985</td>\n",
       "    </tr>\n",
       "    <tr>\n",
       "      <th>beta_zscore</th>\n",
       "      <td>0.029562</td>\n",
       "      <td>-0.139732</td>\n",
       "      <td>1.000000</td>\n",
       "      <td>-0.012311</td>\n",
       "    </tr>\n",
       "    <tr>\n",
       "      <th>res_mom12_zscore</th>\n",
       "      <td>0.585922</td>\n",
       "      <td>0.059985</td>\n",
       "      <td>-0.012311</td>\n",
       "      <td>1.000000</td>\n",
       "    </tr>\n",
       "  </tbody>\n",
       "</table>\n",
       "</div>"
      ],
      "text/plain": [
       "                  mom12_zscore  alpha_zscore  beta_zscore  res_mom12_zscore\n",
       "mom12_zscore          1.000000      0.466427     0.029562          0.585922\n",
       "alpha_zscore          0.466427      1.000000    -0.139732          0.059985\n",
       "beta_zscore           0.029562     -0.139732     1.000000         -0.012311\n",
       "res_mom12_zscore      0.585922      0.059985    -0.012311          1.000000"
      ]
     },
     "execution_count": 23,
     "metadata": {},
     "output_type": "execute_result"
    }
   ],
   "source": [
    "zscore_df[coeff_list_comp].corr(method = 'spearman')"
   ]
  },
  {
   "cell_type": "code",
   "execution_count": 24,
   "metadata": {},
   "outputs": [],
   "source": [
    "import pandas as pd\n",
    "import scipy.cluster.hierarchy as spc\n",
    "\n",
    "corr = zscore_df[coeff_list_comp].corr(method = 'spearman').values\n",
    "\n",
    "pdist = spc.distance.pdist(corr)\n",
    "linkage = spc.linkage(pdist, method='complete')\n",
    "idx = spc.fcluster(linkage, 0.5 * pdist.max(), 'distance')\n",
    "#idx = spc.fcluster(linkage, 3, 'maxclust')"
   ]
  },
  {
   "cell_type": "code",
   "execution_count": 25,
   "metadata": {},
   "outputs": [
    {
     "data": {
      "text/plain": [
       "array([1, 2, 3, 1], dtype=int32)"
      ]
     },
     "execution_count": 25,
     "metadata": {},
     "output_type": "execute_result"
    }
   ],
   "source": [
    "idx"
   ]
  },
  {
   "cell_type": "code",
   "execution_count": 26,
   "metadata": {},
   "outputs": [
    {
     "data": {
      "text/plain": [
       "['mom12_zscore', 'alpha_zscore', 'beta_zscore', 'res_mom12_zscore']"
      ]
     },
     "execution_count": 26,
     "metadata": {},
     "output_type": "execute_result"
    }
   ],
   "source": [
    "coeff_list_comp"
   ]
  },
  {
   "cell_type": "code",
   "execution_count": null,
   "metadata": {},
   "outputs": [],
   "source": []
  }
 ],
 "metadata": {
  "kernelspec": {
   "display_name": "Python 3",
   "language": "python",
   "name": "python3"
  },
  "language_info": {
   "codemirror_mode": {
    "name": "ipython",
    "version": 3
   },
   "file_extension": ".py",
   "mimetype": "text/x-python",
   "name": "python",
   "nbconvert_exporter": "python",
   "pygments_lexer": "ipython3",
   "version": "3.7.4"
  }
 },
 "nbformat": 4,
 "nbformat_minor": 2
}
