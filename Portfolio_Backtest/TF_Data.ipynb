{
 "cells": [
  {
   "cell_type": "code",
   "execution_count": 15,
   "metadata": {},
   "outputs": [],
   "source": [
    "import yfinance as yf \n",
    "import pandas as pd\n",
    "import numpy as np\n",
    "from datetime import datetime\n",
    "\n",
    "import quandl\n",
    "\n",
    "import sys\n",
    "import urllib\n",
    "import os\n",
    "from matplotlib import pylab as plt \n",
    "\n",
    "import quandl\n",
    "\n",
    "import seaborn as sns\n",
    "\n",
    "import sys\n",
    "\n",
    "from scipy.stats import norm\n",
    "import ezodf"
   ]
  },
  {
   "cell_type": "markdown",
   "metadata": {},
   "source": [
    "## Functions "
   ]
  },
  {
   "cell_type": "code",
   "execution_count": 16,
   "metadata": {},
   "outputs": [],
   "source": [
    "def import_MSCI(name):\n",
    "    '''Function to clean data from MSCI\n",
    "    https://www.msci.com/end-of-day-data-country\n",
    "    '''\n",
    "    \n",
    "    path = \"../Data/\" + name + \".xls\"\n",
    "    imp_tmp = pd.read_excel(path)\n",
    "    price_type = imp_tmp.loc[1][1]\n",
    "\n",
    "    imp = imp_tmp[6:]\n",
    "    imp.columns = ['Date', name]\n",
    "    imp = imp.dropna()\n",
    "    imp = imp.set_index('Date')\n",
    "    imp.index = imp.index.strftime('%Y/%m')\n",
    "    imp.index = pd.to_datetime(imp.index, errors='coerce') # sets to first day of month \n",
    "    imp.index = imp.index.shift(1, freq='MS') # raw data is end of month, set to first day next month\n",
    "    \n",
    "    return imp"
   ]
  },
  {
   "cell_type": "code",
   "execution_count": 17,
   "metadata": {},
   "outputs": [],
   "source": [
    "def wrangling(securities, assets_owned = 1):\n",
    "    \n",
    "    data = pd.concat(securities, axis = 1)\n",
    "    data = data.dropna()\n",
    "    \n",
    "    mom_df = data.copy()\n",
    "    mom3_df = mom_df.apply(lambda x:x/x.shift(3) - 1, axis=0)\n",
    "    mom6_df = mom_df.apply(lambda x:x/x.shift(6) - 1, axis=0)\n",
    "    mom12_df = mom_df.apply(lambda x:x/x.shift(12) - 1, axis=0)\n",
    "\n",
    "    comb_mom_df = mom12_df+mom6_df+mom3_df\n",
    "\n",
    "    returns_df = data.copy()\n",
    "    returns_df = returns_df.apply(lambda x:x.shift(-1)/x - 1, axis=0)\n",
    "    \n",
    "    rank_df=comb_mom_df.rank(axis=1,ascending=False)\n",
    "    \n",
    "    for col in rank_df.columns:\n",
    "        rank_df[col]=np.where(rank_df[col]<=assets_owned, 1, 0)\n",
    "        \n",
    "    portf=np.multiply(rank_df,returns_df)\n",
    "    portf_rets=portf.sum(axis =1)/assets_owned\n",
    "\n",
    "    portf_rets = portf_rets[13:]\n",
    "    portf_rets = pd.DataFrame(portf_rets)\n",
    "    portf_rets.columns = ['TF']\n",
    "\n",
    "    portf_rets = portf_rets+1\n",
    "    portf_rets = portf_rets.cumprod()\n",
    "    portf_rets = portf_rets.astype('float64')\n",
    "    \n",
    "    return portf_rets"
   ]
  },
  {
   "cell_type": "code",
   "execution_count": 18,
   "metadata": {},
   "outputs": [],
   "source": [
    "def bond_return(filename, sheet_no=0, header=0):\n",
    "    '''10 YEAR BOND RETURN. sheet1:Original US, sheet2: Improved US, sheet3:germany, \n",
    "    sheet4:Japan, sheet5:Australia, sheet6:Norway. sheet7:Sweden'''\n",
    "    \n",
    "    tab = ezodf.opendoc(filename=\"../Data/\"+filename).sheets[sheet_no]\n",
    "    temp_data= pd.DataFrame({col[header].value:[x.value for x in col[header+1:]]\n",
    "                         for col in tab.columns()})\n",
    "    temp_data['observation_date'] = pd.to_datetime(temp_data['observation_date'], errors='coerce')\n",
    "    temp_data.index = temp_data['observation_date']\n",
    "    bond_ret = pd.DataFrame(temp_data['Cum Ret'])\n",
    "    bond_ret = bond_ret.dropna()\n",
    "    bond_ret.columns = ['10Y Bond']\n",
    "    return(bond_ret)"
   ]
  },
  {
   "cell_type": "markdown",
   "metadata": {},
   "source": [
    "## Data Imports and Wrangling"
   ]
  },
  {
   "cell_type": "code",
   "execution_count": 19,
   "metadata": {},
   "outputs": [],
   "source": [
    "# 10 Yr Bond\n",
    "path = 'International Monthly Government Bond Returns.ods'\n",
    "Bond_monthly = bond_return(filename=path, sheet_no = 2)\n",
    "Bond_monthly.index = Bond_monthly.index + pd.Timedelta('1 day')\n",
    "\n",
    "\n",
    "\n",
    "# Gold\n",
    "\n",
    "Gold_tmp = quandl.get(\"LBMA/GOLD\", authtoken=\"6rNSyTM5R4g7_B7XSyQW\")\n",
    "Gold = pd.DataFrame(Gold_tmp[\"USD (AM)\"])\n",
    "Gold = Gold.resample('M').last()\n",
    "Gold.index = Gold.index + pd.Timedelta(\"1 day\")\n",
    "\n",
    "# Country index\n",
    "USA = import_MSCI('USA')\n",
    "RUSSIA = import_MSCI('RUSSIA')\n",
    "SWEDEN = import_MSCI('SWEDEN')\n",
    "Emerging_Markets = import_MSCI('Emerging_Markets')\n",
    "JAPAN = import_MSCI('JAPAN')"
   ]
  },
  {
   "cell_type": "markdown",
   "metadata": {},
   "source": [
    "## Parameters for Trendfollowing Portfolio "
   ]
  },
  {
   "cell_type": "code",
   "execution_count": 22,
   "metadata": {},
   "outputs": [],
   "source": [
    "securities = [USA, JAPAN, Gold]\n",
    "assets_owned = 1\n",
    "\n",
    "TF_monthly = wrangling(securities, assets_owned)"
   ]
  },
  {
   "cell_type": "code",
   "execution_count": null,
   "metadata": {},
   "outputs": [],
   "source": []
  }
 ],
 "metadata": {
  "kernelspec": {
   "display_name": "Python 3",
   "language": "python",
   "name": "python3"
  },
  "language_info": {
   "codemirror_mode": {
    "name": "ipython",
    "version": 3
   },
   "file_extension": ".py",
   "mimetype": "text/x-python",
   "name": "python",
   "nbconvert_exporter": "python",
   "pygments_lexer": "ipython3",
   "version": "3.7.4"
  }
 },
 "nbformat": 4,
 "nbformat_minor": 4
}
