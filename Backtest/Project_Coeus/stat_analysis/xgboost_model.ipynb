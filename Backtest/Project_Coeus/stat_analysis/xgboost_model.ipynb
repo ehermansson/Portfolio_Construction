{
 "cells": [
  {
   "cell_type": "code",
   "execution_count": 1,
   "metadata": {},
   "outputs": [],
   "source": [
    "from sklearn.preprocessing import PolynomialFeatures\n",
    "import scipy.special\n",
    "import xgboost as xgb\n",
    "from sklearn.model_selection import GridSearchCV\n",
    "from sklearn.inspection import permutation_importance\n",
    "from xgboost import plot_importance\n",
    "import sklearn\n",
    "\n",
    "import pandas as pd\n",
    "from scipy.stats import zscore\n",
    "import matplotlib.pyplot as plt\n",
    "import numpy as np\n",
    "import seaborn as sns\n",
    "from sklearn.linear_model import LinearRegression\n",
    "import statsmodels.api as sm\n",
    "import statsmodels.formula.api as smf\n",
    "import re\n",
    "import shap\n",
    "import joblib\n",
    "\n"
   ]
  },
  {
   "cell_type": "markdown",
   "metadata": {},
   "source": [
    "# XGBoost Model to predict returns\n",
    "to do\n",
    " - Do test for 3 month return as well\n"
   ]
  },
  {
   "cell_type": "code",
   "execution_count": 2,
   "metadata": {},
   "outputs": [],
   "source": [
    "tmp_df = pd.read_csv('../data/VQ_data.csv')\n",
    "tmp_df['d'] = pd.to_datetime(tmp_df['d'])\n",
    "tmp_df = tmp_df.set_index(['d', 'insID'])"
   ]
  },
  {
   "cell_type": "code",
   "execution_count": 4,
   "metadata": {
    "scrolled": true
   },
   "outputs": [
    {
     "name": "stderr",
     "output_type": "stream",
     "text": [
      "Dropping of nuisance columns in DataFrame reductions (with 'numeric_only=None') is deprecated; in a future version this will raise TypeError.  Select only valid columns before calling the reduction.\n"
     ]
    }
   ],
   "source": [
    "min_MCAP = 1000\n",
    "clean_df = tmp_df[tmp_df['MCAP']>min_MCAP]\n",
    "horizon = 1 #what tiem frame are we predicting\n",
    "\n",
    "monthly_df =clean_df.groupby([clean_df.index.get_level_values(1), pd.Grouper(freq='m', level=0)]).last()\n",
    "monthly_df['log_ret'] = monthly_df['adj_c'].groupby(level='insID').apply(lambda x: np.log(x.shift(- horizon)) - np.log(x))\n",
    "monthly_df = monthly_df.unstack('insID').iloc[::horizon, :].stack('insID')\n",
    "\n",
    "#Take rank of log ret per month values! Ranking forces it into a stationary distribution!!\n",
    "monthly_df['rank_ret'] = monthly_df['log_ret'].groupby(level='d').rank(ascending=False)\n",
    "\n",
    "#### CLEAN DATA\n",
    "\n",
    "\n",
    "colmax_list = ['PE', 'PB', 'EVEBIT', 'EVFCF', 'PS', 'PFCF']\n",
    "\n",
    "#set inf values to max\n",
    "for col in colmax_list:\n",
    "    m = monthly_df.loc[monthly_df[col] != np.inf, :].max()\n",
    "    monthly_df.replace(np.inf,m,inplace=True)\n",
    "\n",
    "\n",
    "\n",
    "#Invesrt the values that should be low so they should be high\n",
    "for colmax in colmax_list:\n",
    "    monthly_df.loc[:, colmax] = (1/monthly_df[colmax])\n",
    "    \n",
    "### INDICATOR FUNCTION IF THE COMPANY IS IN FINANCE & RE\n",
    "monthly_df['sector_ind'] = 0\n",
    "monthly_df.loc[monthly_df['sector'] == 'finance_RE','sector_ind' ] = 1\n"
   ]
  },
  {
   "cell_type": "code",
   "execution_count": 5,
   "metadata": {
    "scrolled": true
   },
   "outputs": [
    {
     "name": "stderr",
     "output_type": "stream",
     "text": [
      "DataFrame is highly fragmented.  This is usually the result of calling `frame.insert` many times, which has poor performance.  Consider joining all columns at once using pd.concat(axis=1) instead.  To get a de-fragmented frame, use `newframe = frame.copy()`\n",
      "DataFrame is highly fragmented.  This is usually the result of calling `frame.insert` many times, which has poor performance.  Consider joining all columns at once using pd.concat(axis=1) instead.  To get a de-fragmented frame, use `newframe = frame.copy()`\n"
     ]
    }
   ],
   "source": [
    "col_list = monthly_df.columns.to_list()\n",
    "\n",
    "for ele in ['c','number_Of_Shares', '1_day_ret','Name','volatility_60day',\n",
    "                 'sector','market', 'acceleration', 'adj_mom', 'log_ret','adj_c', 'EA_ret', 'sector_ind']:\n",
    "    try:\n",
    "        col_list.remove(ele)\n",
    "    except:\n",
    "        print(ele)\n",
    "\n",
    "\n",
    "col_list1 = col_list.copy()\n",
    "col_list1.append('rank_ret')\n",
    "\n",
    "\n",
    "zscore_df = pd.DataFrame()\n",
    "zscore_df.index = monthly_df.index\n",
    "\n",
    "for col in col_list1:\n",
    "    col_zscore = col+ '_zscore'\n",
    "    zscore_tmp_df = monthly_df[col]\n",
    "    zscore_tmp_df = zscore_tmp_df.dropna()\n",
    "    #Rank for each day!! This makes it robust and stationary!! \n",
    "    \n",
    "    # HIGH VALUE GIVES LOW RANK!!!\n",
    "    zscore_tmp_df = zscore_tmp_df.groupby(level='d').rank(ascending=False)\n",
    "    zscore_df[col_zscore] = (zscore_tmp_df - zscore_tmp_df.unstack(level ='d').mean())/zscore_tmp_df.unstack(level ='d').std()\n",
    "\n",
    "    \n",
    "\n",
    "model_list = []\n",
    "for col in zscore_df.columns:\n",
    "    x = re.search('zscore$', col)\n",
    "    if(x!=None):\n",
    "        model_list.append(col)\n",
    "\n",
    "#group by quintiles \n",
    "\n",
    "for col in list(set(list(zscore_df.columns)) - set('rank_ret_zscore')):\n",
    "    col_group = col + '_group'\n",
    "    zscore_df[col_group] = pd.qcut(zscore_df[col].rank(method='first'), 10, labels = range(1, 11))\n",
    "    \n",
    "    \n",
    "#Add indicator function for sector\n",
    "sector_id_df = pd.DataFrame(monthly_df['sector_ind'])\n",
    "zscore_df = zscore_df.merge(sector_id_df, on=['d','insID'],how='left')\n"
   ]
  },
  {
   "cell_type": "code",
   "execution_count": 6,
   "metadata": {},
   "outputs": [
    {
     "name": "stderr",
     "output_type": "stream",
     "text": [
      "DataFrame is highly fragmented.  This is usually the result of calling `frame.insert` many times, which has poor performance.  Consider joining all columns at once using pd.concat(axis=1) instead.  To get a de-fragmented frame, use `newframe = frame.copy()`\n",
      "DataFrame is highly fragmented.  This is usually the result of calling `frame.insert` many times, which has poor performance.  Consider joining all columns at once using pd.concat(axis=1) instead.  To get a de-fragmented frame, use `newframe = frame.copy()`\n",
      "DataFrame is highly fragmented.  This is usually the result of calling `frame.insert` many times, which has poor performance.  Consider joining all columns at once using pd.concat(axis=1) instead.  To get a de-fragmented frame, use `newframe = frame.copy()`\n",
      "DataFrame is highly fragmented.  This is usually the result of calling `frame.insert` many times, which has poor performance.  Consider joining all columns at once using pd.concat(axis=1) instead.  To get a de-fragmented frame, use `newframe = frame.copy()`\n",
      "DataFrame is highly fragmented.  This is usually the result of calling `frame.insert` many times, which has poor performance.  Consider joining all columns at once using pd.concat(axis=1) instead.  To get a de-fragmented frame, use `newframe = frame.copy()`\n",
      "DataFrame is highly fragmented.  This is usually the result of calling `frame.insert` many times, which has poor performance.  Consider joining all columns at once using pd.concat(axis=1) instead.  To get a de-fragmented frame, use `newframe = frame.copy()`\n",
      "DataFrame is highly fragmented.  This is usually the result of calling `frame.insert` many times, which has poor performance.  Consider joining all columns at once using pd.concat(axis=1) instead.  To get a de-fragmented frame, use `newframe = frame.copy()`\n",
      "DataFrame is highly fragmented.  This is usually the result of calling `frame.insert` many times, which has poor performance.  Consider joining all columns at once using pd.concat(axis=1) instead.  To get a de-fragmented frame, use `newframe = frame.copy()`\n",
      "DataFrame is highly fragmented.  This is usually the result of calling `frame.insert` many times, which has poor performance.  Consider joining all columns at once using pd.concat(axis=1) instead.  To get a de-fragmented frame, use `newframe = frame.copy()`\n",
      "DataFrame is highly fragmented.  This is usually the result of calling `frame.insert` many times, which has poor performance.  Consider joining all columns at once using pd.concat(axis=1) instead.  To get a de-fragmented frame, use `newframe = frame.copy()`\n",
      "DataFrame is highly fragmented.  This is usually the result of calling `frame.insert` many times, which has poor performance.  Consider joining all columns at once using pd.concat(axis=1) instead.  To get a de-fragmented frame, use `newframe = frame.copy()`\n",
      "DataFrame is highly fragmented.  This is usually the result of calling `frame.insert` many times, which has poor performance.  Consider joining all columns at once using pd.concat(axis=1) instead.  To get a de-fragmented frame, use `newframe = frame.copy()`\n"
     ]
    }
   ],
   "source": [
    "\n",
    "##############################################    \n",
    "#combined measures, redo z scores and groups!!\n",
    "##############################################\n",
    "\n",
    "zscore_df['comb_mom'] = zscore_df['mom3_zscore'] + zscore_df['mom6_zscore'] +zscore_df['mom12_zscore']\n",
    "zscore_df['ear_mom'] = zscore_df['mom3_zscore'] + zscore_df['mom6_zscore'] +zscore_df['mom12_zscore'] + zscore_df['EAR_std_zscore']\n",
    "zscore_df['val_comp'] = zscore_df['PE_zscore'] + zscore_df['PB_zscore'] +zscore_df['EVEBIT_zscore'] +zscore_df['PFCF_zscore']+zscore_df['PS_zscore']\n",
    "zscore_df['qual_comp'] = zscore_df['GPA_zscore'] + zscore_df['ROIC_zscore'] +zscore_df['ROE_zscore'] + zscore_df['AT_zscore']+zscore_df['FCFROE_zscore'] + zscore_df['Asset_growth_zscore']\n",
    "\n",
    "\n",
    "## REDO ZSCORE AND QUANTILES FOR COMBINED MEASURES\n",
    "\n",
    "for col in ['comb_mom', 'ear_mom', 'val_comp', 'qual_comp']:\n",
    "    col_zscore = col+ '_zscore'\n",
    "    zscore_tmp_df = zscore_df[col]\n",
    "    zscore_df[col_zscore] = (zscore_tmp_df - zscore_tmp_df.unstack(level ='d').mean())/zscore_tmp_df.unstack(level ='d').std()\n",
    "\n",
    "for col in ['comb_mom_zscore', 'ear_mom_zscore', 'val_comp_zscore', 'qual_comp_zscore']:\n",
    "    col_group = col + '_group'\n",
    "    zscore_df[col_group] = pd.qcut(zscore_df[col].rank(method='first'), 10, labels = range(1, 11))\n",
    "\n",
    "##############################################    \n",
    "######### REDO FOR COMBINATION OF COMBINATIONS, VMQ, QM, VQ, VM\n",
    "#################################################\n",
    "\n",
    "zscore_df['VMQ'] = zscore_df['ear_mom_zscore'] + zscore_df['val_comp_zscore'] +zscore_df['qual_comp_zscore']\n",
    "zscore_df['MQ'] = zscore_df['ear_mom_zscore'] +zscore_df['qual_comp_zscore']\n",
    "zscore_df['VQ'] =  zscore_df['val_comp_zscore'] +zscore_df['qual_comp_zscore']\n",
    "zscore_df['VM'] = zscore_df['ear_mom_zscore'] + zscore_df['val_comp_zscore']\n",
    "\n",
    "## REDO ZSCORE AND QUANTILES FOR COMBINED OF COMBINED MEASURES\n",
    "\n",
    "for col in ['VMQ', 'MQ', 'VQ', 'VM']:\n",
    "    col_zscore = col+ '_zscore'\n",
    "    zscore_tmp_df = zscore_df[col]\n",
    "    zscore_df[col_zscore] = (zscore_tmp_df - zscore_tmp_df.unstack(level ='d').mean())/zscore_tmp_df.unstack(level ='d').std()\n",
    "\n",
    "for col in ['VMQ_zscore', 'MQ_zscore', 'VQ_zscore', 'VM_zscore']:\n",
    "    col_group = col + '_group'\n",
    "    zscore_df[col_group] = pd.qcut(zscore_df[col].rank(method='first'), 10, labels = range(1, 11))\n",
    "\n",
    "\n",
    "    \n",
    "full_df_tmp = zscore_df.copy()\n",
    "zscore_df = zscore_df.unstack('insID').iloc[::horizon, :].stack('insID')"
   ]
  },
  {
   "cell_type": "markdown",
   "metadata": {},
   "source": [
    "# Horizon Forward Return"
   ]
  },
  {
   "cell_type": "markdown",
   "metadata": {},
   "source": [
    "### Train Model"
   ]
  },
  {
   "cell_type": "code",
   "execution_count": 7,
   "metadata": {},
   "outputs": [],
   "source": [
    "model_list = []\n",
    "for col in zscore_df.columns:\n",
    "    x = re.search('zscore$', col)\n",
    "    if(x!=None):\n",
    "        model_list.append(col)\n",
    "        \n",
    "\n",
    "coeff_list_full = model_list.copy()\n",
    "\n",
    "remv_list = ['rank_ret_zscore', 'ear_mom_zscore', 'val_comp_zscore','qual_comp_zscore', 'comb_mom_zscore',\n",
    "            'MQ_zscore', 'VM_zscore', 'VQ_zscore', 'VMQ_zscore', 'ROE_chg_zscore',\n",
    "             'rev_growth_zscore','EPS_growth_zscore','EPS_acceleration_zscore','MA50_VOL_zscore']\n",
    "\n",
    "for ele in remv_list:\n",
    "    coeff_list_full.remove(ele)\n",
    "        \n",
    "        \n",
    "\n",
    "#coeff_list = ['ear_mom_zscore','val_comp_zscore','qual_comp_zscore']\n",
    "\n",
    "#coeff_list = ['PE_zscore', 'mom12_zscore']"
   ]
  },
  {
   "cell_type": "code",
   "execution_count": 33,
   "metadata": {},
   "outputs": [
    {
     "data": {
      "text/plain": [
       "['MCAP_zscore',\n",
       " 'PE_zscore',\n",
       " 'GPA_zscore',\n",
       " 'GPA_chg_zscore',\n",
       " 'Asset_growth_zscore',\n",
       " 'PB_zscore',\n",
       " 'EAR_std_zscore',\n",
       " 'AVG_EAR_zscore',\n",
       " 'EVEBIT_zscore',\n",
       " 'EVFCF_zscore',\n",
       " 'ROIC_zscore',\n",
       " 'ROE_zscore',\n",
       " 'AT_zscore',\n",
       " 'RSURP_Y_zscore',\n",
       " 'SUE_Y_zscore',\n",
       " 'mom12_zscore',\n",
       " 'mom6_zscore',\n",
       " 'mom3_zscore',\n",
       " 'volatility_zscore',\n",
       " 'sharpe_zscore',\n",
       " 'sharpe_6m_zscore',\n",
       " 'high_12m_zscore',\n",
       " 'high_6m_zscore',\n",
       " 'high_3m_zscore',\n",
       " 'high_1m_zscore',\n",
       " 'high_2y_zscore',\n",
       " 'high_3y_zscore',\n",
       " 'high_4y_zscore',\n",
       " 'low_1m_zscore',\n",
       " 'low_3m_zscore',\n",
       " 'low_6m_zscore',\n",
       " 'low_12m_zscore',\n",
       " 'low_2y_zscore',\n",
       " 'skew_zscore',\n",
       " 'EMA_32_96_zscore',\n",
       " 'EMA_96_288_zscore',\n",
       " 'range_2y_zscore',\n",
       " 'range_12m_zscore',\n",
       " 'range_6m_zscore',\n",
       " 'range_3m_zscore',\n",
       " 'range_1m_zscore',\n",
       " 'VAR_1_zscore',\n",
       " 'MA_200_zscore',\n",
       " 'FCFROE_zscore',\n",
       " 'FCF_Assets_zscore',\n",
       " 'ROA_zscore',\n",
       " 'PS_zscore',\n",
       " 'PFCF_zscore',\n",
       " 'DIV_Y_zscore',\n",
       " 'res_mom12_zscore',\n",
       " 'Gross_margin_zscore',\n",
       " 'beta_zscore',\n",
       " 'alpha_zscore',\n",
       " 'std_alpha_zscore',\n",
       " 'ido_mom12_zscore',\n",
       " 'PO_zscore',\n",
       " 'FY_zscore',\n",
       " 'SY_zscore',\n",
       " 'Debt_Equity_zscore']"
      ]
     },
     "execution_count": 33,
     "metadata": {},
     "output_type": "execute_result"
    }
   ],
   "source": [
    "coeff_list_full"
   ]
  },
  {
   "cell_type": "code",
   "execution_count": 43,
   "metadata": {},
   "outputs": [],
   "source": [
    "coeff_list_comp = ['ear_mom_zscore','val_comp_zscore','qual_comp_zscore']\n",
    "\n",
    "\n",
    "coeff_list_mom = ['EAR_std_zscore','mom12_zscore', 'mom6_zscore',\n",
    "              'mom3_zscore', 'res_mom12_zscore', 'sharpe_zscore', 'sharpe_6m_zscore', 'alpha_zscore']\n",
    "\n",
    "coeff_list_val = ['EVEBIT_zscore','Asset_growth_zscore', 'PS_zscore', 'PB_zscore', 'PE_zscore','DIV_Y_zscore']\n",
    "coeff_list_qual = ['ROIC_zscore','ROE_zscore','GPA_zscore','AT_zscore', 'ROA_zscore', 'Gross_margin_zscore',\n",
    "                  'FCFROE_zscore']\n",
    "\n",
    "coeff_list_misc = ['skew_zscore', 'volatility_zscore', 'RSURP_Y_zscore','SUE_Y_zscore', 'beta_zscore']\n",
    "\n",
    "#coeff_list = ['mom12_zscore', 'EAR_std_zscore','mom6_zscore','mom3_zscore', 'volatility_zscore']\n",
    "coeff_list = ['mom1_zscore', 'mom12_zscore']\n"
   ]
  },
  {
   "cell_type": "code",
   "execution_count": 44,
   "metadata": {},
   "outputs": [],
   "source": [
    "\n",
    "np.random.seed(123)\n",
    "train_ratio = 0.7\n",
    "\n",
    "reg_df = zscore_df[coeff_list + ['rank_ret_zscore']].dropna()\n",
    "\n",
    "\n",
    "\n",
    "eval_train_df = reg_df[:int(len(reg_df)*train_ratio)]\n",
    "eval_test_df =  reg_df[int(len(reg_df)*(1-train_ratio)):]\n",
    "\n",
    "X_ml = reg_df[coeff_list]\n",
    "Y_ml = pd.DataFrame(reg_df[['rank_ret_zscore']])\n",
    "\n",
    "#splitting data into train and test\n",
    "X_train = X_ml[:int(len(X_ml)*train_ratio)]\n",
    "X_test = X_ml[int(len(X_ml)*(1-train_ratio)):]\n",
    "Y_train = Y_ml[:int(len(X_ml)*(train_ratio))]\n",
    "Y_test = Y_ml[int(len(X_ml)*(1-train_ratio)):]\n",
    "\n",
    "#creating dmatrix for xgboost\n",
    "dtrain = xgb.DMatrix(X_train, label=Y_train)\n",
    "dtest = xgb.DMatrix(X_test, label=Y_test)"
   ]
  },
  {
   "cell_type": "code",
   "execution_count": 45,
   "metadata": {},
   "outputs": [],
   "source": [
    "params = { 'max_depth': [1,2],\n",
    "           'learning_rate': [0.01, 0.02],\n",
    "           'n_estimators': [200,300],\n",
    "           'colsample_bytree': [ 0.2 ]}"
   ]
  },
  {
   "cell_type": "code",
   "execution_count": null,
   "metadata": {
    "scrolled": false
   },
   "outputs": [
    {
     "name": "stdout",
     "output_type": "stream",
     "text": [
      "Fitting 5 folds for each of 8 candidates, totalling 40 fits\n"
     ]
    }
   ],
   "source": [
    "## TUNE WITH GRIDSEARCH\n",
    "\n",
    "xgbr = xgb.XGBRegressor(seed = 20)\n",
    "clf = GridSearchCV(estimator=xgbr, \n",
    "                   param_grid=params,\n",
    "                   scoring='neg_mean_squared_error', \n",
    "                   verbose=1)\n",
    "clf.fit(X_train, Y_train)"
   ]
  },
  {
   "cell_type": "code",
   "execution_count": null,
   "metadata": {
    "scrolled": false
   },
   "outputs": [],
   "source": [
    "clf.best_params_"
   ]
  },
  {
   "cell_type": "markdown",
   "metadata": {},
   "source": [
    "### Model Eval"
   ]
  },
  {
   "cell_type": "code",
   "execution_count": null,
   "metadata": {
    "scrolled": true
   },
   "outputs": [],
   "source": [
    "VIP_df = pd.DataFrame(clf.best_estimator_.feature_importances_, index = X_train.columns).sort_values(0, ascending=True)\n",
    "eval_train_df.loc[:, 'pred_y'] = clf.predict(X_train)\n",
    "MSE_train = np.mean((eval_train_df['rank_ret_zscore'] - eval_train_df['pred_y'])**2)\n",
    "\n",
    "print(\"MSE for train set: \", MSE_train)\n",
    "\n",
    "#set up group for bin test\n",
    "for col in ['pred_y']:\n",
    "    col_group = col + '_group'\n",
    "    eval_train_df.loc[:, col_group] = pd.qcut(eval_train_df[col].rank(method='first'), 10, labels = range(1, 11))\n",
    "    \n",
    "    "
   ]
  },
  {
   "cell_type": "code",
   "execution_count": null,
   "metadata": {
    "scrolled": false
   },
   "outputs": [],
   "source": [
    "plt.figure(figsize=(20,10));\n",
    "plt.barh(VIP_df.transpose().columns,VIP_df.iloc[:, 0]);\n",
    "plt.title('Variable Importance for XGBoost Model');"
   ]
  },
  {
   "cell_type": "markdown",
   "metadata": {},
   "source": [
    "## SHAPS"
   ]
  },
  {
   "cell_type": "code",
   "execution_count": 41,
   "metadata": {
    "scrolled": false
   },
   "outputs": [
    {
     "name": "stderr",
     "output_type": "stream",
     "text": [
      "ntree_limit is deprecated, use `iteration_range` or model slicing instead.\n"
     ]
    },
    {
     "data": {
      "image/png": "[encoded data removed]",
      "text/plain": [
       "<Figure size 576x136.8 with 2 Axes>"
      ]
     },
     "metadata": {},
     "output_type": "display_data"
    },
    {
     "data": {
      "image/png": "[encoded data removed]",
      "text/plain": [
       "<Figure size 432x360 with 1 Axes>"
      ]
     },
     "metadata": {},
     "output_type": "display_data"
    }
   ],
   "source": [
    "shap_values_ind = shap.TreeExplainer(clf.best_estimator_).shap_values(X_ml)\n",
    "\n",
    "shap.summary_plot(shap_values_ind,X_ml)\n",
    "for var in coeff_list:\n",
    "    shap.dependence_plot(var, shap_values_ind, X_ml, interaction_index=None) #, interaction_index=None\n",
    "    "
   ]
  },
  {
   "cell_type": "code",
   "execution_count": 42,
   "metadata": {},
   "outputs": [
    {
     "data": {
      "text/html": [
       "<div>\n",
       "<style scoped>\n",
       "    .dataframe tbody tr th:only-of-type {\n",
       "        vertical-align: middle;\n",
       "    }\n",
       "\n",
       "    .dataframe tbody tr th {\n",
       "        vertical-align: top;\n",
       "    }\n",
       "\n",
       "    .dataframe thead th {\n",
       "        text-align: right;\n",
       "    }\n",
       "</style>\n",
       "<table border=\"1\" class=\"dataframe\">\n",
       "  <thead>\n",
       "    <tr style=\"text-align: right;\">\n",
       "      <th></th>\n",
       "      <th>VIP_SHAP</th>\n",
       "    </tr>\n",
       "  </thead>\n",
       "  <tbody>\n",
       "    <tr>\n",
       "      <th>mom1_zscore</th>\n",
       "      <td>1.0</td>\n",
       "    </tr>\n",
       "  </tbody>\n",
       "</table>\n",
       "</div>"
      ],
      "text/plain": [
       "             VIP_SHAP\n",
       "mom1_zscore       1.0"
      ]
     },
     "execution_count": 42,
     "metadata": {},
     "output_type": "execute_result"
    }
   ],
   "source": [
    "#Rank by Shap Values\n",
    "vals= np.abs(shap_values_ind).mean(0)\n",
    "vals = vals / vals.sum() #Normalize\n",
    "feature_importance = pd.DataFrame(vals, index = X_ml.columns,columns=['VIP_SHAP'])\n",
    "feature_importance.sort_values(by=['VIP_SHAP'],ascending=False,inplace=True)\n",
    "feature_importance"
   ]
  },
  {
   "cell_type": "markdown",
   "metadata": {},
   "source": [
    "## BACKTEST"
   ]
  },
  {
   "cell_type": "code",
   "execution_count": 28,
   "metadata": {
    "scrolled": true
   },
   "outputs": [
    {
     "data": {
      "image/png": "[encoded data removed]",
      "text/plain": [
       "<Figure size 432x288 with 1 Axes>"
      ]
     },
     "metadata": {},
     "output_type": "display_data"
    }
   ],
   "source": [
    "sns.set_style(\"whitegrid\")\n",
    "\n",
    "fig, ax = plt.subplots(nrows=1, ncols=1, sharex=True, sharey = True)\n",
    "fig.suptitle('XGBOOST Model Train Data: 1 month forward returns', fontsize=18, y=1)\n",
    "ax.bar(range(1, 11) ,eval_train_df.groupby(\"pred_y_group\").mean()['rank_ret_zscore']);\n",
    "ax.set_title('');"
   ]
  },
  {
   "cell_type": "markdown",
   "metadata": {},
   "source": [
    "### Eval test Set"
   ]
  },
  {
   "cell_type": "code",
   "execution_count": 29,
   "metadata": {},
   "outputs": [
    {
     "name": "stdout",
     "output_type": "stream",
     "text": [
      "MSE for test set:  0.9828497203186771\n"
     ]
    },
    {
     "name": "stderr",
     "output_type": "stream",
     "text": [
      "\n",
      "A value is trying to be set on a copy of a slice from a DataFrame.\n",
      "Try using .loc[row_indexer,col_indexer] = value instead\n",
      "\n",
      "See the caveats in the documentation: https://pandas.pydata.org/pandas-docs/stable/user_guide/indexing.html#returning-a-view-versus-a-copy\n"
     ]
    }
   ],
   "source": [
    "eval_test_df.loc[:, 'pred_y'] = clf.predict(X_test)\n",
    "MSE_test = np.mean((eval_test_df['rank_ret_zscore'] - eval_test_df['pred_y'])**2)\n",
    "\n",
    "print(\"MSE for test set: \", MSE_test)\n",
    "\n",
    "#set up group for bin test\n",
    "for col in ['pred_y']:\n",
    "    col_group = col + '_group'\n",
    "    eval_test_df.loc[:, col_group] = pd.qcut(eval_test_df[col].rank(method='first'), 10, labels = range(1, 11))"
   ]
  },
  {
   "cell_type": "code",
   "execution_count": 30,
   "metadata": {},
   "outputs": [
    {
     "data": {
      "image/png": "[encoded data removed]",
      "text/plain": [
       "<Figure size 432x288 with 1 Axes>"
      ]
     },
     "metadata": {},
     "output_type": "display_data"
    }
   ],
   "source": [
    "sns.set_style(\"whitegrid\")\n",
    "\n",
    "fig, ax = plt.subplots(nrows=1, ncols=1, sharex=True, sharey = True)\n",
    "fig.suptitle('XGBOOST Model Test Data: 1 month forward returns', fontsize=18, y=1)\n",
    "ax.bar(range(1, 11) ,eval_test_df.groupby(\"pred_y_group\").mean()['rank_ret_zscore']);\n",
    "ax.set_title('');"
   ]
  },
  {
   "cell_type": "markdown",
   "metadata": {},
   "source": [
    "## EXPORT PREDICTIONS AND MODEL"
   ]
  },
  {
   "cell_type": "code",
   "execution_count": 31,
   "metadata": {},
   "outputs": [],
   "source": [
    "## Export predicited values to backtest dev\n",
    "full_df_tmp = full_df_tmp.sort_index(level=0)\n",
    "pred_df = full_df_tmp.loc[full_df_tmp['mom12_zscore'].first_valid_index():,]\n",
    "\n",
    "export_df = pred_df.copy()\n",
    "export_df['xgboost_pred'] = clf.predict(pred_df[coeff_list])\n",
    "export_df = pd.DataFrame(export_df['xgboost_pred'])\n",
    "\n",
    "#export_df.to_csv(\"XGBOOST_pred.csv\")"
   ]
  },
  {
   "cell_type": "code",
   "execution_count": 32,
   "metadata": {},
   "outputs": [],
   "source": [
    "#clf.best_estimator_.save_model('stock_pred_1month_model.json')\n",
    "#joblib.dump(clf, 'stock_pred_1month_model.pkl')"
   ]
  },
  {
   "cell_type": "code",
   "execution_count": null,
   "metadata": {},
   "outputs": [],
   "source": []
  }
 ],
 "metadata": {
  "kernelspec": {
   "display_name": "Python 3",
   "language": "python",
   "name": "python3"
  },
  "language_info": {
   "codemirror_mode": {
    "name": "ipython",
    "version": 3
   },
   "file_extension": ".py",
   "mimetype": "text/x-python",
   "name": "python",
   "nbconvert_exporter": "python",
   "pygments_lexer": "ipython3",
   "version": "3.7.4"
  }
 },
 "nbformat": 4,
 "nbformat_minor": 2
}
