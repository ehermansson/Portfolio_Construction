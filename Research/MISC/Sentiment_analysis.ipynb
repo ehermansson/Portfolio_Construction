{
 "cells": [
  {
   "cell_type": "code",
   "execution_count": 1,
   "metadata": {},
   "outputs": [],
   "source": [
    "import quandl\n",
    "import pandas as pd\n",
    "import seaborn as sns\n",
    "import yfinance as yf \n",
    "import pandas as pd\n",
    "from matplotlib import pylab as plt\n",
    "import numpy as np\n",
    "from datetime import datetime\n",
    "import math\n",
    "import quandl\n",
    "import seaborn as sns\n",
    "import sys\n",
    "import pandas_datareader.data as web\n",
    "from statsmodels.graphics.tsaplots import plot_acf"
   ]
  },
  {
   "cell_type": "code",
   "execution_count": 2,
   "metadata": {},
   "outputs": [],
   "source": [
    "def Z_score(data):\n",
    "    # not including the current observation\n",
    "    std = data.iloc[:-1].std()\n",
    "    mean = data.iloc[:-1].mean()\n",
    "    Z = (data[-1:] - mean)/std\n",
    "    return Z"
   ]
  },
  {
   "cell_type": "code",
   "execution_count": 3,
   "metadata": {},
   "outputs": [],
   "source": [
    "def color_negative_red(value):\n",
    "    \"\"\"\n",
    "      Colors elements in a dateframe\n",
    "      green if positive and red if\n",
    "      negative. Does not color NaN\n",
    "      values.\n",
    "      \"\"\"\n",
    "\n",
    "    if value < 0:\n",
    "        color = 'red'\n",
    "    elif value > 0:\n",
    "        color = 'green'\n",
    "    else:\n",
    "        color = 'black'\n",
    "\n",
    "    return 'color: %s' % color"
   ]
  },
  {
   "cell_type": "markdown",
   "metadata": {},
   "source": [
    "# Sentiment analysis (Futures only)\n",
    "- sp500\n",
    "- gold\n",
    "- dollar\n",
    "\n",
    "\n",
    "Z score for net positions (1 and 3 years) and change in position (1 month and 3 months).\n",
    "\n"
   ]
  },
  {
   "cell_type": "code",
   "execution_count": 4,
   "metadata": {},
   "outputs": [],
   "source": [
    "#data import\n",
    "\n",
    "gold_tmp = quandl.get(\"CFTC/088691_F_L_ALL\")\n",
    "sp500_tmp = quandl.get(\"CFTC/138741_F_L_ALL\")\n",
    "dxy_tmp = quandl.get(\"CFTC/098662_F_L_ALL\")\n",
    "bitcoin_tmp = quandl.get(\"CFTC/133741_F_L_ALL\")"
   ]
  },
  {
   "cell_type": "code",
   "execution_count": 5,
   "metadata": {},
   "outputs": [],
   "source": [
    "assets = [gold_tmp,sp500_tmp, dxy_tmp, bitcoin_tmp]\n",
    "asset_names = ['Gold', 'SP500', 'DXY', 'Bitcoin']"
   ]
  },
  {
   "cell_type": "code",
   "execution_count": 6,
   "metadata": {},
   "outputs": [],
   "source": [
    "for asset in assets:\n",
    "    asset['Net Position'] = asset['Noncommercial Long'] - asset['Noncommercial Short']\n",
    "    asset['1 Yr Z Score'] = asset['Net Position'].rolling(52).apply(lambda x: Z_score(x),raw=False)\n",
    "    asset['3 Yr Z Score'] = asset['Net Position'].rolling(3 * 52).apply(lambda x: Z_score(x),raw=False) \n",
    "    asset['1 Month Change'] = asset['Net Position'].pct_change(4)  \n",
    "    asset['3 Month Change'] = asset['Net Position'].pct_change(3*4)"
   ]
  },
  {
   "cell_type": "code",
   "execution_count": 7,
   "metadata": {},
   "outputs": [],
   "source": [
    "TOTAL_ASSETS = None\n",
    "\n",
    "for asset in assets:\n",
    "    \n",
    "    TOTAL_ASSETS = pd.concat([TOTAL_ASSETS, asset.tail(1)], axis = 0)\n",
    "    \n",
    "TOTAL_ASSETS['Asset'] = asset_names\n",
    "TOTAL_ASSETS.set_index(['Asset'], inplace=True, drop=True)\n",
    "\n",
    "compact = ['1 Yr Z Score', '3 Yr Z Score', '1 Month Change', '3 Month Change']\n",
    "TOTAL_ASSETS = TOTAL_ASSETS[compact]"
   ]
  },
  {
   "cell_type": "markdown",
   "metadata": {},
   "source": [
    "## Display Results"
   ]
  },
  {
   "cell_type": "code",
   "execution_count": 24,
   "metadata": {},
   "outputs": [],
   "source": [
    "th_props = [\n",
    "  ('font-size', '16px'),\n",
    "  ('text-align', 'center'),\n",
    "  ('font-weight', 'bold'),\n",
    "  ('color', 'Black'),\n",
    "  ('background-color', '#f7f7f9')\n",
    "  ]\n",
    "\n",
    "\n",
    "# Set CSS properties for td elements in dataframe\n",
    "td_props = [('font-size', '16px'), ('text-align', 'center')]\n",
    "\n",
    "# Set table styles\n",
    "styles = [\n",
    "    dict(selector=\"th\", props=th_props),\n",
    "    dict(selector=\"td\", props=td_props)\n",
    "]\n",
    "\n",
    "cm_low_good = sns.diverging_palette(150, 10, s=80, l=70, n=len(TOTAL_ASSETS.columns), as_cmap=True)#sns.light_palette(\"green\", as_cmap=True)\n",
    "cm_high_good = sns.diverging_palette(10, 150, s=80, l=70, n=len(TOTAL_ASSETS.columns), as_cmap=True)\n",
    "\n",
    "TOTAL_ASSETS_VIEW = (TOTAL_ASSETS.style\n",
    "    .applymap(color_negative_red, subset=['1 Yr Z Score', '3 Yr Z Score', '1 Month Change', '3 Month Change'])\n",
    "    #.background_gradient(axis = 0 ,subset = ['DSSP', 'HIDI'],cmap=cm_high_good)\n",
    "    #.background_gradient(axis = 0 ,subset = ['VRANK', 'MRANK','CRANK', 'ST'],cmap=cm_low_good)\n",
    "    .set_caption('Speculator Positioning')\n",
    "    .format({'1 Month Change': \"{:.1%}\",'3 Month Change': \"{:.1%}\", '1 Yr Z Score': \"{:.2f}\", '3 Yr Z Score': \"{:.2f}\"})\n",
    "    .set_table_styles(styles))"
   ]
  },
  {
   "cell_type": "markdown",
   "metadata": {},
   "source": [
    "# Returns, Realized and Implied Volatility"
   ]
  },
  {
   "cell_type": "code",
   "execution_count": 10,
   "metadata": {},
   "outputs": [
    {
     "name": "stdout",
     "output_type": "stream",
     "text": [
      "[*********************100%***********************]  1 of 1 completed\n",
      "[*********************100%***********************]  1 of 1 completed\n",
      "[*********************100%***********************]  1 of 1 completed\n",
      "[*********************100%***********************]  1 of 1 completed\n"
     ]
    }
   ],
   "source": [
    "#Prices\n",
    "\n",
    "GOLD_price_tmp = yf.download('GLD')\n",
    "SP500_price_tmp = yf.download('SPY')\n",
    "DXY_price_tmp = yf.download('DX-Y.NYB')\n",
    "BIT_price_tmp = yf.download('BTC-USD')\n"
   ]
  },
  {
   "cell_type": "code",
   "execution_count": 11,
   "metadata": {},
   "outputs": [],
   "source": [
    "GOLD_price = pd.DataFrame(GOLD_price_tmp['Close'])\n",
    "SP500_price = pd.DataFrame(SP500_price_tmp['Close'])\n",
    "DXY_price = pd.DataFrame(DXY_price_tmp['Close'])\n",
    "BIT_price = pd.DataFrame(BIT_price_tmp['Close'])\n",
    "\n",
    "\n",
    "prices = [GOLD_price,SP500_price,DXY_price, BIT_price ]\n",
    "price_names = ['Gold', 'SP500', 'DXY', 'Bitcoin']"
   ]
  },
  {
   "cell_type": "code",
   "execution_count": 21,
   "metadata": {},
   "outputs": [],
   "source": [
    "for price in prices:\n",
    "    price['1 Month Return'] = price['Close'].pct_change(20)\n",
    "    price['3 Month Return'] = price['Close'].pct_change(60)\n",
    "    price['Volatility'] = price['Close'].pct_change().rolling(21).std()*(252**0.5)\n",
    "    price['3 year Volatility Z-Score'] = price['Volatility'].rolling(3 * 52).apply(lambda x: Z_score(x),raw=False) \n",
    "\n",
    "\n",
    "PRICES = None\n",
    "\n",
    "for price in prices:\n",
    "    \n",
    "    PRICES = pd.concat([PRICES, price.tail(1)], axis = 0)\n",
    "    \n",
    "PRICES['Asset'] = asset_names\n",
    "compact_1 = ['Asset', '1 Month Return', '3 Month Return', 'Volatility', '3 year Volatility Z-Score']\n",
    "PRICES = PRICES[compact_1]\n",
    "PRICES.set_index(['Asset'], inplace=True, drop=True)"
   ]
  },
  {
   "cell_type": "code",
   "execution_count": 26,
   "metadata": {},
   "outputs": [],
   "source": [
    "th_props = [\n",
    "  ('font-size', '16px'),\n",
    "  ('text-align', 'center'),\n",
    "  ('font-weight', 'bold'),\n",
    "  ('color', 'Black'),\n",
    "  ('background-color', '#f7f7f9')\n",
    "  ]\n",
    "\n",
    "\n",
    "# Set CSS properties for td elements in dataframe\n",
    "td_props = [('font-size', '16px'), ('text-align', 'center')]\n",
    "\n",
    "# Set table styles\n",
    "styles = [\n",
    "    dict(selector=\"th\", props=th_props),\n",
    "    dict(selector=\"td\", props=td_props)\n",
    "]\n",
    "\n",
    "\n",
    "cm_low_good = sns.diverging_palette(150, 10, s=80, l=70, n=len(PRICES.columns), as_cmap=True)#sns.light_palette(\"green\", as_cmap=True)\n",
    "cm_high_good = sns.diverging_palette(10, 150, s=80, l=70, n=len(PRICES.columns), as_cmap=True)\n",
    "\n",
    "PRICES_VIEW = (PRICES.style\n",
    "    .applymap(color_negative_red, subset=['1 Month Return', '3 Month Return', 'Volatility', '3 year Volatility Z-Score'])\n",
    "    .set_caption('Asset Metrics')\n",
    "    .format({'1 Month Return': \"{:.1%}\",'3 Month Return': \"{:.1%}\", 'Volatility': \"{:.1%}\", '3 year Volatility Z-Score': \"{:.2f}\"})\n",
    "    .set_table_styles(styles))"
   ]
  },
  {
   "cell_type": "code",
   "execution_count": 27,
   "metadata": {},
   "outputs": [
    {
     "data": {
      "text/html": [
       "<style  type=\"text/css\" >\n",
       "    #T_354d13ea_618b_11eb_a8b5_8c859039bca2 th {\n",
       "          font-size: 16px;\n",
       "          text-align: center;\n",
       "          font-weight: bold;\n",
       "          color: Black;\n",
       "          background-color: #f7f7f9;\n",
       "    }    #T_354d13ea_618b_11eb_a8b5_8c859039bca2 td {\n",
       "          font-size: 16px;\n",
       "          text-align: center;\n",
       "    }    #T_354d13ea_618b_11eb_a8b5_8c859039bca2row0_col0 {\n",
       "            color:  red;\n",
       "        }    #T_354d13ea_618b_11eb_a8b5_8c859039bca2row0_col1 {\n",
       "            color:  red;\n",
       "        }    #T_354d13ea_618b_11eb_a8b5_8c859039bca2row0_col2 {\n",
       "            color:  green;\n",
       "        }    #T_354d13ea_618b_11eb_a8b5_8c859039bca2row0_col3 {\n",
       "            color:  green;\n",
       "        }    #T_354d13ea_618b_11eb_a8b5_8c859039bca2row1_col0 {\n",
       "            color:  green;\n",
       "        }    #T_354d13ea_618b_11eb_a8b5_8c859039bca2row1_col1 {\n",
       "            color:  green;\n",
       "        }    #T_354d13ea_618b_11eb_a8b5_8c859039bca2row1_col2 {\n",
       "            color:  green;\n",
       "        }    #T_354d13ea_618b_11eb_a8b5_8c859039bca2row1_col3 {\n",
       "            color:  red;\n",
       "        }    #T_354d13ea_618b_11eb_a8b5_8c859039bca2row2_col0 {\n",
       "            color:  green;\n",
       "        }    #T_354d13ea_618b_11eb_a8b5_8c859039bca2row2_col1 {\n",
       "            color:  red;\n",
       "        }    #T_354d13ea_618b_11eb_a8b5_8c859039bca2row2_col2 {\n",
       "            color:  green;\n",
       "        }    #T_354d13ea_618b_11eb_a8b5_8c859039bca2row2_col3 {\n",
       "            color:  green;\n",
       "        }    #T_354d13ea_618b_11eb_a8b5_8c859039bca2row3_col0 {\n",
       "            color:  green;\n",
       "        }    #T_354d13ea_618b_11eb_a8b5_8c859039bca2row3_col1 {\n",
       "            color:  green;\n",
       "        }    #T_354d13ea_618b_11eb_a8b5_8c859039bca2row3_col2 {\n",
       "            color:  green;\n",
       "        }    #T_354d13ea_618b_11eb_a8b5_8c859039bca2row3_col3 {\n",
       "            color:  green;\n",
       "        }</style><table id=\"T_354d13ea_618b_11eb_a8b5_8c859039bca2\" ><caption>Asset Metrics</caption><thead>    <tr>        <th class=\"blank level0\" ></th>        <th class=\"col_heading level0 col0\" >1 Month Return</th>        <th class=\"col_heading level0 col1\" >3 Month Return</th>        <th class=\"col_heading level0 col2\" >Volatility</th>        <th class=\"col_heading level0 col3\" >3 year Volatility Z-Score</th>    </tr>    <tr>        <th class=\"index_name level0\" >Asset</th>        <th class=\"blank\" ></th>        <th class=\"blank\" ></th>        <th class=\"blank\" ></th>        <th class=\"blank\" ></th>    </tr></thead><tbody>\n",
       "                <tr>\n",
       "                        <th id=\"T_354d13ea_618b_11eb_a8b5_8c859039bca2level0_row0\" class=\"row_heading level0 row0\" >Gold</th>\n",
       "                        <td id=\"T_354d13ea_618b_11eb_a8b5_8c859039bca2row0_col0\" class=\"data row0 col0\" >-1.3%</td>\n",
       "                        <td id=\"T_354d13ea_618b_11eb_a8b5_8c859039bca2row0_col1\" class=\"data row0 col1\" >-1.3%</td>\n",
       "                        <td id=\"T_354d13ea_618b_11eb_a8b5_8c859039bca2row0_col2\" class=\"data row0 col2\" >18.7%</td>\n",
       "                        <td id=\"T_354d13ea_618b_11eb_a8b5_8c859039bca2row0_col3\" class=\"data row0 col3\" >0.31</td>\n",
       "            </tr>\n",
       "            <tr>\n",
       "                        <th id=\"T_354d13ea_618b_11eb_a8b5_8c859039bca2level0_row1\" class=\"row_heading level0 row1\" >SP500</th>\n",
       "                        <td id=\"T_354d13ea_618b_11eb_a8b5_8c859039bca2row1_col0\" class=\"data row1 col0\" >2.4%</td>\n",
       "                        <td id=\"T_354d13ea_618b_11eb_a8b5_8c859039bca2row1_col1\" class=\"data row1 col1\" >16.4%</td>\n",
       "                        <td id=\"T_354d13ea_618b_11eb_a8b5_8c859039bca2row1_col2\" class=\"data row1 col2\" >14.9%</td>\n",
       "                        <td id=\"T_354d13ea_618b_11eb_a8b5_8c859039bca2row1_col3\" class=\"data row1 col3\" >-0.40</td>\n",
       "            </tr>\n",
       "            <tr>\n",
       "                        <th id=\"T_354d13ea_618b_11eb_a8b5_8c859039bca2level0_row2\" class=\"row_heading level0 row2\" >DXY</th>\n",
       "                        <td id=\"T_354d13ea_618b_11eb_a8b5_8c859039bca2row2_col0\" class=\"data row2 col0\" >0.6%</td>\n",
       "                        <td id=\"T_354d13ea_618b_11eb_a8b5_8c859039bca2row2_col1\" class=\"data row2 col1\" >-3.1%</td>\n",
       "                        <td id=\"T_354d13ea_618b_11eb_a8b5_8c859039bca2row2_col2\" class=\"data row2 col2\" >5.6%</td>\n",
       "                        <td id=\"T_354d13ea_618b_11eb_a8b5_8c859039bca2row2_col3\" class=\"data row2 col3\" >0.20</td>\n",
       "            </tr>\n",
       "            <tr>\n",
       "                        <th id=\"T_354d13ea_618b_11eb_a8b5_8c859039bca2level0_row3\" class=\"row_heading level0 row3\" >Bitcoin</th>\n",
       "                        <td id=\"T_354d13ea_618b_11eb_a8b5_8c859039bca2row3_col0\" class=\"data row3 col0\" >10.5%</td>\n",
       "                        <td id=\"T_354d13ea_618b_11eb_a8b5_8c859039bca2row3_col1\" class=\"data row3 col1\" >71.9%</td>\n",
       "                        <td id=\"T_354d13ea_618b_11eb_a8b5_8c859039bca2row3_col2\" class=\"data row3 col2\" >91.0%</td>\n",
       "                        <td id=\"T_354d13ea_618b_11eb_a8b5_8c859039bca2row3_col3\" class=\"data row3 col3\" >3.17</td>\n",
       "            </tr>\n",
       "    </tbody></table>"
      ],
      "text/plain": [
       "<pandas.io.formats.style.Styler at 0x7fea636a2110>"
      ]
     },
     "execution_count": 27,
     "metadata": {},
     "output_type": "execute_result"
    }
   ],
   "source": [
    "PRICES_VIEW"
   ]
  },
  {
   "cell_type": "code",
   "execution_count": 28,
   "metadata": {},
   "outputs": [
    {
     "data": {
      "text/html": [
       "<style  type=\"text/css\" >\n",
       "    #T_63179552_618b_11eb_a8b5_8c859039bca2 th {\n",
       "          font-size: 16px;\n",
       "          text-align: center;\n",
       "          font-weight: bold;\n",
       "          color: Black;\n",
       "          background-color: #f7f7f9;\n",
       "    }    #T_63179552_618b_11eb_a8b5_8c859039bca2 td {\n",
       "          font-size: 16px;\n",
       "          text-align: center;\n",
       "    }    #T_63179552_618b_11eb_a8b5_8c859039bca2row0_col0 {\n",
       "            color:  red;\n",
       "            color:  red;\n",
       "        }    #T_63179552_618b_11eb_a8b5_8c859039bca2row0_col1 {\n",
       "            color:  green;\n",
       "            color:  green;\n",
       "        }    #T_63179552_618b_11eb_a8b5_8c859039bca2row0_col2 {\n",
       "            color:  red;\n",
       "            color:  red;\n",
       "        }    #T_63179552_618b_11eb_a8b5_8c859039bca2row0_col3 {\n",
       "            color:  red;\n",
       "            color:  red;\n",
       "        }    #T_63179552_618b_11eb_a8b5_8c859039bca2row1_col0 {\n",
       "            color:  red;\n",
       "            color:  red;\n",
       "        }    #T_63179552_618b_11eb_a8b5_8c859039bca2row1_col1 {\n",
       "            color:  green;\n",
       "            color:  green;\n",
       "        }    #T_63179552_618b_11eb_a8b5_8c859039bca2row1_col2 {\n",
       "            color:  red;\n",
       "            color:  red;\n",
       "        }    #T_63179552_618b_11eb_a8b5_8c859039bca2row1_col3 {\n",
       "            color:  red;\n",
       "            color:  red;\n",
       "        }    #T_63179552_618b_11eb_a8b5_8c859039bca2row2_col0 {\n",
       "            color:  red;\n",
       "            color:  red;\n",
       "        }    #T_63179552_618b_11eb_a8b5_8c859039bca2row2_col1 {\n",
       "            color:  red;\n",
       "            color:  red;\n",
       "        }    #T_63179552_618b_11eb_a8b5_8c859039bca2row2_col2 {\n",
       "            color:  red;\n",
       "            color:  red;\n",
       "        }    #T_63179552_618b_11eb_a8b5_8c859039bca2row2_col3 {\n",
       "            color:  green;\n",
       "            color:  green;\n",
       "        }    #T_63179552_618b_11eb_a8b5_8c859039bca2row3_col0 {\n",
       "            color:  red;\n",
       "            color:  red;\n",
       "        }    #T_63179552_618b_11eb_a8b5_8c859039bca2row3_col1 {\n",
       "            color:  black;\n",
       "            color:  black;\n",
       "        }    #T_63179552_618b_11eb_a8b5_8c859039bca2row3_col2 {\n",
       "            color:  red;\n",
       "            color:  red;\n",
       "        }    #T_63179552_618b_11eb_a8b5_8c859039bca2row3_col3 {\n",
       "            color:  red;\n",
       "            color:  red;\n",
       "        }</style><table id=\"T_63179552_618b_11eb_a8b5_8c859039bca2\" ><caption>Speculator Positioning</caption><thead>    <tr>        <th class=\"blank level0\" ></th>        <th class=\"col_heading level0 col0\" >1 Yr Z Score</th>        <th class=\"col_heading level0 col1\" >3 Yr Z Score</th>        <th class=\"col_heading level0 col2\" >1 Month Change</th>        <th class=\"col_heading level0 col3\" >3 Month Change</th>    </tr>    <tr>        <th class=\"index_name level0\" >Asset</th>        <th class=\"blank\" ></th>        <th class=\"blank\" ></th>        <th class=\"blank\" ></th>        <th class=\"blank\" ></th>    </tr></thead><tbody>\n",
       "                <tr>\n",
       "                        <th id=\"T_63179552_618b_11eb_a8b5_8c859039bca2level0_row0\" class=\"row_heading level0 row0\" >Gold</th>\n",
       "                        <td id=\"T_63179552_618b_11eb_a8b5_8c859039bca2row0_col0\" class=\"data row0 col0\" >-0.39</td>\n",
       "                        <td id=\"T_63179552_618b_11eb_a8b5_8c859039bca2row0_col1\" class=\"data row0 col1\" >0.62</td>\n",
       "                        <td id=\"T_63179552_618b_11eb_a8b5_8c859039bca2row0_col2\" class=\"data row0 col2\" >-11.3%</td>\n",
       "                        <td id=\"T_63179552_618b_11eb_a8b5_8c859039bca2row0_col3\" class=\"data row0 col3\" >-0.8%</td>\n",
       "            </tr>\n",
       "            <tr>\n",
       "                        <th id=\"T_63179552_618b_11eb_a8b5_8c859039bca2level0_row1\" class=\"row_heading level0 row1\" >SP500</th>\n",
       "                        <td id=\"T_63179552_618b_11eb_a8b5_8c859039bca2row1_col0\" class=\"data row1 col0\" >-0.41</td>\n",
       "                        <td id=\"T_63179552_618b_11eb_a8b5_8c859039bca2row1_col1\" class=\"data row1 col1\" >0.04</td>\n",
       "                        <td id=\"T_63179552_618b_11eb_a8b5_8c859039bca2row1_col2\" class=\"data row1 col2\" >-48.7%</td>\n",
       "                        <td id=\"T_63179552_618b_11eb_a8b5_8c859039bca2row1_col3\" class=\"data row1 col3\" >-83.2%</td>\n",
       "            </tr>\n",
       "            <tr>\n",
       "                        <th id=\"T_63179552_618b_11eb_a8b5_8c859039bca2level0_row2\" class=\"row_heading level0 row2\" >DXY</th>\n",
       "                        <td id=\"T_63179552_618b_11eb_a8b5_8c859039bca2row2_col0\" class=\"data row2 col0\" >-1.41</td>\n",
       "                        <td id=\"T_63179552_618b_11eb_a8b5_8c859039bca2row2_col1\" class=\"data row2 col1\" >-1.87</td>\n",
       "                        <td id=\"T_63179552_618b_11eb_a8b5_8c859039bca2row2_col2\" class=\"data row2 col2\" >-4.0%</td>\n",
       "                        <td id=\"T_63179552_618b_11eb_a8b5_8c859039bca2row2_col3\" class=\"data row2 col3\" >1038.5%</td>\n",
       "            </tr>\n",
       "            <tr>\n",
       "                        <th id=\"T_63179552_618b_11eb_a8b5_8c859039bca2level0_row3\" class=\"row_heading level0 row3\" >Bitcoin</th>\n",
       "                        <td id=\"T_63179552_618b_11eb_a8b5_8c859039bca2row3_col0\" class=\"data row3 col0\" >-1.23</td>\n",
       "                        <td id=\"T_63179552_618b_11eb_a8b5_8c859039bca2row3_col1\" class=\"data row3 col1\" >nan</td>\n",
       "                        <td id=\"T_63179552_618b_11eb_a8b5_8c859039bca2row3_col2\" class=\"data row3 col2\" >-15.2%</td>\n",
       "                        <td id=\"T_63179552_618b_11eb_a8b5_8c859039bca2row3_col3\" class=\"data row3 col3\" >-5.8%</td>\n",
       "            </tr>\n",
       "    </tbody></table>"
      ],
      "text/plain": [
       "<pandas.io.formats.style.Styler at 0x7fea5e2e3490>"
      ]
     },
     "execution_count": 28,
     "metadata": {},
     "output_type": "execute_result"
    }
   ],
   "source": [
    "TOTAL_ASSETS_VIEW"
   ]
  },
  {
   "cell_type": "code",
   "execution_count": null,
   "metadata": {},
   "outputs": [],
   "source": []
  }
 ],
 "metadata": {
  "kernelspec": {
   "display_name": "Python 3",
   "language": "python",
   "name": "python3"
  },
  "language_info": {
   "codemirror_mode": {
    "name": "ipython",
    "version": 3
   },
   "file_extension": ".py",
   "mimetype": "text/x-python",
   "name": "python",
   "nbconvert_exporter": "python",
   "pygments_lexer": "ipython3",
   "version": "3.7.4"
  }
 },
 "nbformat": 4,
 "nbformat_minor": 2
}
