{
 "cells": [
  {
   "cell_type": "code",
   "execution_count": 1,
   "metadata": {},
   "outputs": [],
   "source": [
    "import yfinance as yf \n",
    "import pandas as pd\n",
    "import numpy as np\n",
    "from datetime import datetime\n",
    "\n",
    "import quandl\n",
    "\n",
    "import sys\n",
    "import urllib\n",
    "import os\n",
    "from matplotlib import pylab as plt \n",
    "\n",
    "import quandl\n",
    "\n",
    "import seaborn as sns\n",
    "\n",
    "import sys\n",
    "\n",
    "from scipy.stats import norm"
   ]
  },
  {
   "cell_type": "code",
   "execution_count": 2,
   "metadata": {},
   "outputs": [],
   "source": [
    "def import_MSCI(name):\n",
    "    '''Function to clean data from MSCI\n",
    "    https://www.msci.com/end-of-day-data-country\n",
    "    '''\n",
    "    \n",
    "    \n",
    "    path = \"../Data/\" + name + \".xls\"\n",
    "    imp_tmp = pd.read_excel(path)\n",
    "    price_type = imp_tmp.loc[1][1]\n",
    "    \n",
    "    imp = imp_tmp[6:]\n",
    "    imp.columns = ['Date', name]\n",
    "    #imp['Date'] = pd.to_datetime(imp['Date'], errors='coerce')\n",
    "    imp.loc[0] = pd.to_datetime(imp['Date'], errors='coerce')\n",
    "    imp = imp.dropna()\n",
    "    \n",
    "    imp = imp.set_index('Date')\n",
    "    imp.index = imp.index.strftime('%Y/%m')\n",
    "    imp.index = pd.to_datetime(imp.index, errors='coerce')\n",
    "    \n",
    "    print(price_type)\n",
    "    \n",
    "    return(imp)\n",
    "\n",
    "#def merge_data():\n",
    "    "
   ]
  },
  {
   "cell_type": "code",
   "execution_count": 3,
   "metadata": {},
   "outputs": [],
   "source": [
    "def port_eval(port, freq = 'D'):\n",
    "    \n",
    "    port = pd.DataFrame(port)\n",
    "    port_ret = calc_port_ret(port)\n",
    "    \n",
    "    Roll_Max = port.cummax()\n",
    "    Daily_Drawdown = port/Roll_Max - 1.0\n",
    "    Max_Daily_Drawdown = Daily_Drawdown.cummin()\n",
    "    \n",
    "    Max_Daily_Drawdown = round(Max_Daily_Drawdown.tail(1),2)\n",
    "    \n",
    "    neg_ret = port_ret[port_ret<1].dropna()\n",
    "    \n",
    "    mean = np.mean(port_ret - 1)\n",
    "    std = np.std(port_ret - 1)\n",
    "    \n",
    "    alpha = 0.05\n",
    "    ES = round(alpha**-1 * norm.pdf(norm.ppf(alpha))*std - mean,3)\n",
    " \n",
    "    \n",
    "    if freq == 'D':\n",
    "        cagr = round(port_ret.cumprod().tail(1)**(252/len(port_ret)) - 1,4)\n",
    "        MAR = round(cagr/Max_Daily_Drawdown,2)\n",
    "        vol = round(np.log(port_ret).std()*np.sqrt(252),3)\n",
    "        sortino = round(np.log(neg_ret).std()*np.sqrt(252),2)\n",
    "        sortino = round(cagr/sortino,2)\n",
    "        sharpe = round(cagr/vol,2)\n",
    "        \n",
    "    elif freq == 'M':\n",
    "        cagr = round(port_ret.cumprod().tail(1)**(12/len(port_ret)) - 1,4)\n",
    "        MAR = round(cagr/Max_Daily_Drawdown,2)\n",
    "        vol = round(np.log(port_ret).std()*np.sqrt(12),3)\n",
    "        sortino = round(np.log(neg_ret).std()*np.sqrt(12),2)\n",
    "        sortino = round(cagr/sortino,2)\n",
    "        sharpe = round(cagr/vol,2)\n",
    "        \n",
    "        \n",
    "    metrics = pd.DataFrame({'': [float(cagr.iloc[0]), float(vol.iloc[0]),\n",
    "                                 float(sharpe.iloc[0]),float(sortino.iloc[0]),\n",
    "                                 float(Max_Daily_Drawdown.iloc[0]), abs(float(MAR.iloc[0]))]},\n",
    "                   index=['CAGR', 'Volatility', 'Sharpe','Sortino', 'Max DD', 'MAR'])\n",
    "    \n",
    "    return metrics "
   ]
  },
  {
   "cell_type": "code",
   "execution_count": 4,
   "metadata": {},
   "outputs": [],
   "source": [
    "def strategy_evaluation(result, data_names, freq = 'D'):\n",
    "    metrics = pd.DataFrame([])\n",
    "    \n",
    "    if freq == 'D':\n",
    "    \n",
    "        for i in result.columns:\n",
    "            metrics = pd.concat([metrics, port_eval(result[i], freq = 'D').transpose()], axis = 0)\n",
    "        metrics.index = [\"Portfolio\"] + data_names\n",
    "        \n",
    "    elif freq == 'M':\n",
    "        for i in result.columns:\n",
    "            metrics = pd.concat([metrics, port_eval(result[i], freq = 'M').transpose()], axis = 0)\n",
    "        metrics.index = [\"Portfolio\"] + data_names\n",
    "        \n",
    "    th_props = [\n",
    "  ('font-size', '11px'),\n",
    "  ('text-align', 'center'),\n",
    "  ('font-weight', 'bold'),\n",
    "  ('color', 'Black'),\n",
    "  ('background-color', '#f7f7f9')\n",
    "  ]\n",
    "\n",
    "\n",
    "    # Set CSS properties for td elements in dataframe\n",
    "    td_props = [\n",
    "      ('font-size', '11px'), ('text-align', 'center')\n",
    "      ]\n",
    "\n",
    "    # Set table styles\n",
    "    styles = [\n",
    "      dict(selector=\"th\", props=th_props),\n",
    "      dict(selector=\"td\", props=td_props)\n",
    "      ]\n",
    "\n",
    "    cm_neg_good = sns.diverging_palette(150, 10, s=80, l=70, n=len(metrics.columns), as_cmap=True)#sns.light_palette(\"green\", as_cmap=True)\n",
    "    cm_pos_good = sns.diverging_palette(10, 150, s=80, l=70, n=len(metrics.columns), as_cmap=True)\n",
    "\n",
    "    metrics = (metrics.style\n",
    "      .background_gradient(axis = 0 ,subset = ['CAGR','Max DD', 'Sharpe','MAR','Sortino' ],cmap=cm_pos_good)\n",
    "      .background_gradient(axis = 0 ,subset = ['Volatility'],cmap=cm_neg_good)\n",
    "      #.set_caption('Performance Metrics')\n",
    "      .format({'CAGR': \"{:.2%}\", 'Max DD': \"{:.2%}\", 'Volatility': \"{:.2%}\"})\n",
    "      .set_table_styles(styles))\n",
    "    \n",
    "    return metrics"
   ]
  },
  {
   "cell_type": "code",
   "execution_count": 5,
   "metadata": {},
   "outputs": [],
   "source": [
    "def calc_port_ret(port):\n",
    "    port_ret = port/port.shift(1)\n",
    "    port_ret = port_ret.fillna(1)\n",
    "    \n",
    "    return port_ret"
   ]
  },
  {
   "cell_type": "markdown",
   "metadata": {},
   "source": [
    "# Trend Followning Backtest"
   ]
  },
  {
   "cell_type": "code",
   "execution_count": 6,
   "metadata": {},
   "outputs": [],
   "source": [
    "Gold_tmp = quandl.get(\"LBMA/GOLD\", authtoken=\"6rNSyTM5R4g7_B7XSyQW\")\n",
    "Gold = pd.DataFrame(Gold_tmp[\"USD (AM)\"])\n",
    "Gold = Gold.resample('M').last()\n",
    "Gold.index = Gold.index.strftime('%Y/%m')\n",
    "Gold.index = pd.to_datetime(Gold.index, errors='coerce')"
   ]
  },
  {
   "cell_type": "code",
   "execution_count": 7,
   "metadata": {},
   "outputs": [
    {
     "name": "stdout",
     "output_type": "stream",
     "text": [
      "Gross\n",
      "Gross\n",
      "Gross\n",
      "Gross\n",
      "Gross\n"
     ]
    },
    {
     "name": "stderr",
     "output_type": "stream",
     "text": [
      "/Users/davidboman/opt/anaconda3/lib/python3.7/site-packages/pandas/core/indexing.py:670: SettingWithCopyWarning: \n",
      "A value is trying to be set on a copy of a slice from a DataFrame\n",
      "\n",
      "See the caveats in the documentation: https://pandas.pydata.org/pandas-docs/stable/user_guide/indexing.html#returning-a-view-versus-a-copy\n",
      "  self._setitem_with_indexer(indexer, value)\n"
     ]
    }
   ],
   "source": [
    "USA = import_MSCI('USA')\n",
    "RUSSIA = import_MSCI('RUSSIA')\n",
    "SWEDEN = import_MSCI('SWEDEN')\n",
    "Emerging_Markets = import_MSCI('Emerging_Markets')\n",
    "JAPAN = import_MSCI('JAPAN')"
   ]
  },
  {
   "cell_type": "code",
   "execution_count": 8,
   "metadata": {},
   "outputs": [],
   "source": [
    "data = pd.concat([JAPAN, USA, Gold], axis = 1)\n",
    "data = data.dropna()"
   ]
  },
  {
   "cell_type": "markdown",
   "metadata": {},
   "source": [
    "### Data Wrangling"
   ]
  },
  {
   "cell_type": "code",
   "execution_count": 9,
   "metadata": {},
   "outputs": [],
   "source": [
    "top_n_assets =1\n",
    "\n",
    "\n",
    "mom_df = data.copy()\n",
    "mom3_df=mom_df.apply(lambda x:x/x.shift(3) - 1, axis=0)\n",
    "mom6_df=mom_df.apply(lambda x:x/x.shift(6) - 1, axis=0)\n",
    "mom12_df=mom_df.apply(lambda x:x/x.shift(12) - 1, axis=0)\n",
    "\n",
    "comb_mom_df=mom12_df+mom6_df+mom3_df\n",
    "\n"
   ]
  },
  {
   "cell_type": "code",
   "execution_count": 10,
   "metadata": {},
   "outputs": [],
   "source": [
    "returns_df=data.copy()\n",
    "returns_df=returns_df.apply(lambda x:x.shift(-1)/x - 1, axis=0)"
   ]
  },
  {
   "cell_type": "markdown",
   "metadata": {},
   "source": [
    "### Backtest"
   ]
  },
  {
   "cell_type": "code",
   "execution_count": 11,
   "metadata": {},
   "outputs": [],
   "source": [
    "rank_df=comb_mom_df.rank(axis=1,ascending=False)"
   ]
  },
  {
   "cell_type": "code",
   "execution_count": 12,
   "metadata": {},
   "outputs": [],
   "source": [
    "for col in rank_df.columns:\n",
    "    rank_df[col]=np.where(rank_df[col]<=top_n_assets, 1, 0)"
   ]
  },
  {
   "cell_type": "code",
   "execution_count": 13,
   "metadata": {},
   "outputs": [],
   "source": [
    "portf=np.multiply(rank_df,returns_df)\n",
    "portf_rets=portf.sum(axis =1)/top_n_assets\n",
    "\n",
    "portf_rets = portf_rets[13:]\n",
    "portf_rets = pd.DataFrame(portf_rets)\n",
    "portf_rets.columns = ['TF']"
   ]
  },
  {
   "cell_type": "code",
   "execution_count": 14,
   "metadata": {
    "scrolled": true
   },
   "outputs": [],
   "source": [
    "bench_ret = USA.shift(-1)/USA - 1\n",
    "\n",
    "result = pd.concat([portf_rets, bench_ret],axis = 1, sort=False)\n",
    "result = result.dropna()\n",
    "\n",
    "result = result+1\n",
    "result = result.cumprod()\n",
    "result = result.astype('float64')\n",
    "\n"
   ]
  },
  {
   "cell_type": "code",
   "execution_count": 15,
   "metadata": {},
   "outputs": [
    {
     "data": {
      "text/html": [
       "<div>\n",
       "<style scoped>\n",
       "    .dataframe tbody tr th:only-of-type {\n",
       "        vertical-align: middle;\n",
       "    }\n",
       "\n",
       "    .dataframe tbody tr th {\n",
       "        vertical-align: top;\n",
       "    }\n",
       "\n",
       "    .dataframe thead th {\n",
       "        text-align: right;\n",
       "    }\n",
       "</style>\n",
       "<table border=\"1\" class=\"dataframe\">\n",
       "  <thead>\n",
       "    <tr style=\"text-align: right;\">\n",
       "      <th></th>\n",
       "      <th>TF</th>\n",
       "      <th>USA</th>\n",
       "    </tr>\n",
       "    <tr>\n",
       "      <th>Date</th>\n",
       "      <th></th>\n",
       "      <th></th>\n",
       "    </tr>\n",
       "  </thead>\n",
       "  <tbody>\n",
       "    <tr>\n",
       "      <th>1971-01-01</th>\n",
       "      <td>1.010692</td>\n",
       "      <td>1.010692</td>\n",
       "    </tr>\n",
       "    <tr>\n",
       "      <th>1971-02-01</th>\n",
       "      <td>1.052264</td>\n",
       "      <td>1.052264</td>\n",
       "    </tr>\n",
       "    <tr>\n",
       "      <th>1971-03-01</th>\n",
       "      <td>1.093654</td>\n",
       "      <td>1.093654</td>\n",
       "    </tr>\n",
       "    <tr>\n",
       "      <th>1971-04-01</th>\n",
       "      <td>1.051672</td>\n",
       "      <td>1.051672</td>\n",
       "    </tr>\n",
       "    <tr>\n",
       "      <th>1971-05-01</th>\n",
       "      <td>1.153065</td>\n",
       "      <td>1.059401</td>\n",
       "    </tr>\n",
       "    <tr>\n",
       "      <th>...</th>\n",
       "      <td>...</td>\n",
       "      <td>...</td>\n",
       "    </tr>\n",
       "    <tr>\n",
       "      <th>2020-01-01</th>\n",
       "      <td>5236.388298</td>\n",
       "      <td>114.072253</td>\n",
       "    </tr>\n",
       "    <tr>\n",
       "      <th>2020-02-01</th>\n",
       "      <td>5166.520419</td>\n",
       "      <td>99.603826</td>\n",
       "    </tr>\n",
       "    <tr>\n",
       "      <th>2020-03-01</th>\n",
       "      <td>5527.450802</td>\n",
       "      <td>112.705629</td>\n",
       "    </tr>\n",
       "    <tr>\n",
       "      <th>2020-04-01</th>\n",
       "      <td>5556.106292</td>\n",
       "      <td>118.568261</td>\n",
       "    </tr>\n",
       "    <tr>\n",
       "      <th>2020-05-01</th>\n",
       "      <td>5701.154585</td>\n",
       "      <td>121.273817</td>\n",
       "    </tr>\n",
       "  </tbody>\n",
       "</table>\n",
       "<p>593 rows × 2 columns</p>\n",
       "</div>"
      ],
      "text/plain": [
       "                     TF         USA\n",
       "Date                               \n",
       "1971-01-01     1.010692    1.010692\n",
       "1971-02-01     1.052264    1.052264\n",
       "1971-03-01     1.093654    1.093654\n",
       "1971-04-01     1.051672    1.051672\n",
       "1971-05-01     1.153065    1.059401\n",
       "...                 ...         ...\n",
       "2020-01-01  5236.388298  114.072253\n",
       "2020-02-01  5166.520419   99.603826\n",
       "2020-03-01  5527.450802  112.705629\n",
       "2020-04-01  5556.106292  118.568261\n",
       "2020-05-01  5701.154585  121.273817\n",
       "\n",
       "[593 rows x 2 columns]"
      ]
     },
     "execution_count": 15,
     "metadata": {},
     "output_type": "execute_result"
    }
   ],
   "source": [
    "result"
   ]
  },
  {
   "cell_type": "markdown",
   "metadata": {},
   "source": [
    "### Result"
   ]
  },
  {
   "cell_type": "code",
   "execution_count": 16,
   "metadata": {
    "scrolled": false
   },
   "outputs": [
    {
     "data": {
      "text/html": [
       "<style  type=\"text/css\" >\n",
       "    #T_e45e83c2_e45a_11ea_bfef_acde48001122 th {\n",
       "          font-size: 11px;\n",
       "          text-align: center;\n",
       "          font-weight: bold;\n",
       "          color: Black;\n",
       "          background-color: #f7f7f9;\n",
       "    }    #T_e45e83c2_e45a_11ea_bfef_acde48001122 td {\n",
       "          font-size: 11px;\n",
       "          text-align: center;\n",
       "    }    #T_e45e83c2_e45a_11ea_bfef_acde48001122row0_col0 {\n",
       "            background-color:  #4ebf8f;\n",
       "            color:  #000000;\n",
       "        }    #T_e45e83c2_e45a_11ea_bfef_acde48001122row0_col1 {\n",
       "            background-color:  #f29094;\n",
       "            color:  #000000;\n",
       "        }    #T_e45e83c2_e45a_11ea_bfef_acde48001122row0_col2 {\n",
       "            background-color:  #4ebf8f;\n",
       "            color:  #000000;\n",
       "        }    #T_e45e83c2_e45a_11ea_bfef_acde48001122row0_col3 {\n",
       "            background-color:  #4ebf8f;\n",
       "            color:  #000000;\n",
       "        }    #T_e45e83c2_e45a_11ea_bfef_acde48001122row0_col4 {\n",
       "            background-color:  #4ebf8f;\n",
       "            color:  #000000;\n",
       "        }    #T_e45e83c2_e45a_11ea_bfef_acde48001122row0_col5 {\n",
       "            background-color:  #4ebf8f;\n",
       "            color:  #000000;\n",
       "        }    #T_e45e83c2_e45a_11ea_bfef_acde48001122row1_col0 {\n",
       "            background-color:  #f29094;\n",
       "            color:  #000000;\n",
       "        }    #T_e45e83c2_e45a_11ea_bfef_acde48001122row1_col1 {\n",
       "            background-color:  #4ebf8f;\n",
       "            color:  #000000;\n",
       "        }    #T_e45e83c2_e45a_11ea_bfef_acde48001122row1_col2 {\n",
       "            background-color:  #f29094;\n",
       "            color:  #000000;\n",
       "        }    #T_e45e83c2_e45a_11ea_bfef_acde48001122row1_col3 {\n",
       "            background-color:  #f29094;\n",
       "            color:  #000000;\n",
       "        }    #T_e45e83c2_e45a_11ea_bfef_acde48001122row1_col4 {\n",
       "            background-color:  #f29094;\n",
       "            color:  #000000;\n",
       "        }    #T_e45e83c2_e45a_11ea_bfef_acde48001122row1_col5 {\n",
       "            background-color:  #f29094;\n",
       "            color:  #000000;\n",
       "        }</style><table id=\"T_e45e83c2_e45a_11ea_bfef_acde48001122\" ><thead>    <tr>        <th class=\"blank level0\" ></th>        <th class=\"col_heading level0 col0\" >CAGR</th>        <th class=\"col_heading level0 col1\" >Volatility</th>        <th class=\"col_heading level0 col2\" >Sharpe</th>        <th class=\"col_heading level0 col3\" >Sortino</th>        <th class=\"col_heading level0 col4\" >Max DD</th>        <th class=\"col_heading level0 col5\" >MAR</th>    </tr></thead><tbody>\n",
       "                <tr>\n",
       "                        <th id=\"T_e45e83c2_e45a_11ea_bfef_acde48001122level0_row0\" class=\"row_heading level0 row0\" >Portfolio</th>\n",
       "                        <td id=\"T_e45e83c2_e45a_11ea_bfef_acde48001122row0_col0\" class=\"data row0 col0\" >19.10%</td>\n",
       "                        <td id=\"T_e45e83c2_e45a_11ea_bfef_acde48001122row0_col1\" class=\"data row0 col1\" >20.10%</td>\n",
       "                        <td id=\"T_e45e83c2_e45a_11ea_bfef_acde48001122row0_col2\" class=\"data row0 col2\" >0.950000</td>\n",
       "                        <td id=\"T_e45e83c2_e45a_11ea_bfef_acde48001122row0_col3\" class=\"data row0 col3\" >1.360000</td>\n",
       "                        <td id=\"T_e45e83c2_e45a_11ea_bfef_acde48001122row0_col4\" class=\"data row0 col4\" >-27.00%</td>\n",
       "                        <td id=\"T_e45e83c2_e45a_11ea_bfef_acde48001122row0_col5\" class=\"data row0 col5\" >0.710000</td>\n",
       "            </tr>\n",
       "            <tr>\n",
       "                        <th id=\"T_e45e83c2_e45a_11ea_bfef_acde48001122level0_row1\" class=\"row_heading level0 row1\" >benchmark</th>\n",
       "                        <td id=\"T_e45e83c2_e45a_11ea_bfef_acde48001122row1_col0\" class=\"data row1 col0\" >10.17%</td>\n",
       "                        <td id=\"T_e45e83c2_e45a_11ea_bfef_acde48001122row1_col1\" class=\"data row1 col1\" >15.20%</td>\n",
       "                        <td id=\"T_e45e83c2_e45a_11ea_bfef_acde48001122row1_col2\" class=\"data row1 col2\" >0.670000</td>\n",
       "                        <td id=\"T_e45e83c2_e45a_11ea_bfef_acde48001122row1_col3\" class=\"data row1 col3\" >0.850000</td>\n",
       "                        <td id=\"T_e45e83c2_e45a_11ea_bfef_acde48001122row1_col4\" class=\"data row1 col4\" >-51.00%</td>\n",
       "                        <td id=\"T_e45e83c2_e45a_11ea_bfef_acde48001122row1_col5\" class=\"data row1 col5\" >0.200000</td>\n",
       "            </tr>\n",
       "    </tbody></table>"
      ],
      "text/plain": [
       "<pandas.io.formats.style.Styler at 0x7ff157e17450>"
      ]
     },
     "execution_count": 16,
     "metadata": {},
     "output_type": "execute_result"
    },
    {
     "data": {
      "image/png": "[encoded data removed]",
      "text/plain": [
       "<Figure size 1440x720 with 1 Axes>"
      ]
     },
     "metadata": {},
     "output_type": "display_data"
    }
   ],
   "source": [
    "sns.set_style(\"darkgrid\");\n",
    "plt.figure(figsize=(20,10));\n",
    "for i in result.columns:\n",
    "    plt.plot(result[i], label = i);\n",
    "start = datetime.date(result.index.min());    \n",
    "end = datetime.date(result.index.max());\n",
    "plt.yscale(\"log\")\n",
    "plt.ylabel('Log Return', fontsize=18)\n",
    "plt.legend(loc=2, prop={'size': 20});\n",
    "plt.title('Backtest from ' + str(start) + ' to ' + str(end), fontsize=20)\n",
    "plt.rc('xtick',labelsize=20)\n",
    "plt.rc('ytick',labelsize=20)\n",
    "\n",
    "strategy_evaluation(result,['benchmark'] , freq = 'M')"
   ]
  },
  {
   "cell_type": "markdown",
   "metadata": {},
   "source": [
    "# Test"
   ]
  },
  {
   "cell_type": "code",
   "execution_count": 17,
   "metadata": {},
   "outputs": [],
   "source": [
    "def TrendFollowing_Backtest(data,benchmark, top_N = 3):\n",
    "    if len(data.columns) < top_N:\n",
    "        print('Decrese Top_N or Increse Assets')\n",
    "    \n",
    "    else:\n",
    "        #Calculate Benchmark Return\n",
    "    \n",
    "        bench_ret = benchmark.shift(-1)/benchmark - 1\n",
    "        bench_ret = bench_ret[13:]\n",
    "        bench_ret = pd.DataFrame(bench_ret)\n",
    "        \n",
    "        #Create Momentum frames\n",
    "        mom_df = data.copy()\n",
    "        mom3_df=mom_df.apply(lambda x:x/x.shift(3) - 1, axis=0)\n",
    "        mom6_df=mom_df.apply(lambda x:x/x.shift(6) - 1, axis=0)\n",
    "        mom12_df=mom_df.apply(lambda x:x/x.shift(12) - 1, axis=0)\n",
    "\n",
    "        comb_mom_df=mom12_df+mom6_df+mom3_df\n",
    "    \n",
    "    \n",
    "        returns_df=data.copy()\n",
    "        #shifting returns back to avoid bias\n",
    "        returns_df=returns_df.apply(lambda x:x.shift(-1)/x - 1, axis=0)\n",
    "    \n",
    "        #ranking assets\n",
    "        rank_df=comb_mom_df.rank(axis=1,ascending=False)\n",
    "    \n",
    "        #all top_N assets are choosen\n",
    "        for col in rank_df.columns:\n",
    "            rank_df[col]=np.where(rank_df[col]<=top_N, 1, 0)\n",
    "    \n",
    "        \n",
    "        portf=np.multiply(rank_df,returns_df)\n",
    "        portf_rets=portf.sum(axis =1)/top_N\n",
    "    \n",
    "        portf_rets = portf_rets[13:]\n",
    "        portf_rets = pd.DataFrame(portf_rets)\n",
    "        portf_rets.columns = ['TF']\n",
    "    \n",
    "        result = pd.concat([portf_rets, bench_ret], axis = 1)\n",
    "        result = result.dropna()\n",
    "    \n",
    "    \n",
    "    \n",
    "        result = result+1\n",
    "        result = result.cumprod()\n",
    "        result = result.astype('float64')\n",
    "\n",
    "    \n",
    "        return(result)"
   ]
  },
  {
   "cell_type": "code",
   "execution_count": 18,
   "metadata": {},
   "outputs": [],
   "source": [
    "#result = TrendFollowing_Backtest(data, data['USA'], top_N = 2)"
   ]
  },
  {
   "cell_type": "code",
   "execution_count": 19,
   "metadata": {},
   "outputs": [],
   "source": [
    "#result"
   ]
  },
  {
   "cell_type": "code",
   "execution_count": null,
   "metadata": {},
   "outputs": [],
   "source": []
  },
  {
   "cell_type": "code",
   "execution_count": null,
   "metadata": {},
   "outputs": [],
   "source": [
    "returns_df"
   ]
  },
  {
   "cell_type": "code",
   "execution_count": 21,
   "metadata": {},
   "outputs": [
    {
     "data": {
      "text/html": [
       "<div>\n",
       "<style scoped>\n",
       "    .dataframe tbody tr th:only-of-type {\n",
       "        vertical-align: middle;\n",
       "    }\n",
       "\n",
       "    .dataframe tbody tr th {\n",
       "        vertical-align: top;\n",
       "    }\n",
       "\n",
       "    .dataframe thead th {\n",
       "        text-align: right;\n",
       "    }\n",
       "</style>\n",
       "<table border=\"1\" class=\"dataframe\">\n",
       "  <thead>\n",
       "    <tr style=\"text-align: right;\">\n",
       "      <th></th>\n",
       "      <th>TF</th>\n",
       "      <th>USA</th>\n",
       "    </tr>\n",
       "    <tr>\n",
       "      <th>Date</th>\n",
       "      <th></th>\n",
       "      <th></th>\n",
       "    </tr>\n",
       "  </thead>\n",
       "  <tbody>\n",
       "    <tr>\n",
       "      <th>1971-01-01</th>\n",
       "      <td>1.010692</td>\n",
       "      <td>1.010692</td>\n",
       "    </tr>\n",
       "    <tr>\n",
       "      <th>1971-02-01</th>\n",
       "      <td>1.052264</td>\n",
       "      <td>1.052264</td>\n",
       "    </tr>\n",
       "    <tr>\n",
       "      <th>1971-03-01</th>\n",
       "      <td>1.093654</td>\n",
       "      <td>1.093654</td>\n",
       "    </tr>\n",
       "    <tr>\n",
       "      <th>1971-04-01</th>\n",
       "      <td>1.051672</td>\n",
       "      <td>1.051672</td>\n",
       "    </tr>\n",
       "    <tr>\n",
       "      <th>1971-05-01</th>\n",
       "      <td>1.153065</td>\n",
       "      <td>1.059401</td>\n",
       "    </tr>\n",
       "    <tr>\n",
       "      <th>...</th>\n",
       "      <td>...</td>\n",
       "      <td>...</td>\n",
       "    </tr>\n",
       "    <tr>\n",
       "      <th>2020-01-01</th>\n",
       "      <td>5236.388298</td>\n",
       "      <td>114.072253</td>\n",
       "    </tr>\n",
       "    <tr>\n",
       "      <th>2020-02-01</th>\n",
       "      <td>5166.520419</td>\n",
       "      <td>99.603826</td>\n",
       "    </tr>\n",
       "    <tr>\n",
       "      <th>2020-03-01</th>\n",
       "      <td>5527.450802</td>\n",
       "      <td>112.705629</td>\n",
       "    </tr>\n",
       "    <tr>\n",
       "      <th>2020-04-01</th>\n",
       "      <td>5556.106292</td>\n",
       "      <td>118.568261</td>\n",
       "    </tr>\n",
       "    <tr>\n",
       "      <th>2020-05-01</th>\n",
       "      <td>5701.154585</td>\n",
       "      <td>121.273817</td>\n",
       "    </tr>\n",
       "  </tbody>\n",
       "</table>\n",
       "<p>593 rows × 2 columns</p>\n",
       "</div>"
      ],
      "text/plain": [
       "                     TF         USA\n",
       "Date                               \n",
       "1971-01-01     1.010692    1.010692\n",
       "1971-02-01     1.052264    1.052264\n",
       "1971-03-01     1.093654    1.093654\n",
       "1971-04-01     1.051672    1.051672\n",
       "1971-05-01     1.153065    1.059401\n",
       "...                 ...         ...\n",
       "2020-01-01  5236.388298  114.072253\n",
       "2020-02-01  5166.520419   99.603826\n",
       "2020-03-01  5527.450802  112.705629\n",
       "2020-04-01  5556.106292  118.568261\n",
       "2020-05-01  5701.154585  121.273817\n",
       "\n",
       "[593 rows x 2 columns]"
      ]
     },
     "execution_count": 21,
     "metadata": {},
     "output_type": "execute_result"
    }
   ],
   "source": [
    "result"
   ]
  },
  {
   "cell_type": "code",
   "execution_count": null,
   "metadata": {},
   "outputs": [],
   "source": []
  }
 ],
 "metadata": {
  "kernelspec": {
   "display_name": "Python 3",
   "language": "python",
   "name": "python3"
  },
  "language_info": {
   "codemirror_mode": {
    "name": "ipython",
    "version": 3
   },
   "file_extension": ".py",
   "mimetype": "text/x-python",
   "name": "python",
   "nbconvert_exporter": "python",
   "pygments_lexer": "ipython3",
   "version": "3.7.6"
  }
 },
 "nbformat": 4,
 "nbformat_minor": 2
}
