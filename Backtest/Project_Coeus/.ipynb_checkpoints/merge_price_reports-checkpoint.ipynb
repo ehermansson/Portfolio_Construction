{
 "cells": [
  {
   "cell_type": "code",
   "execution_count": 1,
   "metadata": {},
   "outputs": [],
   "source": [
    "import pandas as pd\n",
    "import numpy as np\n",
    "from datetime import datetime"
   ]
  },
  {
   "cell_type": "markdown",
   "metadata": {},
   "source": [
    "## Merging of price and reports\n",
    "\n",
    "TO DO:\n",
    "\n",
    "- why do I get INF values to some values?? Becuase some accounting variables is 0\n",
    "- I belive there are many missing FCF numbers, thats why the low efficacy.\n",
    "- Fix the warnings\n",
    "- add gross profit margin (gross profit/sales), what about the very large values??\n",
    "\n"
   ]
  },
  {
   "cell_type": "code",
   "execution_count": 2,
   "metadata": {
    "scrolled": true
   },
   "outputs": [],
   "source": [
    "price_df = pd.read_csv('data/SWE_PRICE_20YEAR.csv')\n",
    "price_df['d'] = pd.to_datetime(price_df['d'])\n",
    "price_df = price_df.set_index(['d', 'insID'])"
   ]
  },
  {
   "cell_type": "code",
   "execution_count": 3,
   "metadata": {},
   "outputs": [],
   "source": [
    "reports_df = pd.read_csv('data/SWE_REPORTS.csv')\n",
    "reports_df['d'] = pd.to_datetime(reports_df['d'])\n",
    "reports_df = reports_df.set_index(['d', 'insID'])"
   ]
  },
  {
   "cell_type": "code",
   "execution_count": 4,
   "metadata": {
    "scrolled": true
   },
   "outputs": [
    {
     "data": {
      "text/plain": [
       "Index(['broken_Fiscal_Year', 'cash_And_Equivalents', 'cash_Flow_For_The_Year',\n",
       "       'cash_Flow_From_Financing_Activities',\n",
       "       'cash_Flow_From_Investing_Activities',\n",
       "       'cash_Flow_From_Operating_Activities', 'currency', 'currency_Ratio',\n",
       "       'current_Assets', 'current_Liabilities', 'dividend',\n",
       "       'earnings_Per_Share', 'financial_Assets', 'free_Cash_Flow',\n",
       "       'gross_Income', 'intangible_Assets', 'net_Debt', 'net_Sales',\n",
       "       'non_Current_Assets', 'non_Current_Liabilities', 'number_Of_Shares',\n",
       "       'operating_Income', 'period', 'profit_Before_Tax',\n",
       "       'profit_To_Equity_Holders', 'report_Date', 'report_End_Date',\n",
       "       'report_Start_Date', 'revenues', 'stock_Price_Average',\n",
       "       'stock_Price_High', 'stock_Price_Low', 'tangible_Assets',\n",
       "       'total_Assets', 'total_Equity', 'total_Liabilities_And_Equity', 'year'],\n",
       "      dtype='object')"
      ]
     },
     "execution_count": 4,
     "metadata": {},
     "output_type": "execute_result"
    }
   ],
   "source": [
    "reports_df.columns"
   ]
  },
  {
   "cell_type": "code",
   "execution_count": 5,
   "metadata": {},
   "outputs": [],
   "source": [
    "#left merge reports on price data\n",
    "complete_df =  price_df.join(reports_df, on=['d','insID'])\n",
    "\n",
    "\n",
    "## FORWARD FILL\n",
    "complete_df = complete_df.groupby(level='insID').ffill()"
   ]
  },
  {
   "cell_type": "code",
   "execution_count": 6,
   "metadata": {
    "scrolled": false
   },
   "outputs": [],
   "source": [
    "test = complete_df[complete_df['Name'] == 'Kindred']\n",
    "#test['fcf_per_share'] = test['cash_Flow_For_The_Year']/test['number_Of_Shares']\n",
    "#test['PFCF'] = test['c']/ test['fcf_per_share']"
   ]
  },
  {
   "cell_type": "code",
   "execution_count": 7,
   "metadata": {},
   "outputs": [
    {
     "name": "stderr",
     "output_type": "stream",
     "text": [
      "/opt/anaconda3/lib/python3.7/site-packages/pandas/core/indexing.py:1667: SettingWithCopyWarning: \n",
      "A value is trying to be set on a copy of a slice from a DataFrame.\n",
      "Try using .loc[row_indexer,col_indexer] = value instead\n",
      "\n",
      "See the caveats in the documentation: https://pandas.pydata.org/pandas-docs/stable/user_guide/indexing.html#returning-a-view-versus-a-copy\n",
      "  self.obj[key] = value\n"
     ]
    }
   ],
   "source": [
    "test.loc[:,'fcf_per_share'] = test['cash_Flow_For_The_Year']/test['number_Of_Shares']"
   ]
  },
  {
   "cell_type": "code",
   "execution_count": 8,
   "metadata": {
    "scrolled": true
   },
   "outputs": [
    {
     "data": {
      "text/plain": [
       "d           insID\n",
       "2004-06-09  231            NaN\n",
       "2004-06-10  231            NaN\n",
       "2004-06-11  231            NaN\n",
       "2004-06-14  231            NaN\n",
       "2004-06-15  231            NaN\n",
       "                       ...    \n",
       "2022-01-27  231      10.837353\n",
       "2022-01-28  231      10.837353\n",
       "2022-01-31  231      10.837353\n",
       "2022-02-01  231      10.837353\n",
       "2022-02-02  231      10.837353\n",
       "Length: 4445, dtype: float64"
      ]
     },
     "execution_count": 8,
     "metadata": {},
     "output_type": "execute_result"
    }
   ],
   "source": [
    "test['cash_Flow_For_The_Year']/test['number_Of_Shares']"
   ]
  },
  {
   "cell_type": "code",
   "execution_count": 9,
   "metadata": {
    "scrolled": false
   },
   "outputs": [
    {
     "name": "stderr",
     "output_type": "stream",
     "text": [
      "/opt/anaconda3/lib/python3.7/site-packages/ipykernel_launcher.py:3: SettingWithCopyWarning: \n",
      "A value is trying to be set on a copy of a slice from a DataFrame.\n",
      "Try using .loc[row_indexer,col_indexer] = value instead\n",
      "\n",
      "See the caveats in the documentation: https://pandas.pydata.org/pandas-docs/stable/user_guide/indexing.html#returning-a-view-versus-a-copy\n",
      "  This is separate from the ipykernel package so we can avoid doing imports until\n"
     ]
    }
   ],
   "source": [
    "PFCF_df = complete_df[['cash_Flow_For_The_Year','c', 'number_Of_Shares']]\n",
    "#PFCF_df = PFCF_df.unstack(level ='insID').fillna(method ='ffill').stack(level ='insID')\n",
    "PFCF_df['fcf_per_share'] = PFCF_df['cash_Flow_For_The_Year']/PFCF_df['number_Of_Shares']"
   ]
  },
  {
   "cell_type": "markdown",
   "metadata": {},
   "source": [
    "### Extract convexity"
   ]
  },
  {
   "cell_type": "markdown",
   "metadata": {},
   "source": [
    "## TEST OF RESIDUAL MOMENTUM"
   ]
  },
  {
   "cell_type": "code",
   "execution_count": 10,
   "metadata": {
    "scrolled": false
   },
   "outputs": [
    {
     "name": "stderr",
     "output_type": "stream",
     "text": [
      "/opt/anaconda3/lib/python3.7/site-packages/statsmodels/regression/rolling.py:255: RuntimeWarning: divide by zero encountered in double_scalars\n",
      "  s2 = ssr / (nobs - tot_params)\n",
      "/opt/anaconda3/lib/python3.7/site-packages/statsmodels/regression/rolling.py:272: RuntimeWarning: divide by zero encountered in log\n",
      "  llf = -np.log(ssr) * nobs2  # concentrated likelihood\n",
      "/opt/anaconda3/lib/python3.7/site-packages/statsmodels/regression/rolling.py:255: RuntimeWarning: invalid value encountered in double_scalars\n",
      "  s2 = ssr / (nobs - tot_params)\n",
      "/opt/anaconda3/lib/python3.7/site-packages/pandas/core/indexing.py:1667: PerformanceWarning: DataFrame is highly fragmented.  This is usually the result of calling `frame.insert` many times, which has poor performance.  Consider joining all columns at once using pd.concat(axis=1) instead.  To get a de-fragmented frame, use `newframe = frame.copy()`\n",
      "  self.obj[key] = value\n"
     ]
    }
   ],
   "source": [
    "from statsmodels.regression.rolling import RollingOLS\n",
    "import statsmodels.api as sm\n",
    "\n",
    "res_tmp = pd.DataFrame(price_df['c'])\n",
    "res_tmp =res_tmp.groupby([res_tmp.index.get_level_values(1), pd.Grouper(freq='m', level=0)]).last()\n",
    "res_tmp = res_tmp.unstack('insID')\n",
    "res_tmp.columns = res_tmp.columns.get_level_values(1)\n",
    "\n",
    "index_df = pd.read_csv('data/OMX_GI.csv')\n",
    "index_df['d'] = pd.to_datetime(index_df['d'])\n",
    "index_df = index_df.set_index(['d'])\n",
    "index_df = pd.DataFrame(index_df['c'])\n",
    "index_df = index_df.resample('m').last()\n",
    "index_df.columns = ['INDEX']\n",
    "\n",
    "res_tmp = res_tmp.join(index_df, on=['d'],how='left')\n",
    "\n",
    "res_log = np.log(res_tmp) - np.log(res_tmp.shift(1))\n",
    "res_log = res_log.loc[res_log['INDEX'].first_valid_index():,]\n",
    "\n",
    "\n",
    "norm_res_df = pd.DataFrame()\n",
    "ido_mom_df = pd.DataFrame()\n",
    "\n",
    "\n",
    "for col in res_log.columns:\n",
    "    try:\n",
    "        X = sm.add_constant(res_log['INDEX'])\n",
    "        Y = res_log[col]\n",
    "        mod = RollingOLS(endog=Y, exog=X, window=36).fit(cov_type='HCO')\n",
    "        Y_hat = mod.params['const'] + mod.params['INDEX']*res_log['INDEX']\n",
    "        ind_residual = Y - Y_hat\n",
    "        \n",
    "        #HANDLE OUTLIERS??\n",
    "        norm_res_df.loc[:,col] = ind_residual.rolling(12).mean()/ind_residual.rolling(12).std()\n",
    "        ido_mom_df.loc[:,col] = ind_residual.rolling(12).mean()\n",
    "        \n",
    "    except:\n",
    "        print(\"Error: \", col)\n",
    "        norm_res_df.loc[:,col] = np.nan\n",
    "        ido_mom_df.loc[:,col] = np.nan\n",
    "        \n",
    "\n",
    "temp_price_df  = pd.DataFrame(price_df['c'])\n",
    "\n",
    "\n",
    "norm_res_df = norm_res_df.drop([\"INDEX\"], axis=1)       \n",
    "norm_res_df['res_mom12'] = 'res_mom12'\n",
    "norm_res_df = norm_res_df.set_index('res_mom12', append=True).unstack('res_mom12')\n",
    "norm_res_df.columns = norm_res_df.columns.set_names(['insID', 'res_mom12'])\n",
    "norm_res_df = norm_res_df.stack('insID')\n",
    "norm_res_df.columns = norm_res_df.columns.set_names(None)\n",
    "norm_res_df = temp_price_df.merge(norm_res_df, on = ['insID', 'd'], how=\"outer\").swaplevel().sort_index()\n",
    "norm_res_df = norm_res_df.groupby('insID').ffill()\n",
    "norm_res_df = norm_res_df.unstack(level ='d').fillna(norm_res_df.unstack(level ='d').median()).stack(level ='d')\n",
    "norm_res_df = pd.DataFrame(norm_res_df[['res_mom12']])\n",
    "\n",
    "\n",
    "ido_mom_df = ido_mom_df.drop([\"INDEX\"], axis=1)       \n",
    "ido_mom_df['ido_mom12'] = 'ido_mom12'\n",
    "ido_mom_df = ido_mom_df.set_index('ido_mom12', append=True).unstack('ido_mom12')\n",
    "ido_mom_df.columns = ido_mom_df.columns.set_names(['insID', 'ido_mom12'])\n",
    "ido_mom_df = ido_mom_df.stack('insID')\n",
    "ido_mom_df.columns = ido_mom_df.columns.set_names(None)\n",
    "ido_mom_df = temp_price_df.merge(ido_mom_df, on = ['insID', 'd'], how=\"outer\").swaplevel().sort_index()\n",
    "ido_mom_df = ido_mom_df.groupby('insID').ffill()\n",
    "ido_mom_df = ido_mom_df.unstack(level ='d').fillna(ido_mom_df.unstack(level ='d').median()).stack(level ='d')\n",
    "ido_mom_df = pd.DataFrame(ido_mom_df[['ido_mom12']])\n",
    "\n"
   ]
  },
  {
   "cell_type": "code",
   "execution_count": 11,
   "metadata": {
    "scrolled": true
   },
   "outputs": [],
   "source": [
    "### 12 Month Alpha and Beta\n",
    "\n",
    "\n",
    "res_tmp = pd.DataFrame(price_df['c'])\n",
    "res_tmp =res_tmp.groupby([res_tmp.index.get_level_values(1), pd.Grouper(freq='m', level=0)]).last()\n",
    "res_tmp = res_tmp.unstack('insID')\n",
    "res_tmp.columns = res_tmp.columns.get_level_values(1)\n",
    "\n",
    "index_df = pd.read_csv('data/OMX_GI.csv')\n",
    "index_df['d'] = pd.to_datetime(index_df['d'])\n",
    "index_df = index_df.set_index(['d'])\n",
    "index_df = pd.DataFrame(index_df['c'])\n",
    "index_df = index_df.resample('m').last()\n",
    "index_df.columns = ['INDEX']\n",
    "\n",
    "res_tmp = res_tmp.join(index_df, on=['d'],how='left')\n",
    "\n",
    "res_log = np.log(res_tmp) - np.log(res_tmp.shift(1))\n",
    "res_log = res_log.loc[res_log['INDEX'].first_valid_index():,]\n",
    "\n",
    "\n",
    "alpha_df = pd.DataFrame()\n",
    "beta_df = pd.DataFrame()\n",
    "\n",
    "\n",
    "for col in res_log.columns:\n",
    "    try:\n",
    "        X = sm.add_constant(res_log['INDEX'])\n",
    "        Y = res_log[col]\n",
    "        mod = RollingOLS(endog=Y, exog=X, window=12).fit(cov_type='HCO')\n",
    "        \n",
    "        alpha = mod.params['const']\n",
    "        beta = mod.params['INDEX']\n",
    "        \n",
    "        alpha_df.loc[:,col] = alpha\n",
    "        beta_df.loc[:,col] = beta\n",
    "  \n",
    "        \n",
    "    except:\n",
    "        #print(\"Error: \", col)\n",
    "        alpha_df.loc[:,col] = np.nan\n",
    "        beta_df.loc[:,col] = np.nan\n",
    "\n",
    "        \n",
    "#### FORMAT DATA FRAMES\n",
    "temp_price_df  = pd.DataFrame(price_df['c'])\n",
    "\n",
    "alpha_df = alpha_df.drop([\"INDEX\"], axis=1)       \n",
    "alpha_df['alpha'] = 'alpha'\n",
    "alpha_df = alpha_df.set_index('alpha', append=True).unstack('alpha')\n",
    "alpha_df.columns = alpha_df.columns.set_names(['insID', 'alpha'])\n",
    "alpha_df = alpha_df.stack('insID')\n",
    "alpha_df.columns = alpha_df.columns.set_names(None)\n",
    "alpha_df = temp_price_df.merge(alpha_df, on = ['insID', 'd'], how=\"outer\").swaplevel().sort_index()\n",
    "alpha_df = alpha_df.groupby('insID').ffill()\n",
    "alpha_df = alpha_df.unstack(level ='d').fillna(alpha_df.unstack(level ='d').median()).stack(level ='d')\n",
    "alpha_df['volatility'] = alpha_df['c'].pct_change().groupby(level='insID').apply(lambda x: x.rolling(252).std()*252**0.5)\n",
    "alpha_df = alpha_df.groupby(level='insID').apply(\n",
    "    lambda x: x.assign(std_alpha = x.alpha/x.volatility))\n",
    "\n",
    "alpha_df = pd.DataFrame(alpha_df[['alpha','std_alpha']])\n",
    "\n",
    "\n",
    "beta_df = beta_df.drop([\"INDEX\"], axis=1)       \n",
    "beta_df['beta'] = 'beta'\n",
    "beta_df = beta_df.set_index('beta', append=True).unstack('beta')\n",
    "beta_df.columns = beta_df.columns.set_names(['insID', 'beta'])\n",
    "beta_df = beta_df.stack('insID')\n",
    "beta_df.columns = beta_df.columns.set_names(None)\n",
    "beta_df = temp_price_df.merge(beta_df, on = ['insID', 'd'], how=\"outer\").swaplevel().sort_index()\n",
    "beta_df = beta_df.groupby('insID').ffill()\n",
    "beta_df = beta_df.unstack(level ='d').fillna(beta_df.unstack(level ='d').median()).stack(level ='d')\n",
    "beta_df = pd.DataFrame(beta_df[['beta']])"
   ]
  },
  {
   "cell_type": "markdown",
   "metadata": {},
   "source": [
    "## All Around Metrics"
   ]
  },
  {
   "cell_type": "code",
   "execution_count": 12,
   "metadata": {},
   "outputs": [],
   "source": [
    "#Market Cap\n",
    "mcap_df = complete_df[['c','number_Of_Shares']]\n",
    "#mcap_df = mcap_df.unstack(level ='insID').fillna(method ='ffill').stack(level ='insID')\n",
    "\n",
    "### Backwardsfill missing numbers of shares\n",
    "mcap_df = mcap_df.unstack(level ='insID').fillna(method ='bfill').stack(level ='insID')\n",
    "\n",
    "####\n",
    "\n",
    "mcap_df['MCAP'] = mcap_df['c'] * mcap_df['number_Of_Shares']\n",
    "mcap_df = mcap_df.sort_index() "
   ]
  },
  {
   "cell_type": "code",
   "execution_count": 13,
   "metadata": {},
   "outputs": [
    {
     "name": "stderr",
     "output_type": "stream",
     "text": [
      "/opt/anaconda3/lib/python3.7/site-packages/ipykernel_launcher.py:3: SettingWithCopyWarning: \n",
      "A value is trying to be set on a copy of a slice from a DataFrame.\n",
      "Try using .loc[row_indexer,col_indexer] = value instead\n",
      "\n",
      "See the caveats in the documentation: https://pandas.pydata.org/pandas-docs/stable/user_guide/indexing.html#returning-a-view-versus-a-copy\n",
      "  This is separate from the ipykernel package so we can avoid doing imports until\n",
      "/opt/anaconda3/lib/python3.7/site-packages/ipykernel_launcher.py:4: SettingWithCopyWarning: \n",
      "A value is trying to be set on a copy of a slice from a DataFrame.\n",
      "Try using .loc[row_indexer,col_indexer] = value instead\n",
      "\n",
      "See the caveats in the documentation: https://pandas.pydata.org/pandas-docs/stable/user_guide/indexing.html#returning-a-view-versus-a-copy\n",
      "  after removing the cwd from sys.path.\n",
      "/opt/anaconda3/lib/python3.7/site-packages/ipykernel_launcher.py:6: SettingWithCopyWarning: \n",
      "A value is trying to be set on a copy of a slice from a DataFrame.\n",
      "Try using .loc[row_indexer,col_indexer] = value instead\n",
      "\n",
      "See the caveats in the documentation: https://pandas.pydata.org/pandas-docs/stable/user_guide/indexing.html#returning-a-view-versus-a-copy\n",
      "  \n"
     ]
    }
   ],
   "source": [
    "volume_df = complete_df[['c', 'v', 'number_Of_Shares']]\n",
    "#volume_df = volume_df.unstack(level ='insID').fillna(method ='ffill').stack(level ='insID')\n",
    "volume_df['MCAP'] = volume_df['c'] * volume_df['number_Of_Shares']\n",
    "volume_df['VOLUME'] = volume_df['c'] * volume_df['v']\n",
    "#volume_df['MA20_VOL'] = volume_df['VOLUME'].groupby(level='insID').apply(lambda x: x.rolling(20).mean())\n",
    "volume_df['MA50_VOL'] = volume_df['VOLUME'].groupby(level='insID').apply(lambda x: x.rolling(50).mean())\n",
    "\n",
    "#volume_df['1day_ret']=volume_df['c'].groupby(level='insID').pct_change(1)\n",
    "#volume_df['vol_chg']=volume_df['VOLUME']/volume_df['MA20_VOL']\n",
    "\n",
    "#volume_df['MEME_factor'] = volume_df['MA20_VOL']/volume_df['MCAP']\n",
    "#volume_df['volume_balance'] =volume_df.groupby(level='insID').apply(lambda x: x['vol_chg'].rolling(66).corr(x['1day_ret'])).values\n",
    "\n",
    "\n",
    "#volume_df = volume_df.unstack(level ='insID').fillna(method ='ffill').stack(level ='insID')\n",
    "volume_df = volume_df.unstack(level ='d').fillna(volume_df.unstack(level ='d').median()).stack(level ='d')\n",
    "\n",
    "volume_df = volume_df[['MA50_VOL']]\n",
    "volume_df = volume_df.sort_index()"
   ]
  },
  {
   "cell_type": "code",
   "execution_count": 14,
   "metadata": {
    "scrolled": true
   },
   "outputs": [
    {
     "name": "stderr",
     "output_type": "stream",
     "text": [
      "/opt/anaconda3/lib/python3.7/site-packages/pandas/core/indexing.py:1817: SettingWithCopyWarning: \n",
      "A value is trying to be set on a copy of a slice from a DataFrame.\n",
      "Try using .loc[row_indexer,col_indexer] = value instead\n",
      "\n",
      "See the caveats in the documentation: https://pandas.pydata.org/pandas-docs/stable/user_guide/indexing.html#returning-a-view-versus-a-copy\n",
      "  self._setitem_single_column(loc, value, pi)\n",
      "/opt/anaconda3/lib/python3.7/site-packages/ipykernel_launcher.py:4: SettingWithCopyWarning: \n",
      "A value is trying to be set on a copy of a slice from a DataFrame.\n",
      "Try using .loc[row_indexer,col_indexer] = value instead\n",
      "\n",
      "See the caveats in the documentation: https://pandas.pydata.org/pandas-docs/stable/user_guide/indexing.html#returning-a-view-versus-a-copy\n",
      "  after removing the cwd from sys.path.\n"
     ]
    }
   ],
   "source": [
    "#Cumulative dividends\n",
    "div_adj_df = complete_df[['dividend', 'c']]\n",
    "div_adj_df.loc[div_adj_df['dividend'].isna(),['dividend']] = 0\n",
    "div_adj_df['rol_div'] = div_adj_df['dividend'].groupby(level='insID').apply(lambda x: x.rolling(252).mean())\n",
    "div_adj_df.loc[div_adj_df['rol_div'].isna(),['rol_div']] = 0\n",
    "\n",
    "div_adj_df = div_adj_df.groupby(level='insID').apply(\n",
    "    lambda x: x.assign(day_div = x.rol_div/252))\n",
    "\n",
    "div_adj_df['cum_day_div'] = div_adj_df['day_div'].groupby(level='insID').cumsum()\n",
    "div_adj_df = div_adj_df.groupby(level='insID').apply(\n",
    "    lambda x: x.assign(adj_c = x.c+ x.cum_day_div))\n",
    "\n",
    "div_adj_df = div_adj_df['adj_c']"
   ]
  },
  {
   "cell_type": "code",
   "execution_count": 15,
   "metadata": {},
   "outputs": [],
   "source": [
    "#rename lists and sectors"
   ]
  },
  {
   "cell_type": "code",
   "execution_count": 16,
   "metadata": {},
   "outputs": [
    {
     "name": "stderr",
     "output_type": "stream",
     "text": [
      "/opt/anaconda3/lib/python3.7/site-packages/ipykernel_launcher.py:4: SettingWithCopyWarning: \n",
      "A value is trying to be set on a copy of a slice from a DataFrame.\n",
      "Try using .loc[row_indexer,col_indexer] = value instead\n",
      "\n",
      "See the caveats in the documentation: https://pandas.pydata.org/pandas-docs/stable/user_guide/indexing.html#returning-a-view-versus-a-copy\n",
      "  after removing the cwd from sys.path.\n",
      "/opt/anaconda3/lib/python3.7/site-packages/pandas/core/indexing.py:1667: SettingWithCopyWarning: \n",
      "A value is trying to be set on a copy of a slice from a DataFrame.\n",
      "Try using .loc[row_indexer,col_indexer] = value instead\n",
      "\n",
      "See the caveats in the documentation: https://pandas.pydata.org/pandas-docs/stable/user_guide/indexing.html#returning-a-view-versus-a-copy\n",
      "  self.obj[key] = value\n",
      "/opt/anaconda3/lib/python3.7/site-packages/pandas/core/indexing.py:1773: SettingWithCopyWarning: \n",
      "A value is trying to be set on a copy of a slice from a DataFrame.\n",
      "Try using .loc[row_indexer,col_indexer] = value instead\n",
      "\n",
      "See the caveats in the documentation: https://pandas.pydata.org/pandas-docs/stable/user_guide/indexing.html#returning-a-view-versus-a-copy\n",
      "  self._setitem_single_column(ilocs[0], value, pi)\n"
     ]
    }
   ],
   "source": [
    "list_sector_df = complete_df[['Name','sectorId', 'marketId']]\n",
    "\n",
    "\n",
    "list_sector_df['sector'] = np.nan\n",
    "list_sector_df.loc[: , 'market']= list_sector_df['marketId'].replace({1: 'Large_Cap', 2: 'Mid_Cap',\n",
    "                                                               3: 'Small_Cap', 4: 'First_North'})\n",
    "\n",
    "list_sector_df.loc[: , 'sector']= list_sector_df['sectorId'].replace({1: 'finance_RE', 2: 'consumer_goods',\n",
    "                                                               3: 'energy', 4: 'healthcare',\n",
    "                                                                     5: 'industry', 6:'info_tech',\n",
    "                                                                     7:'material', 8:'consumer_discretionary',\n",
    "                                                                     9:'telecom', 10:'infrastructure'})\n",
    "\n",
    "\n",
    "\n",
    "list_sector_df = list_sector_df[['Name','sector', 'market']]"
   ]
  },
  {
   "cell_type": "markdown",
   "metadata": {},
   "source": [
    "## Calculate EAR and SUE seperatly"
   ]
  },
  {
   "cell_type": "code",
   "execution_count": 17,
   "metadata": {},
   "outputs": [],
   "source": [
    "EAR_date_df = pd.DataFrame(reports_df['report_Date'])\n",
    "EAR_date_df['EA_ind'] = 1\n",
    "EAR_date_df = price_df.join(EAR_date_df, on=['d','insID'])[['c','EA_ind' ]]\n",
    "EAR_date_df['EA_plus'] = EAR_date_df['EA_ind'].groupby(level='insID').shift(1)\n",
    "EAR_date_df = EAR_date_df[~EAR_date_df.index.duplicated(keep='last')]\n",
    "\n",
    "#Calculate 3 day return, only select the days where EAR_date_df['EA_plus'] == 1\n",
    "EAR_date_df['3day_ret'] = EAR_date_df['c'].groupby(level='insID').pct_change(3)\n",
    "EAR_date_df['EA_ret'] = EAR_date_df['3day_ret'] * EAR_date_df['EA_plus']\n",
    "EAR_date_df = EAR_date_df.unstack(level ='insID').fillna(method ='ffill').stack(level ='insID')\n",
    "EAR_date_df = EAR_date_df.unstack(level ='d').fillna(EAR_date_df.unstack(level ='d').median()).stack(level ='d')\n",
    "\n",
    "EAR_date_df['volatility_60day'] = EAR_date_df['c'].pct_change().groupby(level='insID').apply(lambda x: x.rolling(60).std()*252**0.5)\n",
    "EAR_date_df.loc[EAR_date_df['volatility_60day'] <= 0.05 ,'volatility_60day'] = 0.05\n",
    "\n",
    "EAR_date_df['EAR_std'] = EAR_date_df['EA_ret']/(EAR_date_df['volatility_60day'] )\n",
    "\n",
    "EAR_date_df['AVG_EAR'] = EAR_date_df['EAR_std'].groupby(level='insID').apply(lambda x: x.rolling(252).mean())\n",
    "\n",
    "\n",
    "EAR_date_df = EAR_date_df[['EA_ret', 'EAR_std', 'AVG_EAR']]\n",
    "EAR_date_df = EAR_date_df.sort_index()\n",
    "\n"
   ]
  },
  {
   "cell_type": "code",
   "execution_count": 18,
   "metadata": {},
   "outputs": [
    {
     "name": "stderr",
     "output_type": "stream",
     "text": [
      "/opt/anaconda3/lib/python3.7/site-packages/ipykernel_launcher.py:6: SettingWithCopyWarning: \n",
      "A value is trying to be set on a copy of a slice from a DataFrame.\n",
      "Try using .loc[row_indexer,col_indexer] = value instead\n",
      "\n",
      "See the caveats in the documentation: https://pandas.pydata.org/pandas-docs/stable/user_guide/indexing.html#returning-a-view-versus-a-copy\n",
      "  \n",
      "/opt/anaconda3/lib/python3.7/site-packages/ipykernel_launcher.py:7: SettingWithCopyWarning: \n",
      "A value is trying to be set on a copy of a slice from a DataFrame.\n",
      "Try using .loc[row_indexer,col_indexer] = value instead\n",
      "\n",
      "See the caveats in the documentation: https://pandas.pydata.org/pandas-docs/stable/user_guide/indexing.html#returning-a-view-versus-a-copy\n",
      "  import sys\n",
      "/opt/anaconda3/lib/python3.7/site-packages/ipykernel_launcher.py:8: SettingWithCopyWarning: \n",
      "A value is trying to be set on a copy of a slice from a DataFrame.\n",
      "Try using .loc[row_indexer,col_indexer] = value instead\n",
      "\n",
      "See the caveats in the documentation: https://pandas.pydata.org/pandas-docs/stable/user_guide/indexing.html#returning-a-view-versus-a-copy\n",
      "  \n"
     ]
    }
   ],
   "source": [
    "#RSURP YEAR\n",
    "rev_year = complete_df[['c','revenues']]\n",
    "#rev_year = rev_year.unstack(level ='insID').fillna(method ='ffill').stack(level ='insID')\n",
    "\n",
    "rev_year.loc[rev_year['revenues'] == 0,'revenues'] =-0.001 #imputing to remove inf\n",
    "rev_year['rev_vol'] = rev_year['revenues'].groupby(level='insID').apply(lambda x: x.rolling(252*2).std())\n",
    "rev_year['rev_growth'] = rev_year['revenues'].groupby(level='insID').pct_change(252)\n",
    "rev_year['RSURP_Y'] = rev_year['rev_growth']/rev_year['rev_vol']\n",
    "rev_year = rev_year.unstack(level ='d').fillna(rev_year.unstack(level ='d').median()).stack(level ='d')\n",
    "rev_year = rev_year[['RSURP_Y','rev_growth']]"
   ]
  },
  {
   "cell_type": "code",
   "execution_count": 19,
   "metadata": {},
   "outputs": [
    {
     "name": "stderr",
     "output_type": "stream",
     "text": [
      "/opt/anaconda3/lib/python3.7/site-packages/ipykernel_launcher.py:6: SettingWithCopyWarning: \n",
      "A value is trying to be set on a copy of a slice from a DataFrame.\n",
      "Try using .loc[row_indexer,col_indexer] = value instead\n",
      "\n",
      "See the caveats in the documentation: https://pandas.pydata.org/pandas-docs/stable/user_guide/indexing.html#returning-a-view-versus-a-copy\n",
      "  \n",
      "/opt/anaconda3/lib/python3.7/site-packages/ipykernel_launcher.py:7: SettingWithCopyWarning: \n",
      "A value is trying to be set on a copy of a slice from a DataFrame.\n",
      "Try using .loc[row_indexer,col_indexer] = value instead\n",
      "\n",
      "See the caveats in the documentation: https://pandas.pydata.org/pandas-docs/stable/user_guide/indexing.html#returning-a-view-versus-a-copy\n",
      "  import sys\n",
      "/opt/anaconda3/lib/python3.7/site-packages/ipykernel_launcher.py:12: SettingWithCopyWarning: \n",
      "A value is trying to be set on a copy of a slice from a DataFrame.\n",
      "Try using .loc[row_indexer,col_indexer] = value instead\n",
      "\n",
      "See the caveats in the documentation: https://pandas.pydata.org/pandas-docs/stable/user_guide/indexing.html#returning-a-view-versus-a-copy\n",
      "  if sys.path[0] == '':\n",
      "/opt/anaconda3/lib/python3.7/site-packages/ipykernel_launcher.py:13: SettingWithCopyWarning: \n",
      "A value is trying to be set on a copy of a slice from a DataFrame.\n",
      "Try using .loc[row_indexer,col_indexer] = value instead\n",
      "\n",
      "See the caveats in the documentation: https://pandas.pydata.org/pandas-docs/stable/user_guide/indexing.html#returning-a-view-versus-a-copy\n",
      "  del sys.path[0]\n"
     ]
    }
   ],
   "source": [
    "#SUE YEAR\n",
    "eps_year = complete_df[['c','earnings_Per_Share']]\n",
    "\n",
    "eps_year.loc[eps_year['earnings_Per_Share'] == 0,'earnings_Per_Share'] =-0.001 #imputing to remove inf\n",
    "\n",
    "eps_year['EPS_vol'] = eps_year['earnings_Per_Share'].groupby(level='insID').apply(lambda x: x.rolling(252*2).std())\n",
    "eps_year['EPS_growth'] = eps_year['earnings_Per_Share'].groupby(level='insID').pct_change(252)\n",
    "\n",
    "eps_year.loc[eps_year['EPS_vol'] <= 0.05 ,'EPS_vol'] = 0.05\n",
    "#eps_year.loc[eps_year['EPS_growth'] <= 0.05 ,'EPS_growth'] = 0.05\n",
    "\n",
    "eps_year['SUE_Y'] = eps_year['EPS_growth']/eps_year['EPS_vol']\n",
    "eps_year['EPS_acceleration'] = eps_year['EPS_growth'].diff(252)\n",
    "eps_year = eps_year.unstack(level ='d').fillna(eps_year.unstack(level ='d').median()).stack(level ='d')\n",
    "eps_year = eps_year[['SUE_Y','EPS_growth', 'EPS_acceleration']]\n",
    "\n"
   ]
  },
  {
   "cell_type": "code",
   "execution_count": 20,
   "metadata": {},
   "outputs": [
    {
     "name": "stderr",
     "output_type": "stream",
     "text": [
      "/opt/anaconda3/lib/python3.7/site-packages/ipykernel_launcher.py:5: SettingWithCopyWarning: \n",
      "A value is trying to be set on a copy of a slice from a DataFrame.\n",
      "Try using .loc[row_indexer,col_indexer] = value instead\n",
      "\n",
      "See the caveats in the documentation: https://pandas.pydata.org/pandas-docs/stable/user_guide/indexing.html#returning-a-view-versus-a-copy\n",
      "  \"\"\"\n",
      "/opt/anaconda3/lib/python3.7/site-packages/ipykernel_launcher.py:6: SettingWithCopyWarning: \n",
      "A value is trying to be set on a copy of a slice from a DataFrame.\n",
      "Try using .loc[row_indexer,col_indexer] = value instead\n",
      "\n",
      "See the caveats in the documentation: https://pandas.pydata.org/pandas-docs/stable/user_guide/indexing.html#returning-a-view-versus-a-copy\n",
      "  \n",
      "/opt/anaconda3/lib/python3.7/site-packages/ipykernel_launcher.py:7: SettingWithCopyWarning: \n",
      "A value is trying to be set on a copy of a slice from a DataFrame.\n",
      "Try using .loc[row_indexer,col_indexer] = value instead\n",
      "\n",
      "See the caveats in the documentation: https://pandas.pydata.org/pandas-docs/stable/user_guide/indexing.html#returning-a-view-versus-a-copy\n",
      "  import sys\n",
      "/opt/anaconda3/lib/python3.7/site-packages/ipykernel_launcher.py:8: SettingWithCopyWarning: \n",
      "A value is trying to be set on a copy of a slice from a DataFrame.\n",
      "Try using .loc[row_indexer,col_indexer] = value instead\n",
      "\n",
      "See the caveats in the documentation: https://pandas.pydata.org/pandas-docs/stable/user_guide/indexing.html#returning-a-view-versus-a-copy\n",
      "  \n",
      "/opt/anaconda3/lib/python3.7/site-packages/ipykernel_launcher.py:9: SettingWithCopyWarning: \n",
      "A value is trying to be set on a copy of a slice from a DataFrame.\n",
      "Try using .loc[row_indexer,col_indexer] = value instead\n",
      "\n",
      "See the caveats in the documentation: https://pandas.pydata.org/pandas-docs/stable/user_guide/indexing.html#returning-a-view-versus-a-copy\n",
      "  if __name__ == '__main__':\n",
      "/opt/anaconda3/lib/python3.7/site-packages/ipykernel_launcher.py:10: SettingWithCopyWarning: \n",
      "A value is trying to be set on a copy of a slice from a DataFrame.\n",
      "Try using .loc[row_indexer,col_indexer] = value instead\n",
      "\n",
      "See the caveats in the documentation: https://pandas.pydata.org/pandas-docs/stable/user_guide/indexing.html#returning-a-view-versus-a-copy\n",
      "  # Remove the CWD from sys.path while we load stuff.\n",
      "/opt/anaconda3/lib/python3.7/site-packages/ipykernel_launcher.py:11: SettingWithCopyWarning: \n",
      "A value is trying to be set on a copy of a slice from a DataFrame.\n",
      "Try using .loc[row_indexer,col_indexer] = value instead\n",
      "\n",
      "See the caveats in the documentation: https://pandas.pydata.org/pandas-docs/stable/user_guide/indexing.html#returning-a-view-versus-a-copy\n",
      "  # This is added back by InteractiveShellApp.init_path()\n",
      "/opt/anaconda3/lib/python3.7/site-packages/ipykernel_launcher.py:12: SettingWithCopyWarning: \n",
      "A value is trying to be set on a copy of a slice from a DataFrame.\n",
      "Try using .loc[row_indexer,col_indexer] = value instead\n",
      "\n",
      "See the caveats in the documentation: https://pandas.pydata.org/pandas-docs/stable/user_guide/indexing.html#returning-a-view-versus-a-copy\n",
      "  if sys.path[0] == '':\n",
      "/opt/anaconda3/lib/python3.7/site-packages/ipykernel_launcher.py:13: SettingWithCopyWarning: \n",
      "A value is trying to be set on a copy of a slice from a DataFrame.\n",
      "Try using .loc[row_indexer,col_indexer] = value instead\n",
      "\n",
      "See the caveats in the documentation: https://pandas.pydata.org/pandas-docs/stable/user_guide/indexing.html#returning-a-view-versus-a-copy\n",
      "  del sys.path[0]\n",
      "/opt/anaconda3/lib/python3.7/site-packages/ipykernel_launcher.py:19: SettingWithCopyWarning: \n",
      "A value is trying to be set on a copy of a slice from a DataFrame.\n",
      "Try using .loc[row_indexer,col_indexer] = value instead\n",
      "\n",
      "See the caveats in the documentation: https://pandas.pydata.org/pandas-docs/stable/user_guide/indexing.html#returning-a-view-versus-a-copy\n",
      "/opt/anaconda3/lib/python3.7/site-packages/ipykernel_launcher.py:25: SettingWithCopyWarning: \n",
      "A value is trying to be set on a copy of a slice from a DataFrame.\n",
      "Try using .loc[row_indexer,col_indexer] = value instead\n",
      "\n",
      "See the caveats in the documentation: https://pandas.pydata.org/pandas-docs/stable/user_guide/indexing.html#returning-a-view-versus-a-copy\n",
      "/opt/anaconda3/lib/python3.7/site-packages/ipykernel_launcher.py:26: SettingWithCopyWarning: \n",
      "A value is trying to be set on a copy of a slice from a DataFrame.\n",
      "Try using .loc[row_indexer,col_indexer] = value instead\n",
      "\n",
      "See the caveats in the documentation: https://pandas.pydata.org/pandas-docs/stable/user_guide/indexing.html#returning-a-view-versus-a-copy\n",
      "/opt/anaconda3/lib/python3.7/site-packages/ipykernel_launcher.py:27: SettingWithCopyWarning: \n",
      "A value is trying to be set on a copy of a slice from a DataFrame.\n",
      "Try using .loc[row_indexer,col_indexer] = value instead\n",
      "\n",
      "See the caveats in the documentation: https://pandas.pydata.org/pandas-docs/stable/user_guide/indexing.html#returning-a-view-versus-a-copy\n",
      "/opt/anaconda3/lib/python3.7/site-packages/ipykernel_launcher.py:28: SettingWithCopyWarning: \n",
      "A value is trying to be set on a copy of a slice from a DataFrame.\n",
      "Try using .loc[row_indexer,col_indexer] = value instead\n",
      "\n",
      "See the caveats in the documentation: https://pandas.pydata.org/pandas-docs/stable/user_guide/indexing.html#returning-a-view-versus-a-copy\n",
      "/opt/anaconda3/lib/python3.7/site-packages/ipykernel_launcher.py:29: SettingWithCopyWarning: \n",
      "A value is trying to be set on a copy of a slice from a DataFrame.\n",
      "Try using .loc[row_indexer,col_indexer] = value instead\n",
      "\n",
      "See the caveats in the documentation: https://pandas.pydata.org/pandas-docs/stable/user_guide/indexing.html#returning-a-view-versus-a-copy\n",
      "/opt/anaconda3/lib/python3.7/site-packages/ipykernel_launcher.py:30: SettingWithCopyWarning: \n",
      "A value is trying to be set on a copy of a slice from a DataFrame.\n",
      "Try using .loc[row_indexer,col_indexer] = value instead\n",
      "\n",
      "See the caveats in the documentation: https://pandas.pydata.org/pandas-docs/stable/user_guide/indexing.html#returning-a-view-versus-a-copy\n",
      "/opt/anaconda3/lib/python3.7/site-packages/ipykernel_launcher.py:31: SettingWithCopyWarning: \n",
      "A value is trying to be set on a copy of a slice from a DataFrame.\n",
      "Try using .loc[row_indexer,col_indexer] = value instead\n",
      "\n",
      "See the caveats in the documentation: https://pandas.pydata.org/pandas-docs/stable/user_guide/indexing.html#returning-a-view-versus-a-copy\n",
      "/opt/anaconda3/lib/python3.7/site-packages/ipykernel_launcher.py:34: SettingWithCopyWarning: \n",
      "A value is trying to be set on a copy of a slice from a DataFrame.\n",
      "Try using .loc[row_indexer,col_indexer] = value instead\n",
      "\n",
      "See the caveats in the documentation: https://pandas.pydata.org/pandas-docs/stable/user_guide/indexing.html#returning-a-view-versus-a-copy\n",
      "/opt/anaconda3/lib/python3.7/site-packages/ipykernel_launcher.py:35: SettingWithCopyWarning: \n",
      "A value is trying to be set on a copy of a slice from a DataFrame.\n",
      "Try using .loc[row_indexer,col_indexer] = value instead\n",
      "\n",
      "See the caveats in the documentation: https://pandas.pydata.org/pandas-docs/stable/user_guide/indexing.html#returning-a-view-versus-a-copy\n",
      "/opt/anaconda3/lib/python3.7/site-packages/ipykernel_launcher.py:36: SettingWithCopyWarning: \n",
      "A value is trying to be set on a copy of a slice from a DataFrame.\n",
      "Try using .loc[row_indexer,col_indexer] = value instead\n",
      "\n",
      "See the caveats in the documentation: https://pandas.pydata.org/pandas-docs/stable/user_guide/indexing.html#returning-a-view-versus-a-copy\n",
      "/opt/anaconda3/lib/python3.7/site-packages/ipykernel_launcher.py:37: SettingWithCopyWarning: \n",
      "A value is trying to be set on a copy of a slice from a DataFrame.\n",
      "Try using .loc[row_indexer,col_indexer] = value instead\n",
      "\n",
      "See the caveats in the documentation: https://pandas.pydata.org/pandas-docs/stable/user_guide/indexing.html#returning-a-view-versus-a-copy\n",
      "/opt/anaconda3/lib/python3.7/site-packages/ipykernel_launcher.py:38: SettingWithCopyWarning: \n",
      "A value is trying to be set on a copy of a slice from a DataFrame.\n",
      "Try using .loc[row_indexer,col_indexer] = value instead\n",
      "\n",
      "See the caveats in the documentation: https://pandas.pydata.org/pandas-docs/stable/user_guide/indexing.html#returning-a-view-versus-a-copy\n",
      "/opt/anaconda3/lib/python3.7/site-packages/ipykernel_launcher.py:42: SettingWithCopyWarning: \n",
      "A value is trying to be set on a copy of a slice from a DataFrame.\n",
      "Try using .loc[row_indexer,col_indexer] = value instead\n",
      "\n",
      "See the caveats in the documentation: https://pandas.pydata.org/pandas-docs/stable/user_guide/indexing.html#returning-a-view-versus-a-copy\n"
     ]
    },
    {
     "name": "stderr",
     "output_type": "stream",
     "text": [
      "/opt/anaconda3/lib/python3.7/site-packages/ipykernel_launcher.py:43: SettingWithCopyWarning: \n",
      "A value is trying to be set on a copy of a slice from a DataFrame.\n",
      "Try using .loc[row_indexer,col_indexer] = value instead\n",
      "\n",
      "See the caveats in the documentation: https://pandas.pydata.org/pandas-docs/stable/user_guide/indexing.html#returning-a-view-versus-a-copy\n",
      "/opt/anaconda3/lib/python3.7/site-packages/ipykernel_launcher.py:44: SettingWithCopyWarning: \n",
      "A value is trying to be set on a copy of a slice from a DataFrame.\n",
      "Try using .loc[row_indexer,col_indexer] = value instead\n",
      "\n",
      "See the caveats in the documentation: https://pandas.pydata.org/pandas-docs/stable/user_guide/indexing.html#returning-a-view-versus-a-copy\n",
      "/opt/anaconda3/lib/python3.7/site-packages/ipykernel_launcher.py:45: SettingWithCopyWarning: \n",
      "A value is trying to be set on a copy of a slice from a DataFrame.\n",
      "Try using .loc[row_indexer,col_indexer] = value instead\n",
      "\n",
      "See the caveats in the documentation: https://pandas.pydata.org/pandas-docs/stable/user_guide/indexing.html#returning-a-view-versus-a-copy\n",
      "/opt/anaconda3/lib/python3.7/site-packages/ipykernel_launcher.py:46: SettingWithCopyWarning: \n",
      "A value is trying to be set on a copy of a slice from a DataFrame.\n",
      "Try using .loc[row_indexer,col_indexer] = value instead\n",
      "\n",
      "See the caveats in the documentation: https://pandas.pydata.org/pandas-docs/stable/user_guide/indexing.html#returning-a-view-versus-a-copy\n",
      "/opt/anaconda3/lib/python3.7/site-packages/ipykernel_launcher.py:50: SettingWithCopyWarning: \n",
      "A value is trying to be set on a copy of a slice from a DataFrame.\n",
      "Try using .loc[row_indexer,col_indexer] = value instead\n",
      "\n",
      "See the caveats in the documentation: https://pandas.pydata.org/pandas-docs/stable/user_guide/indexing.html#returning-a-view-versus-a-copy\n",
      "/opt/anaconda3/lib/python3.7/site-packages/ipykernel_launcher.py:51: SettingWithCopyWarning: \n",
      "A value is trying to be set on a copy of a slice from a DataFrame.\n",
      "Try using .loc[row_indexer,col_indexer] = value instead\n",
      "\n",
      "See the caveats in the documentation: https://pandas.pydata.org/pandas-docs/stable/user_guide/indexing.html#returning-a-view-versus-a-copy\n",
      "/opt/anaconda3/lib/python3.7/site-packages/ipykernel_launcher.py:52: SettingWithCopyWarning: \n",
      "A value is trying to be set on a copy of a slice from a DataFrame.\n",
      "Try using .loc[row_indexer,col_indexer] = value instead\n",
      "\n",
      "See the caveats in the documentation: https://pandas.pydata.org/pandas-docs/stable/user_guide/indexing.html#returning-a-view-versus-a-copy\n",
      "/opt/anaconda3/lib/python3.7/site-packages/ipykernel_launcher.py:53: SettingWithCopyWarning: \n",
      "A value is trying to be set on a copy of a slice from a DataFrame.\n",
      "Try using .loc[row_indexer,col_indexer] = value instead\n",
      "\n",
      "See the caveats in the documentation: https://pandas.pydata.org/pandas-docs/stable/user_guide/indexing.html#returning-a-view-versus-a-copy\n",
      "/opt/anaconda3/lib/python3.7/site-packages/ipykernel_launcher.py:57: SettingWithCopyWarning: \n",
      "A value is trying to be set on a copy of a slice from a DataFrame.\n",
      "Try using .loc[row_indexer,col_indexer] = value instead\n",
      "\n",
      "See the caveats in the documentation: https://pandas.pydata.org/pandas-docs/stable/user_guide/indexing.html#returning-a-view-versus-a-copy\n",
      "/opt/anaconda3/lib/python3.7/site-packages/ipykernel_launcher.py:58: SettingWithCopyWarning: \n",
      "A value is trying to be set on a copy of a slice from a DataFrame.\n",
      "Try using .loc[row_indexer,col_indexer] = value instead\n",
      "\n",
      "See the caveats in the documentation: https://pandas.pydata.org/pandas-docs/stable/user_guide/indexing.html#returning-a-view-versus-a-copy\n",
      "/opt/anaconda3/lib/python3.7/site-packages/ipykernel_launcher.py:59: SettingWithCopyWarning: \n",
      "A value is trying to be set on a copy of a slice from a DataFrame.\n",
      "Try using .loc[row_indexer,col_indexer] = value instead\n",
      "\n",
      "See the caveats in the documentation: https://pandas.pydata.org/pandas-docs/stable/user_guide/indexing.html#returning-a-view-versus-a-copy\n",
      "/opt/anaconda3/lib/python3.7/site-packages/ipykernel_launcher.py:62: SettingWithCopyWarning: \n",
      "A value is trying to be set on a copy of a slice from a DataFrame.\n",
      "Try using .loc[row_indexer,col_indexer] = value instead\n",
      "\n",
      "See the caveats in the documentation: https://pandas.pydata.org/pandas-docs/stable/user_guide/indexing.html#returning-a-view-versus-a-copy\n"
     ]
    }
   ],
   "source": [
    "#MOMENTUM & vol MEASURES\n",
    "\n",
    "mom_df = complete_df[['c']]\n",
    "#mom_df = mom_df.unstack(level ='insID').fillna(method ='ffill').stack(level ='insID')\n",
    "mom_df['mom12'] = mom_df.c.groupby(level='insID').pct_change(252)\n",
    "mom_df['mom6'] = mom_df.c.groupby(level='insID').pct_change(126)\n",
    "mom_df['mom3'] = mom_df.c.groupby(level='insID').pct_change(63)\n",
    "mom_df['mom1'] = mom_df.c.groupby(level='insID').pct_change(21)\n",
    "mom_df['1_day_ret'] = mom_df.c.groupby(level='insID').pct_change()\n",
    "mom_df['volatility'] = mom_df['1_day_ret'].groupby(level='insID').apply(lambda x: x.rolling(252).std()*252**0.5)\n",
    "mom_df['volatility_60day'] = mom_df['1_day_ret'].groupby(level='insID').apply(lambda x: x.rolling(60).std()*252**0.5)\n",
    "mom_df['volatility_6m'] = mom_df['1_day_ret'].groupby(level='insID').apply(lambda x: x.rolling(126).std()*252**0.5)\n",
    "mom_df['VAR_1']= mom_df['1_day_ret'].groupby(level='insID').apply(lambda x: x.rolling(252).quantile(0.01))\n",
    "\n",
    "\n",
    "\n",
    "\n",
    "\n",
    "mom_df['skew'] = mom_df['1_day_ret'].groupby(level='insID').apply(lambda x: x.rolling(252).skew())\n",
    "\n",
    "#mom_df['VAR'] = mom_df['1_day_ret'].groupby(level='insID').apply(lambda x: x.rolling(252).var()*252**0.5)\n",
    "\n",
    "\n",
    "#### RELATIVE TO ROLLING HIGH\n",
    "mom_df['high_4y'] = mom_df['c'].groupby(level='insID').apply(lambda x: x/x.rolling(252*4).max())\n",
    "mom_df['high_3y'] = mom_df['c'].groupby(level='insID').apply(lambda x: x/x.rolling(252*3).max())\n",
    "mom_df['high_2y'] = mom_df['c'].groupby(level='insID').apply(lambda x: x/x.rolling(252*2).max())\n",
    "mom_df['high_12m'] = mom_df['c'].groupby(level='insID').apply(lambda x: x/x.rolling(252).max())\n",
    "mom_df['high_6m'] = mom_df['c'].groupby(level='insID').apply(lambda x: x/x.rolling(126).max())\n",
    "mom_df['high_3m'] = mom_df['c'].groupby(level='insID').apply(lambda x: x/x.rolling(63).max())\n",
    "mom_df['high_1m'] = mom_df['c'].groupby(level='insID').apply(lambda x: x/x.rolling(21).max())\n",
    "\n",
    "#### RELATIVE TO ROLLING low\n",
    "mom_df['low_2y'] = mom_df['c'].groupby(level='insID').apply(lambda x: x/x.rolling(252*2).min())\n",
    "mom_df['low_12m'] = mom_df['c'].groupby(level='insID').apply(lambda x: x/x.rolling(252).min())\n",
    "mom_df['low_6m'] = mom_df['c'].groupby(level='insID').apply(lambda x: x/x.rolling(126).min())\n",
    "mom_df['low_3m'] = mom_df['c'].groupby(level='insID').apply(lambda x: x/x.rolling(63).min())\n",
    "mom_df['low_1m'] = mom_df['c'].groupby(level='insID').apply(lambda x: x/x.rolling(21).min())\n",
    "\n",
    "#### Trading Range\n",
    "\n",
    "mom_df['range_2y'] = mom_df['c'].groupby(level='insID').apply(lambda x: x.rolling(252*2).max()/x.rolling(252*2).min())\n",
    "mom_df['range_12m'] = mom_df['c'].groupby(level='insID').apply(lambda x: x.rolling(252).max()/x.rolling(252).min())\n",
    "mom_df['range_6m'] = mom_df['c'].groupby(level='insID').apply(lambda x: x.rolling(126).max()/x.rolling(126).min())\n",
    "mom_df['range_3m'] = mom_df['c'].groupby(level='insID').apply(lambda x: x.rolling(63).max()/x.rolling(63).min())\n",
    "mom_df['range_1m'] = mom_df['c'].groupby(level='insID').apply(lambda x: x.rolling(21).max()/x.rolling(21).min())\n",
    "\n",
    "\n",
    "### TRY EWMA \n",
    "mom_df['EMA_32'] = mom_df['c'].groupby(level='insID').apply(lambda x: x.ewm(span = 32).mean())\n",
    "mom_df['EMA_96'] = mom_df['c'].groupby(level='insID').apply(lambda x: x.ewm(span = 96).mean())\n",
    "mom_df['EMA_32_96'] = mom_df['EMA_32'] - mom_df['EMA_96']\n",
    "mom_df['EMA_32_96'] =mom_df['EMA_32_96']/mom_df['EMA_32_96'].groupby(level='insID').apply(lambda x: x.rolling(96).std())\n",
    "mom_df.loc[mom_df['EMA_32_96']==np.inf,'EMA_32_96' ] = mom_df['EMA_32_96'].median()\n",
    "\n",
    "\n",
    "mom_df['EMA_288'] = mom_df['c'].groupby(level='insID').apply(lambda x: x.ewm(span = 288).mean())\n",
    "mom_df['EMA_96_288'] = mom_df['EMA_96'] - mom_df['EMA_288']\n",
    "mom_df['EMA_96_288'] =mom_df['EMA_96_288']/mom_df['EMA_96_288'].groupby(level='insID').apply(lambda x: x.rolling(96).std())\n",
    "mom_df.loc[mom_df['EMA_96_288']==np.inf,'EMA_96_288' ] = mom_df['EMA_96_288'].median()\n",
    "\n",
    "mom_df['MA_200'] = mom_df['c'].groupby(level='insID').apply(lambda x: x/x.rolling(200).mean())\n",
    "\n",
    "\n",
    "mom_df = mom_df.groupby(level='insID').apply(\n",
    "    lambda x: x.assign(acceleration = x.mom6 -  x.mom12))\n",
    "mom_df = mom_df.groupby(level='insID').apply(\n",
    "    lambda x: x.assign(adj_mom = x.mom12 -  x.mom1))\n",
    "mom_df = mom_df.groupby(level='insID').apply(\n",
    "    lambda x: x.assign(sharpe = x.mom12/x.volatility))\n",
    "\n",
    "mom_df = mom_df.groupby(level='insID').apply(\n",
    "    lambda x: x.assign(sharpe_6m = x.mom6/x.volatility_6m))\n",
    "\n",
    "\n",
    "mom_df = mom_df.groupby(level='insID').apply(\n",
    "    lambda x: x.assign(sharpe_1m = x.mom1/x.volatility_6m))\n",
    "\n",
    "\n",
    "\n",
    "#mom_df = mom_df.groupby(level='insID').apply(\n",
    "#    lambda x: x.assign(VAR_mom = x.mom12/x.VAR))\n",
    "\n",
    "\n",
    "\n",
    "mom_df = mom_df.unstack(level ='d').fillna(mom_df.unstack(level ='d').median()).stack(level ='d')\n",
    "mom_df = mom_df[['mom12', 'mom6', 'mom3', 'mom1','1_day_ret','volatility','volatility_60day', 'acceleration',\n",
    "               'adj_mom','sharpe','sharpe_6m','sharpe_1m', 'high_12m', 'high_6m', 'high_3m', 'high_1m', 'high_2y','high_3y',\n",
    "                 'high_4y','low_1m', 'low_3m', 'low_6m', 'low_12m', 'low_2y', 'skew', 'EMA_32_96', 'EMA_96_288',\n",
    "                'range_2y', 'range_12m', 'range_6m', 'range_3m', 'range_1m', 'VAR_1','MA_200']]\n",
    "mom_df = mom_df.sort_index() "
   ]
  },
  {
   "cell_type": "code",
   "execution_count": 21,
   "metadata": {},
   "outputs": [],
   "source": [
    "#price ID\n",
    "#ID_df = complete_df[['c']]\n",
    "#ID_df['1_day_ret'].groupby(level='insID').apply(lambda x: x.rolling(252).quantile(0.01))\n",
    "\n"
   ]
  },
  {
   "cell_type": "markdown",
   "metadata": {},
   "source": [
    "## Quality Metrics"
   ]
  },
  {
   "cell_type": "code",
   "execution_count": 22,
   "metadata": {},
   "outputs": [
    {
     "name": "stderr",
     "output_type": "stream",
     "text": [
      "/opt/anaconda3/lib/python3.7/site-packages/ipykernel_launcher.py:2: SettingWithCopyWarning: \n",
      "A value is trying to be set on a copy of a slice from a DataFrame.\n",
      "Try using .loc[row_indexer,col_indexer] = value instead\n",
      "\n",
      "See the caveats in the documentation: https://pandas.pydata.org/pandas-docs/stable/user_guide/indexing.html#returning-a-view-versus-a-copy\n",
      "  \n"
     ]
    }
   ],
   "source": [
    "debt_df = complete_df[['net_Debt','total_Equity']]\n",
    "debt_df['Debt_Equity'] = debt_df['net_Debt']/debt_df['total_Equity']\n",
    "\n",
    "debt_df = debt_df.unstack(level ='d').fillna(debt_df.unstack(level ='d').median()).stack(level ='d')\n",
    "debt_df = debt_df[['Debt_Equity']]\n",
    "debt_df = debt_df.sort_index() \n"
   ]
  },
  {
   "cell_type": "code",
   "execution_count": 23,
   "metadata": {
    "scrolled": false
   },
   "outputs": [
    {
     "name": "stderr",
     "output_type": "stream",
     "text": [
      "/opt/anaconda3/lib/python3.7/site-packages/ipykernel_launcher.py:4: SettingWithCopyWarning: \n",
      "A value is trying to be set on a copy of a slice from a DataFrame.\n",
      "Try using .loc[row_indexer,col_indexer] = value instead\n",
      "\n",
      "See the caveats in the documentation: https://pandas.pydata.org/pandas-docs/stable/user_guide/indexing.html#returning-a-view-versus-a-copy\n",
      "  after removing the cwd from sys.path.\n"
     ]
    }
   ],
   "source": [
    "margin_df = complete_df[['gross_Income','net_Sales']]\n",
    "\n",
    "margin_df.loc[margin_df['net_Sales'] == 0,'net_Sales'] =-1\n",
    "margin_df['Gross_margin'] = margin_df['gross_Income']/ margin_df['net_Sales']\n",
    "\n",
    "\n",
    "margin_df = margin_df.unstack(level ='d').fillna(margin_df.unstack(level ='d').median()).stack(level ='d')\n",
    "margin_df = margin_df[['Gross_margin']]\n",
    "margin_df = margin_df.sort_index() "
   ]
  },
  {
   "cell_type": "code",
   "execution_count": 24,
   "metadata": {},
   "outputs": [
    {
     "name": "stderr",
     "output_type": "stream",
     "text": [
      "/opt/anaconda3/lib/python3.7/site-packages/ipykernel_launcher.py:3: SettingWithCopyWarning: \n",
      "A value is trying to be set on a copy of a slice from a DataFrame.\n",
      "Try using .loc[row_indexer,col_indexer] = value instead\n",
      "\n",
      "See the caveats in the documentation: https://pandas.pydata.org/pandas-docs/stable/user_guide/indexing.html#returning-a-view-versus-a-copy\n",
      "  This is separate from the ipykernel package so we can avoid doing imports until\n"
     ]
    }
   ],
   "source": [
    "GPA_df = complete_df[['gross_Income','total_Assets']]\n",
    "#GPA_df = GPA_df.unstack(level ='insID').fillna(method ='ffill').stack(level ='insID')\n",
    "GPA_df['GPA'] = GPA_df['gross_Income']/ GPA_df['total_Assets']\n",
    "GPA_df = GPA_df.unstack(level ='d').fillna(GPA_df.unstack(level ='d').median()).stack(level ='d')\n",
    "GPA_df['GPA_chg'] = GPA_df['GPA'].diff(252)\n",
    "GPA_df = GPA_df[['GPA', 'GPA_chg']]\n",
    "GPA_df = GPA_df.sort_index() "
   ]
  },
  {
   "cell_type": "code",
   "execution_count": 25,
   "metadata": {
    "scrolled": false
   },
   "outputs": [
    {
     "name": "stderr",
     "output_type": "stream",
     "text": [
      "/opt/anaconda3/lib/python3.7/site-packages/ipykernel_launcher.py:2: SettingWithCopyWarning: \n",
      "A value is trying to be set on a copy of a slice from a DataFrame.\n",
      "Try using .loc[row_indexer,col_indexer] = value instead\n",
      "\n",
      "See the caveats in the documentation: https://pandas.pydata.org/pandas-docs/stable/user_guide/indexing.html#returning-a-view-versus-a-copy\n",
      "  \n",
      "/opt/anaconda3/lib/python3.7/site-packages/ipykernel_launcher.py:4: SettingWithCopyWarning: \n",
      "A value is trying to be set on a copy of a slice from a DataFrame.\n",
      "Try using .loc[row_indexer,col_indexer] = value instead\n",
      "\n",
      "See the caveats in the documentation: https://pandas.pydata.org/pandas-docs/stable/user_guide/indexing.html#returning-a-view-versus-a-copy\n",
      "  after removing the cwd from sys.path.\n"
     ]
    }
   ],
   "source": [
    "ROE_df = complete_df[['earnings_Per_Share','total_Equity','number_Of_Shares']]\n",
    "ROE_df['total_earnings'] = ROE_df['earnings_Per_Share'] * ROE_df['number_Of_Shares']\n",
    "#ROE_df = ROE_df.unstack(level ='insID').fillna(method ='ffill').stack(level ='insID')\n",
    "ROE_df['ROE'] = ROE_df['total_earnings']/ ROE_df['total_Equity']\n",
    "ROE_df = ROE_df.unstack(level ='d').fillna(ROE_df.unstack(level ='d').median()).stack(level ='d')\n",
    "ROE_df['ROE_chg'] = ROE_df['ROE'].diff(252)\n",
    "ROE_df = ROE_df[['ROE', 'ROE_chg']]\n",
    "ROE_df = ROE_df.sort_index() "
   ]
  },
  {
   "cell_type": "code",
   "execution_count": 26,
   "metadata": {},
   "outputs": [
    {
     "name": "stderr",
     "output_type": "stream",
     "text": [
      "/opt/anaconda3/lib/python3.7/site-packages/ipykernel_launcher.py:3: SettingWithCopyWarning: \n",
      "A value is trying to be set on a copy of a slice from a DataFrame.\n",
      "Try using .loc[row_indexer,col_indexer] = value instead\n",
      "\n",
      "See the caveats in the documentation: https://pandas.pydata.org/pandas-docs/stable/user_guide/indexing.html#returning-a-view-versus-a-copy\n",
      "  This is separate from the ipykernel package so we can avoid doing imports until\n",
      "/opt/anaconda3/lib/python3.7/site-packages/ipykernel_launcher.py:5: SettingWithCopyWarning: \n",
      "A value is trying to be set on a copy of a slice from a DataFrame.\n",
      "Try using .loc[row_indexer,col_indexer] = value instead\n",
      "\n",
      "See the caveats in the documentation: https://pandas.pydata.org/pandas-docs/stable/user_guide/indexing.html#returning-a-view-versus-a-copy\n",
      "  \"\"\"\n"
     ]
    }
   ],
   "source": [
    "ROIC_df = complete_df[['operating_Income','total_Equity', 'net_Debt']]\n",
    "#ROIC_df = ROIC_df.unstack(level ='insID').fillna(method ='ffill').stack(level ='insID')\n",
    "ROIC_df['EV'] =(ROIC_df['total_Equity'] + ROIC_df['net_Debt'] )\n",
    "ROIC_df.loc[ROIC_df['EV'] == 0,'EV'] =-1\n",
    "ROIC_df['ROIC'] = ROIC_df['operating_Income']/(ROIC_df['EV'] )\n",
    "ROIC_df = ROIC_df.unstack(level ='d').fillna(ROIC_df.unstack(level ='d').median()).stack(level ='d')\n",
    "ROIC_df = ROIC_df[['ROIC']]\n",
    "ROIC_df = ROIC_df.sort_index() "
   ]
  },
  {
   "cell_type": "code",
   "execution_count": 27,
   "metadata": {
    "scrolled": true
   },
   "outputs": [
    {
     "name": "stderr",
     "output_type": "stream",
     "text": [
      "/opt/anaconda3/lib/python3.7/site-packages/ipykernel_launcher.py:3: SettingWithCopyWarning: \n",
      "A value is trying to be set on a copy of a slice from a DataFrame.\n",
      "Try using .loc[row_indexer,col_indexer] = value instead\n",
      "\n",
      "See the caveats in the documentation: https://pandas.pydata.org/pandas-docs/stable/user_guide/indexing.html#returning-a-view-versus-a-copy\n",
      "  This is separate from the ipykernel package so we can avoid doing imports until\n"
     ]
    }
   ],
   "source": [
    "\n",
    "AT_df = complete_df[['total_Assets','net_Sales']]\n",
    "#AT_df = AT_df.unstack(level ='insID').fillna(method ='ffill').stack(level ='insID')\n",
    "AT_df['AT'] = AT_df['net_Sales']/(AT_df['total_Assets'] )\n",
    "AT_df = AT_df.unstack(level ='d').fillna(AT_df.unstack(level ='d').median()).stack(level ='d')\n",
    "AT_df = AT_df[['AT']]\n",
    "AT_df = AT_df.sort_index() "
   ]
  },
  {
   "cell_type": "code",
   "execution_count": 28,
   "metadata": {},
   "outputs": [
    {
     "data": {
      "text/plain": [
       "Index(['c', 'h', 'l', 'o', 'v', 'Name', 'countryId', 'sectorId', 'marketId',\n",
       "       'instrument', 'broken_Fiscal_Year', 'cash_And_Equivalents',\n",
       "       'cash_Flow_For_The_Year', 'cash_Flow_From_Financing_Activities',\n",
       "       'cash_Flow_From_Investing_Activities',\n",
       "       'cash_Flow_From_Operating_Activities', 'currency', 'currency_Ratio',\n",
       "       'current_Assets', 'current_Liabilities', 'dividend',\n",
       "       'earnings_Per_Share', 'financial_Assets', 'free_Cash_Flow',\n",
       "       'gross_Income', 'intangible_Assets', 'net_Debt', 'net_Sales',\n",
       "       'non_Current_Assets', 'non_Current_Liabilities', 'number_Of_Shares',\n",
       "       'operating_Income', 'period', 'profit_Before_Tax',\n",
       "       'profit_To_Equity_Holders', 'report_Date', 'report_End_Date',\n",
       "       'report_Start_Date', 'revenues', 'stock_Price_Average',\n",
       "       'stock_Price_High', 'stock_Price_Low', 'tangible_Assets',\n",
       "       'total_Assets', 'total_Equity', 'total_Liabilities_And_Equity', 'year'],\n",
       "      dtype='object')"
      ]
     },
     "execution_count": 28,
     "metadata": {},
     "output_type": "execute_result"
    }
   ],
   "source": [
    "complete_df.columns"
   ]
  },
  {
   "cell_type": "code",
   "execution_count": 29,
   "metadata": {},
   "outputs": [
    {
     "name": "stderr",
     "output_type": "stream",
     "text": [
      "/opt/anaconda3/lib/python3.7/site-packages/ipykernel_launcher.py:5: SettingWithCopyWarning: \n",
      "A value is trying to be set on a copy of a slice from a DataFrame.\n",
      "Try using .loc[row_indexer,col_indexer] = value instead\n",
      "\n",
      "See the caveats in the documentation: https://pandas.pydata.org/pandas-docs/stable/user_guide/indexing.html#returning-a-view-versus-a-copy\n",
      "  \"\"\"\n",
      "/opt/anaconda3/lib/python3.7/site-packages/ipykernel_launcher.py:6: SettingWithCopyWarning: \n",
      "A value is trying to be set on a copy of a slice from a DataFrame.\n",
      "Try using .loc[row_indexer,col_indexer] = value instead\n",
      "\n",
      "See the caveats in the documentation: https://pandas.pydata.org/pandas-docs/stable/user_guide/indexing.html#returning-a-view-versus-a-copy\n",
      "  \n"
     ]
    }
   ],
   "source": [
    "#FCFROE\n",
    "\n",
    "FCFROE_df = complete_df[['cash_Flow_From_Operating_Activities','total_Equity', 'total_Assets']]\n",
    "#FCFROE_df = FCFROE_df.unstack(level ='insID').fillna(method ='ffill').stack(level ='insID')\n",
    "FCFROE_df['FCFROE'] = FCFROE_df['cash_Flow_From_Operating_Activities']/ FCFROE_df['total_Equity']\n",
    "FCFROE_df['FCF_Assets'] = FCFROE_df['cash_Flow_From_Operating_Activities']/ FCFROE_df['total_Assets']\n",
    "\n",
    "\n",
    "\n",
    "FCFROE_df = FCFROE_df.unstack(level ='d').fillna(FCFROE_df.unstack(level ='d').median()).stack(level ='d')\n",
    "FCFROE_df = FCFROE_df[['FCFROE', 'FCF_Assets']]\n",
    "FCFROE_df = FCFROE_df.sort_index() "
   ]
  },
  {
   "cell_type": "code",
   "execution_count": 30,
   "metadata": {
    "scrolled": true
   },
   "outputs": [
    {
     "name": "stderr",
     "output_type": "stream",
     "text": [
      "/opt/anaconda3/lib/python3.7/site-packages/ipykernel_launcher.py:4: SettingWithCopyWarning: \n",
      "A value is trying to be set on a copy of a slice from a DataFrame.\n",
      "Try using .loc[row_indexer,col_indexer] = value instead\n",
      "\n",
      "See the caveats in the documentation: https://pandas.pydata.org/pandas-docs/stable/user_guide/indexing.html#returning-a-view-versus-a-copy\n",
      "  after removing the cwd from sys.path.\n",
      "/opt/anaconda3/lib/python3.7/site-packages/ipykernel_launcher.py:6: SettingWithCopyWarning: \n",
      "A value is trying to be set on a copy of a slice from a DataFrame.\n",
      "Try using .loc[row_indexer,col_indexer] = value instead\n",
      "\n",
      "See the caveats in the documentation: https://pandas.pydata.org/pandas-docs/stable/user_guide/indexing.html#returning-a-view-versus-a-copy\n",
      "  \n"
     ]
    }
   ],
   "source": [
    "#ROA\n",
    "\n",
    "ROA_df = complete_df[['earnings_Per_Share', 'number_Of_Shares', 'total_Assets']]\n",
    "ROA_df['total_earnings'] = ROA_df['earnings_Per_Share'] * ROA_df['number_Of_Shares']\n",
    "#ROA_df = ROA_df.unstack(level ='insID').fillna(method ='ffill').stack(level ='insID')\n",
    "ROA_df['ROA'] = ROA_df['total_earnings']/(ROA_df['total_Assets'] )\n",
    "ROA_df = ROA_df.unstack(level ='d').fillna(ROA_df.unstack(level ='d').median()).stack(level ='d')\n",
    "ROA_df = ROA_df[['ROA']]\n",
    "ROA_df = ROA_df.sort_index() \n"
   ]
  },
  {
   "cell_type": "markdown",
   "metadata": {},
   "source": [
    "## Valuation Metrics"
   ]
  },
  {
   "cell_type": "code",
   "execution_count": 31,
   "metadata": {
    "scrolled": true
   },
   "outputs": [
    {
     "data": {
      "text/plain": [
       "Index(['c', 'h', 'l', 'o', 'v', 'Name', 'countryId', 'sectorId', 'marketId',\n",
       "       'instrument', 'broken_Fiscal_Year', 'cash_And_Equivalents',\n",
       "       'cash_Flow_For_The_Year', 'cash_Flow_From_Financing_Activities',\n",
       "       'cash_Flow_From_Investing_Activities',\n",
       "       'cash_Flow_From_Operating_Activities', 'currency', 'currency_Ratio',\n",
       "       'current_Assets', 'current_Liabilities', 'dividend',\n",
       "       'earnings_Per_Share', 'financial_Assets', 'free_Cash_Flow',\n",
       "       'gross_Income', 'intangible_Assets', 'net_Debt', 'net_Sales',\n",
       "       'non_Current_Assets', 'non_Current_Liabilities', 'number_Of_Shares',\n",
       "       'operating_Income', 'period', 'profit_Before_Tax',\n",
       "       'profit_To_Equity_Holders', 'report_Date', 'report_End_Date',\n",
       "       'report_Start_Date', 'revenues', 'stock_Price_Average',\n",
       "       'stock_Price_High', 'stock_Price_Low', 'tangible_Assets',\n",
       "       'total_Assets', 'total_Equity', 'total_Liabilities_And_Equity', 'year'],\n",
       "      dtype='object')"
      ]
     },
     "execution_count": 31,
     "metadata": {},
     "output_type": "execute_result"
    }
   ],
   "source": [
    "complete_df.columns"
   ]
  },
  {
   "cell_type": "code",
   "execution_count": 32,
   "metadata": {},
   "outputs": [
    {
     "name": "stderr",
     "output_type": "stream",
     "text": [
      "/opt/anaconda3/lib/python3.7/site-packages/ipykernel_launcher.py:3: SettingWithCopyWarning: \n",
      "A value is trying to be set on a copy of a slice from a DataFrame.\n",
      "Try using .loc[row_indexer,col_indexer] = value instead\n",
      "\n",
      "See the caveats in the documentation: https://pandas.pydata.org/pandas-docs/stable/user_guide/indexing.html#returning-a-view-versus-a-copy\n",
      "  This is separate from the ipykernel package so we can avoid doing imports until\n",
      "/opt/anaconda3/lib/python3.7/site-packages/ipykernel_launcher.py:4: SettingWithCopyWarning: \n",
      "A value is trying to be set on a copy of a slice from a DataFrame.\n",
      "Try using .loc[row_indexer,col_indexer] = value instead\n",
      "\n",
      "See the caveats in the documentation: https://pandas.pydata.org/pandas-docs/stable/user_guide/indexing.html#returning-a-view-versus-a-copy\n",
      "  after removing the cwd from sys.path.\n",
      "/opt/anaconda3/lib/python3.7/site-packages/ipykernel_launcher.py:9: SettingWithCopyWarning: \n",
      "A value is trying to be set on a copy of a slice from a DataFrame.\n",
      "Try using .loc[row_indexer,col_indexer] = value instead\n",
      "\n",
      "See the caveats in the documentation: https://pandas.pydata.org/pandas-docs/stable/user_guide/indexing.html#returning-a-view-versus-a-copy\n",
      "  if __name__ == '__main__':\n",
      "/opt/anaconda3/lib/python3.7/site-packages/ipykernel_launcher.py:10: SettingWithCopyWarning: \n",
      "A value is trying to be set on a copy of a slice from a DataFrame.\n",
      "Try using .loc[row_indexer,col_indexer] = value instead\n",
      "\n",
      "See the caveats in the documentation: https://pandas.pydata.org/pandas-docs/stable/user_guide/indexing.html#returning-a-view-versus-a-copy\n",
      "  # Remove the CWD from sys.path while we load stuff.\n"
     ]
    }
   ],
   "source": [
    "#Financing Yield\n",
    "FY_df = complete_df[['cash_Flow_From_Financing_Activities','total_Equity','number_Of_Shares', 'c', 'net_Debt']]\n",
    "FY_df['EV'] = (FY_df['number_Of_Shares'] * FY_df['c']) + FY_df['net_Debt']\n",
    "FY_df['MC'] = (FY_df['number_Of_Shares'] * FY_df['c'])\n",
    "\n",
    "\n",
    "FY_df.loc[FY_df['cash_Flow_From_Financing_Activities'] == 0,'cash_Flow_From_Financing_Activities'] =-1\n",
    "\n",
    "FY_df['FY'] = FY_df['cash_Flow_From_Financing_Activities']/FY_df['EV']\n",
    "FY_df['SY'] = FY_df['cash_Flow_From_Financing_Activities']/FY_df['MC']\n",
    "FY_df = FY_df.unstack(level ='d').fillna(FY_df.unstack(level ='d').median()).stack(level ='d')\n",
    "FY_df = FY_df[['FY', 'SY']]\n"
   ]
  },
  {
   "cell_type": "code",
   "execution_count": 33,
   "metadata": {},
   "outputs": [
    {
     "name": "stderr",
     "output_type": "stream",
     "text": [
      "/opt/anaconda3/lib/python3.7/site-packages/ipykernel_launcher.py:2: SettingWithCopyWarning: \n",
      "A value is trying to be set on a copy of a slice from a DataFrame.\n",
      "Try using .loc[row_indexer,col_indexer] = value instead\n",
      "\n",
      "See the caveats in the documentation: https://pandas.pydata.org/pandas-docs/stable/user_guide/indexing.html#returning-a-view-versus-a-copy\n",
      "  \n",
      "/opt/anaconda3/lib/python3.7/site-packages/ipykernel_launcher.py:5: SettingWithCopyWarning: \n",
      "A value is trying to be set on a copy of a slice from a DataFrame.\n",
      "Try using .loc[row_indexer,col_indexer] = value instead\n",
      "\n",
      "See the caveats in the documentation: https://pandas.pydata.org/pandas-docs/stable/user_guide/indexing.html#returning-a-view-versus-a-copy\n",
      "  \"\"\"\n"
     ]
    }
   ],
   "source": [
    "PO_df = complete_df[['earnings_Per_Share','dividend', 'number_Of_Shares']]\n",
    "PO_df['earnings'] = PO_df['earnings_Per_Share']*PO_df['number_Of_Shares']\n",
    "PO_df.loc[PO_df['dividend'].isna(),['dividend']] = 0\n",
    "\n",
    "PO_df['PO'] = PO_df['dividend']/ PO_df['earnings']\n",
    "PO_df = PO_df.unstack(level ='d').fillna(PO_df.unstack(level ='d').median()).stack(level ='d')\n",
    "PO_df = PO_df[['PO']]\n",
    "PO_df = PO_df.sort_index() "
   ]
  },
  {
   "cell_type": "code",
   "execution_count": 34,
   "metadata": {},
   "outputs": [
    {
     "name": "stderr",
     "output_type": "stream",
     "text": [
      "/opt/anaconda3/lib/python3.7/site-packages/ipykernel_launcher.py:5: SettingWithCopyWarning: \n",
      "A value is trying to be set on a copy of a slice from a DataFrame.\n",
      "Try using .loc[row_indexer,col_indexer] = value instead\n",
      "\n",
      "See the caveats in the documentation: https://pandas.pydata.org/pandas-docs/stable/user_guide/indexing.html#returning-a-view-versus-a-copy\n",
      "  \"\"\"\n"
     ]
    }
   ],
   "source": [
    "PE_df = complete_df[['earnings_Per_Share','c']]\n",
    "#PE_df = PE_df.unstack(level ='insID').fillna(method ='ffill').stack(level ='insID')\n",
    "\n",
    "PE_df.loc[PE_df['earnings_Per_Share'] == 0,'earnings_Per_Share'] =-1\n",
    "PE_df['PE'] = PE_df['c']/ PE_df['earnings_Per_Share']\n",
    "PE_df = PE_df.unstack(level ='d').fillna(PE_df.unstack(level ='d').median()).stack(level ='d')\n",
    "PE_df = PE_df[['PE']]\n",
    "PE_df = PE_df.sort_index() "
   ]
  },
  {
   "cell_type": "code",
   "execution_count": 35,
   "metadata": {
    "scrolled": false
   },
   "outputs": [
    {
     "name": "stderr",
     "output_type": "stream",
     "text": [
      "/opt/anaconda3/lib/python3.7/site-packages/ipykernel_launcher.py:3: SettingWithCopyWarning: \n",
      "A value is trying to be set on a copy of a slice from a DataFrame.\n",
      "Try using .loc[row_indexer,col_indexer] = value instead\n",
      "\n",
      "See the caveats in the documentation: https://pandas.pydata.org/pandas-docs/stable/user_guide/indexing.html#returning-a-view-versus-a-copy\n",
      "  This is separate from the ipykernel package so we can avoid doing imports until\n"
     ]
    }
   ],
   "source": [
    "asset_g_df = complete_df[['total_Assets']]\n",
    "#asset_g_df = asset_g_df.unstack(level ='insID').fillna(method ='ffill').stack(level ='insID')\n",
    "asset_g_df['Asset_growth'] = asset_g_df['total_Assets'].pct_change(252)\n",
    "asset_g_df = asset_g_df.unstack(level ='d').fillna(asset_g_df.unstack(level ='d').median()).stack(level ='d')\n",
    "asset_g_df = asset_g_df[['Asset_growth']]\n",
    "asset_g_df = asset_g_df.sort_index() "
   ]
  },
  {
   "cell_type": "code",
   "execution_count": 36,
   "metadata": {},
   "outputs": [
    {
     "name": "stderr",
     "output_type": "stream",
     "text": [
      "/opt/anaconda3/lib/python3.7/site-packages/ipykernel_launcher.py:3: SettingWithCopyWarning: \n",
      "A value is trying to be set on a copy of a slice from a DataFrame.\n",
      "Try using .loc[row_indexer,col_indexer] = value instead\n",
      "\n",
      "See the caveats in the documentation: https://pandas.pydata.org/pandas-docs/stable/user_guide/indexing.html#returning-a-view-versus-a-copy\n",
      "  This is separate from the ipykernel package so we can avoid doing imports until\n",
      "/opt/anaconda3/lib/python3.7/site-packages/ipykernel_launcher.py:6: SettingWithCopyWarning: \n",
      "A value is trying to be set on a copy of a slice from a DataFrame.\n",
      "Try using .loc[row_indexer,col_indexer] = value instead\n",
      "\n",
      "See the caveats in the documentation: https://pandas.pydata.org/pandas-docs/stable/user_guide/indexing.html#returning-a-view-versus-a-copy\n",
      "  \n"
     ]
    }
   ],
   "source": [
    "PB_df = complete_df[['total_Equity','number_Of_Shares', 'c']]\n",
    "#PB_df = PB_df.unstack(level ='insID').fillna(method ='ffill').stack(level ='insID')\n",
    "PB_df['equity_ps'] = PB_df['total_Equity']/PB_df['number_Of_Shares']\n",
    "PB_df.loc[PB_df['equity_ps'] == 0,'equity_ps'] =-1\n",
    "\n",
    "PB_df['PB'] = PB_df['c']/ PB_df['equity_ps']\n",
    "PB_df = PB_df.unstack(level ='d').fillna(PB_df.unstack(level ='d').median()).stack(level ='d')\n",
    "PB_df = PB_df[['PB']]\n",
    "PB_df = PB_df.sort_index() "
   ]
  },
  {
   "cell_type": "code",
   "execution_count": 37,
   "metadata": {
    "scrolled": false
   },
   "outputs": [
    {
     "name": "stderr",
     "output_type": "stream",
     "text": [
      "/opt/anaconda3/lib/python3.7/site-packages/ipykernel_launcher.py:2: SettingWithCopyWarning: \n",
      "A value is trying to be set on a copy of a slice from a DataFrame.\n",
      "Try using .loc[row_indexer,col_indexer] = value instead\n",
      "\n",
      "See the caveats in the documentation: https://pandas.pydata.org/pandas-docs/stable/user_guide/indexing.html#returning-a-view-versus-a-copy\n",
      "  \n",
      "/opt/anaconda3/lib/python3.7/site-packages/ipykernel_launcher.py:6: SettingWithCopyWarning: \n",
      "A value is trying to be set on a copy of a slice from a DataFrame.\n",
      "Try using .loc[row_indexer,col_indexer] = value instead\n",
      "\n",
      "See the caveats in the documentation: https://pandas.pydata.org/pandas-docs/stable/user_guide/indexing.html#returning-a-view-versus-a-copy\n",
      "  \n"
     ]
    }
   ],
   "source": [
    "EVEBIT = complete_df[['operating_Income','total_Equity','number_Of_Shares', 'c', 'net_Debt']]\n",
    "EVEBIT['EV'] = (EVEBIT['number_Of_Shares'] * EVEBIT['c']) + EVEBIT['net_Debt']\n",
    "\n",
    "EVEBIT.loc[EVEBIT['operating_Income'] == 0,'operating_Income'] =-1\n",
    "\n",
    "EVEBIT['EVEBIT'] = EVEBIT['EV']/EVEBIT['operating_Income']\n",
    "EVEBIT = EVEBIT.unstack(level ='d').fillna(EVEBIT.unstack(level ='d').median()).stack(level ='d')\n",
    "EVEBIT = EVEBIT['EVEBIT']"
   ]
  },
  {
   "cell_type": "code",
   "execution_count": 38,
   "metadata": {
    "scrolled": true
   },
   "outputs": [
    {
     "name": "stderr",
     "output_type": "stream",
     "text": [
      "/opt/anaconda3/lib/python3.7/site-packages/ipykernel_launcher.py:3: SettingWithCopyWarning: \n",
      "A value is trying to be set on a copy of a slice from a DataFrame.\n",
      "Try using .loc[row_indexer,col_indexer] = value instead\n",
      "\n",
      "See the caveats in the documentation: https://pandas.pydata.org/pandas-docs/stable/user_guide/indexing.html#returning-a-view-versus-a-copy\n",
      "  This is separate from the ipykernel package so we can avoid doing imports until\n",
      "/opt/anaconda3/lib/python3.7/site-packages/ipykernel_launcher.py:6: SettingWithCopyWarning: \n",
      "A value is trying to be set on a copy of a slice from a DataFrame.\n",
      "Try using .loc[row_indexer,col_indexer] = value instead\n",
      "\n",
      "See the caveats in the documentation: https://pandas.pydata.org/pandas-docs/stable/user_guide/indexing.html#returning-a-view-versus-a-copy\n",
      "  \n"
     ]
    }
   ],
   "source": [
    "EVFCF = complete_df[['free_Cash_Flow','total_Equity','number_Of_Shares', 'c', 'net_Debt']]\n",
    "\n",
    "EVFCF['EV'] = (EVFCF['number_Of_Shares'] * EVFCF['c']) + EVFCF['net_Debt']\n",
    "EVFCF.loc[EVFCF['free_Cash_Flow'] == 0,'free_Cash_Flow'] =-1\n",
    "\n",
    "EVFCF['EVFCF'] = EVFCF['EV']/EVFCF['free_Cash_Flow']\n",
    "\n",
    "EVFCF = EVFCF.unstack(level ='d').fillna(EVFCF.unstack(level ='d').median()).stack(level ='d')\n",
    "EVFCF = EVFCF['EVFCF']"
   ]
  },
  {
   "cell_type": "code",
   "execution_count": 39,
   "metadata": {},
   "outputs": [
    {
     "name": "stderr",
     "output_type": "stream",
     "text": [
      "/opt/anaconda3/lib/python3.7/site-packages/ipykernel_launcher.py:7: SettingWithCopyWarning: \n",
      "A value is trying to be set on a copy of a slice from a DataFrame.\n",
      "Try using .loc[row_indexer,col_indexer] = value instead\n",
      "\n",
      "See the caveats in the documentation: https://pandas.pydata.org/pandas-docs/stable/user_guide/indexing.html#returning-a-view-versus-a-copy\n",
      "  import sys\n",
      "/opt/anaconda3/lib/python3.7/site-packages/ipykernel_launcher.py:8: SettingWithCopyWarning: \n",
      "A value is trying to be set on a copy of a slice from a DataFrame.\n",
      "Try using .loc[row_indexer,col_indexer] = value instead\n",
      "\n",
      "See the caveats in the documentation: https://pandas.pydata.org/pandas-docs/stable/user_guide/indexing.html#returning-a-view-versus-a-copy\n",
      "  \n"
     ]
    }
   ],
   "source": [
    "#PS\n",
    "PS_df = complete_df[['net_Sales','c', 'number_Of_Shares']]\n",
    "\n",
    "\n",
    "PS_df.loc[PS_df['net_Sales'] == 0,'net_Sales'] =-1\n",
    "\n",
    "PS_df['sales_per_share'] = PS_df['net_Sales']/PS_df['number_Of_Shares']\n",
    "PS_df['PS'] = PS_df['c']/ PS_df['sales_per_share']\n",
    "PS_df = PS_df.unstack(level ='d').fillna(PS_df.unstack(level ='d').median()).stack(level ='d')\n",
    "PS_df = PS_df[['PS']]\n",
    "PS_df = PS_df.sort_index() "
   ]
  },
  {
   "cell_type": "code",
   "execution_count": 40,
   "metadata": {
    "scrolled": true
   },
   "outputs": [
    {
     "name": "stderr",
     "output_type": "stream",
     "text": [
      "/opt/anaconda3/lib/python3.7/site-packages/ipykernel_launcher.py:3: SettingWithCopyWarning: \n",
      "A value is trying to be set on a copy of a slice from a DataFrame.\n",
      "Try using .loc[row_indexer,col_indexer] = value instead\n",
      "\n",
      "See the caveats in the documentation: https://pandas.pydata.org/pandas-docs/stable/user_guide/indexing.html#returning-a-view-versus-a-copy\n",
      "  This is separate from the ipykernel package so we can avoid doing imports until\n",
      "/opt/anaconda3/lib/python3.7/site-packages/ipykernel_launcher.py:6: SettingWithCopyWarning: \n",
      "A value is trying to be set on a copy of a slice from a DataFrame.\n",
      "Try using .loc[row_indexer,col_indexer] = value instead\n",
      "\n",
      "See the caveats in the documentation: https://pandas.pydata.org/pandas-docs/stable/user_guide/indexing.html#returning-a-view-versus-a-copy\n",
      "  \n"
     ]
    }
   ],
   "source": [
    "#PFCF\n",
    "PFCF_df = complete_df[['free_Cash_Flow','c', 'number_Of_Shares']]\n",
    "PFCF_df['fcf_per_share'] = PFCF_df['free_Cash_Flow']/PFCF_df['number_Of_Shares']\n",
    "PFCF_df.loc[PFCF_df['free_Cash_Flow'] == 0,'fcf_per_share'] =-1\n",
    "\n",
    "PFCF_df['PFCF'] = PFCF_df['c']/ PFCF_df['fcf_per_share']\n",
    "PFCF_df = PFCF_df.unstack(level ='d').fillna(PFCF_df.unstack(level ='d').median()).stack(level ='d')\n",
    "PFCF_df = PFCF_df[['PFCF']]\n",
    "PFCF_df = PFCF_df.sort_index() "
   ]
  },
  {
   "cell_type": "code",
   "execution_count": 41,
   "metadata": {},
   "outputs": [
    {
     "name": "stderr",
     "output_type": "stream",
     "text": [
      "/opt/anaconda3/lib/python3.7/site-packages/ipykernel_launcher.py:5: SettingWithCopyWarning: \n",
      "A value is trying to be set on a copy of a slice from a DataFrame.\n",
      "Try using .loc[row_indexer,col_indexer] = value instead\n",
      "\n",
      "See the caveats in the documentation: https://pandas.pydata.org/pandas-docs/stable/user_guide/indexing.html#returning-a-view-versus-a-copy\n",
      "  \"\"\"\n",
      "/opt/anaconda3/lib/python3.7/site-packages/ipykernel_launcher.py:6: SettingWithCopyWarning: \n",
      "A value is trying to be set on a copy of a slice from a DataFrame.\n",
      "Try using .loc[row_indexer,col_indexer] = value instead\n",
      "\n",
      "See the caveats in the documentation: https://pandas.pydata.org/pandas-docs/stable/user_guide/indexing.html#returning-a-view-versus-a-copy\n",
      "  \n",
      "/opt/anaconda3/lib/python3.7/site-packages/ipykernel_launcher.py:7: SettingWithCopyWarning: \n",
      "A value is trying to be set on a copy of a slice from a DataFrame.\n",
      "Try using .loc[row_indexer,col_indexer] = value instead\n",
      "\n",
      "See the caveats in the documentation: https://pandas.pydata.org/pandas-docs/stable/user_guide/indexing.html#returning-a-view-versus-a-copy\n",
      "  import sys\n"
     ]
    }
   ],
   "source": [
    "#Div Yield\n",
    "DIV_df = complete_df[['dividend','c', 'number_Of_Shares']]\n",
    "DIV_df.loc[DIV_df['dividend'].isna(),['dividend']] = 0\n",
    "\n",
    "DIV_df['rol_div'] = DIV_df['dividend'].groupby(level='insID').apply(lambda x: x.rolling(252).mean())\n",
    "DIV_df['div_per_share'] = DIV_df['rol_div']/DIV_df['number_Of_Shares']\n",
    "DIV_df['DIV_Y'] = DIV_df['div_per_share']/ DIV_df['c']\n",
    "DIV_df = DIV_df.unstack(level ='d').fillna(DIV_df.unstack(level ='d').median()).stack(level ='d')\n",
    "DIV_df = DIV_df[['DIV_Y']]\n",
    "DIV_df = DIV_df.sort_index() "
   ]
  },
  {
   "cell_type": "markdown",
   "metadata": {},
   "source": [
    "### Merge Data"
   ]
  },
  {
   "cell_type": "code",
   "execution_count": 42,
   "metadata": {},
   "outputs": [],
   "source": [
    "export_df = mcap_df.copy()\n",
    "\n",
    "export_list = [PE_df, GPA_df, asset_g_df,PB_df, EAR_date_df,EVEBIT,EVFCF,div_adj_df, ROIC_df, ROE_df, AT_df,\n",
    "              list_sector_df, rev_year, eps_year, mom_df, FCFROE_df, ROA_df, PS_df, PFCF_df,\n",
    "               DIV_df, norm_res_df,volume_df, margin_df, beta_df, alpha_df, ido_mom_df, PO_df,FY_df,debt_df]\n",
    "\n",
    "for df in export_list:\n",
    "    try:\n",
    "        export_df = export_df.join(df.swaplevel(), on=['d','insID'],how='left')\n",
    "    except:\n",
    "        export_df = export_df.join(df, on=['d','insID'],how='left')"
   ]
  },
  {
   "cell_type": "code",
   "execution_count": 43,
   "metadata": {},
   "outputs": [],
   "source": [
    "SAVE = 'YES'\n",
    "\n",
    "if SAVE == 'YES':\n",
    "    export_df.to_csv(\"data/VQ_data.csv\")"
   ]
  },
  {
   "cell_type": "code",
   "execution_count": 44,
   "metadata": {
    "scrolled": false
   },
   "outputs": [
    {
     "name": "stdout",
     "output_type": "stream",
     "text": [
      "c : 194062.5\n",
      "number_Of_Shares : 8505.7\n",
      "MCAP : 1663851.2\n",
      "PE : 62433.33333333334\n",
      "GPA : 121.37037037037037\n",
      "GPA_chg : 120.87335909351647\n",
      "Asset_growth : 766288.9778516057\n",
      "PB : 11211.874666666667\n",
      "EA_ret : 4.726950354609929\n",
      "EAR_std : 7.072649605310786\n",
      "AVG_EAR : 2.3396726095083276\n",
      "EVEBIT : 279511.6666666667\n",
      "EVFCF : 51929.96\n",
      "adj_c : 212067.00077160494\n",
      "ROIC : 4529.749999999996\n",
      "ROE : 137.2683\n",
      "ROE_chg : 2432.6277198963335\n",
      "AT : 11.807659551817746\n",
      "Name is non-numerical\n",
      "sector is non-numerical\n",
      "market is non-numerical\n",
      "RSURP_Y : 2564.729489619774\n",
      "rev_growth : 578.4940828402366\n",
      "SUE_Y : 9686.608504853199\n",
      "EPS_growth : 840.675\n",
      "EPS_acceleration : 851.7142156862744\n",
      "mom12 : 89.89412152148857\n",
      "mom6 : 59.75\n",
      "mom3 : 36.25\n",
      "mom1 : 22.8\n",
      "1_day_ret : 27.333333333333332\n",
      "volatility : 27.429925791827447\n",
      "volatility_60day : 56.05378419492711\n",
      "acceleration : 45.370253164556964\n",
      "adj_mom : 89.62806647561702\n",
      "sharpe : 51.34543551252829\n",
      "sharpe_6m : 23.97765806702241\n",
      "high_12m : 1.0\n",
      "high_6m : 1.0\n",
      "high_3m : 1.0\n",
      "high_1m : 1.0\n",
      "high_2y : 1.0\n",
      "high_3y : 1.0\n",
      "high_4y : 1.0\n",
      "low_1m : 28.333333333333332\n",
      "low_3m : 37.25\n",
      "low_6m : 60.75\n",
      "low_12m : 94.12423728813559\n",
      "low_2y : 104.86406510079527\n",
      "skew : 15.874507866387544\n",
      "EMA_32_96 : 23.19734431211355\n",
      "EMA_96_288 : 109.03760520067078\n",
      "range_2y : 314.2857142857143\n",
      "range_12m : 114.4927536231884\n",
      "range_6m : 60.75\n",
      "range_3m : 37.25\n",
      "range_1m : 28.333333333333332\n",
      "VAR_1 : 0.0\n",
      "MA_200 : 17.927966782521924\n",
      "FCFROE : 62.59116022099448\n",
      "FCF_Assets : 2.834326579261025\n",
      "ROA : 7.20632609431905\n",
      "PS : 242373.03999999998\n",
      "PFCF : 46881.96\n",
      "DIV_Y : 50.69972137791286\n",
      "res_mom12 : 2.6052875149375154\n",
      "MA50_VOL : 5544103552.24\n",
      "Gross_margin : 18634.80769230769\n",
      "beta : 1876.8915814027014\n",
      "alpha : 55.34059965065353\n",
      "std_alpha : 48.89528772667815\n",
      "ido_mom12 : 0.3796863404270449\n",
      "PO : 780.8119157145393\n",
      "FY : 5620.3836930455545\n",
      "SY : 4434.6317657497775\n",
      "Debt_Equity : 78.0\n"
     ]
    }
   ],
   "source": [
    "for col in export_df.columns:\n",
    "    try:\n",
    "        print(col + ' : ' + str(export_df[col].max()))\n",
    "    except:\n",
    "        print(col + ' is non-numerical')"
   ]
  },
  {
   "cell_type": "code",
   "execution_count": 45,
   "metadata": {},
   "outputs": [
    {
     "name": "stdout",
     "output_type": "stream",
     "text": [
      "c : 0.007\n",
      "number_Of_Shares : 0.0021\n",
      "MCAP : 0.01127\n",
      "PE : -22307.69230769231\n",
      "GPA : -6.5017006802721085\n",
      "GPA_chg : -121.37010214109624\n",
      "Asset_growth : -0.9999966260916151\n",
      "PB : -17264.332243093922\n",
      "EA_ret : -0.6978661493695442\n",
      "EAR_std : -3.0798868245956754\n",
      "AVG_EAR : -0.7981678162965798\n",
      "EVEBIT : -19204.9449081803\n",
      "EVFCF : -242571.7702702702\n",
      "adj_c : 0.007\n",
      "ROIC : -9972.626952526798\n",
      "ROE : -2432.5476400000007\n",
      "ROE_chg : -2432.599292453644\n",
      "AT : -0.017488758215150467\n",
      "Name is non-numerical\n",
      "sector is non-numerical\n",
      "market is non-numerical\n",
      "RSURP_Y : -22449.944320643684\n",
      "rev_growth : -3223405.0\n",
      "SUE_Y : -1998.0778164601088\n",
      "EPS_growth : -337.6842105263158\n",
      "EPS_acceleration : -842.3351870430827\n",
      "mom12 : -0.9894656488549618\n",
      "mom6 : -0.9787037037037037\n",
      "mom3 : -0.961878453038674\n",
      "mom1 : -0.9596491228070175\n",
      "1_day_ret : -0.9507142857142857\n",
      "volatility : 0.0\n",
      "volatility_60day : 0.0\n",
      "acceleration : -87.98885836359383\n",
      "adj_mom : -18.341284403669725\n",
      "sharpe : -2.3410663622481485\n",
      "sharpe_6m : -1.9057984896966893\n",
      "high_12m : 0.008734177215189874\n",
      "high_6m : 0.01977077363896848\n",
      "high_3m : 0.031363636363636364\n",
      "high_1m : 0.03942857142857143\n",
      "high_2y : 0.0031818181818181815\n",
      "high_3y : 0.0007368421052631579\n",
      "high_4y : 8.64406779661017e-05\n",
      "low_1m : 1.0\n",
      "low_3m : 1.0\n",
      "low_6m : 1.0\n",
      "low_12m : 1.0\n",
      "low_2y : 1.0\n",
      "skew : -15.874507866274264\n",
      "EMA_32_96 : -23.05391664850282\n",
      "EMA_96_288 : -149.62983543445335\n",
      "range_2y : 1.0\n",
      "range_12m : 1.0\n",
      "range_6m : 1.0\n",
      "range_3m : 1.0\n",
      "range_1m : 1.0\n",
      "VAR_1 : -0.4838796791443851\n",
      "MA_200 : 0.026635321911026445\n",
      "FCFROE : -1647.0\n",
      "FCF_Assets : -10.405228758169933\n",
      "ROA : -180.05794575163398\n",
      "PS : -712085.8464\n",
      "PFCF : -249646.90540540536\n",
      "DIV_Y : 0.0\n",
      "res_mom12 : -2.3159775215907166\n",
      "MA50_VOL : 0.0\n",
      "Gross_margin : -20832.999999999996\n",
      "beta : -1479.3002162322664\n",
      "alpha : -9.819909633394673\n",
      "std_alpha : -54.922771884026965\n",
      "ido_mom12 : -0.29924488258922005\n",
      "PO : -180.37532353019904\n",
      "FY : -72151.26050404673\n",
      "SY : -37.963619690359\n",
      "Debt_Equity : -2537.473214285714\n"
     ]
    }
   ],
   "source": [
    "for col in export_df.columns:\n",
    "    try:\n",
    "        print(col + ' : ' + str(export_df[col].min()))\n",
    "    except:\n",
    "        print(col + ' is non-numerical')"
   ]
  },
  {
   "cell_type": "code",
   "execution_count": null,
   "metadata": {},
   "outputs": [],
   "source": []
  },
  {
   "cell_type": "code",
   "execution_count": null,
   "metadata": {},
   "outputs": [],
   "source": []
  }
 ],
 "metadata": {
  "kernelspec": {
   "display_name": "Python 3",
   "language": "python",
   "name": "python3"
  },
  "language_info": {
   "codemirror_mode": {
    "name": "ipython",
    "version": 3
   },
   "file_extension": ".py",
   "mimetype": "text/x-python",
   "name": "python",
   "nbconvert_exporter": "python",
   "pygments_lexer": "ipython3",
   "version": "3.7.4"
  }
 },
 "nbformat": 4,
 "nbformat_minor": 2
}
