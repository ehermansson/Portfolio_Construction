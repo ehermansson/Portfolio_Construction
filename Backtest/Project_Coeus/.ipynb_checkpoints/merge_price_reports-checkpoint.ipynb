{
 "cells": [
  {
   "cell_type": "code",
   "execution_count": 1,
   "metadata": {},
   "outputs": [],
   "source": [
    "import pandas as pd\n",
    "import numpy as np\n",
    "from datetime import datetime"
   ]
  },
  {
   "cell_type": "markdown",
   "metadata": {},
   "source": [
    "## Merging of price and reports\n",
    "\n",
    "TO DO:\n",
    "- Include dividends in total price\n",
    "- find split data to aplit adjust\n",
    "- append stock info"
   ]
  },
  {
   "cell_type": "code",
   "execution_count": 2,
   "metadata": {
    "scrolled": true
   },
   "outputs": [],
   "source": [
    "price_df = pd.read_csv('data/SWE_PRICE_20YEAR.csv')\n",
    "price_df['d'] = pd.to_datetime(price_df['d'])\n",
    "price_df = price_df.set_index(['d', 'insID'])"
   ]
  },
  {
   "cell_type": "code",
   "execution_count": 3,
   "metadata": {},
   "outputs": [],
   "source": [
    "reports_df = pd.read_csv('data/SWE_REPORTS.csv')\n",
    "reports_df['d'] = pd.to_datetime(reports_df['d'])\n",
    "reports_df = reports_df.set_index(['d', 'insID'])"
   ]
  },
  {
   "cell_type": "code",
   "execution_count": 4,
   "metadata": {},
   "outputs": [],
   "source": [
    "#left merge reports on price data\n",
    "complete_df =  price_df.join(reports_df, on=['d','insID'])"
   ]
  },
  {
   "cell_type": "code",
   "execution_count": 5,
   "metadata": {},
   "outputs": [],
   "source": [
    "# remove duplicate index entries by d\n",
    "complete_df = complete_df[~complete_df.index.duplicated(keep='first')]"
   ]
  },
  {
   "cell_type": "code",
   "execution_count": 28,
   "metadata": {},
   "outputs": [
    {
     "data": {
      "text/plain": [
       "Index(['c', 'h', 'l', 'o', 'v', 'Name', 'countryId', 'sectorId', 'marketId',\n",
       "       'instrument', 'broken_Fiscal_Year', 'broken_Fiscal_Year_quarter',\n",
       "       'cash_And_Equivalents', 'cash_And_Equivalents_quarter',\n",
       "       'cash_Flow_For_The_Year', 'cash_Flow_For_The_Year_quarter',\n",
       "       'cash_Flow_From_Financing_Activities',\n",
       "       'cash_Flow_From_Financing_Activities_quarter',\n",
       "       'cash_Flow_From_Investing_Activities',\n",
       "       'cash_Flow_From_Investing_Activities_quarter',\n",
       "       'cash_Flow_From_Operating_Activities',\n",
       "       'cash_Flow_From_Operating_Activities_quarter', 'currency',\n",
       "       'currency_Ratio', 'currency_Ratio_quarter', 'currency_quarter',\n",
       "       'current_Assets', 'current_Assets_quarter', 'current_Liabilities',\n",
       "       'current_Liabilities_quarter', 'dividend', 'dividend_quarter',\n",
       "       'earnings_Per_Share', 'earnings_Per_Share_quarter', 'financial_Assets',\n",
       "       'financial_Assets_quarter', 'free_Cash_Flow', 'free_Cash_Flow_quarter',\n",
       "       'gross_Income', 'gross_Income_quarter', 'intangible_Assets',\n",
       "       'intangible_Assets_quarter', 'net_Debt', 'net_Debt_quarter',\n",
       "       'net_Sales', 'net_Sales_quarter', 'non_Current_Assets',\n",
       "       'non_Current_Assets_quarter', 'non_Current_Liabilities',\n",
       "       'non_Current_Liabilities_quarter', 'number_Of_Shares',\n",
       "       'number_Of_Shares_quarter', 'operating_Income',\n",
       "       'operating_Income_quarter', 'period', 'period_quarter',\n",
       "       'profit_Before_Tax', 'profit_Before_Tax_quarter',\n",
       "       'profit_To_Equity_Holders', 'profit_To_Equity_Holders_quarter',\n",
       "       'report_Date', 'report_Date_quarter', 'report_End_Date',\n",
       "       'report_End_Date_quarter', 'report_Start_Date',\n",
       "       'report_Start_Date_quarter', 'revenues', 'revenues_quarter',\n",
       "       'stock_Price_Average', 'stock_Price_Average_quarter',\n",
       "       'stock_Price_High', 'stock_Price_High_quarter', 'stock_Price_Low',\n",
       "       'stock_Price_Low_quarter', 'tangible_Assets', 'tangible_Assets_quarter',\n",
       "       'total_Assets', 'total_Assets_quarter', 'total_Equity',\n",
       "       'total_Equity_quarter', 'total_Liabilities_And_Equity',\n",
       "       'total_Liabilities_And_Equity_quarter', 'year', 'year_quarter'],\n",
       "      dtype='object')"
      ]
     },
     "execution_count": 28,
     "metadata": {},
     "output_type": "execute_result"
    }
   ],
   "source": [
    "complete_df.columns"
   ]
  },
  {
   "cell_type": "markdown",
   "metadata": {},
   "source": [
    "## All Around Metrics"
   ]
  },
  {
   "cell_type": "code",
   "execution_count": 6,
   "metadata": {},
   "outputs": [],
   "source": [
    "#Market Cap\n",
    "mcap_df = complete_df[['c','number_Of_Shares']]\n",
    "mcap_df = mcap_df.unstack(level ='insID').fillna(method ='ffill').stack(level ='insID')\n",
    "mcap_df['MCAP'] = mcap_df['c'] * mcap_df['number_Of_Shares']\n",
    "mcap_df = mcap_df.sort_index() "
   ]
  },
  {
   "cell_type": "code",
   "execution_count": 7,
   "metadata": {
    "scrolled": true
   },
   "outputs": [
    {
     "name": "stderr",
     "output_type": "stream",
     "text": [
      "/opt/anaconda3/lib/python3.7/site-packages/pandas/core/indexing.py:1817: SettingWithCopyWarning: \n",
      "A value is trying to be set on a copy of a slice from a DataFrame.\n",
      "Try using .loc[row_indexer,col_indexer] = value instead\n",
      "\n",
      "See the caveats in the documentation: https://pandas.pydata.org/pandas-docs/stable/user_guide/indexing.html#returning-a-view-versus-a-copy\n",
      "  self._setitem_single_column(loc, value, pi)\n",
      "/opt/anaconda3/lib/python3.7/site-packages/ipykernel_launcher.py:4: SettingWithCopyWarning: \n",
      "A value is trying to be set on a copy of a slice from a DataFrame.\n",
      "Try using .loc[row_indexer,col_indexer] = value instead\n",
      "\n",
      "See the caveats in the documentation: https://pandas.pydata.org/pandas-docs/stable/user_guide/indexing.html#returning-a-view-versus-a-copy\n",
      "  after removing the cwd from sys.path.\n"
     ]
    }
   ],
   "source": [
    "#Cumulative dividends\n",
    "div_adj_df = complete_df[['dividend', 'c']]\n",
    "div_adj_df.loc[div_adj_df['dividend'].isna(),['dividend']] = 0\n",
    "div_adj_df['rol_div'] = div_adj_df['dividend'].groupby(level='insID').apply(lambda x: x.rolling(252).mean())\n",
    "div_adj_df.loc[div_adj_df['rol_div'].isna(),['rol_div']] = 0\n",
    "\n",
    "div_adj_df = div_adj_df.groupby(level='insID').apply(\n",
    "    lambda x: x.assign(day_div = x.rol_div/252))\n",
    "\n",
    "div_adj_df['cum_day_div'] = div_adj_df['day_div'].groupby(level='insID').cumsum()\n",
    "div_adj_df = div_adj_df.groupby(level='insID').apply(\n",
    "    lambda x: x.assign(adj_c = x.c+ x.cum_day_div))\n",
    "\n",
    "div_adj_df = div_adj_df['adj_c']"
   ]
  },
  {
   "cell_type": "code",
   "execution_count": 8,
   "metadata": {},
   "outputs": [],
   "source": [
    "#rename lists and sectors"
   ]
  },
  {
   "cell_type": "code",
   "execution_count": 9,
   "metadata": {},
   "outputs": [
    {
     "name": "stderr",
     "output_type": "stream",
     "text": [
      "/opt/anaconda3/lib/python3.7/site-packages/ipykernel_launcher.py:4: SettingWithCopyWarning: \n",
      "A value is trying to be set on a copy of a slice from a DataFrame.\n",
      "Try using .loc[row_indexer,col_indexer] = value instead\n",
      "\n",
      "See the caveats in the documentation: https://pandas.pydata.org/pandas-docs/stable/user_guide/indexing.html#returning-a-view-versus-a-copy\n",
      "  after removing the cwd from sys.path.\n",
      "/opt/anaconda3/lib/python3.7/site-packages/pandas/core/indexing.py:1667: SettingWithCopyWarning: \n",
      "A value is trying to be set on a copy of a slice from a DataFrame.\n",
      "Try using .loc[row_indexer,col_indexer] = value instead\n",
      "\n",
      "See the caveats in the documentation: https://pandas.pydata.org/pandas-docs/stable/user_guide/indexing.html#returning-a-view-versus-a-copy\n",
      "  self.obj[key] = value\n",
      "/opt/anaconda3/lib/python3.7/site-packages/pandas/core/indexing.py:1773: SettingWithCopyWarning: \n",
      "A value is trying to be set on a copy of a slice from a DataFrame.\n",
      "Try using .loc[row_indexer,col_indexer] = value instead\n",
      "\n",
      "See the caveats in the documentation: https://pandas.pydata.org/pandas-docs/stable/user_guide/indexing.html#returning-a-view-versus-a-copy\n",
      "  self._setitem_single_column(ilocs[0], value, pi)\n"
     ]
    }
   ],
   "source": [
    "list_sector_df = complete_df[['Name','sectorId', 'marketId']]\n",
    "\n",
    "\n",
    "list_sector_df['sector'] = np.nan\n",
    "list_sector_df.loc[: , 'market']= list_sector_df['marketId'].replace({1: 'Large_Cap', 2: 'Mid_Cap',\n",
    "                                                               3: 'Small_Cap', 4: 'First_North'})\n",
    "\n",
    "list_sector_df.loc[: , 'sector']= list_sector_df['sectorId'].replace({1: 'finance_RE', 2: 'consumer_goods',\n",
    "                                                               3: 'energy', 4: 'healthcare',\n",
    "                                                                     5: 'industry', 6:'info_tech',\n",
    "                                                                     7:'material', 8:'consumer_discretionary',\n",
    "                                                                     9:'telecom', 10:'infrastructure'})\n",
    "\n",
    "list_sector_df = list_sector_df[['Name','sector', 'market']]"
   ]
  },
  {
   "cell_type": "markdown",
   "metadata": {},
   "source": [
    "## Calculate EAR and SUE seperatly"
   ]
  },
  {
   "cell_type": "code",
   "execution_count": 10,
   "metadata": {},
   "outputs": [],
   "source": [
    "EAR_date_df = pd.DataFrame(reports_df['report_Date'])\n",
    "EAR_date_df['EA_ind'] = 1\n",
    "EAR_date_df = price_df.join(EAR_date_df, on=['d','insID'])[['c','EA_ind' ]]\n",
    "EAR_date_df['EA_plus'] = EAR_date_df['EA_ind'].groupby(level='insID').shift(1)\n",
    "EAR_date_df = EAR_date_df[~EAR_date_df.index.duplicated(keep='last')]\n",
    "\n",
    "#Calculate 3 day return, only select the days where EAR_date_df['EA_plus'] == 1\n",
    "EAR_date_df['3day_ret'] = EAR_date_df['c'].groupby(level='insID').pct_change(3)\n",
    "EAR_date_df['EA_ret'] = EAR_date_df['3day_ret'] * EAR_date_df['EA_plus']\n",
    "EAR_date_df = EAR_date_df.unstack(level ='insID').fillna(method ='ffill').stack(level ='insID')\n",
    "EAR_date_df = EAR_date_df.unstack(level ='d').fillna(EAR_date_df.unstack(level ='d').median()).stack(level ='d')\n",
    "\n",
    "EAR_date_df = EAR_date_df[['EA_ret']]\n",
    "EAR_date_df = EAR_date_df.sort_index()"
   ]
  },
  {
   "cell_type": "code",
   "execution_count": 11,
   "metadata": {},
   "outputs": [
    {
     "name": "stderr",
     "output_type": "stream",
     "text": [
      "/opt/anaconda3/lib/python3.7/site-packages/ipykernel_launcher.py:11: FutureWarning: Dropping of nuisance columns in DataFrame reductions (with 'numeric_only=None') is deprecated; in a future version this will raise TypeError.  Select only valid columns before calling the reduction.\n",
      "  # This is added back by InteractiveShellApp.init_path()\n"
     ]
    }
   ],
   "source": [
    "#SUE QUARTER\n",
    "eps_quarter = reports_df['earnings_Per_Share_quarter']\n",
    "eps_quarter = eps_quarter[~eps_quarter.index.duplicated(keep='last')]\n",
    "\n",
    "sue_df = price_df.join(eps_quarter, on=['d','insID'])\n",
    "sue_df = sue_df.unstack(level ='insID').fillna(method ='ffill').stack(level ='insID')\n",
    "\n",
    "sue_df['EPS_vol'] = sue_df['earnings_Per_Share_quarter'].groupby(level='insID').apply(lambda x: x.rolling(252).std())\n",
    "sue_df['EPS_growth'] = sue_df['earnings_Per_Share_quarter'].groupby(level='insID').pct_change(252)\n",
    "sue_df['SUE_Q'] = sue_df['EPS_growth']/sue_df['EPS_vol']\n",
    "sue_df = sue_df.unstack(level ='d').fillna(sue_df.unstack(level ='d').median()).stack(level ='d')\n",
    "\n",
    "sue_df = sue_df['SUE_Q']\n",
    "sue_df = sue_df.sort_index() "
   ]
  },
  {
   "cell_type": "code",
   "execution_count": 12,
   "metadata": {},
   "outputs": [
    {
     "name": "stderr",
     "output_type": "stream",
     "text": [
      "/opt/anaconda3/lib/python3.7/site-packages/ipykernel_launcher.py:11: FutureWarning: Dropping of nuisance columns in DataFrame reductions (with 'numeric_only=None') is deprecated; in a future version this will raise TypeError.  Select only valid columns before calling the reduction.\n",
      "  # This is added back by InteractiveShellApp.init_path()\n"
     ]
    }
   ],
   "source": [
    "#RSURP QUARTER\n",
    "RSURP_quarter = reports_df['revenues_quarter']\n",
    "RSURP_quarter = RSURP_quarter[~RSURP_quarter.index.duplicated(keep='last')]\n",
    "\n",
    "RSURP_df = price_df.join(RSURP_quarter, on=['d','insID'])\n",
    "RSURP_df = RSURP_df.unstack(level ='insID').fillna(method ='ffill').stack(level ='insID')\n",
    "\n",
    "RSURP_df['RSURP_vol'] = RSURP_df['revenues_quarter'].groupby(level='insID').apply(lambda x: x.rolling(252).std())\n",
    "RSURP_df['RSURP_growth'] = RSURP_df['revenues_quarter'].groupby(level='insID').pct_change(252)\n",
    "RSURP_df['RSURP_Q'] = RSURP_df['RSURP_growth']/RSURP_df['RSURP_vol']\n",
    "RSURP_df = RSURP_df.unstack(level ='d').fillna(RSURP_df.unstack(level ='d').median()).stack(level ='d')\n",
    "RSURP_df = RSURP_df['RSURP_Q']\n",
    "RSURP_df = RSURP_df.sort_index()"
   ]
  },
  {
   "cell_type": "code",
   "execution_count": 13,
   "metadata": {},
   "outputs": [],
   "source": [
    "#RSURP YEAR\n",
    "rev_year = complete_df[['c','revenues']]\n",
    "rev_year = rev_year.unstack(level ='insID').fillna(method ='ffill').stack(level ='insID')\n",
    "\n",
    "rev_year['rev_vol'] = rev_year['revenues'].groupby(level='insID').apply(lambda x: x.rolling(252*2).std())\n",
    "rev_year['rev_growth'] = rev_year['revenues'].groupby(level='insID').pct_change(252)\n",
    "rev_year['RSURP_Y'] = rev_year['rev_growth']/rev_year['rev_vol']\n",
    "rev_year = rev_year.unstack(level ='d').fillna(rev_year.unstack(level ='d').median()).stack(level ='d')\n",
    "rev_year = rev_year[['RSURP_Y','rev_growth']]"
   ]
  },
  {
   "cell_type": "code",
   "execution_count": 14,
   "metadata": {},
   "outputs": [],
   "source": [
    "#SUE YEAR\n",
    "eps_year = complete_df[['c','earnings_Per_Share']]\n",
    "eps_year = eps_year.unstack(level ='insID').fillna(method ='ffill').stack(level ='insID')\n",
    "\n",
    "eps_year['EPS_vol'] = eps_year['earnings_Per_Share'].groupby(level='insID').apply(lambda x: x.rolling(252*2).std())\n",
    "eps_year['EPS_growth'] = eps_year['earnings_Per_Share'].groupby(level='insID').pct_change(252)\n",
    "eps_year['SUE_Y'] = eps_year['EPS_growth']/eps_year['EPS_vol']\n",
    "eps_year['EPS_acceleration'] = eps_year['EPS_growth'].diff(252)\n",
    "eps_year = eps_year.unstack(level ='d').fillna(eps_year.unstack(level ='d').median()).stack(level ='d')\n",
    "eps_year = eps_year[['SUE_Y','EPS_growth', 'EPS_acceleration']]"
   ]
  },
  {
   "cell_type": "code",
   "execution_count": 16,
   "metadata": {},
   "outputs": [],
   "source": [
    "#MOMENTUM & vol MEASURES\n",
    "\n",
    "mom_df = complete_df[['c']]\n",
    "mom_df = mom_df.unstack(level ='insID').fillna(method ='ffill').stack(level ='insID')\n",
    "mom_df['mom12'] = mom_df.c.groupby(level='insID').pct_change(252)\n",
    "mom_df['mom6'] = mom_df.c.groupby(level='insID').pct_change(126)\n",
    "mom_df['mom3'] = mom_df.c.groupby(level='insID').pct_change(63)\n",
    "mom_df['mom1'] = mom_df.c.groupby(level='insID').pct_change(21)\n",
    "mom_df['1_day_ret'] = mom_df.c.groupby(level='insID').pct_change()\n",
    "mom_df['volatility'] = mom_df['1_day_ret'].groupby(level='insID').apply(lambda x: x.rolling(252).std()*252**0.5)\n",
    "mom_df['volatility_60day'] = mom_df['1_day_ret'].groupby(level='insID').apply(lambda x: x.rolling(60).std()*252**0.5)\n",
    "\n",
    "\n",
    "mom_df = mom_df.groupby(level='insID').apply(\n",
    "    lambda x: x.assign(acceleration = x.mom6 -  x.mom12))\n",
    "mom_df = mom_df.groupby(level='insID').apply(\n",
    "    lambda x: x.assign(adj_mom = x.mom12 -  x.mom1))\n",
    "mom_df = mom_df.groupby(level='insID').apply(\n",
    "    lambda x: x.assign(sharpe = x.mom12/x.volatility))\n",
    "\n",
    "\n",
    "\n",
    "mom_df = mom_df.unstack(level ='d').fillna(mom_df.unstack(level ='d').median()).stack(level ='d')\n",
    "mom_df = mom_df[['mom12', 'mom6', 'mom3', 'mom1','1_day_ret','volatility','volatility_60day', 'acceleration',\n",
    "               'adj_mom','sharpe']]\n",
    "mom_df = mom_df.sort_index() "
   ]
  },
  {
   "cell_type": "markdown",
   "metadata": {},
   "source": [
    "## Quality Metrics"
   ]
  },
  {
   "cell_type": "code",
   "execution_count": 17,
   "metadata": {},
   "outputs": [],
   "source": [
    "GPA_df = complete_df[['gross_Income','total_Assets']]\n",
    "GPA_df = GPA_df.unstack(level ='insID').fillna(method ='ffill').stack(level ='insID')\n",
    "GPA_df['GPA'] = GPA_df['gross_Income']/ GPA_df['total_Assets']\n",
    "GPA_df = GPA_df.unstack(level ='d').fillna(GPA_df.unstack(level ='d').median()).stack(level ='d')\n",
    "GPA_df['GPA_chg'] = GPA_df['GPA'].pct_change(252)\n",
    "GPA_df = GPA_df[['GPA', 'GPA_chg']]\n",
    "GPA_df = GPA_df.sort_index() "
   ]
  },
  {
   "cell_type": "code",
   "execution_count": 18,
   "metadata": {
    "scrolled": false
   },
   "outputs": [
    {
     "name": "stderr",
     "output_type": "stream",
     "text": [
      "/opt/anaconda3/lib/python3.7/site-packages/ipykernel_launcher.py:2: SettingWithCopyWarning: \n",
      "A value is trying to be set on a copy of a slice from a DataFrame.\n",
      "Try using .loc[row_indexer,col_indexer] = value instead\n",
      "\n",
      "See the caveats in the documentation: https://pandas.pydata.org/pandas-docs/stable/user_guide/indexing.html#returning-a-view-versus-a-copy\n",
      "  \n"
     ]
    }
   ],
   "source": [
    "ROE_df = complete_df[['earnings_Per_Share','total_Equity','number_Of_Shares']]\n",
    "ROE_df['total_earnings'] = ROE_df['earnings_Per_Share'] * ROE_df['number_Of_Shares']\n",
    "ROE_df = ROE_df.unstack(level ='insID').fillna(method ='ffill').stack(level ='insID')\n",
    "ROE_df['ROE'] = ROE_df['total_earnings']/ ROE_df['total_Equity']\n",
    "ROE_df = ROE_df.unstack(level ='d').fillna(ROE_df.unstack(level ='d').median()).stack(level ='d')\n",
    "ROE_df['ROE_chg'] = ROE_df['ROE'].pct_change(252)\n",
    "ROE_df = ROE_df[['ROE', 'ROE_chg']]\n",
    "ROE_df = ROE_df.sort_index() "
   ]
  },
  {
   "cell_type": "code",
   "execution_count": 19,
   "metadata": {},
   "outputs": [],
   "source": [
    "ROIC_df = complete_df[['operating_Income','total_Equity', 'net_Debt']]\n",
    "ROIC_df = ROIC_df.unstack(level ='insID').fillna(method ='ffill').stack(level ='insID')\n",
    "ROIC_df['ROIC'] = ROIC_df['operating_Income']/(ROIC_df['total_Equity'] + ROIC_df['net_Debt'] )\n",
    "ROIC_df = ROIC_df.unstack(level ='d').fillna(ROIC_df.unstack(level ='d').median()).stack(level ='d')\n",
    "ROIC_df = ROIC_df[['ROIC']]\n",
    "ROIC_df = ROIC_df.sort_index() "
   ]
  },
  {
   "cell_type": "code",
   "execution_count": 29,
   "metadata": {},
   "outputs": [],
   "source": [
    "\n",
    "AT_df = complete_df[['total_Assets','net_Sales']]\n",
    "AT_df = AT_df.unstack(level ='insID').fillna(method ='ffill').stack(level ='insID')\n",
    "AT_df['AT'] = AT_df['net_Sales']/(AT_df['total_Assets'] )\n",
    "AT_df = AT_df.unstack(level ='d').fillna(AT_df.unstack(level ='d').median()).stack(level ='d')\n",
    "AT_df = AT_df[['AT']]\n",
    "AT_df = AT_df.sort_index() "
   ]
  },
  {
   "cell_type": "code",
   "execution_count": 30,
   "metadata": {},
   "outputs": [],
   "source": [
    "#FCFROE\n",
    "\n",
    "FCFROE_df = complete_df[['cash_Flow_For_The_Year','total_Equity']]\n",
    "FCFROE_df = FCFROE_df.unstack(level ='insID').fillna(method ='ffill').stack(level ='insID')\n",
    "FCFROE_df['FCFROE'] = FCFROE_df['cash_Flow_For_The_Year']/ FCFROE_df['total_Equity']\n",
    "FCFROE_df = FCFROE_df.unstack(level ='d').fillna(FCFROE_df.unstack(level ='d').median()).stack(level ='d')\n",
    "FCFROE_df = FCFROE_df[['FCFROE']]\n",
    "FCFROE_df = FCFROE_df.sort_index() "
   ]
  },
  {
   "cell_type": "code",
   "execution_count": 31,
   "metadata": {
    "scrolled": true
   },
   "outputs": [
    {
     "name": "stderr",
     "output_type": "stream",
     "text": [
      "/opt/anaconda3/lib/python3.7/site-packages/ipykernel_launcher.py:4: SettingWithCopyWarning: \n",
      "A value is trying to be set on a copy of a slice from a DataFrame.\n",
      "Try using .loc[row_indexer,col_indexer] = value instead\n",
      "\n",
      "See the caveats in the documentation: https://pandas.pydata.org/pandas-docs/stable/user_guide/indexing.html#returning-a-view-versus-a-copy\n",
      "  after removing the cwd from sys.path.\n"
     ]
    }
   ],
   "source": [
    "#ROA\n",
    "\n",
    "ROA_df = complete_df[['earnings_Per_Share', 'number_Of_Shares', 'total_Assets']]\n",
    "ROA_df['total_earnings'] = ROA_df['earnings_Per_Share'] * ROA_df['number_Of_Shares']\n",
    "ROA_df = ROA_df.unstack(level ='insID').fillna(method ='ffill').stack(level ='insID')\n",
    "ROA_df['ROA'] = ROA_df['total_earnings']/(ROA_df['total_Assets'] )\n",
    "ROA_df = ROA_df.unstack(level ='d').fillna(ROA_df.unstack(level ='d').median()).stack(level ='d')\n",
    "ROA_df = ROA_df[['ROA']]\n",
    "ROA_df = ROA_df.sort_index() \n"
   ]
  },
  {
   "cell_type": "markdown",
   "metadata": {},
   "source": [
    "## Valuation Metrics"
   ]
  },
  {
   "cell_type": "code",
   "execution_count": 21,
   "metadata": {},
   "outputs": [],
   "source": [
    "PE_df = complete_df[['earnings_Per_Share','c']]\n",
    "PE_df = PE_df.unstack(level ='insID').fillna(method ='ffill').stack(level ='insID')\n",
    "PE_df['PE'] = PE_df['c']/ PE_df['earnings_Per_Share']\n",
    "PE_df = PE_df.unstack(level ='d').fillna(PE_df.unstack(level ='d').median()).stack(level ='d')\n",
    "PE_df = PE_df[['PE']]\n",
    "PE_df = PE_df.sort_index() "
   ]
  },
  {
   "cell_type": "code",
   "execution_count": 22,
   "metadata": {
    "scrolled": false
   },
   "outputs": [],
   "source": [
    "asset_g_df = complete_df[['total_Assets']]\n",
    "asset_g_df = asset_g_df.unstack(level ='insID').fillna(method ='ffill').stack(level ='insID')\n",
    "asset_g_df['Asset_growth'] = asset_g_df['total_Assets'].pct_change(252)\n",
    "asset_g_df = asset_g_df.unstack(level ='d').fillna(asset_g_df.unstack(level ='d').median()).stack(level ='d')\n",
    "asset_g_df = asset_g_df[['Asset_growth']]\n",
    "asset_g_df = asset_g_df.sort_index() "
   ]
  },
  {
   "cell_type": "code",
   "execution_count": 23,
   "metadata": {},
   "outputs": [],
   "source": [
    "PB_df = complete_df[['total_Equity','number_Of_Shares', 'c']]\n",
    "PB_df = PB_df.unstack(level ='insID').fillna(method ='ffill').stack(level ='insID')\n",
    "PB_df['equity_ps'] = PB_df['total_Equity']/PB_df['number_Of_Shares']\n",
    "PB_df['PB'] = PB_df['c']/ PB_df['equity_ps']\n",
    "\n",
    "\n",
    "PB_df = PB_df.unstack(level ='d').fillna(PB_df.unstack(level ='d').median()).stack(level ='d')\n",
    "PB_df = PB_df[['PB']]\n",
    "PB_df = PB_df.sort_index() "
   ]
  },
  {
   "cell_type": "code",
   "execution_count": 24,
   "metadata": {
    "scrolled": false
   },
   "outputs": [
    {
     "name": "stderr",
     "output_type": "stream",
     "text": [
      "/opt/anaconda3/lib/python3.7/site-packages/ipykernel_launcher.py:2: SettingWithCopyWarning: \n",
      "A value is trying to be set on a copy of a slice from a DataFrame.\n",
      "Try using .loc[row_indexer,col_indexer] = value instead\n",
      "\n",
      "See the caveats in the documentation: https://pandas.pydata.org/pandas-docs/stable/user_guide/indexing.html#returning-a-view-versus-a-copy\n",
      "  \n"
     ]
    }
   ],
   "source": [
    "EVEBIT = complete_df[['operating_Income','total_Equity','number_Of_Shares', 'c', 'net_Debt']]\n",
    "EVEBIT['EV'] = (EVEBIT['number_Of_Shares'] * EVEBIT['c']) + EVEBIT['net_Debt']\n",
    "EVEBIT = EVEBIT.unstack(level ='insID').fillna(method ='ffill').stack(level ='insID')\n",
    "EVEBIT['EVEBIT'] = EVEBIT['EV']/EVEBIT['operating_Income']\n",
    "EVEBIT = EVEBIT.unstack(level ='d').fillna(EVEBIT.unstack(level ='d').median()).stack(level ='d')\n",
    "EVEBIT = EVEBIT['EVEBIT']"
   ]
  },
  {
   "cell_type": "code",
   "execution_count": 25,
   "metadata": {
    "scrolled": true
   },
   "outputs": [
    {
     "name": "stderr",
     "output_type": "stream",
     "text": [
      "/opt/anaconda3/lib/python3.7/site-packages/ipykernel_launcher.py:3: SettingWithCopyWarning: \n",
      "A value is trying to be set on a copy of a slice from a DataFrame.\n",
      "Try using .loc[row_indexer,col_indexer] = value instead\n",
      "\n",
      "See the caveats in the documentation: https://pandas.pydata.org/pandas-docs/stable/user_guide/indexing.html#returning-a-view-versus-a-copy\n",
      "  This is separate from the ipykernel package so we can avoid doing imports until\n"
     ]
    }
   ],
   "source": [
    "EVFCF = complete_df[['cash_Flow_For_The_Year','total_Equity','number_Of_Shares', 'c', 'net_Debt']]\n",
    "\n",
    "EVFCF['EV'] = (EVFCF['number_Of_Shares'] * EVFCF['c']) + EVFCF['net_Debt']\n",
    "EVFCF = EVFCF.unstack(level ='insID').fillna(method ='ffill').stack(level ='insID')\n",
    "EVFCF['EVFCF'] = EVFCF['EV']/EVFCF['cash_Flow_For_The_Year']\n",
    "EVFCF = EVFCF.unstack(level ='d').fillna(EVFCF.unstack(level ='d').median()).stack(level ='d')\n",
    "EVFCF = EVFCF['EVFCF']"
   ]
  },
  {
   "cell_type": "code",
   "execution_count": 33,
   "metadata": {},
   "outputs": [],
   "source": [
    "#PS\n",
    "PS_df = complete_df[['net_Sales','c', 'number_Of_Shares']]\n",
    "PS_df = PS_df.unstack(level ='insID').fillna(method ='ffill').stack(level ='insID')\n",
    "PS_df['sales_per_share'] = PS_df['net_Sales']/PS_df['number_Of_Shares']\n",
    "PS_df['PS'] = PS_df['c']/ PS_df['sales_per_share']\n",
    "PS_df = PS_df.unstack(level ='d').fillna(PS_df.unstack(level ='d').median()).stack(level ='d')\n",
    "PS_df = PS_df[['PS']]\n",
    "PS_df = PS_df.sort_index() "
   ]
  },
  {
   "cell_type": "code",
   "execution_count": null,
   "metadata": {},
   "outputs": [],
   "source": [
    "#PFCF\n"
   ]
  },
  {
   "cell_type": "code",
   "execution_count": null,
   "metadata": {},
   "outputs": [],
   "source": [
    "#Div Yield\n"
   ]
  },
  {
   "cell_type": "markdown",
   "metadata": {},
   "source": [
    "### Merge Data"
   ]
  },
  {
   "cell_type": "code",
   "execution_count": 26,
   "metadata": {},
   "outputs": [],
   "source": [
    "export_df = mcap_df.copy()\n",
    "\n",
    "export_list = [PE_df, GPA_df, asset_g_df,PB_df, EAR_date_df,EVEBIT,EVFCF,div_adj_df, ROIC_df, ROE_df, AT_df,\n",
    "              list_sector_df, rev_year, eps_year, mom_df, FCFROE_df, ROA_df]\n",
    "\n",
    "for df in export_list:\n",
    "    try:\n",
    "        export_df = export_df.join(df.swaplevel(), on=['d','insID'],how='left')\n",
    "    except:\n",
    "        export_df = export_df.join(df, on=['d','insID'],how='left')"
   ]
  },
  {
   "cell_type": "code",
   "execution_count": 27,
   "metadata": {},
   "outputs": [],
   "source": [
    "#COMPOSITE VARIABLES\n",
    "\n",
    "export_df = export_df.groupby(level='insID').apply(\n",
    "    lambda x: x.assign(EAR_std = x.EA_ret/x.volatility_60day))"
   ]
  },
  {
   "cell_type": "code",
   "execution_count": 27,
   "metadata": {},
   "outputs": [],
   "source": [
    "SAVE = 'NO'\n",
    "\n",
    "if SAVE == 'YES':\n",
    "    export_df.to_csv(\"data/VQ_data.csv\")"
   ]
  }
 ],
 "metadata": {
  "kernelspec": {
   "display_name": "Python 3",
   "language": "python",
   "name": "python3"
  },
  "language_info": {
   "codemirror_mode": {
    "name": "ipython",
    "version": 3
   },
   "file_extension": ".py",
   "mimetype": "text/x-python",
   "name": "python",
   "nbconvert_exporter": "python",
   "pygments_lexer": "ipython3",
   "version": "3.7.4"
  }
 },
 "nbformat": 4,
 "nbformat_minor": 2
}
