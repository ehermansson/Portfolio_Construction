{
 "cells": [
  {
   "cell_type": "code",
   "execution_count": 1,
   "metadata": {},
   "outputs": [],
   "source": [
    "import yfinance as yf \n",
    "import pandas as pd\n",
    "import numpy as np\n",
    "from datetime import datetime\n",
    "\n",
    "import quandl\n",
    "\n",
    "import sys\n",
    "import urllib\n",
    "import os\n",
    "from matplotlib import pylab as plt \n",
    "\n",
    "import quandl\n",
    "\n",
    "import seaborn as sns\n",
    "\n",
    "import sys\n",
    "\n",
    "from scipy.stats import norm"
   ]
  },
  {
   "cell_type": "code",
   "execution_count": 2,
   "metadata": {},
   "outputs": [],
   "source": [
    "def import_MSCI(name):\n",
    "    '''Function to clean data from MSCI\n",
    "    https://www.msci.com/end-of-day-data-country\n",
    "    '''\n",
    "    \n",
    "    \n",
    "    path = \"../Data/\" + name + \".xls\"\n",
    "    imp_tmp = pd.read_excel(path)\n",
    "    price_type = imp_tmp.loc[1][1]\n",
    "    \n",
    "    imp = imp_tmp[6:]\n",
    "    imp.columns = ['Date', name]\n",
    "    #imp['Date'] = pd.to_datetime(imp['Date'], errors='coerce')\n",
    "    imp.loc[0] = pd.to_datetime(imp['Date'], errors='coerce')\n",
    "    imp = imp.dropna()\n",
    "    \n",
    "    imp = imp.set_index('Date')\n",
    "    imp.index = imp.index.strftime('%Y/%m')\n",
    "    imp.index = pd.to_datetime(imp.index, errors='coerce')\n",
    "    \n",
    "    print(price_type)\n",
    "    \n",
    "    return(imp)\n",
    "\n",
    "#def merge_data():\n",
    "    "
   ]
  },
  {
   "cell_type": "code",
   "execution_count": 3,
   "metadata": {},
   "outputs": [],
   "source": [
    "def port_eval(port, freq = 'D'):\n",
    "    \n",
    "    port = pd.DataFrame(port)\n",
    "    port_ret = calc_port_ret(port)\n",
    "    \n",
    "    Roll_Max = port.cummax()\n",
    "    Daily_Drawdown = port/Roll_Max - 1.0\n",
    "    Max_Daily_Drawdown = Daily_Drawdown.cummin()\n",
    "    \n",
    "    Max_Daily_Drawdown = round(Max_Daily_Drawdown.tail(1),2)\n",
    "    \n",
    "    neg_ret = port_ret[port_ret<1].dropna()\n",
    "    \n",
    "    mean = np.mean(port_ret - 1)\n",
    "    std = np.std(port_ret - 1)\n",
    "    \n",
    "    alpha = 0.05\n",
    "    ES = round(alpha**-1 * norm.pdf(norm.ppf(alpha))*std - mean,3)\n",
    " \n",
    "    \n",
    "    if freq == 'D':\n",
    "        cagr = round(port_ret.cumprod().tail(1)**(252/len(port_ret)) - 1,4)\n",
    "        MAR = round(cagr/Max_Daily_Drawdown,2)\n",
    "        vol = round(np.log(port_ret).std()*np.sqrt(252),3)\n",
    "        sortino = round(np.log(neg_ret).std()*np.sqrt(252),2)\n",
    "        sortino = round(cagr/sortino,2)\n",
    "        sharpe = round(cagr/vol,2)\n",
    "        \n",
    "    elif freq == 'M':\n",
    "        cagr = round(port_ret.cumprod().tail(1)**(12/len(port_ret)) - 1,4)\n",
    "        MAR = round(cagr/Max_Daily_Drawdown,2)\n",
    "        vol = round(np.log(port_ret).std()*np.sqrt(12),3)\n",
    "        sortino = round(np.log(neg_ret).std()*np.sqrt(12),2)\n",
    "        sortino = round(cagr/sortino,2)\n",
    "        sharpe = round(cagr/vol,2)\n",
    "        \n",
    "        \n",
    "    metrics = pd.DataFrame({'': [float(cagr.iloc[0]), float(vol.iloc[0]),\n",
    "                                 float(sharpe.iloc[0]),float(sortino.iloc[0]),\n",
    "                                 float(Max_Daily_Drawdown.iloc[0]), abs(float(MAR.iloc[0]))]},\n",
    "                   index=['CAGR', 'Volatility', 'Sharpe','Sortino', 'Max DD', 'MAR'])\n",
    "    \n",
    "    return metrics "
   ]
  },
  {
   "cell_type": "code",
   "execution_count": 4,
   "metadata": {},
   "outputs": [],
   "source": [
    "def strategy_evaluation(result, data_names, freq = 'D'):\n",
    "    metrics = pd.DataFrame([])\n",
    "    \n",
    "    if freq == 'D':\n",
    "    \n",
    "        for i in result.columns:\n",
    "            metrics = pd.concat([metrics, port_eval(result[i], freq = 'D').transpose()], axis = 0)\n",
    "        metrics.index = [\"Portfolio\"] + data_names\n",
    "        \n",
    "    elif freq == 'M':\n",
    "        for i in result.columns:\n",
    "            metrics = pd.concat([metrics, port_eval(result[i], freq = 'M').transpose()], axis = 0)\n",
    "        metrics.index = [\"Portfolio\"] + data_names\n",
    "        \n",
    "    th_props = [\n",
    "  ('font-size', '11px'),\n",
    "  ('text-align', 'center'),\n",
    "  ('font-weight', 'bold'),\n",
    "  ('color', 'Black'),\n",
    "  ('background-color', '#f7f7f9')\n",
    "  ]\n",
    "\n",
    "\n",
    "    # Set CSS properties for td elements in dataframe\n",
    "    td_props = [\n",
    "      ('font-size', '11px'), ('text-align', 'center')\n",
    "      ]\n",
    "\n",
    "    # Set table styles\n",
    "    styles = [\n",
    "      dict(selector=\"th\", props=th_props),\n",
    "      dict(selector=\"td\", props=td_props)\n",
    "      ]\n",
    "\n",
    "    cm_neg_good = sns.diverging_palette(150, 10, s=80, l=70, n=len(metrics.columns), as_cmap=True)#sns.light_palette(\"green\", as_cmap=True)\n",
    "    cm_pos_good = sns.diverging_palette(10, 150, s=80, l=70, n=len(metrics.columns), as_cmap=True)\n",
    "\n",
    "    metrics = (metrics.style\n",
    "      .background_gradient(axis = 0 ,subset = ['CAGR','Max DD', 'Sharpe','MAR','Sortino' ],cmap=cm_pos_good)\n",
    "      .background_gradient(axis = 0 ,subset = ['Volatility'],cmap=cm_neg_good)\n",
    "      #.set_caption('Performance Metrics')\n",
    "      .format({'CAGR': \"{:.2%}\", 'Max DD': \"{:.2%}\", 'Volatility': \"{:.2%}\"})\n",
    "      .set_table_styles(styles))\n",
    "    \n",
    "    return metrics"
   ]
  },
  {
   "cell_type": "code",
   "execution_count": 5,
   "metadata": {},
   "outputs": [],
   "source": [
    "def calc_port_ret(port):\n",
    "    port_ret = port/port.shift(1)\n",
    "    port_ret = port_ret.fillna(1)\n",
    "    \n",
    "    return port_ret"
   ]
  },
  {
   "cell_type": "code",
   "execution_count": 6,
   "metadata": {},
   "outputs": [],
   "source": [
    "def calc_bond_returns(YTM, YTMM1, M):\n",
    "    DY = YTM - YTMM1\n",
    "    yield_income = (1+YTM)**(1/12) - 1\n",
    "    Z = (1+(YTM/2))\n",
    "    \n",
    "\n",
    "    duration = (1/YTM)* (1 -(1/(1+0.5*YTM)**(2*M)))\n",
    "\n",
    "\n",
    "    C1 = (2/YTM**2) * (1-Z**(-2*M))\n",
    "    C2 = ((2*M)/YTM) * Z **(-2*M - 1) \n",
    "    convex = C1-C2\n",
    "\n",
    "    ret = yield_income - duration* DY + (1/2)*convex * (DY**2)\n",
    "    return(ret)\n",
    "\n",
    "def monthly_bonds_ret(bond_YTM, M):\n",
    "    bond_ret = [0]\n",
    "\n",
    "   \n",
    "    \n",
    "    for i in range(len(bond_YTM)-1):\n",
    "        YTM = bond_YTM[i+1]\n",
    "        YTMM1 = bond_YTM[i]\n",
    "        \n",
    "        ret = calc_bond_returns(YTM, YTMM1, M)\n",
    "        bond_ret.append(ret)\n",
    "\n",
    "    bond_ret = pd.DataFrame(bond_ret)\n",
    "    bond_ret.index = bond_YTM.index + pd.Timedelta('1 day')\n",
    "    \n",
    "    bond_ret = (bond_ret+1).cumprod()\n",
    "    return(bond_ret)"
   ]
  },
  {
   "cell_type": "markdown",
   "metadata": {},
   "source": [
    "# Trend Followning Backtest"
   ]
  },
  {
   "cell_type": "code",
   "execution_count": 7,
   "metadata": {},
   "outputs": [],
   "source": [
    "Gold_tmp = quandl.get(\"LBMA/GOLD\", authtoken=\"6rNSyTM5R4g7_B7XSyQW\")\n",
    "Gold = pd.DataFrame(Gold_tmp[\"USD (AM)\"])\n",
    "Gold = Gold.resample('M').last()\n",
    "Gold.index = Gold.index.strftime('%Y/%m')\n",
    "Gold.index = pd.to_datetime(Gold.index, errors='coerce')"
   ]
  },
  {
   "cell_type": "code",
   "execution_count": 9,
   "metadata": {},
   "outputs": [
    {
     "name": "stdout",
     "output_type": "stream",
     "text": [
      "[*********************100%***********************]  1 of 1 completed\n"
     ]
    }
   ],
   "source": [
    "bond_5YR_tmp = yf.download('^FVX') #data import\n",
    "bond_5YR = bond_5YR_tmp['Adj Close']\n",
    "bond_5YR_monthly = bond_5YR.resample('M').last()/100\n",
    "\n",
    "bond_5YR = monthly_bonds_ret(bond_5YR_monthly, 5)\n",
    "bond_5YR.columns = ['Bond 5 Yr']"
   ]
  },
  {
   "cell_type": "code",
   "execution_count": 88,
   "metadata": {},
   "outputs": [
    {
     "name": "stdout",
     "output_type": "stream",
     "text": [
      "Gross\n",
      "Gross\n",
      "Gross\n",
      "Gross\n",
      "Gross\n",
      "Gross\n",
      "Gross\n"
     ]
    },
    {
     "name": "stderr",
     "output_type": "stream",
     "text": [
      "/opt/anaconda3/lib/python3.7/site-packages/pandas/core/indexing.py:205: SettingWithCopyWarning: \n",
      "A value is trying to be set on a copy of a slice from a DataFrame\n",
      "\n",
      "See the caveats in the documentation: http://pandas.pydata.org/pandas-docs/stable/user_guide/indexing.html#returning-a-view-versus-a-copy\n",
      "  self._setitem_with_indexer(indexer, value)\n"
     ]
    }
   ],
   "source": [
    "USA = import_MSCI('USA')\n",
    "RUSSIA = import_MSCI('RUSSIA')\n",
    "SWEDEN = import_MSCI('SWEDEN')\n",
    "Emerging_Markets = import_MSCI('Emerging_Markets')\n",
    "JAPAN = import_MSCI('JAPAN')\n",
    "PACIFIC_ex_JAPAN = import_MSCI('PACIFIC_ex_JAPAN')\n",
    "small_cap = import_MSCI('SWEDISH_SMALL')"
   ]
  },
  {
   "cell_type": "code",
   "execution_count": 119,
   "metadata": {},
   "outputs": [],
   "source": [
    "data = pd.concat([USA,SWEDEN, JAPAN, PACIFIC_ex_JAPAN, Gold, bond_5YR], axis = 1)\n",
    "data = data.dropna()\n"
   ]
  },
  {
   "cell_type": "markdown",
   "metadata": {},
   "source": [
    "### Data Wrangling"
   ]
  },
  {
   "cell_type": "code",
   "execution_count": 120,
   "metadata": {},
   "outputs": [],
   "source": [
    "top_n_assets =3\n",
    "\n",
    "\n",
    "mom_df = data.copy()\n",
    "mom3_df=mom_df.apply(lambda x:x/x.shift(3) - 1, axis=0)\n",
    "mom6_df=mom_df.apply(lambda x:x/x.shift(6) - 1, axis=0)\n",
    "mom12_df=mom_df.apply(lambda x:x/x.shift(12) - 1, axis=0)\n",
    "\n",
    "comb_mom_df=mom12_df+mom6_df+mom3_df\n",
    "\n"
   ]
  },
  {
   "cell_type": "code",
   "execution_count": 121,
   "metadata": {},
   "outputs": [],
   "source": [
    "returns_df=data.copy()\n",
    "returns_df=returns_df.apply(lambda x:x.shift(-1)/x - 1, axis=0)\n",
    "returns_df=returns_df.iloc[12:]"
   ]
  },
  {
   "cell_type": "markdown",
   "metadata": {},
   "source": [
    "### Backtest"
   ]
  },
  {
   "cell_type": "code",
   "execution_count": 122,
   "metadata": {},
   "outputs": [],
   "source": [
    "rank_df=comb_mom_df.iloc[12:].rank(axis=1,ascending=False)"
   ]
  },
  {
   "cell_type": "code",
   "execution_count": 123,
   "metadata": {},
   "outputs": [],
   "source": [
    "for col in rank_df.columns:\n",
    "    rank_df[col]=np.where(rank_df[col]<=top_n_assets, 1, 0)"
   ]
  },
  {
   "cell_type": "code",
   "execution_count": 124,
   "metadata": {},
   "outputs": [],
   "source": [
    "portf=np.multiply(rank_df,returns_df)\n",
    "portf_rets=portf.sum(axis =1)/top_n_assets\n",
    "\n",
    "portf_rets = portf_rets\n",
    "portf_rets = pd.DataFrame(portf_rets)\n",
    "portf_rets.columns = ['TF']"
   ]
  },
  {
   "cell_type": "code",
   "execution_count": 125,
   "metadata": {
    "scrolled": true
   },
   "outputs": [],
   "source": [
    "bench_ret = USA.shift(-1)/USA - 1\n",
    "\n",
    "result = pd.concat([portf_rets, bench_ret],axis = 1, sort=False)\n",
    "result = result.dropna()\n",
    "\n",
    "\n",
    "\n",
    "result_cum = result+1\n",
    "result_cum = result_cum.cumprod()\n",
    "result_cum = result_cum.astype('float64')\n",
    "\n",
    "#result"
   ]
  },
  {
   "cell_type": "markdown",
   "metadata": {},
   "source": [
    "### Result"
   ]
  },
  {
   "cell_type": "code",
   "execution_count": 126,
   "metadata": {
    "scrolled": false
   },
   "outputs": [
    {
     "data": {
      "text/html": [
       "<style  type=\"text/css\" >\n",
       "    #T_d75e3142_1d4c_11eb_9201_8c859039bca2 th {\n",
       "          font-size: 11px;\n",
       "          text-align: center;\n",
       "          font-weight: bold;\n",
       "          color: Black;\n",
       "          background-color: #f7f7f9;\n",
       "    }    #T_d75e3142_1d4c_11eb_9201_8c859039bca2 td {\n",
       "          font-size: 11px;\n",
       "          text-align: center;\n",
       "    }    #T_d75e3142_1d4c_11eb_9201_8c859039bca2row0_col0 {\n",
       "            background-color:  #4ebf8f;\n",
       "            color:  #000000;\n",
       "        }    #T_d75e3142_1d4c_11eb_9201_8c859039bca2row0_col1 {\n",
       "            background-color:  #4ebf8f;\n",
       "            color:  #000000;\n",
       "        }    #T_d75e3142_1d4c_11eb_9201_8c859039bca2row0_col2 {\n",
       "            background-color:  #4ebf8f;\n",
       "            color:  #000000;\n",
       "        }    #T_d75e3142_1d4c_11eb_9201_8c859039bca2row0_col3 {\n",
       "            background-color:  #4ebf8f;\n",
       "            color:  #000000;\n",
       "        }    #T_d75e3142_1d4c_11eb_9201_8c859039bca2row0_col4 {\n",
       "            background-color:  #4ebf8f;\n",
       "            color:  #000000;\n",
       "        }    #T_d75e3142_1d4c_11eb_9201_8c859039bca2row0_col5 {\n",
       "            background-color:  #4ebf8f;\n",
       "            color:  #000000;\n",
       "        }    #T_d75e3142_1d4c_11eb_9201_8c859039bca2row1_col0 {\n",
       "            background-color:  #f29094;\n",
       "            color:  #000000;\n",
       "        }    #T_d75e3142_1d4c_11eb_9201_8c859039bca2row1_col1 {\n",
       "            background-color:  #f29094;\n",
       "            color:  #000000;\n",
       "        }    #T_d75e3142_1d4c_11eb_9201_8c859039bca2row1_col2 {\n",
       "            background-color:  #f29094;\n",
       "            color:  #000000;\n",
       "        }    #T_d75e3142_1d4c_11eb_9201_8c859039bca2row1_col3 {\n",
       "            background-color:  #f29094;\n",
       "            color:  #000000;\n",
       "        }    #T_d75e3142_1d4c_11eb_9201_8c859039bca2row1_col4 {\n",
       "            background-color:  #f29094;\n",
       "            color:  #000000;\n",
       "        }    #T_d75e3142_1d4c_11eb_9201_8c859039bca2row1_col5 {\n",
       "            background-color:  #f29094;\n",
       "            color:  #000000;\n",
       "        }</style><table id=\"T_d75e3142_1d4c_11eb_9201_8c859039bca2\" ><thead>    <tr>        <th class=\"blank level0\" ></th>        <th class=\"col_heading level0 col0\" >CAGR</th>        <th class=\"col_heading level0 col1\" >Volatility</th>        <th class=\"col_heading level0 col2\" >Sharpe</th>        <th class=\"col_heading level0 col3\" >Sortino</th>        <th class=\"col_heading level0 col4\" >Max DD</th>        <th class=\"col_heading level0 col5\" >MAR</th>    </tr></thead><tbody>\n",
       "                <tr>\n",
       "                        <th id=\"T_d75e3142_1d4c_11eb_9201_8c859039bca2level0_row0\" class=\"row_heading level0 row0\" >Portfolio</th>\n",
       "                        <td id=\"T_d75e3142_1d4c_11eb_9201_8c859039bca2row0_col0\" class=\"data row0 col0\" >15.85%</td>\n",
       "                        <td id=\"T_d75e3142_1d4c_11eb_9201_8c859039bca2row0_col1\" class=\"data row0 col1\" >14.20%</td>\n",
       "                        <td id=\"T_d75e3142_1d4c_11eb_9201_8c859039bca2row0_col2\" class=\"data row0 col2\" >1.12</td>\n",
       "                        <td id=\"T_d75e3142_1d4c_11eb_9201_8c859039bca2row0_col3\" class=\"data row0 col3\" >1.32</td>\n",
       "                        <td id=\"T_d75e3142_1d4c_11eb_9201_8c859039bca2row0_col4\" class=\"data row0 col4\" >-24.00%</td>\n",
       "                        <td id=\"T_d75e3142_1d4c_11eb_9201_8c859039bca2row0_col5\" class=\"data row0 col5\" >0.66</td>\n",
       "            </tr>\n",
       "            <tr>\n",
       "                        <th id=\"T_d75e3142_1d4c_11eb_9201_8c859039bca2level0_row1\" class=\"row_heading level0 row1\" >benchmark</th>\n",
       "                        <td id=\"T_d75e3142_1d4c_11eb_9201_8c859039bca2row1_col0\" class=\"data row1 col0\" >10.18%</td>\n",
       "                        <td id=\"T_d75e3142_1d4c_11eb_9201_8c859039bca2row1_col1\" class=\"data row1 col1\" >15.20%</td>\n",
       "                        <td id=\"T_d75e3142_1d4c_11eb_9201_8c859039bca2row1_col2\" class=\"data row1 col2\" >0.67</td>\n",
       "                        <td id=\"T_d75e3142_1d4c_11eb_9201_8c859039bca2row1_col3\" class=\"data row1 col3\" >0.85</td>\n",
       "                        <td id=\"T_d75e3142_1d4c_11eb_9201_8c859039bca2row1_col4\" class=\"data row1 col4\" >-51.00%</td>\n",
       "                        <td id=\"T_d75e3142_1d4c_11eb_9201_8c859039bca2row1_col5\" class=\"data row1 col5\" >0.2</td>\n",
       "            </tr>\n",
       "    </tbody></table>"
      ],
      "text/plain": [
       "<pandas.io.formats.style.Styler at 0x7fd33ee70750>"
      ]
     },
     "execution_count": 126,
     "metadata": {},
     "output_type": "execute_result"
    },
    {
     "data": {
      "image/png": "[encoded data removed]",
      "text/plain": [
       "<Figure size 1440x720 with 1 Axes>"
      ]
     },
     "metadata": {},
     "output_type": "display_data"
    }
   ],
   "source": [
    "sns.set_style(\"darkgrid\");\n",
    "plt.figure(figsize=(20,10));\n",
    "for i in result_cum.columns:\n",
    "    plt.plot(result_cum[i], label = i);\n",
    "start = datetime.date(result_cum.index.min());    \n",
    "end = datetime.date(result_cum.index.max());\n",
    "plt.yscale(\"log\")\n",
    "plt.ylabel('Log Return', fontsize=18)\n",
    "plt.legend(loc=2, prop={'size': 20});\n",
    "plt.title('Backtest from ' + str(start) + ' to ' + str(end), fontsize=20)\n",
    "plt.rc('xtick',labelsize=20)\n",
    "plt.rc('ytick',labelsize=20)\n",
    "\n",
    "strategy_evaluation(result_cum,['benchmark'] , freq = 'M')"
   ]
  },
  {
   "cell_type": "code",
   "execution_count": 127,
   "metadata": {
    "scrolled": false
   },
   "outputs": [
    {
     "name": "stdout",
     "output_type": "stream",
     "text": [
      "1.7142857142857115\n"
     ]
    }
   ],
   "source": [
    "turn_over = 0\n",
    "for j in rank_df.columns:\n",
    "    for i in range(len(rank_df)-1):\n",
    "        \n",
    "        if rank_df[j][i+1]== 1 and rank_df[j][i] == 0:\n",
    "            turn_over = turn_over+(1/top_n_assets)\n",
    "turn_over = turn_over/(len(rank_df)/12)\n",
    "print(turn_over)"
   ]
  },
  {
   "cell_type": "code",
   "execution_count": 128,
   "metadata": {
    "scrolled": true
   },
   "outputs": [
    {
     "data": {
      "text/plain": [
       "<matplotlib.axes._subplots.AxesSubplot at 0x7fd33f756110>"
      ]
     },
     "execution_count": 128,
     "metadata": {},
     "output_type": "execute_result"
    },
    {
     "data": {
      "image/png": "[encoded data removed]",
      "text/plain": [
       "<Figure size 432x288 with 1 Axes>"
      ]
     },
     "metadata": {},
     "output_type": "display_data"
    }
   ],
   "source": [
    "rolling_performance = (1.+result).rolling(window=36).agg(lambda x : x.prod()).dropna()\n",
    "\n",
    "rolling_performance = rolling_performance.subtract(pd.Series(rolling_performance['USA']), axis = 0)\n",
    "\n",
    "rolling_performance.plot()"
   ]
  },
  {
   "cell_type": "markdown",
   "metadata": {},
   "source": [
    "# Test"
   ]
  },
  {
   "cell_type": "code",
   "execution_count": 49,
   "metadata": {},
   "outputs": [],
   "source": [
    "def TrendFollowing_Backtest(data,benchmark, top_N = 3):\n",
    "    if len(data.columns) < top_N:\n",
    "        print('Decrese Top_N or Increse Assets')\n",
    "    \n",
    "    else:\n",
    "        #Calculate Benchmark Return\n",
    "    \n",
    "        bench_ret = benchmark.shift(-1)/benchmark - 1\n",
    "        bench_ret = bench_ret[13:]\n",
    "        bench_ret = pd.DataFrame(bench_ret)\n",
    "        \n",
    "        #Create Momentum frames\n",
    "        mom_df = data.copy()\n",
    "        mom3_df=mom_df.apply(lambda x:x/x.shift(3) - 1, axis=0)\n",
    "        mom6_df=mom_df.apply(lambda x:x/x.shift(6) - 1, axis=0)\n",
    "        mom12_df=mom_df.apply(lambda x:x/x.shift(12) - 1, axis=0)\n",
    "\n",
    "        comb_mom_df=mom12_df+mom6_df+mom3_df\n",
    "    \n",
    "    \n",
    "        returns_df=data.copy()\n",
    "        #shifting returns back to avoid bias\n",
    "        returns_df=returns_df.apply(lambda x:x.shift(-1)/x - 1, axis=0)\n",
    "    \n",
    "        #ranking assets\n",
    "        rank_df=comb_mom_df.rank(axis=1,ascending=False)\n",
    "    \n",
    "        #all top_N assets are choosen\n",
    "        for col in rank_df.columns:\n",
    "            rank_df[col]=np.where(rank_df[col]<=top_N, 1, 0)\n",
    "    \n",
    "        \n",
    "        portf=np.multiply(rank_df,returns_df)\n",
    "        portf_rets=portf.sum(axis =1)/top_N\n",
    "    \n",
    "        portf_rets = portf_rets[13:]\n",
    "        portf_rets = pd.DataFrame(portf_rets)\n",
    "        portf_rets.columns = ['TF']\n",
    "    \n",
    "        result = pd.concat([portf_rets, bench_ret], axis = 1)\n",
    "        result = result.dropna()\n",
    "    \n",
    "    \n",
    "    \n",
    "        result = result+1\n",
    "        result = result.cumprod()\n",
    "        result = result.astype('float64')\n",
    "\n",
    "    \n",
    "        return(result)"
   ]
  },
  {
   "cell_type": "code",
   "execution_count": 50,
   "metadata": {},
   "outputs": [],
   "source": [
    "#result = TrendFollowing_Backtest(data, data['USA'], top_N = 2)"
   ]
  },
  {
   "cell_type": "code",
   "execution_count": 51,
   "metadata": {},
   "outputs": [],
   "source": [
    "#result"
   ]
  },
  {
   "cell_type": "code",
   "execution_count": null,
   "metadata": {},
   "outputs": [],
   "source": []
  },
  {
   "cell_type": "code",
   "execution_count": 52,
   "metadata": {},
   "outputs": [
    {
     "data": {
      "text/html": [
       "<div>\n",
       "<style scoped>\n",
       "    .dataframe tbody tr th:only-of-type {\n",
       "        vertical-align: middle;\n",
       "    }\n",
       "\n",
       "    .dataframe tbody tr th {\n",
       "        vertical-align: top;\n",
       "    }\n",
       "\n",
       "    .dataframe thead th {\n",
       "        text-align: right;\n",
       "    }\n",
       "</style>\n",
       "<table border=\"1\" class=\"dataframe\">\n",
       "  <thead>\n",
       "    <tr style=\"text-align: right;\">\n",
       "      <th></th>\n",
       "      <th>JAPAN</th>\n",
       "      <th>USA</th>\n",
       "      <th>SWEDEN</th>\n",
       "      <th>Emerging_Markets</th>\n",
       "      <th>PACIFIC_ex_JAPAN</th>\n",
       "      <th>USD (AM)</th>\n",
       "      <th>Bond 5 Yr</th>\n",
       "    </tr>\n",
       "  </thead>\n",
       "  <tbody>\n",
       "    <tr>\n",
       "      <td>1987-12-01</td>\n",
       "      <td>0.0539398</td>\n",
       "      <td>0.0428337</td>\n",
       "      <td>0.0985123</td>\n",
       "      <td>0.09838</td>\n",
       "      <td>-0.00966196</td>\n",
       "      <td>-0.043679</td>\n",
       "      <td>0.010722</td>\n",
       "    </tr>\n",
       "    <tr>\n",
       "      <td>1988-01-01</td>\n",
       "      <td>0.0756044</td>\n",
       "      <td>0.0418689</td>\n",
       "      <td>0.0381778</td>\n",
       "      <td>0.00339591</td>\n",
       "      <td>-0.00417911</td>\n",
       "      <td>-0.089199</td>\n",
       "      <td>0.029833</td>\n",
       "    </tr>\n",
       "    <tr>\n",
       "      <td>1988-02-01</td>\n",
       "      <td>0.0754391</td>\n",
       "      <td>-0.0334565</td>\n",
       "      <td>0.0707736</td>\n",
       "      <td>0.107385</td>\n",
       "      <td>0.121175</td>\n",
       "      <td>0.080826</td>\n",
       "      <td>0.011079</td>\n",
       "    </tr>\n",
       "    <tr>\n",
       "      <td>1988-03-01</td>\n",
       "      <td>0.0104825</td>\n",
       "      <td>0.00918364</td>\n",
       "      <td>0.0293066</td>\n",
       "      <td>0.0533815</td>\n",
       "      <td>0.0486934</td>\n",
       "      <td>-0.018013</td>\n",
       "      <td>-0.009579</td>\n",
       "    </tr>\n",
       "    <tr>\n",
       "      <td>1988-04-01</td>\n",
       "      <td>-0.0450937</td>\n",
       "      <td>0.00860268</td>\n",
       "      <td>0.027252</td>\n",
       "      <td>0.0299624</td>\n",
       "      <td>0.0709892</td>\n",
       "      <td>0.009450</td>\n",
       "      <td>-0.004891</td>\n",
       "    </tr>\n",
       "    <tr>\n",
       "      <td>...</td>\n",
       "      <td>...</td>\n",
       "      <td>...</td>\n",
       "      <td>...</td>\n",
       "      <td>...</td>\n",
       "      <td>...</td>\n",
       "      <td>...</td>\n",
       "      <td>...</td>\n",
       "    </tr>\n",
       "    <tr>\n",
       "      <td>2020-02-01</td>\n",
       "      <td>-0.0697983</td>\n",
       "      <td>-0.126836</td>\n",
       "      <td>-0.138188</td>\n",
       "      <td>-0.153771</td>\n",
       "      <td>-0.202395</td>\n",
       "      <td>-0.013343</td>\n",
       "      <td>0.021125</td>\n",
       "    </tr>\n",
       "    <tr>\n",
       "      <td>2020-03-01</td>\n",
       "      <td>0.0538817</td>\n",
       "      <td>0.131539</td>\n",
       "      <td>0.0821897</td>\n",
       "      <td>0.091768</td>\n",
       "      <td>0.117239</td>\n",
       "      <td>0.069859</td>\n",
       "      <td>0.027329</td>\n",
       "    </tr>\n",
       "    <tr>\n",
       "      <td>2020-04-01</td>\n",
       "      <td>0.0592286</td>\n",
       "      <td>0.0520172</td>\n",
       "      <td>0.0756264</td>\n",
       "      <td>0.00789326</td>\n",
       "      <td>-0.0039942</td>\n",
       "      <td>0.005184</td>\n",
       "      <td>0.001774</td>\n",
       "    </tr>\n",
       "    <tr>\n",
       "      <td>2020-05-01</td>\n",
       "      <td>9.40389e-05</td>\n",
       "      <td>0.0228186</td>\n",
       "      <td>0.0342441</td>\n",
       "      <td>0.0740262</td>\n",
       "      <td>0.080348</td>\n",
       "      <td>0.026106</td>\n",
       "      <td>0.002288</td>\n",
       "    </tr>\n",
       "    <tr>\n",
       "      <td>2020-06-01</td>\n",
       "      <td>NaN</td>\n",
       "      <td>NaN</td>\n",
       "      <td>NaN</td>\n",
       "      <td>NaN</td>\n",
       "      <td>NaN</td>\n",
       "      <td>NaN</td>\n",
       "      <td>NaN</td>\n",
       "    </tr>\n",
       "  </tbody>\n",
       "</table>\n",
       "<p>391 rows × 7 columns</p>\n",
       "</div>"
      ],
      "text/plain": [
       "                  JAPAN         USA     SWEDEN Emerging_Markets  \\\n",
       "1987-12-01    0.0539398   0.0428337  0.0985123          0.09838   \n",
       "1988-01-01    0.0756044   0.0418689  0.0381778       0.00339591   \n",
       "1988-02-01    0.0754391  -0.0334565  0.0707736         0.107385   \n",
       "1988-03-01    0.0104825  0.00918364  0.0293066        0.0533815   \n",
       "1988-04-01   -0.0450937  0.00860268   0.027252        0.0299624   \n",
       "...                 ...         ...        ...              ...   \n",
       "2020-02-01   -0.0697983   -0.126836  -0.138188        -0.153771   \n",
       "2020-03-01    0.0538817    0.131539  0.0821897         0.091768   \n",
       "2020-04-01    0.0592286   0.0520172  0.0756264       0.00789326   \n",
       "2020-05-01  9.40389e-05   0.0228186  0.0342441        0.0740262   \n",
       "2020-06-01          NaN         NaN        NaN              NaN   \n",
       "\n",
       "           PACIFIC_ex_JAPAN  USD (AM)  Bond 5 Yr  \n",
       "1987-12-01      -0.00966196 -0.043679   0.010722  \n",
       "1988-01-01      -0.00417911 -0.089199   0.029833  \n",
       "1988-02-01         0.121175  0.080826   0.011079  \n",
       "1988-03-01        0.0486934 -0.018013  -0.009579  \n",
       "1988-04-01        0.0709892  0.009450  -0.004891  \n",
       "...                     ...       ...        ...  \n",
       "2020-02-01        -0.202395 -0.013343   0.021125  \n",
       "2020-03-01         0.117239  0.069859   0.027329  \n",
       "2020-04-01       -0.0039942  0.005184   0.001774  \n",
       "2020-05-01         0.080348  0.026106   0.002288  \n",
       "2020-06-01              NaN       NaN        NaN  \n",
       "\n",
       "[391 rows x 7 columns]"
      ]
     },
     "execution_count": 52,
     "metadata": {},
     "output_type": "execute_result"
    }
   ],
   "source": [
    "returns_df"
   ]
  },
  {
   "cell_type": "code",
   "execution_count": 39,
   "metadata": {},
   "outputs": [
    {
     "data": {
      "text/html": [
       "<div>\n",
       "<style scoped>\n",
       "    .dataframe tbody tr th:only-of-type {\n",
       "        vertical-align: middle;\n",
       "    }\n",
       "\n",
       "    .dataframe tbody tr th {\n",
       "        vertical-align: top;\n",
       "    }\n",
       "\n",
       "    .dataframe thead th {\n",
       "        text-align: right;\n",
       "    }\n",
       "</style>\n",
       "<table border=\"1\" class=\"dataframe\">\n",
       "  <thead>\n",
       "    <tr style=\"text-align: right;\">\n",
       "      <th></th>\n",
       "      <th>TF</th>\n",
       "      <th>USA</th>\n",
       "    </tr>\n",
       "  </thead>\n",
       "  <tbody>\n",
       "    <tr>\n",
       "      <td>1971-01-01</td>\n",
       "      <td>1.012004</td>\n",
       "      <td>1.010692</td>\n",
       "    </tr>\n",
       "    <tr>\n",
       "      <td>1971-02-01</td>\n",
       "      <td>1.044337</td>\n",
       "      <td>1.052264</td>\n",
       "    </tr>\n",
       "    <tr>\n",
       "      <td>1971-03-01</td>\n",
       "      <td>1.092302</td>\n",
       "      <td>1.093654</td>\n",
       "    </tr>\n",
       "    <tr>\n",
       "      <td>1971-04-01</td>\n",
       "      <td>1.067825</td>\n",
       "      <td>1.051672</td>\n",
       "    </tr>\n",
       "    <tr>\n",
       "      <td>1971-05-01</td>\n",
       "      <td>1.123224</td>\n",
       "      <td>1.059401</td>\n",
       "    </tr>\n",
       "    <tr>\n",
       "      <td>...</td>\n",
       "      <td>...</td>\n",
       "      <td>...</td>\n",
       "    </tr>\n",
       "    <tr>\n",
       "      <td>2020-01-01</td>\n",
       "      <td>764.272196</td>\n",
       "      <td>114.072253</td>\n",
       "    </tr>\n",
       "    <tr>\n",
       "      <td>2020-02-01</td>\n",
       "      <td>767.245948</td>\n",
       "      <td>99.603826</td>\n",
       "    </tr>\n",
       "    <tr>\n",
       "      <td>2020-03-01</td>\n",
       "      <td>804.529562</td>\n",
       "      <td>112.705629</td>\n",
       "    </tr>\n",
       "    <tr>\n",
       "      <td>2020-04-01</td>\n",
       "      <td>807.328660</td>\n",
       "      <td>118.568261</td>\n",
       "    </tr>\n",
       "    <tr>\n",
       "      <td>2020-05-01</td>\n",
       "      <td>818.790440</td>\n",
       "      <td>121.273817</td>\n",
       "    </tr>\n",
       "  </tbody>\n",
       "</table>\n",
       "<p>593 rows × 2 columns</p>\n",
       "</div>"
      ],
      "text/plain": [
       "                    TF         USA\n",
       "1971-01-01    1.012004    1.010692\n",
       "1971-02-01    1.044337    1.052264\n",
       "1971-03-01    1.092302    1.093654\n",
       "1971-04-01    1.067825    1.051672\n",
       "1971-05-01    1.123224    1.059401\n",
       "...                ...         ...\n",
       "2020-01-01  764.272196  114.072253\n",
       "2020-02-01  767.245948   99.603826\n",
       "2020-03-01  804.529562  112.705629\n",
       "2020-04-01  807.328660  118.568261\n",
       "2020-05-01  818.790440  121.273817\n",
       "\n",
       "[593 rows x 2 columns]"
      ]
     },
     "execution_count": 39,
     "metadata": {},
     "output_type": "execute_result"
    }
   ],
   "source": [
    "result"
   ]
  },
  {
   "cell_type": "code",
   "execution_count": null,
   "metadata": {},
   "outputs": [],
   "source": []
  }
 ],
 "metadata": {
  "kernelspec": {
   "display_name": "Python 3",
   "language": "python",
   "name": "python3"
  },
  "language_info": {
   "codemirror_mode": {
    "name": "ipython",
    "version": 3
   },
   "file_extension": ".py",
   "mimetype": "text/x-python",
   "name": "python",
   "nbconvert_exporter": "python",
   "pygments_lexer": "ipython3",
   "version": "3.7.4"
  }
 },
 "nbformat": 4,
 "nbformat_minor": 2
}
