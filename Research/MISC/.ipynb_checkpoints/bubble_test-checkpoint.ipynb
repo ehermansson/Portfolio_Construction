{
 "cells": [
  {
   "cell_type": "code",
   "execution_count": 3,
   "metadata": {},
   "outputs": [],
   "source": [
    "from datetime import datetime\n",
    "from matplotlib import pyplot as plt\n",
    "from multiprocessing import cpu_count\n",
    "from lppls import lppls\n",
    "import numpy as np\n",
    "from os.path import exists\n",
    "import pandas as pd\n",
    "import time\n",
    "import yfinance as yf\n",
    "#from utils import plotting as plt_u # import utility functions for plotting \n",
    "import utils\n",
    "%matplotlib inline"
   ]
  },
  {
   "cell_type": "code",
   "execution_count": 4,
   "metadata": {},
   "outputs": [],
   "source": [
    "START = '2004-01-30'\n",
    "END = '2021-11-24'\n",
    "LOOKBACK = 21 * 6 # 21 days in a trading month\n",
    "UNIVERSE_CSV = 'data/universeVolQ.csv'\n",
    "LPPLS_CONF_CSV = 'data/confidence.csv'\n",
    "CPU_CORES = max(1, cpu_count() // 2)  # only let the LPPLS number cruncher use half the available cores\n",
    "POS_BUBBLE_THRESHOLD = 0.08\n",
    "NEG_BUBBLE_THRESHOLD = -0.02\n",
    "MAX_VIX_RATIO_THRESHOLD = 1.1\n",
    "MIN_VIX_RATIO_THRESHOLD = 0.9\n",
    "MAX_VIX = 35"
   ]
  },
  {
   "cell_type": "code",
   "execution_count": 5,
   "metadata": {
    "scrolled": true
   },
   "outputs": [
    {
     "name": "stdout",
     "output_type": "stream",
     "text": [
      "fetch data from Yahoo! Finance\n",
      "[*********************100%***********************]  1 of 1 completed\n",
      "[*********************100%***********************]  1 of 1 completed\n",
      "[*********************100%***********************]  1 of 1 completed\n",
      "[*********************100%***********************]  1 of 1 completed\n",
      "[*********************100%***********************]  1 of 1 completed\n",
      "[*********************100%***********************]  1 of 1 completed\n",
      "[*********************100%***********************]  1 of 1 completed\n",
      "[*********************100%***********************]  1 of 1 completed\n",
      "[*********************100%***********************]  1 of 1 completed\n",
      "[*********************100%***********************]  1 of 1 completed\n",
      "[*********************100%***********************]  1 of 1 completed\n",
      "[*********************100%***********************]  1 of 1 completed\n",
      "[*********************100%***********************]  1 of 1 completed\n",
      "[*********************100%***********************]  1 of 1 completed\n",
      "[*********************100%***********************]  1 of 1 completed\n",
      "[*********************100%***********************]  1 of 1 completed\n",
      "[*********************100%***********************]  1 of 1 completed\n",
      "[*********************100%***********************]  1 of 1 completed\n",
      "[*********************100%***********************]  1 of 1 completed\n",
      "[*********************100%***********************]  1 of 1 completed\n",
      "[*********************100%***********************]  1 of 1 completed\n",
      "[*********************100%***********************]  1 of 1 completed\n",
      "[*********************100%***********************]  1 of 1 completed\n",
      "[*********************100%***********************]  1 of 1 completed\n",
      "[*********************100%***********************]  1 of 1 completed\n",
      "[*********************100%***********************]  1 of 1 completed\n",
      "[*********************100%***********************]  1 of 1 completed\n",
      "[*********************100%***********************]  1 of 1 completed\n",
      "[*********************100%***********************]  1 of 1 completed\n",
      "[*********************100%***********************]  1 of 1 completed\n",
      "[*********************100%***********************]  1 of 1 completed\n",
      "[*********************100%***********************]  1 of 1 completed\n"
     ]
    }
   ],
   "source": [
    "tickers = ['TLT', 'VTI', 'VTV', 'VBR', 'AGG', '^VIX', '^VIX3M', 'SPY'] \n",
    "\n",
    "shorts = ['TLT', 'EMB', 'IWM', 'DIA', 'SPY', 'EEM', 'VGK', 'REM', 'VNQ', 'DMC', 'GSG', 'GDX', 'BITO', 'LQD', 'IGSB', 'HYG']\n",
    "longs = ['IEI', 'SHY', 'BIL', 'UUP', 'FXF', 'FXY', 'VXX', 'GLD']\n",
    "\n",
    "portfolioVolQ = longs + shorts\n",
    "\n",
    "portfolioVolQwReturnString = [f'{col} Returns' for col in portfolioVolQ]\n",
    "\n",
    "if not exists(UNIVERSE_CSV):\n",
    "    print('fetch data from Yahoo! Finance')\n",
    "    adj_close_list = []\n",
    "    for ticker in tickers + portfolioVolQ:\n",
    "        ticker_module = yf.Ticker(ticker)\n",
    "        data = yf.download(ticker, start=START, end=END)\n",
    "        adj_close = data['Adj Close']\n",
    "        adj_close.rename(f'{ticker} Adj Close', inplace=True)\n",
    "        adj_close_list.append(adj_close)\n",
    "    # combine all dataframes into a single dataframe\n",
    "    df_adj_close = pd.concat(adj_close_list, axis=1)\n",
    "    df_adj_close.to_csv(UNIVERSE_CSV)\n",
    "else:\n",
    "    print('load data from cache')\n",
    "    df_adj_close = pd.read_csv(UNIVERSE_CSV, index_col='Date', parse_dates=True)"
   ]
  },
  {
   "cell_type": "code",
   "execution_count": 6,
   "metadata": {},
   "outputs": [
    {
     "data": {
      "image/png": "[encoded data removed]",
      "text/plain": [
       "<Figure size 864x432 with 1 Axes>"
      ]
     },
     "metadata": {
      "needs_background": "light"
     },
     "output_type": "display_data"
    },
    {
     "name": "stdout",
     "output_type": "stream",
     "text": [
      "Benchmark Cumulative Returns: 323.65%\n"
     ]
    }
   ],
   "source": [
    "RISK_FREE_RATE = 0\n",
    "\n",
    "# get daily returns and change col names\n",
    "df_pct_change = df_adj_close.pct_change().fillna(0)\n",
    "df_pct_change.columns = [col.replace(' Adj Close', ' Returns') for col in df_pct_change.columns]\n",
    "\n",
    "# call it df_D, D for Daily\n",
    "df_D = df_pct_change\n",
    "\n",
    "# create a 60/40 benchmark to compare portfolio returns against through out analysis.\n",
    "df_D['Benchmark Returns'] = (\n",
    "    (0.6 * df_D['VTI Returns']) + (0.4 * df_D['AGG Returns'])\n",
    ")\n",
    "# df_D['Benchmark Returns'] = (df_D['SPY Returns'])\n",
    "\n",
    "# visualize the portfolio v benchmark\n",
    "(((1+df_D['Benchmark Returns']).cumprod()-1)*100).plot(\n",
    "    figsize=(12,6),\n",
    "    title='Benchmark Cumulative Returns'\n",
    ")\n",
    "plt.ylabel('%')\n",
    "plt.grid()\n",
    "plt.xticks(rotation=45)\n",
    "plt.show()\n",
    "benchmark_cumulative_return = round(((1+df_D['Benchmark Returns']).cumprod()[-1]-1)*100, 2)\n",
    "print(f'Benchmark Cumulative Returns: {benchmark_cumulative_return}%')"
   ]
  },
  {
   "cell_type": "code",
   "execution_count": 8,
   "metadata": {},
   "outputs": [],
   "source": [
    "# convert Date to ordinal, that's what the LPPLS model wants - it's a neat trick for curve-fitting with time-series\n",
    "time_ord = [pd.Timestamp.toordinal(t1) for t1 in df_adj_close.index]\n",
    "\n",
    "# create list of observation data\n",
    "price = np.log(df_adj_close['VTI Adj Close'].values)\n",
    "\n",
    "# create observations array (expected format for LPPLS observations)\n",
    "observations = np.array([time_ord, price])\n",
    "\n",
    "# set the max number for searches to perform before giving-up\n",
    "# the literature suggests 25\n",
    "MAX_SEARCHES = 25\n",
    "\n",
    "# instantiate a new LPPLS model with the VTI data\n",
    "lppls_model = lppls.LPPLS(observations=observations)\n",
    "\n"
   ]
  },
  {
   "cell_type": "code",
   "execution_count": 9,
   "metadata": {},
   "outputs": [
    {
     "name": "stdout",
     "output_type": "stream",
     "text": [
      "compute LPPLS conf scores fresh\n"
     ]
    },
    {
     "name": "stderr",
     "output_type": "stream",
     "text": [
      "  5%|▍         | 197/4111 [20:00<4:14:01,  3.89s/it]Process ForkPoolWorker-2:\n",
      "Process ForkPoolWorker-1:\n"
     ]
    },
    {
     "ename": "KeyboardInterrupt",
     "evalue": "",
     "output_type": "error",
     "traceback": [
      "\u001b[0;31m---------------------------------------------------------------------------\u001b[0m",
      "\u001b[0;31mIndexError\u001b[0m                                Traceback (most recent call last)",
      "\u001b[0;32m/opt/anaconda3/lib/python3.7/multiprocessing/pool.py\u001b[0m in \u001b[0;36mnext\u001b[0;34m(self, timeout)\u001b[0m\n\u001b[1;32m    732\u001b[0m             \u001b[0;32mtry\u001b[0m\u001b[0;34m:\u001b[0m\u001b[0;34m\u001b[0m\u001b[0;34m\u001b[0m\u001b[0m\n\u001b[0;32m--> 733\u001b[0;31m                 \u001b[0mitem\u001b[0m \u001b[0;34m=\u001b[0m \u001b[0mself\u001b[0m\u001b[0;34m.\u001b[0m\u001b[0m_items\u001b[0m\u001b[0;34m.\u001b[0m\u001b[0mpopleft\u001b[0m\u001b[0;34m(\u001b[0m\u001b[0;34m)\u001b[0m\u001b[0;34m\u001b[0m\u001b[0;34m\u001b[0m\u001b[0m\n\u001b[0m\u001b[1;32m    734\u001b[0m             \u001b[0;32mexcept\u001b[0m \u001b[0mIndexError\u001b[0m\u001b[0;34m:\u001b[0m\u001b[0;34m\u001b[0m\u001b[0;34m\u001b[0m\u001b[0m\n",
      "\u001b[0;31mIndexError\u001b[0m: pop from an empty deque",
      "\nDuring handling of the above exception, another exception occurred:\n",
      "\u001b[0;31mKeyboardInterrupt\u001b[0m                         Traceback (most recent call last)",
      "\u001b[0;32m<ipython-input-9-22a0e6f83911>\u001b[0m in \u001b[0;36m<module>\u001b[0;34m\u001b[0m\n\u001b[1;32m      9\u001b[0m         \u001b[0mouter_increment\u001b[0m\u001b[0;34m=\u001b[0m\u001b[0;36m1\u001b[0m\u001b[0;34m,\u001b[0m\u001b[0;34m\u001b[0m\u001b[0;34m\u001b[0m\u001b[0m\n\u001b[1;32m     10\u001b[0m         \u001b[0minner_increment\u001b[0m\u001b[0;34m=\u001b[0m\u001b[0;36m5\u001b[0m\u001b[0;34m,\u001b[0m\u001b[0;34m\u001b[0m\u001b[0;34m\u001b[0m\u001b[0m\n\u001b[0;32m---> 11\u001b[0;31m         \u001b[0mmax_searches\u001b[0m\u001b[0;34m=\u001b[0m\u001b[0;36m25\u001b[0m\u001b[0;34m,\u001b[0m\u001b[0;34m\u001b[0m\u001b[0;34m\u001b[0m\u001b[0m\n\u001b[0m\u001b[1;32m     12\u001b[0m         \u001b[0;31m# filter_conditions_config={} # not implemented in 0.6.x\u001b[0m\u001b[0;34m\u001b[0m\u001b[0;34m\u001b[0m\u001b[0;34m\u001b[0m\u001b[0m\n\u001b[1;32m     13\u001b[0m     )\n",
      "\u001b[0;32m/opt/anaconda3/lib/python3.7/site-packages/lppls/lppls.py\u001b[0m in \u001b[0;36mmp_compute_nested_fits\u001b[0;34m(self, workers, window_size, smallest_window_size, outer_increment, inner_increment, max_searches, filter_conditions_config)\u001b[0m\n\u001b[1;32m    426\u001b[0m \u001b[0;34m\u001b[0m\u001b[0m\n\u001b[1;32m    427\u001b[0m         \u001b[0;32mwith\u001b[0m \u001b[0mPool\u001b[0m\u001b[0;34m(\u001b[0m\u001b[0mprocesses\u001b[0m\u001b[0;34m=\u001b[0m\u001b[0mworkers\u001b[0m\u001b[0;34m)\u001b[0m \u001b[0;32mas\u001b[0m \u001b[0mpool\u001b[0m\u001b[0;34m:\u001b[0m\u001b[0;34m\u001b[0m\u001b[0;34m\u001b[0m\u001b[0m\n\u001b[0;32m--> 428\u001b[0;31m             \u001b[0mself\u001b[0m\u001b[0;34m.\u001b[0m\u001b[0mindicator_result\u001b[0m \u001b[0;34m=\u001b[0m \u001b[0mlist\u001b[0m\u001b[0;34m(\u001b[0m\u001b[0mtqdm\u001b[0m\u001b[0;34m(\u001b[0m\u001b[0mpool\u001b[0m\u001b[0;34m.\u001b[0m\u001b[0mimap\u001b[0m\u001b[0;34m(\u001b[0m\u001b[0mfunc\u001b[0m\u001b[0;34m,\u001b[0m \u001b[0mfunc_arg_map\u001b[0m\u001b[0;34m)\u001b[0m\u001b[0;34m,\u001b[0m \u001b[0mtotal\u001b[0m\u001b[0;34m=\u001b[0m\u001b[0mlen\u001b[0m\u001b[0;34m(\u001b[0m\u001b[0mfunc_arg_map\u001b[0m\u001b[0;34m)\u001b[0m\u001b[0;34m)\u001b[0m\u001b[0;34m)\u001b[0m\u001b[0;34m\u001b[0m\u001b[0;34m\u001b[0m\u001b[0m\n\u001b[0m\u001b[1;32m    429\u001b[0m \u001b[0;34m\u001b[0m\u001b[0m\n\u001b[1;32m    430\u001b[0m         \u001b[0;32mreturn\u001b[0m \u001b[0mself\u001b[0m\u001b[0;34m.\u001b[0m\u001b[0mindicator_result\u001b[0m\u001b[0;34m\u001b[0m\u001b[0;34m\u001b[0m\u001b[0m\n",
      "\u001b[0;32m/opt/anaconda3/lib/python3.7/site-packages/tqdm/std.py\u001b[0m in \u001b[0;36m__iter__\u001b[0;34m(self)\u001b[0m\n\u001b[1;32m   1079\u001b[0m             \"\"\"), fp_write=getattr(self.fp, 'write', sys.stderr.write))\n\u001b[1;32m   1080\u001b[0m \u001b[0;34m\u001b[0m\u001b[0m\n\u001b[0;32m-> 1081\u001b[0;31m         \u001b[0;32mfor\u001b[0m \u001b[0mobj\u001b[0m \u001b[0;32min\u001b[0m \u001b[0miterable\u001b[0m\u001b[0;34m:\u001b[0m\u001b[0;34m\u001b[0m\u001b[0;34m\u001b[0m\u001b[0m\n\u001b[0m\u001b[1;32m   1082\u001b[0m             \u001b[0;32myield\u001b[0m \u001b[0mobj\u001b[0m\u001b[0;34m\u001b[0m\u001b[0;34m\u001b[0m\u001b[0m\n\u001b[1;32m   1083\u001b[0m             \u001b[0;31m# Update and possibly print the progressbar.\u001b[0m\u001b[0;34m\u001b[0m\u001b[0;34m\u001b[0m\u001b[0;34m\u001b[0m\u001b[0m\n",
      "\u001b[0;32m/opt/anaconda3/lib/python3.7/multiprocessing/pool.py\u001b[0m in \u001b[0;36mnext\u001b[0;34m(self, timeout)\u001b[0m\n\u001b[1;32m    735\u001b[0m                 \u001b[0;32mif\u001b[0m \u001b[0mself\u001b[0m\u001b[0;34m.\u001b[0m\u001b[0m_index\u001b[0m \u001b[0;34m==\u001b[0m \u001b[0mself\u001b[0m\u001b[0;34m.\u001b[0m\u001b[0m_length\u001b[0m\u001b[0;34m:\u001b[0m\u001b[0;34m\u001b[0m\u001b[0;34m\u001b[0m\u001b[0m\n\u001b[1;32m    736\u001b[0m                     \u001b[0;32mraise\u001b[0m \u001b[0mStopIteration\u001b[0m \u001b[0;32mfrom\u001b[0m \u001b[0;32mNone\u001b[0m\u001b[0;34m\u001b[0m\u001b[0;34m\u001b[0m\u001b[0m\n\u001b[0;32m--> 737\u001b[0;31m                 \u001b[0mself\u001b[0m\u001b[0;34m.\u001b[0m\u001b[0m_cond\u001b[0m\u001b[0;34m.\u001b[0m\u001b[0mwait\u001b[0m\u001b[0;34m(\u001b[0m\u001b[0mtimeout\u001b[0m\u001b[0;34m)\u001b[0m\u001b[0;34m\u001b[0m\u001b[0;34m\u001b[0m\u001b[0m\n\u001b[0m\u001b[1;32m    738\u001b[0m                 \u001b[0;32mtry\u001b[0m\u001b[0;34m:\u001b[0m\u001b[0;34m\u001b[0m\u001b[0;34m\u001b[0m\u001b[0m\n\u001b[1;32m    739\u001b[0m                     \u001b[0mitem\u001b[0m \u001b[0;34m=\u001b[0m \u001b[0mself\u001b[0m\u001b[0;34m.\u001b[0m\u001b[0m_items\u001b[0m\u001b[0;34m.\u001b[0m\u001b[0mpopleft\u001b[0m\u001b[0;34m(\u001b[0m\u001b[0;34m)\u001b[0m\u001b[0;34m\u001b[0m\u001b[0;34m\u001b[0m\u001b[0m\n",
      "\u001b[0;32m/opt/anaconda3/lib/python3.7/threading.py\u001b[0m in \u001b[0;36mwait\u001b[0;34m(self, timeout)\u001b[0m\n\u001b[1;32m    294\u001b[0m         \u001b[0;32mtry\u001b[0m\u001b[0;34m:\u001b[0m    \u001b[0;31m# restore state no matter what (e.g., KeyboardInterrupt)\u001b[0m\u001b[0;34m\u001b[0m\u001b[0;34m\u001b[0m\u001b[0m\n\u001b[1;32m    295\u001b[0m             \u001b[0;32mif\u001b[0m \u001b[0mtimeout\u001b[0m \u001b[0;32mis\u001b[0m \u001b[0;32mNone\u001b[0m\u001b[0;34m:\u001b[0m\u001b[0;34m\u001b[0m\u001b[0;34m\u001b[0m\u001b[0m\n\u001b[0;32m--> 296\u001b[0;31m                 \u001b[0mwaiter\u001b[0m\u001b[0;34m.\u001b[0m\u001b[0macquire\u001b[0m\u001b[0;34m(\u001b[0m\u001b[0;34m)\u001b[0m\u001b[0;34m\u001b[0m\u001b[0;34m\u001b[0m\u001b[0m\n\u001b[0m\u001b[1;32m    297\u001b[0m                 \u001b[0mgotit\u001b[0m \u001b[0;34m=\u001b[0m \u001b[0;32mTrue\u001b[0m\u001b[0;34m\u001b[0m\u001b[0;34m\u001b[0m\u001b[0m\n\u001b[1;32m    298\u001b[0m             \u001b[0;32melse\u001b[0m\u001b[0;34m:\u001b[0m\u001b[0;34m\u001b[0m\u001b[0;34m\u001b[0m\u001b[0m\n",
      "\u001b[0;31mKeyboardInterrupt\u001b[0m: "
     ]
    }
   ],
   "source": [
    "# compute the indicators and cache the result\n",
    "if not exists(LPPLS_CONF_CSV):\n",
    "    print('compute LPPLS conf scores fresh')\n",
    "    # compute the confidence indicator\n",
    "    res = lppls_model.mp_compute_nested_fits(\n",
    "        workers=CPU_CORES,\n",
    "        window_size=126*3, \n",
    "        smallest_window_size=21, \n",
    "        outer_increment=1, \n",
    "        inner_increment=5, \n",
    "        max_searches=25,\n",
    "        # filter_conditions_config={} # not implemented in 0.6.x\n",
    "    )\n",
    "    res_df = lppls_model.compute_indicators(res)\n",
    "    res_df['time'] = [pd.Timestamp.fromordinal(int(t1)) for t1 in res_df['time']]\n",
    "    res_df.set_index('time', inplace=True)\n",
    "    res_df.to_csv(LPPLS_CONF_CSV)\n",
    "else:\n",
    "    print('load LPPLS conf scores from cache')\n",
    "    res_df = pd.read_csv(LPPLS_CONF_CSV, index_col='time', parse_dates=True)\n",
    "    \n",
    "# visualize the conf indicator   \n",
    "plt_u.plot_pos_confidence_indicators(res_df)"
   ]
  },
  {
   "cell_type": "code",
   "execution_count": null,
   "metadata": {},
   "outputs": [],
   "source": []
  }
 ],
 "metadata": {
  "kernelspec": {
   "display_name": "Python 3",
   "language": "python",
   "name": "python3"
  },
  "language_info": {
   "codemirror_mode": {
    "name": "ipython",
    "version": 3
   },
   "file_extension": ".py",
   "mimetype": "text/x-python",
   "name": "python",
   "nbconvert_exporter": "python",
   "pygments_lexer": "ipython3",
   "version": "3.7.4"
  }
 },
 "nbformat": 4,
 "nbformat_minor": 2
}
