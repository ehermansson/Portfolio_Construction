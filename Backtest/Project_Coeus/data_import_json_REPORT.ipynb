{
 "cells": [
  {
   "cell_type": "code",
   "execution_count": 26,
   "metadata": {},
   "outputs": [],
   "source": [
    "from requests import get\n",
    "from json import loads\n",
    "from time import sleep\n",
    "from typing import List\n",
    "from borsdata_sdk.models.Instrument import Instrument\n",
    "from borsdata_sdk.models.Market import Market\n",
    "import pandas as pd\n",
    "from http import HTTPStatus\n",
    "from borsdata_sdk import BorsdataAPI\n",
    "import borsdata_sdk\n",
    "import requests\n",
    "from pandas.io.json import json_normalize\n",
    "import numpy as np"
   ]
  },
  {
   "cell_type": "code",
   "execution_count": 27,
   "metadata": {},
   "outputs": [],
   "source": [
    "auth_key = 'f4e8e3c7c46c4c34ae238a1822863410'\n",
    "\n",
    "RATE_LIMIT = 429\n",
    "borsdata = BorsdataAPI(auth_key)\n",
    "instruments = borsdata.get_instruments()"
   ]
  },
  {
   "cell_type": "code",
   "execution_count": 28,
   "metadata": {},
   "outputs": [],
   "source": [
    "my_list = []\n",
    "for i in range(len(instruments)):\n",
    "    tmp_list = [instruments[i].insId,instruments[i].name,instruments[i].countryId,instruments[i].sectorId,instruments[i].marketId,instruments[i].instrument]\n",
    "    my_list.append(tmp_list)\n",
    "\n",
    "instruments_df=pd.DataFrame(my_list,columns=['insID','Name','countryId','sectorId', 'marketId', 'instrument']) \n",
    "\n",
    "# Rename the lists to the real names\n",
    "# MarketId: 1 = Large Cap, 2 = Mid Cap, 3=Small Cap, 4=First North\n",
    "\n",
    "swe_stock_main = instruments_df[(instruments_df['countryId'] == 1) & (instruments_df['instrument'] == 0) & (instruments_df['marketId'].isin([1,2,3, 4]))]"
   ]
  },
  {
   "cell_type": "markdown",
   "metadata": {},
   "source": [
    "### TEST WITH JSON\n",
    "\n",
    "- stack reports"
   ]
  },
  {
   "cell_type": "code",
   "execution_count": 29,
   "metadata": {},
   "outputs": [],
   "source": [
    "#URL = \"https://apiservice.borsdata.se/v1/instruments/2/reports?authKey=f4e8e3c7c46c4c34ae238a1822863410&maxQuarterCount=40\"\n",
    "#response = requests.get(URL)\n",
    "#tmp_df = json_normalize(response.json(), record_path ='reportsR12')"
   ]
  },
  {
   "cell_type": "code",
   "execution_count": 30,
   "metadata": {},
   "outputs": [],
   "source": [
    "REPORTS_df = pd.DataFrame()\n",
    "\n",
    "for ins in swe_stock_main['insID'].values:\n",
    "    sleep(1) \n",
    "    \n",
    "    #q_URL = \"https://apiservice.borsdata.se/v1/instruments/\"+str(ins)+\"/reports?authKey=f4e8e3c7c46c4c34ae238a1822863410&maxQuarterCount=40\"\n",
    "    y_URL = \"https://apiservice.borsdata.se/v1/instruments/\"+str(ins)+\"/reports?authKey=f4e8e3c7c46c4c34ae238a1822863410&maxYearCount=40\"\n",
    "    r12_URL = \"https://apiservice.borsdata.se/v1/instruments/\"+str(ins)+\"/reports?authKey=f4e8e3c7c46c4c34ae238a1822863410&maxR12Count=40\"\n",
    "    #q_response = requests.get(q_URL)\n",
    "    y_response = requests.get(y_URL)\n",
    "    r12_response = requests.get(r12_URL)\n",
    "\n",
    "    R12_tmp = pd.json_normalize(r12_response.json(), record_path ='reportsR12')\n",
    "    #if report date is missing, set first day of next year\n",
    "    R12_tmp.loc[R12_tmp['report_Date'].isna(),'report_Date'] = pd.to_datetime(R12_tmp[R12_tmp['report_Date'].isna()]['year']+1,format=\"%Y\")\n",
    "    \n",
    "    R12_tmp['report_Date'] = pd.to_datetime(R12_tmp['report_Date'])\n",
    "    R12_tmp['d'] = pd.to_datetime(R12_tmp['report_Date'])\n",
    "    R12_tmp['insID'] = ins\n",
    "    R12_tmp = R12_tmp.set_index(['d', 'insID'])\n",
    "    \n",
    "    yearly_tmp = pd.json_normalize(y_response.json(), record_path ='reportsYear')\n",
    "    \n",
    "    #if report date is missing, set first day of next year\n",
    "    yearly_tmp.loc[yearly_tmp['report_Date'].isna(),'report_Date'] = pd.to_datetime(yearly_tmp[yearly_tmp['report_Date'].isna()]['year']+1,format=\"%Y\")\n",
    "    \n",
    "    yearly_tmp['report_Date'] = pd.to_datetime(yearly_tmp['report_Date'])\n",
    "    yearly_tmp['d'] = pd.to_datetime(yearly_tmp['report_Date'])\n",
    "    yearly_tmp['insID'] = ins\n",
    "    yearly_tmp = yearly_tmp.set_index(['d', 'insID'])\n",
    "    \n",
    "    #quarter_tmp = pd.json_normalize(q_response.json(), record_path ='reportsYear')\n",
    "    \n",
    "    #if report date is missing, set first day of next year\n",
    "    #quarter_tmp.loc[quarter_tmp['report_Date'].isna(),'report_Date'] = pd.to_datetime(quarter_tmp[quarter_tmp['report_Date'].isna()]['year']+1,format=\"%Y\")\n",
    "    \n",
    "    #quarter_tmp['report_Date'] = pd.to_datetime(quarter_tmp['report_Date'])\n",
    "    #quarter_tmp['d'] = pd.to_datetime(quarter_tmp['report_Date'])\n",
    "    #quarter_tmp['insID'] = ins\n",
    "    #quarter_tmp = quarter_tmp.set_index(['d', 'insID'])\n",
    "    #quarter_tmp.columns = quarter_tmp.columns + \"_quarter\"\n",
    "    \n",
    "    #full_report_tmp = pd.concat([R12_tmp,yearly_tmp, quarter_tmp], sort=True)\n",
    "    \n",
    "    full_report_tmp = pd.concat([R12_tmp,yearly_tmp], sort=True).sort_index()\n",
    "    full_report_tmp = full_report_tmp[~full_report_tmp.index.duplicated(keep='first')]\n",
    "    \n",
    "    REPORTS_df = pd.concat([REPORTS_df,full_report_tmp], sort=True) \n",
    "    \n",
    "REPORTS_df = REPORTS_df.sort_index() "
   ]
  },
  {
   "cell_type": "code",
   "execution_count": 31,
   "metadata": {},
   "outputs": [],
   "source": [
    "SAVE = 'YES'\n",
    "\n",
    "if SAVE == 'YES':\n",
    "    REPORTS_df.to_csv(\"data/SWE_REPORTS.csv\")"
   ]
  },
  {
   "cell_type": "code",
   "execution_count": 23,
   "metadata": {},
   "outputs": [
    {
     "name": "stderr",
     "output_type": "stream",
     "text": [
      "/opt/anaconda3/lib/python3.7/site-packages/ipykernel_launcher.py:3: FutureWarning: pandas.io.json.json_normalize is deprecated, use pandas.json_normalize instead\n",
      "  This is separate from the ipykernel package so we can avoid doing imports until\n"
     ]
    }
   ],
   "source": [
    "r12_URL = \"https://apiservice.borsdata.se/v1/instruments/\"+str(2)+\"/reports?authKey=f4e8e3c7c46c4c34ae238a1822863410&maxR12Count=40\"\n",
    "r12_response = requests.get(r12_URL)\n",
    "R12_tmp = json_normalize(r12_response.json(), record_path ='reportsR12')\n",
    "R12_tmp['report_Date'] = pd.to_datetime(R12_tmp['report_Date'])\n",
    "R12_tmp['Report Type'] = 'R12'\n",
    "\n",
    "R12_tmp['d'] = pd.to_datetime(R12_tmp['report_Date'])\n",
    "R12_tmp['insID'] = ins\n",
    "R12_tmp = R12_tmp.set_index(['d', 'insID'])\n",
    "  \n",
    "\n",
    "\n",
    "y_URL = \"https://apiservice.borsdata.se/v1/instruments/\"+str(2)+\"/reports?authKey=f4e8e3c7c46c4c34ae238a1822863410&maxYearCount=40\"\n",
    "y_response = requests.get(y_URL)\n",
    "yearly_tmp = pd.json_normalize(y_response.json(), record_path ='reportsYear')\n",
    "\n",
    "\n",
    "#if report date is missing, set first day of next year\n",
    "yearly_tmp.loc[yearly_tmp['report_Date'].isna(),'report_Date'] = pd.to_datetime(yearly_tmp[yearly_tmp['report_Date'].isna()]['year']+1,format=\"%Y\")\n",
    "    \n",
    "yearly_tmp['report_Date'] = pd.to_datetime(yearly_tmp['report_Date'])\n",
    "yearly_tmp['Report Type'] = 'Y'\n",
    "\n",
    "yearly_tmp['d'] = pd.to_datetime(yearly_tmp['report_Date'])\n",
    "yearly_tmp['insID'] = ins\n",
    "yearly_tmp = yearly_tmp.set_index(['d', 'insID'])\n",
    "\n",
    "\n",
    "\n",
    "full_report_tmp = pd.concat([R12_tmp,yearly_tmp], sort=True).sort_index()\n"
   ]
  }
 ],
 "metadata": {
  "kernelspec": {
   "display_name": "Python 3",
   "language": "python",
   "name": "python3"
  },
  "language_info": {
   "codemirror_mode": {
    "name": "ipython",
    "version": 3
   },
   "file_extension": ".py",
   "mimetype": "text/x-python",
   "name": "python",
   "nbconvert_exporter": "python",
   "pygments_lexer": "ipython3",
   "version": "3.7.4"
  }
 },
 "nbformat": 4,
 "nbformat_minor": 2
}
