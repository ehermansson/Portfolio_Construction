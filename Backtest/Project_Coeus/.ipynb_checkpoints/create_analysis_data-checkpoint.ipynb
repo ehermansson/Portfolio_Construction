{
 "cells": [
  {
   "cell_type": "code",
   "execution_count": 123,
   "metadata": {},
   "outputs": [],
   "source": [
    "import pandas as pd\n",
    "from scipy.stats import zscore\n",
    "import matplotlib.pyplot as plt\n",
    "import numpy as np"
   ]
  },
  {
   "cell_type": "code",
   "execution_count": 168,
   "metadata": {},
   "outputs": [],
   "source": [
    "tmp_df = pd.read_csv('data/VQ_data.csv')\n",
    "tmp_df['d'] = pd.to_datetime(tmp_df['d'])\n",
    "tmp_df = tmp_df.set_index(['d', 'insID'])"
   ]
  },
  {
   "cell_type": "code",
   "execution_count": 169,
   "metadata": {
    "scrolled": true
   },
   "outputs": [
    {
     "name": "stderr",
     "output_type": "stream",
     "text": [
      "/opt/anaconda3/lib/python3.7/site-packages/ipykernel_launcher.py:12: SettingWithCopyWarning: \n",
      "A value is trying to be set on a copy of a slice from a DataFrame.\n",
      "Try using .loc[row_indexer,col_indexer] = value instead\n",
      "\n",
      "See the caveats in the documentation: https://pandas.pydata.org/pandas-docs/stable/user_guide/indexing.html#returning-a-view-versus-a-copy\n",
      "  if sys.path[0] == '':\n"
     ]
    }
   ],
   "source": [
    "min_MCAP = 500\n",
    "clean_df = tmp_df[tmp_df['MCAP']>min_MCAP]\n",
    "\n",
    "monthly_df =clean_df.groupby([clean_df.index.get_level_values(1), pd.Grouper(freq='m', level=0)]).last()\n",
    "monthly_df['ret'] = monthly_df['adj_c'].groupby(level='insID').pct_change(3).shift(-3)\n",
    "monthly_df = monthly_df.unstack('insID').iloc[::3, :].stack('insID')\n",
    "\n",
    "\n",
    "colmax_list = ['PE', 'PB', 'EVEBIT', 'EVFCF', 'PS', 'PFCF']\n",
    "\n",
    "for colmax in colmax_list:\n",
    "    monthly_df[monthly_df[colmax]< 0][colmax] = monthly_df[colmax].max()\n",
    "    "
   ]
  },
  {
   "cell_type": "code",
   "execution_count": 170,
   "metadata": {},
   "outputs": [],
   "source": [
    "col_list = ['PE', 'PB', 'PFCF','mom12','EAR_std', 'ret']\n",
    "zscore_df = pd.DataFrame()\n",
    "zscore_df.index = monthly_df.index\n",
    "\n",
    "for col in col_list:\n",
    "    col_zscore = col+ '_zscore'\n",
    "    zscore_tmp_df = monthly_df[col]\n",
    "    zscore_tmp_df = zscore_tmp_df/1000\n",
    "    zscore_df[col_zscore] = (zscore_tmp_df - zscore_tmp_df.unstack(level ='d').mean())/zscore_tmp_df.unstack(level ='d').std()"
   ]
  },
  {
   "cell_type": "code",
   "execution_count": 171,
   "metadata": {
    "scrolled": true
   },
   "outputs": [
    {
     "data": {
      "image/png": "[encoded data removed]",
      "text/plain": [
       "<Figure size 432x288 with 1 Axes>"
      ]
     },
     "metadata": {
      "needs_background": "light"
     },
     "output_type": "display_data"
    }
   ],
   "source": [
    "x = zscore_df['EAR_std_zscore']\n",
    "y = zscore_df['ret_zscore']\n",
    "\n",
    "plt.scatter(x,y);"
   ]
  },
  {
   "cell_type": "code",
   "execution_count": null,
   "metadata": {},
   "outputs": [],
   "source": [
    "#simple linear regression w/w.o interactions"
   ]
  },
  {
   "cell_type": "code",
   "execution_count": 172,
   "metadata": {
    "scrolled": true
   },
   "outputs": [
    {
     "data": {
      "text/plain": [
       "Index(['c', 'number_Of_Shares', 'MCAP', 'PE', 'GPA', 'GPA_chg', 'Asset_growth',\n",
       "       'PB', 'EA_ret', 'EVEBIT', 'EVFCF', 'adj_c', 'ROIC', 'ROE', 'ROE_chg',\n",
       "       'AT', 'Name', 'sector', 'market', 'RSURP_Y', 'rev_growth', 'SUE_Y',\n",
       "       'EPS_growth', 'EPS_acceleration', 'mom12', 'mom6', 'mom3', 'mom1',\n",
       "       '1_day_ret', 'volatility', 'volatility_60day', 'acceleration',\n",
       "       'adj_mom', 'sharpe', 'FCFROE', 'ROA', 'PS', 'PFCF', 'DIV_Y', 'EAR_std',\n",
       "       'ret'],\n",
       "      dtype='object')"
      ]
     },
     "execution_count": 172,
     "metadata": {},
     "output_type": "execute_result"
    }
   ],
   "source": [
    "monthly_df.columns"
   ]
  }
 ],
 "metadata": {
  "kernelspec": {
   "display_name": "Python 3",
   "language": "python",
   "name": "python3"
  },
  "language_info": {
   "codemirror_mode": {
    "name": "ipython",
    "version": 3
   },
   "file_extension": ".py",
   "mimetype": "text/x-python",
   "name": "python",
   "nbconvert_exporter": "python",
   "pygments_lexer": "ipython3",
   "version": "3.7.4"
  }
 },
 "nbformat": 4,
 "nbformat_minor": 2
}
