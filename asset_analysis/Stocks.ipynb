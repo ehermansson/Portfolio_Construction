{
 "cells": [
  {
   "cell_type": "code",
   "execution_count": 1,
   "metadata": {},
   "outputs": [],
   "source": [
    "import yfinance as yf \n",
    "import pandas as pd\n",
    "from matplotlib import pylab as plt\n",
    "import numpy as np\n",
    "from datetime import datetime \n",
    "\n",
    "import quandl\n",
    "\n",
    "import seaborn as sns\n",
    "\n",
    "import sys\n",
    "\n",
    "from scipy.stats import norm\n",
    "import pandas_datareader.data as web\n",
    "\n",
    "from sklearn.linear_model import LinearRegression\n",
    "from sklearn import metrics"
   ]
  },
  {
   "cell_type": "markdown",
   "metadata": {},
   "source": [
    "# Analysis of the drivers of Stock\n",
    "\n",
    "This script will investigate what drives the return, or can give a clue about the return, of stocks. The relationships which will be investigated is \n",
    "\n",
    "- P/E ratio\n",
    "- Interest Rate\n",
    "- Change in Interest Rate\n",
    "- GDP growth\n",
    "- Change in GDP Growth\n",
    "\n",
    "We will use SP500 as stocks\n"
   ]
  },
  {
   "cell_type": "markdown",
   "metadata": {},
   "source": [
    "## Data Import"
   ]
  },
  {
   "cell_type": "code",
   "execution_count": 33,
   "metadata": {},
   "outputs": [
    {
     "name": "stdout",
     "output_type": "stream",
     "text": [
      "[*********************100%***********************]  1 of 1 completed\n"
     ]
    }
   ],
   "source": [
    "PE = quandl.get(\"MULTPL/SP500_PE_RATIO_MONTH\", authtoken=\"6rNSyTM5R4g7_B7XSyQW\")\n",
    "SP500_daily_tmp = yf.download('^GSPC')\n",
    "\n"
   ]
  },
  {
   "cell_type": "code",
   "execution_count": 67,
   "metadata": {},
   "outputs": [],
   "source": [
    "look_back = 12*10\n",
    "\n",
    "SP500_daily = SP500_daily_tmp['Close']\n",
    "SP500 = pd.DataFrame(SP500_daily.resample('M').last())\n",
    "SP500_ret = np.log(SP500/SP500.shift(look_back))\n",
    "SP500_ret = SP500_ret.shift(-look_back) #shift to get coming 10 year returns\n",
    "\n",
    "\n",
    "\n",
    "\n",
    "\n",
    "PE.index = pd.to_datetime(PE.index, errors='coerce')\n",
    "\n",
    "\n",
    "SP500_ret.index = SP500_ret.index.strftime('%Y-%m')\n",
    "PE.index = PE.index.strftime('%Y-%m')"
   ]
  },
  {
   "cell_type": "markdown",
   "metadata": {},
   "source": [
    "## P/E ratio"
   ]
  },
  {
   "cell_type": "code",
   "execution_count": 74,
   "metadata": {},
   "outputs": [],
   "source": [
    "PE_data = PE.join(SP500_ret)\n",
    "PE_data = PE_data.dropna()\n",
    "PE_data.columns = ['PE', 'Return']\n",
    "PE_data.index = pd.to_datetime(PE_data.index)\n",
    "\n",
    "\n",
    "PE_data = PE_data[PE_data['PE'] < 30]\n",
    "\n",
    "PE_data = PE_data.resample('Y').last()"
   ]
  },
  {
   "cell_type": "code",
   "execution_count": 75,
   "metadata": {
    "scrolled": false
   },
   "outputs": [
    {
     "name": "stdout",
     "output_type": "stream",
     "text": [
      "Correlation: -0.04147625818725891\n"
     ]
    },
    {
     "data": {
      "image/png": "[encoded data removed]",
      "text/plain": [
       "<Figure size 432x288 with 1 Axes>"
      ]
     },
     "metadata": {
      "needs_background": "light"
     },
     "output_type": "display_data"
    }
   ],
   "source": [
    "regressor = LinearRegression()  \n",
    "regressor.fit(PE_data['PE'].values.reshape(-1,1), PE_data['Return'].values.reshape(-1,1))\n",
    "\n",
    "y_pred = regressor.predict(PE_data['PE'].values.reshape(-1,1))\n",
    "\n",
    "plt.scatter(PE_data['PE'], PE_data['Return'])\n",
    "plt.plot(PE_data['PE'], y_pred, color='red', linewidth=2)\n",
    "\n",
    "print(\"Correlation: \" + str(float(regressor.coef_)))"
   ]
  }
 ],
 "metadata": {
  "kernelspec": {
   "display_name": "Python 3",
   "language": "python",
   "name": "python3"
  },
  "language_info": {
   "codemirror_mode": {
    "name": "ipython",
    "version": 3
   },
   "file_extension": ".py",
   "mimetype": "text/x-python",
   "name": "python",
   "nbconvert_exporter": "python",
   "pygments_lexer": "ipython3",
   "version": "3.7.4"
  }
 },
 "nbformat": 4,
 "nbformat_minor": 2
}
