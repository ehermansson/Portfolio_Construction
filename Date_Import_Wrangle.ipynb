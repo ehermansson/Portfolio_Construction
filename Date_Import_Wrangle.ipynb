{
 "cells": [
  {
   "cell_type": "code",
   "execution_count": 3,
   "metadata": {},
   "outputs": [],
   "source": [
    "import yfinance as yf \n",
    "import pandas as pd\n",
    "import numpy as np\n",
    "from datetime import datetime\n",
    "\n",
    "import quandl\n",
    "\n",
    "import sys\n",
    "import urllib"
   ]
  },
  {
   "cell_type": "code",
   "execution_count": 24,
   "metadata": {},
   "outputs": [],
   "source": [
    "def import_MSCI(name):\n",
    "    '''Function to clean data from MSCI\n",
    "    https://www.msci.com/end-of-day-data-country\n",
    "    '''\n",
    "    \n",
    "    \n",
    "    path = \"Data/\" + name + \".xls\"\n",
    "    imp_tmp = pd.read_excel(path)\n",
    "    price_type = imp_tmp.loc[1][1]\n",
    "    \n",
    "    imp = imp_tmp[6:]\n",
    "    imp.columns = ['Date', name]\n",
    "    #imp['Date'] = pd.to_datetime(imp['Date'], errors='coerce')\n",
    "    imp.loc[0] = pd.to_datetime(imp['Date'], errors='coerce')\n",
    "    imp = imp.dropna()\n",
    "    \n",
    "    imp = imp.set_index('Date')\n",
    "    #imp.index = imp.index.strftime('%Y/%m')\n",
    "    \n",
    "    print(price_type)\n",
    "    \n",
    "    return(imp)"
   ]
  },
  {
   "cell_type": "markdown",
   "metadata": {},
   "source": [
    "# Data Collection"
   ]
  },
  {
   "cell_type": "markdown",
   "metadata": {},
   "source": [
    "## Equity"
   ]
  },
  {
   "cell_type": "markdown",
   "metadata": {},
   "source": [
    "### Monthly"
   ]
  },
  {
   "cell_type": "code",
   "execution_count": 87,
   "metadata": {
    "scrolled": true
   },
   "outputs": [
    {
     "name": "stdout",
     "output_type": "stream",
     "text": [
      "Gross\n",
      "Gross\n",
      "Gross\n",
      "Gross\n",
      "Gross\n",
      "Gross\n"
     ]
    }
   ],
   "source": [
    "USA = import_MSCI(\"USA\")\n",
    "Pacific_ex_Japan = import_MSCI(\"PACIFIC_ex_JAPAN\")\n",
    "Japan = import_MSCI(\"JAPAN\")\n",
    "Sweden = import_MSCI(\"SWEDEN\")\n",
    "Emerging_Markets = import_MSCI(\"EMERGING_MARKETS\")\n",
    "RUSSIA = import_MSCI(\"RUSSIA\")"
   ]
  },
  {
   "cell_type": "code",
   "execution_count": 88,
   "metadata": {},
   "outputs": [
    {
     "data": {
      "text/html": [
       "<div>\n",
       "<style scoped>\n",
       "    .dataframe tbody tr th:only-of-type {\n",
       "        vertical-align: middle;\n",
       "    }\n",
       "\n",
       "    .dataframe tbody tr th {\n",
       "        vertical-align: top;\n",
       "    }\n",
       "\n",
       "    .dataframe thead th {\n",
       "        text-align: right;\n",
       "    }\n",
       "</style>\n",
       "<table border=\"1\" class=\"dataframe\">\n",
       "  <thead>\n",
       "    <tr style=\"text-align: right;\">\n",
       "      <th></th>\n",
       "      <th>EMERGING_MARKETS</th>\n",
       "    </tr>\n",
       "    <tr>\n",
       "      <th>Date</th>\n",
       "      <th></th>\n",
       "    </tr>\n",
       "  </thead>\n",
       "  <tbody>\n",
       "    <tr>\n",
       "      <td>1987-12-31</td>\n",
       "      <td>100</td>\n",
       "    </tr>\n",
       "    <tr>\n",
       "      <td>1988-01-29</td>\n",
       "      <td>109.838</td>\n",
       "    </tr>\n",
       "    <tr>\n",
       "      <td>1988-02-29</td>\n",
       "      <td>110.211</td>\n",
       "    </tr>\n",
       "    <tr>\n",
       "      <td>1988-03-31</td>\n",
       "      <td>122.046</td>\n",
       "    </tr>\n",
       "    <tr>\n",
       "      <td>1988-04-29</td>\n",
       "      <td>128.561</td>\n",
       "    </tr>\n",
       "    <tr>\n",
       "      <td>...</td>\n",
       "      <td>...</td>\n",
       "    </tr>\n",
       "    <tr>\n",
       "      <td>2020-02-28</td>\n",
       "      <td>2322.26</td>\n",
       "    </tr>\n",
       "    <tr>\n",
       "      <td>2020-03-31</td>\n",
       "      <td>1965.16</td>\n",
       "    </tr>\n",
       "    <tr>\n",
       "      <td>2020-04-30</td>\n",
       "      <td>2145.5</td>\n",
       "    </tr>\n",
       "    <tr>\n",
       "      <td>2020-05-29</td>\n",
       "      <td>2162.44</td>\n",
       "    </tr>\n",
       "    <tr>\n",
       "      <td>2020-06-30</td>\n",
       "      <td>2322.51</td>\n",
       "    </tr>\n",
       "  </tbody>\n",
       "</table>\n",
       "<p>391 rows × 1 columns</p>\n",
       "</div>"
      ],
      "text/plain": [
       "           EMERGING_MARKETS\n",
       "Date                       \n",
       "1987-12-31              100\n",
       "1988-01-29          109.838\n",
       "1988-02-29          110.211\n",
       "1988-03-31          122.046\n",
       "1988-04-29          128.561\n",
       "...                     ...\n",
       "2020-02-28          2322.26\n",
       "2020-03-31          1965.16\n",
       "2020-04-30           2145.5\n",
       "2020-05-29          2162.44\n",
       "2020-06-30          2322.51\n",
       "\n",
       "[391 rows x 1 columns]"
      ]
     },
     "execution_count": 88,
     "metadata": {},
     "output_type": "execute_result"
    }
   ],
   "source": [
    "Emerging_Markets\n"
   ]
  },
  {
   "cell_type": "markdown",
   "metadata": {},
   "source": [
    "### Daily"
   ]
  },
  {
   "cell_type": "code",
   "execution_count": 21,
   "metadata": {},
   "outputs": [
    {
     "name": "stdout",
     "output_type": "stream",
     "text": [
      "[*********************100%***********************]  1 of 1 completed\n"
     ]
    }
   ],
   "source": [
    "SP500_daily_tmp = yf.download(\"^SP500TR\")\n",
    "SP500_daily= pd.DataFrame(SP500_daily_tmp['Close'])\n",
    "SP500_daily.columns = ['SP500']"
   ]
  },
  {
   "cell_type": "markdown",
   "metadata": {},
   "source": [
    "## Bonds"
   ]
  },
  {
   "cell_type": "markdown",
   "metadata": {},
   "source": [
    "### Yearly"
   ]
  },
  {
   "cell_type": "code",
   "execution_count": 27,
   "metadata": {},
   "outputs": [
    {
     "data": {
      "text/html": [
       "<div>\n",
       "<style scoped>\n",
       "    .dataframe tbody tr th:only-of-type {\n",
       "        vertical-align: middle;\n",
       "    }\n",
       "\n",
       "    .dataframe tbody tr th {\n",
       "        vertical-align: top;\n",
       "    }\n",
       "\n",
       "    .dataframe thead th {\n",
       "        text-align: right;\n",
       "    }\n",
       "</style>\n",
       "<table border=\"1\" class=\"dataframe\">\n",
       "  <thead>\n",
       "    <tr style=\"text-align: right;\">\n",
       "      <th></th>\n",
       "      <th>T bond</th>\n",
       "    </tr>\n",
       "    <tr>\n",
       "      <th>Year</th>\n",
       "      <th></th>\n",
       "    </tr>\n",
       "  </thead>\n",
       "  <tbody>\n",
       "    <tr>\n",
       "      <th>1928-01-01</th>\n",
       "      <td>100.84</td>\n",
       "    </tr>\n",
       "    <tr>\n",
       "      <th>1929-01-01</th>\n",
       "      <td>105.07</td>\n",
       "    </tr>\n",
       "    <tr>\n",
       "      <th>1930-01-01</th>\n",
       "      <td>109.85</td>\n",
       "    </tr>\n",
       "    <tr>\n",
       "      <th>1931-01-01</th>\n",
       "      <td>107.03</td>\n",
       "    </tr>\n",
       "    <tr>\n",
       "      <th>1932-01-01</th>\n",
       "      <td>116.44</td>\n",
       "    </tr>\n",
       "    <tr>\n",
       "      <th>...</th>\n",
       "      <td>...</td>\n",
       "    </tr>\n",
       "    <tr>\n",
       "      <th>2015-01-01</th>\n",
       "      <td>7061.89</td>\n",
       "    </tr>\n",
       "    <tr>\n",
       "      <th>2016-01-01</th>\n",
       "      <td>7110.65</td>\n",
       "    </tr>\n",
       "    <tr>\n",
       "      <th>2017-01-01</th>\n",
       "      <td>7309.87</td>\n",
       "    </tr>\n",
       "    <tr>\n",
       "      <th>2018-01-01</th>\n",
       "      <td>7308.65</td>\n",
       "    </tr>\n",
       "    <tr>\n",
       "      <th>2019-01-01</th>\n",
       "      <td>8012.89</td>\n",
       "    </tr>\n",
       "  </tbody>\n",
       "</table>\n",
       "<p>92 rows × 1 columns</p>\n",
       "</div>"
      ],
      "text/plain": [
       "             T bond\n",
       "Year               \n",
       "1928-01-01   100.84\n",
       "1929-01-01   105.07\n",
       "1930-01-01   109.85\n",
       "1931-01-01   107.03\n",
       "1932-01-01   116.44\n",
       "...             ...\n",
       "2015-01-01  7061.89\n",
       "2016-01-01  7110.65\n",
       "2017-01-01  7309.87\n",
       "2018-01-01  7308.65\n",
       "2019-01-01  8012.89\n",
       "\n",
       "[92 rows x 1 columns]"
      ]
     },
     "execution_count": 27,
     "metadata": {},
     "output_type": "execute_result"
    }
   ],
   "source": [
    "# Only says T-bond, 10 yr?, 30 yr?\n",
    "d = pd.read_html('http://pages.stern.nyu.edu/~adamodar/New_Home_Page/datafile/histretSP.html')\n",
    "T_tmp = d[0]\n",
    "T_tmp = pd.DataFrame(T_tmp[7][:])\n",
    "\n",
    "years =  pd.Series(range(1926,2020))\n",
    "T_tmp.insert(0, \"Year\", years, True)\n",
    "T_tmp.insert(2, \"Month\", 1, True)\n",
    "T_tmp.insert(3, \"Day\", 1, True)\n",
    "T_tmp = T_tmp[2:]\n",
    "T_tmp.columns = ['Year','T bond', 'Month', 'Day'] \n",
    "T_tmp['T bond'] = T_tmp['T bond'].str.replace('$', '')\n",
    "T_tmp['T bond'] = T_tmp['T bond'].str.replace(',', '')\n",
    "T_tmp['T bond'] = pd.to_numeric(T_tmp['T bond'])\n",
    "\n",
    "T_tmp['Year'] = pd.to_datetime(T_tmp['Year']*10000+T_tmp['Month']*100+T_tmp['Day'],format='%Y%m%d')\n",
    "T_tmp = T_tmp.set_index('Year')\n",
    "T_bond_yearly = pd.DataFrame(T_tmp['T bond'])\n",
    "T_bond_yearly"
   ]
  },
  {
   "cell_type": "markdown",
   "metadata": {},
   "source": [
    "## Alternatives"
   ]
  },
  {
   "cell_type": "code",
   "execution_count": 8,
   "metadata": {},
   "outputs": [
    {
     "data": {
      "text/html": [
       "<div>\n",
       "<style scoped>\n",
       "    .dataframe tbody tr th:only-of-type {\n",
       "        vertical-align: middle;\n",
       "    }\n",
       "\n",
       "    .dataframe tbody tr th {\n",
       "        vertical-align: top;\n",
       "    }\n",
       "\n",
       "    .dataframe thead th {\n",
       "        text-align: right;\n",
       "    }\n",
       "</style>\n",
       "<table border=\"1\" class=\"dataframe\">\n",
       "  <thead>\n",
       "    <tr style=\"text-align: right;\">\n",
       "      <th></th>\n",
       "      <th>USD (AM)</th>\n",
       "    </tr>\n",
       "    <tr>\n",
       "      <th>Date</th>\n",
       "      <th></th>\n",
       "    </tr>\n",
       "  </thead>\n",
       "  <tbody>\n",
       "    <tr>\n",
       "      <th>1968-01-02</th>\n",
       "      <td>35.18</td>\n",
       "    </tr>\n",
       "    <tr>\n",
       "      <th>1968-01-03</th>\n",
       "      <td>35.16</td>\n",
       "    </tr>\n",
       "    <tr>\n",
       "      <th>1968-01-04</th>\n",
       "      <td>35.14</td>\n",
       "    </tr>\n",
       "    <tr>\n",
       "      <th>1968-01-05</th>\n",
       "      <td>35.14</td>\n",
       "    </tr>\n",
       "    <tr>\n",
       "      <th>1968-01-08</th>\n",
       "      <td>35.14</td>\n",
       "    </tr>\n",
       "    <tr>\n",
       "      <th>...</th>\n",
       "      <td>...</td>\n",
       "    </tr>\n",
       "    <tr>\n",
       "      <th>2020-07-16</th>\n",
       "      <td>1804.60</td>\n",
       "    </tr>\n",
       "    <tr>\n",
       "      <th>2020-07-17</th>\n",
       "      <td>1802.90</td>\n",
       "    </tr>\n",
       "    <tr>\n",
       "      <th>2020-07-20</th>\n",
       "      <td>1810.30</td>\n",
       "    </tr>\n",
       "    <tr>\n",
       "      <th>2020-07-21</th>\n",
       "      <td>1823.20</td>\n",
       "    </tr>\n",
       "    <tr>\n",
       "      <th>2020-07-22</th>\n",
       "      <td>1851.00</td>\n",
       "    </tr>\n",
       "  </tbody>\n",
       "</table>\n",
       "<p>13284 rows × 1 columns</p>\n",
       "</div>"
      ],
      "text/plain": [
       "            USD (AM)\n",
       "Date                \n",
       "1968-01-02     35.18\n",
       "1968-01-03     35.16\n",
       "1968-01-04     35.14\n",
       "1968-01-05     35.14\n",
       "1968-01-08     35.14\n",
       "...              ...\n",
       "2020-07-16   1804.60\n",
       "2020-07-17   1802.90\n",
       "2020-07-20   1810.30\n",
       "2020-07-21   1823.20\n",
       "2020-07-22   1851.00\n",
       "\n",
       "[13284 rows x 1 columns]"
      ]
     },
     "execution_count": 8,
     "metadata": {},
     "output_type": "execute_result"
    }
   ],
   "source": [
    "#Gold\n",
    "Gold_tmp = quandl.get(\"LBMA/GOLD\", authtoken=\"6rNSyTM5R4g7_B7XSyQW\")\n",
    "Gold = pd.DataFrame(Gold_tmp[\"USD (AM)\"])\n",
    "Gold"
   ]
  },
  {
   "cell_type": "code",
   "execution_count": null,
   "metadata": {},
   "outputs": [],
   "source": [
    "#Long Vol(Monthly)\n",
    "long_vol_imp = pd.read_excel (r'https://www.eurekahedge.com/Indices/ExportIndexReturnsToExcel?IndexType=Eurekahedge&IndexId=640')\n",
    "\n",
    "long_vol = long_vol_imp[3:]\n",
    "long_vol.index= pd.to_datetime(long_vol_imp[3:]['Unnamed: 0'])\n",
    "long_vol = pd.DataFrame(long_vol['Unnamed: 2'])\n",
    "long_vol.columns = [\"Long Vol\"]"
   ]
  }
 ],
 "metadata": {
  "kernelspec": {
   "display_name": "Python 3",
   "language": "python",
   "name": "python3"
  },
  "language_info": {
   "codemirror_mode": {
    "name": "ipython",
    "version": 3
   },
   "file_extension": ".py",
   "mimetype": "text/x-python",
   "name": "python",
   "nbconvert_exporter": "python",
   "pygments_lexer": "ipython3",
   "version": "3.7.6"
  }
 },
 "nbformat": 4,
 "nbformat_minor": 2
}
