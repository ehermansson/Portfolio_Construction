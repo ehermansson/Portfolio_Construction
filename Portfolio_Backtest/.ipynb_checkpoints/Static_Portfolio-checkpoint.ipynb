{
 "cells": [
  {
   "cell_type": "markdown",
   "metadata": {},
   "source": [
    "# Portfolio Backtesting"
   ]
  },
  {
   "cell_type": "code",
   "execution_count": 1,
   "metadata": {},
   "outputs": [],
   "source": [
    "import yfinance as yf \n",
    "import pandas as pd\n",
    "from matplotlib import pylab as plt\n",
    "import numpy as np\n",
    "from datetime import datetime\n",
    "\n",
    "from time import sleep\n",
    "\n",
    "import quandl\n",
    "\n",
    "import seaborn as sns\n",
    "\n",
    "import sys\n",
    "from scipy.stats import norm\n",
    "import ezodf"
   ]
  },
  {
   "cell_type": "markdown",
   "metadata": {},
   "source": [
    "## Functions"
   ]
  },
  {
   "cell_type": "code",
   "execution_count": 2,
   "metadata": {},
   "outputs": [],
   "source": [
    "def port_eval(port, freq = 'D'):\n",
    "    \n",
    "    port = pd.DataFrame(port)\n",
    "    port_ret = calc_port_ret(port)\n",
    "    \n",
    "    Roll_Max = port.cummax()\n",
    "    Daily_Drawdown = port/Roll_Max - 1.0\n",
    "    Max_Daily_Drawdown = Daily_Drawdown.cummin()\n",
    "    \n",
    "    Max_Daily_Drawdown = round(Max_Daily_Drawdown.tail(1),2)\n",
    "    \n",
    "    neg_ret = port_ret[port_ret<1].dropna()\n",
    "    \n",
    "    mean = np.mean(port_ret - 1)\n",
    "    std = np.std(port_ret - 1)\n",
    "    \n",
    "    alpha = 0.05\n",
    "    ES = round(alpha**-1 * norm.pdf(norm.ppf(alpha))*std - mean,3)\n",
    " \n",
    "    \n",
    "    if freq == 'D':\n",
    "        cagr = round(port_ret.cumprod().tail(1)**(252/len(port_ret)) - 1,4)\n",
    "        MAR = round(cagr/Max_Daily_Drawdown,3)\n",
    "        vol = round(np.log(port_ret).std()*np.sqrt(252),3)\n",
    "        sortino = round(np.log(neg_ret).std()*np.sqrt(252),3)\n",
    "        sortino = round(cagr/sortino,3)\n",
    "        sharpe = round(cagr/vol,3)\n",
    "        \n",
    "    elif freq == 'M':\n",
    "        cagr = round(port_ret.cumprod().tail(1)**(12/len(port_ret)) - 1,4)\n",
    "        MAR = round(cagr/Max_Daily_Drawdown,3)\n",
    "        vol = round(np.log(port_ret).std()*np.sqrt(12),3)\n",
    "        sortino = round(np.log(neg_ret).std()*np.sqrt(12),2)\n",
    "        sortino = round(cagr/sortino,2)\n",
    "        sharpe = round(cagr/vol,2)\n",
    "    \n",
    "    SWR = round(MAX_SWR(cagr, vol, 30), 4)\n",
    "        \n",
    "        \n",
    "    metrics = pd.DataFrame({'': [float(cagr.iloc[0]), float(vol.iloc[0]),\n",
    "                                 float(sharpe.iloc[0]),float(sortino.iloc[0]),\n",
    "                                 float(Max_Daily_Drawdown.iloc[0]), abs(float(MAR.iloc[0])),\n",
    "                                 float(SWR.iloc[0])]},\n",
    "                   index=['CAGR', 'Volatility', 'Sharpe','Sortino', 'Max DD', 'MAR', 'SWR'])\n",
    "    \n",
    "\n",
    "    \n",
    "    return metrics"
   ]
  },
  {
   "cell_type": "code",
   "execution_count": 3,
   "metadata": {},
   "outputs": [],
   "source": [
    "def MAX_SWR(CAGR, VOL, T):\n",
    "    MAX_SWR = CAGR - (1.96*VOL*np.sqrt(T))/T\n",
    "    \n",
    "    return MAX_SWR"
   ]
  },
  {
   "cell_type": "code",
   "execution_count": 4,
   "metadata": {},
   "outputs": [],
   "source": [
    "def calc_port_ret(port):\n",
    "    port_ret = port/port.shift(1)\n",
    "    port_ret = port_ret.fillna(1)\n",
    "    \n",
    "    return port_ret"
   ]
  },
  {
   "cell_type": "code",
   "execution_count": 5,
   "metadata": {},
   "outputs": [],
   "source": [
    "def wrangle(assets, data_freq, lookback_period):\n",
    "    data = pd.concat(assets, axis = 1)\n",
    "    data = data.ffill()\n",
    "    data = data.dropna()\n",
    "    data = data/data.shift()\n",
    "    data = data.fillna(1)\n",
    "    data = data.ffill()\n",
    "    if data_freq == 'M':\n",
    "        data = data[-lookback_period*12:]\n",
    "    elif data_freq == 'D':\n",
    "        data = data[-lookback_period*252:]\n",
    "        \n",
    "    data_names = data.columns.tolist() \n",
    "        \n",
    "    return (data, data_names)"
   ]
  },
  {
   "cell_type": "code",
   "execution_count": 6,
   "metadata": {},
   "outputs": [],
   "source": [
    "def backtest_strategy(data, W, tol, rebalance_freq, data_names, leverage = 1):\n",
    "    initial = 1\n",
    "    asset = [i * initial for i in W]\n",
    "    port = []\n",
    "    port_W = [] \n",
    "\n",
    "    if 0.999 < sum(W) < 1.001:\n",
    "\n",
    "        for i in range(len(data)):\n",
    "            #port.append(initial)\n",
    "            port_W.append([i / initial for i in asset])\n",
    "            \n",
    "            daily_ret = ((data.iloc[i]-1) * leverage) +1\n",
    "            asset = asset * daily_ret #data.iloc[i]\n",
    "            initial = sum(asset)\n",
    "            port.append(initial)\n",
    "            #Rebalancing by days\n",
    "            if i%rebalance_freq == 0:\n",
    "                for i in range(len(W)):\n",
    "                    asset[i] = initial * W[i]\n",
    "            \n",
    "            #Rebalancing by deviation\n",
    "            for i in range(len(asset)):\n",
    "                if abs(asset[i]/initial - W[i])> tol:  \n",
    "                      asset = [i * initial for i in W]\n",
    "    \n",
    "        port = pd.DataFrame(port)\n",
    "        port.index = data.index\n",
    "    \n",
    "        result = pd.concat([port, data.cumprod()], axis =1)\n",
    "        result.columns = [\"Portfolio\"] + data_names\n",
    "        \n",
    "        return (result, port_W)\n",
    "        \n",
    "    else:\n",
    "        print(\"Weight not Equal to 1!\")"
   ]
  },
  {
   "cell_type": "code",
   "execution_count": 7,
   "metadata": {},
   "outputs": [],
   "source": [
    "def strategy_evaluation(result, data_names, freq = 'D'):\n",
    "    metrics = pd.DataFrame([])\n",
    "    \n",
    "    if freq == 'D':\n",
    "    \n",
    "        for i in result.columns:\n",
    "            metrics = pd.concat([metrics, port_eval(result[i], freq = 'D').transpose()], axis = 0)\n",
    "        metrics.index = [\"Portfolio\"] + data_names\n",
    "        \n",
    "    elif freq == 'M':\n",
    "        for i in result.columns:\n",
    "            metrics = pd.concat([metrics, port_eval(result[i], freq = 'M').transpose()], axis = 0)\n",
    "        metrics.index = [\"Portfolio\"] + data_names\n",
    "        \n",
    "    th_props = [\n",
    "  ('font-size', '20px'),\n",
    "  ('text-align', 'center'),\n",
    "  ('font-weight', 'bold'),\n",
    "  ('color', 'Black'),\n",
    "  ('background-color', '#f7f7f9')\n",
    "  ]\n",
    "\n",
    "\n",
    "    # Set CSS properties for td elements in dataframe\n",
    "    td_props = [\n",
    "      ('font-size', '20px'), ('text-align', 'center')\n",
    "      ]\n",
    "\n",
    "    # Set table styles\n",
    "    styles = [\n",
    "      dict(selector=\"th\", props=th_props),\n",
    "      dict(selector=\"td\", props=td_props)\n",
    "      ]\n",
    "\n",
    "    cm_neg_good = sns.diverging_palette(150, 10, s=80, l=70, n=len(metrics.columns), as_cmap=True)#sns.light_palette(\"green\", as_cmap=True)\n",
    "    cm_pos_good = sns.diverging_palette(10, 150, s=80, l=70, n=len(metrics.columns), as_cmap=True)\n",
    "\n",
    "    metrics = (metrics.style\n",
    "      .background_gradient(axis = 0 ,subset = ['CAGR','Max DD', 'Sharpe','MAR','Sortino','SWR'],cmap=cm_pos_good)\n",
    "      .background_gradient(axis = 0 ,subset = ['Volatility'],cmap=cm_neg_good)\n",
    "      #.set_caption('Performance Metrics')\n",
    "      .format({'CAGR': \"{:.1%}\", 'Max DD': \"{:.0%}\", 'Volatility': \"{:.1%}\", 'SWR':\"{:.1%}\", 'Sharpe': \"{:.2f}\",\n",
    "              'Sortino': \"{:.2f}\", 'MAR': \"{:.2f}\"})\n",
    "      .set_table_styles(styles))\n",
    "    \n",
    "    return metrics\n"
   ]
  },
  {
   "cell_type": "code",
   "execution_count": 8,
   "metadata": {},
   "outputs": [],
   "source": [
    "def plot(result, scale):\n",
    "    sns.set_style(\"darkgrid\");\n",
    "    plt.figure(figsize=(20,10));\n",
    "    for i in result.columns:\n",
    "        plt.plot(result[i], label = i);\n",
    "\n",
    "    start = datetime.date(result.index.min());\n",
    "    end = datetime.date(result.index.max());\n",
    "    if scale == \"log\":\n",
    "        plt.yscale(\"log\")\n",
    "        plt.ylabel('Log Return', fontsize=18)\n",
    "    else: \n",
    "        plt.ylabel('Linear Return', fontsize=18)\n",
    "    plt.legend(loc=2, prop={'size': 20});\n",
    "    plt.title('Backtest from ' + str(start) + ' to ' + str(end), fontsize=20)\n",
    "    plt.rc('xtick',labelsize=20)\n",
    "    plt.rc('ytick',labelsize=20)"
   ]
  },
  {
   "cell_type": "code",
   "execution_count": 9,
   "metadata": {},
   "outputs": [],
   "source": [
    "def correlation_map(result):\n",
    "    ret = calc_port_ret(result)\n",
    "    ret = np.log(ret)\n",
    "    corr = ret.corr()\n",
    "    corr = round(corr, 3)\n",
    "    th_props = [\n",
    "      ('font-size', '20px'),\n",
    "      ('text-align', 'center'),\n",
    "      ('font-weight', 'bold'),\n",
    "      ('color', 'Black'),\n",
    "      ('background-color', '#f7f7f9')\n",
    "      ]\n",
    "\n",
    "    \n",
    "        # Set CSS properties for td elements in dataframe\n",
    "    td_props = [\n",
    "          ('font-size', '20px'), ('text-align', 'center')\n",
    "          ]\n",
    "    \n",
    "        # Set table styles\n",
    "    styles = [\n",
    "          dict(selector=\"th\", props=th_props),\n",
    "          dict(selector=\"td\", props=td_props)\n",
    "          ]\n",
    "    \n",
    "    cm_neg_good = sns.diverging_palette(150, 10, s=80, l=70, n=len(corr.columns)**2, as_cmap=True)#sns.light_palette(\"green\", as_cmap=True)\n",
    "    cm_pos_good = sns.diverging_palette(10, 150, s=80, l=70, n=len(corr.columns)**2, as_cmap=True)\n",
    "    \n",
    "    \n",
    "    corr = (corr.style\n",
    "          .background_gradient(axis = 0 ,cmap=cm_neg_good)\n",
    "          .format(\"{:.2f}\")\n",
    "          .set_table_styles(styles))\n",
    "    \n",
    "    return corr"
   ]
  },
  {
   "cell_type": "code",
   "execution_count": 10,
   "metadata": {},
   "outputs": [],
   "source": [
    "def bond_return(filename, sheet_no=0, header=0):\n",
    "    '''10 YEAR BOND RETURN. sheet1:Original US, sheet2: Improved US, sheet3:germany, \n",
    "    sheet4:Japan, sheet5:Australia, sheet6:Norway. sheet7:Sweden'''\n",
    "    \n",
    "    tab = ezodf.opendoc(filename=\"../Data/\"+filename).sheets[sheet_no]\n",
    "    temp_data= pd.DataFrame({col[header].value:[x.value for x in col[header+1:]]\n",
    "                         for col in tab.columns()})\n",
    "    temp_data['observation_date'] = pd.to_datetime(temp_data['observation_date'], errors='coerce')\n",
    "    temp_data.index = temp_data['observation_date']\n",
    "    bond_ret = pd.DataFrame(temp_data['Cum Ret'])\n",
    "    bond_ret = bond_ret.dropna()\n",
    "    bond_ret.columns = ['10Y Bond']\n",
    "    return(bond_ret)"
   ]
  },
  {
   "cell_type": "code",
   "execution_count": 28,
   "metadata": {},
   "outputs": [],
   "source": [
    "def import_MSCI(name):\n",
    "    '''Function to clean data from MSCI\n",
    "    https://www.msci.com/end-of-day-data-country\n",
    "    '''\n",
    "    \n",
    "    \n",
    "    path = \"../Data/\" + name + \".xls\"\n",
    "    imp_tmp = pd.read_excel(path)\n",
    "    price_type = imp_tmp.loc[1][1]\n",
    "    \n",
    "    imp = imp_tmp[6:]\n",
    "    imp.columns = ['Date', name]\n",
    "    imp.loc[0] = pd.to_datetime(imp['Date'], errors='coerce')\n",
    "    imp = imp.dropna()\n",
    "    imp = imp.set_index('Date')\n",
    "    imp.index = imp.index.strftime('%Y/%m')\n",
    "    imp.index = pd.to_datetime(imp.index, errors='coerce') # sets to first day of month \n",
    "    imp.index = imp.index.shift(1, freq='MS') # raw data is end of month, set to first day next month\n",
    "    \n",
    "    print(price_type)\n",
    "    \n",
    "    return(imp)"
   ]
  },
  {
   "cell_type": "markdown",
   "metadata": {},
   "source": [
    "## Data Imports and Wrangling\n",
    "\n",
    "All monthly data are set to first day of every month. "
   ]
  },
  {
   "cell_type": "code",
   "execution_count": 29,
   "metadata": {
    "scrolled": true
   },
   "outputs": [
    {
     "name": "stdout",
     "output_type": "stream",
     "text": [
      "[*********************100%***********************]  1 of 1 completed\n",
      "Gross\n",
      "[*********************100%***********************]  1 of 1 completed\n",
      "[*********************100%***********************]  1 of 1 completed\n"
     ]
    }
   ],
   "source": [
    "# SP500\n",
    "SP500_daily_tmp = yf.download(\"^SP500TR\")\n",
    "SP500_daily= pd.DataFrame(SP500_daily_tmp['Close'])\n",
    "SP500_daily.columns = ['SP500']\n",
    "\n",
    "#USA\n",
    "USA_monthly = import_MSCI('USA')\n",
    "\n",
    "# Gold\n",
    "Gold_tmp = quandl.get(\"LBMA/GOLD\", authtoken=\"6rNSyTM5R4g7_B7XSyQW\")\n",
    "Gold_daily = pd.DataFrame(Gold_tmp[\"USD (AM)\"])\n",
    "Gold_daily.columns = ['Gold']\n",
    "\n",
    "Gold_monthly = Gold_daily.resample('M').last()\n",
    "Gold_monthly.columns = ['Gold']\n",
    "Gold_monthly.index = Gold_monthly.index + pd.Timedelta('1 day')\n",
    "\n",
    "# 3 year US Government Bond\n",
    "SHY_daily_tmp = yf.download(\"SHY\")\n",
    "SHY_daily = pd.DataFrame(SHY_daily_tmp['Close'])\n",
    "SHY_daily.columns = ['SHY']\n",
    "\n",
    "SHY_monthly = SHY_daily.resample('M').last()\n",
    "SHY_monthly.index = SHY_monthly.index + pd.Timedelta('1 day')\n",
    "\n",
    "# 10 year US Government bond\n",
    "path = 'International Monthly Government Bond Returns.ods'\n",
    "Bond_monthly = bond_return(filename=path, sheet_no = 2)\n",
    "Bond_monthly.index = Bond_monthly.index + pd.Timedelta('1 day')\n",
    "\n",
    "\n",
    "# 20 year US Treasury Bond\n",
    "TLT_daily_tmp =  yf.download(\"TLT\")\n",
    "TLT_daily = pd.DataFrame(TLT_daily_tmp['Close'])\n",
    "TLT_daily.columns = ['TLT']\n",
    "\n",
    "TLT_monthly = TLT_daily.resample('M').last()\n",
    "TLT_monthly.index = TLT_monthly.index + pd.Timedelta('1 day')\n",
    "\n",
    "# Trend Following\n",
    "%run TF_Data.ipynb\n",
    "\n",
    "# Long Vol\n",
    "long_vol_imp = pd.read_excel (r'https://www.eurekahedge.com/Indices/ExportIndexReturnsToExcel?IndexType=Eurekahedge&IndexId=640')\n",
    "\n",
    "long_vol = long_vol_imp[3:]\n",
    "long_vol.index= pd.to_datetime(long_vol_imp[3:]['Unnamed: 0'])\n",
    "long_vol = pd.DataFrame(long_vol['Unnamed: 2'])\n",
    "long_vol.columns = [\"Long Vol\"]"
   ]
  },
  {
   "cell_type": "markdown",
   "metadata": {},
   "source": [
    "## Parameters for backtest\n",
    "**Available assets**: \n",
    "\n",
    "Daily: SP500_daily, Gold_daily, SHY_daily, TLT_daily\n",
    "\n",
    "Monthly: SP500_monthly, Gold_monthly, SHY_monthly, Bond_monthly, TLT_monthly, long_vol "
   ]
  },
  {
   "cell_type": "code",
   "execution_count": 33,
   "metadata": {},
   "outputs": [],
   "source": [
    "lookback_period = 60 # in years\n",
    "data_freq = 'M' # 'M' for monthly, 'D' for daily\n",
    "rebalance_freq = 3 # in monthy for monthtly, days for daily\n",
    "tol = 0.1 # trigger for rebalancing\n",
    "assets = [USA_monthly] \n",
    "leverage = 1\n",
    "w = [1]"
   ]
  },
  {
   "cell_type": "markdown",
   "metadata": {},
   "source": [
    "## Backtest"
   ]
  },
  {
   "cell_type": "code",
   "execution_count": 34,
   "metadata": {
    "scrolled": false
   },
   "outputs": [
    {
     "data": {
      "text/html": [
       "<style  type=\"text/css\" >\n",
       "    #T_04e579ae_ee18_11ea_bebc_8c859039bca2 th {\n",
       "          font-size: 20px;\n",
       "          text-align: center;\n",
       "          font-weight: bold;\n",
       "          color: Black;\n",
       "          background-color: #f7f7f9;\n",
       "    }    #T_04e579ae_ee18_11ea_bebc_8c859039bca2 td {\n",
       "          font-size: 20px;\n",
       "          text-align: center;\n",
       "    }    #T_04e579ae_ee18_11ea_bebc_8c859039bca2row0_col0 {\n",
       "            background-color:  #f29094;\n",
       "            color:  #000000;\n",
       "        }    #T_04e579ae_ee18_11ea_bebc_8c859039bca2row0_col1 {\n",
       "            background-color:  #4ebf8f;\n",
       "            color:  #000000;\n",
       "        }    #T_04e579ae_ee18_11ea_bebc_8c859039bca2row0_col2 {\n",
       "            background-color:  #f29094;\n",
       "            color:  #000000;\n",
       "        }    #T_04e579ae_ee18_11ea_bebc_8c859039bca2row0_col3 {\n",
       "            background-color:  #f29094;\n",
       "            color:  #000000;\n",
       "        }    #T_04e579ae_ee18_11ea_bebc_8c859039bca2row0_col4 {\n",
       "            background-color:  #f29094;\n",
       "            color:  #000000;\n",
       "        }    #T_04e579ae_ee18_11ea_bebc_8c859039bca2row0_col5 {\n",
       "            background-color:  #f29094;\n",
       "            color:  #000000;\n",
       "        }    #T_04e579ae_ee18_11ea_bebc_8c859039bca2row0_col6 {\n",
       "            background-color:  #f29094;\n",
       "            color:  #000000;\n",
       "        }    #T_04e579ae_ee18_11ea_bebc_8c859039bca2row1_col0 {\n",
       "            background-color:  #f29094;\n",
       "            color:  #000000;\n",
       "        }    #T_04e579ae_ee18_11ea_bebc_8c859039bca2row1_col1 {\n",
       "            background-color:  #4ebf8f;\n",
       "            color:  #000000;\n",
       "        }    #T_04e579ae_ee18_11ea_bebc_8c859039bca2row1_col2 {\n",
       "            background-color:  #f29094;\n",
       "            color:  #000000;\n",
       "        }    #T_04e579ae_ee18_11ea_bebc_8c859039bca2row1_col3 {\n",
       "            background-color:  #f29094;\n",
       "            color:  #000000;\n",
       "        }    #T_04e579ae_ee18_11ea_bebc_8c859039bca2row1_col4 {\n",
       "            background-color:  #f29094;\n",
       "            color:  #000000;\n",
       "        }    #T_04e579ae_ee18_11ea_bebc_8c859039bca2row1_col5 {\n",
       "            background-color:  #f29094;\n",
       "            color:  #000000;\n",
       "        }    #T_04e579ae_ee18_11ea_bebc_8c859039bca2row1_col6 {\n",
       "            background-color:  #f29094;\n",
       "            color:  #000000;\n",
       "        }</style><table id=\"T_04e579ae_ee18_11ea_bebc_8c859039bca2\" ><thead>    <tr>        <th class=\"blank level0\" ></th>        <th class=\"col_heading level0 col0\" >CAGR</th>        <th class=\"col_heading level0 col1\" >Volatility</th>        <th class=\"col_heading level0 col2\" >Sharpe</th>        <th class=\"col_heading level0 col3\" >Sortino</th>        <th class=\"col_heading level0 col4\" >Max DD</th>        <th class=\"col_heading level0 col5\" >MAR</th>        <th class=\"col_heading level0 col6\" >SWR</th>    </tr></thead><tbody>\n",
       "                <tr>\n",
       "                        <th id=\"T_04e579ae_ee18_11ea_bebc_8c859039bca2level0_row0\" class=\"row_heading level0 row0\" >Portfolio</th>\n",
       "                        <td id=\"T_04e579ae_ee18_11ea_bebc_8c859039bca2row0_col0\" class=\"data row0 col0\" >10.2%</td>\n",
       "                        <td id=\"T_04e579ae_ee18_11ea_bebc_8c859039bca2row0_col1\" class=\"data row0 col1\" >15.3%</td>\n",
       "                        <td id=\"T_04e579ae_ee18_11ea_bebc_8c859039bca2row0_col2\" class=\"data row0 col2\" >0.66</td>\n",
       "                        <td id=\"T_04e579ae_ee18_11ea_bebc_8c859039bca2row0_col3\" class=\"data row0 col3\" >0.85</td>\n",
       "                        <td id=\"T_04e579ae_ee18_11ea_bebc_8c859039bca2row0_col4\" class=\"data row0 col4\" >-51%</td>\n",
       "                        <td id=\"T_04e579ae_ee18_11ea_bebc_8c859039bca2row0_col5\" class=\"data row0 col5\" >0.20</td>\n",
       "                        <td id=\"T_04e579ae_ee18_11ea_bebc_8c859039bca2row0_col6\" class=\"data row0 col6\" >4.7%</td>\n",
       "            </tr>\n",
       "            <tr>\n",
       "                        <th id=\"T_04e579ae_ee18_11ea_bebc_8c859039bca2level0_row1\" class=\"row_heading level0 row1\" >USA</th>\n",
       "                        <td id=\"T_04e579ae_ee18_11ea_bebc_8c859039bca2row1_col0\" class=\"data row1 col0\" >10.2%</td>\n",
       "                        <td id=\"T_04e579ae_ee18_11ea_bebc_8c859039bca2row1_col1\" class=\"data row1 col1\" >15.3%</td>\n",
       "                        <td id=\"T_04e579ae_ee18_11ea_bebc_8c859039bca2row1_col2\" class=\"data row1 col2\" >0.66</td>\n",
       "                        <td id=\"T_04e579ae_ee18_11ea_bebc_8c859039bca2row1_col3\" class=\"data row1 col3\" >0.85</td>\n",
       "                        <td id=\"T_04e579ae_ee18_11ea_bebc_8c859039bca2row1_col4\" class=\"data row1 col4\" >-51%</td>\n",
       "                        <td id=\"T_04e579ae_ee18_11ea_bebc_8c859039bca2row1_col5\" class=\"data row1 col5\" >0.20</td>\n",
       "                        <td id=\"T_04e579ae_ee18_11ea_bebc_8c859039bca2row1_col6\" class=\"data row1 col6\" >4.7%</td>\n",
       "            </tr>\n",
       "    </tbody></table>"
      ],
      "text/plain": [
       "<pandas.io.formats.style.Styler at 0x7fb3c850b910>"
      ]
     },
     "execution_count": 34,
     "metadata": {},
     "output_type": "execute_result"
    }
   ],
   "source": [
    "data, data_names = wrangle(assets, data_freq, lookback_period)\n",
    "\n",
    "res, weights = backtest_strategy(data, w, tol, rebalance_freq, data_names, leverage)\n",
    "strategy_evaluation(res, data_names, freq = data_freq)"
   ]
  },
  {
   "cell_type": "code",
   "execution_count": 35,
   "metadata": {},
   "outputs": [
    {
     "data": {
      "image/png": "[encoded data removed]",
      "text/plain": [
       "<Figure size 1440x720 with 1 Axes>"
      ]
     },
     "metadata": {},
     "output_type": "display_data"
    }
   ],
   "source": [
    "plot(res, \"log\") # \"log\" for log otherwise \"\" for lin"
   ]
  },
  {
   "cell_type": "code",
   "execution_count": 36,
   "metadata": {
    "scrolled": true
   },
   "outputs": [
    {
     "data": {
      "text/html": [
       "<style  type=\"text/css\" >\n",
       "    #T_090f7b6a_ee18_11ea_bebc_8c859039bca2 th {\n",
       "          font-size: 20px;\n",
       "          text-align: center;\n",
       "          font-weight: bold;\n",
       "          color: Black;\n",
       "          background-color: #f7f7f9;\n",
       "    }    #T_090f7b6a_ee18_11ea_bebc_8c859039bca2 td {\n",
       "          font-size: 20px;\n",
       "          text-align: center;\n",
       "    }    #T_090f7b6a_ee18_11ea_bebc_8c859039bca2row0_col0 {\n",
       "            background-color:  #4ebf8f;\n",
       "            color:  #000000;\n",
       "        }    #T_090f7b6a_ee18_11ea_bebc_8c859039bca2row0_col1 {\n",
       "            background-color:  #4ebf8f;\n",
       "            color:  #000000;\n",
       "        }    #T_090f7b6a_ee18_11ea_bebc_8c859039bca2row1_col0 {\n",
       "            background-color:  #4ebf8f;\n",
       "            color:  #000000;\n",
       "        }    #T_090f7b6a_ee18_11ea_bebc_8c859039bca2row1_col1 {\n",
       "            background-color:  #4ebf8f;\n",
       "            color:  #000000;\n",
       "        }</style><table id=\"T_090f7b6a_ee18_11ea_bebc_8c859039bca2\" ><thead>    <tr>        <th class=\"blank level0\" ></th>        <th class=\"col_heading level0 col0\" >Portfolio</th>        <th class=\"col_heading level0 col1\" >USA</th>    </tr></thead><tbody>\n",
       "                <tr>\n",
       "                        <th id=\"T_090f7b6a_ee18_11ea_bebc_8c859039bca2level0_row0\" class=\"row_heading level0 row0\" >Portfolio</th>\n",
       "                        <td id=\"T_090f7b6a_ee18_11ea_bebc_8c859039bca2row0_col0\" class=\"data row0 col0\" >1.00</td>\n",
       "                        <td id=\"T_090f7b6a_ee18_11ea_bebc_8c859039bca2row0_col1\" class=\"data row0 col1\" >1.00</td>\n",
       "            </tr>\n",
       "            <tr>\n",
       "                        <th id=\"T_090f7b6a_ee18_11ea_bebc_8c859039bca2level0_row1\" class=\"row_heading level0 row1\" >USA</th>\n",
       "                        <td id=\"T_090f7b6a_ee18_11ea_bebc_8c859039bca2row1_col0\" class=\"data row1 col0\" >1.00</td>\n",
       "                        <td id=\"T_090f7b6a_ee18_11ea_bebc_8c859039bca2row1_col1\" class=\"data row1 col1\" >1.00</td>\n",
       "            </tr>\n",
       "    </tbody></table>"
      ],
      "text/plain": [
       "<pandas.io.formats.style.Styler at 0x7fb3e0e65390>"
      ]
     },
     "execution_count": 36,
     "metadata": {},
     "output_type": "execute_result"
    }
   ],
   "source": [
    "correlation_map(res)"
   ]
  },
  {
   "cell_type": "code",
   "execution_count": null,
   "metadata": {},
   "outputs": [],
   "source": []
  }
 ],
 "metadata": {
  "kernelspec": {
   "display_name": "Python 3",
   "language": "python",
   "name": "python3"
  },
  "language_info": {
   "codemirror_mode": {
    "name": "ipython",
    "version": 3
   },
   "file_extension": ".py",
   "mimetype": "text/x-python",
   "name": "python",
   "nbconvert_exporter": "python",
   "pygments_lexer": "ipython3",
   "version": "3.7.4"
  }
 },
 "nbformat": 4,
 "nbformat_minor": 4
}
