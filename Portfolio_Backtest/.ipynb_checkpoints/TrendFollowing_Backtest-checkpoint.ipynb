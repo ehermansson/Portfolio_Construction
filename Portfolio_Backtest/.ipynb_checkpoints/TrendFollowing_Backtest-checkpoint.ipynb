{
 "cells": [
  {
   "cell_type": "code",
   "execution_count": 1,
   "metadata": {},
   "outputs": [],
   "source": [
    "import yfinance as yf \n",
    "import pandas as pd\n",
    "import numpy as np\n",
    "from datetime import datetime\n",
    "\n",
    "import quandl\n",
    "\n",
    "import sys\n",
    "import urllib\n",
    "import os"
   ]
  },
  {
   "cell_type": "code",
   "execution_count": 3,
   "metadata": {},
   "outputs": [],
   "source": [
    "def import_MSCI(name):\n",
    "    '''Function to clean data from MSCI\n",
    "    https://www.msci.com/end-of-day-data-country\n",
    "    '''\n",
    "    \n",
    "    \n",
    "    path = \"../Data/\" + name + \".xls\"\n",
    "    imp_tmp = pd.read_excel(path)\n",
    "    price_type = imp_tmp.loc[1][1]\n",
    "    \n",
    "    imp = imp_tmp[6:]\n",
    "    imp.columns = ['Date', name]\n",
    "    #imp['Date'] = pd.to_datetime(imp['Date'], errors='coerce')\n",
    "    imp.loc[0] = pd.to_datetime(imp['Date'], errors='coerce')\n",
    "    imp = imp.dropna()\n",
    "    \n",
    "    imp = imp.set_index('Date')\n",
    "    #imp.index = imp.index.strftime('%Y/%m')\n",
    "    \n",
    "    print(price_type)\n",
    "    \n",
    "    return(imp)\n",
    "\n",
    "#def merge_data():\n",
    "    "
   ]
  },
  {
   "cell_type": "markdown",
   "metadata": {},
   "source": [
    "# Trend Followning Backtest"
   ]
  },
  {
   "cell_type": "code",
   "execution_count": 4,
   "metadata": {},
   "outputs": [
    {
     "name": "stdout",
     "output_type": "stream",
     "text": [
      "Gross\n",
      "Gross\n"
     ]
    },
    {
     "name": "stderr",
     "output_type": "stream",
     "text": [
      "/opt/anaconda3/lib/python3.7/site-packages/pandas/core/indexing.py:205: SettingWithCopyWarning: \n",
      "A value is trying to be set on a copy of a slice from a DataFrame\n",
      "\n",
      "See the caveats in the documentation: http://pandas.pydata.org/pandas-docs/stable/user_guide/indexing.html#returning-a-view-versus-a-copy\n",
      "  self._setitem_with_indexer(indexer, value)\n"
     ]
    }
   ],
   "source": [
    "USA = import_MSCI('USA')\n",
    "RUSSIA = import_MSCI('RUSSIA')"
   ]
  },
  {
   "cell_type": "code",
   "execution_count": null,
   "metadata": {},
   "outputs": [],
   "source": []
  }
 ],
 "metadata": {
  "kernelspec": {
   "display_name": "Python 3",
   "language": "python",
   "name": "python3"
  },
  "language_info": {
   "codemirror_mode": {
    "name": "ipython",
    "version": 3
   },
   "file_extension": ".py",
   "mimetype": "text/x-python",
   "name": "python",
   "nbconvert_exporter": "python",
   "pygments_lexer": "ipython3",
   "version": "3.7.4"
  }
 },
 "nbformat": 4,
 "nbformat_minor": 2
}
