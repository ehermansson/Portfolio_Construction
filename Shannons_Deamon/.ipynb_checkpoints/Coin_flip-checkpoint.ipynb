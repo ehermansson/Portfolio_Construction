{
 "cells": [
  {
   "cell_type": "code",
   "execution_count": 274,
   "metadata": {},
   "outputs": [],
   "source": [
    "import numpy as np\n",
    "import pandas as pd\n",
    "import matplotlib.pyplot as plt\n",
    "import seaborn as sns"
   ]
  },
  {
   "cell_type": "code",
   "execution_count": null,
   "metadata": {},
   "outputs": [],
   "source": [
    "def coin_payoff(n):\n",
    "    outcome = np.random.binomial(n, 0.5)\n",
    "    if outcome == 1:\n",
    "        payoff = 0.5\n",
    "    elif outcome == 0:\n",
    "        payoff = 2\n",
    "    return payoff"
   ]
  },
  {
   "cell_type": "code",
   "execution_count": 183,
   "metadata": {},
   "outputs": [],
   "source": [
    "def payoff(cash_ret_list):\n",
    "    \n",
    "    payoff = pd.DataFrame(cash_ret_list).pct_change()\n",
    "    payoff = payoff.fillna(0)\n",
    "    payoff = (payoff+1).cumprod()\n",
    "    payoff = payoff -1 \n",
    "    \n",
    "    return payoff\n",
    "    "
   ]
  },
  {
   "cell_type": "code",
   "execution_count": 480,
   "metadata": {},
   "outputs": [],
   "source": [
    "def geo_mean(iterable):\n",
    "    a = np.array(iterable)\n",
    "    return a.prod()**(1.0/len(a))"
   ]
  },
  {
   "cell_type": "markdown",
   "metadata": {},
   "source": [
    "# Shannons Deamon Illustration with a coin and cash\n",
    "\n",
    "TODO\n",
    "- geo and arithemtic mean\n",
    "- correlation"
   ]
  },
  {
   "cell_type": "code",
   "execution_count": 541,
   "metadata": {},
   "outputs": [],
   "source": [
    "runs = 10000\n",
    "outcome =pd.DataFrame(np.random.binomial(1, 0.5, size = runs))"
   ]
  },
  {
   "cell_type": "code",
   "execution_count": 542,
   "metadata": {},
   "outputs": [],
   "source": [
    "outcome[outcome==1]=2\n",
    "outcome[outcome==0] = 0.5\n",
    "outcome.iloc[0] = 1"
   ]
  },
  {
   "cell_type": "code",
   "execution_count": 556,
   "metadata": {},
   "outputs": [],
   "source": [
    "init_coin_cash = 1\n",
    "cash_weight = 0.5\n",
    "coin_weight = 1 - cash_weight\n",
    "coin_cash_return = []\n",
    "for i in range(runs):\n",
    "    coin_cash_return.append(init_coin_cash)\n",
    "    cash = float(init_coin_cash * cash_weight)\n",
    "    coin = float(init_coin_cash * coin_weight)\n",
    "    coin = float(coin * outcome.loc[i])\n",
    "    init_coin_cash = coin + cash\n",
    "    \n",
    "cash = [1] * runs"
   ]
  },
  {
   "cell_type": "code",
   "execution_count": 557,
   "metadata": {},
   "outputs": [
    {
     "data": {
      "image/png": "[encoded data removed]",
      "text/plain": [
       "<Figure size 432x288 with 1 Axes>"
      ]
     },
     "metadata": {
      "needs_background": "light"
     },
     "output_type": "display_data"
    }
   ],
   "source": [
    "plt.plot(np.log(outcome.cumprod()), label = \"100% Asset\")\n",
    "plt.plot(np.log(coin_cash_return), label = str(round(coin_weight*100))+\"% Asset/\"+ str(round(cash_weight*100))+\"% Cash\")\n",
    "plt.plot(np.log(cash), label = \"100% Cash\")\n",
    "plt.legend();"
   ]
  }
 ],
 "metadata": {
  "kernelspec": {
   "display_name": "Python 3",
   "language": "python",
   "name": "python3"
  },
  "language_info": {
   "codemirror_mode": {
    "name": "ipython",
    "version": 3
   },
   "file_extension": ".py",
   "mimetype": "text/x-python",
   "name": "python",
   "nbconvert_exporter": "python",
   "pygments_lexer": "ipython3",
   "version": "3.7.4"
  }
 },
 "nbformat": 4,
 "nbformat_minor": 2
}
