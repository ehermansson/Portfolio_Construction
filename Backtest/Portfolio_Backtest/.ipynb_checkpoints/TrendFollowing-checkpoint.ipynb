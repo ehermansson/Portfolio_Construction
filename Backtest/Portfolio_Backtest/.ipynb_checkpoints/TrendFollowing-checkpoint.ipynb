{
 "cells": [
  {
   "cell_type": "code",
   "execution_count": 1,
   "metadata": {},
   "outputs": [
    {
     "name": "stderr",
     "output_type": "stream",
     "text": [
      "/opt/anaconda3/lib/python3.7/site-packages/requests/__init__.py:91: RequestsDependencyWarning: urllib3 (1.26.8) or chardet (3.0.4) doesn't match a supported version!\n",
      "  RequestsDependencyWarning)\n"
     ]
    }
   ],
   "source": [
    "import yfinance as yf \n",
    "import pandas as pd\n",
    "import numpy as np\n",
    "from datetime import datetime\n",
    "\n",
    "import quandl\n",
    "\n",
    "import sys\n",
    "import urllib\n",
    "import os\n",
    "from matplotlib import pylab as plt \n",
    "\n",
    "import quandl\n",
    "\n",
    "import seaborn as sns\n",
    "\n",
    "import sys\n",
    "\n",
    "from scipy.stats import norm"
   ]
  },
  {
   "cell_type": "code",
   "execution_count": 2,
   "metadata": {},
   "outputs": [],
   "source": [
    "def import_MSCI(name):\n",
    "    '''Function to clean data from MSCI\n",
    "    https://www.msci.com/end-of-day-data-country\n",
    "    '''\n",
    "    \n",
    "    \n",
    "    path = \"../Data/\" + name + \".xls\"\n",
    "    imp_tmp = pd.read_excel(path)\n",
    "    price_type = imp_tmp.loc[1][1]\n",
    "    \n",
    "    imp = imp_tmp[6:]\n",
    "    imp.columns = ['Date', name]\n",
    "    #imp['Date'] = pd.to_datetime(imp['Date'], errors='coerce')\n",
    "    imp.loc[0] = pd.to_datetime(imp['Date'], errors='coerce')\n",
    "    imp = imp.dropna()\n",
    "    \n",
    "    imp = imp.set_index('Date')\n",
    "    imp.index = imp.index.strftime('%Y/%m')\n",
    "    imp.index = pd.to_datetime(imp.index, errors='coerce')\n",
    "    \n",
    "    print(price_type)\n",
    "    \n",
    "    return(imp)\n",
    "\n",
    "#def merge_data():\n",
    "    "
   ]
  },
  {
   "cell_type": "code",
   "execution_count": 3,
   "metadata": {},
   "outputs": [],
   "source": [
    "def port_eval(port, freq = 'D'):\n",
    "    \n",
    "    port = pd.DataFrame(port)\n",
    "    port_ret = calc_port_ret(port)\n",
    "    \n",
    "    Roll_Max = port.cummax()\n",
    "    Daily_Drawdown = port/Roll_Max - 1.0\n",
    "    Max_Daily_Drawdown = Daily_Drawdown.cummin()\n",
    "    \n",
    "    Max_Daily_Drawdown = round(Max_Daily_Drawdown.tail(1),2)\n",
    "    \n",
    "    neg_ret = port_ret[port_ret<1].dropna()\n",
    "    \n",
    "    mean = np.mean(port_ret - 1)\n",
    "    std = np.std(port_ret - 1)\n",
    "    \n",
    "    alpha = 0.05\n",
    "    ES = round(alpha**-1 * norm.pdf(norm.ppf(alpha))*std - mean,3)\n",
    " \n",
    "    \n",
    "    if freq == 'D':\n",
    "        cagr = round(port_ret.cumprod().tail(1)**(252/len(port_ret)) - 1,4)\n",
    "        MAR = round(cagr/Max_Daily_Drawdown,2)\n",
    "        vol = round(np.log(port_ret).std()*np.sqrt(252),3)\n",
    "        sortino = round(np.log(neg_ret).std()*np.sqrt(252),2)\n",
    "        sortino = round(cagr/sortino,2)\n",
    "        sharpe = round(cagr/vol,2)\n",
    "        \n",
    "    elif freq == 'M':\n",
    "        cagr = round(port_ret.cumprod().tail(1)**(12/len(port_ret)) - 1,4)\n",
    "        MAR = round(cagr/Max_Daily_Drawdown,2)\n",
    "        vol = round(np.log(port_ret).std()*np.sqrt(12),3)\n",
    "        sortino = round(np.log(neg_ret).std()*np.sqrt(12),2)\n",
    "        sortino = round(cagr/sortino,2)\n",
    "        sharpe = round(cagr/vol,2)\n",
    "        \n",
    "        \n",
    "    metrics = pd.DataFrame({'': [float(cagr.iloc[0]), float(vol.iloc[0]),\n",
    "                                 float(sharpe.iloc[0]),float(sortino.iloc[0]),\n",
    "                                 float(Max_Daily_Drawdown.iloc[0]), abs(float(MAR.iloc[0]))]},\n",
    "                   index=['CAGR', 'Volatility', 'Sharpe','Sortino', 'Max DD', 'MAR'])\n",
    "    \n",
    "    return metrics "
   ]
  },
  {
   "cell_type": "code",
   "execution_count": 4,
   "metadata": {},
   "outputs": [],
   "source": [
    "def strategy_evaluation(result, data_names, freq = 'D'):\n",
    "    metrics = pd.DataFrame([])\n",
    "    \n",
    "    if freq == 'D':\n",
    "    \n",
    "        for i in result.columns:\n",
    "            metrics = pd.concat([metrics, port_eval(result[i], freq = 'D').transpose()], axis = 0)\n",
    "        metrics.index = [\"Portfolio\"] + data_names\n",
    "        \n",
    "    elif freq == 'M':\n",
    "        for i in result.columns:\n",
    "            metrics = pd.concat([metrics, port_eval(result[i], freq = 'M').transpose()], axis = 0)\n",
    "        metrics.index = [\"Portfolio\"] + data_names\n",
    "        \n",
    "    th_props = [\n",
    "  ('font-size', '11px'),\n",
    "  ('text-align', 'center'),\n",
    "  ('font-weight', 'bold'),\n",
    "  ('color', 'Black'),\n",
    "  ('background-color', '#f7f7f9')\n",
    "  ]\n",
    "\n",
    "\n",
    "    # Set CSS properties for td elements in dataframe\n",
    "    td_props = [\n",
    "      ('font-size', '11px'), ('text-align', 'center')\n",
    "      ]\n",
    "\n",
    "    # Set table styles\n",
    "    styles = [\n",
    "      dict(selector=\"th\", props=th_props),\n",
    "      dict(selector=\"td\", props=td_props)\n",
    "      ]\n",
    "\n",
    "    cm_neg_good = sns.diverging_palette(150, 10, s=80, l=70, n=len(metrics.columns), as_cmap=True)#sns.light_palette(\"green\", as_cmap=True)\n",
    "    cm_pos_good = sns.diverging_palette(10, 150, s=80, l=70, n=len(metrics.columns), as_cmap=True)\n",
    "\n",
    "    metrics = (metrics.style\n",
    "      .background_gradient(axis = 0 ,subset = ['CAGR','Max DD', 'Sharpe','MAR','Sortino' ],cmap=cm_pos_good)\n",
    "      .background_gradient(axis = 0 ,subset = ['Volatility'],cmap=cm_neg_good)\n",
    "      #.set_caption('Performance Metrics')\n",
    "      .format({'CAGR': \"{:.2%}\", 'Max DD': \"{:.2%}\", 'Volatility': \"{:.2%}\"})\n",
    "      .set_table_styles(styles))\n",
    "    \n",
    "    return metrics"
   ]
  },
  {
   "cell_type": "code",
   "execution_count": 5,
   "metadata": {},
   "outputs": [],
   "source": [
    "def calc_port_ret(port):\n",
    "    port_ret = port/port.shift(1)\n",
    "    port_ret = port_ret.fillna(1)\n",
    "    \n",
    "    return port_ret"
   ]
  },
  {
   "cell_type": "code",
   "execution_count": 6,
   "metadata": {},
   "outputs": [],
   "source": [
    "def calc_bond_returns(YTM, YTMM1, M):\n",
    "    DY = YTM - YTMM1\n",
    "    yield_income = (1+YTM)**(1/12) - 1\n",
    "    Z = (1+(YTM/2))\n",
    "    \n",
    "\n",
    "    duration = (1/YTM)* (1 -(1/(1+0.5*YTM)**(2*M)))\n",
    "\n",
    "\n",
    "    C1 = (2/YTM**2) * (1-Z**(-2*M))\n",
    "    C2 = ((2*M)/YTM) * Z **(-2*M - 1) \n",
    "    convex = C1-C2\n",
    "\n",
    "    ret = yield_income - duration* DY + (1/2)*convex * (DY**2)\n",
    "    return(ret)\n",
    "\n",
    "def monthly_bonds_ret(bond_YTM, M):\n",
    "    bond_ret = [0]\n",
    "\n",
    "   \n",
    "    \n",
    "    for i in range(len(bond_YTM)-1):\n",
    "        YTM = bond_YTM[i+1]\n",
    "        YTMM1 = bond_YTM[i]\n",
    "        \n",
    "        ret = calc_bond_returns(YTM, YTMM1, M)\n",
    "        bond_ret.append(ret)\n",
    "\n",
    "    bond_ret = pd.DataFrame(bond_ret)\n",
    "    #bond_ret.index = bond_YTM.index + pd.Timedelta('1 day')\n",
    "    bond_ret.index = bond_YTM.index\n",
    "    \n",
    "    bond_ret = (bond_ret+1).cumprod()\n",
    "    return(bond_ret)"
   ]
  },
  {
   "cell_type": "markdown",
   "metadata": {},
   "source": [
    "# Trend Followning Backtest"
   ]
  },
  {
   "cell_type": "code",
   "execution_count": 7,
   "metadata": {},
   "outputs": [
    {
     "name": "stdout",
     "output_type": "stream",
     "text": [
      "[*********************100%***********************]  1 of 1 completed\n"
     ]
    }
   ],
   "source": [
    "Gold_tmp = quandl.get(\"LBMA/GOLD\", authtoken=\"6rNSyTM5R4g7_B7XSyQW\")\n",
    "Gold = pd.DataFrame(Gold_tmp[\"USD (AM)\"])\n",
    "Gold = Gold.resample('M').last()\n",
    "#Gold.index = Gold.index.strftime('%Y/%m')\n",
    "#Gold.index = pd.to_datetime(Gold.index, errors='coerce')\n",
    "\n",
    "SP500_daily_tmp = yf.download(\"^SP500TR\")\n",
    "SP500_daily= pd.DataFrame(SP500_daily_tmp['Close'])\n",
    "SP500_daily.columns = ['SP500']\n",
    "SP500_monthly = SP500_daily.resample('M').last()\n",
    "\n"
   ]
  },
  {
   "cell_type": "code",
   "execution_count": 8,
   "metadata": {},
   "outputs": [
    {
     "name": "stdout",
     "output_type": "stream",
     "text": [
      "[*********************100%***********************]  1 of 1 completed\n"
     ]
    }
   ],
   "source": [
    "bond_5YR_tmp = yf.download('^FVX') #data import\n",
    "bond_5YR = bond_5YR_tmp['Adj Close']\n",
    "bond_5YR_monthly = bond_5YR.resample('M').last()/100\n",
    "\n",
    "bond_5YR = monthly_bonds_ret(bond_5YR_monthly, 5)\n",
    "bond_5YR.columns = ['Bond 5 Yr']"
   ]
  },
  {
   "cell_type": "code",
   "execution_count": 9,
   "metadata": {
    "scrolled": true
   },
   "outputs": [
    {
     "name": "stdout",
     "output_type": "stream",
     "text": [
      "Gross\n",
      "Gross\n",
      "Gross\n",
      "Gross\n",
      "Gross\n",
      "Gross\n",
      "Gross\n"
     ]
    },
    {
     "name": "stderr",
     "output_type": "stream",
     "text": [
      "/opt/anaconda3/lib/python3.7/site-packages/pandas/core/indexing.py:723: SettingWithCopyWarning: \n",
      "A value is trying to be set on a copy of a slice from a DataFrame\n",
      "\n",
      "See the caveats in the documentation: https://pandas.pydata.org/pandas-docs/stable/user_guide/indexing.html#returning-a-view-versus-a-copy\n",
      "  iloc._setitem_with_indexer(indexer, value, self.name)\n"
     ]
    }
   ],
   "source": [
    "USA = import_MSCI('USA')\n",
    "RUSSIA = import_MSCI('RUSSIA')\n",
    "SWEDEN = import_MSCI('SWEDEN')\n",
    "Emerging_Markets = import_MSCI('Emerging_Markets')\n",
    "JAPAN = import_MSCI('JAPAN')\n",
    "PACIFIC_ex_JAPAN = import_MSCI('PACIFIC_ex_JAPAN')\n",
    "small_cap = import_MSCI('SWEDISH_SMALL')"
   ]
  },
  {
   "cell_type": "code",
   "execution_count": 10,
   "metadata": {},
   "outputs": [],
   "source": [
    "data = pd.concat([SP500_monthly, Gold, bond_5YR], axis = 1)\n",
    "data = data.dropna()\n"
   ]
  },
  {
   "cell_type": "markdown",
   "metadata": {},
   "source": [
    "### Data Wrangling"
   ]
  },
  {
   "cell_type": "code",
   "execution_count": 26,
   "metadata": {},
   "outputs": [],
   "source": [
    "top_n_assets =1\n",
    "\n",
    "\n",
    "mom_df = data.copy()\n",
    "mom1_df=mom_df.apply(lambda x:x/x.shift(1) - 1, axis=0)\n",
    "mom3_df=mom_df.apply(lambda x:x/x.shift(3) - 1, axis=0)\n",
    "mom6_df=mom_df.apply(lambda x:x/x.shift(6) - 1, axis=0)\n",
    "mom12_df=mom_df.apply(lambda x:x/x.shift(12) - 1, axis=0)\n",
    "\n",
    "#comb_mom_df=mom12_df+mom6_df+mom3_df\n",
    "\n",
    "comb_mom_df=mom12_df\n",
    "\n"
   ]
  },
  {
   "cell_type": "code",
   "execution_count": 27,
   "metadata": {},
   "outputs": [],
   "source": [
    "returns_df=data.copy()\n",
    "returns_df=returns_df.apply(lambda x:x.shift(-1)/x - 1, axis=0)\n",
    "returns_df=returns_df.iloc[12:]"
   ]
  },
  {
   "cell_type": "markdown",
   "metadata": {},
   "source": [
    "### Backtest"
   ]
  },
  {
   "cell_type": "code",
   "execution_count": 28,
   "metadata": {},
   "outputs": [],
   "source": [
    "rank_df=comb_mom_df.iloc[12:].rank(axis=1,ascending=False)"
   ]
  },
  {
   "cell_type": "code",
   "execution_count": 29,
   "metadata": {},
   "outputs": [],
   "source": [
    "for col in rank_df.columns:\n",
    "    rank_df[col]=np.where(rank_df[col]<=top_n_assets, 1, 0)"
   ]
  },
  {
   "cell_type": "code",
   "execution_count": 30,
   "metadata": {},
   "outputs": [],
   "source": [
    "portf=np.multiply(rank_df,returns_df)\n",
    "portf_rets=portf.sum(axis =1)/top_n_assets\n",
    "\n",
    "portf_rets = portf_rets\n",
    "portf_rets = pd.DataFrame(portf_rets)\n",
    "portf_rets.columns = ['TF']"
   ]
  },
  {
   "cell_type": "code",
   "execution_count": 31,
   "metadata": {
    "scrolled": true
   },
   "outputs": [],
   "source": [
    "bench_ret = SP500_monthly.shift(-1)/SP500_monthly - 1\n",
    "\n",
    "result = pd.concat([portf_rets, bench_ret],axis = 1, sort=False)\n",
    "result = result.dropna()\n",
    "\n",
    "\n",
    "\n",
    "result_cum = result+1\n",
    "result_cum = result_cum.cumprod()\n",
    "result_cum = result_cum.astype('float64')\n",
    "\n",
    "#result"
   ]
  },
  {
   "cell_type": "markdown",
   "metadata": {},
   "source": [
    "### Result"
   ]
  },
  {
   "cell_type": "code",
   "execution_count": 32,
   "metadata": {
    "scrolled": false
   },
   "outputs": [
    {
     "data": {
      "text/html": [
       "<style type=\"text/css\">\n",
       "#T_316a5_ th {\n",
       "  font-size: 11px;\n",
       "  text-align: center;\n",
       "  font-weight: bold;\n",
       "  color: Black;\n",
       "  background-color: #f7f7f9;\n",
       "}\n",
       "#T_316a5_ td {\n",
       "  font-size: 11px;\n",
       "  text-align: center;\n",
       "}\n",
       "#T_316a5_row0_col0, #T_316a5_row0_col1, #T_316a5_row0_col2, #T_316a5_row0_col3, #T_316a5_row0_col4, #T_316a5_row0_col5 {\n",
       "  background-color: #4ebf8f;\n",
       "  color: #f1f1f1;\n",
       "}\n",
       "#T_316a5_row1_col0, #T_316a5_row1_col1, #T_316a5_row1_col2, #T_316a5_row1_col3, #T_316a5_row1_col4, #T_316a5_row1_col5 {\n",
       "  background-color: #f29094;\n",
       "  color: #f1f1f1;\n",
       "}\n",
       "</style>\n",
       "<table id=\"T_316a5_\">\n",
       "  <thead>\n",
       "    <tr>\n",
       "      <th class=\"blank level0\" >&nbsp;</th>\n",
       "      <th class=\"col_heading level0 col0\" >CAGR</th>\n",
       "      <th class=\"col_heading level0 col1\" >Volatility</th>\n",
       "      <th class=\"col_heading level0 col2\" >Sharpe</th>\n",
       "      <th class=\"col_heading level0 col3\" >Sortino</th>\n",
       "      <th class=\"col_heading level0 col4\" >Max DD</th>\n",
       "      <th class=\"col_heading level0 col5\" >MAR</th>\n",
       "    </tr>\n",
       "  </thead>\n",
       "  <tbody>\n",
       "    <tr>\n",
       "      <th id=\"T_316a5_level0_row0\" class=\"row_heading level0 row0\" >Portfolio</th>\n",
       "      <td id=\"T_316a5_row0_col0\" class=\"data row0 col0\" >10.91%</td>\n",
       "      <td id=\"T_316a5_row0_col1\" class=\"data row0 col1\" >14.30%</td>\n",
       "      <td id=\"T_316a5_row0_col2\" class=\"data row0 col2\" >0.760000</td>\n",
       "      <td id=\"T_316a5_row0_col3\" class=\"data row0 col3\" >0.990000</td>\n",
       "      <td id=\"T_316a5_row0_col4\" class=\"data row0 col4\" >-25.00%</td>\n",
       "      <td id=\"T_316a5_row0_col5\" class=\"data row0 col5\" >0.440000</td>\n",
       "    </tr>\n",
       "    <tr>\n",
       "      <th id=\"T_316a5_level0_row1\" class=\"row_heading level0 row1\" >benchmark</th>\n",
       "      <td id=\"T_316a5_row1_col0\" class=\"data row1 col0\" >10.59%</td>\n",
       "      <td id=\"T_316a5_row1_col1\" class=\"data row1 col1\" >15.00%</td>\n",
       "      <td id=\"T_316a5_row1_col2\" class=\"data row1 col2\" >0.710000</td>\n",
       "      <td id=\"T_316a5_row1_col3\" class=\"data row1 col3\" >0.880000</td>\n",
       "      <td id=\"T_316a5_row1_col4\" class=\"data row1 col4\" >-51.00%</td>\n",
       "      <td id=\"T_316a5_row1_col5\" class=\"data row1 col5\" >0.210000</td>\n",
       "    </tr>\n",
       "  </tbody>\n",
       "</table>\n"
      ],
      "text/plain": [
       "<pandas.io.formats.style.Styler at 0x7fde63cd9650>"
      ]
     },
     "execution_count": 32,
     "metadata": {},
     "output_type": "execute_result"
    },
    {
     "data": {
      "image/png": "[encoded data removed]",
      "text/plain": [
       "<Figure size 1440x720 with 1 Axes>"
      ]
     },
     "metadata": {},
     "output_type": "display_data"
    }
   ],
   "source": [
    "sns.set_style(\"darkgrid\");\n",
    "plt.figure(figsize=(20,10));\n",
    "for i in result_cum.columns:\n",
    "    plt.plot(result_cum[i], label = i);\n",
    "start = datetime.date(result_cum.index.min());    \n",
    "end = datetime.date(result_cum.index.max());\n",
    "plt.yscale(\"log\")\n",
    "plt.ylabel('Log Return', fontsize=18)\n",
    "plt.legend(loc=2, prop={'size': 20});\n",
    "plt.title('Backtest from ' + str(start) + ' to ' + str(end), fontsize=20)\n",
    "plt.rc('xtick',labelsize=20)\n",
    "plt.rc('ytick',labelsize=20)\n",
    "\n",
    "strategy_evaluation(result_cum,['benchmark'] , freq = 'M')"
   ]
  },
  {
   "cell_type": "code",
   "execution_count": 33,
   "metadata": {
    "scrolled": false
   },
   "outputs": [
    {
     "name": "stdout",
     "output_type": "stream",
     "text": [
      "1.8545454545454545\n"
     ]
    }
   ],
   "source": [
    "turn_over = 0\n",
    "for j in rank_df.columns:\n",
    "    for i in range(len(rank_df)-1):\n",
    "        \n",
    "        if rank_df[j][i+1]== 1 and rank_df[j][i] == 0:\n",
    "            turn_over = turn_over+(1/top_n_assets)\n",
    "turn_over = turn_over/(len(rank_df)/12)\n",
    "print(turn_over)"
   ]
  },
  {
   "cell_type": "code",
   "execution_count": 34,
   "metadata": {
    "scrolled": true
   },
   "outputs": [
    {
     "data": {
      "text/plain": [
       "<AxesSubplot:xlabel='Date'>"
      ]
     },
     "execution_count": 34,
     "metadata": {},
     "output_type": "execute_result"
    },
    {
     "data": {
      "image/png": "[encoded data removed]",
      "text/plain": [
       "<Figure size 432x288 with 1 Axes>"
      ]
     },
     "metadata": {},
     "output_type": "display_data"
    }
   ],
   "source": [
    "rolling_performance = (1.+result).rolling(window=36).agg(lambda x : x.prod()).dropna()\n",
    "\n",
    "rolling_performance = rolling_performance.subtract(pd.Series(rolling_performance['SP500']), axis = 0)\n",
    "\n",
    "rolling_performance.plot()"
   ]
  },
  {
   "cell_type": "markdown",
   "metadata": {},
   "source": [
    "# Test"
   ]
  },
  {
   "cell_type": "code",
   "execution_count": 30,
   "metadata": {},
   "outputs": [],
   "source": [
    "def TrendFollowing_Backtest(data,benchmark, top_N = 3):\n",
    "    if len(data.columns) < top_N:\n",
    "        print('Decrese Top_N or Increse Assets')\n",
    "    \n",
    "    else:\n",
    "        #Calculate Benchmark Return\n",
    "    \n",
    "        bench_ret = benchmark.shift(-1)/benchmark - 1\n",
    "        bench_ret = bench_ret[13:]\n",
    "        bench_ret = pd.DataFrame(bench_ret)\n",
    "        \n",
    "        #Create Momentum frames\n",
    "        mom_df = data.copy()\n",
    "        mom3_df=mom_df.apply(lambda x:x/x.shift(3) - 1, axis=0)\n",
    "        mom6_df=mom_df.apply(lambda x:x/x.shift(6) - 1, axis=0)\n",
    "        mom12_df=mom_df.apply(lambda x:x/x.shift(12) - 1, axis=0)\n",
    "\n",
    "        comb_mom_df=mom12_df+mom6_df+mom3_df\n",
    "    \n",
    "    \n",
    "        returns_df=data.copy()\n",
    "        #shifting returns back to avoid bias\n",
    "        returns_df=returns_df.apply(lambda x:x.shift(-1)/x - 1, axis=0)\n",
    "    \n",
    "        #ranking assets\n",
    "        rank_df=comb_mom_df.rank(axis=1,ascending=False)\n",
    "    \n",
    "        #all top_N assets are choosen\n",
    "        for col in rank_df.columns:\n",
    "            rank_df[col]=np.where(rank_df[col]<=top_N, 1, 0)\n",
    "    \n",
    "        \n",
    "        portf=np.multiply(rank_df,returns_df)\n",
    "        portf_rets=portf.sum(axis =1)/top_N\n",
    "    \n",
    "        portf_rets = portf_rets[13:]\n",
    "        portf_rets = pd.DataFrame(portf_rets)\n",
    "        portf_rets.columns = ['TF']\n",
    "    \n",
    "        result = pd.concat([portf_rets, bench_ret], axis = 1)\n",
    "        result = result.dropna()\n",
    "    \n",
    "    \n",
    "    \n",
    "        result = result+1\n",
    "        result = result.cumprod()\n",
    "        result = result.astype('float64')\n",
    "\n",
    "    \n",
    "        return(result)"
   ]
  },
  {
   "cell_type": "code",
   "execution_count": 31,
   "metadata": {},
   "outputs": [],
   "source": [
    "#result = TrendFollowing_Backtest(data, data['USA'], top_N = 2)"
   ]
  },
  {
   "cell_type": "code",
   "execution_count": 32,
   "metadata": {},
   "outputs": [],
   "source": [
    "#result"
   ]
  },
  {
   "cell_type": "code",
   "execution_count": null,
   "metadata": {},
   "outputs": [],
   "source": []
  },
  {
   "cell_type": "code",
   "execution_count": 33,
   "metadata": {},
   "outputs": [
    {
     "data": {
      "text/html": [
       "<div>\n",
       "<style scoped>\n",
       "    .dataframe tbody tr th:only-of-type {\n",
       "        vertical-align: middle;\n",
       "    }\n",
       "\n",
       "    .dataframe tbody tr th {\n",
       "        vertical-align: top;\n",
       "    }\n",
       "\n",
       "    .dataframe thead th {\n",
       "        text-align: right;\n",
       "    }\n",
       "</style>\n",
       "<table border=\"1\" class=\"dataframe\">\n",
       "  <thead>\n",
       "    <tr style=\"text-align: right;\">\n",
       "      <th></th>\n",
       "      <th>USA</th>\n",
       "      <th>SWEDEN</th>\n",
       "      <th>USD (AM)</th>\n",
       "      <th>Bond 5 Yr</th>\n",
       "    </tr>\n",
       "    <tr>\n",
       "      <th>Date</th>\n",
       "      <th></th>\n",
       "      <th></th>\n",
       "      <th></th>\n",
       "      <th></th>\n",
       "    </tr>\n",
       "  </thead>\n",
       "  <tbody>\n",
       "    <tr>\n",
       "      <th>1970-12-01</th>\n",
       "      <td>0.046571</td>\n",
       "      <td>0.074583</td>\n",
       "      <td>0.016586</td>\n",
       "      <td>0.030854</td>\n",
       "    </tr>\n",
       "    <tr>\n",
       "      <th>1971-01-01</th>\n",
       "      <td>0.010692</td>\n",
       "      <td>0.048542</td>\n",
       "      <td>0.020789</td>\n",
       "      <td>0.012065</td>\n",
       "    </tr>\n",
       "    <tr>\n",
       "      <th>1971-02-01</th>\n",
       "      <td>0.011381</td>\n",
       "      <td>0.056102</td>\n",
       "      <td>0.095128</td>\n",
       "      <td>-0.009335</td>\n",
       "    </tr>\n",
       "    <tr>\n",
       "      <th>1971-07-01</th>\n",
       "      <td>0.04174</td>\n",
       "      <td>0.013737</td>\n",
       "      <td>-0.034840</td>\n",
       "      <td>-0.011711</td>\n",
       "    </tr>\n",
       "    <tr>\n",
       "      <th>1971-08-01</th>\n",
       "      <td>-0.011932</td>\n",
       "      <td>-0.021882</td>\n",
       "      <td>0.036098</td>\n",
       "      <td>0.006827</td>\n",
       "    </tr>\n",
       "    <tr>\n",
       "      <th>...</th>\n",
       "      <td>...</td>\n",
       "      <td>...</td>\n",
       "      <td>...</td>\n",
       "      <td>...</td>\n",
       "    </tr>\n",
       "    <tr>\n",
       "      <th>2020-02-01</th>\n",
       "      <td>-0.126836</td>\n",
       "      <td>-0.138188</td>\n",
       "      <td>-0.013343</td>\n",
       "      <td>0.021125</td>\n",
       "    </tr>\n",
       "    <tr>\n",
       "      <th>2020-03-01</th>\n",
       "      <td>0.131539</td>\n",
       "      <td>0.08219</td>\n",
       "      <td>0.069859</td>\n",
       "      <td>0.027329</td>\n",
       "    </tr>\n",
       "    <tr>\n",
       "      <th>2020-04-01</th>\n",
       "      <td>0.052017</td>\n",
       "      <td>0.075626</td>\n",
       "      <td>0.005184</td>\n",
       "      <td>0.001774</td>\n",
       "    </tr>\n",
       "    <tr>\n",
       "      <th>2020-05-01</th>\n",
       "      <td>0.022819</td>\n",
       "      <td>0.034244</td>\n",
       "      <td>0.026106</td>\n",
       "      <td>0.002288</td>\n",
       "    </tr>\n",
       "    <tr>\n",
       "      <th>2020-06-01</th>\n",
       "      <td>NaN</td>\n",
       "      <td>NaN</td>\n",
       "      <td>NaN</td>\n",
       "      <td>NaN</td>\n",
       "    </tr>\n",
       "  </tbody>\n",
       "</table>\n",
       "<p>420 rows × 4 columns</p>\n",
       "</div>"
      ],
      "text/plain": [
       "                 USA    SWEDEN  USD (AM)  Bond 5 Yr\n",
       "Date                                               \n",
       "1970-12-01  0.046571  0.074583  0.016586   0.030854\n",
       "1971-01-01  0.010692  0.048542  0.020789   0.012065\n",
       "1971-02-01  0.011381  0.056102  0.095128  -0.009335\n",
       "1971-07-01   0.04174  0.013737 -0.034840  -0.011711\n",
       "1971-08-01 -0.011932 -0.021882  0.036098   0.006827\n",
       "...              ...       ...       ...        ...\n",
       "2020-02-01 -0.126836 -0.138188 -0.013343   0.021125\n",
       "2020-03-01  0.131539   0.08219  0.069859   0.027329\n",
       "2020-04-01  0.052017  0.075626  0.005184   0.001774\n",
       "2020-05-01  0.022819  0.034244  0.026106   0.002288\n",
       "2020-06-01       NaN       NaN       NaN        NaN\n",
       "\n",
       "[420 rows x 4 columns]"
      ]
     },
     "execution_count": 33,
     "metadata": {},
     "output_type": "execute_result"
    }
   ],
   "source": [
    "returns_df"
   ]
  },
  {
   "cell_type": "code",
   "execution_count": 34,
   "metadata": {},
   "outputs": [
    {
     "data": {
      "text/html": [
       "<div>\n",
       "<style scoped>\n",
       "    .dataframe tbody tr th:only-of-type {\n",
       "        vertical-align: middle;\n",
       "    }\n",
       "\n",
       "    .dataframe tbody tr th {\n",
       "        vertical-align: top;\n",
       "    }\n",
       "\n",
       "    .dataframe thead th {\n",
       "        text-align: right;\n",
       "    }\n",
       "</style>\n",
       "<table border=\"1\" class=\"dataframe\">\n",
       "  <thead>\n",
       "    <tr style=\"text-align: right;\">\n",
       "      <th></th>\n",
       "      <th>TF</th>\n",
       "      <th>USA</th>\n",
       "    </tr>\n",
       "    <tr>\n",
       "      <th>Date</th>\n",
       "      <th></th>\n",
       "      <th></th>\n",
       "    </tr>\n",
       "  </thead>\n",
       "  <tbody>\n",
       "    <tr>\n",
       "      <th>1970-12-01</th>\n",
       "      <td>0.038712</td>\n",
       "      <td>0.046571</td>\n",
       "    </tr>\n",
       "    <tr>\n",
       "      <th>1971-01-01</th>\n",
       "      <td>0.011378</td>\n",
       "      <td>0.010692</td>\n",
       "    </tr>\n",
       "    <tr>\n",
       "      <th>1971-02-01</th>\n",
       "      <td>0.001023</td>\n",
       "      <td>0.041133</td>\n",
       "    </tr>\n",
       "    <tr>\n",
       "      <th>1971-07-01</th>\n",
       "      <td>0.003450</td>\n",
       "      <td>0.04174</td>\n",
       "    </tr>\n",
       "    <tr>\n",
       "      <th>1971-08-01</th>\n",
       "      <td>-0.016907</td>\n",
       "      <td>-0.011932</td>\n",
       "    </tr>\n",
       "    <tr>\n",
       "      <th>...</th>\n",
       "      <td>...</td>\n",
       "      <td>...</td>\n",
       "    </tr>\n",
       "    <tr>\n",
       "      <th>2020-01-01</th>\n",
       "      <td>-0.026382</td>\n",
       "      <td>-0.081545</td>\n",
       "    </tr>\n",
       "    <tr>\n",
       "      <th>2020-02-01</th>\n",
       "      <td>0.003891</td>\n",
       "      <td>-0.126836</td>\n",
       "    </tr>\n",
       "    <tr>\n",
       "      <th>2020-03-01</th>\n",
       "      <td>0.048594</td>\n",
       "      <td>0.131539</td>\n",
       "    </tr>\n",
       "    <tr>\n",
       "      <th>2020-04-01</th>\n",
       "      <td>0.003479</td>\n",
       "      <td>0.052017</td>\n",
       "    </tr>\n",
       "    <tr>\n",
       "      <th>2020-05-01</th>\n",
       "      <td>0.014197</td>\n",
       "      <td>0.022819</td>\n",
       "    </tr>\n",
       "  </tbody>\n",
       "</table>\n",
       "<p>419 rows × 2 columns</p>\n",
       "</div>"
      ],
      "text/plain": [
       "                  TF       USA\n",
       "Date                          \n",
       "1970-12-01  0.038712  0.046571\n",
       "1971-01-01  0.011378  0.010692\n",
       "1971-02-01  0.001023  0.041133\n",
       "1971-07-01  0.003450   0.04174\n",
       "1971-08-01 -0.016907 -0.011932\n",
       "...              ...       ...\n",
       "2020-01-01 -0.026382 -0.081545\n",
       "2020-02-01  0.003891 -0.126836\n",
       "2020-03-01  0.048594  0.131539\n",
       "2020-04-01  0.003479  0.052017\n",
       "2020-05-01  0.014197  0.022819\n",
       "\n",
       "[419 rows x 2 columns]"
      ]
     },
     "execution_count": 34,
     "metadata": {},
     "output_type": "execute_result"
    }
   ],
   "source": [
    "result"
   ]
  },
  {
   "cell_type": "code",
   "execution_count": null,
   "metadata": {},
   "outputs": [],
   "source": []
  }
 ],
 "metadata": {
  "kernelspec": {
   "display_name": "Python 3",
   "language": "python",
   "name": "python3"
  },
  "language_info": {
   "codemirror_mode": {
    "name": "ipython",
    "version": 3
   },
   "file_extension": ".py",
   "mimetype": "text/x-python",
   "name": "python",
   "nbconvert_exporter": "python",
   "pygments_lexer": "ipython3",
   "version": "3.7.4"
  }
 },
 "nbformat": 4,
 "nbformat_minor": 2
}
