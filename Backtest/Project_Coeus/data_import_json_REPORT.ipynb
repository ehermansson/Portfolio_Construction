{
 "cells": [
  {
   "cell_type": "code",
   "execution_count": 15,
   "metadata": {},
   "outputs": [],
   "source": [
    "from requests import get\n",
    "from json import loads\n",
    "from time import sleep\n",
    "from typing import List\n",
    "from borsdata_sdk.models.Instrument import Instrument\n",
    "from borsdata_sdk.models.Market import Market\n",
    "import pandas as pd\n",
    "from http import HTTPStatus\n",
    "from borsdata_sdk import BorsdataAPI\n",
    "import borsdata_sdk\n",
    "import requests\n",
    "from pandas.io.json import json_normalize\n",
    "import numpy as np"
   ]
  },
  {
   "cell_type": "code",
   "execution_count": 16,
   "metadata": {},
   "outputs": [],
   "source": [
    "auth_key = 'f4e8e3c7c46c4c34ae238a1822863410'\n",
    "\n",
    "RATE_LIMIT = 429\n",
    "borsdata = BorsdataAPI(auth_key)\n",
    "instruments = borsdata.get_instruments()"
   ]
  },
  {
   "cell_type": "code",
   "execution_count": 17,
   "metadata": {},
   "outputs": [],
   "source": [
    "my_list = []\n",
    "for i in range(len(instruments)):\n",
    "    tmp_list = [instruments[i].insId,instruments[i].name,instruments[i].countryId,instruments[i].sectorId,instruments[i].marketId,instruments[i].instrument]\n",
    "    my_list.append(tmp_list)\n",
    "\n",
    "instruments_df=pd.DataFrame(my_list,columns=['insID','Name','countryId','sectorId', 'marketId', 'instrument']) \n",
    "\n",
    "# Rename the lists to the real names\n",
    "# MarketId: 1 = Large Cap, 2 = Mid Cap, 3=Small Cap, 4=First North\n",
    "\n",
    "swe_stock_main = instruments_df[(instruments_df['countryId'] == 1) & (instruments_df['instrument'] == 0) & (instruments_df['marketId'].isin([1,2,3, 4]))]"
   ]
  },
  {
   "cell_type": "markdown",
   "metadata": {},
   "source": [
    "### TEST WITH JSON\n",
    "\n",
    "- stack reports"
   ]
  },
  {
   "cell_type": "code",
   "execution_count": 18,
   "metadata": {},
   "outputs": [],
   "source": [
    "URL = \"https://apiservice.borsdata.se/v1/instruments/2/reports?authKey=f4e8e3c7c46c4c34ae238a1822863410&maxQuarterCount=40\"\n",
    "response = requests.get(URL)\n",
    "#tmp_df = json_normalize(response.json(), record_path ='reportsR12')"
   ]
  },
  {
   "cell_type": "code",
   "execution_count": 25,
   "metadata": {},
   "outputs": [],
   "source": [
    "#insID = 2\n",
    "#swe_stock_main['insID'].values:\n",
    "\n",
    "#REPORTS_df = pd.DataFrame(columns=['d', 'insID','h','l','c','o','v'])\n",
    "#REPORTS_df = REPORTS_df.set_index(['d', 'insID'])\n",
    "REPORTS_df = pd.DataFrame()\n",
    "\n",
    "for ins in swe_stock_main['insID'].values:\n",
    "    sleep(1) \n",
    "    \n",
    "    q_URL = \"https://apiservice.borsdata.se/v1/instruments/\"+str(ins)+\"/reports?authKey=f4e8e3c7c46c4c34ae238a1822863410&maxQuarterCount=40\"\n",
    "    y_URL = \"https://apiservice.borsdata.se/v1/instruments/\"+str(ins)+\"/reports?authKey=f4e8e3c7c46c4c34ae238a1822863410&maxYearCount=40\"\n",
    "    r12_URL = \"https://apiservice.borsdata.se/v1/instruments/\"+str(ins)+\"/reports?authKey=f4e8e3c7c46c4c34ae238a1822863410&maxR12Count=40\"\n",
    "    q_response = requests.get(q_URL)\n",
    "    y_response = requests.get(y_URL)\n",
    "    r12_response = requests.get(r12_URL)\n",
    "\n",
    "    R12_tmp = json_normalize(r12_response.json(), record_path ='reportsR12')\n",
    "    #if report date is missing, set first day of next year\n",
    "    R12_tmp.loc[R12_tmp['report_Date'].isna(),'report_Date'] = pd.to_datetime(R12_tmp[R12_tmp['report_Date'].isna()]['year']+1,format=\"%Y\")\n",
    "    \n",
    "    R12_tmp['report_Date'] = pd.to_datetime(R12_tmp['report_Date'])\n",
    "    R12_tmp['d'] = pd.to_datetime(R12_tmp['report_Date'])\n",
    "    R12_tmp['insID'] = ins\n",
    "    R12_tmp = R12_tmp.set_index(['d', 'insID'])\n",
    "    \n",
    "    yearly_tmp = json_normalize(y_response.json(), record_path ='reportsYear')\n",
    "    #if report date is missing, set first day of next year\n",
    "    yearly_tmp.loc[yearly_tmp['report_Date'].isna(),'report_Date'] = pd.to_datetime(yearly_tmp[yearly_tmp['report_Date'].isna()]['year']+1,format=\"%Y\")\n",
    "    \n",
    "    yearly_tmp['report_Date'] = pd.to_datetime(yearly_tmp['report_Date'])\n",
    "    yearly_tmp['d'] = pd.to_datetime(yearly_tmp['report_Date'])\n",
    "    yearly_tmp['insID'] = ins\n",
    "    yearly_tmp = yearly_tmp.set_index(['d', 'insID'])\n",
    "    \n",
    "    quarter_tmp = json_normalize(q_response.json(), record_path ='reportsYear')\n",
    "    #if report date is missing, set first day of next year\n",
    "    quarter_tmp.loc[quarter_tmp['report_Date'].isna(),'report_Date'] = pd.to_datetime(quarter_tmp[quarter_tmp['report_Date'].isna()]['year']+1,format=\"%Y\")\n",
    "    \n",
    "    quarter_tmp['report_Date'] = pd.to_datetime(quarter_tmp['report_Date'])\n",
    "    quarter_tmp['d'] = pd.to_datetime(quarter_tmp['report_Date'])\n",
    "    quarter_tmp['insID'] = ins\n",
    "    quarter_tmp = quarter_tmp.set_index(['d', 'insID'])\n",
    "    quarter_tmp.columns = quarter_tmp.columns + \"_quarter\"\n",
    "    \n",
    "    full_report_tmp = pd.concat([R12_tmp,yearly_tmp, quarter_tmp], sort=True)\n",
    "    REPORTS_df = pd.concat([REPORTS_df,full_report_tmp], sort=True) \n",
    "    \n",
    "REPORTS_df = REPORTS_df.sort_index() "
   ]
  },
  {
   "cell_type": "code",
   "execution_count": 26,
   "metadata": {},
   "outputs": [],
   "source": [
    "SAVE = 'YES'\n",
    "\n",
    "if SAVE == 'YES':\n",
    "    REPORTS_df.to_csv(\"SWE_REPORTS.csv\")"
   ]
  },
  {
   "cell_type": "code",
   "execution_count": 21,
   "metadata": {},
   "outputs": [],
   "source": [
    "URL = \"https://apiservice.borsdata.se/v1/instruments/\"+str(2336)+\"/reports?authKey=f4e8e3c7c46c4c34ae238a1822863410&maxQuarterCount=40\"\n",
    "response = requests.get(URL)\n",
    "\n",
    "R12_tmp = json_normalize(response.json(), record_path ='reportsR12')"
   ]
  },
  {
   "cell_type": "code",
   "execution_count": 123,
   "metadata": {},
   "outputs": [
    {
     "data": {
      "text/html": [
       "<div>\n",
       "<style scoped>\n",
       "    .dataframe tbody tr th:only-of-type {\n",
       "        vertical-align: middle;\n",
       "    }\n",
       "\n",
       "    .dataframe tbody tr th {\n",
       "        vertical-align: top;\n",
       "    }\n",
       "\n",
       "    .dataframe thead th {\n",
       "        text-align: right;\n",
       "    }\n",
       "</style>\n",
       "<table border=\"1\" class=\"dataframe\">\n",
       "  <thead>\n",
       "    <tr style=\"text-align: right;\">\n",
       "      <th></th>\n",
       "      <th>year</th>\n",
       "      <th>period</th>\n",
       "      <th>revenues</th>\n",
       "      <th>gross_Income</th>\n",
       "      <th>operating_Income</th>\n",
       "      <th>profit_Before_Tax</th>\n",
       "      <th>profit_To_Equity_Holders</th>\n",
       "      <th>earnings_Per_Share</th>\n",
       "      <th>number_Of_Shares</th>\n",
       "      <th>dividend</th>\n",
       "      <th>...</th>\n",
       "      <th>stock_Price_Average</th>\n",
       "      <th>stock_Price_High</th>\n",
       "      <th>stock_Price_Low</th>\n",
       "      <th>report_Start_Date</th>\n",
       "      <th>report_End_Date</th>\n",
       "      <th>broken_Fiscal_Year</th>\n",
       "      <th>currency</th>\n",
       "      <th>currency_Ratio</th>\n",
       "      <th>net_Sales</th>\n",
       "      <th>report_Date</th>\n",
       "    </tr>\n",
       "  </thead>\n",
       "  <tbody>\n",
       "    <tr>\n",
       "      <td>0</td>\n",
       "      <td>2020</td>\n",
       "      <td>4</td>\n",
       "      <td>0.0</td>\n",
       "      <td>0.0</td>\n",
       "      <td>0.0</td>\n",
       "      <td>0.0</td>\n",
       "      <td>0.0</td>\n",
       "      <td>0.0</td>\n",
       "      <td>53.702</td>\n",
       "      <td>0.0</td>\n",
       "      <td>...</td>\n",
       "      <td>7.05</td>\n",
       "      <td>7.6</td>\n",
       "      <td>6.5</td>\n",
       "      <td>2020-01-01T00:00:00</td>\n",
       "      <td>2020-12-31T00:00:00</td>\n",
       "      <td>False</td>\n",
       "      <td>SEK</td>\n",
       "      <td>1.0</td>\n",
       "      <td>0.0</td>\n",
       "      <td>None</td>\n",
       "    </tr>\n",
       "    <tr>\n",
       "      <td>1</td>\n",
       "      <td>2019</td>\n",
       "      <td>4</td>\n",
       "      <td>0.0</td>\n",
       "      <td>0.0</td>\n",
       "      <td>0.0</td>\n",
       "      <td>0.0</td>\n",
       "      <td>0.0</td>\n",
       "      <td>0.0</td>\n",
       "      <td>53.702</td>\n",
       "      <td>0.0</td>\n",
       "      <td>...</td>\n",
       "      <td>0.00</td>\n",
       "      <td>0.0</td>\n",
       "      <td>0.0</td>\n",
       "      <td>2019-01-01T00:00:00</td>\n",
       "      <td>2019-12-31T00:00:00</td>\n",
       "      <td>False</td>\n",
       "      <td>SEK</td>\n",
       "      <td>1.0</td>\n",
       "      <td>0.0</td>\n",
       "      <td>None</td>\n",
       "    </tr>\n",
       "  </tbody>\n",
       "</table>\n",
       "<p>2 rows × 37 columns</p>\n",
       "</div>"
      ],
      "text/plain": [
       "   year  period  revenues  gross_Income  operating_Income  profit_Before_Tax  \\\n",
       "0  2020       4       0.0           0.0               0.0                0.0   \n",
       "1  2019       4       0.0           0.0               0.0                0.0   \n",
       "\n",
       "   profit_To_Equity_Holders  earnings_Per_Share  number_Of_Shares  dividend  \\\n",
       "0                       0.0                 0.0            53.702       0.0   \n",
       "1                       0.0                 0.0            53.702       0.0   \n",
       "\n",
       "   ...  stock_Price_Average  stock_Price_High  stock_Price_Low  \\\n",
       "0  ...                 7.05               7.6              6.5   \n",
       "1  ...                 0.00               0.0              0.0   \n",
       "\n",
       "     report_Start_Date      report_End_Date  broken_Fiscal_Year  currency  \\\n",
       "0  2020-01-01T00:00:00  2020-12-31T00:00:00               False       SEK   \n",
       "1  2019-01-01T00:00:00  2019-12-31T00:00:00               False       SEK   \n",
       "\n",
       "   currency_Ratio  net_Sales  report_Date  \n",
       "0             1.0        0.0         None  \n",
       "1             1.0        0.0         None  \n",
       "\n",
       "[2 rows x 37 columns]"
      ]
     },
     "execution_count": 123,
     "metadata": {},
     "output_type": "execute_result"
    }
   ],
   "source": [
    "R12_tmp"
   ]
  },
  {
   "cell_type": "code",
   "execution_count": 121,
   "metadata": {},
   "outputs": [],
   "source": [
    "R12_tmp[R12_tmp['report_Date'].isna()]['report_Date'] = pd.to_datetime(R12_tmp[R12_tmp['report_Date'].isna()]['year']+1,format=\"%Y\")"
   ]
  },
  {
   "cell_type": "code",
   "execution_count": 107,
   "metadata": {},
   "outputs": [
    {
     "data": {
      "text/plain": [
       "0   2021-01-01\n",
       "1   2020-01-01\n",
       "Name: year, dtype: datetime64[ns]"
      ]
     },
     "execution_count": 107,
     "metadata": {},
     "output_type": "execute_result"
    }
   ],
   "source": [
    "pd.to_datetime(R12_tmp[R12_tmp['report_Date'].isna()]['year']+1,format=\"%Y\")"
   ]
  },
  {
   "cell_type": "code",
   "execution_count": 114,
   "metadata": {},
   "outputs": [
    {
     "data": {
      "text/html": [
       "<div>\n",
       "<style scoped>\n",
       "    .dataframe tbody tr th:only-of-type {\n",
       "        vertical-align: middle;\n",
       "    }\n",
       "\n",
       "    .dataframe tbody tr th {\n",
       "        vertical-align: top;\n",
       "    }\n",
       "\n",
       "    .dataframe thead th {\n",
       "        text-align: right;\n",
       "    }\n",
       "</style>\n",
       "<table border=\"1\" class=\"dataframe\">\n",
       "  <thead>\n",
       "    <tr style=\"text-align: right;\">\n",
       "      <th></th>\n",
       "      <th></th>\n",
       "      <th>year</th>\n",
       "      <th>period</th>\n",
       "      <th>revenues</th>\n",
       "      <th>gross_Income</th>\n",
       "      <th>operating_Income</th>\n",
       "      <th>profit_Before_Tax</th>\n",
       "      <th>profit_To_Equity_Holders</th>\n",
       "      <th>earnings_Per_Share</th>\n",
       "      <th>number_Of_Shares</th>\n",
       "      <th>dividend</th>\n",
       "      <th>...</th>\n",
       "      <th>stock_Price_Average</th>\n",
       "      <th>stock_Price_High</th>\n",
       "      <th>stock_Price_Low</th>\n",
       "      <th>report_Start_Date</th>\n",
       "      <th>report_End_Date</th>\n",
       "      <th>broken_Fiscal_Year</th>\n",
       "      <th>currency</th>\n",
       "      <th>currency_Ratio</th>\n",
       "      <th>net_Sales</th>\n",
       "      <th>report_Date</th>\n",
       "    </tr>\n",
       "    <tr>\n",
       "      <th>d</th>\n",
       "      <th>insID</th>\n",
       "      <th></th>\n",
       "      <th></th>\n",
       "      <th></th>\n",
       "      <th></th>\n",
       "      <th></th>\n",
       "      <th></th>\n",
       "      <th></th>\n",
       "      <th></th>\n",
       "      <th></th>\n",
       "      <th></th>\n",
       "      <th></th>\n",
       "      <th></th>\n",
       "      <th></th>\n",
       "      <th></th>\n",
       "      <th></th>\n",
       "      <th></th>\n",
       "      <th></th>\n",
       "      <th></th>\n",
       "      <th></th>\n",
       "      <th></th>\n",
       "      <th></th>\n",
       "    </tr>\n",
       "  </thead>\n",
       "  <tbody>\n",
       "    <tr>\n",
       "      <td rowspan=\"2\" valign=\"top\">NaT</td>\n",
       "      <td>2286</td>\n",
       "      <td>2021</td>\n",
       "      <td>2</td>\n",
       "      <td>457.837</td>\n",
       "      <td>413.574</td>\n",
       "      <td>-95.618</td>\n",
       "      <td>-109.711</td>\n",
       "      <td>-107.360</td>\n",
       "      <td>-0.6961</td>\n",
       "      <td>154.222</td>\n",
       "      <td>0.0</td>\n",
       "      <td>...</td>\n",
       "      <td>0.0</td>\n",
       "      <td>0.0</td>\n",
       "      <td>0.0</td>\n",
       "      <td>2020-07-01T00:00:00</td>\n",
       "      <td>2021-06-30T00:00:00</td>\n",
       "      <td>False</td>\n",
       "      <td>SEK</td>\n",
       "      <td>1.0</td>\n",
       "      <td>364.529</td>\n",
       "      <td>NaT</td>\n",
       "    </tr>\n",
       "    <tr>\n",
       "      <td>2286</td>\n",
       "      <td>2020</td>\n",
       "      <td>4</td>\n",
       "      <td>438.103</td>\n",
       "      <td>392.962</td>\n",
       "      <td>-73.933</td>\n",
       "      <td>-86.250</td>\n",
       "      <td>-84.831</td>\n",
       "      <td>-0.5500</td>\n",
       "      <td>154.222</td>\n",
       "      <td>0.0</td>\n",
       "      <td>...</td>\n",
       "      <td>0.0</td>\n",
       "      <td>0.0</td>\n",
       "      <td>0.0</td>\n",
       "      <td>2020-01-01T00:00:00</td>\n",
       "      <td>2020-12-31T00:00:00</td>\n",
       "      <td>False</td>\n",
       "      <td>SEK</td>\n",
       "      <td>1.0</td>\n",
       "      <td>348.207</td>\n",
       "      <td>NaT</td>\n",
       "    </tr>\n",
       "  </tbody>\n",
       "</table>\n",
       "<p>2 rows × 37 columns</p>\n",
       "</div>"
      ],
      "text/plain": [
       "           year  period  revenues  gross_Income  operating_Income  \\\n",
       "d   insID                                                           \n",
       "NaT 2286   2021       2   457.837       413.574           -95.618   \n",
       "    2286   2020       4   438.103       392.962           -73.933   \n",
       "\n",
       "           profit_Before_Tax  profit_To_Equity_Holders  earnings_Per_Share  \\\n",
       "d   insID                                                                    \n",
       "NaT 2286            -109.711                  -107.360             -0.6961   \n",
       "    2286             -86.250                   -84.831             -0.5500   \n",
       "\n",
       "           number_Of_Shares  dividend  ...  stock_Price_Average  \\\n",
       "d   insID                              ...                        \n",
       "NaT 2286            154.222       0.0  ...                  0.0   \n",
       "    2286            154.222       0.0  ...                  0.0   \n",
       "\n",
       "           stock_Price_High  stock_Price_Low    report_Start_Date  \\\n",
       "d   insID                                                           \n",
       "NaT 2286                0.0              0.0  2020-07-01T00:00:00   \n",
       "    2286                0.0              0.0  2020-01-01T00:00:00   \n",
       "\n",
       "               report_End_Date  broken_Fiscal_Year  currency  currency_Ratio  \\\n",
       "d   insID                                                                      \n",
       "NaT 2286   2021-06-30T00:00:00               False       SEK             1.0   \n",
       "    2286   2020-12-31T00:00:00               False       SEK             1.0   \n",
       "\n",
       "           net_Sales  report_Date  \n",
       "d   insID                          \n",
       "NaT 2286     364.529          NaT  \n",
       "    2286     348.207          NaT  \n",
       "\n",
       "[2 rows x 37 columns]"
      ]
     },
     "execution_count": 114,
     "metadata": {},
     "output_type": "execute_result"
    }
   ],
   "source": [
    "R12_tmp[R12_tmp['report_Date'].isna()]"
   ]
  },
  {
   "cell_type": "code",
   "execution_count": 126,
   "metadata": {},
   "outputs": [],
   "source": [
    "R12_tmp.loc[R12_tmp['report_Date'].isna(),'report_Date'] = pd.to_datetime(R12_tmp[R12_tmp['report_Date'].isna()]['year']+1,format=\"%Y\")"
   ]
  },
  {
   "cell_type": "code",
   "execution_count": 124,
   "metadata": {},
   "outputs": [
    {
     "data": {
      "text/plain": [
       "0    None\n",
       "1    None\n",
       "Name: report_Date, dtype: object"
      ]
     },
     "execution_count": 124,
     "metadata": {},
     "output_type": "execute_result"
    }
   ],
   "source": [
    "R12_tmp.loc[R12_tmp['report_Date'].isna(),'report_Date']"
   ]
  },
  {
   "cell_type": "code",
   "execution_count": 125,
   "metadata": {},
   "outputs": [
    {
     "data": {
      "text/plain": [
       "0   2021-01-01\n",
       "1   2020-01-01\n",
       "Name: year, dtype: datetime64[ns]"
      ]
     },
     "execution_count": 125,
     "metadata": {},
     "output_type": "execute_result"
    }
   ],
   "source": [
    "pd.to_datetime(R12_tmp[R12_tmp['report_Date'].isna()]['year']+1,format=\"%Y\")"
   ]
  },
  {
   "cell_type": "code",
   "execution_count": null,
   "metadata": {},
   "outputs": [],
   "source": []
  }
 ],
 "metadata": {
  "kernelspec": {
   "display_name": "Python 3",
   "language": "python",
   "name": "python3"
  },
  "language_info": {
   "codemirror_mode": {
    "name": "ipython",
    "version": 3
   },
   "file_extension": ".py",
   "mimetype": "text/x-python",
   "name": "python",
   "nbconvert_exporter": "python",
   "pygments_lexer": "ipython3",
   "version": "3.7.4"
  }
 },
 "nbformat": 4,
 "nbformat_minor": 2
}
