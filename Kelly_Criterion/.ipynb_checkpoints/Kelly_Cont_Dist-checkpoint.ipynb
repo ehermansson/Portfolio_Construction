{
 "cells": [
  {
   "cell_type": "code",
   "execution_count": 1,
   "metadata": {},
   "outputs": [],
   "source": [
    "import cvxopt as cvx\n",
    "from cvxopt import blas, solvers\n",
    "import cvxpy as cp\n",
    "\n",
    "import scipy.optimize as sco\n",
    "\n",
    "import numpy as np\n",
    "import pandas as pd"
   ]
  },
  {
   "cell_type": "code",
   "execution_count": 2,
   "metadata": {},
   "outputs": [],
   "source": [
    "def port_ret(weights, ret, risk_free = 0):\n",
    "    #needs to be array\n",
    "    port_ret = risk_free + weights.dot(ret - risk_free)\n",
    "    \n",
    "    return(port_ret)"
   ]
  },
  {
   "cell_type": "code",
   "execution_count": 3,
   "metadata": {},
   "outputs": [],
   "source": [
    "def port_var(weights, cov):\n",
    "    var = weights.dot(cov).dot(weights)\n",
    "    return(var)"
   ]
  },
  {
   "cell_type": "code",
   "execution_count": 4,
   "metadata": {},
   "outputs": [],
   "source": [
    "def kelly_objective(weights,ret, cov, risk_free = 0):\n",
    "    kelly_ret = port_ret(weights, ret)\n",
    "    var = port_var(weights, cov)\n",
    "    \n",
    "    #obj = (-sum(weights) * var) + kelly_ret -risk_free\n",
    "    \n",
    "    obj = -(risk_free + sum(weights)*(kelly_ret - risk_free) -((sum(weights)**2)*var)/(2))\n",
    "    return(obj)"
   ]
  },
  {
   "cell_type": "code",
   "execution_count": 88,
   "metadata": {},
   "outputs": [],
   "source": [
    "def kelly_cri(ret, cov ,risk_free = 0):\n",
    "    \n",
    "    #need smaller step size\n",
    "    num_assets = ret.shape[0]\n",
    "    args = (ret, cov,risk_free)\n",
    "    constraints = ({'type':'ineq', 'fun': lambda x: x},#all elements greater than one\n",
    "                  {'type':'ineq', 'fun': lambda x: 1 - np.sum(x)}  )  # sum <= 1\n",
    "    \n",
    "    result = sco.minimize(kelly_objective, num_assets*[1./num_assets,], args=args, \n",
    "                          method='SLSQP', constraints=constraints) \n",
    "    \n",
    "    return (result)"
   ]
  },
  {
   "cell_type": "code",
   "execution_count": 177,
   "metadata": {},
   "outputs": [],
   "source": [
    "def uncons_kelly(cov, ret, risk_free_rate = 0):\n",
    "    \n",
    "    if np.linalg.det(cov) == 0:\n",
    "        return (print(\"Singular Matrix\"))\n",
    "    else:\n",
    "        kelly = np.linalg.inv(cov).dot((ret-risk_free_rate))\n",
    "        return kelly"
   ]
  },
  {
   "cell_type": "code",
   "execution_count": 178,
   "metadata": {},
   "outputs": [],
   "source": [
    "def theoretical_kelly_lev(mu_1, mu_2, s_1, s_2, corr):\n",
    "    \n",
    "    weight_1 = (mu_1 -mu_2 +(s_2 + corr * s_1)*s_2)/(s_1**2+s_2**2 - 2*corr*s_1*s_2)\n",
    "    weight_2 = (mu_2 -mu_1 +(s_1 + corr * s_2)*s_1)/(s_1**2+s_2**2 - 2*corr*s_1*s_2)\n",
    "    \n",
    "    cash = 1- weight_1 - weight_2\n",
    "    \n",
    "    return (weight_1, weight_2, cash)"
   ]
  },
  {
   "cell_type": "code",
   "execution_count": 215,
   "metadata": {},
   "outputs": [],
   "source": [
    "def get_cov(std_1, std_2, corr):\n",
    "    cov_1_2 = std_1 * std_2/100\n",
    "    cov = np.array([[std_1**2/100 ,corr * cov_1_2],[corr * cov_1_2,std_2**2/100]])\n",
    "    \n",
    "    return cov"
   ]
  },
  {
   "cell_type": "markdown",
   "metadata": {},
   "source": [
    "# Kelly Criterion Continous Distribution\n",
    "\n",
    "TODO:\n"
   ]
  },
  {
   "cell_type": "code",
   "execution_count": 216,
   "metadata": {},
   "outputs": [],
   "source": [
    "rf_rate = 0\n",
    "ret = np.array([7,10])\n",
    "corr = 0\n",
    "std_1 = 20\n",
    "std_2 = 30\n",
    "\n",
    "cov = get_cov(std_1, std_2, corr)"
   ]
  },
  {
   "cell_type": "markdown",
   "metadata": {},
   "source": [
    "## Original Kelly\n",
    "\n",
    "The optimal Weights for a portolio (the one with the highest geometric growth) is given by taking the derivative og the portfolio growth and setting it to zero. The portfolio growth is\n",
    "\n",
    " $g_\\infty = r + F^T(M - r) - \\frac{F^T C F}{2}$\n",
    "\n",
    "Where $r$ is the riskless rate, $F$ is the vector of weights, $M$ is the mean return vector and $C$ is the covariance vector.\n",
    "\n",
    "To get the optimal weights one take the derivative of the growth rate, $g_\\infty$, with respect to the weight, $F$, and minimize it. The derivative is given below\n",
    "\n",
    "$\\frac{\\partial g_\\infty}{\\partial F} = C \\dot F + M - r $\n",
    "\n",
    "With no constraints the optimal weight $F^*$ is given by\n",
    "\n",
    "$F^* = C^{-1} M-r$\n",
    "\n"
   ]
  },
  {
   "cell_type": "code",
   "execution_count": 217,
   "metadata": {
    "scrolled": true
   },
   "outputs": [
    {
     "data": {
      "text/plain": [
       "array([1.75      , 1.11111111])"
      ]
     },
     "execution_count": 217,
     "metadata": {},
     "output_type": "execute_result"
    }
   ],
   "source": [
    "uncons_kelly(cov, ret, risk_free_rate = rf_rate)"
   ]
  },
  {
   "cell_type": "markdown",
   "metadata": {},
   "source": [
    "## Fractional Betting and Properties\n",
    "\n",
    "When considering the portfolio as a continous process with kelly weights one can calculate some properties for the portfolio, such as time until a certain goal, probability of a drawdown and similar. "
   ]
  },
  {
   "cell_type": "code",
   "execution_count": 218,
   "metadata": {
    "scrolled": true
   },
   "outputs": [
    {
     "name": "stdout",
     "output_type": "stream",
     "text": [
      "Return for Full Kelly: 23.36111111111111%\n",
      "Volatility for Full Kelly: 4.83%\n"
     ]
    }
   ],
   "source": [
    "print(\"Return for Full Kelly: \" + str(port_ret(uncons_kelly(cov, ret, risk_free_rate = 0), ret, risk_free = 0)) + \"%\")\n",
    "print(\"Volatility for Full Kelly: \" + str(np.sqrt(port_var(uncons_kelly(cov, ret, risk_free_rate = 0), cov)).round(2)) + \"%\")\n",
    "\n"
   ]
  },
  {
   "cell_type": "markdown",
   "metadata": {},
   "source": [
    "## Theoretical Kelly for two assets: Unleverd and no short selling"
   ]
  },
  {
   "cell_type": "markdown",
   "metadata": {},
   "source": [
    "\n",
    "If one have two assets where $a_1, a_2$ are the percentage gain for assets 1 and 2, also $b_1, b_2$ are the percentage loss for the same. $\\rho$ is the correlation of the assets and $p$ is the possability of comovments which is defined as $p = \\frac{\\rho + 1}{2}$.\n",
    "\n",
    "\n",
    "If one does a taylor expansion of the geometric growth one will find that the geometric growth, $g = \\mu - \\frac{\\sigma^2}{2}$ where $\\mu = \\frac{a-b}{2}$ and $\\sigma^2 = \\frac{a+b}{2}$. This is the same as for the continous case. \n",
    "\n",
    "The optimal weight for an asset, say asset 1, is calculated as $ w_A = \\frac{\\mu_1-\\mu_2 + (\\sigma_2 -\\rho\\sigma_1)\\sigma_2}{\\sigma_1^2 + \\sigma_2^2 - 2\\rho\\sigma_1\\sigma_2}$\n",
    "\n",
    "If $w_1 + w_2 < 1$, then the rest of the bankroll is held in cash. \n",
    "\n",
    "CAUTION: This formula only works for two assets. The formula also has the implicit constrants of no leverage and no short selling."
   ]
  },
  {
   "cell_type": "code",
   "execution_count": 223,
   "metadata": {},
   "outputs": [],
   "source": [
    "def theoretical_kelly_lev(mu_1, mu_2, s_1, s_2, corr, rf_rate):\n",
    "    mu_1 = mu_2 - rf_rate\n",
    "    mu_2 = mu_2 - rf_rate\n",
    "    \n",
    "    \n",
    "    weight_1 = (mu_1 -mu_2 +(s_2 - corr * s_1)*s_2)/(s_1**2+s_2**2 - 2*corr*s_1*s_2)\n",
    "    weight_2 = (mu_2 -mu_1 +(s_1 - corr * s_2)*s_1)/(s_1**2+s_2**2 - 2*corr*s_1*s_2)\n",
    "    \n",
    "    cash = 1- weight_1 - weight_2\n",
    "    \n",
    "    return (weight_1, weight_2, cash)"
   ]
  },
  {
   "cell_type": "code",
   "execution_count": 224,
   "metadata": {},
   "outputs": [
    {
     "data": {
      "text/plain": [
       "(0.6923076923076923, 0.3076923076923077, 0.0)"
      ]
     },
     "execution_count": 224,
     "metadata": {},
     "output_type": "execute_result"
    }
   ],
   "source": [
    "theoretical_kelly_lev(ret[0], ret[1], std_1, std_2, corr, rf_rate)"
   ]
  },
  {
   "cell_type": "markdown",
   "metadata": {},
   "source": [
    "## Constrained Kelly\n",
    "\n",
    "When there is contraints on the portfolio (short selling, leverage, and so on) one can calculate the portfolio return for the portfolio and use quadratic maximazation to find the optimal weights under said constrinats. The portfolio porperties are:\n",
    "\n",
    "$g_\\infty = F^T M$\n",
    "\n",
    "and\n",
    "\n",
    "$\\sigma^2 = F^T C F $\n",
    "\n",
    "and since for the single asset case, the growth rate is\n",
    "\n",
    "$g_\\infty = r + f(m-r) - \\frac{f^2 s^2}{2}$\n",
    "\n",
    "\n",
    "In the constrianed case one might not reach the optimal point, so one cannot take the derivative and set to zero. Instead one has to maximize the return of the portfolio under certain constriants (short selling, leverage, and so on). \n"
   ]
  },
  {
   "cell_type": "code",
   "execution_count": 225,
   "metadata": {
    "scrolled": true
   },
   "outputs": [],
   "source": [
    "result = kelly_cri(ret, cov, risk_free = 0)"
   ]
  },
  {
   "cell_type": "code",
   "execution_count": 226,
   "metadata": {},
   "outputs": [
    {
     "data": {
      "text/plain": [
       "array([0.46, 0.54])"
      ]
     },
     "execution_count": 226,
     "metadata": {},
     "output_type": "execute_result"
    }
   ],
   "source": [
    "result['x'].round(2)"
   ]
  }
 ],
 "metadata": {
  "kernelspec": {
   "display_name": "Python 3",
   "language": "python",
   "name": "python3"
  },
  "language_info": {
   "codemirror_mode": {
    "name": "ipython",
    "version": 3
   },
   "file_extension": ".py",
   "mimetype": "text/x-python",
   "name": "python",
   "nbconvert_exporter": "python",
   "pygments_lexer": "ipython3",
   "version": "3.7.4"
  }
 },
 "nbformat": 4,
 "nbformat_minor": 2
}
