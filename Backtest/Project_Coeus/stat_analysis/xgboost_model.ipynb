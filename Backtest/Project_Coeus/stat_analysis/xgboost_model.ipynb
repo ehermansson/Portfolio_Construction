{
 "cells": [
  {
   "cell_type": "code",
   "execution_count": 1,
   "metadata": {},
   "outputs": [],
   "source": [
    "from sklearn.preprocessing import PolynomialFeatures\n",
    "import scipy.special\n",
    "import xgboost as xgb\n",
    "from sklearn.model_selection import GridSearchCV\n",
    "from sklearn.inspection import permutation_importance\n",
    "from xgboost import plot_importance\n",
    "import sklearn\n",
    "\n",
    "import pandas as pd\n",
    "from scipy.stats import zscore\n",
    "import matplotlib.pyplot as plt\n",
    "import numpy as np\n",
    "import seaborn as sns\n",
    "from sklearn.linear_model import LinearRegression\n",
    "import statsmodels.api as sm\n",
    "import statsmodels.formula.api as smf\n",
    "import re"
   ]
  },
  {
   "cell_type": "markdown",
   "metadata": {},
   "source": [
    "# XGBoost Model to predict returns\n",
    "to do\n",
    " - Do test for 3 month return as well\n"
   ]
  },
  {
   "cell_type": "code",
   "execution_count": 2,
   "metadata": {},
   "outputs": [],
   "source": [
    "tmp_df = pd.read_csv('../data/VQ_data.csv')\n",
    "tmp_df['d'] = pd.to_datetime(tmp_df['d'])\n",
    "tmp_df = tmp_df.set_index(['d', 'insID'])"
   ]
  },
  {
   "cell_type": "code",
   "execution_count": 3,
   "metadata": {},
   "outputs": [
    {
     "name": "stderr",
     "output_type": "stream",
     "text": [
      "/opt/anaconda3/lib/python3.7/site-packages/ipykernel_launcher.py:12: SettingWithCopyWarning: \n",
      "A value is trying to be set on a copy of a slice from a DataFrame.\n",
      "Try using .loc[row_indexer,col_indexer] = value instead\n",
      "\n",
      "See the caveats in the documentation: https://pandas.pydata.org/pandas-docs/stable/user_guide/indexing.html#returning-a-view-versus-a-copy\n",
      "  if sys.path[0] == '':\n"
     ]
    }
   ],
   "source": [
    "min_MCAP = 500\n",
    "clean_df = tmp_df[tmp_df['MCAP']>min_MCAP]\n",
    "\n",
    "monthly_df =clean_df.groupby([clean_df.index.get_level_values(1), pd.Grouper(freq='m', level=0)]).last()\n",
    "monthly_df['log_ret_1m'] = monthly_df['adj_c'].groupby(level='insID').apply(lambda x: np.log(x.shift(-1)) - np.log(x))\n",
    "monthly_df = monthly_df.unstack('insID').iloc[::1, :].stack('insID')\n",
    "\n",
    "\n",
    "colmax_list = ['PE', 'PB', 'EVEBIT', 'EVFCF', 'PS', 'PFCF']\n",
    "\n",
    "for colmax in colmax_list:\n",
    "    monthly_df[monthly_df[colmax]< 0][colmax] = monthly_df[colmax].max()\n",
    "    "
   ]
  },
  {
   "cell_type": "code",
   "execution_count": 4,
   "metadata": {},
   "outputs": [],
   "source": [
    "col_list = ['PE', 'PB', 'PFCF','mom12','EAR_std','mom6','mom3' ,'ROA','FCFROE','ROE','GPA','SUE_Y','RSURP_Y','PFCF', 'Asset_growth' ,'log_ret_1m']\n",
    "zscore_df = pd.DataFrame()\n",
    "zscore_df.index = monthly_df.index\n",
    "\n",
    "for col in col_list:\n",
    "    col_zscore = col+ '_zscore'\n",
    "    zscore_tmp_df = monthly_df[col]\n",
    "    zscore_tmp_df = zscore_tmp_df\n",
    "    zscore_df[col_zscore] = (zscore_tmp_df - zscore_tmp_df.unstack(level ='d').mean())/zscore_tmp_df.unstack(level ='d').std()\n",
    "\n",
    "\n",
    "\n",
    "#group by quintiles \n",
    "\n",
    "for col in list(set(list(zscore_df.columns)) - set( 'log_ret_1m_zscore')):\n",
    "    col_group = col + '_group'\n",
    "    zscore_df[col_group] = pd.qcut(zscore_df[col], 10, labels = range(1, 11))\n",
    "\n",
    "    \n",
    "#combined measures\n",
    "zscore_df['comb_mom'] = zscore_df['mom3_zscore'] + zscore_df['mom6_zscore'] +zscore_df['mom12_zscore']\n",
    "zscore_df['ear_mom'] = zscore_df['mom3_zscore'] + zscore_df['mom6_zscore'] +zscore_df['mom12_zscore'] + zscore_df['EAR_std_zscore']\n"
   ]
  },
  {
   "cell_type": "code",
   "execution_count": 5,
   "metadata": {},
   "outputs": [
    {
     "name": "stderr",
     "output_type": "stream",
     "text": [
      "/opt/anaconda3/lib/python3.7/site-packages/ipykernel_launcher.py:9: SettingWithCopyWarning: \n",
      "A value is trying to be set on a copy of a slice from a DataFrame.\n",
      "Try using .loc[row_indexer,col_indexer] = value instead\n",
      "\n",
      "See the caveats in the documentation: https://pandas.pydata.org/pandas-docs/stable/user_guide/indexing.html#returning-a-view-versus-a-copy\n",
      "  if __name__ == '__main__':\n"
     ]
    }
   ],
   "source": [
    "monthly3_df =clean_df.groupby([clean_df.index.get_level_values(1), pd.Grouper(freq='m', level=0)]).last()\n",
    "monthly3_df['log_ret_3m'] = monthly3_df['adj_c'].groupby(level='insID').apply(lambda x: np.log(x.shift(-3)) - np.log(x))\n",
    "monthly3_df = monthly3_df.unstack('insID').iloc[::3, :].stack('insID')\n",
    "\n",
    "\n",
    "colmax_list = ['PE', 'PB', 'EVEBIT', 'EVFCF', 'PS', 'PFCF']\n",
    "\n",
    "for colmax in colmax_list:\n",
    "    monthly3_df[monthly3_df[colmax]< 0][colmax] = monthly3_df[colmax].max()\n",
    "\n",
    "\n",
    "    \n",
    "col_list = ['PE', 'PB', 'PFCF','mom12','EAR_std','mom6','mom3' ,'ROA','FCFROE','ROE','GPA','SUE_Y','RSURP_Y','PFCF', 'Asset_growth' ,'log_ret_3m']\n",
    "zscore3_df = pd.DataFrame()\n",
    "zscore3_df.index = monthly3_df.index\n",
    "\n",
    "for col in col_list:\n",
    "    col_zscore = col+ '_zscore'\n",
    "    zscore_tmp_df = monthly3_df[col]\n",
    "    zscore3_df[col_zscore] = (zscore_tmp_df - zscore_tmp_df.unstack(level ='d').mean())/zscore_tmp_df.unstack(level ='d').std()\n",
    "\n",
    "\n",
    "\n",
    "#group by quintiles \n",
    "\n",
    "for col in list(set(list(zscore3_df.columns)) - set( 'log_ret_3m_zscore')):\n",
    "    col_group = col + '_group'\n",
    "    zscore3_df[col_group] = pd.qcut(zscore3_df[col], 10, labels = range(1, 11))\n",
    "\n"
   ]
  },
  {
   "cell_type": "markdown",
   "metadata": {},
   "source": [
    "# 1 Month Forward Return"
   ]
  },
  {
   "cell_type": "markdown",
   "metadata": {},
   "source": [
    "### Train Model"
   ]
  },
  {
   "cell_type": "code",
   "execution_count": 6,
   "metadata": {},
   "outputs": [],
   "source": [
    "model_list = []\n",
    "for col in zscore_df.columns:\n",
    "    x = re.search('zscore$', col)\n",
    "    if(x!=None):\n",
    "        model_list.append(col)\n",
    "        \n",
    "coeff_list = model_list.copy()\n",
    "coeff_list.remove('log_ret_1m_zscore')"
   ]
  },
  {
   "cell_type": "code",
   "execution_count": 7,
   "metadata": {},
   "outputs": [],
   "source": [
    "np.random.seed(123)\n",
    "train_ratio = 0.7\n",
    "\n",
    "reg_df = zscore_df.dropna()\n",
    "eval_train_df = reg_df[:int(len(reg_df)*train_ratio)]\n",
    "eval_test_df =  reg_df[int(len(reg_df)*(1-train_ratio)):]\n",
    "\n",
    "X_ml = reg_df[coeff_list]\n",
    "Y_ml = pd.DataFrame(reg_df[['log_ret_1m_zscore']])\n",
    "\n",
    "#splitting data into train and test\n",
    "X_train = X_ml[:int(len(X_ml)*train_ratio)]\n",
    "X_test = X_ml[int(len(X_ml)*(1-train_ratio)):]\n",
    "Y_train = Y_ml[:int(len(X_ml)*(train_ratio))]\n",
    "Y_test = Y_ml[int(len(X_ml)*(1-train_ratio)):]\n",
    "\n",
    "#creating dmatrix for xgboost\n",
    "dtrain = xgb.DMatrix(X_train, label=Y_train)\n",
    "dtest = xgb.DMatrix(X_test, label=Y_test)"
   ]
  },
  {
   "cell_type": "code",
   "execution_count": 8,
   "metadata": {},
   "outputs": [],
   "source": [
    "params = { 'max_depth': [1,2],\n",
    "           'learning_rate': [0.01,0.02, 0.03, 0.04, 0.05],\n",
    "           'n_estimators': [100,200,300,400, 500],\n",
    "           'colsample_bytree': [ 0.2, 0.3,0.4, 0.5, 0.6]}"
   ]
  },
  {
   "cell_type": "code",
   "execution_count": 9,
   "metadata": {
    "scrolled": true
   },
   "outputs": [
    {
     "name": "stdout",
     "output_type": "stream",
     "text": [
      "Fitting 5 folds for each of 250 candidates, totalling 1250 fits\n"
     ]
    },
    {
     "data": {
      "text/plain": [
       "GridSearchCV(estimator=XGBRegressor(base_score=None, booster=None,\n",
       "                                    colsample_bylevel=None,\n",
       "                                    colsample_bynode=None,\n",
       "                                    colsample_bytree=None,\n",
       "                                    enable_categorical=False, gamma=None,\n",
       "                                    gpu_id=None, importance_type=None,\n",
       "                                    interaction_constraints=None,\n",
       "                                    learning_rate=None, max_delta_step=None,\n",
       "                                    max_depth=None, min_child_weight=None,\n",
       "                                    missing=nan, monotone_constraints=None,\n",
       "                                    n_esti...\n",
       "                                    num_parallel_tree=None, predictor=None,\n",
       "                                    random_state=None, reg_alpha=None,\n",
       "                                    reg_lambda=None, scale_pos_weight=None,\n",
       "                                    seed=20, subsample=None, tree_method=None,\n",
       "                                    validate_parameters=None, verbosity=None),\n",
       "             param_grid={'colsample_bytree': [0.2, 0.3, 0.4, 0.5, 0.6],\n",
       "                         'learning_rate': [0.01, 0.02, 0.03, 0.04, 0.05],\n",
       "                         'max_depth': [1, 2],\n",
       "                         'n_estimators': [100, 200, 300, 400, 500]},\n",
       "             scoring='neg_mean_squared_error', verbose=1)"
      ]
     },
     "execution_count": 9,
     "metadata": {},
     "output_type": "execute_result"
    }
   ],
   "source": [
    "## TUNE WITH GRIDSEARCH\n",
    "\n",
    "xgbr = xgb.XGBRegressor(seed = 20)\n",
    "clf = GridSearchCV(estimator=xgbr, \n",
    "                   param_grid=params,\n",
    "                   scoring='neg_mean_squared_error', \n",
    "                   verbose=1)\n",
    "clf.fit(X_train, Y_train)"
   ]
  },
  {
   "cell_type": "markdown",
   "metadata": {},
   "source": [
    "### Model Eval"
   ]
  },
  {
   "cell_type": "code",
   "execution_count": 10,
   "metadata": {},
   "outputs": [
    {
     "name": "stdout",
     "output_type": "stream",
     "text": [
      "MSE for train set:  0.9786009218565539\n"
     ]
    },
    {
     "name": "stderr",
     "output_type": "stream",
     "text": [
      "/opt/anaconda3/lib/python3.7/site-packages/pandas/core/indexing.py:1667: SettingWithCopyWarning: \n",
      "A value is trying to be set on a copy of a slice from a DataFrame.\n",
      "Try using .loc[row_indexer,col_indexer] = value instead\n",
      "\n",
      "See the caveats in the documentation: https://pandas.pydata.org/pandas-docs/stable/user_guide/indexing.html#returning-a-view-versus-a-copy\n",
      "  self.obj[key] = value\n",
      "/opt/anaconda3/lib/python3.7/site-packages/ipykernel_launcher.py:10: SettingWithCopyWarning: \n",
      "A value is trying to be set on a copy of a slice from a DataFrame.\n",
      "Try using .loc[row_indexer,col_indexer] = value instead\n",
      "\n",
      "See the caveats in the documentation: https://pandas.pydata.org/pandas-docs/stable/user_guide/indexing.html#returning-a-view-versus-a-copy\n",
      "  # Remove the CWD from sys.path while we load stuff.\n"
     ]
    }
   ],
   "source": [
    "VIP_df = pd.DataFrame(clf.best_estimator_.feature_importances_, index = X_train.columns).sort_values(0, ascending=True)\n",
    "eval_train_df.loc[:, 'pred_y'] = clf.predict(X_train)\n",
    "MSE_train = np.mean((eval_train_df['log_ret_1m_zscore'] - eval_train_df['pred_y'])**2)\n",
    "\n",
    "print(\"MSE for train set: \", MSE_train)\n",
    "\n",
    "#set up group for bin test\n",
    "for col in ['pred_y']:\n",
    "    col_group = col + '_group'\n",
    "    eval_train_df[col_group] = pd.qcut(eval_train_df[col].rank(method='first'), 10, labels = range(1, 11))"
   ]
  },
  {
   "cell_type": "code",
   "execution_count": 11,
   "metadata": {},
   "outputs": [
    {
     "data": {
      "image/png": "[encoded data removed]",
      "text/plain": [
       "<Figure size 432x288 with 1 Axes>"
      ]
     },
     "metadata": {
      "needs_background": "light"
     },
     "output_type": "display_data"
    }
   ],
   "source": [
    "plt.barh(VIP_df.transpose().columns,VIP_df.iloc[:, 0]);\n",
    "plt.title('Variable Importance for XGBoost Model');"
   ]
  },
  {
   "cell_type": "code",
   "execution_count": 12,
   "metadata": {},
   "outputs": [
    {
     "data": {
      "image/png": "[encoded data removed]",
      "text/plain": [
       "<Figure size 432x288 with 1 Axes>"
      ]
     },
     "metadata": {},
     "output_type": "display_data"
    }
   ],
   "source": [
    "sns.set_style(\"whitegrid\")\n",
    "\n",
    "fig, ax = plt.subplots(nrows=1, ncols=1, sharex=True, sharey = True)\n",
    "fig.suptitle('XGBOOST model: 1 month forward returns', fontsize=18, y=1)\n",
    "ax.bar(range(1, 11) ,eval_train_df.groupby(\"pred_y_group\").mean()['log_ret_1m_zscore']);\n",
    "ax.set_title('');"
   ]
  },
  {
   "cell_type": "markdown",
   "metadata": {},
   "source": [
    "### Eval test Set"
   ]
  },
  {
   "cell_type": "code",
   "execution_count": 13,
   "metadata": {},
   "outputs": [
    {
     "name": "stdout",
     "output_type": "stream",
     "text": [
      "MSE for test set:  0.9822953225850826\n"
     ]
    },
    {
     "name": "stderr",
     "output_type": "stream",
     "text": [
      "/opt/anaconda3/lib/python3.7/site-packages/pandas/core/indexing.py:1667: SettingWithCopyWarning: \n",
      "A value is trying to be set on a copy of a slice from a DataFrame.\n",
      "Try using .loc[row_indexer,col_indexer] = value instead\n",
      "\n",
      "See the caveats in the documentation: https://pandas.pydata.org/pandas-docs/stable/user_guide/indexing.html#returning-a-view-versus-a-copy\n",
      "  self.obj[key] = value\n",
      "/opt/anaconda3/lib/python3.7/site-packages/ipykernel_launcher.py:9: SettingWithCopyWarning: \n",
      "A value is trying to be set on a copy of a slice from a DataFrame.\n",
      "Try using .loc[row_indexer,col_indexer] = value instead\n",
      "\n",
      "See the caveats in the documentation: https://pandas.pydata.org/pandas-docs/stable/user_guide/indexing.html#returning-a-view-versus-a-copy\n",
      "  if __name__ == '__main__':\n"
     ]
    }
   ],
   "source": [
    "eval_test_df.loc[:, 'pred_y'] = clf.predict(X_test)\n",
    "MSE_test = np.mean((eval_test_df['log_ret_1m_zscore'] - eval_test_df['pred_y'])**2)\n",
    "\n",
    "print(\"MSE for test set: \", MSE_test)\n",
    "\n",
    "#set up group for bin test\n",
    "for col in ['pred_y']:\n",
    "    col_group = col + '_group'\n",
    "    eval_test_df[col_group] = pd.qcut(eval_test_df[col].rank(method='first'), 10, labels = range(1, 11))"
   ]
  },
  {
   "cell_type": "code",
   "execution_count": 14,
   "metadata": {},
   "outputs": [
    {
     "data": {
      "image/png": "[encoded data removed]",
      "text/plain": [
       "<Figure size 432x288 with 1 Axes>"
      ]
     },
     "metadata": {},
     "output_type": "display_data"
    }
   ],
   "source": [
    "sns.set_style(\"whitegrid\")\n",
    "\n",
    "fig, ax = plt.subplots(nrows=1, ncols=1, sharex=True, sharey = True)\n",
    "fig.suptitle('XGBOOST model: 1 month forward returns', fontsize=18, y=1)\n",
    "ax.bar(range(1, 11) ,eval_test_df.groupby(\"pred_y_group\").mean()['log_ret_1m_zscore']);\n",
    "ax.set_title('');"
   ]
  },
  {
   "cell_type": "markdown",
   "metadata": {},
   "source": [
    "# 3 Month Forward Return\n"
   ]
  },
  {
   "cell_type": "code",
   "execution_count": 15,
   "metadata": {},
   "outputs": [],
   "source": [
    "np.random.seed(123)\n",
    "train_ratio = 0.7\n",
    "\n",
    "reg3_df = zscore3_df.dropna()\n",
    "eval3_train_df = reg3_df[:int(len(reg3_df)*train_ratio)]\n",
    "eval3_test_df =  reg3_df[int(len(reg3_df)*(1-train_ratio)):]\n",
    "\n",
    "X3_ml = reg3_df[['mom3_zscore', 'mom6_zscore', 'mom12_zscore',  'EAR_std_zscore','SUE_Y_zscore', 'RSURP_Y_zscore',\n",
    "              'ROE_zscore', 'GPA_zscore', 'PFCF_zscore', 'Asset_growth_zscore']]\n",
    "Y3_ml = pd.DataFrame(reg3_df[['log_ret_3m_zscore']])\n",
    "\n",
    "#splitting data into train and test\n",
    "X3_train = X3_ml[:int(len(X3_ml)*train_ratio)]\n",
    "X3_test = X3_ml[int(len(X3_ml)*(1-train_ratio)):]\n",
    "Y3_train = Y3_ml[:int(len(X3_ml)*(train_ratio))]\n",
    "Y3_test = Y3_ml[int(len(X3_ml)*(1-train_ratio)):]\n",
    "\n",
    "#creating dmatrix for xgboost\n",
    "dtrain3 = xgb.DMatrix(X3_train, label=Y3_train)\n",
    "dtest3 = xgb.DMatrix(X3_test, label=Y3_test)"
   ]
  },
  {
   "cell_type": "code",
   "execution_count": 16,
   "metadata": {
    "scrolled": true
   },
   "outputs": [
    {
     "name": "stdout",
     "output_type": "stream",
     "text": [
      "Fitting 5 folds for each of 250 candidates, totalling 1250 fits\n"
     ]
    },
    {
     "data": {
      "text/plain": [
       "GridSearchCV(estimator=XGBRegressor(base_score=None, booster=None,\n",
       "                                    colsample_bylevel=None,\n",
       "                                    colsample_bynode=None,\n",
       "                                    colsample_bytree=None,\n",
       "                                    enable_categorical=False, gamma=None,\n",
       "                                    gpu_id=None, importance_type=None,\n",
       "                                    interaction_constraints=None,\n",
       "                                    learning_rate=None, max_delta_step=None,\n",
       "                                    max_depth=None, min_child_weight=None,\n",
       "                                    missing=nan, monotone_constraints=None,\n",
       "                                    n_esti...\n",
       "                                    num_parallel_tree=None, predictor=None,\n",
       "                                    random_state=None, reg_alpha=None,\n",
       "                                    reg_lambda=None, scale_pos_weight=None,\n",
       "                                    seed=20, subsample=None, tree_method=None,\n",
       "                                    validate_parameters=None, verbosity=None),\n",
       "             param_grid={'colsample_bytree': [0.2, 0.3, 0.4, 0.5, 0.6],\n",
       "                         'learning_rate': [0.01, 0.02, 0.03, 0.04, 0.05],\n",
       "                         'max_depth': [1, 2],\n",
       "                         'n_estimators': [100, 200, 300, 400, 500]},\n",
       "             scoring='neg_mean_squared_error', verbose=1)"
      ]
     },
     "execution_count": 16,
     "metadata": {},
     "output_type": "execute_result"
    }
   ],
   "source": [
    "## TUNE WITH GRIDSEARCH\n",
    "xgbr3 = xgb.XGBRegressor(seed = 20)\n",
    "clf3 = GridSearchCV(estimator=xgbr3, \n",
    "                   param_grid=params,\n",
    "                   scoring='neg_mean_squared_error', \n",
    "                   verbose=1)\n",
    "clf3.fit(X3_train, Y3_train)"
   ]
  },
  {
   "cell_type": "code",
   "execution_count": 17,
   "metadata": {},
   "outputs": [
    {
     "name": "stdout",
     "output_type": "stream",
     "text": [
      "MSE for train set:  0.9786009218565539\n"
     ]
    },
    {
     "name": "stderr",
     "output_type": "stream",
     "text": [
      "/opt/anaconda3/lib/python3.7/site-packages/pandas/core/indexing.py:1667: SettingWithCopyWarning: \n",
      "A value is trying to be set on a copy of a slice from a DataFrame.\n",
      "Try using .loc[row_indexer,col_indexer] = value instead\n",
      "\n",
      "See the caveats in the documentation: https://pandas.pydata.org/pandas-docs/stable/user_guide/indexing.html#returning-a-view-versus-a-copy\n",
      "  self.obj[key] = value\n",
      "/opt/anaconda3/lib/python3.7/site-packages/ipykernel_launcher.py:10: SettingWithCopyWarning: \n",
      "A value is trying to be set on a copy of a slice from a DataFrame.\n",
      "Try using .loc[row_indexer,col_indexer] = value instead\n",
      "\n",
      "See the caveats in the documentation: https://pandas.pydata.org/pandas-docs/stable/user_guide/indexing.html#returning-a-view-versus-a-copy\n",
      "  # Remove the CWD from sys.path while we load stuff.\n"
     ]
    }
   ],
   "source": [
    "VIP3_df = pd.DataFrame(clf3.best_estimator_.feature_importances_, index = X3_train.columns).sort_values(0, ascending=True)\n",
    "eval3_train_df.loc[:, 'pred_y'] = clf3.predict(X3_train)\n",
    "MSE3_train = np.mean((eval3_train_df['log_ret_3m_zscore'] - eval3_train_df['pred_y'])**2)\n",
    "\n",
    "print(\"MSE for train set: \", MSE_train)\n",
    "\n",
    "#set up group for bin test\n",
    "for col in ['pred_y']:\n",
    "    col_group = col + '_group'\n",
    "    eval3_train_df[col_group] = pd.qcut(eval3_train_df[col].rank(method='first'), 10, labels = range(1, 11))"
   ]
  },
  {
   "cell_type": "code",
   "execution_count": 18,
   "metadata": {
    "scrolled": true
   },
   "outputs": [
    {
     "data": {
      "image/png": "[encoded data removed]",
      "text/plain": [
       "<Figure size 432x288 with 1 Axes>"
      ]
     },
     "metadata": {},
     "output_type": "display_data"
    }
   ],
   "source": [
    "plt.barh(VIP3_df.index.to_list(),VIP3_df.iloc[:, 0]);\n",
    "plt.title('Variable Importance for XGBoost Model');"
   ]
  },
  {
   "cell_type": "code",
   "execution_count": 19,
   "metadata": {},
   "outputs": [
    {
     "data": {
      "image/png": "[encoded data removed]",
      "text/plain": [
       "<Figure size 432x288 with 1 Axes>"
      ]
     },
     "metadata": {},
     "output_type": "display_data"
    }
   ],
   "source": [
    "sns.set_style(\"whitegrid\")\n",
    "\n",
    "fig, ax = plt.subplots(nrows=1, ncols=1, sharex=True, sharey = True)\n",
    "fig.suptitle('XGBOOST Train Set: 3 month forward returns', fontsize=18, y=1)\n",
    "ax.bar(range(1, 11) ,eval3_train_df.groupby(\"pred_y_group\").mean()['log_ret_3m_zscore']);\n",
    "ax.set_title('');"
   ]
  },
  {
   "cell_type": "code",
   "execution_count": 20,
   "metadata": {},
   "outputs": [
    {
     "name": "stdout",
     "output_type": "stream",
     "text": [
      "MSE for test set:  0.9632110425468658\n"
     ]
    },
    {
     "name": "stderr",
     "output_type": "stream",
     "text": [
      "/opt/anaconda3/lib/python3.7/site-packages/pandas/core/indexing.py:1667: SettingWithCopyWarning: \n",
      "A value is trying to be set on a copy of a slice from a DataFrame.\n",
      "Try using .loc[row_indexer,col_indexer] = value instead\n",
      "\n",
      "See the caveats in the documentation: https://pandas.pydata.org/pandas-docs/stable/user_guide/indexing.html#returning-a-view-versus-a-copy\n",
      "  self.obj[key] = value\n",
      "/opt/anaconda3/lib/python3.7/site-packages/ipykernel_launcher.py:9: SettingWithCopyWarning: \n",
      "A value is trying to be set on a copy of a slice from a DataFrame.\n",
      "Try using .loc[row_indexer,col_indexer] = value instead\n",
      "\n",
      "See the caveats in the documentation: https://pandas.pydata.org/pandas-docs/stable/user_guide/indexing.html#returning-a-view-versus-a-copy\n",
      "  if __name__ == '__main__':\n"
     ]
    }
   ],
   "source": [
    "eval3_test_df.loc[:, 'pred_y'] = clf3.predict(X3_test)\n",
    "MSE3_test = np.mean((eval3_test_df['log_ret_3m_zscore'] - eval3_test_df['pred_y'])**2)\n",
    "\n",
    "print(\"MSE for test set: \", MSE3_test)\n",
    "\n",
    "#set up group for bin test\n",
    "for col in ['pred_y']:\n",
    "    col_group = col + '_group'\n",
    "    eval3_test_df[col_group] = pd.qcut(eval3_test_df[col].rank(method='first'), 10, labels = range(1, 11))"
   ]
  },
  {
   "cell_type": "code",
   "execution_count": 21,
   "metadata": {},
   "outputs": [
    {
     "data": {
      "image/png": "[encoded data removed]",
      "text/plain": [
       "<Figure size 432x288 with 1 Axes>"
      ]
     },
     "metadata": {},
     "output_type": "display_data"
    }
   ],
   "source": [
    "sns.set_style(\"whitegrid\")\n",
    "\n",
    "fig, ax = plt.subplots(nrows=1, ncols=1, sharex=True, sharey = True)\n",
    "fig.suptitle('XGBOOST Test Set: 3 month forward returns', fontsize=18, y=1)\n",
    "ax.bar(range(1, 11) ,eval3_test_df.groupby(\"pred_y_group\").mean()['log_ret_3m_zscore']);\n",
    "ax.set_title('');"
   ]
  }
 ],
 "metadata": {
  "kernelspec": {
   "display_name": "Python 3",
   "language": "python",
   "name": "python3"
  },
  "language_info": {
   "codemirror_mode": {
    "name": "ipython",
    "version": 3
   },
   "file_extension": ".py",
   "mimetype": "text/x-python",
   "name": "python",
   "nbconvert_exporter": "python",
   "pygments_lexer": "ipython3",
   "version": "3.7.4"
  }
 },
 "nbformat": 4,
 "nbformat_minor": 2
}
