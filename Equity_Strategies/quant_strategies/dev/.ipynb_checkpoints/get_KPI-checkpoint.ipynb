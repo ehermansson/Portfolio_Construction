{
 "cells": [
  {
   "cell_type": "code",
   "execution_count": 1,
   "metadata": {},
   "outputs": [],
   "source": [
    "from requests import get\n",
    "from json import loads\n",
    "from time import sleep\n",
    "from typing import List\n",
    "from borsdata_sdk.models.Instrument import Instrument\n",
    "from borsdata_sdk.models.Market import Market\n",
    "import pandas as pd\n",
    "from http import HTTPStatus\n",
    "from borsdata_sdk import BorsdataAPI\n",
    "import borsdata_sdk\n",
    "import requests\n",
    "from pandas.io.json import json_normalize"
   ]
  },
  {
   "cell_type": "code",
   "execution_count": 2,
   "metadata": {},
   "outputs": [],
   "source": [
    "auth_key = 'f4e8e3c7c46c4c34ae238a1822863410'\n",
    "\n",
    "RATE_LIMIT = 429\n",
    "borsdata = BorsdataAPI(auth_key)\n",
    "instruments = borsdata.get_instruments()"
   ]
  },
  {
   "cell_type": "code",
   "execution_count": 3,
   "metadata": {},
   "outputs": [],
   "source": [
    "my_list = []\n",
    "for i in range(len(instruments)):\n",
    "    tmp_list = [instruments[i].insId,instruments[i].name,instruments[i].countryId,instruments[i].sectorId,instruments[i].marketId,instruments[i].instrument]\n",
    "    my_list.append(tmp_list)\n",
    "\n",
    "instruments_df=pd.DataFrame(my_list,columns=['insID','Name','countryId','sectorId', 'marketId', 'instrument']) \n",
    "# Rename the lists to the real names\n",
    "# MarketId: 1 = Large Cap, 2 = Mid Cap, 3=Small Cap, 4=First North\n",
    "swe_stock_main = instruments_df[(instruments_df['countryId'] == 1) & (instruments_df['instrument'] == 0) & (instruments_df['marketId'].isin([1,2,3, 4]))]"
   ]
  },
  {
   "cell_type": "code",
   "execution_count": 46,
   "metadata": {},
   "outputs": [],
   "source": [
    "### LIST OF ALL KPIS\n",
    "\n",
    "kpis_list = [\"151/1year/return\",\"151/6month/return\",\"151/3month/return\",\"2/last/latest\",\n",
    "             '3/last/latest', \"4/last/latest\"]\n",
    "\n",
    "\n",
    "\n",
    "kpis_names = [\"1year_return\",'6month_return',\"3month_return\" ,\"pe\", 'ps', 'pb']"
   ]
  },
  {
   "cell_type": "code",
   "execution_count": 40,
   "metadata": {
    "scrolled": true
   },
   "outputs": [],
   "source": [
    "if len(kpis_list) == len(kpis_names):\n",
    "\n",
    "    kpi_df = pd.DataFrame()\n",
    "\n",
    "    for kpi in kpis_list:\n",
    "        URL = \"https://apiservice.borsdata.se/v1/instruments/kpis/\"+ kpi +\"?authKey=f4e8e3c7c46c4c34ae238a1822863410\"\n",
    "        response = requests.get(URL)\n",
    "        tmp_df = json_normalize(response.json(), record_path ='values')\n",
    "\n",
    "        tmp_df.rename(columns={'n': \n",
    "                           pd.DataFrame(response.json())['group'].unique()[0] +\"_\"+ \n",
    "                           pd.DataFrame(response.json())['calculation'].unique()[0]}, inplace=True)\n",
    "        tmp_df = tmp_df.set_index(['i'])\n",
    "        tmp_df = tmp_df.drop(['s'], axis = 1)\n",
    "        kpi_df = pd.concat([kpi_df, tmp_df], axis=1)\n",
    "elif:\n",
    "    print(\"Unequal length of lists\")\n"
   ]
  },
  {
   "cell_type": "code",
   "execution_count": 50,
   "metadata": {},
   "outputs": [
    {
     "data": {
      "text/html": [
       "<div>\n",
       "<style scoped>\n",
       "    .dataframe tbody tr th:only-of-type {\n",
       "        vertical-align: middle;\n",
       "    }\n",
       "\n",
       "    .dataframe tbody tr th {\n",
       "        vertical-align: top;\n",
       "    }\n",
       "\n",
       "    .dataframe thead th {\n",
       "        text-align: right;\n",
       "    }\n",
       "</style>\n",
       "<table border=\"1\" class=\"dataframe\">\n",
       "  <thead>\n",
       "    <tr style=\"text-align: right;\">\n",
       "      <th></th>\n",
       "      <th>insID</th>\n",
       "      <th>Name</th>\n",
       "      <th>countryId</th>\n",
       "      <th>sectorId</th>\n",
       "      <th>marketId</th>\n",
       "      <th>instrument</th>\n",
       "    </tr>\n",
       "  </thead>\n",
       "  <tbody>\n",
       "    <tr>\n",
       "      <td>0</td>\n",
       "      <td>2</td>\n",
       "      <td>AAK</td>\n",
       "      <td>1</td>\n",
       "      <td>2.0</td>\n",
       "      <td>1</td>\n",
       "      <td>0</td>\n",
       "    </tr>\n",
       "    <tr>\n",
       "      <td>1</td>\n",
       "      <td>3</td>\n",
       "      <td>ABB</td>\n",
       "      <td>1</td>\n",
       "      <td>5.0</td>\n",
       "      <td>1</td>\n",
       "      <td>0</td>\n",
       "    </tr>\n",
       "    <tr>\n",
       "      <td>2</td>\n",
       "      <td>6</td>\n",
       "      <td>Active Biotech</td>\n",
       "      <td>1</td>\n",
       "      <td>4.0</td>\n",
       "      <td>3</td>\n",
       "      <td>0</td>\n",
       "    </tr>\n",
       "    <tr>\n",
       "      <td>3</td>\n",
       "      <td>7</td>\n",
       "      <td>Addnode</td>\n",
       "      <td>1</td>\n",
       "      <td>6.0</td>\n",
       "      <td>2</td>\n",
       "      <td>0</td>\n",
       "    </tr>\n",
       "    <tr>\n",
       "      <td>4</td>\n",
       "      <td>8</td>\n",
       "      <td>Addtech</td>\n",
       "      <td>1</td>\n",
       "      <td>5.0</td>\n",
       "      <td>1</td>\n",
       "      <td>0</td>\n",
       "    </tr>\n",
       "    <tr>\n",
       "      <td>...</td>\n",
       "      <td>...</td>\n",
       "      <td>...</td>\n",
       "      <td>...</td>\n",
       "      <td>...</td>\n",
       "      <td>...</td>\n",
       "      <td>...</td>\n",
       "    </tr>\n",
       "    <tr>\n",
       "      <td>1864</td>\n",
       "      <td>2332</td>\n",
       "      <td>Viva Wine</td>\n",
       "      <td>1</td>\n",
       "      <td>2.0</td>\n",
       "      <td>4</td>\n",
       "      <td>0</td>\n",
       "    </tr>\n",
       "    <tr>\n",
       "      <td>1867</td>\n",
       "      <td>2335</td>\n",
       "      <td>Case Group</td>\n",
       "      <td>1</td>\n",
       "      <td>1.0</td>\n",
       "      <td>4</td>\n",
       "      <td>0</td>\n",
       "    </tr>\n",
       "    <tr>\n",
       "      <td>1868</td>\n",
       "      <td>2336</td>\n",
       "      <td>Nordic Asia</td>\n",
       "      <td>1</td>\n",
       "      <td>1.0</td>\n",
       "      <td>4</td>\n",
       "      <td>0</td>\n",
       "    </tr>\n",
       "    <tr>\n",
       "      <td>1878</td>\n",
       "      <td>2346</td>\n",
       "      <td>MTI Investment</td>\n",
       "      <td>1</td>\n",
       "      <td>1.0</td>\n",
       "      <td>4</td>\n",
       "      <td>0</td>\n",
       "    </tr>\n",
       "    <tr>\n",
       "      <td>1879</td>\n",
       "      <td>2347</td>\n",
       "      <td>W5 Solutions</td>\n",
       "      <td>1</td>\n",
       "      <td>6.0</td>\n",
       "      <td>4</td>\n",
       "      <td>0</td>\n",
       "    </tr>\n",
       "  </tbody>\n",
       "</table>\n",
       "<p>787 rows × 6 columns</p>\n",
       "</div>"
      ],
      "text/plain": [
       "      insID            Name  countryId  sectorId  marketId  instrument\n",
       "0         2             AAK          1       2.0         1           0\n",
       "1         3             ABB          1       5.0         1           0\n",
       "2         6  Active Biotech          1       4.0         3           0\n",
       "3         7         Addnode          1       6.0         2           0\n",
       "4         8         Addtech          1       5.0         1           0\n",
       "...     ...             ...        ...       ...       ...         ...\n",
       "1864   2332       Viva Wine          1       2.0         4           0\n",
       "1867   2335      Case Group          1       1.0         4           0\n",
       "1868   2336     Nordic Asia          1       1.0         4           0\n",
       "1878   2346  MTI Investment          1       1.0         4           0\n",
       "1879   2347    W5 Solutions          1       6.0         4           0\n",
       "\n",
       "[787 rows x 6 columns]"
      ]
     },
     "execution_count": 50,
     "metadata": {},
     "output_type": "execute_result"
    }
   ],
   "source": [
    "swe_stock_main"
   ]
  },
  {
   "cell_type": "code",
   "execution_count": 52,
   "metadata": {},
   "outputs": [
    {
     "data": {
      "text/plain": [
       "3: ABB"
      ]
     },
     "execution_count": 52,
     "metadata": {},
     "output_type": "execute_result"
    }
   ],
   "source": [
    "instruments[1]."
   ]
  },
  {
   "cell_type": "code",
   "execution_count": null,
   "metadata": {},
   "outputs": [],
   "source": []
  }
 ],
 "metadata": {
  "kernelspec": {
   "display_name": "Python 3",
   "language": "python",
   "name": "python3"
  },
  "language_info": {
   "codemirror_mode": {
    "name": "ipython",
    "version": 3
   },
   "file_extension": ".py",
   "mimetype": "text/x-python",
   "name": "python",
   "nbconvert_exporter": "python",
   "pygments_lexer": "ipython3",
   "version": "3.7.4"
  }
 },
 "nbformat": 4,
 "nbformat_minor": 2
}
