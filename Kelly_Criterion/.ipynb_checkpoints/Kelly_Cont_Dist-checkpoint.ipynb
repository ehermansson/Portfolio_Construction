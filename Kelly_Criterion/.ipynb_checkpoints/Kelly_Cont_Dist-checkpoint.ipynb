{
 "cells": [
  {
   "cell_type": "code",
   "execution_count": 1,
   "metadata": {},
   "outputs": [],
   "source": [
    "import cvxopt as cvx\n",
    "from cvxopt import blas, solvers\n",
    "import cvxpy as cp\n",
    "\n",
    "import scipy.optimize as sco\n",
    "\n",
    "import numpy as np\n",
    "import pandas as pd"
   ]
  },
  {
   "cell_type": "code",
   "execution_count": 2,
   "metadata": {},
   "outputs": [],
   "source": [
    "def kelly_criterion(ret, cov):\n",
    "    num_assets = ret.shape[0]\n",
    "    args = (ret, cov)\n",
    "    constraints = ({'type': 'eq', 'fun': lambda x: np.sum(x) - 1})\n",
    "    \n",
    "    \n",
    "    bound = (0.0,1.0)\n",
    "    bounds = tuple(bound for asset in range(num_assets))\n",
    "    #result = sco.minimize(port_ret, num_assets*[1./num_assets,], args=args,\n",
    "    #                    method='SLSQP', bounds=bounds, constraints=constraints)\n",
    "    \n",
    "    result = sco.minimize(kelly_objective, num_assets*[1./num_assets,], args=args, \n",
    "                          method='SLSQP', bounds=bounds, constraints=constraints)\n",
    "    return (result)"
   ]
  },
  {
   "cell_type": "code",
   "execution_count": 3,
   "metadata": {},
   "outputs": [],
   "source": [
    "#Wrong, not taking covariance into account!!!\n",
    "def kelly_port_ret(weights, returns, cov):\n",
    "    portfolio_returns = (returns*weights)\n",
    "    portfolio_value = np.sum(np.log(1+portfolio_returns))\n",
    "    final_portfolio_value=np.sum(portfolio_value)\n",
    "    \n",
    "    return(-np.matrix(final_portfolio_value))\n",
    "\n"
   ]
  },
  {
   "cell_type": "markdown",
   "metadata": {},
   "source": [
    "# Kelly Criterion Continous Distribution\n",
    "\n",
    "TODO:\n"
   ]
  },
  {
   "cell_type": "code",
   "execution_count": 179,
   "metadata": {},
   "outputs": [],
   "source": [
    "ret = np.array([7,10])\n",
    "corr = -1\n",
    "std_1 = 20\n",
    "std_2 = 30\n",
    "\n",
    "cov_1_2 = std_1 * std_2/100\n",
    "\n",
    "\n",
    "cov = np.array([[std_1**2/100 ,corr * cov_1_2],[corr * cov_1_2,std_2**2/100]])\n",
    "\n",
    "#inv_cov = np.linalg.inv(x)\n",
    "#inv_cov * ret"
   ]
  },
  {
   "cell_type": "code",
   "execution_count": 180,
   "metadata": {
    "scrolled": false
   },
   "outputs": [
    {
     "data": {
      "text/plain": [
       "array([[ 4., -6.],\n",
       "       [-6.,  9.]])"
      ]
     },
     "execution_count": 180,
     "metadata": {},
     "output_type": "execute_result"
    }
   ],
   "source": [
    "cov"
   ]
  },
  {
   "cell_type": "markdown",
   "metadata": {},
   "source": [
    "## Constrained Kelly\n",
    "\n",
    "Take the derivative of the growth of the portfolio wrt to the allocation weight.\n",
    "\n",
    "Growth of portfolio: $g_\\infty = r + F^T(M - r) - \\frac{F^T C F}{2}$\n",
    "\n",
    "Where $r$ is the riskless rate, $F$ is the vector of weights, $M$ is the mean return vector and $C$ is the covariance vector.\n",
    "\n",
    "To get the optimal weights one take the derivative of the growth rate, $g_\\infty$, with respect to the weight, $F$, and minimize it. The derivative is given below\n",
    "\n",
    "$\\frac{\\partial g_\\infty}{\\partial F} = C \\dot F + M - r $\n",
    "\n",
    "With no constraints the optimal weight $F^*$ is given by\n",
    "\n",
    "$F^* = C^{-1} M-r$\n",
    "\n",
    "But with constraints it can be optimized with quadratic programming since\n",
    "\n",
    "$g_\\infty = F^T M$\n",
    "\n",
    "and\n",
    "\n",
    "$\\sigma^2 = F^T C F $\n",
    "\n",
    "and since for the single asset case, the growth rate is\n",
    "\n",
    "$g_\\infty = r + f(m-r) - \\frac{f^2 s^2}{2}$\n",
    "\n",
    "where $f$ is the weight, $m$ is the mean return and $s$ is the standard deviation. Then\n",
    "\n",
    "$\\frac{\\partial g_\\infty}{\\partial f} = f s^2 + m - r$\n"
   ]
  },
  {
   "cell_type": "code",
   "execution_count": 181,
   "metadata": {},
   "outputs": [],
   "source": [
    "#weights = kelly_criterion(ret, cov)\n",
    "#weights['x']"
   ]
  },
  {
   "cell_type": "code",
   "execution_count": 182,
   "metadata": {},
   "outputs": [],
   "source": [
    "def port_ret(weights, ret, risk_free = 0):\n",
    "    #needs to be array\n",
    "    port_ret = risk_free + weights.dot(ret - risk_free)\n",
    "    \n",
    "    return(port_ret)"
   ]
  },
  {
   "cell_type": "code",
   "execution_count": 183,
   "metadata": {},
   "outputs": [],
   "source": [
    "def port_var(weights, cov):\n",
    "    std = weights.dot(cov).dot(weights)\n",
    "    return(std)\n",
    "    "
   ]
  },
  {
   "cell_type": "code",
   "execution_count": 184,
   "metadata": {},
   "outputs": [],
   "source": [
    "def kelly_objective(weights,ret, cov, risk_free = 0):\n",
    "    kelly_ret = port_ret(weights, ret)\n",
    "    var = port_var(weights, cov)\n",
    "    \n",
    "    obj = (-sum(weights) * var) + kelly_ret -risk_free\n",
    "    return(obj)"
   ]
  },
  {
   "cell_type": "code",
   "execution_count": 185,
   "metadata": {},
   "outputs": [],
   "source": [
    "def kelly_cri(ret, cov ,risk_free = 0):\n",
    "    num_assets = ret.shape[0]\n",
    "    args = (ret, cov,risk_free)\n",
    "    constraints = ({'type': 'eq', 'fun': lambda x: np.sum(x) - 1})\n",
    "    \n",
    "    \n",
    "    bound = (0.0,1.0)\n",
    "    bounds = tuple(bound for asset in range(num_assets))\n",
    "    #result = sco.minimize(port_ret, num_assets*[1./num_assets,], args=args,\n",
    "    #                    method='SLSQP', bounds=bounds, constraints=constraints)\n",
    "    \n",
    "    result = sco.minimize(kelly_objective, num_assets*[1./num_assets,], args=args, \n",
    "                          method='SLSQP', bounds=bounds, constraints=constraints)\n",
    "    return (result)"
   ]
  },
  {
   "cell_type": "code",
   "execution_count": 190,
   "metadata": {
    "scrolled": true
   },
   "outputs": [
    {
     "data": {
      "text/plain": [
       "1.0"
      ]
     },
     "execution_count": 190,
     "metadata": {},
     "output_type": "execute_result"
    }
   ],
   "source": [
    "kelly_objective(np.array([0,1]),ret, cov, risk_free = 0)"
   ]
  },
  {
   "cell_type": "code",
   "execution_count": 187,
   "metadata": {
    "scrolled": true
   },
   "outputs": [],
   "source": [
    "result = kelly_cri(ret, cov, risk_free = 0)"
   ]
  },
  {
   "cell_type": "code",
   "execution_count": 188,
   "metadata": {},
   "outputs": [
    {
     "data": {
      "text/plain": [
       "array([5.55111512e-17, 1.00000000e+00])"
      ]
     },
     "execution_count": 188,
     "metadata": {},
     "output_type": "execute_result"
    }
   ],
   "source": [
    "result['x']"
   ]
  },
  {
   "cell_type": "code",
   "execution_count": 173,
   "metadata": {},
   "outputs": [
    {
     "data": {
      "text/plain": [
       "     fun: 1.0\n",
       "     jac: array([ -2.        , -17.00000036])\n",
       " message: 'Optimization terminated successfully.'\n",
       "    nfev: 8\n",
       "     nit: 2\n",
       "    njev: 2\n",
       "  status: 0\n",
       " success: True\n",
       "       x: array([0., 1.])"
      ]
     },
     "execution_count": 173,
     "metadata": {},
     "output_type": "execute_result"
    }
   ],
   "source": [
    "kelly_cri(ret, cov,risk_free =0)"
   ]
  },
  {
   "cell_type": "code",
   "execution_count": 137,
   "metadata": {},
   "outputs": [],
   "source": [
    "weights = np.array([0.5, 0.5])"
   ]
  },
  {
   "cell_type": "code",
   "execution_count": 192,
   "metadata": {},
   "outputs": [
    {
     "data": {
      "text/plain": [
       "8.5"
      ]
     },
     "execution_count": 192,
     "metadata": {},
     "output_type": "execute_result"
    }
   ],
   "source": [
    "port_ret(weights, ret, risk_free = 0)"
   ]
  },
  {
   "cell_type": "code",
   "execution_count": null,
   "metadata": {},
   "outputs": [],
   "source": []
  }
 ],
 "metadata": {
  "kernelspec": {
   "display_name": "Python 3",
   "language": "python",
   "name": "python3"
  },
  "language_info": {
   "codemirror_mode": {
    "name": "ipython",
    "version": 3
   },
   "file_extension": ".py",
   "mimetype": "text/x-python",
   "name": "python",
   "nbconvert_exporter": "python",
   "pygments_lexer": "ipython3",
   "version": "3.7.4"
  }
 },
 "nbformat": 4,
 "nbformat_minor": 2
}
