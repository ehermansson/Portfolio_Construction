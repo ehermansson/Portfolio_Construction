{
 "cells": [
  {
   "cell_type": "code",
   "execution_count": 12,
   "metadata": {},
   "outputs": [],
   "source": [
    "import yfinance as yf \n",
    "import pandas as pd\n",
    "import datetime as dt\n",
    "from dateutil.relativedelta import relativedelta\n",
    "from scipy.stats import norm\n",
    "from math import sqrt, pi,log, e\n",
    "import numpy as np\n"
   ]
  },
  {
   "cell_type": "code",
   "execution_count": 70,
   "metadata": {},
   "outputs": [],
   "source": [
    "def get_delta(price,strike,expiary,vol,call = True,div=0,r=0):\n",
    "    days_to_exp = (dt.datetime.strptime(expiary, \"%Y-%M-%d\") - dt.datetime.now()).days\n",
    "    years_to_exp = days_to_exp/365\n",
    "    r = 0\n",
    "    div = 0\n",
    "    sigmaT = vol * (years_to_exp ** 0.5) # problem here??\n",
    "    d1 =  (log(price / strike) + (r - div + 0.5 * (vol ** 2)) * years_to_exp)/sigmaT\n",
    "    d2 = d1 - sigmaT\n",
    "    dfq = e ** (-div * years_to_exp)\n",
    "    \n",
    "    if call == True:\n",
    "    \n",
    "        delta = [dfq * norm.cdf(d1)] # call\n",
    "        return(delta[0])\n",
    "    \n",
    "    elif call == False:\n",
    "        delta = [dfq * (norm.cdf(d1) - 1)] #put\n",
    "        return(delta[0])\n"
   ]
  },
  {
   "cell_type": "code",
   "execution_count": null,
   "metadata": {},
   "outputs": [],
   "source": [
    "def get_ImpVol():\n",
    "    \n",
    "    "
   ]
  },
  {
   "cell_type": "markdown",
   "metadata": {},
   "source": [
    "## Calculate skew for stocks with yahoo finance\n",
    "\n",
    "\n",
    "Calculates the ATM and Delta Skew for stocks\n",
    "\n",
    "TO DO:\n",
    "\n",
    "- Calculate implied jump on earnings days.\n",
    "- implied distribution at a given time\n",
    "- Volatility surface"
   ]
  },
  {
   "cell_type": "code",
   "execution_count": 82,
   "metadata": {},
   "outputs": [],
   "source": [
    "tickers = ['AAPL', 'GME', 'TSLA']\n",
    "month_delta = 3"
   ]
  },
  {
   "cell_type": "code",
   "execution_count": 83,
   "metadata": {},
   "outputs": [],
   "source": [
    "skew_df = pd.DataFrame()\n",
    "skew_df['Ticker'] = tickers\n",
    "skew_df['ATM Skew'] = np.nan \n",
    "skew_df['delta Skew'] = np.nan "
   ]
  },
  {
   "cell_type": "code",
   "execution_count": 84,
   "metadata": {},
   "outputs": [],
   "source": [
    "for i in range(len(tickers)):\n",
    "    try:\n",
    "        prices = yf.download(tickers[i],start='2020-01-01', progress = False, threads = False)\n",
    "        stock = yf.Ticker(tickers[i])\n",
    "        option_dates = stock.options\n",
    "        date = dt.datetime.now()\n",
    "        date += relativedelta(months=month_delta) \n",
    "        expiry_one_month = min(option_dates, key=lambda x:abs(dt.datetime.strptime(x, \"%Y-%M-%d\")-date))\n",
    "        current_price = float(prices['Close'].tail(1))\n",
    "\n",
    "        calls = stock.option_chain(expiry_one_month).calls\n",
    "        puts = stock.option_chain(expiry_one_month).puts\n",
    "\n",
    "        #ATM Skew\n",
    "        ATM_put = puts[puts['strike'] == min(puts['strike'], key=lambda x:abs(x-current_price))]\n",
    "        ATM_call = calls[calls['strike'] == min(calls['strike'], key=lambda x:abs(x-current_price))]\n",
    "        ATM_skew = float(ATM_put['impliedVolatility']) - float(ATM_call['impliedVolatility']) \n",
    "        skew_df.loc[i,\"ATM Skew\"] = ATM_skew\n",
    "\n",
    "        #Delta Skew\n",
    "        calls['delta'] = calls.apply(lambda row: get_delta(price = current_price, \n",
    "                                                       strike = row['strike'],\n",
    "                                                       vol =row['impliedVolatility'],\n",
    "                                                       expiary = expiry_one_month, call = True), \n",
    "                                                       axis=1)\n",
    "        puts['delta'] = puts.apply(lambda row: get_delta(price = current_price, \n",
    "                                                       strike = row['strike'],\n",
    "                                                       vol =row['impliedVolatility'],\n",
    "                                                       expiary = expiry_one_month, call = False), \n",
    "                                                       axis=1)\n",
    "\n",
    "        delta_25_put = puts[puts['delta'] == min(puts['delta'], key=lambda x:abs(x--0.25))]\n",
    "        delta_25_call = calls[calls['delta'] == min(calls['delta'], key=lambda x:abs(x-0.25))]\n",
    "        delta_50_call = calls[calls['delta'] == min(calls['delta'], key=lambda x:abs(x-0.50))]\n",
    "\n",
    "\n",
    "        delta_skew = (float(delta_25_put['impliedVolatility']) - float(delta_25_call['impliedVolatility'])) / float(delta_50_call['impliedVolatility'])\n",
    "\n",
    "        skew_df.loc[i,\"delta Skew\"] = delta_skew\n",
    "    except:\n",
    "        print(\"ERROR! INDEX: \", i, ', TICKER: ', tickers[i])\n"
   ]
  },
  {
   "cell_type": "code",
   "execution_count": 86,
   "metadata": {
    "scrolled": true
   },
   "outputs": [
    {
     "name": "stdout",
     "output_type": "stream",
     "text": [
      "Negative values mean higher call implieds\n"
     ]
    },
    {
     "data": {
      "text/html": [
       "<div>\n",
       "<style scoped>\n",
       "    .dataframe tbody tr th:only-of-type {\n",
       "        vertical-align: middle;\n",
       "    }\n",
       "\n",
       "    .dataframe tbody tr th {\n",
       "        vertical-align: top;\n",
       "    }\n",
       "\n",
       "    .dataframe thead th {\n",
       "        text-align: right;\n",
       "    }\n",
       "</style>\n",
       "<table border=\"1\" class=\"dataframe\">\n",
       "  <thead>\n",
       "    <tr style=\"text-align: right;\">\n",
       "      <th></th>\n",
       "      <th>Ticker</th>\n",
       "      <th>ATM Skew</th>\n",
       "      <th>delta Skew</th>\n",
       "    </tr>\n",
       "  </thead>\n",
       "  <tbody>\n",
       "    <tr>\n",
       "      <td>0</td>\n",
       "      <td>AAPL</td>\n",
       "      <td>-0.028564</td>\n",
       "      <td>0.018683</td>\n",
       "    </tr>\n",
       "    <tr>\n",
       "      <td>1</td>\n",
       "      <td>GME</td>\n",
       "      <td>0.104858</td>\n",
       "      <td>-0.067273</td>\n",
       "    </tr>\n",
       "    <tr>\n",
       "      <td>2</td>\n",
       "      <td>TSLA</td>\n",
       "      <td>-0.027069</td>\n",
       "      <td>0.081829</td>\n",
       "    </tr>\n",
       "  </tbody>\n",
       "</table>\n",
       "</div>"
      ],
      "text/plain": [
       "  Ticker  ATM Skew  delta Skew\n",
       "0   AAPL -0.028564    0.018683\n",
       "1    GME  0.104858   -0.067273\n",
       "2   TSLA -0.027069    0.081829"
      ]
     },
     "execution_count": 86,
     "metadata": {},
     "output_type": "execute_result"
    }
   ],
   "source": [
    "print(\"Negative values mean higher call implieds\")\n",
    "skew_df"
   ]
  },
  {
   "cell_type": "code",
   "execution_count": null,
   "metadata": {},
   "outputs": [],
   "source": []
  }
 ],
 "metadata": {
  "kernelspec": {
   "display_name": "Python 3",
   "language": "python",
   "name": "python3"
  },
  "language_info": {
   "codemirror_mode": {
    "name": "ipython",
    "version": 3
   },
   "file_extension": ".py",
   "mimetype": "text/x-python",
   "name": "python",
   "nbconvert_exporter": "python",
   "pygments_lexer": "ipython3",
   "version": "3.7.4"
  }
 },
 "nbformat": 4,
 "nbformat_minor": 2
}
