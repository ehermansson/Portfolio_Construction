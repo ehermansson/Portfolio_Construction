{
 "cells": [
  {
   "cell_type": "code",
   "execution_count": 1,
   "metadata": {},
   "outputs": [],
   "source": [
    "import pandas as pd\n",
    "from scipy.stats import zscore\n",
    "import matplotlib.pyplot as plt\n",
    "import numpy as np\n",
    "import seaborn as sns\n",
    "from sklearn.linear_model import LinearRegression\n",
    "import statsmodels.api as sm\n",
    "import statsmodels.formula.api as smf\n",
    "\n",
    "import re\n",
    "from sklearn import linear_model\n",
    "import patsy\n",
    "\n",
    "from scipy.stats import norm\n",
    "import ezodf\n",
    "import scipy.optimize as sco\n",
    "import scipy\n",
    "\n",
    "from sklearn.covariance import LedoitWolf\n",
    "from datetime import datetime\n",
    "import sklearn"
   ]
  },
  {
   "cell_type": "markdown",
   "metadata": {},
   "source": [
    "## Data Analysis for Stocks\n",
    "\n",
    "- DO DIFFEREN RANK FOR VALUE METRICS< SET TO BE HIGH RANK IS GOOD!!!!\n",
    "    - Or do invesrion of these??"
   ]
  },
  {
   "cell_type": "code",
   "execution_count": 4,
   "metadata": {},
   "outputs": [],
   "source": [
    "tmp_df = pd.read_csv('../data/VQ_data.csv')\n",
    "tmp_df['d'] = pd.to_datetime(tmp_df['d'])\n",
    "tmp_df = tmp_df.set_index(['d', 'insID'])"
   ]
  },
  {
   "cell_type": "code",
   "execution_count": 5,
   "metadata": {
    "scrolled": true
   },
   "outputs": [
    {
     "name": "stderr",
     "output_type": "stream",
     "text": [
      "/opt/anaconda3/lib/python3.7/site-packages/ipykernel_launcher.py:22: FutureWarning: Dropping of nuisance columns in DataFrame reductions (with 'numeric_only=None') is deprecated; in a future version this will raise TypeError.  Select only valid columns before calling the reduction.\n",
      "/opt/anaconda3/lib/python3.7/site-packages/ipykernel_launcher.py:38: SettingWithCopyWarning: \n",
      "A value is trying to be set on a copy of a slice from a DataFrame.\n",
      "Try using .loc[row_indexer,col_indexer] = value instead\n",
      "\n",
      "See the caveats in the documentation: https://pandas.pydata.org/pandas-docs/stable/user_guide/indexing.html#returning-a-view-versus-a-copy\n"
     ]
    }
   ],
   "source": [
    "min_MCAP = 500\n",
    "clean_df = tmp_df[tmp_df['MCAP']>min_MCAP]\n",
    "horizon = 3\n",
    "n_groups = 5\n",
    "\n",
    "monthly_df =clean_df.groupby([clean_df.index.get_level_values(1), pd.Grouper(freq='m', level=0)]).last()\n",
    "monthly_df['log_ret'] = monthly_df['adj_c'].groupby(level='insID').apply(lambda x: np.log(x.shift(-horizon)) - np.log(x))\n",
    "monthly_df = monthly_df.unstack('insID').iloc[::horizon, :].stack('insID')\n",
    "\n",
    "#Take rank of log ret per month values! Ranking forces it into a stationary distribution!!\n",
    "monthly_df['rank_ret'] = monthly_df['log_ret'].groupby(level='d').rank(ascending=False)\n",
    "\n",
    "\n",
    "\n",
    "#### CLEAN DATA\n",
    "\n",
    "\n",
    "colmax_list = ['PE', 'PB', 'EVEBIT', 'EVFCF', 'PS', 'PFCF']\n",
    "\n",
    "#set inf values to max\n",
    "for col in colmax_list:\n",
    "    m = monthly_df.loc[monthly_df[col] != np.inf, :].max()\n",
    "    monthly_df.replace(np.inf,m,inplace=True)\n",
    "\n",
    "\n",
    "#    #New method, more robust!!!\n",
    "#for colmax in colmax_list:\n",
    "#    max_tmp = monthly_df.loc[:,col].max()\n",
    "#    monthly_df.loc[monthly_df[colmax]<0, colmax] = max_tmp\n",
    "\n",
    "#Invesrt the values that should be low so they should be high\n",
    "for colmax in colmax_list:\n",
    "    monthly_df.loc[:, colmax] = (1/monthly_df[colmax])\n",
    "    \n",
    "    \n",
    "### INDICATOR FUNCTION IF THE COMPANY IS IN FINANCE & RE\n",
    "monthly_df['sector_ind'] = 0\n",
    "monthly_df[monthly_df['sector'] == 'finance_RE']['sector_ind'] = 1\n",
    "    "
   ]
  },
  {
   "cell_type": "markdown",
   "metadata": {},
   "source": [
    "## Quintile analysis for forward 1 m return"
   ]
  },
  {
   "cell_type": "code",
   "execution_count": 6,
   "metadata": {
    "scrolled": false
   },
   "outputs": [
    {
     "name": "stderr",
     "output_type": "stream",
     "text": [
      "/opt/anaconda3/lib/python3.7/site-packages/ipykernel_launcher.py:39: PerformanceWarning: DataFrame is highly fragmented.  This is usually the result of calling `frame.insert` many times, which has poor performance.  Consider joining all columns at once using pd.concat(axis=1) instead.  To get a de-fragmented frame, use `newframe = frame.copy()`\n"
     ]
    }
   ],
   "source": [
    "col_list = monthly_df.columns.to_list()\n",
    "\n",
    "for ele in ['c','number_Of_Shares', '1_day_ret','Name','volatility_60day',\n",
    "                 'sector','market', 'acceleration', 'adj_mom', 'log_ret','adj_c', 'EA_ret', 'sector_ind']:\n",
    "    try:\n",
    "        col_list.remove(ele)\n",
    "    except:\n",
    "        print(ele)\n",
    "\n",
    "\n",
    "col_list1 = col_list.copy()\n",
    "col_list1.append('rank_ret')\n",
    "\n",
    "\n",
    "zscore_df = pd.DataFrame()\n",
    "zscore_df.index = monthly_df.index\n",
    "\n",
    "for col in col_list1:\n",
    "    col_zscore = col+ '_zscore'\n",
    "    zscore_tmp_df = monthly_df[col]\n",
    "    zscore_tmp_df = zscore_tmp_df.dropna()\n",
    "    #Rank for each day!! This makes it robust and stationary!! \n",
    "    # HIGH VALUE GIVES LOW RANK!!!\n",
    "    zscore_tmp_df = zscore_tmp_df.groupby(level='d').rank(ascending=False)\n",
    "    zscore_df[col_zscore] = (zscore_tmp_df - zscore_tmp_df.unstack(level ='d').mean())/zscore_tmp_df.unstack(level ='d').std()\n",
    "\n",
    "    \n",
    "\n",
    "model_list = []\n",
    "for col in zscore_df.columns:\n",
    "    x = re.search('zscore$', col)\n",
    "    if(x!=None):\n",
    "        model_list.append(col)\n",
    "\n",
    "#group by quintiles \n",
    "\n",
    "for col in list(set(list(zscore_df.columns)) - set('rank_ret_zscore')):\n",
    "    col_group = col + '_group'\n",
    "    zscore_df[col_group] = pd.qcut(zscore_df[col].rank(method='first'), n_groups, labels = range(1, n_groups + 1))\n",
    "    \n",
    "    \n",
    "#Add indicator function for sector\n",
    "zscore_df = zscore_df.join(monthly_df['sector_ind'], on=['d','insID'],how='left')"
   ]
  },
  {
   "cell_type": "code",
   "execution_count": 7,
   "metadata": {
    "scrolled": true
   },
   "outputs": [
    {
     "name": "stderr",
     "output_type": "stream",
     "text": [
      "/opt/anaconda3/lib/python3.7/site-packages/ipykernel_launcher.py:5: PerformanceWarning: DataFrame is highly fragmented.  This is usually the result of calling `frame.insert` many times, which has poor performance.  Consider joining all columns at once using pd.concat(axis=1) instead.  To get a de-fragmented frame, use `newframe = frame.copy()`\n",
      "  \"\"\"\n",
      "/opt/anaconda3/lib/python3.7/site-packages/ipykernel_launcher.py:6: PerformanceWarning: DataFrame is highly fragmented.  This is usually the result of calling `frame.insert` many times, which has poor performance.  Consider joining all columns at once using pd.concat(axis=1) instead.  To get a de-fragmented frame, use `newframe = frame.copy()`\n",
      "  \n",
      "/opt/anaconda3/lib/python3.7/site-packages/ipykernel_launcher.py:7: PerformanceWarning: DataFrame is highly fragmented.  This is usually the result of calling `frame.insert` many times, which has poor performance.  Consider joining all columns at once using pd.concat(axis=1) instead.  To get a de-fragmented frame, use `newframe = frame.copy()`\n",
      "  import sys\n",
      "/opt/anaconda3/lib/python3.7/site-packages/ipykernel_launcher.py:8: PerformanceWarning: DataFrame is highly fragmented.  This is usually the result of calling `frame.insert` many times, which has poor performance.  Consider joining all columns at once using pd.concat(axis=1) instead.  To get a de-fragmented frame, use `newframe = frame.copy()`\n",
      "  \n",
      "/opt/anaconda3/lib/python3.7/site-packages/ipykernel_launcher.py:16: PerformanceWarning: DataFrame is highly fragmented.  This is usually the result of calling `frame.insert` many times, which has poor performance.  Consider joining all columns at once using pd.concat(axis=1) instead.  To get a de-fragmented frame, use `newframe = frame.copy()`\n",
      "  app.launch_new_instance()\n",
      "/opt/anaconda3/lib/python3.7/site-packages/ipykernel_launcher.py:20: PerformanceWarning: DataFrame is highly fragmented.  This is usually the result of calling `frame.insert` many times, which has poor performance.  Consider joining all columns at once using pd.concat(axis=1) instead.  To get a de-fragmented frame, use `newframe = frame.copy()`\n",
      "/opt/anaconda3/lib/python3.7/site-packages/ipykernel_launcher.py:26: PerformanceWarning: DataFrame is highly fragmented.  This is usually the result of calling `frame.insert` many times, which has poor performance.  Consider joining all columns at once using pd.concat(axis=1) instead.  To get a de-fragmented frame, use `newframe = frame.copy()`\n",
      "/opt/anaconda3/lib/python3.7/site-packages/ipykernel_launcher.py:27: PerformanceWarning: DataFrame is highly fragmented.  This is usually the result of calling `frame.insert` many times, which has poor performance.  Consider joining all columns at once using pd.concat(axis=1) instead.  To get a de-fragmented frame, use `newframe = frame.copy()`\n",
      "/opt/anaconda3/lib/python3.7/site-packages/ipykernel_launcher.py:28: PerformanceWarning: DataFrame is highly fragmented.  This is usually the result of calling `frame.insert` many times, which has poor performance.  Consider joining all columns at once using pd.concat(axis=1) instead.  To get a de-fragmented frame, use `newframe = frame.copy()`\n",
      "/opt/anaconda3/lib/python3.7/site-packages/ipykernel_launcher.py:29: PerformanceWarning: DataFrame is highly fragmented.  This is usually the result of calling `frame.insert` many times, which has poor performance.  Consider joining all columns at once using pd.concat(axis=1) instead.  To get a de-fragmented frame, use `newframe = frame.copy()`\n",
      "/opt/anaconda3/lib/python3.7/site-packages/ipykernel_launcher.py:36: PerformanceWarning: DataFrame is highly fragmented.  This is usually the result of calling `frame.insert` many times, which has poor performance.  Consider joining all columns at once using pd.concat(axis=1) instead.  To get a de-fragmented frame, use `newframe = frame.copy()`\n",
      "/opt/anaconda3/lib/python3.7/site-packages/ipykernel_launcher.py:40: PerformanceWarning: DataFrame is highly fragmented.  This is usually the result of calling `frame.insert` many times, which has poor performance.  Consider joining all columns at once using pd.concat(axis=1) instead.  To get a de-fragmented frame, use `newframe = frame.copy()`\n"
     ]
    }
   ],
   "source": [
    "\n",
    "##############################################    \n",
    "#combined measures, redo z scores and groups!!\n",
    "##############################################\n",
    "\n",
    "zscore_df['comb_mom'] = zscore_df['mom3_zscore'] + zscore_df['mom6_zscore'] +zscore_df['mom12_zscore']\n",
    "zscore_df['ear_mom'] =  zscore_df['mom6_zscore'] +zscore_df['mom12_zscore'] + zscore_df['EAR_std_zscore']\n",
    "zscore_df['val_comp'] = zscore_df['PE_zscore'] + zscore_df['PB_zscore'] +zscore_df['EVEBIT_zscore'] +zscore_df['PFCF_zscore']+zscore_df['PS_zscore'] + zscore_df['Asset_growth_zscore']\n",
    "zscore_df['qual_comp'] = zscore_df['GPA_zscore'] + zscore_df['ROIC_zscore'] +zscore_df['ROE_zscore'] + zscore_df['AT_zscore']+zscore_df['FCFROE_zscore']\n",
    "\n",
    "\n",
    "## REDO ZSCORE AND QUANTILES FOR COMBINED MEASURES\n",
    "\n",
    "for col in ['comb_mom', 'ear_mom', 'val_comp', 'qual_comp']:\n",
    "    col_zscore = col+ '_zscore'\n",
    "    zscore_tmp_df = zscore_df[col]\n",
    "    zscore_df[col_zscore] = (zscore_tmp_df - zscore_tmp_df.unstack(level ='d').mean())/zscore_tmp_df.unstack(level ='d').std()\n",
    "\n",
    "for col in ['comb_mom_zscore', 'ear_mom_zscore', 'val_comp_zscore', 'qual_comp_zscore']:\n",
    "    col_group = col + '_group'\n",
    "    zscore_df[col_group] = pd.qcut(zscore_df[col].rank(method='first'), n_groups, labels = range(1, n_groups + 1))\n",
    "\n",
    "##############################################    \n",
    "######### REDO FOR COMBINATION OF COMBINATIONS, VMQ, QM, VQ, VM\n",
    "#################################################\n",
    "\n",
    "zscore_df['VMQ'] = zscore_df['ear_mom_zscore'] + zscore_df['val_comp_zscore'] +zscore_df['qual_comp_zscore']\n",
    "zscore_df['MQ'] = zscore_df['ear_mom_zscore'] +zscore_df['qual_comp_zscore']\n",
    "zscore_df['VQ'] =  zscore_df['val_comp_zscore'] +zscore_df['qual_comp_zscore']\n",
    "zscore_df['VM'] = zscore_df['ear_mom_zscore'] + zscore_df['val_comp_zscore']\n",
    "\n",
    "## REDO ZSCORE AND QUANTILES FOR COMBINED OF COMBINED MEASURES\n",
    "\n",
    "for col in ['VMQ', 'MQ', 'VQ', 'VM']:\n",
    "    col_zscore = col+ '_zscore'\n",
    "    zscore_tmp_df = zscore_df[col]\n",
    "    zscore_df[col_zscore] = (zscore_tmp_df - zscore_tmp_df.unstack(level ='d').mean())/zscore_tmp_df.unstack(level ='d').std()\n",
    "\n",
    "for col in ['VMQ_zscore', 'MQ_zscore', 'VQ_zscore', 'VM_zscore']:\n",
    "    col_group = col + '_group'\n",
    "    zscore_df[col_group] = pd.qcut(zscore_df[col].rank(method='first'), n_groups, labels = range(1, n_groups + 1))\n",
    "\n",
    "\n"
   ]
  },
  {
   "cell_type": "code",
   "execution_count": 9,
   "metadata": {},
   "outputs": [
    {
     "data": {
      "text/plain": [
       "Index(['c', 'number_Of_Shares', 'MCAP', 'PE', 'GPA', 'GPA_chg', 'Asset_growth',\n",
       "       'PB', 'EA_ret', 'EAR_std', 'AVG_EAR', 'EVEBIT', 'EVFCF', 'adj_c',\n",
       "       'ROIC', 'ROE', 'ROE_chg', 'AT', 'Name', 'sector', 'market', 'RSURP_Y',\n",
       "       'rev_growth', 'SUE_Y', 'EPS_growth', 'EPS_acceleration', 'mom12',\n",
       "       'mom6', 'mom3', 'mom1', '1_day_ret', 'volatility', 'volatility_60day',\n",
       "       'acceleration', 'adj_mom', 'sharpe', 'sharpe_6m', 'high_12m', 'high_6m',\n",
       "       'high_3m', 'high_1m', 'high_2y', 'high_3y', 'high_4y', 'low_1m',\n",
       "       'low_3m', 'low_6m', 'low_12m', 'low_2y', 'skew', 'EMA_32_96',\n",
       "       'EMA_96_288', 'range_2y', 'range_12m', 'range_6m', 'range_3m',\n",
       "       'range_1m', 'VAR_1', 'FCFROE', 'ROA', 'PS', 'PFCF', 'DIV_Y',\n",
       "       'res_mom12', 'MA50_VOL', 'Gross_margin', 'beta', 'alpha', 'std_alpha',\n",
       "       'ido_mom12', 'PO', 'FY', 'SY'],\n",
       "      dtype='object')"
      ]
     },
     "execution_count": 9,
     "metadata": {},
     "output_type": "execute_result"
    }
   ],
   "source": [
    "tmp_df.columns"
   ]
  },
  {
   "cell_type": "markdown",
   "metadata": {},
   "source": [
    "## MOMENTUM MEASURES"
   ]
  },
  {
   "cell_type": "code",
   "execution_count": 25,
   "metadata": {
    "scrolled": false
   },
   "outputs": [
    {
     "data": {
      "image/png": "[encoded data removed]",
      "text/plain": [
       "<Figure size 432x288 with 6 Axes>"
      ]
     },
     "metadata": {},
     "output_type": "display_data"
    }
   ],
   "source": [
    "sns.set_style(\"whitegrid\")\n",
    "fig, ax = plt.subplots(2,3, sharex=True, sharey = True)\n",
    "fig.suptitle('Momentum measures and 3 month forward returns', fontsize=18, y=1)\n",
    "ax[0, 0].bar(range(1, n_groups + 1) ,zscore_df.groupby(\"mom3_zscore_group\").mean()['rank_ret_zscore']);\n",
    "ax[0, 0].set_title('3 month Momentum');\n",
    "ax[1, 0].bar(range(1, n_groups + 1) ,zscore_df.groupby(\"mom6_zscore_group\").mean()['rank_ret_zscore']);\n",
    "ax[1, 0].set_title('6 month Momentum');\n",
    "ax[0, 1].bar(range(1, n_groups + 1) ,zscore_df.groupby(\"mom12_zscore_group\").mean()['rank_ret_zscore']);\n",
    "ax[0, 1].set_title('12 month Momentum');\n",
    "ax[1, 1].bar(range(1, n_groups + 1) ,zscore_df.groupby(\"EAR_std_zscore_group\").mean()['rank_ret_zscore']);\n",
    "ax[1, 1].set_title('EAR std');\n",
    "#ax[0, 2].bar(range(1, n_groups + 1) ,zscore_df.groupby(\"RSURP_Y_zscore_group\").mean()['rank_ret_zscore']);\n",
    "#ax[0, 2].set_title('RSURP_Y');\n",
    "#ax[1, 2].bar(range(1, n_groups + 1) ,zscore_df.groupby(\"SUE_Y_zscore_group\").mean()['rank_ret_zscore']);\n",
    "#ax[1, 2].set_title('SUE_Y');\n",
    "\n",
    "ax[0, 2].bar(range(1, n_groups + 1) ,zscore_df.groupby(\"high_12m_zscore_group\").mean()['rank_ret_zscore']);\n",
    "ax[0, 2].set_title('HIGH 12 M');\n",
    "ax[1, 2].bar(range(1, n_groups + 1) ,zscore_df.groupby(\"EMA_96_288_zscore_group\").mean()['rank_ret_zscore']);\n",
    "ax[1, 2].set_title('EMA_96_288');\n"
   ]
  },
  {
   "cell_type": "code",
   "execution_count": 17,
   "metadata": {
    "scrolled": true
   },
   "outputs": [],
   "source": [
    "# sns.set_style(\"whitegrid\")\n",
    "# fig, ax = plt.subplots(nrows=1, ncols=2, sharex=True, sharey = True)\n",
    "# fig.suptitle('Momentum measures and 1 month forward returns', fontsize=18, y=1)\n",
    "# ax[0].bar(range(1, n_groups + 1) ,zscore_df.groupby(\"comb_mom_zscore_group\").mean()['rank_ret_zscore']);\n",
    "# ax[0].set_title('Combined Momentum');\n",
    "# ax[1].bar(range(1, n_groups + 1) ,zscore_df.groupby(\"ear_mom_zscore_group\").mean()['rank_ret_zscore']);\n",
    "# ax[1].set_title('EAR-Momentum');"
   ]
  },
  {
   "cell_type": "markdown",
   "metadata": {},
   "source": [
    "### Value Measures"
   ]
  },
  {
   "cell_type": "code",
   "execution_count": 3,
   "metadata": {},
   "outputs": [],
   "source": [
    "# sns.set_style(\"whitegrid\")\n",
    "# fig, ax = plt.subplots(2,4, sharex=True, sharey = True)\n",
    "# fig.suptitle('Value measures and 3 month forward returns', fontsize=18, y=1)\n",
    "# ax[0, 0].bar(range(1, n_groups + 1) ,zscore_df.groupby(\"PFCF_zscore_group\").mean()['rank_ret_zscore']);\n",
    "# ax[0, 0].set_title('PFCF');\n",
    "# ax[1, 0].bar(range(1, n_groups + 1) ,zscore_df.groupby(\"PE_zscore_group\").mean()['rank_ret_zscore']);\n",
    "# ax[1, 0].set_title('PE');\n",
    "# ax[0, 1].bar(range(1, n_groups + 1) ,zscore_df.groupby(\"PB_zscore_group\").mean()['rank_ret_zscore']);\n",
    "# ax[0, 1].set_title('PB');\n",
    "# ax[1, 1].bar(range(1, n_groups + 1) ,zscore_df.groupby(\"Asset_growth_zscore_group\").mean()['rank_ret_zscore']);\n",
    "# ax[1, 1].set_title('Asset Growth');\n",
    "\n",
    "# ax[0, 2].bar(range(1, n_groups + 1) ,zscore_df.groupby(\"EVEBIT_zscore_group\").mean()['rank_ret_zscore']);\n",
    "# ax[0, 2].set_title('EVEBIT');\n",
    "# ax[1, 2].bar(range(1, n_groups + 1) ,zscore_df.groupby(\"DIV_Y_zscore_group\").mean()['rank_ret_zscore']);\n",
    "# ax[1, 2].set_title('Dividend Yield');\n",
    "\n",
    "# ax[0, 3].bar(range(1, n_groups + 1) ,zscore_df.groupby(\"PS_zscore_group\").mean()['rank_ret_zscore']);\n",
    "# ax[0, 3].set_title('PS');\n",
    "# ax[1, 3].bar(range(1, n_groups + 1) ,zscore_df.groupby(\"val_comp_zscore_group\").mean()['rank_ret_zscore']);\n",
    "# ax[1, 3].set_title('Value Composite');"
   ]
  },
  {
   "cell_type": "code",
   "execution_count": 18,
   "metadata": {},
   "outputs": [
    {
     "data": {
      "image/png": "[encoded data removed]",
      "text/plain": [
       "<Figure size 432x288 with 8 Axes>"
      ]
     },
     "metadata": {},
     "output_type": "display_data"
    }
   ],
   "source": [
    "sns.set_style(\"whitegrid\")\n",
    "fig, ax = plt.subplots(2,4, sharex=True, sharey = True)\n",
    "fig.suptitle('Quality measures and 3 month forward returns', fontsize=18, y=1)\n",
    "ax[0, 0].bar(range(1, n_groups + 1) ,zscore_df.groupby(\"ROE_zscore_group\").mean()['rank_ret_zscore']);\n",
    "ax[0, 0].set_title('ROE');\n",
    "ax[1, 0].bar(range(1, n_groups + 1) ,zscore_df.groupby(\"ROIC_zscore_group\").mean()['rank_ret_zscore']);\n",
    "ax[1, 0].set_title('ROIC');\n",
    "ax[0, 1].bar(range(1, n_groups + 1) ,zscore_df.groupby(\"FCFROE_zscore_group\").mean()['rank_ret_zscore']);\n",
    "ax[0, 1].set_title('FCFROE');\n",
    "ax[1, 1].bar(range(1, n_groups + 1) ,zscore_df.groupby(\"GPA_zscore_group\").mean()['rank_ret_zscore']);\n",
    "ax[1, 1].set_title('GPA');\n",
    "\n",
    "ax[0, 2].bar(range(1, n_groups + 1) ,zscore_df.groupby(\"AT_zscore_group\").mean()['rank_ret_zscore']);\n",
    "ax[0, 2].set_title('AT');\n",
    "ax[1, 2].bar(range(1, n_groups + 1) ,zscore_df.groupby(\"ROA_zscore_group\").mean()['rank_ret_zscore']);\n",
    "ax[1, 2].set_title('ROA');\n",
    "\n",
    "ax[0, 3].bar(range(1, n_groups + 1) ,zscore_df.groupby(\"PO_zscore_group\").mean()['rank_ret_zscore']);\n",
    "ax[0, 3].set_title('PO');\n",
    "\n",
    "ax[1, 3].bar(range(1, n_groups + 1) ,zscore_df.groupby(\"qual_comp_zscore_group\").mean()['rank_ret_zscore']);\n",
    "ax[1, 3].set_title('Quality Composite');\n"
   ]
  },
  {
   "cell_type": "code",
   "execution_count": 19,
   "metadata": {
    "scrolled": false
   },
   "outputs": [],
   "source": [
    "# sns.set_style(\"whitegrid\")\n",
    "# plt.bar(range(1, n_groups + 1), zscore_df.groupby(\"VMQ_zscore_group\").mean()['rank_ret_zscore']);\n",
    "# plt.title('VMQ');"
   ]
  },
  {
   "cell_type": "code",
   "execution_count": 20,
   "metadata": {
    "scrolled": true
   },
   "outputs": [],
   "source": [
    "# sns.set_style(\"whitegrid\")\n",
    "# plt.bar(range(1, n_groups + 1), zscore_df.groupby(\"MQ_zscore_group\").mean()['rank_ret_zscore']);\n",
    "# plt.title('QM');"
   ]
  },
  {
   "cell_type": "code",
   "execution_count": 21,
   "metadata": {
    "scrolled": true
   },
   "outputs": [],
   "source": [
    "# sns.set_style(\"whitegrid\")\n",
    "# plt.bar(range(1, n_groups + 1), zscore_df.groupby(\"VM_zscore_group\").mean()['rank_ret_zscore']);\n",
    "# plt.title('VM');"
   ]
  },
  {
   "cell_type": "code",
   "execution_count": 22,
   "metadata": {},
   "outputs": [],
   "source": [
    "# sns.set_style(\"whitegrid\")\n",
    "# plt.bar(range(1, n_groups + 1), zscore_df.groupby(\"VQ_zscore_group\").mean()['rank_ret_zscore']);\n",
    "# plt.title('VQ');"
   ]
  },
  {
   "cell_type": "code",
   "execution_count": 23,
   "metadata": {
    "scrolled": false
   },
   "outputs": [],
   "source": [
    "# sns.set_style(\"whitegrid\")\n",
    "# plt.bar(range(1, n_groups + 1), zscore_df.groupby(\"volatility_zscore_group\").mean()['rank_ret_zscore']);\n",
    "# plt.title('Volatility');"
   ]
  },
  {
   "cell_type": "code",
   "execution_count": 24,
   "metadata": {},
   "outputs": [],
   "source": [
    "# sns.set_style(\"whitegrid\")\n",
    "# plt.bar(range(1, n_groups + 1), zscore_df.groupby(\"sharpe_zscore_group\").mean()['rank_ret_zscore']);\n",
    "# plt.title('Sharpe');"
   ]
  },
  {
   "cell_type": "markdown",
   "metadata": {},
   "source": [
    "## SIMPEL LINEAR MODEL"
   ]
  },
  {
   "cell_type": "code",
   "execution_count": 26,
   "metadata": {},
   "outputs": [],
   "source": [
    "coeff_list_full = model_list.copy()\n",
    "coeff_list = coeff_list_full\n",
    "coeff_list.remove('rank_ret_zscore')\n"
   ]
  },
  {
   "cell_type": "code",
   "execution_count": 27,
   "metadata": {
    "scrolled": false
   },
   "outputs": [
    {
     "data": {
      "text/plain": [
       "['MCAP_zscore',\n",
       " 'PE_zscore',\n",
       " 'GPA_zscore',\n",
       " 'GPA_chg_zscore',\n",
       " 'Asset_growth_zscore',\n",
       " 'PB_zscore',\n",
       " 'EAR_std_zscore',\n",
       " 'AVG_EAR_zscore',\n",
       " 'EVEBIT_zscore',\n",
       " 'EVFCF_zscore',\n",
       " 'ROIC_zscore',\n",
       " 'ROE_zscore',\n",
       " 'ROE_chg_zscore',\n",
       " 'AT_zscore',\n",
       " 'RSURP_Y_zscore',\n",
       " 'rev_growth_zscore',\n",
       " 'SUE_Y_zscore',\n",
       " 'EPS_growth_zscore',\n",
       " 'EPS_acceleration_zscore',\n",
       " 'mom12_zscore',\n",
       " 'mom6_zscore',\n",
       " 'mom3_zscore',\n",
       " 'mom1_zscore',\n",
       " 'volatility_zscore',\n",
       " 'sharpe_zscore',\n",
       " 'sharpe_6m_zscore',\n",
       " 'high_12m_zscore',\n",
       " 'high_6m_zscore',\n",
       " 'high_3m_zscore',\n",
       " 'high_1m_zscore',\n",
       " 'high_2y_zscore',\n",
       " 'high_3y_zscore',\n",
       " 'high_4y_zscore',\n",
       " 'low_1m_zscore',\n",
       " 'low_3m_zscore',\n",
       " 'low_6m_zscore',\n",
       " 'low_12m_zscore',\n",
       " 'low_2y_zscore',\n",
       " 'skew_zscore',\n",
       " 'EMA_32_96_zscore',\n",
       " 'EMA_96_288_zscore',\n",
       " 'range_2y_zscore',\n",
       " 'range_12m_zscore',\n",
       " 'range_6m_zscore',\n",
       " 'range_3m_zscore',\n",
       " 'range_1m_zscore',\n",
       " 'VAR_1_zscore',\n",
       " 'FCFROE_zscore',\n",
       " 'ROA_zscore',\n",
       " 'PS_zscore',\n",
       " 'PFCF_zscore',\n",
       " 'DIV_Y_zscore',\n",
       " 'res_mom12_zscore',\n",
       " 'MA50_VOL_zscore',\n",
       " 'Gross_margin_zscore',\n",
       " 'beta_zscore',\n",
       " 'alpha_zscore',\n",
       " 'std_alpha_zscore',\n",
       " 'ido_mom12_zscore',\n",
       " 'PO_zscore',\n",
       " 'FY_zscore',\n",
       " 'SY_zscore']"
      ]
     },
     "execution_count": 27,
     "metadata": {},
     "output_type": "execute_result"
    }
   ],
   "source": [
    "coeff_list"
   ]
  },
  {
   "cell_type": "code",
   "execution_count": 28,
   "metadata": {
    "scrolled": true
   },
   "outputs": [],
   "source": [
    "coeff_list_comp = coeff_list"
   ]
  },
  {
   "cell_type": "code",
   "execution_count": 29,
   "metadata": {},
   "outputs": [],
   "source": [
    "coeff_list_comp = ['EVEBIT_zscore','Asset_growth_zscore', 'PS_zscore', 'PB_zscore', 'PE_zscore',\n",
    "                  'ROIC_zscore','ROE_zscore','GPA_zscore','AT_zscore', 'ROA_zscore',\n",
    "                   'EAR_std_zscore','mom12_zscore', 'mom6_zscore','mom3_zscore','res_mom12_zscore', 'sharpe_zscore']"
   ]
  },
  {
   "cell_type": "markdown",
   "metadata": {},
   "source": [
    "## 1 month returns"
   ]
  },
  {
   "cell_type": "code",
   "execution_count": 40,
   "metadata": {
    "scrolled": false
   },
   "outputs": [
    {
     "name": "stdout",
     "output_type": "stream",
     "text": [
      "                                 OLS Regression Results                                \n",
      "=======================================================================================\n",
      "Dep. Variable:        rank_ret_zscore   R-squared (uncentered):                   0.008\n",
      "Model:                            OLS   Adj. R-squared (uncentered):              0.008\n",
      "Method:                 Least Squares   F-statistic:                              14.02\n",
      "Date:                Fri, 27 May 2022   Prob (F-statistic):                    9.19e-23\n",
      "Time:                        08:08:56   Log-Likelihood:                         -20540.\n",
      "No. Observations:               14540   AIC:                                  4.110e+04\n",
      "Df Residuals:                   14531   BIC:                                  4.117e+04\n",
      "Df Model:                           9                                                  \n",
      "Covariance Type:                  HAC                                                  \n",
      "=====================================================================================\n",
      "                        coef    std err          z      P>|z|      [0.025      0.975]\n",
      "-------------------------------------------------------------------------------------\n",
      "EMA_32_96_zscore     -0.0187      0.012     -1.628      0.104      -0.041       0.004\n",
      "EMA_96_288_zscore    -0.0160      0.010     -1.657      0.097      -0.035       0.003\n",
      "EAR_std_zscore       -0.0251      0.007     -3.853      0.000      -0.038      -0.012\n",
      "mom12_zscore          0.0592      0.016      3.666      0.000       0.028       0.091\n",
      "mom6_zscore           0.0171      0.010      1.710      0.087      -0.003       0.037\n",
      "mom3_zscore           0.0001      0.009      0.015      0.988      -0.018       0.018\n",
      "res_mom12_zscore      0.0088      0.008      1.071      0.284      -0.007       0.025\n",
      "sharpe_zscore        -0.0709      0.017     -4.076      0.000      -0.105      -0.037\n",
      "high_12m_zscore      -0.0316      0.009     -3.355      0.001      -0.050      -0.013\n",
      "==============================================================================\n",
      "Omnibus:                    11346.150   Durbin-Watson:                   2.019\n",
      "Prob(Omnibus):                  0.000   Jarque-Bera (JB):              855.654\n",
      "Skew:                           0.028   Prob(JB):                    1.57e-186\n",
      "Kurtosis:                       1.813   Cond. No.                         8.96\n",
      "==============================================================================\n",
      "\n",
      "Notes:\n",
      "[1] R² is computed without centering (uncentered) since the model does not contain a constant.\n",
      "[2] Standard Errors are heteroscedasticity and autocorrelation robust (HAC) using 1 lags and without small sample correction\n"
     ]
    }
   ],
   "source": [
    "#coeff_list_comp = ['qual_comp_zscore', 'val_comp_zscore', 'ear_mom_zscore'] + ['volatility_zscore']\n",
    "\n",
    "#coeff_list_comp = ['mom1_zscore', 'ear_mom_zscore', 'volatility_zscore']\n",
    "\n",
    "#coeff_list_comp = [ 'volatility_zscore', 'mom12_zscore', 'EAR_std_zscore', 'sharpe_zscore']\n",
    "#coeff_list_comp = ['EMA_96_288_zscore', 'EMA_32_96_zscore']\n",
    "\n",
    "\n",
    "#coeff_list_comp = ['EAR_std_zscore']\n",
    "#coeff_list_comp = ['EVEBIT_zscore','Asset_growth_zscore', 'PS_zscore', 'PB_zscore', 'PE_zscore' ]\n",
    "#coeff_list_comp = [ 'EAR_std_zscore','mom12_zscore', 'mom6_zscore','mom3_zscore','res_mom12_zscore', 'sharpe_zscore']\n",
    "\n",
    "coeff_list_comp = ['ROIC_zscore','ROE_zscore','GPA_zscore','AT_zscore', 'ROA_zscore', 'PO_zscore']\n",
    "#coeff_list_comp = [ 'EAR_std_zscore', 'mom12_zscore']\n",
    "#coeff_list_comp = ['EAR_std_zscore','res_mom12_zscore', 'sharpe_zscore', 'mom12_zscore']\n",
    "coeff_list_comp = ['EMA_32_96_zscore','EMA_96_288_zscore','EAR_std_zscore','mom12_zscore', 'mom6_zscore',\n",
    "                   'mom3_zscore', 'res_mom12_zscore', 'sharpe_zscore', 'high_12m_zscore']\n",
    "\n",
    "\n",
    "#coeff_list_comp = ['VMQ_zscore']\n",
    " \n",
    "\n",
    "INTERACTIONS = False\n",
    "\n",
    "y_factor = 'rank_ret_zscore'\n",
    "\n",
    "y = pd.DataFrame(zscore_df[y_factor])\n",
    "X = zscore_df[coeff_list_comp]\n",
    "\n",
    "model_list = coeff_list_comp.copy()\n",
    "model_list.append(y_factor)\n",
    "\n",
    "formula = y.columns[0] + ' ~ ' \n",
    "\n",
    "coeff_list_comp_tmp = coeff_list_comp\n",
    "\n",
    "if INTERACTIONS == True:\n",
    "\n",
    "    for coeff in coeff_list_comp_tmp:\n",
    "            formula = formula + coeff + \" + \" \n",
    "    for coeff_i in coeff_list_comp_tmp:\n",
    "        for coeff_j in coeff_list_comp_tmp:\n",
    "            if coeff_i != coeff_j:\n",
    "                formula = formula + coeff_i+\":\"+ coeff_j + \" + \"\n",
    "else:\n",
    "    for coeff in coeff_list_comp_tmp:\n",
    "            formula = formula + coeff + \" + \" \n",
    "                \n",
    "                             \n",
    "formula = formula[:-3]\n",
    "formula = formula + \"-1\" #no intercept\n",
    "\n",
    "reg_df = zscore_df.dropna()\n",
    "\n",
    "\n",
    "\n",
    "### MAKE NEGATIVE values positive for ranking\n",
    "\n",
    "#turn_positive = ['res_mom12_zscore','mom12_zscore', 'mom6_zscore', 'mom3_zscore','high_2y_zscore', 'high_12m_zscore',\n",
    "#        'high_6m_zscore', 'high_3m_zscore','high_1m_zscore', 'EAR_std_zscore','AVG_EAR_zscore','qual_comp_zscore', 'VMQ_zscore',\n",
    "#                 'val_comp_zscore','ear_mom_zscore', 'EMA_32_96_zscore', 'EMA_96_288_zscore', 'sharpe_zscore' ]\n",
    "#\n",
    "#reg_df.loc[:,turn_positive ] = -reg_df.loc[:,turn_positive ]\n",
    "\n",
    "\n",
    "est2 = smf.ols(formula= formula, data=reg_df[model_list]).fit(cov_type='HAC',cov_kwds={'maxlags':1})\n",
    "print(est2.summary())\n"
   ]
  },
  {
   "cell_type": "code",
   "execution_count": 41,
   "metadata": {
    "scrolled": false
   },
   "outputs": [
    {
     "data": {
      "text/html": [
       "<div>\n",
       "<style scoped>\n",
       "    .dataframe tbody tr th:only-of-type {\n",
       "        vertical-align: middle;\n",
       "    }\n",
       "\n",
       "    .dataframe tbody tr th {\n",
       "        vertical-align: top;\n",
       "    }\n",
       "\n",
       "    .dataframe thead th {\n",
       "        text-align: right;\n",
       "    }\n",
       "</style>\n",
       "<table border=\"1\" class=\"dataframe\">\n",
       "  <thead>\n",
       "    <tr style=\"text-align: right;\">\n",
       "      <th></th>\n",
       "      <th>coeff</th>\n",
       "      <th>Weights</th>\n",
       "    </tr>\n",
       "  </thead>\n",
       "  <tbody>\n",
       "    <tr>\n",
       "      <th>EMA_32_96_zscore</th>\n",
       "      <td>-0.018746</td>\n",
       "      <td>0.243248</td>\n",
       "    </tr>\n",
       "    <tr>\n",
       "      <th>EMA_96_288_zscore</th>\n",
       "      <td>-0.016023</td>\n",
       "      <td>0.207917</td>\n",
       "    </tr>\n",
       "    <tr>\n",
       "      <th>EAR_std_zscore</th>\n",
       "      <td>-0.025062</td>\n",
       "      <td>0.325203</td>\n",
       "    </tr>\n",
       "    <tr>\n",
       "      <th>mom12_zscore</th>\n",
       "      <td>0.059170</td>\n",
       "      <td>-0.767793</td>\n",
       "    </tr>\n",
       "    <tr>\n",
       "      <th>mom6_zscore</th>\n",
       "      <td>0.017118</td>\n",
       "      <td>-0.222120</td>\n",
       "    </tr>\n",
       "    <tr>\n",
       "      <th>mom3_zscore</th>\n",
       "      <td>0.000137</td>\n",
       "      <td>-0.001782</td>\n",
       "    </tr>\n",
       "    <tr>\n",
       "      <th>res_mom12_zscore</th>\n",
       "      <td>0.008821</td>\n",
       "      <td>-0.114466</td>\n",
       "    </tr>\n",
       "    <tr>\n",
       "      <th>sharpe_zscore</th>\n",
       "      <td>-0.070913</td>\n",
       "      <td>0.920170</td>\n",
       "    </tr>\n",
       "    <tr>\n",
       "      <th>high_12m_zscore</th>\n",
       "      <td>-0.031568</td>\n",
       "      <td>0.409623</td>\n",
       "    </tr>\n",
       "  </tbody>\n",
       "</table>\n",
       "</div>"
      ],
      "text/plain": [
       "                      coeff   Weights\n",
       "EMA_32_96_zscore  -0.018746  0.243248\n",
       "EMA_96_288_zscore -0.016023  0.207917\n",
       "EAR_std_zscore    -0.025062  0.325203\n",
       "mom12_zscore       0.059170 -0.767793\n",
       "mom6_zscore        0.017118 -0.222120\n",
       "mom3_zscore        0.000137 -0.001782\n",
       "res_mom12_zscore   0.008821 -0.114466\n",
       "sharpe_zscore     -0.070913  0.920170\n",
       "high_12m_zscore   -0.031568  0.409623"
      ]
     },
     "execution_count": 41,
     "metadata": {},
     "output_type": "execute_result"
    }
   ],
   "source": [
    "reg_coeffs = pd.DataFrame(est2.params)\n",
    "reg_coeffs.columns = ['coeff']\n",
    "reg_coeffs['Weights'] = reg_coeffs['coeff']/reg_coeffs['coeff'].sum()\n",
    "reg_coeffs"
   ]
  },
  {
   "cell_type": "code",
   "execution_count": 32,
   "metadata": {
    "scrolled": false
   },
   "outputs": [
    {
     "data": {
      "text/html": [
       "<div>\n",
       "<style scoped>\n",
       "    .dataframe tbody tr th:only-of-type {\n",
       "        vertical-align: middle;\n",
       "    }\n",
       "\n",
       "    .dataframe tbody tr th {\n",
       "        vertical-align: top;\n",
       "    }\n",
       "\n",
       "    .dataframe thead th {\n",
       "        text-align: right;\n",
       "    }\n",
       "</style>\n",
       "<table border=\"1\" class=\"dataframe\">\n",
       "  <thead>\n",
       "    <tr style=\"text-align: right;\">\n",
       "      <th></th>\n",
       "      <th>coeff</th>\n",
       "      <th>Weights</th>\n",
       "    </tr>\n",
       "  </thead>\n",
       "  <tbody>\n",
       "    <tr>\n",
       "      <th>PO_zscore</th>\n",
       "      <td>-0.034471</td>\n",
       "      <td>0.612289</td>\n",
       "    </tr>\n",
       "    <tr>\n",
       "      <th>ROA_zscore</th>\n",
       "      <td>-0.031920</td>\n",
       "      <td>0.566972</td>\n",
       "    </tr>\n",
       "    <tr>\n",
       "      <th>ROIC_zscore</th>\n",
       "      <td>0.023911</td>\n",
       "      <td>-0.424721</td>\n",
       "    </tr>\n",
       "    <tr>\n",
       "      <th>ROE_zscore</th>\n",
       "      <td>-0.018582</td>\n",
       "      <td>0.330061</td>\n",
       "    </tr>\n",
       "    <tr>\n",
       "      <th>GPA_zscore</th>\n",
       "      <td>0.006426</td>\n",
       "      <td>-0.114145</td>\n",
       "    </tr>\n",
       "    <tr>\n",
       "      <th>AT_zscore</th>\n",
       "      <td>-0.001663</td>\n",
       "      <td>0.029544</td>\n",
       "    </tr>\n",
       "  </tbody>\n",
       "</table>\n",
       "</div>"
      ],
      "text/plain": [
       "                coeff   Weights\n",
       "PO_zscore   -0.034471  0.612289\n",
       "ROA_zscore  -0.031920  0.566972\n",
       "ROIC_zscore  0.023911 -0.424721\n",
       "ROE_zscore  -0.018582  0.330061\n",
       "GPA_zscore   0.006426 -0.114145\n",
       "AT_zscore   -0.001663  0.029544"
      ]
     },
     "execution_count": 32,
     "metadata": {},
     "output_type": "execute_result"
    }
   ],
   "source": [
    "from sklearn.linear_model import Ridge\n",
    "y, X = patsy.dmatrices(formula, reg_df[model_list], return_type='dataframe')\n",
    "clf = Ridge(alpha=1)\n",
    "clf.fit(X, y)\n",
    "ridge_coef = pd.DataFrame(clf.coef_)\n",
    "ridge_coef.columns = X.columns\n",
    "reg_coeffs_alt = ridge_coef.transpose().sort_values(by = 0, key=abs, ascending=False)\n",
    "\n",
    "reg_coeffs_alt.columns = ['coeff']\n",
    "reg_coeffs_alt['Weights'] = reg_coeffs_alt['coeff']/reg_coeffs_alt['coeff'].sum()\n",
    "reg_coeffs_alt"
   ]
  },
  {
   "cell_type": "code",
   "execution_count": 33,
   "metadata": {},
   "outputs": [
    {
     "data": {
      "text/plain": [
       "ROIC_zscore    0.282011\n",
       "ROE_zscore     0.311157\n",
       "GPA_zscore     0.179998\n",
       "AT_zscore      0.165292\n",
       "ROA_zscore     0.308161\n",
       "PO_zscore      0.283007\n",
       "dtype: float64"
      ]
     },
     "execution_count": 33,
     "metadata": {},
     "output_type": "execute_result"
    }
   ],
   "source": [
    "zscore_df[coeff_list_comp].groupby(level='insID').diff(horizon).abs().mean()"
   ]
  },
  {
   "cell_type": "markdown",
   "metadata": {},
   "source": [
    "## Correlation Analysis"
   ]
  },
  {
   "cell_type": "code",
   "execution_count": 35,
   "metadata": {
    "scrolled": false
   },
   "outputs": [
    {
     "data": {
      "text/html": [
       "<div>\n",
       "<style scoped>\n",
       "    .dataframe tbody tr th:only-of-type {\n",
       "        vertical-align: middle;\n",
       "    }\n",
       "\n",
       "    .dataframe tbody tr th {\n",
       "        vertical-align: top;\n",
       "    }\n",
       "\n",
       "    .dataframe thead th {\n",
       "        text-align: right;\n",
       "    }\n",
       "</style>\n",
       "<table border=\"1\" class=\"dataframe\">\n",
       "  <thead>\n",
       "    <tr style=\"text-align: right;\">\n",
       "      <th></th>\n",
       "      <th>ROIC_zscore</th>\n",
       "      <th>ROE_zscore</th>\n",
       "      <th>GPA_zscore</th>\n",
       "      <th>AT_zscore</th>\n",
       "      <th>ROA_zscore</th>\n",
       "      <th>PO_zscore</th>\n",
       "    </tr>\n",
       "  </thead>\n",
       "  <tbody>\n",
       "    <tr>\n",
       "      <th>ROIC_zscore</th>\n",
       "      <td>1.000000</td>\n",
       "      <td>0.695306</td>\n",
       "      <td>0.355591</td>\n",
       "      <td>0.350425</td>\n",
       "      <td>0.681270</td>\n",
       "      <td>0.449198</td>\n",
       "    </tr>\n",
       "    <tr>\n",
       "      <th>ROE_zscore</th>\n",
       "      <td>0.695306</td>\n",
       "      <td>1.000000</td>\n",
       "      <td>0.233708</td>\n",
       "      <td>0.272062</td>\n",
       "      <td>0.822983</td>\n",
       "      <td>0.481955</td>\n",
       "    </tr>\n",
       "    <tr>\n",
       "      <th>GPA_zscore</th>\n",
       "      <td>0.355591</td>\n",
       "      <td>0.233708</td>\n",
       "      <td>1.000000</td>\n",
       "      <td>0.629236</td>\n",
       "      <td>0.320509</td>\n",
       "      <td>0.203534</td>\n",
       "    </tr>\n",
       "    <tr>\n",
       "      <th>AT_zscore</th>\n",
       "      <td>0.350425</td>\n",
       "      <td>0.272062</td>\n",
       "      <td>0.629236</td>\n",
       "      <td>1.000000</td>\n",
       "      <td>0.290258</td>\n",
       "      <td>0.306986</td>\n",
       "    </tr>\n",
       "    <tr>\n",
       "      <th>ROA_zscore</th>\n",
       "      <td>0.681270</td>\n",
       "      <td>0.822983</td>\n",
       "      <td>0.320509</td>\n",
       "      <td>0.290258</td>\n",
       "      <td>1.000000</td>\n",
       "      <td>0.483664</td>\n",
       "    </tr>\n",
       "    <tr>\n",
       "      <th>PO_zscore</th>\n",
       "      <td>0.449198</td>\n",
       "      <td>0.481955</td>\n",
       "      <td>0.203534</td>\n",
       "      <td>0.306986</td>\n",
       "      <td>0.483664</td>\n",
       "      <td>1.000000</td>\n",
       "    </tr>\n",
       "  </tbody>\n",
       "</table>\n",
       "</div>"
      ],
      "text/plain": [
       "             ROIC_zscore  ROE_zscore  GPA_zscore  AT_zscore  ROA_zscore  \\\n",
       "ROIC_zscore     1.000000    0.695306    0.355591   0.350425    0.681270   \n",
       "ROE_zscore      0.695306    1.000000    0.233708   0.272062    0.822983   \n",
       "GPA_zscore      0.355591    0.233708    1.000000   0.629236    0.320509   \n",
       "AT_zscore       0.350425    0.272062    0.629236   1.000000    0.290258   \n",
       "ROA_zscore      0.681270    0.822983    0.320509   0.290258    1.000000   \n",
       "PO_zscore       0.449198    0.481955    0.203534   0.306986    0.483664   \n",
       "\n",
       "             PO_zscore  \n",
       "ROIC_zscore   0.449198  \n",
       "ROE_zscore    0.481955  \n",
       "GPA_zscore    0.203534  \n",
       "AT_zscore     0.306986  \n",
       "ROA_zscore    0.483664  \n",
       "PO_zscore     1.000000  "
      ]
     },
     "execution_count": 35,
     "metadata": {},
     "output_type": "execute_result"
    }
   ],
   "source": [
    "zscore_df[coeff_list_comp].corr(method = 'spearman')"
   ]
  },
  {
   "cell_type": "code",
   "execution_count": 36,
   "metadata": {},
   "outputs": [
    {
     "data": {
      "text/html": [
       "<div>\n",
       "<style scoped>\n",
       "    .dataframe tbody tr th:only-of-type {\n",
       "        vertical-align: middle;\n",
       "    }\n",
       "\n",
       "    .dataframe tbody tr th {\n",
       "        vertical-align: top;\n",
       "    }\n",
       "\n",
       "    .dataframe thead th {\n",
       "        text-align: right;\n",
       "    }\n",
       "</style>\n",
       "<table border=\"1\" class=\"dataframe\">\n",
       "  <thead>\n",
       "    <tr style=\"text-align: right;\">\n",
       "      <th></th>\n",
       "      <th>coeff</th>\n",
       "      <th>Weights</th>\n",
       "      <th>cluster</th>\n",
       "    </tr>\n",
       "  </thead>\n",
       "  <tbody>\n",
       "    <tr>\n",
       "      <th>PO_zscore</th>\n",
       "      <td>-0.034471</td>\n",
       "      <td>0.612289</td>\n",
       "      <td>2</td>\n",
       "    </tr>\n",
       "    <tr>\n",
       "      <th>ROA_zscore</th>\n",
       "      <td>-0.031920</td>\n",
       "      <td>0.566972</td>\n",
       "      <td>2</td>\n",
       "    </tr>\n",
       "    <tr>\n",
       "      <th>ROIC_zscore</th>\n",
       "      <td>0.023911</td>\n",
       "      <td>-0.424721</td>\n",
       "      <td>1</td>\n",
       "    </tr>\n",
       "    <tr>\n",
       "      <th>ROE_zscore</th>\n",
       "      <td>-0.018582</td>\n",
       "      <td>0.330061</td>\n",
       "      <td>1</td>\n",
       "    </tr>\n",
       "    <tr>\n",
       "      <th>GPA_zscore</th>\n",
       "      <td>0.006426</td>\n",
       "      <td>-0.114145</td>\n",
       "      <td>2</td>\n",
       "    </tr>\n",
       "    <tr>\n",
       "      <th>AT_zscore</th>\n",
       "      <td>-0.001663</td>\n",
       "      <td>0.029544</td>\n",
       "      <td>3</td>\n",
       "    </tr>\n",
       "  </tbody>\n",
       "</table>\n",
       "</div>"
      ],
      "text/plain": [
       "                coeff   Weights  cluster\n",
       "PO_zscore   -0.034471  0.612289        2\n",
       "ROA_zscore  -0.031920  0.566972        2\n",
       "ROIC_zscore  0.023911 -0.424721        1\n",
       "ROE_zscore  -0.018582  0.330061        1\n",
       "GPA_zscore   0.006426 -0.114145        2\n",
       "AT_zscore   -0.001663  0.029544        3"
      ]
     },
     "execution_count": 36,
     "metadata": {},
     "output_type": "execute_result"
    }
   ],
   "source": [
    "import pandas as pd\n",
    "import scipy.cluster.hierarchy as spc\n",
    "\n",
    "corr = zscore_df[coeff_list_comp].corr(method = 'spearman').values\n",
    "\n",
    "pdist = spc.distance.pdist(corr)\n",
    "linkage = spc.linkage(pdist, method='complete')\n",
    "idx = spc.fcluster(linkage, 0.5 * pdist.max(), 'distance')\n",
    "#idx = spc.fcluster(linkage, 3, 'maxclust')\n",
    "\n",
    "reg_coeffs_alt['cluster'] = idx\n",
    "\n",
    "reg_coeffs_alt"
   ]
  },
  {
   "cell_type": "code",
   "execution_count": 37,
   "metadata": {},
   "outputs": [],
   "source": [
    "def Optimize_Portfolio(data ,risk_free = 0, objective = 'Kelly'):\n",
    "    \n",
    "\n",
    "    \n",
    "    \n",
    "    if objective == 'Kelly':  \n",
    "        #ret = (data).prod()**(1/len(data)) - 1 #cagr\n",
    "        ret = (data-1).mean()\n",
    "        #cov = data.cov().to_numpy()\n",
    "        cov_fit = LedoitWolf().fit(data)\n",
    "        cov = cov_fit.covariance_\n",
    "        \n",
    "        #need smaller step size\n",
    "        num_assets = ret.shape[0]\n",
    "        args = (ret, cov,risk_free)\n",
    "        constraints = ({'type':'ineq', 'fun': lambda x: x},#all elements greater than one\n",
    "                      {'type':'ineq', 'fun': lambda x: 1 - np.sum(x)}) # sum <= 1\n",
    "                      #{'type': 'eq', 'fun': lambda x: np.sum(x) - 1})  \n",
    "        \n",
    "        \n",
    "        result = sco.minimize(kelly_objective, num_assets*[1./num_assets,], args=args, \n",
    "                                  method='SLSQP', constraints=constraints, tol = 0.0000000000000000000000001) \n",
    "        \n",
    "    elif objective == 'Sharpe':\n",
    "        ret = (data-1).mean() \n",
    "      \n",
    "        cov_fit = LedoitWolf().fit(data)\n",
    "        cov = cov_fit.covariance_\n",
    "        \n",
    "        num_assets = ret.shape[0]\n",
    "        args = (ret, cov,risk_free)\n",
    "        constraints = ({'type':'ineq', 'fun': lambda x: x},#all elements greater than one\n",
    "                  #{'type':'ineq', 'fun': lambda x: 1 - np.sum(x)} # sum <= 1\n",
    "                  {'type': 'eq', 'fun': lambda x: np.sum(x) - 1})  \n",
    "        result = sco.minimize(sharpe_objective, num_assets*[1./num_assets,], args=args, \n",
    "                              method='SLSQP', constraints=constraints, tol = 0.0000000000000000000000001)\n",
    "    \n",
    "    elif objective == 'Max Div':\n",
    "        num_assets = len(data.columns)\n",
    "        #cov = data.cov().to_numpy()\n",
    "        \n",
    "        cov_fit = LedoitWolf().fit(data)\n",
    "        cov = cov_fit.covariance_\n",
    "        \n",
    "        args = (cov)\n",
    "        constraints = ({'type':'ineq', 'fun': lambda x: x},#all elements greater than one\n",
    "                  #{'type':'ineq', 'fun': lambda x: 1 - np.sum(x)} # sum <= 1\n",
    "                  {'type': 'eq', 'fun': lambda x: np.sum(x) - 1}) \n",
    "        \n",
    "        result = sco.minimize(calc_diversification_ratio, num_assets*[1./num_assets,], args=args, \n",
    "                              method='SLSQP', constraints=constraints, tol = 0.0000000000000000000000001)\n",
    "        \n",
    "    elif objective == \"min var\":\n",
    "        num_assets = len(data.columns)\n",
    "        \n",
    "        \n",
    "        cov_fit = LedoitWolf().fit(data)\n",
    "        cov = cov_fit.covariance_\n",
    "        \n",
    "        args = (cov)\n",
    "        constraints = ({'type':'ineq', 'fun': lambda x: x},#all elements greater than one\n",
    "                  #{'type':'ineq', 'fun': lambda x: 1 - np.sum(x)} # sum <= 1\n",
    "                  {'type': 'eq', 'fun': lambda x: np.sum(x) - 1}) \n",
    "        \n",
    "        result = sco.minimize(port_var, num_assets*[1./num_assets,], args=args, \n",
    "                              method='SLSQP', constraints=constraints, tol = 0.0000000000000000000000001)\n",
    "    elif objective == \"erc\":\n",
    "        num_assets = len(data.columns)\n",
    "        #cov = data.cov().to_numpy()\n",
    "        \n",
    "        cov_fit = LedoitWolf().fit(data)\n",
    "        cov = cov_fit.covariance_\n",
    "        \n",
    "        args = (cov)\n",
    "        constraints = ({'type':'ineq', 'fun': lambda x: x},#all elements greater than one\n",
    "                  #{'type':'ineq', 'fun': lambda x: 1 - np.sum(x)} # sum <= 1\n",
    "                  {'type': 'eq', 'fun': lambda x: np.sum(x) - 1}) \n",
    "        \n",
    "        result = sco.minimize(erc, num_assets*[1./num_assets,], args=args, \n",
    "                              method='SLSQP', constraints=constraints, tol = 0.0000000000000000000000001)\n",
    "        \n",
    "        \n",
    "        \n",
    "    \n",
    "    return (result)\n",
    "\n",
    "def kelly_objective(weights,ret, cov, risk_free = 0):\n",
    "    \n",
    "    #kelly_ret = port_ret(weights, ret)\n",
    "    kelly_ret = port_ret(weights, ret) - port_var(weights, cov)/2\n",
    "    \n",
    "    obj = -(kelly_ret)\n",
    "    \n",
    "    return(obj)\n",
    "\n",
    "def sharpe_objective(weights,ret, cov, risk_free = 0):\n",
    "    ret = port_ret(weights, ret)\n",
    "    std = port_var(weights, cov)**(1/2)\n",
    "    \n",
    "    obj = - (ret/std)\n",
    "    return(obj)\n",
    "\n",
    "\n",
    "def port_var(weights, cov):\n",
    "    var = weights.dot(cov).dot(weights)\n",
    "    return(var)\n",
    "\n",
    "def port_ret(weights, ret, risk_free = 0):\n",
    "    #needs to be array\n",
    "    ret = ret - risk_free\n",
    "    port_ret = weights.dot(ret)\n",
    "    return(port_ret)\n",
    "\n",
    "def risk_parity(data):\n",
    "    vol = np.log((data)).std()\n",
    "\n",
    "    sum_vol = 0\n",
    "    for i in range(len(vol)):\n",
    "        sum_vol =sum_vol + (1/vol[i])\n",
    "    \n",
    "    weight = []\n",
    "    for i in range(len(vol)):\n",
    "        w = (1/vol[i])/(sum_vol)\n",
    "        weight.append(w)\n",
    "   \n",
    "    weight = [round(num, 2) for num in weight]\n",
    "    return(weight)\n",
    "\n",
    "\n",
    "def calc_diversification_ratio(weights, cov):\n",
    "    # average weighted vol\n",
    "    w_vol = np.dot(np.sqrt(np.diag(cov)), weights.T)\n",
    "    # portfolio vol\n",
    "    port_vol = np.sqrt(port_var(weights, cov))\n",
    "    \n",
    "    diversification_ratio = w_vol/port_vol\n",
    "    # return negative for minimization problem (maximize = minimize -)\n",
    "    return -diversification_ratio\n",
    "\n",
    "def erc(weights, cov):\n",
    "        # these are non normalized risk contributions, i.e. not regularized\n",
    "        # by total risk, seems to help numerically\n",
    "        risk_contributions = np.dot(weights, cov) * weights\n",
    "        a = np.reshape(risk_contributions, (len(risk_contributions), 1))\n",
    "        # broadcasts so you get pairwise differences in risk contributions\n",
    "        risk_diffs = a - a.transpose()\n",
    "        sum_risk_diffs_squared = np.sum(np.square(np.ravel(risk_diffs)))\n",
    "        # https://stackoverflow.com/a/36685019/1451311\n",
    "        return sum_risk_diffs_squared #/ scale_factorcov\n",
    "\n"
   ]
  },
  {
   "cell_type": "code",
   "execution_count": 38,
   "metadata": {},
   "outputs": [],
   "source": [
    "df_tmp = zscore_df[coeff_list_comp].dropna()\n",
    "\n",
    "num_assets = len(df_tmp.columns)\n",
    "#cov = data.cov().to_numpy()\n",
    "        \n",
    "cov_fit = LedoitWolf().fit(df_tmp)\n",
    "cov = cov_fit.covariance_\n",
    "        \n",
    "args = (cov)\n",
    "constraints = ({'type':'ineq', 'fun': lambda x: x},#all elements greater than one\n",
    "                  #{'type':'ineq', 'fun': lambda x: 1 - np.sum(x)} # sum <= 1\n",
    "                  {'type': 'eq', 'fun': lambda x: np.sum(x) - 1}) \n",
    "        \n",
    "result = sco.minimize(calc_diversification_ratio, num_assets*[1./num_assets,], args=args, \n",
    "                              method='SLSQP', constraints=constraints, tol = 0.0000000000000000000000001)\n",
    "\n",
    "#result = sco.minimize(erc, num_assets*[1./num_assets,], args=args, \n",
    "#                              method='SLSQP', constraints=constraints, tol = 0.0000000000000000000000001)"
   ]
  },
  {
   "cell_type": "code",
   "execution_count": 39,
   "metadata": {},
   "outputs": [
    {
     "data": {
      "text/html": [
       "<div>\n",
       "<style scoped>\n",
       "    .dataframe tbody tr th:only-of-type {\n",
       "        vertical-align: middle;\n",
       "    }\n",
       "\n",
       "    .dataframe tbody tr th {\n",
       "        vertical-align: top;\n",
       "    }\n",
       "\n",
       "    .dataframe thead th {\n",
       "        text-align: right;\n",
       "    }\n",
       "</style>\n",
       "<table border=\"1\" class=\"dataframe\">\n",
       "  <thead>\n",
       "    <tr style=\"text-align: right;\">\n",
       "      <th></th>\n",
       "      <th>ROIC_zscore</th>\n",
       "      <th>ROE_zscore</th>\n",
       "      <th>GPA_zscore</th>\n",
       "      <th>AT_zscore</th>\n",
       "      <th>ROA_zscore</th>\n",
       "      <th>PO_zscore</th>\n",
       "    </tr>\n",
       "  </thead>\n",
       "  <tbody>\n",
       "    <tr>\n",
       "      <th>0</th>\n",
       "      <td>0.104462</td>\n",
       "      <td>0.177136</td>\n",
       "      <td>0.231009</td>\n",
       "      <td>0.178682</td>\n",
       "      <td>0.068683</td>\n",
       "      <td>0.240028</td>\n",
       "    </tr>\n",
       "  </tbody>\n",
       "</table>\n",
       "</div>"
      ],
      "text/plain": [
       "   ROIC_zscore  ROE_zscore  GPA_zscore  AT_zscore  ROA_zscore  PO_zscore\n",
       "0     0.104462    0.177136    0.231009   0.178682    0.068683   0.240028"
      ]
     },
     "execution_count": 39,
     "metadata": {},
     "output_type": "execute_result"
    }
   ],
   "source": [
    "res = pd.DataFrame(result['x']).transpose()\n",
    "\n",
    "res.columns = coeff_list_comp\n",
    "res"
   ]
  },
  {
   "cell_type": "code",
   "execution_count": null,
   "metadata": {},
   "outputs": [],
   "source": []
  }
 ],
 "metadata": {
  "kernelspec": {
   "display_name": "Python 3",
   "language": "python",
   "name": "python3"
  },
  "language_info": {
   "codemirror_mode": {
    "name": "ipython",
    "version": 3
   },
   "file_extension": ".py",
   "mimetype": "text/x-python",
   "name": "python",
   "nbconvert_exporter": "python",
   "pygments_lexer": "ipython3",
   "version": "3.7.4"
  }
 },
 "nbformat": 4,
 "nbformat_minor": 2
}
