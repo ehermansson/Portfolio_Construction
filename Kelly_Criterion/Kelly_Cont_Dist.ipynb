{
 "cells": [
  {
   "cell_type": "code",
   "execution_count": 1,
   "metadata": {},
   "outputs": [],
   "source": [
    "import cvxopt as cvx\n",
    "from cvxopt import blas, solvers\n",
    "import cvxpy as cp\n",
    "\n",
    "import scipy.optimize as sco\n",
    "\n",
    "import numpy as np\n",
    "import pandas as pd"
   ]
  },
  {
   "cell_type": "code",
   "execution_count": 2,
   "metadata": {},
   "outputs": [],
   "source": [
    "def port_ret(weights, ret, risk_free = 0):\n",
    "    #needs to be array\n",
    "    port_ret = risk_free + weights.dot(ret - risk_free)\n",
    "    \n",
    "    return(port_ret)"
   ]
  },
  {
   "cell_type": "code",
   "execution_count": 3,
   "metadata": {},
   "outputs": [],
   "source": [
    "def port_var(weights, cov):\n",
    "    var = weights.dot(cov).dot(weights)\n",
    "    return(var)"
   ]
  },
  {
   "cell_type": "code",
   "execution_count": 4,
   "metadata": {},
   "outputs": [],
   "source": [
    "def kelly_objective(weights,ret, cov, risk_free = 0):\n",
    "    kelly_ret = port_ret(weights, ret)\n",
    "    var = port_var(weights, cov)\n",
    "    \n",
    "    #obj = (-sum(weights) * var) + kelly_ret -risk_free\n",
    "    \n",
    "    obj = -(risk_free + sum(weights)*(kelly_ret - risk_free) -((sum(weights)**2)*var)/(2))\n",
    "    return(obj)"
   ]
  },
  {
   "cell_type": "code",
   "execution_count": 88,
   "metadata": {},
   "outputs": [],
   "source": [
    "def kelly_cri(ret, cov ,risk_free = 0):\n",
    "    \n",
    "    #need smaller step size\n",
    "    num_assets = ret.shape[0]\n",
    "    args = (ret, cov,risk_free)\n",
    "    constraints = ({'type':'ineq', 'fun': lambda x: x},#all elements greater than one\n",
    "                  {'type':'ineq', 'fun': lambda x: 1 - np.sum(x)}  )  # sum <= 1\n",
    "    \n",
    "    result = sco.minimize(kelly_objective, num_assets*[1./num_assets,], args=args, \n",
    "                          method='SLSQP', constraints=constraints) \n",
    "    \n",
    "    return (result)"
   ]
  },
  {
   "cell_type": "code",
   "execution_count": 68,
   "metadata": {},
   "outputs": [],
   "source": [
    "def uncons_kelly(cov, ret, risk_free_rate = 0):\n",
    "    \n",
    "    if np.linalg.det(cov) == 0:\n",
    "        return (print(\"Singular Matrix\"))\n",
    "    else:\n",
    "        kelly = np.linalg.inv(cov).dot((ret-risk_free_rate))\n",
    "        return kelly"
   ]
  },
  {
   "cell_type": "markdown",
   "metadata": {},
   "source": [
    "# Kelly Criterion Continous Distribution\n",
    "\n",
    "TODO:\n"
   ]
  },
  {
   "cell_type": "code",
   "execution_count": 82,
   "metadata": {},
   "outputs": [],
   "source": [
    "rf_rate = 2\n",
    "ret = np.array([3,9])\n",
    "corr = 0.5\n",
    "std_1 = 20\n",
    "std_2 = 40\n",
    "\n",
    "cov_1_2 = std_1 * std_2/100\n",
    "\n",
    "\n",
    "cov = np.array([[std_1**2/100 ,corr * cov_1_2],[corr * cov_1_2,std_2**2/100]])\n",
    "\n",
    "#inv_cov = np.linalg.inv(x)\n",
    "#inv_cov * ret"
   ]
  },
  {
   "cell_type": "markdown",
   "metadata": {},
   "source": [
    "## Original Kelly\n",
    "\n",
    "The optimal Weights for a portolio (the one with the highest geometric growth) is given by taking the derivative og the portfolio growth and setting it to zero. The portfolio growth is\n",
    "\n",
    " $g_\\infty = r + F^T(M - r) - \\frac{F^T C F}{2}$\n",
    "\n",
    "Where $r$ is the riskless rate, $F$ is the vector of weights, $M$ is the mean return vector and $C$ is the covariance vector.\n",
    "\n",
    "To get the optimal weights one take the derivative of the growth rate, $g_\\infty$, with respect to the weight, $F$, and minimize it. The derivative is given below\n",
    "\n",
    "$\\frac{\\partial g_\\infty}{\\partial F} = C \\dot F + M - r $\n",
    "\n",
    "With no constraints the optimal weight $F^*$ is given by\n",
    "\n",
    "$F^* = C^{-1} M-r$\n",
    "\n"
   ]
  },
  {
   "cell_type": "code",
   "execution_count": 83,
   "metadata": {
    "scrolled": true
   },
   "outputs": [
    {
     "data": {
      "text/plain": [
       "array([0.25, 0.5 ])"
      ]
     },
     "execution_count": 83,
     "metadata": {},
     "output_type": "execute_result"
    }
   ],
   "source": [
    "uncons_kelly(cov, ret, risk_free_rate = 0)"
   ]
  },
  {
   "cell_type": "markdown",
   "metadata": {},
   "source": [
    "## Fractional Betting and Properties\n",
    "\n",
    "When considering the portfolio as a continous process with kelly weights one can calculate some properties for the portfolio, such as time until a certain goal, probability of a drawdown and similar. "
   ]
  },
  {
   "cell_type": "code",
   "execution_count": 98,
   "metadata": {},
   "outputs": [
    {
     "name": "stdout",
     "output_type": "stream",
     "text": [
      "Return for Full Kelly: 5.25%\n",
      "Volatility for Full Kelly: 2.29%\n"
     ]
    }
   ],
   "source": [
    "print(\"Return for Full Kelly: \" + str(port_ret(uncons_kelly(cov, ret, risk_free_rate = 0), ret, risk_free = 0)) + \"%\")\n",
    "print(\"Volatility for Full Kelly: \" + str(np.sqrt(port_var(uncons_kelly(cov, ret, risk_free_rate = 0), cov)).round(2)) + \"%\")\n",
    "\n"
   ]
  },
  {
   "cell_type": "markdown",
   "metadata": {},
   "source": [
    "## Constrained Kelly\n",
    "\n",
    "When there is contraints on the portfolio (short selling, leverage, and so on) one can calculate the portfolio return for the portfolio and use quadratic maximazation to find the optimal weights under said constrinats. The portfolio porperties are:\n",
    "\n",
    "$g_\\infty = F^T M$\n",
    "\n",
    "and\n",
    "\n",
    "$\\sigma^2 = F^T C F $\n",
    "\n",
    "and since for the single asset case, the growth rate is\n",
    "\n",
    "$g_\\infty = r + f(m-r) - \\frac{f^2 s^2}{2}$\n",
    "\n",
    "\n",
    "In the constrianed case one might not reach the optimal point, so one cannot take the derivative and set to zero. Instead one has to maximize the return of the portfolio under certain constriants (short selling, leverage, and so on). \n"
   ]
  },
  {
   "cell_type": "code",
   "execution_count": 89,
   "metadata": {
    "scrolled": true
   },
   "outputs": [],
   "source": [
    "result = kelly_cri(ret, cov, risk_free = 0)"
   ]
  },
  {
   "cell_type": "code",
   "execution_count": 90,
   "metadata": {},
   "outputs": [
    {
     "data": {
      "text/plain": [
       "array([0.29, 0.58])"
      ]
     },
     "execution_count": 90,
     "metadata": {},
     "output_type": "execute_result"
    }
   ],
   "source": [
    "result['x'].round(2)"
   ]
  },
  {
   "cell_type": "code",
   "execution_count": null,
   "metadata": {},
   "outputs": [],
   "source": []
  }
 ],
 "metadata": {
  "kernelspec": {
   "display_name": "Python 3",
   "language": "python",
   "name": "python3"
  },
  "language_info": {
   "codemirror_mode": {
    "name": "ipython",
    "version": 3
   },
   "file_extension": ".py",
   "mimetype": "text/x-python",
   "name": "python",
   "nbconvert_exporter": "python",
   "pygments_lexer": "ipython3",
   "version": "3.7.4"
  }
 },
 "nbformat": 4,
 "nbformat_minor": 2
}
