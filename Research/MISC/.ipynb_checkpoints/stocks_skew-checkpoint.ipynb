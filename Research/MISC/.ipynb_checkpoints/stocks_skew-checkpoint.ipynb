{
 "cells": [
  {
   "cell_type": "code",
   "execution_count": 1,
   "metadata": {},
   "outputs": [],
   "source": [
    "import yfinance as yf \n",
    "import pandas as pd\n",
    "import datetime as dt\n",
    "from dateutil.relativedelta import relativedelta\n",
    "from scipy.stats import norm\n",
    "from math import sqrt, pi,log, e\n",
    "import numpy as np\n"
   ]
  },
  {
   "cell_type": "code",
   "execution_count": 2,
   "metadata": {},
   "outputs": [],
   "source": [
    "def get_delta(price,strike,expiary,vol,call = True,div=0,r=0):\n",
    "    days_to_exp = (dt.datetime.strptime(expiary, \"%Y-%M-%d\") - dt.datetime.now()).days\n",
    "    years_to_exp = days_to_exp/365\n",
    "    r = 0\n",
    "    div = 0\n",
    "    sigmaT = vol * (years_to_exp ** 0.5) # problem here??\n",
    "    d1 =  (log(price / strike) + (r - div + 0.5 * (vol ** 2)) * years_to_exp)/sigmaT\n",
    "    d2 = d1 - sigmaT\n",
    "    dfq = e ** (-div * years_to_exp)\n",
    "    \n",
    "    if call == True:\n",
    "    \n",
    "        delta = [dfq * norm.cdf(d1)] # call\n",
    "        return(delta[0])\n",
    "    \n",
    "    elif call == False:\n",
    "        delta = [dfq * (norm.cdf(d1) - 1)] #put\n",
    "        return(delta[0])\n"
   ]
  },
  {
   "cell_type": "code",
   "execution_count": 3,
   "metadata": {},
   "outputs": [
    {
     "ename": "SyntaxError",
     "evalue": "unexpected EOF while parsing (<ipython-input-3-e3cf38dfb721>, line 3)",
     "output_type": "error",
     "traceback": [
      "\u001b[0;36m  File \u001b[0;32m\"<ipython-input-3-e3cf38dfb721>\"\u001b[0;36m, line \u001b[0;32m3\u001b[0m\n\u001b[0;31m    \u001b[0m\n\u001b[0m    ^\u001b[0m\n\u001b[0;31mSyntaxError\u001b[0m\u001b[0;31m:\u001b[0m unexpected EOF while parsing\n"
     ]
    }
   ],
   "source": [
    "def get_ImpVol():\n",
    "    \n",
    "    "
   ]
  },
  {
   "cell_type": "markdown",
   "metadata": {},
   "source": [
    "## Calculate skew for stocks with yahoo finance\n",
    "\n",
    "\n",
    "Calculates the ATM and Delta Skew for stocks\n",
    "\n",
    "TO DO:\n",
    "\n",
    "- Calculate implied jump on earnings days.\n",
    "- implied distribution at a given time\n",
    "- Volatility surface"
   ]
  },
  {
   "cell_type": "code",
   "execution_count": 10,
   "metadata": {},
   "outputs": [],
   "source": [
    "tickers = ['AAPL', 'GME', 'TSLA', 'RBLX', 'ARKK']\n",
    "month_delta = 3"
   ]
  },
  {
   "cell_type": "code",
   "execution_count": 34,
   "metadata": {},
   "outputs": [],
   "source": [
    "skew_df = pd.DataFrame()\n",
    "skew_df['Ticker'] = tickers\n",
    "skew_df['Expiry'] = np.nan\n",
    "skew_df['Stock Price'] = np.nan\n",
    "skew_df['ATM Skew'] = np.nan \n",
    "skew_df['Delta Skew'] = np.nan \n",
    "skew_df['Imp. Forward'] = np.nan \n"
   ]
  },
  {
   "cell_type": "code",
   "execution_count": 35,
   "metadata": {},
   "outputs": [],
   "source": [
    "for i in range(len(tickers)):\n",
    "    try:\n",
    "        prices = yf.download(tickers[i],start='2020-01-01', progress = False, threads = False)\n",
    "        stock = yf.Ticker(tickers[i])\n",
    "        option_dates = stock.options\n",
    "        date = dt.datetime.now()\n",
    "        date += relativedelta(months=month_delta) \n",
    "        expiry_one_month = min(option_dates, key=lambda x:abs(dt.datetime.strptime(x, \"%Y-%M-%d\")-date))\n",
    "        current_price = float(prices['Close'].tail(1))\n",
    "\n",
    "        calls = stock.option_chain(expiry_one_month).calls\n",
    "        puts = stock.option_chain(expiry_one_month).puts\n",
    "        #Expirary \n",
    "        skew_df.loc[i,'Expiry'] = expiry_one_month\n",
    "        #Stock Price\n",
    "        skew_df.loc[i,'Stock Price'] = current_price\n",
    "        \n",
    "        \n",
    "        #ATM Skew\n",
    "        ATM_put = puts[puts['strike'] == min(puts['strike'], key=lambda x:abs(x-current_price))]\n",
    "        ATM_call = calls[calls['strike'] == min(calls['strike'], key=lambda x:abs(x-current_price))]\n",
    "        ATM_skew = float(ATM_put['impliedVolatility']) - float(ATM_call['impliedVolatility']) \n",
    "        skew_df.loc[i,\"ATM Skew\"] = ATM_skew\n",
    "\n",
    "        #Delta Skew\n",
    "        calls['delta'] = calls.apply(lambda row: get_delta(price = current_price, \n",
    "                                                       strike = row['strike'],\n",
    "                                                       vol =row['impliedVolatility'],\n",
    "                                                       expiary = expiry_one_month, call = True), \n",
    "                                                       axis=1)\n",
    "        puts['delta'] = puts.apply(lambda row: get_delta(price = current_price, \n",
    "                                                       strike = row['strike'],\n",
    "                                                       vol =row['impliedVolatility'],\n",
    "                                                       expiary = expiry_one_month, call = False), \n",
    "                                                       axis=1)\n",
    "\n",
    "        delta_25_put = puts[puts['delta'] == min(puts['delta'], key=lambda x:abs(x--0.25))]\n",
    "        delta_25_call = calls[calls['delta'] == min(calls['delta'], key=lambda x:abs(x-0.25))]\n",
    "        delta_50_call = calls[calls['delta'] == min(calls['delta'], key=lambda x:abs(x-0.50))]\n",
    "\n",
    "\n",
    "        delta_skew = (float(delta_25_put['impliedVolatility']) - float(delta_25_call['impliedVolatility'])) / float(delta_50_call['impliedVolatility'])\n",
    "\n",
    "        skew_df.loc[i,\"Delta Skew\"] = delta_skew\n",
    "        \n",
    "        #calculate implied forward from put call parity, using 25 delta put strikes\n",
    "        \n",
    "        put_strike = float(delta_25_put['strike'])\n",
    "        put_price = delta_25_put['lastPrice']\n",
    "        call_price = calls[calls['strike'] == min(calls['strike'], key=lambda x:abs(x-put_strike))]['lastPrice']\n",
    "        \n",
    "        forward = float(call_price) - float(put_price) + put_strike\n",
    "        \n",
    "        skew_df.loc[i,'Imp. Forward'] = forward\n",
    "        \n",
    "    except:\n",
    "        print(\"ERROR! INDEX: \", i, ', TICKER: ', tickers[i])\n"
   ]
  },
  {
   "cell_type": "code",
   "execution_count": 36,
   "metadata": {
    "scrolled": true
   },
   "outputs": [
    {
     "name": "stdout",
     "output_type": "stream",
     "text": [
      "Negative values mean higher call implieds\n"
     ]
    },
    {
     "data": {
      "text/html": [
       "<div>\n",
       "<style scoped>\n",
       "    .dataframe tbody tr th:only-of-type {\n",
       "        vertical-align: middle;\n",
       "    }\n",
       "\n",
       "    .dataframe tbody tr th {\n",
       "        vertical-align: top;\n",
       "    }\n",
       "\n",
       "    .dataframe thead th {\n",
       "        text-align: right;\n",
       "    }\n",
       "</style>\n",
       "<table border=\"1\" class=\"dataframe\">\n",
       "  <thead>\n",
       "    <tr style=\"text-align: right;\">\n",
       "      <th></th>\n",
       "      <th>Ticker</th>\n",
       "      <th>Expiry</th>\n",
       "      <th>Stock Price</th>\n",
       "      <th>ATM Skew</th>\n",
       "      <th>delta Skew</th>\n",
       "      <th>Imp. Forward</th>\n",
       "    </tr>\n",
       "  </thead>\n",
       "  <tbody>\n",
       "    <tr>\n",
       "      <th>0</th>\n",
       "      <td>AAPL</td>\n",
       "      <td>2022-01-28</td>\n",
       "      <td>178.199997</td>\n",
       "      <td>0.003906</td>\n",
       "      <td>0.999920</td>\n",
       "      <td>178.79</td>\n",
       "    </tr>\n",
       "    <tr>\n",
       "      <th>1</th>\n",
       "      <td>GME</td>\n",
       "      <td>2022-01-28</td>\n",
       "      <td>155.330002</td>\n",
       "      <td>0.001953</td>\n",
       "      <td>6.997761</td>\n",
       "      <td>155.98</td>\n",
       "    </tr>\n",
       "    <tr>\n",
       "      <th>2</th>\n",
       "      <td>TSLA</td>\n",
       "      <td>2022-01-28</td>\n",
       "      <td>1070.339966</td>\n",
       "      <td>0.000488</td>\n",
       "      <td>-0.992029</td>\n",
       "      <td>1070.00</td>\n",
       "    </tr>\n",
       "    <tr>\n",
       "      <th>3</th>\n",
       "      <td>RBLX</td>\n",
       "      <td>2022-01-28</td>\n",
       "      <td>100.529999</td>\n",
       "      <td>-0.003906</td>\n",
       "      <td>-0.749760</td>\n",
       "      <td>100.80</td>\n",
       "    </tr>\n",
       "    <tr>\n",
       "      <th>4</th>\n",
       "      <td>ARKK</td>\n",
       "      <td>2022-01-28</td>\n",
       "      <td>96.699997</td>\n",
       "      <td>0.001953</td>\n",
       "      <td>14.961698</td>\n",
       "      <td>98.14</td>\n",
       "    </tr>\n",
       "  </tbody>\n",
       "</table>\n",
       "</div>"
      ],
      "text/plain": [
       "  Ticker      Expiry  Stock Price  ATM Skew  delta Skew  Imp. Forward\n",
       "0   AAPL  2022-01-28   178.199997  0.003906    0.999920        178.79\n",
       "1    GME  2022-01-28   155.330002  0.001953    6.997761        155.98\n",
       "2   TSLA  2022-01-28  1070.339966  0.000488   -0.992029       1070.00\n",
       "3   RBLX  2022-01-28   100.529999 -0.003906   -0.749760        100.80\n",
       "4   ARKK  2022-01-28    96.699997  0.001953   14.961698         98.14"
      ]
     },
     "execution_count": 36,
     "metadata": {},
     "output_type": "execute_result"
    }
   ],
   "source": [
    "print(\"Negative values mean higher call implieds\")\n",
    "skew_df"
   ]
  }
 ],
 "metadata": {
  "kernelspec": {
   "display_name": "Python 3",
   "language": "python",
   "name": "python3"
  },
  "language_info": {
   "codemirror_mode": {
    "name": "ipython",
    "version": 3
   },
   "file_extension": ".py",
   "mimetype": "text/x-python",
   "name": "python",
   "nbconvert_exporter": "python",
   "pygments_lexer": "ipython3",
   "version": "3.7.4"
  }
 },
 "nbformat": 4,
 "nbformat_minor": 2
}
