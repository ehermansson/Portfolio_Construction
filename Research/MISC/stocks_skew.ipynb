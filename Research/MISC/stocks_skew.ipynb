{
 "cells": [
  {
   "cell_type": "code",
   "execution_count": 1,
   "metadata": {},
   "outputs": [
    {
     "name": "stderr",
     "output_type": "stream",
     "text": [
      "/opt/anaconda3/lib/python3.7/site-packages/requests/__init__.py:91: RequestsDependencyWarning: urllib3 (1.26.8) or chardet (3.0.4) doesn't match a supported version!\n",
      "  RequestsDependencyWarning)\n"
     ]
    }
   ],
   "source": [
    "import yfinance as yf \n",
    "import pandas as pd\n",
    "import datetime as dt\n",
    "from dateutil.relativedelta import relativedelta\n",
    "from scipy.stats import norm\n",
    "from math import sqrt, pi,log, e\n",
    "import numpy as np\n"
   ]
  },
  {
   "cell_type": "code",
   "execution_count": 2,
   "metadata": {},
   "outputs": [],
   "source": [
    "def get_delta(price,strike,expiary,vol,call = True,div=0,r=0):\n",
    "    \n",
    "    \n",
    "    try:\n",
    "        days_to_exp = (dt.datetime.strptime(expiary, \"%Y-%m-%d\") - dt.datetime.now()).days\n",
    "        years_to_exp = days_to_exp/365\n",
    "        r = 0\n",
    "        div = 0\n",
    "        sigmaT = vol * (years_to_exp ** 0.5) # problem here??\n",
    "        d1 =  (log(price / strike) + (r - div + 0.5 * (vol ** 2)) * years_to_exp)/sigmaT\n",
    "        d2 = d1 - sigmaT\n",
    "        dfq = e ** (-div * years_to_exp)\n",
    "    \n",
    "        if call == True:\n",
    "    \n",
    "            delta = [dfq * norm.cdf(d1)] # call\n",
    "            return(delta[0])\n",
    "    \n",
    "        elif call == False:\n",
    "            delta = [dfq * (norm.cdf(d1) - 1)] #put\n",
    "            return(delta[0])\n",
    "    except:\n",
    "        return(0)\n"
   ]
  },
  {
   "cell_type": "code",
   "execution_count": 3,
   "metadata": {},
   "outputs": [
    {
     "ename": "SyntaxError",
     "evalue": "unexpected EOF while parsing (<ipython-input-3-e3cf38dfb721>, line 3)",
     "output_type": "error",
     "traceback": [
      "\u001b[0;36m  File \u001b[0;32m\"<ipython-input-3-e3cf38dfb721>\"\u001b[0;36m, line \u001b[0;32m3\u001b[0m\n\u001b[0;31m    \u001b[0m\n\u001b[0m    ^\u001b[0m\n\u001b[0;31mSyntaxError\u001b[0m\u001b[0;31m:\u001b[0m unexpected EOF while parsing\n"
     ]
    }
   ],
   "source": [
    "def get_ImpVol():\n",
    "    \n",
    "    "
   ]
  },
  {
   "cell_type": "markdown",
   "metadata": {},
   "source": [
    "## Calculate skew for stocks with yahoo finance\n",
    "\n",
    "\n",
    "Calculates the ATM and Delta Skew for stocks\n",
    "\n",
    "TO DO:\n",
    "\n",
    "- Calculate implied jump on earnings days.\n",
    "- implied distribution at a given time\n",
    "- Volatility surface"
   ]
  },
  {
   "cell_type": "code",
   "execution_count": 4,
   "metadata": {},
   "outputs": [],
   "source": [
    "tickers = ['GME', 'TSLA', 'RBLX', 'ARKK', 'SPY', 'AAPL', 'USO', 'GLD']\n",
    "month_delta = 1"
   ]
  },
  {
   "cell_type": "code",
   "execution_count": 5,
   "metadata": {},
   "outputs": [],
   "source": [
    "skew_df = pd.DataFrame()\n",
    "skew_df['Ticker'] = tickers\n",
    "skew_df['Expiry'] = np.nan\n",
    "skew_df['Stock Price'] = np.nan\n",
    "skew_df['ATM Skew'] = np.nan \n",
    "skew_df['Delta Skew'] = np.nan \n",
    "skew_df['Imp. Forward'] = np.nan \n"
   ]
  },
  {
   "cell_type": "code",
   "execution_count": 6,
   "metadata": {},
   "outputs": [],
   "source": [
    "for i in range(len(tickers)):\n",
    "    try:\n",
    "        prices = yf.download(tickers[i],start='2020-01-01', progress = False, threads = False)\n",
    "        stock = yf.Ticker(tickers[i])\n",
    "        option_dates = stock.options\n",
    "        date = dt.datetime.now()\n",
    "        date += relativedelta(months=month_delta) \n",
    "        expiry_one_month = min(option_dates, key=lambda x:abs(dt.datetime.strptime(x, \"%Y-%m-%d\")-date).days)\n",
    "        current_price = float(prices['Close'].tail(1))\n",
    "\n",
    "        calls = stock.option_chain(expiry_one_month).calls\n",
    "        puts = stock.option_chain(expiry_one_month).puts\n",
    "        #Expirary \n",
    "        skew_df.loc[i,'Expiry'] = expiry_one_month\n",
    "        #Stock Price\n",
    "        skew_df.loc[i,'Stock Price'] = current_price\n",
    "        \n",
    "        \n",
    "        #ATM Skew\n",
    "        ATM_put = puts[puts['strike'] == min(puts['strike'], key=lambda x:abs(x-current_price))]\n",
    "        ATM_call = calls[calls['strike'] == min(calls['strike'], key=lambda x:abs(x-current_price))]\n",
    "        ATM_skew = float(ATM_put['impliedVolatility']) - float(ATM_call['impliedVolatility']) \n",
    "        skew_df.loc[i,\"ATM Skew\"] = ATM_skew\n",
    "\n",
    "        #Delta Skew\n",
    "        calls['delta'] = calls.apply(lambda row: get_delta(price = current_price, \n",
    "                                                       strike = row['strike'],\n",
    "                                                       vol =row['impliedVolatility'],\n",
    "                                                       expiary = expiry_one_month, call = True), \n",
    "                                                       axis=1)\n",
    "        puts['delta'] = puts.apply(lambda row: get_delta(price = current_price, \n",
    "                                                       strike = row['strike'],\n",
    "                                                       vol =row['impliedVolatility'],\n",
    "                                                       expiary = expiry_one_month, call = False), \n",
    "                                                       axis=1)\n",
    "\n",
    "        delta_25_put = puts[puts['delta'] == min(puts['delta'], key=lambda x:abs(x--0.25))]\n",
    "        delta_25_call = calls[calls['delta'] == min(calls['delta'], key=lambda x:abs(x-0.25))]\n",
    "        delta_50_call = calls[calls['delta'] == min(calls['delta'], key=lambda x:abs(x-0.50))]\n",
    "\n",
    "        delta_skew = (float(delta_25_put['impliedVolatility']) - float(delta_25_call['impliedVolatility'])) / float(delta_50_call['impliedVolatility'])\n",
    "\n",
    "        skew_df.loc[i,\"Delta Skew\"] = delta_skew\n",
    "        \n",
    "        #calculate implied forward from put call parity, using 25 delta put strikes\n",
    "        \n",
    "        put_strike = float(delta_25_put['strike'])\n",
    "        put_price = delta_25_put['lastPrice']\n",
    "        call_price = calls[calls['strike'] == min(calls['strike'], key=lambda x:abs(x-put_strike))]['lastPrice']\n",
    "        \n",
    "        forward = float(call_price) - float(put_price) + put_strike\n",
    "        \n",
    "        skew_df.loc[i,'Imp. Forward'] = forward\n",
    "        \n",
    "    except:\n",
    "        print(\"ERROR! INDEX: \", i, ', TICKER: ', tickers[i])\n"
   ]
  },
  {
   "cell_type": "code",
   "execution_count": 7,
   "metadata": {
    "scrolled": false
   },
   "outputs": [
    {
     "name": "stdout",
     "output_type": "stream",
     "text": [
      "Negative values mean higher call implieds\n"
     ]
    },
    {
     "data": {
      "text/html": [
       "<div>\n",
       "<style scoped>\n",
       "    .dataframe tbody tr th:only-of-type {\n",
       "        vertical-align: middle;\n",
       "    }\n",
       "\n",
       "    .dataframe tbody tr th {\n",
       "        vertical-align: top;\n",
       "    }\n",
       "\n",
       "    .dataframe thead th {\n",
       "        text-align: right;\n",
       "    }\n",
       "</style>\n",
       "<table border=\"1\" class=\"dataframe\">\n",
       "  <thead>\n",
       "    <tr style=\"text-align: right;\">\n",
       "      <th></th>\n",
       "      <th>Ticker</th>\n",
       "      <th>Expiry</th>\n",
       "      <th>Stock Price</th>\n",
       "      <th>ATM Skew</th>\n",
       "      <th>Delta Skew</th>\n",
       "      <th>Imp. Forward</th>\n",
       "    </tr>\n",
       "  </thead>\n",
       "  <tbody>\n",
       "    <tr>\n",
       "      <th>0</th>\n",
       "      <td>GME</td>\n",
       "      <td>2022-04-29</td>\n",
       "      <td>186.423706</td>\n",
       "      <td>0.364073</td>\n",
       "      <td>-0.001823</td>\n",
       "      <td>176.30</td>\n",
       "    </tr>\n",
       "    <tr>\n",
       "      <th>1</th>\n",
       "      <td>TSLA</td>\n",
       "      <td>2022-04-29</td>\n",
       "      <td>1104.159058</td>\n",
       "      <td>0.049514</td>\n",
       "      <td>0.033101</td>\n",
       "      <td>1098.72</td>\n",
       "    </tr>\n",
       "    <tr>\n",
       "      <th>2</th>\n",
       "      <td>RBLX</td>\n",
       "      <td>2022-04-29</td>\n",
       "      <td>51.259998</td>\n",
       "      <td>-0.035644</td>\n",
       "      <td>0.027315</td>\n",
       "      <td>50.95</td>\n",
       "    </tr>\n",
       "    <tr>\n",
       "      <th>3</th>\n",
       "      <td>ARKK</td>\n",
       "      <td>2022-04-29</td>\n",
       "      <td>71.290001</td>\n",
       "      <td>0.034668</td>\n",
       "      <td>0.200861</td>\n",
       "      <td>70.40</td>\n",
       "    </tr>\n",
       "    <tr>\n",
       "      <th>4</th>\n",
       "      <td>SPY</td>\n",
       "      <td>2022-04-29</td>\n",
       "      <td>459.535004</td>\n",
       "      <td>0.010040</td>\n",
       "      <td>0.463419</td>\n",
       "      <td>458.94</td>\n",
       "    </tr>\n",
       "    <tr>\n",
       "      <th>5</th>\n",
       "      <td>AAPL</td>\n",
       "      <td>2022-04-29</td>\n",
       "      <td>178.028107</td>\n",
       "      <td>0.022522</td>\n",
       "      <td>0.205765</td>\n",
       "      <td>177.30</td>\n",
       "    </tr>\n",
       "    <tr>\n",
       "      <th>6</th>\n",
       "      <td>USO</td>\n",
       "      <td>2022-04-29</td>\n",
       "      <td>75.800003</td>\n",
       "      <td>0.031006</td>\n",
       "      <td>-0.031725</td>\n",
       "      <td>74.65</td>\n",
       "    </tr>\n",
       "    <tr>\n",
       "      <th>7</th>\n",
       "      <td>GLD</td>\n",
       "      <td>2022-04-29</td>\n",
       "      <td>178.895004</td>\n",
       "      <td>0.004578</td>\n",
       "      <td>-0.125472</td>\n",
       "      <td>178.19</td>\n",
       "    </tr>\n",
       "  </tbody>\n",
       "</table>\n",
       "</div>"
      ],
      "text/plain": [
       "  Ticker      Expiry  Stock Price  ATM Skew  Delta Skew  Imp. Forward\n",
       "0    GME  2022-04-29   186.423706  0.364073   -0.001823        176.30\n",
       "1   TSLA  2022-04-29  1104.159058  0.049514    0.033101       1098.72\n",
       "2   RBLX  2022-04-29    51.259998 -0.035644    0.027315         50.95\n",
       "3   ARKK  2022-04-29    71.290001  0.034668    0.200861         70.40\n",
       "4    SPY  2022-04-29   459.535004  0.010040    0.463419        458.94\n",
       "5   AAPL  2022-04-29   178.028107  0.022522    0.205765        177.30\n",
       "6    USO  2022-04-29    75.800003  0.031006   -0.031725         74.65\n",
       "7    GLD  2022-04-29   178.895004  0.004578   -0.125472        178.19"
      ]
     },
     "execution_count": 7,
     "metadata": {},
     "output_type": "execute_result"
    }
   ],
   "source": [
    "print(\"Negative values mean higher call implieds\")\n",
    "skew_df"
   ]
  },
  {
   "cell_type": "code",
   "execution_count": null,
   "metadata": {},
   "outputs": [],
   "source": []
  }
 ],
 "metadata": {
  "kernelspec": {
   "display_name": "Python 3",
   "language": "python",
   "name": "python3"
  },
  "language_info": {
   "codemirror_mode": {
    "name": "ipython",
    "version": 3
   },
   "file_extension": ".py",
   "mimetype": "text/x-python",
   "name": "python",
   "nbconvert_exporter": "python",
   "pygments_lexer": "ipython3",
   "version": "3.7.4"
  }
 },
 "nbformat": 4,
 "nbformat_minor": 2
}
