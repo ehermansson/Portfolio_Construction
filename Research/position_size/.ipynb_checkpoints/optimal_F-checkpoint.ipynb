{
 "cells": [
  {
   "cell_type": "code",
   "execution_count": 5,
   "metadata": {},
   "outputs": [],
   "source": [
    "import pandas as pd\n",
    "import numpy as np"
   ]
  },
  {
   "cell_type": "markdown",
   "metadata": {},
   "source": [
    "## Implementation of Ralph Vince Optimal F\n"
   ]
  },
  {
   "cell_type": "code",
   "execution_count": 149,
   "metadata": {},
   "outputs": [],
   "source": [
    "def HPR(f, pl, loss):\n",
    "    HPR = 1 + f*(pl/loss)\n",
    "    return(HPR)"
   ]
  },
  {
   "cell_type": "code",
   "execution_count": 165,
   "metadata": {},
   "outputs": [],
   "source": [
    "#trades = pd.DataFrame([+9, +18, +7, +1, +10,-5,-3,-17,-7])\n",
    "#trades = (100 + trades)/100 - 1\n",
    "trades = pd.DataFrame([0.7, 0.5, 0.42, 0.34, 0.32, 0.23, 0.15, 0.12, 0.1, 0.1, 0.09, 0.09, 0.07, 0.05, 0.04, 0, -0.085,\n",
    "                       -0.115, -0.24, 0, -0.12, -0.07, 0.07, -0.17, 0.5, 0.6, 0.04])\n",
    "max_loss = abs(float(trades.min()))\n",
    "f_list = []"
   ]
  },
  {
   "cell_type": "code",
   "execution_count": 166,
   "metadata": {},
   "outputs": [],
   "source": [
    "for f in np.arange(0,1,0.01):\n",
    "    growth = HPR(f, trades, max_loss).cumprod().tail(1)**(1/len(trades))\n",
    "    growth = float(growth.values)\n",
    "    \n",
    "    f_list.append([f, growth])"
   ]
  },
  {
   "cell_type": "code",
   "execution_count": 167,
   "metadata": {},
   "outputs": [],
   "source": [
    "f_df = pd.DataFrame(f_list, columns=['f', 'g'])"
   ]
  },
  {
   "cell_type": "code",
   "execution_count": 168,
   "metadata": {},
   "outputs": [
    {
     "data": {
      "text/html": [
       "<div>\n",
       "<style scoped>\n",
       "    .dataframe tbody tr th:only-of-type {\n",
       "        vertical-align: middle;\n",
       "    }\n",
       "\n",
       "    .dataframe tbody tr th {\n",
       "        vertical-align: top;\n",
       "    }\n",
       "\n",
       "    .dataframe thead th {\n",
       "        text-align: right;\n",
       "    }\n",
       "</style>\n",
       "<table border=\"1\" class=\"dataframe\">\n",
       "  <thead>\n",
       "    <tr style=\"text-align: right;\">\n",
       "      <th></th>\n",
       "      <th>f</th>\n",
       "      <th>g</th>\n",
       "    </tr>\n",
       "  </thead>\n",
       "  <tbody>\n",
       "    <tr>\n",
       "      <td>79</td>\n",
       "      <td>0.79</td>\n",
       "      <td>1.240614</td>\n",
       "    </tr>\n",
       "  </tbody>\n",
       "</table>\n",
       "</div>"
      ],
      "text/plain": [
       "       f         g\n",
       "79  0.79  1.240614"
      ]
     },
     "execution_count": 168,
     "metadata": {},
     "output_type": "execute_result"
    }
   ],
   "source": [
    "f_df[f_df.g == f_df.g.max()]"
   ]
  },
  {
   "cell_type": "code",
   "execution_count": 171,
   "metadata": {},
   "outputs": [
    {
     "data": {
      "text/plain": [
       "0    0.138148\n",
       "dtype: float64"
      ]
     },
     "execution_count": 171,
     "metadata": {},
     "output_type": "execute_result"
    }
   ],
   "source": [
    "trades.mean()"
   ]
  },
  {
   "cell_type": "code",
   "execution_count": 170,
   "metadata": {},
   "outputs": [
    {
     "data": {
      "text/plain": [
       "[0.7,\n",
       " 0.5,\n",
       " 0.42,\n",
       " 0.34,\n",
       " 0.32,\n",
       " 0.23,\n",
       " 0.15,\n",
       " 0.12,\n",
       " 0.1,\n",
       " 0.1,\n",
       " 0.09,\n",
       " 0.09,\n",
       " 0.07,\n",
       " 0.05,\n",
       " 0.04,\n",
       " 0,\n",
       " -0.085,\n",
       " -0.115,\n",
       " -0.24,\n",
       " 0,\n",
       " -0.12,\n",
       " -0.07,\n",
       " 0.07,\n",
       " -0.17,\n",
       " 0.5,\n",
       " 0.6,\n",
       " 0.04]"
      ]
     },
     "execution_count": 170,
     "metadata": {},
     "output_type": "execute_result"
    }
   ],
   "source": [
    "[0.7, 0.5, 0.42, 0.34, 0.32, 0.23, 0.15, 0.12, 0.1, 0.1, 0.09, 0.09, 0.07, 0.05, 0.04, 0, -0.085, -0.115, -0.24, 0, -0.12, -0.07, 0.07, -0.17, 0.5, 0.6, 0.04]"
   ]
  },
  {
   "cell_type": "code",
   "execution_count": null,
   "metadata": {},
   "outputs": [],
   "source": []
  }
 ],
 "metadata": {
  "kernelspec": {
   "display_name": "Python 3",
   "language": "python",
   "name": "python3"
  },
  "language_info": {
   "codemirror_mode": {
    "name": "ipython",
    "version": 3
   },
   "file_extension": ".py",
   "mimetype": "text/x-python",
   "name": "python",
   "nbconvert_exporter": "python",
   "pygments_lexer": "ipython3",
   "version": "3.7.4"
  }
 },
 "nbformat": 4,
 "nbformat_minor": 2
}
