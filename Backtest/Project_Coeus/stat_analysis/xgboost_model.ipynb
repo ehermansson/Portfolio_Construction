{
 "cells": [
  {
   "cell_type": "code",
   "execution_count": 1,
   "metadata": {},
   "outputs": [],
   "source": [
    "from sklearn.preprocessing import PolynomialFeatures\n",
    "import scipy.special\n",
    "import xgboost as xgb\n",
    "from sklearn.model_selection import GridSearchCV\n",
    "from sklearn.inspection import permutation_importance\n",
    "from xgboost import plot_importance\n",
    "import sklearn\n",
    "\n",
    "import pandas as pd\n",
    "from scipy.stats import zscore\n",
    "import matplotlib.pyplot as plt\n",
    "import numpy as np\n",
    "import seaborn as sns\n",
    "from sklearn.linear_model import LinearRegression\n",
    "import statsmodels.api as sm\n",
    "import statsmodels.formula.api as smf\n",
    "import re\n",
    "import shap\n",
    "import joblib\n",
    "\n"
   ]
  },
  {
   "cell_type": "markdown",
   "metadata": {},
   "source": [
    "# XGBoost Model to predict returns\n",
    "to do\n",
    " - Do test for 3 month return as well\n"
   ]
  },
  {
   "cell_type": "code",
   "execution_count": 2,
   "metadata": {},
   "outputs": [],
   "source": [
    "tmp_df = pd.read_csv('../data/VQ_data.csv')\n",
    "tmp_df['d'] = pd.to_datetime(tmp_df['d'])\n",
    "tmp_df = tmp_df.set_index(['d', 'insID'])"
   ]
  },
  {
   "cell_type": "code",
   "execution_count": 3,
   "metadata": {
    "scrolled": true
   },
   "outputs": [
    {
     "name": "stderr",
     "output_type": "stream",
     "text": [
      "Dropping of nuisance columns in DataFrame reductions (with 'numeric_only=None') is deprecated; in a future version this will raise TypeError.  Select only valid columns before calling the reduction.\n"
     ]
    }
   ],
   "source": [
    "min_MCAP = 500\n",
    "clean_df = tmp_df[tmp_df['MCAP']>min_MCAP]\n",
    "horizon = 1 #what tiem frame are we predicting\n",
    "\n",
    "monthly_df =clean_df.groupby([clean_df.index.get_level_values(1), pd.Grouper(freq='m', level=0)]).last()\n",
    "monthly_df['log_ret'] = monthly_df['adj_c'].groupby(level='insID').apply(lambda x: np.log(x.shift(- horizon)) - np.log(x))\n",
    "monthly_df = monthly_df.unstack('insID').iloc[::horizon, :].stack('insID')\n",
    "\n",
    "#Take rank of log ret per month values! Ranking forces it into a stationary distribution!!\n",
    "monthly_df['rank_ret'] = monthly_df['log_ret'].groupby(level='d').rank(ascending=False)\n",
    "\n",
    "\n",
    "\n",
    "#### CLEAN DATA\n",
    "\n",
    "\n",
    "colmax_list = ['PE', 'PB', 'EVEBIT', 'EVFCF', 'PS', 'PFCF']\n",
    "\n",
    "#set inf values to max\n",
    "for col in colmax_list:\n",
    "    m = monthly_df.loc[monthly_df[col] != np.inf, :].max()\n",
    "    monthly_df.replace(np.inf,m,inplace=True)\n",
    "\n",
    "\n",
    "\n",
    "#Invesrt the values that should be low so they should be high\n",
    "for colmax in colmax_list:\n",
    "    monthly_df.loc[:, colmax] = (1/monthly_df[colmax])\n",
    "    \n",
    "### INDICATOR FUNCTION IF THE COMPANY IS IN FINANCE & RE\n",
    "monthly_df['sector_ind'] = 0\n",
    "monthly_df.loc[monthly_df['sector'] == 'finance_RE','sector_ind' ] = 1\n"
   ]
  },
  {
   "cell_type": "code",
   "execution_count": 4,
   "metadata": {
    "scrolled": true
   },
   "outputs": [
    {
     "name": "stderr",
     "output_type": "stream",
     "text": [
      "DataFrame is highly fragmented.  This is usually the result of calling `frame.insert` many times, which has poor performance.  Consider joining all columns at once using pd.concat(axis=1) instead.  To get a de-fragmented frame, use `newframe = frame.copy()`\n",
      "DataFrame is highly fragmented.  This is usually the result of calling `frame.insert` many times, which has poor performance.  Consider joining all columns at once using pd.concat(axis=1) instead.  To get a de-fragmented frame, use `newframe = frame.copy()`\n"
     ]
    }
   ],
   "source": [
    "col_list = monthly_df.columns.to_list()\n",
    "\n",
    "for ele in ['c','number_Of_Shares', '1_day_ret','Name','volatility_60day',\n",
    "                 'sector','market', 'acceleration', 'adj_mom', 'sharpe', 'log_ret','adj_c', 'EA_ret', 'sector_ind']:\n",
    "    try:\n",
    "        col_list.remove(ele)\n",
    "    except:\n",
    "        print(ele)\n",
    "\n",
    "\n",
    "col_list1 = col_list.copy()\n",
    "col_list1.append('rank_ret')\n",
    "\n",
    "\n",
    "zscore_df = pd.DataFrame()\n",
    "zscore_df.index = monthly_df.index\n",
    "\n",
    "for col in col_list1:\n",
    "    col_zscore = col+ '_zscore'\n",
    "    zscore_tmp_df = monthly_df[col]\n",
    "    zscore_tmp_df = zscore_tmp_df.dropna()\n",
    "    #Rank for each day!! This makes it robust and stationary!! \n",
    "    \n",
    "    # HIGH VALUE GIVES LOW RANK!!!\n",
    "    zscore_tmp_df = zscore_tmp_df.groupby(level='d').rank(ascending=False)\n",
    "    zscore_df[col_zscore] = (zscore_tmp_df - zscore_tmp_df.unstack(level ='d').mean())/zscore_tmp_df.unstack(level ='d').std()\n",
    "\n",
    "    \n",
    "\n",
    "model_list = []\n",
    "for col in zscore_df.columns:\n",
    "    x = re.search('zscore$', col)\n",
    "    if(x!=None):\n",
    "        model_list.append(col)\n",
    "\n",
    "#group by quintiles \n",
    "\n",
    "for col in list(set(list(zscore_df.columns)) - set('rank_ret_zscore')):\n",
    "    col_group = col + '_group'\n",
    "    zscore_df[col_group] = pd.qcut(zscore_df[col].rank(method='first'), 10, labels = range(1, 11))\n",
    "    \n",
    "    \n",
    "#Add indicator function for sector\n",
    "sector_id_df = pd.DataFrame(monthly_df['sector_ind'])\n",
    "zscore_df = zscore_df.merge(sector_id_df, on=['d','insID'],how='left')\n"
   ]
  },
  {
   "cell_type": "code",
   "execution_count": 5,
   "metadata": {},
   "outputs": [
    {
     "name": "stderr",
     "output_type": "stream",
     "text": [
      "DataFrame is highly fragmented.  This is usually the result of calling `frame.insert` many times, which has poor performance.  Consider joining all columns at once using pd.concat(axis=1) instead.  To get a de-fragmented frame, use `newframe = frame.copy()`\n",
      "DataFrame is highly fragmented.  This is usually the result of calling `frame.insert` many times, which has poor performance.  Consider joining all columns at once using pd.concat(axis=1) instead.  To get a de-fragmented frame, use `newframe = frame.copy()`\n",
      "DataFrame is highly fragmented.  This is usually the result of calling `frame.insert` many times, which has poor performance.  Consider joining all columns at once using pd.concat(axis=1) instead.  To get a de-fragmented frame, use `newframe = frame.copy()`\n",
      "DataFrame is highly fragmented.  This is usually the result of calling `frame.insert` many times, which has poor performance.  Consider joining all columns at once using pd.concat(axis=1) instead.  To get a de-fragmented frame, use `newframe = frame.copy()`\n",
      "DataFrame is highly fragmented.  This is usually the result of calling `frame.insert` many times, which has poor performance.  Consider joining all columns at once using pd.concat(axis=1) instead.  To get a de-fragmented frame, use `newframe = frame.copy()`\n",
      "DataFrame is highly fragmented.  This is usually the result of calling `frame.insert` many times, which has poor performance.  Consider joining all columns at once using pd.concat(axis=1) instead.  To get a de-fragmented frame, use `newframe = frame.copy()`\n",
      "DataFrame is highly fragmented.  This is usually the result of calling `frame.insert` many times, which has poor performance.  Consider joining all columns at once using pd.concat(axis=1) instead.  To get a de-fragmented frame, use `newframe = frame.copy()`\n",
      "DataFrame is highly fragmented.  This is usually the result of calling `frame.insert` many times, which has poor performance.  Consider joining all columns at once using pd.concat(axis=1) instead.  To get a de-fragmented frame, use `newframe = frame.copy()`\n",
      "DataFrame is highly fragmented.  This is usually the result of calling `frame.insert` many times, which has poor performance.  Consider joining all columns at once using pd.concat(axis=1) instead.  To get a de-fragmented frame, use `newframe = frame.copy()`\n",
      "DataFrame is highly fragmented.  This is usually the result of calling `frame.insert` many times, which has poor performance.  Consider joining all columns at once using pd.concat(axis=1) instead.  To get a de-fragmented frame, use `newframe = frame.copy()`\n",
      "DataFrame is highly fragmented.  This is usually the result of calling `frame.insert` many times, which has poor performance.  Consider joining all columns at once using pd.concat(axis=1) instead.  To get a de-fragmented frame, use `newframe = frame.copy()`\n",
      "DataFrame is highly fragmented.  This is usually the result of calling `frame.insert` many times, which has poor performance.  Consider joining all columns at once using pd.concat(axis=1) instead.  To get a de-fragmented frame, use `newframe = frame.copy()`\n"
     ]
    }
   ],
   "source": [
    "\n",
    "##############################################    \n",
    "#combined measures, redo z scores and groups!!\n",
    "##############################################\n",
    "\n",
    "zscore_df['comb_mom'] = zscore_df['mom3_zscore'] + zscore_df['mom6_zscore'] +zscore_df['mom12_zscore']\n",
    "zscore_df['ear_mom'] = zscore_df['mom3_zscore'] + zscore_df['mom6_zscore'] +zscore_df['mom12_zscore'] + zscore_df['EAR_std_zscore']\n",
    "zscore_df['val_comp'] = zscore_df['PE_zscore'] + zscore_df['PB_zscore'] +zscore_df['EVEBIT_zscore'] +zscore_df['PFCF_zscore']+zscore_df['PS_zscore']\n",
    "zscore_df['qual_comp'] = zscore_df['GPA_zscore'] + zscore_df['ROIC_zscore'] +zscore_df['ROE_zscore'] + zscore_df['AT_zscore']+zscore_df['FCFROE_zscore'] + zscore_df['Asset_growth_zscore']\n",
    "\n",
    "\n",
    "## REDO ZSCORE AND QUANTILES FOR COMBINED MEASURES\n",
    "\n",
    "for col in ['comb_mom', 'ear_mom', 'val_comp', 'qual_comp']:\n",
    "    col_zscore = col+ '_zscore'\n",
    "    zscore_tmp_df = zscore_df[col]\n",
    "    zscore_df[col_zscore] = (zscore_tmp_df - zscore_tmp_df.unstack(level ='d').mean())/zscore_tmp_df.unstack(level ='d').std()\n",
    "\n",
    "for col in ['comb_mom_zscore', 'ear_mom_zscore', 'val_comp_zscore', 'qual_comp_zscore']:\n",
    "    col_group = col + '_group'\n",
    "    zscore_df[col_group] = pd.qcut(zscore_df[col].rank(method='first'), 10, labels = range(1, 11))\n",
    "\n",
    "##############################################    \n",
    "######### REDO FOR COMBINATION OF COMBINATIONS, VMQ, QM, VQ, VM\n",
    "#################################################\n",
    "\n",
    "zscore_df['VMQ'] = zscore_df['ear_mom_zscore'] + zscore_df['val_comp_zscore'] +zscore_df['qual_comp_zscore']\n",
    "zscore_df['MQ'] = zscore_df['ear_mom_zscore'] +zscore_df['qual_comp_zscore']\n",
    "zscore_df['VQ'] =  zscore_df['val_comp_zscore'] +zscore_df['qual_comp_zscore']\n",
    "zscore_df['VM'] = zscore_df['ear_mom_zscore'] + zscore_df['val_comp_zscore']\n",
    "\n",
    "## REDO ZSCORE AND QUANTILES FOR COMBINED OF COMBINED MEASURES\n",
    "\n",
    "for col in ['VMQ', 'MQ', 'VQ', 'VM']:\n",
    "    col_zscore = col+ '_zscore'\n",
    "    zscore_tmp_df = zscore_df[col]\n",
    "    zscore_df[col_zscore] = (zscore_tmp_df - zscore_tmp_df.unstack(level ='d').mean())/zscore_tmp_df.unstack(level ='d').std()\n",
    "\n",
    "for col in ['VMQ_zscore', 'MQ_zscore', 'VQ_zscore', 'VM_zscore']:\n",
    "    col_group = col + '_group'\n",
    "    zscore_df[col_group] = pd.qcut(zscore_df[col].rank(method='first'), 10, labels = range(1, 11))\n",
    "\n",
    "\n",
    "    \n",
    "full_df_tmp = zscore_df.copy()\n",
    "zscore_df = zscore_df.unstack('insID').iloc[::horizon, :].stack('insID')"
   ]
  },
  {
   "cell_type": "markdown",
   "metadata": {},
   "source": [
    "# Horizon Forward Return"
   ]
  },
  {
   "cell_type": "markdown",
   "metadata": {},
   "source": [
    "### Train Model"
   ]
  },
  {
   "cell_type": "code",
   "execution_count": 6,
   "metadata": {},
   "outputs": [
    {
     "ename": "ValueError",
     "evalue": "list.remove(x): x not in list",
     "output_type": "error",
     "traceback": [
      "\u001b[0;31m---------------------------------------------------------------------------\u001b[0m",
      "\u001b[0;31mValueError\u001b[0m                                Traceback (most recent call last)",
      "\u001b[0;32m<ipython-input-6-fc17faf5cdd8>\u001b[0m in \u001b[0;36m<module>\u001b[0;34m\u001b[0m\n\u001b[1;32m     14\u001b[0m \u001b[0;34m\u001b[0m\u001b[0m\n\u001b[1;32m     15\u001b[0m \u001b[0;32mfor\u001b[0m \u001b[0mele\u001b[0m \u001b[0;32min\u001b[0m \u001b[0mremv_list\u001b[0m\u001b[0;34m:\u001b[0m\u001b[0;34m\u001b[0m\u001b[0;34m\u001b[0m\u001b[0m\n\u001b[0;32m---> 16\u001b[0;31m     \u001b[0mcoeff_list\u001b[0m\u001b[0;34m.\u001b[0m\u001b[0mremove\u001b[0m\u001b[0;34m(\u001b[0m\u001b[0mele\u001b[0m\u001b[0;34m)\u001b[0m\u001b[0;34m\u001b[0m\u001b[0;34m\u001b[0m\u001b[0m\n\u001b[0m\u001b[1;32m     17\u001b[0m \u001b[0;34m\u001b[0m\u001b[0m\n\u001b[1;32m     18\u001b[0m \u001b[0;34m\u001b[0m\u001b[0m\n",
      "\u001b[0;31mValueError\u001b[0m: list.remove(x): x not in list"
     ]
    }
   ],
   "source": [
    "model_list = []\n",
    "for col in zscore_df.columns:\n",
    "    x = re.search('zscore$', col)\n",
    "    if(x!=None):\n",
    "        model_list.append(col)\n",
    "        \n",
    "\n",
    "coeff_list = model_list.copy()\n",
    "\n",
    "remv_list = ['rank_ret_zscore', 'ear_mom_zscore', 'val_comp_zscore','qual_comp_zscore', 'comb_mom_zscore',\n",
    "            'MQ_zscore', 'VM_zscore', 'VQ_zscore', 'VMQ_zscore', 'MEME_factor_zscore','MA20_VOL_zscore',\n",
    "            'volume_balance_zscore', 'MA20_zscore', 'SUE_Q_zscore', 'mom1_zscore', 'ROE_chg_zscore',\n",
    "             'rev_growth_zscore','EPS_growth_zscore','EPS_acceleration_zscore','MA50_VOL_zscore']\n",
    "\n",
    "for ele in remv_list:\n",
    "    coeff_list.remove(ele)\n",
    "        \n",
    "        \n",
    "\n",
    "#coeff_list = ['ear_mom_zscore','val_comp_zscore','qual_comp_zscore']\n",
    "\n",
    "#coeff_list = ['PE_zscore', 'mom12_zscore']"
   ]
  },
  {
   "cell_type": "code",
   "execution_count": null,
   "metadata": {},
   "outputs": [],
   "source": [
    "coeff_list"
   ]
  },
  {
   "cell_type": "code",
   "execution_count": null,
   "metadata": {},
   "outputs": [],
   "source": []
  },
  {
   "cell_type": "code",
   "execution_count": 44,
   "metadata": {},
   "outputs": [],
   "source": [
    "mom_coeff = ['mom12_zscore', 'mom6_zscore', 'mom3_zscore']\n",
    "high_coeff = ['12m_high_zscore', '6m_high_zscore', '3m_high_zscore']\n",
    "\n",
    "coeff_list = ['mom12_zscore', 'EAR_std_zscore','mom6_zscore','mom3_zscore', 'volatility_zscore']"
   ]
  },
  {
   "cell_type": "code",
   "execution_count": 45,
   "metadata": {},
   "outputs": [],
   "source": [
    "np.random.seed(123)\n",
    "train_ratio = 0.7\n",
    "\n",
    "reg_df = zscore_df[coeff_list + ['rank_ret_zscore']].dropna()\n",
    "\n",
    "\n",
    "\n",
    "eval_train_df = reg_df[:int(len(reg_df)*train_ratio)]\n",
    "eval_test_df =  reg_df[int(len(reg_df)*(1-train_ratio)):]\n",
    "\n",
    "X_ml = reg_df[coeff_list]\n",
    "Y_ml = pd.DataFrame(reg_df[['rank_ret_zscore']])\n",
    "\n",
    "#splitting data into train and test\n",
    "X_train = X_ml[:int(len(X_ml)*train_ratio)]\n",
    "X_test = X_ml[int(len(X_ml)*(1-train_ratio)):]\n",
    "Y_train = Y_ml[:int(len(X_ml)*(train_ratio))]\n",
    "Y_test = Y_ml[int(len(X_ml)*(1-train_ratio)):]\n",
    "\n",
    "#creating dmatrix for xgboost\n",
    "dtrain = xgb.DMatrix(X_train, label=Y_train)\n",
    "dtest = xgb.DMatrix(X_test, label=Y_test)"
   ]
  },
  {
   "cell_type": "code",
   "execution_count": 46,
   "metadata": {},
   "outputs": [],
   "source": [
    "params = { 'max_depth': [1,2],\n",
    "           'learning_rate': [0.01, 0.02],\n",
    "           'n_estimators': [200,300],\n",
    "           'colsample_bytree': [ 0.2 ]}"
   ]
  },
  {
   "cell_type": "code",
   "execution_count": 29,
   "metadata": {
    "scrolled": false
   },
   "outputs": [
    {
     "name": "stdout",
     "output_type": "stream",
     "text": [
      "Fitting 5 folds for each of 8 candidates, totalling 40 fits\n"
     ]
    },
    {
     "data": {
      "text/plain": [
       "GridSearchCV(estimator=XGBRegressor(base_score=None, booster=None,\n",
       "                                    colsample_bylevel=None,\n",
       "                                    colsample_bynode=None,\n",
       "                                    colsample_bytree=None,\n",
       "                                    enable_categorical=False, gamma=None,\n",
       "                                    gpu_id=None, importance_type=None,\n",
       "                                    interaction_constraints=None,\n",
       "                                    learning_rate=None, max_delta_step=None,\n",
       "                                    max_depth=None, min_child_weight=None,\n",
       "                                    missing=nan, monotone_constraints=None,\n",
       "                                    n_esti...bs=None,\n",
       "                                    num_parallel_tree=None, predictor=None,\n",
       "                                    random_state=None, reg_alpha=None,\n",
       "                                    reg_lambda=None, scale_pos_weight=None,\n",
       "                                    seed=20, subsample=None, tree_method=None,\n",
       "                                    validate_parameters=None, verbosity=None),\n",
       "             param_grid={'colsample_bytree': [0.2],\n",
       "                         'learning_rate': [0.01, 0.02], 'max_depth': [1, 2],\n",
       "                         'n_estimators': [200, 300]},\n",
       "             scoring='neg_mean_squared_error', verbose=1)"
      ]
     },
     "execution_count": 29,
     "metadata": {},
     "output_type": "execute_result"
    }
   ],
   "source": [
    "## TUNE WITH GRIDSEARCH\n",
    "\n",
    "xgbr = xgb.XGBRegressor(seed = 20)\n",
    "clf = GridSearchCV(estimator=xgbr, \n",
    "                   param_grid=params,\n",
    "                   scoring='neg_mean_squared_error', \n",
    "                   verbose=1)\n",
    "clf.fit(X_train, Y_train)"
   ]
  },
  {
   "cell_type": "code",
   "execution_count": 17,
   "metadata": {
    "scrolled": false
   },
   "outputs": [
    {
     "data": {
      "text/plain": [
       "{'colsample_bytree': 0.2,\n",
       " 'learning_rate': 0.02,\n",
       " 'max_depth': 1,\n",
       " 'n_estimators': 300}"
      ]
     },
     "execution_count": 17,
     "metadata": {},
     "output_type": "execute_result"
    }
   ],
   "source": [
    "clf.best_params_"
   ]
  },
  {
   "cell_type": "markdown",
   "metadata": {},
   "source": [
    "### Model Eval"
   ]
  },
  {
   "cell_type": "code",
   "execution_count": 18,
   "metadata": {
    "scrolled": true
   },
   "outputs": [
    {
     "name": "stdout",
     "output_type": "stream",
     "text": [
      "MSE for train set:  0.9852126568534545\n"
     ]
    },
    {
     "name": "stderr",
     "output_type": "stream",
     "text": [
      "\n",
      "A value is trying to be set on a copy of a slice from a DataFrame.\n",
      "Try using .loc[row_indexer,col_indexer] = value instead\n",
      "\n",
      "See the caveats in the documentation: https://pandas.pydata.org/pandas-docs/stable/user_guide/indexing.html#returning-a-view-versus-a-copy\n"
     ]
    }
   ],
   "source": [
    "VIP_df = pd.DataFrame(clf.best_estimator_.feature_importances_, index = X_train.columns).sort_values(0, ascending=True)\n",
    "eval_train_df.loc[:, 'pred_y'] = clf.predict(X_train)\n",
    "MSE_train = np.mean((eval_train_df['rank_ret_zscore'] - eval_train_df['pred_y'])**2)\n",
    "\n",
    "print(\"MSE for train set: \", MSE_train)\n",
    "\n",
    "#set up group for bin test\n",
    "for col in ['pred_y']:\n",
    "    col_group = col + '_group'\n",
    "    eval_train_df.loc[:, col_group] = pd.qcut(eval_train_df[col].rank(method='first'), 10, labels = range(1, 11))\n",
    "    \n",
    "    "
   ]
  },
  {
   "cell_type": "code",
   "execution_count": 19,
   "metadata": {
    "scrolled": false
   },
   "outputs": [
    {
     "data": {
      "image/png": "[encoded data removed]",
      "text/plain": [
       "<Figure size 1440x720 with 1 Axes>"
      ]
     },
     "metadata": {
      "needs_background": "light"
     },
     "output_type": "display_data"
    }
   ],
   "source": [
    "plt.figure(figsize=(20,10));\n",
    "plt.barh(VIP_df.transpose().columns,VIP_df.iloc[:, 0]);\n",
    "plt.title('Variable Importance for XGBoost Model');"
   ]
  },
  {
   "cell_type": "markdown",
   "metadata": {},
   "source": [
    "## SHAPS"
   ]
  },
  {
   "cell_type": "code",
   "execution_count": 20,
   "metadata": {
    "scrolled": false
   },
   "outputs": [
    {
     "name": "stderr",
     "output_type": "stream",
     "text": [
      "ntree_limit is deprecated, use `iteration_range` or model slicing instead.\n"
     ]
    },
    {
     "data": {
      "image/png": "[encoded data removed]",
      "text/plain": [
       "<Figure size 576x194.4 with 2 Axes>"
      ]
     },
     "metadata": {
      "needs_background": "light"
     },
     "output_type": "display_data"
    },
    {
     "data": {
      "image/png": "[encoded data removed]",
      "text/plain": [
       "<Figure size 432x360 with 1 Axes>"
      ]
     },
     "metadata": {
      "needs_background": "light"
     },
     "output_type": "display_data"
    },
    {
     "data": {
      "image/png": "[encoded data removed]",
      "text/plain": [
       "<Figure size 432x360 with 1 Axes>"
      ]
     },
     "metadata": {
      "needs_background": "light"
     },
     "output_type": "display_data"
    },
    {
     "data": {
      "image/png": "[encoded data removed]",
      "text/plain": [
       "<Figure size 432x360 with 1 Axes>"
      ]
     },
     "metadata": {
      "needs_background": "light"
     },
     "output_type": "display_data"
    }
   ],
   "source": [
    "shap_values_ind = shap.TreeExplainer(clf.best_estimator_).shap_values(X_ml)\n",
    "\n",
    "shap.summary_plot(shap_values_ind,X_ml)\n",
    "for var in coeff_list:\n",
    "    shap.dependence_plot(var, shap_values_ind, X_ml, interaction_index=None)\n",
    "    "
   ]
  },
  {
   "cell_type": "markdown",
   "metadata": {},
   "source": [
    "## BACKTEST"
   ]
  },
  {
   "cell_type": "code",
   "execution_count": 21,
   "metadata": {
    "scrolled": true
   },
   "outputs": [
    {
     "data": {
      "image/png": "[encoded data removed]",
      "text/plain": [
       "<Figure size 432x288 with 1 Axes>"
      ]
     },
     "metadata": {},
     "output_type": "display_data"
    }
   ],
   "source": [
    "sns.set_style(\"whitegrid\")\n",
    "\n",
    "fig, ax = plt.subplots(nrows=1, ncols=1, sharex=True, sharey = True)\n",
    "fig.suptitle('XGBOOST Model Train Data: 1 month forward returns', fontsize=18, y=1)\n",
    "ax.bar(range(1, 11) ,eval_train_df.groupby(\"pred_y_group\").mean()['rank_ret_zscore']);\n",
    "ax.set_title('');"
   ]
  },
  {
   "cell_type": "markdown",
   "metadata": {},
   "source": [
    "### Eval test Set"
   ]
  },
  {
   "cell_type": "code",
   "execution_count": 22,
   "metadata": {},
   "outputs": [
    {
     "name": "stdout",
     "output_type": "stream",
     "text": [
      "MSE for test set:  0.9912044865378496\n"
     ]
    },
    {
     "name": "stderr",
     "output_type": "stream",
     "text": [
      "\n",
      "A value is trying to be set on a copy of a slice from a DataFrame.\n",
      "Try using .loc[row_indexer,col_indexer] = value instead\n",
      "\n",
      "See the caveats in the documentation: https://pandas.pydata.org/pandas-docs/stable/user_guide/indexing.html#returning-a-view-versus-a-copy\n"
     ]
    }
   ],
   "source": [
    "eval_test_df.loc[:, 'pred_y'] = clf.predict(X_test)\n",
    "MSE_test = np.mean((eval_test_df['rank_ret_zscore'] - eval_test_df['pred_y'])**2)\n",
    "\n",
    "print(\"MSE for test set: \", MSE_test)\n",
    "\n",
    "#set up group for bin test\n",
    "for col in ['pred_y']:\n",
    "    col_group = col + '_group'\n",
    "    eval_test_df.loc[:, col_group] = pd.qcut(eval_test_df[col].rank(method='first'), 10, labels = range(1, 11))"
   ]
  },
  {
   "cell_type": "code",
   "execution_count": 23,
   "metadata": {},
   "outputs": [
    {
     "data": {
      "image/png": "[encoded data removed]",
      "text/plain": [
       "<Figure size 432x288 with 1 Axes>"
      ]
     },
     "metadata": {},
     "output_type": "display_data"
    }
   ],
   "source": [
    "sns.set_style(\"whitegrid\")\n",
    "\n",
    "fig, ax = plt.subplots(nrows=1, ncols=1, sharex=True, sharey = True)\n",
    "fig.suptitle('XGBOOST Model Test Data: 1 month forward returns', fontsize=18, y=1)\n",
    "ax.bar(range(1, 11) ,eval_test_df.groupby(\"pred_y_group\").mean()['rank_ret_zscore']);\n",
    "ax.set_title('');"
   ]
  },
  {
   "cell_type": "markdown",
   "metadata": {},
   "source": [
    "## EXPORT PREDICTIONS AND MODEL"
   ]
  },
  {
   "cell_type": "code",
   "execution_count": 59,
   "metadata": {},
   "outputs": [],
   "source": [
    "## Export predicited values to backtest dev\n",
    "full_df_tmp = full_df_tmp.sort_index(level=0)\n",
    "pred_df = full_df_tmp.loc[full_df_tmp['mom12_zscore'].first_valid_index():,]\n",
    "\n",
    "export_df = pred_df.copy()\n",
    "export_df['xgboost_pred'] = clf.predict(pred_df[coeff_list])\n",
    "export_df = pd.DataFrame(export_df['xgboost_pred'])\n",
    "\n",
    "export_df.to_csv(\"XGBOOST_pred.csv\")"
   ]
  },
  {
   "cell_type": "code",
   "execution_count": 19,
   "metadata": {},
   "outputs": [
    {
     "data": {
      "text/plain": [
       "['stock_pred_1month_model.pkl']"
      ]
     },
     "execution_count": 19,
     "metadata": {},
     "output_type": "execute_result"
    }
   ],
   "source": [
    "#clf.best_estimator_.save_model('stock_pred_1month_model.json')\n",
    "joblib.dump(clf, 'stock_pred_1month_model.pkl')"
   ]
  }
 ],
 "metadata": {
  "kernelspec": {
   "display_name": "Python 3",
   "language": "python",
   "name": "python3"
  },
  "language_info": {
   "codemirror_mode": {
    "name": "ipython",
    "version": 3
   },
   "file_extension": ".py",
   "mimetype": "text/x-python",
   "name": "python",
   "nbconvert_exporter": "python",
   "pygments_lexer": "ipython3",
   "version": "3.7.4"
  }
 },
 "nbformat": 4,
 "nbformat_minor": 2
}
