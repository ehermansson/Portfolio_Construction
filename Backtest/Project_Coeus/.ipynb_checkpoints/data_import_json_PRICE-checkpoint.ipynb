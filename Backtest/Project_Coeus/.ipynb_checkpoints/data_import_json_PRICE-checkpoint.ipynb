{
 "cells": [
  {
   "cell_type": "code",
   "execution_count": 1,
   "metadata": {},
   "outputs": [],
   "source": [
    "from requests import get\n",
    "from json import loads\n",
    "from time import sleep\n",
    "from typing import List\n",
    "from borsdata_sdk.models.Instrument import Instrument\n",
    "from borsdata_sdk.models.Market import Market\n",
    "import pandas as pd\n",
    "from http import HTTPStatus\n",
    "from borsdata_sdk import BorsdataAPI\n",
    "import borsdata_sdk\n",
    "import requests\n",
    "from pandas.io.json import json_normalize"
   ]
  },
  {
   "cell_type": "code",
   "execution_count": 2,
   "metadata": {},
   "outputs": [],
   "source": [
    "auth_key = 'f4e8e3c7c46c4c34ae238a1822863410'\n",
    "\n",
    "RATE_LIMIT = 429\n",
    "borsdata = BorsdataAPI(auth_key)\n",
    "instruments = borsdata.get_instruments()"
   ]
  },
  {
   "cell_type": "code",
   "execution_count": 3,
   "metadata": {},
   "outputs": [],
   "source": [
    "my_list = []\n",
    "for i in range(len(instruments)):\n",
    "    tmp_list = [instruments[i].insId,instruments[i].name,instruments[i].countryId,instruments[i].sectorId,instruments[i].marketId,instruments[i].instrument]\n",
    "    my_list.append(tmp_list)\n",
    "\n",
    "instruments_df=pd.DataFrame(my_list,columns=['insID','Name','countryId','sectorId', 'marketId', 'instrument']) \n",
    "\n",
    "# Rename the lists to the real names\n",
    "# MarketId: 1 = Large Cap, 2 = Mid Cap, 3=Small Cap, 4=First North\n",
    "\n",
    "swe_stock_main = instruments_df[(instruments_df['countryId'] == 1) & (instruments_df['instrument'] == 0) & (instruments_df['marketId'].isin([1,2,3, 4]))]"
   ]
  },
  {
   "cell_type": "code",
   "execution_count": 13,
   "metadata": {},
   "outputs": [],
   "source": [
    "price_df = pd.DataFrame(columns=['d', 'insID','h','l','c','o','v'])\n",
    "price_df = price_df.set_index(['d', 'insID'])\n",
    "\n",
    "for ins in swe_stock_main['insID'].values:\n",
    "    URL = \"https://apiservice.borsdata.se/v1/instruments/\"  + str(ins) + \"/stockprices/?authKey=f4e8e3c7c46c4c34ae238a1822863410&maxCount=20\"\n",
    "    response = requests.get(URL)\n",
    "    tmp_df = json_normalize(response.json(), record_path ='stockPricesList')\n",
    "    \n",
    "    tmp_df['d'] = pd.to_datetime(tmp_df['d'])\n",
    "    tmp_df['insID'] = ins\n",
    "    tmp_df = tmp_df.set_index(['d', 'insID'])\n",
    "    #price_df.append(tmp_df)\n",
    "    price_df = pd.concat([price_df,tmp_df], sort=True) \n",
    "    \n",
    "\n"
   ]
  },
  {
   "cell_type": "code",
   "execution_count": 36,
   "metadata": {
    "scrolled": false
   },
   "outputs": [],
   "source": [
    "stock_list = swe_stock_main.set_index(['insID'])\n",
    "export_df = price_df.join(stock_list, how='inner', on = 'insID').sort_index() "
   ]
  },
  {
   "cell_type": "code",
   "execution_count": 37,
   "metadata": {},
   "outputs": [],
   "source": [
    "\n",
    "SAVE = 'YES'\n",
    "\n",
    "\n",
    "if SAVE == 'YES':\n",
    "    export_df.to_csv(\"data/SWE_PRICE_20YEAR.csv\")"
   ]
  },
  {
   "cell_type": "code",
   "execution_count": null,
   "metadata": {},
   "outputs": [],
   "source": []
  }
 ],
 "metadata": {
  "kernelspec": {
   "display_name": "Python 3",
   "language": "python",
   "name": "python3"
  },
  "language_info": {
   "codemirror_mode": {
    "name": "ipython",
    "version": 3
   },
   "file_extension": ".py",
   "mimetype": "text/x-python",
   "name": "python",
   "nbconvert_exporter": "python",
   "pygments_lexer": "ipython3",
   "version": "3.7.4"
  }
 },
 "nbformat": 4,
 "nbformat_minor": 2
}
