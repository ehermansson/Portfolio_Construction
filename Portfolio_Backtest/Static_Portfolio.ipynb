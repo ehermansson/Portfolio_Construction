{
 "cells": [
  {
   "cell_type": "code",
   "execution_count": 1,
   "metadata": {},
   "outputs": [],
   "source": [
    "import yfinance as yf \n",
    "import pandas as pd\n",
    "from matplotlib import pylab as plt\n",
    "import numpy as np\n",
    "from datetime import datetime\n",
    "\n",
    "from time import sleep\n",
    "\n",
    "import quandl\n",
    "\n",
    "import seaborn as sns\n",
    "\n",
    "import sys\n",
    "\n",
    "from scipy.stats import norm"
   ]
  },
  {
   "cell_type": "code",
   "execution_count": 2,
   "metadata": {},
   "outputs": [],
   "source": [
    "def port_eval(port, freq = 'D'):\n",
    "    \n",
    "    port = pd.DataFrame(port)\n",
    "    port_ret = calc_port_ret(port)\n",
    "    \n",
    "    Roll_Max = port.cummax()\n",
    "    Daily_Drawdown = port/Roll_Max - 1.0\n",
    "    Max_Daily_Drawdown = Daily_Drawdown.cummin()\n",
    "    \n",
    "    Max_Daily_Drawdown = round(Max_Daily_Drawdown.tail(1),2)\n",
    "    \n",
    "    neg_ret = port_ret[port_ret<1].dropna()\n",
    "    \n",
    "    mean = np.mean(port_ret - 1)\n",
    "    std = np.std(port_ret - 1)\n",
    "    \n",
    "    alpha = 0.05\n",
    "    ES = round(alpha**-1 * norm.pdf(norm.ppf(alpha))*std - mean,3)\n",
    " \n",
    "    \n",
    "    if freq == 'D':\n",
    "        cagr = round(port_ret.cumprod().tail(1)**(252/len(port_ret)) - 1,4)\n",
    "        MAR = round(cagr/Max_Daily_Drawdown,2)\n",
    "        vol = round(np.log(port_ret).std()*np.sqrt(252),3)\n",
    "        sortino = round(np.log(neg_ret).std()*np.sqrt(252),2)\n",
    "        sortino = round(cagr/sortino,2)\n",
    "        sharpe = round(cagr/vol,2)\n",
    "        \n",
    "    elif freq == 'M':\n",
    "        cagr = round(port_ret.cumprod().tail(1)**(12/len(port_ret)) - 1,4)\n",
    "        MAR = round(cagr/Max_Daily_Drawdown,2)\n",
    "        vol = round(np.log(port_ret).std()*np.sqrt(12),3)\n",
    "        sortino = round(np.log(neg_ret).std()*np.sqrt(12),2)\n",
    "        sortino = round(cagr/sortino,2)\n",
    "        sharpe = round(cagr/vol,2)\n",
    "        \n",
    "        \n",
    "    metrics = pd.DataFrame({'': [float(cagr.iloc[0]), float(vol.iloc[0]),\n",
    "                                 float(sharpe.iloc[0]),float(sortino.iloc[0]),\n",
    "                                 float(Max_Daily_Drawdown.iloc[0]), abs(float(MAR.iloc[0])),\n",
    "                                 float(ES)]},\n",
    "                   index=['CAGR', 'Volatility', 'Sharpe','Sortino', 'Max DD', 'MAR', 'ES'])\n",
    "    \n",
    "\n",
    "    \n",
    "    return metrics "
   ]
  },
  {
   "cell_type": "code",
   "execution_count": 3,
   "metadata": {},
   "outputs": [],
   "source": [
    "def calc_port_ret(port):\n",
    "    port_ret = port/port.shift(1)\n",
    "    port_ret = port_ret.fillna(1)\n",
    "    \n",
    "    return port_ret"
   ]
  },
  {
   "cell_type": "code",
   "execution_count": 4,
   "metadata": {},
   "outputs": [],
   "source": [
    "def backtest_strategy(data, W, tol, rebalance_freq, data_names, leverage = 1):\n",
    "    initial = 1\n",
    "    asset = [i * initial for i in W]\n",
    "    port = []\n",
    "    port_W = [] \n",
    "\n",
    "    if sum(W) == 1:\n",
    "\n",
    "        for i in range(len(data)):\n",
    "            #port.append(initial)\n",
    "            port_W.append([i / initial for i in asset])\n",
    "            \n",
    "            daily_ret = ((data.iloc[i]-1) * leverage) +1\n",
    "            asset = asset * daily_ret #data.iloc[i]\n",
    "            initial = sum(asset)\n",
    "            port.append(initial)\n",
    "            #Rebalancing by days\n",
    "            if i%rebalance_freq == 0:\n",
    "                for i in range(len(W)):\n",
    "                    asset[i] = initial * W[i]\n",
    "            \n",
    "            #Rebalancing by deviation\n",
    "            for i in range(len(asset)):\n",
    "                if abs(asset[i]/initial - W[i])> tol:  \n",
    "                      asset = [i * initial for i in W]\n",
    "    \n",
    "        port = pd.DataFrame(port)\n",
    "        port.index = data.index\n",
    "    \n",
    "        result = pd.concat([port, data.cumprod()], axis =1)\n",
    "        result.columns = [\"Portfolio\"] + data_names\n",
    "        \n",
    "        return (result, port_W)\n",
    "        \n",
    "    else:\n",
    "        print(\"Weight not Equal to 1!\")"
   ]
  },
  {
   "cell_type": "code",
   "execution_count": 5,
   "metadata": {},
   "outputs": [],
   "source": [
    "def strategy_evaluation(result, data_names, freq = 'D'):\n",
    "    metrics = pd.DataFrame([])\n",
    "    \n",
    "    if freq == 'D':\n",
    "    \n",
    "        for i in result.columns:\n",
    "            metrics = pd.concat([metrics, port_eval(result[i], freq = 'D').transpose()], axis = 0)\n",
    "        metrics.index = [\"Portfolio\"] + data_names\n",
    "        \n",
    "    elif freq == 'M':\n",
    "        for i in result.columns:\n",
    "            metrics = pd.concat([metrics, port_eval(result[i], freq = 'M').transpose()], axis = 0)\n",
    "        metrics.index = [\"Portfolio\"] + data_names\n",
    "        \n",
    "    th_props = [\n",
    "  ('font-size', '11px'),\n",
    "  ('text-align', 'center'),\n",
    "  ('font-weight', 'bold'),\n",
    "  ('color', 'Black'),\n",
    "  ('background-color', '#f7f7f9')\n",
    "  ]\n",
    "\n",
    "\n",
    "    # Set CSS properties for td elements in dataframe\n",
    "    td_props = [\n",
    "      ('font-size', '11px'), ('text-align', 'center')\n",
    "      ]\n",
    "\n",
    "    # Set table styles\n",
    "    styles = [\n",
    "      dict(selector=\"th\", props=th_props),\n",
    "      dict(selector=\"td\", props=td_props)\n",
    "      ]\n",
    "\n",
    "    cm_neg_good = sns.diverging_palette(150, 10, s=80, l=70, n=len(metrics.columns), as_cmap=True)#sns.light_palette(\"green\", as_cmap=True)\n",
    "    cm_pos_good = sns.diverging_palette(10, 150, s=80, l=70, n=len(metrics.columns), as_cmap=True)\n",
    "\n",
    "    metrics = (metrics.style\n",
    "      .background_gradient(axis = 0 ,subset = ['CAGR','Max DD', 'Sharpe','MAR','Sortino' ],cmap=cm_pos_good)\n",
    "      .background_gradient(axis = 0 ,subset = ['Volatility', 'ES'],cmap=cm_neg_good)\n",
    "      #.set_caption('Performance Metrics')\n",
    "      .format({'CAGR': \"{:.2%}\", 'Max DD': \"{:.2%}\", 'ES': \"{:.2%}\", 'Volatility': \"{:.2%}\"})\n",
    "      .set_table_styles(styles))\n",
    "    \n",
    "    return metrics"
   ]
  },
  {
   "cell_type": "code",
   "execution_count": 6,
   "metadata": {},
   "outputs": [],
   "source": [
    "def correlation_map(result):\n",
    "    ret = calc_port_ret(result)\n",
    "    ret = np.log(ret)\n",
    "    corr = ret.corr()\n",
    "    th_props = [\n",
    "      ('font-size', '11px'),\n",
    "      ('text-align', 'center'),\n",
    "      ('font-weight', 'bold'),\n",
    "      ('color', 'Black'),\n",
    "      ('background-color', '#f7f7f9')\n",
    "      ]\n",
    "\n",
    "    \n",
    "        # Set CSS properties for td elements in dataframe\n",
    "    td_props = [\n",
    "          ('font-size', '11px'), ('text-align', 'center')\n",
    "          ]\n",
    "    \n",
    "        # Set table styles\n",
    "    styles = [\n",
    "          dict(selector=\"th\", props=th_props),\n",
    "          dict(selector=\"td\", props=td_props)\n",
    "          ]\n",
    "    \n",
    "    cm_neg_good = sns.diverging_palette(150, 10, s=80, l=70, n=len(corr.columns)**2, as_cmap=True)#sns.light_palette(\"green\", as_cmap=True)\n",
    "    cm_pos_good = sns.diverging_palette(10, 150, s=80, l=70, n=len(corr.columns)**2, as_cmap=True)\n",
    "    \n",
    "    \n",
    "    corr = (corr.style\n",
    "          .background_gradient(axis = 0 ,cmap=cm_neg_good)\n",
    "          .set_table_styles(styles))\n",
    "    \n",
    "    return corr"
   ]
  },
  {
   "cell_type": "markdown",
   "metadata": {},
   "source": [
    "# Backtesting Portfolio\n",
    "\n",
    "TODO:\n",
    "- collect data, dividned adjusted\n",
    "- leverage\n",
    "- start and end date"
   ]
  },
  {
   "cell_type": "code",
   "execution_count": 7,
   "metadata": {
    "scrolled": true
   },
   "outputs": [
    {
     "name": "stdout",
     "output_type": "stream",
     "text": [
      "[*********************100%***********************]  1 of 1 completed\n",
      "[*********************100%***********************]  1 of 1 completed\n",
      "[*********************100%***********************]  1 of 1 completed\n"
     ]
    }
   ],
   "source": [
    "SP500_daily_tmp = yf.download(\"^SP500TR\")\n",
    "SHY_daily_tmp = yf.download(\"SHY\")\n",
    "TLT_daily_tmp =  yf.download(\"TLT\")"
   ]
  },
  {
   "cell_type": "code",
   "execution_count": 8,
   "metadata": {},
   "outputs": [],
   "source": [
    "SP500_daily= pd.DataFrame(SP500_daily_tmp['Close'])\n",
    "SHY_daily = pd.DataFrame(SHY_daily_tmp['Close'])\n",
    "TLT_daily = pd.DataFrame(TLT_daily_tmp['Close'])\n",
    "\n",
    "SP500_daily.columns = ['SP500']\n",
    "SHY_daily.columns = ['SHY']\n",
    "TLT_daily.columns = ['TLT']"
   ]
  },
  {
   "cell_type": "code",
   "execution_count": 9,
   "metadata": {},
   "outputs": [
    {
     "name": "stdout",
     "output_type": "stream",
     "text": [
      "[*********************100%***********************]  1 of 1 completed\n"
     ]
    },
    {
     "name": "stderr",
     "output_type": "stream",
     "text": [
      "/Users/davidboman/opt/anaconda3/lib/python3.7/site-packages/ipykernel_launcher.py:12: SettingWithCopyWarning: \n",
      "A value is trying to be set on a copy of a slice from a DataFrame\n",
      "\n",
      "See the caveats in the documentation: https://pandas.pydata.org/pandas-docs/stable/user_guide/indexing.html#returning-a-view-versus-a-copy\n",
      "  if sys.path[0] == '':\n"
     ]
    }
   ],
   "source": [
    "# TYX 30 yr Treasury\n",
    "\n",
    "TYX_tmp = yf.download('^TYX')\n",
    "\n",
    "TYX_tmp.insert(1, \"TYX\", 0.0, True)\n",
    "ttm = 30\n",
    "price = 100.0\n",
    "prev_price = 0\n",
    "row = 0\n",
    "\n",
    "for i in TYX_tmp['Close']:\n",
    "    TYX_tmp['TYX'][row] = price\n",
    "    curr_price = 1/(1+i/100)**ttm\n",
    "    if prev_price == 0: \n",
    "        price_change = 0\n",
    "    else: \n",
    "        price_change = (curr_price-prev_price)/prev_price\n",
    "    imp_yield = (price*(1+i/100)-price)/252\n",
    "    price = price*(1+price_change) + imp_yield\n",
    "    prev_price = curr_price\n",
    "    row += 1\n",
    "    \n",
    "TYX = pd.DataFrame(TYX_tmp['TYX'])"
   ]
  },
  {
   "cell_type": "code",
   "execution_count": 10,
   "metadata": {},
   "outputs": [
    {
     "name": "stdout",
     "output_type": "stream",
     "text": [
      "[*********************100%***********************]  1 of 1 completed\n"
     ]
    },
    {
     "name": "stderr",
     "output_type": "stream",
     "text": [
      "/Users/davidboman/opt/anaconda3/lib/python3.7/site-packages/ipykernel_launcher.py:12: SettingWithCopyWarning: \n",
      "A value is trying to be set on a copy of a slice from a DataFrame\n",
      "\n",
      "See the caveats in the documentation: https://pandas.pydata.org/pandas-docs/stable/user_guide/indexing.html#returning-a-view-versus-a-copy\n",
      "  if sys.path[0] == '':\n"
     ]
    }
   ],
   "source": [
    "# TNX 10 year gov bond\n",
    "\n",
    "TNX_tmp = yf.download('^TNX')\n",
    "\n",
    "TNX_tmp.insert(1, \"TNX\", 0.0, True)\n",
    "ttm = 10\n",
    "price = 100.0\n",
    "prev_price = 0\n",
    "row = 0\n",
    "\n",
    "for i in TNX_tmp['Close']:\n",
    "    TNX_tmp['TNX'][row] = price\n",
    "    curr_price = 1/(1+i/100)**ttm\n",
    "    if prev_price == 0: \n",
    "        price_change = 0\n",
    "    else: \n",
    "        price_change = (curr_price-prev_price)/prev_price\n",
    "    imp_yield = (price*(1+i/100)-price)/252\n",
    "    price = price*(1+price_change) + imp_yield\n",
    "    prev_price = curr_price\n",
    "    row += 1\n",
    "    \n",
    "TNX = pd.DataFrame(TNX_tmp['TNX'])"
   ]
  },
  {
   "cell_type": "code",
   "execution_count": 11,
   "metadata": {},
   "outputs": [
    {
     "name": "stdout",
     "output_type": "stream",
     "text": [
      "[*********************100%***********************]  1 of 1 completed\n"
     ]
    },
    {
     "name": "stderr",
     "output_type": "stream",
     "text": [
      "/Users/davidboman/opt/anaconda3/lib/python3.7/site-packages/ipykernel_launcher.py:12: SettingWithCopyWarning: \n",
      "A value is trying to be set on a copy of a slice from a DataFrame\n",
      "\n",
      "See the caveats in the documentation: https://pandas.pydata.org/pandas-docs/stable/user_guide/indexing.html#returning-a-view-versus-a-copy\n",
      "  if sys.path[0] == '':\n"
     ]
    }
   ],
   "source": [
    "# FVX 5 year gov bond\n",
    "\n",
    "FVX_tmp = yf.download('^FVX')\n",
    "\n",
    "FVX_tmp.insert(1, \"FVX\", 0.0, True)\n",
    "ttm = 5\n",
    "price = 100.0\n",
    "prev_price = 0\n",
    "row = 0\n",
    "\n",
    "for i in FVX_tmp['Close']:\n",
    "    FVX_tmp['FVX'][row] = price\n",
    "    curr_price = 1/(1+i/100)**ttm\n",
    "    if prev_price == 0: \n",
    "        price_change = 0\n",
    "    else: \n",
    "        price_change = (curr_price-prev_price)/prev_price\n",
    "    imp_yield = (price*(1+i/100)-price)/252\n",
    "    price = price*(1+price_change) + imp_yield\n",
    "    prev_price = curr_price\n",
    "    row += 1\n",
    "    \n",
    "FVX = pd.DataFrame(FVX_tmp['FVX'])"
   ]
  },
  {
   "cell_type": "code",
   "execution_count": 12,
   "metadata": {},
   "outputs": [],
   "source": [
    "#Gold Import\n",
    "Gold_tmp = quandl.get(\"LBMA/GOLD\", authtoken=\"6rNSyTM5R4g7_B7XSyQW\")"
   ]
  },
  {
   "cell_type": "code",
   "execution_count": 13,
   "metadata": {},
   "outputs": [],
   "source": [
    "Gold = pd.DataFrame(Gold_tmp[\"USD (AM)\"])\n",
    "Gold_monthly = Gold.resample('M').last()\n",
    "Gold.columns = ['Gold']\n",
    "Gold_monthly.columns = ['Gold']"
   ]
  },
  {
   "cell_type": "code",
   "execution_count": 14,
   "metadata": {
    "scrolled": true
   },
   "outputs": [
    {
     "data": {
      "text/plain": [
       "DatetimeIndex(['1968-01-31', '1968-02-29', '1968-03-31', '1968-04-30',\n",
       "               '1968-05-31', '1968-06-30', '1968-07-31', '1968-08-31',\n",
       "               '1968-09-30', '1968-10-31',\n",
       "               ...\n",
       "               '2019-10-31', '2019-11-30', '2019-12-31', '2020-01-31',\n",
       "               '2020-02-29', '2020-03-31', '2020-04-30', '2020-05-31',\n",
       "               '2020-06-30', '2020-07-31'],\n",
       "              dtype='datetime64[ns]', name='Date', length=631, freq='M')"
      ]
     },
     "execution_count": 14,
     "metadata": {},
     "output_type": "execute_result"
    }
   ],
   "source": [
    "Gold_monthly.index"
   ]
  },
  {
   "cell_type": "code",
   "execution_count": 15,
   "metadata": {},
   "outputs": [],
   "source": [
    "#Long Vol Import\n",
    "long_vol_imp = pd.read_excel (r'https://www.eurekahedge.com/Indices/ExportIndexReturnsToExcel?IndexType=Eurekahedge&IndexId=640')\n",
    "\n",
    "long_vol = long_vol_imp[3:]\n",
    "long_vol.index= pd.to_datetime(long_vol_imp[3:]['Unnamed: 0'])\n",
    "long_vol = pd.DataFrame(long_vol['Unnamed: 2'])\n",
    "long_vol.columns = [\"Long Vol\"]"
   ]
  },
  {
   "cell_type": "code",
   "execution_count": 16,
   "metadata": {},
   "outputs": [],
   "source": [
    "#Monthly SP500\n",
    "SP500_monthly = quandl.get(\"MULTPL/SP500_REAL_PRICE_MONTH\", authtoken=\"6rNSyTM5R4g7_B7XSyQW\")\n",
    "SP500_monthly.columns = ['SP500']"
   ]
  },
  {
   "cell_type": "code",
   "execution_count": 17,
   "metadata": {
    "scrolled": true
   },
   "outputs": [],
   "source": [
    "####DAILY DATA#########\n",
    "\n",
    "data = pd.concat([SP500_daily,Gold], axis = 1) #asset_2, asset_4\n",
    "data = data.ffill()\n",
    "data = data.dropna()\n",
    "data = data/data.shift(1)\n",
    "data = data.fillna(1)"
   ]
  },
  {
   "cell_type": "code",
   "execution_count": 18,
   "metadata": {},
   "outputs": [],
   "source": [
    "######## Monthly Data\n",
    "\n",
    "data_tmp = pd.concat([SP500_monthly, long_vol], axis = 1)\n",
    "data_tmp = data_tmp.ffill()\n",
    "data_tmp = data_tmp.dropna()\n",
    "monthly_data = data_tmp/data_tmp.shift()\n",
    "monthly_data = monthly_data.fillna(1)\n",
    "monthly_data = monthly_data.ffill()\n",
    "monthly_data = monthly_data.dropna()"
   ]
  },
  {
   "cell_type": "code",
   "execution_count": 19,
   "metadata": {
    "scrolled": true
   },
   "outputs": [],
   "source": [
    "rebalance_freq = 252/4\n",
    "tol = 0.1\n",
    "W = [1/2, 1/2]\n",
    "\n",
    "data_names = data.columns.tolist()\n",
    "\n",
    "\n",
    "result, weights = backtest_strategy(data, W, tol, rebalance_freq, data_names, leverage = 1)"
   ]
  },
  {
   "cell_type": "code",
   "execution_count": 20,
   "metadata": {
    "scrolled": true
   },
   "outputs": [
    {
     "data": {
      "text/html": [
       "<style  type=\"text/css\" >\n",
       "    #T_d9294594_cd28_11ea_8286_acde48001122 th {\n",
       "          font-size: 11px;\n",
       "          text-align: center;\n",
       "          font-weight: bold;\n",
       "          color: Black;\n",
       "          background-color: #f7f7f9;\n",
       "    }    #T_d9294594_cd28_11ea_8286_acde48001122 td {\n",
       "          font-size: 11px;\n",
       "          text-align: center;\n",
       "    }    #T_d9294594_cd28_11ea_8286_acde48001122row0_col0 {\n",
       "            background-color:  #d1eee2;\n",
       "            color:  #000000;\n",
       "        }    #T_d9294594_cd28_11ea_8286_acde48001122row0_col1 {\n",
       "            background-color:  #4ebf8f;\n",
       "            color:  #000000;\n",
       "        }    #T_d9294594_cd28_11ea_8286_acde48001122row0_col2 {\n",
       "            background-color:  #4ebf8f;\n",
       "            color:  #000000;\n",
       "        }    #T_d9294594_cd28_11ea_8286_acde48001122row0_col3 {\n",
       "            background-color:  #4ebf8f;\n",
       "            color:  #000000;\n",
       "        }    #T_d9294594_cd28_11ea_8286_acde48001122row0_col4 {\n",
       "            background-color:  #4ebf8f;\n",
       "            color:  #000000;\n",
       "        }    #T_d9294594_cd28_11ea_8286_acde48001122row0_col5 {\n",
       "            background-color:  #4ebf8f;\n",
       "            color:  #000000;\n",
       "        }    #T_d9294594_cd28_11ea_8286_acde48001122row0_col6 {\n",
       "            background-color:  #4ebf8f;\n",
       "            color:  #000000;\n",
       "        }    #T_d9294594_cd28_11ea_8286_acde48001122row1_col0 {\n",
       "            background-color:  #4ebf8f;\n",
       "            color:  #000000;\n",
       "        }    #T_d9294594_cd28_11ea_8286_acde48001122row1_col1 {\n",
       "            background-color:  #f29094;\n",
       "            color:  #000000;\n",
       "        }    #T_d9294594_cd28_11ea_8286_acde48001122row1_col2 {\n",
       "            background-color:  #98dabe;\n",
       "            color:  #000000;\n",
       "        }    #T_d9294594_cd28_11ea_8286_acde48001122row1_col3 {\n",
       "            background-color:  #bee7d6;\n",
       "            color:  #000000;\n",
       "        }    #T_d9294594_cd28_11ea_8286_acde48001122row1_col4 {\n",
       "            background-color:  #f29094;\n",
       "            color:  #000000;\n",
       "        }    #T_d9294594_cd28_11ea_8286_acde48001122row1_col5 {\n",
       "            background-color:  #ade1cb;\n",
       "            color:  #000000;\n",
       "        }    #T_d9294594_cd28_11ea_8286_acde48001122row1_col6 {\n",
       "            background-color:  #f29094;\n",
       "            color:  #000000;\n",
       "        }    #T_d9294594_cd28_11ea_8286_acde48001122row2_col0 {\n",
       "            background-color:  #f29094;\n",
       "            color:  #000000;\n",
       "        }    #T_d9294594_cd28_11ea_8286_acde48001122row2_col1 {\n",
       "            background-color:  #fad5d7;\n",
       "            color:  #000000;\n",
       "        }    #T_d9294594_cd28_11ea_8286_acde48001122row2_col2 {\n",
       "            background-color:  #f29094;\n",
       "            color:  #000000;\n",
       "        }    #T_d9294594_cd28_11ea_8286_acde48001122row2_col3 {\n",
       "            background-color:  #f29094;\n",
       "            color:  #000000;\n",
       "        }    #T_d9294594_cd28_11ea_8286_acde48001122row2_col4 {\n",
       "            background-color:  #f9cdcf;\n",
       "            color:  #000000;\n",
       "        }    #T_d9294594_cd28_11ea_8286_acde48001122row2_col5 {\n",
       "            background-color:  #f29094;\n",
       "            color:  #000000;\n",
       "        }    #T_d9294594_cd28_11ea_8286_acde48001122row2_col6 {\n",
       "            background-color:  #fad5d6;\n",
       "            color:  #000000;\n",
       "        }</style><table id=\"T_d9294594_cd28_11ea_8286_acde48001122\" ><thead>    <tr>        <th class=\"blank level0\" ></th>        <th class=\"col_heading level0 col0\" >CAGR</th>        <th class=\"col_heading level0 col1\" >Volatility</th>        <th class=\"col_heading level0 col2\" >Sharpe</th>        <th class=\"col_heading level0 col3\" >Sortino</th>        <th class=\"col_heading level0 col4\" >Max DD</th>        <th class=\"col_heading level0 col5\" >MAR</th>        <th class=\"col_heading level0 col6\" >ES</th>    </tr></thead><tbody>\n",
       "                <tr>\n",
       "                        <th id=\"T_d9294594_cd28_11ea_8286_acde48001122level0_row0\" class=\"row_heading level0 row0\" >Portfolio</th>\n",
       "                        <td id=\"T_d9294594_cd28_11ea_8286_acde48001122row0_col0\" class=\"data row0 col0\" >7.84%</td>\n",
       "                        <td id=\"T_d9294594_cd28_11ea_8286_acde48001122row0_col1\" class=\"data row0 col1\" >11.80%</td>\n",
       "                        <td id=\"T_d9294594_cd28_11ea_8286_acde48001122row0_col2\" class=\"data row0 col2\" >0.660000</td>\n",
       "                        <td id=\"T_d9294594_cd28_11ea_8286_acde48001122row0_col3\" class=\"data row0 col3\" >0.870000</td>\n",
       "                        <td id=\"T_d9294594_cd28_11ea_8286_acde48001122row0_col4\" class=\"data row0 col4\" >-34.00%</td>\n",
       "                        <td id=\"T_d9294594_cd28_11ea_8286_acde48001122row0_col5\" class=\"data row0 col5\" >0.230000</td>\n",
       "                        <td id=\"T_d9294594_cd28_11ea_8286_acde48001122row0_col6\" class=\"data row0 col6\" >1.50%</td>\n",
       "            </tr>\n",
       "            <tr>\n",
       "                        <th id=\"T_d9294594_cd28_11ea_8286_acde48001122level0_row1\" class=\"row_heading level0 row1\" >SP500</th>\n",
       "                        <td id=\"T_d9294594_cd28_11ea_8286_acde48001122row1_col0\" class=\"data row1 col0\" >10.29%</td>\n",
       "                        <td id=\"T_d9294594_cd28_11ea_8286_acde48001122row1_col1\" class=\"data row1 col1\" >17.90%</td>\n",
       "                        <td id=\"T_d9294594_cd28_11ea_8286_acde48001122row1_col2\" class=\"data row1 col2\" >0.570000</td>\n",
       "                        <td id=\"T_d9294594_cd28_11ea_8286_acde48001122row1_col3\" class=\"data row1 col3\" >0.690000</td>\n",
       "                        <td id=\"T_d9294594_cd28_11ea_8286_acde48001122row1_col4\" class=\"data row1 col4\" >-55.00%</td>\n",
       "                        <td id=\"T_d9294594_cd28_11ea_8286_acde48001122row1_col5\" class=\"data row1 col5\" >0.190000</td>\n",
       "                        <td id=\"T_d9294594_cd28_11ea_8286_acde48001122row1_col6\" class=\"data row1 col6\" >2.30%</td>\n",
       "            </tr>\n",
       "            <tr>\n",
       "                        <th id=\"T_d9294594_cd28_11ea_8286_acde48001122level0_row2\" class=\"row_heading level0 row2\" >Gold</th>\n",
       "                        <td id=\"T_d9294594_cd28_11ea_8286_acde48001122row2_col0\" class=\"data row2 col0\" >4.12%</td>\n",
       "                        <td id=\"T_d9294594_cd28_11ea_8286_acde48001122row2_col1\" class=\"data row2 col1\" >15.60%</td>\n",
       "                        <td id=\"T_d9294594_cd28_11ea_8286_acde48001122row2_col2\" class=\"data row2 col2\" >0.260000</td>\n",
       "                        <td id=\"T_d9294594_cd28_11ea_8286_acde48001122row2_col3\" class=\"data row2 col3\" >0.340000</td>\n",
       "                        <td id=\"T_d9294594_cd28_11ea_8286_acde48001122row2_col4\" class=\"data row2 col4\" >-48.00%</td>\n",
       "                        <td id=\"T_d9294594_cd28_11ea_8286_acde48001122row2_col5\" class=\"data row2 col5\" >0.090000</td>\n",
       "                        <td id=\"T_d9294594_cd28_11ea_8286_acde48001122row2_col6\" class=\"data row2 col6\" >2.00%</td>\n",
       "            </tr>\n",
       "    </tbody></table>"
      ],
      "text/plain": [
       "<pandas.io.formats.style.Styler at 0x7fc3c971c210>"
      ]
     },
     "execution_count": 20,
     "metadata": {},
     "output_type": "execute_result"
    },
    {
     "data": {
      "image/png": "[encoded data removed]",
      "text/plain": [
       "<Figure size 1440x720 with 1 Axes>"
      ]
     },
     "metadata": {},
     "output_type": "display_data"
    }
   ],
   "source": [
    "sns.set_style(\"darkgrid\");\n",
    "plt.figure(figsize=(20,10));\n",
    "for i in result.columns:\n",
    "    plt.plot(np.log(result[i]), label = i);\n",
    "\n",
    "start = datetime.date(result.index.min());\n",
    "end = datetime.date(result.index.max());\n",
    "plt.legend(loc=2, prop={'size': 20});\n",
    "plt.title('Backtest from ' + str(start) + ' to ' + str(end), fontsize=20)\n",
    "plt.ylabel('Log Return', fontsize=18)\n",
    "plt.rc('xtick',labelsize=20)\n",
    "plt.rc('ytick',labelsize=20)\n",
    "\n",
    "strategy_evaluation(result, data_names, freq = 'D')\n"
   ]
  },
  {
   "cell_type": "code",
   "execution_count": 21,
   "metadata": {},
   "outputs": [
    {
     "data": {
      "text/html": [
       "<style  type=\"text/css\" >\n",
       "    #T_d959e672_cd28_11ea_8286_acde48001122 th {\n",
       "          font-size: 11px;\n",
       "          text-align: center;\n",
       "          font-weight: bold;\n",
       "          color: Black;\n",
       "          background-color: #f7f7f9;\n",
       "    }    #T_d959e672_cd28_11ea_8286_acde48001122 td {\n",
       "          font-size: 11px;\n",
       "          text-align: center;\n",
       "    }    #T_d959e672_cd28_11ea_8286_acde48001122row0_col0 {\n",
       "            background-color:  #f29094;\n",
       "            color:  #000000;\n",
       "        }    #T_d959e672_cd28_11ea_8286_acde48001122row0_col1 {\n",
       "            background-color:  #f7c0c3;\n",
       "            color:  #000000;\n",
       "        }    #T_d959e672_cd28_11ea_8286_acde48001122row0_col2 {\n",
       "            background-color:  #f9ccce;\n",
       "            color:  #000000;\n",
       "        }    #T_d959e672_cd28_11ea_8286_acde48001122row1_col0 {\n",
       "            background-color:  #91d7b9;\n",
       "            color:  #000000;\n",
       "        }    #T_d959e672_cd28_11ea_8286_acde48001122row1_col1 {\n",
       "            background-color:  #f29094;\n",
       "            color:  #000000;\n",
       "        }    #T_d959e672_cd28_11ea_8286_acde48001122row1_col2 {\n",
       "            background-color:  #4ebf8f;\n",
       "            color:  #000000;\n",
       "        }    #T_d959e672_cd28_11ea_8286_acde48001122row2_col0 {\n",
       "            background-color:  #4ebf8f;\n",
       "            color:  #000000;\n",
       "        }    #T_d959e672_cd28_11ea_8286_acde48001122row2_col1 {\n",
       "            background-color:  #4ebf8f;\n",
       "            color:  #000000;\n",
       "        }    #T_d959e672_cd28_11ea_8286_acde48001122row2_col2 {\n",
       "            background-color:  #f29094;\n",
       "            color:  #000000;\n",
       "        }</style><table id=\"T_d959e672_cd28_11ea_8286_acde48001122\" ><thead>    <tr>        <th class=\"blank level0\" ></th>        <th class=\"col_heading level0 col0\" >Portfolio</th>        <th class=\"col_heading level0 col1\" >SP500</th>        <th class=\"col_heading level0 col2\" >Gold</th>    </tr></thead><tbody>\n",
       "                <tr>\n",
       "                        <th id=\"T_d959e672_cd28_11ea_8286_acde48001122level0_row0\" class=\"row_heading level0 row0\" >Portfolio</th>\n",
       "                        <td id=\"T_d959e672_cd28_11ea_8286_acde48001122row0_col0\" class=\"data row0 col0\" >1.000000</td>\n",
       "                        <td id=\"T_d959e672_cd28_11ea_8286_acde48001122row0_col1\" class=\"data row0 col1\" >0.738951</td>\n",
       "                        <td id=\"T_d959e672_cd28_11ea_8286_acde48001122row0_col2\" class=\"data row0 col2\" >0.673930</td>\n",
       "            </tr>\n",
       "            <tr>\n",
       "                        <th id=\"T_d959e672_cd28_11ea_8286_acde48001122level0_row1\" class=\"row_heading level0 row1\" >SP500</th>\n",
       "                        <td id=\"T_d959e672_cd28_11ea_8286_acde48001122row1_col0\" class=\"data row1 col0\" >0.738951</td>\n",
       "                        <td id=\"T_d959e672_cd28_11ea_8286_acde48001122row1_col1\" class=\"data row1 col1\" >1.000000</td>\n",
       "                        <td id=\"T_d959e672_cd28_11ea_8286_acde48001122row1_col2\" class=\"data row1 col2\" >0.003478</td>\n",
       "            </tr>\n",
       "            <tr>\n",
       "                        <th id=\"T_d959e672_cd28_11ea_8286_acde48001122level0_row2\" class=\"row_heading level0 row2\" >Gold</th>\n",
       "                        <td id=\"T_d959e672_cd28_11ea_8286_acde48001122row2_col0\" class=\"data row2 col0\" >0.673930</td>\n",
       "                        <td id=\"T_d959e672_cd28_11ea_8286_acde48001122row2_col1\" class=\"data row2 col1\" >0.003478</td>\n",
       "                        <td id=\"T_d959e672_cd28_11ea_8286_acde48001122row2_col2\" class=\"data row2 col2\" >1.000000</td>\n",
       "            </tr>\n",
       "    </tbody></table>"
      ],
      "text/plain": [
       "<pandas.io.formats.style.Styler at 0x7fc3c9d02890>"
      ]
     },
     "execution_count": 21,
     "metadata": {},
     "output_type": "execute_result"
    }
   ],
   "source": [
    "correlation_map(result)"
   ]
  },
  {
   "cell_type": "code",
   "execution_count": 22,
   "metadata": {},
   "outputs": [
    {
     "data": {
      "text/plain": [
       "DatetimeIndex(['1988-01-04', '1988-01-05', '1988-01-06', '1988-01-07',\n",
       "               '1988-01-08', '1988-01-11', '1988-01-12', '1988-01-13',\n",
       "               '1988-01-14', '1988-01-15',\n",
       "               ...\n",
       "               '2020-07-10', '2020-07-13', '2020-07-14', '2020-07-15',\n",
       "               '2020-07-16', '2020-07-17', '2020-07-20', '2020-07-21',\n",
       "               '2020-07-22', '2020-07-23'],\n",
       "              dtype='datetime64[ns]', name='Date', length=8374, freq=None)"
      ]
     },
     "execution_count": 22,
     "metadata": {},
     "output_type": "execute_result"
    }
   ],
   "source": [
    "result.index"
   ]
  },
  {
   "cell_type": "code",
   "execution_count": null,
   "metadata": {},
   "outputs": [],
   "source": []
  }
 ],
 "metadata": {
  "kernelspec": {
   "display_name": "Python 3",
   "language": "python",
   "name": "python3"
  },
  "language_info": {
   "codemirror_mode": {
    "name": "ipython",
    "version": 3
   },
   "file_extension": ".py",
   "mimetype": "text/x-python",
   "name": "python",
   "nbconvert_exporter": "python",
   "pygments_lexer": "ipython3",
   "version": "3.7.6"
  }
 },
 "nbformat": 4,
 "nbformat_minor": 4
}
