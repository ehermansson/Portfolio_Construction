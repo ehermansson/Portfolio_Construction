{
 "cells": [
  {
   "cell_type": "code",
   "execution_count": 1,
   "metadata": {},
   "outputs": [],
   "source": [
    "import pandas as pd\n",
    "import numpy as np\n",
    "from datetime import datetime"
   ]
  },
  {
   "cell_type": "markdown",
   "metadata": {},
   "source": [
    "## Merging of price and reports\n",
    "\n",
    "TO DO:\n",
    "\n",
    "- why do I get INF values to some values?? Becuase some accounting variables is 0\n",
    "- I belive there are many missing FCF numbers, thats why the low efficacy.\n",
    "- Fix the warnings\n",
    "- add gross profit margin (gross profit/sales), what about the very large values??\n",
    "\n"
   ]
  },
  {
   "cell_type": "code",
   "execution_count": 63,
   "metadata": {
    "scrolled": true
   },
   "outputs": [],
   "source": [
    "price_df = pd.read_csv('data/SWE_PRICE_20YEAR.csv')\n",
    "price_df['d'] = pd.to_datetime(price_df['d'])\n",
    "price_df = price_df.set_index(['d', 'insID'])"
   ]
  },
  {
   "cell_type": "code",
   "execution_count": 64,
   "metadata": {},
   "outputs": [],
   "source": [
    "reports_df = pd.read_csv('data/SWE_REPORTS.csv')\n",
    "reports_df['d'] = pd.to_datetime(reports_df['d'])\n",
    "reports_df = reports_df.set_index(['d', 'insID'])"
   ]
  },
  {
   "cell_type": "code",
   "execution_count": 65,
   "metadata": {
    "scrolled": true
   },
   "outputs": [
    {
     "data": {
      "text/plain": [
       "Index(['broken_Fiscal_Year', 'cash_And_Equivalents', 'cash_Flow_For_The_Year',\n",
       "       'cash_Flow_From_Financing_Activities',\n",
       "       'cash_Flow_From_Investing_Activities',\n",
       "       'cash_Flow_From_Operating_Activities', 'currency', 'currency_Ratio',\n",
       "       'current_Assets', 'current_Liabilities', 'dividend',\n",
       "       'earnings_Per_Share', 'financial_Assets', 'free_Cash_Flow',\n",
       "       'gross_Income', 'intangible_Assets', 'net_Debt', 'net_Sales',\n",
       "       'non_Current_Assets', 'non_Current_Liabilities', 'number_Of_Shares',\n",
       "       'operating_Income', 'period', 'profit_Before_Tax',\n",
       "       'profit_To_Equity_Holders', 'report_Date', 'report_End_Date',\n",
       "       'report_Start_Date', 'revenues', 'stock_Price_Average',\n",
       "       'stock_Price_High', 'stock_Price_Low', 'tangible_Assets',\n",
       "       'total_Assets', 'total_Equity', 'total_Liabilities_And_Equity', 'year'],\n",
       "      dtype='object')"
      ]
     },
     "execution_count": 65,
     "metadata": {},
     "output_type": "execute_result"
    }
   ],
   "source": [
    "reports_df.columns"
   ]
  },
  {
   "cell_type": "code",
   "execution_count": 66,
   "metadata": {
    "scrolled": true
   },
   "outputs": [],
   "source": [
    "#left merge reports on price data\n",
    "complete_df =  price_df.join(reports_df, on=['d','insID'])\n",
    "\n",
    "\n",
    "## FORWARD FILL\n",
    "complete_df = complete_df.groupby(level='insID').ffill()\n",
    "complete_df =complete_df.groupby([complete_df.index.get_level_values(1), pd.Grouper(freq='m', level=0)]).last()\n",
    "complete_df = complete_df.swaplevel()\n"
   ]
  },
  {
   "cell_type": "code",
   "execution_count": 67,
   "metadata": {
    "scrolled": true
   },
   "outputs": [
    {
     "name": "stderr",
     "output_type": "stream",
     "text": [
      "/opt/anaconda3/lib/python3.7/site-packages/ipykernel_launcher.py:3: SettingWithCopyWarning: \n",
      "A value is trying to be set on a copy of a slice from a DataFrame.\n",
      "Try using .loc[row_indexer,col_indexer] = value instead\n",
      "\n",
      "See the caveats in the documentation: https://pandas.pydata.org/pandas-docs/stable/user_guide/indexing.html#returning-a-view-versus-a-copy\n",
      "  This is separate from the ipykernel package so we can avoid doing imports until\n",
      "/opt/anaconda3/lib/python3.7/site-packages/ipykernel_launcher.py:4: SettingWithCopyWarning: \n",
      "A value is trying to be set on a copy of a slice from a DataFrame.\n",
      "Try using .loc[row_indexer,col_indexer] = value instead\n",
      "\n",
      "See the caveats in the documentation: https://pandas.pydata.org/pandas-docs/stable/user_guide/indexing.html#returning-a-view-versus-a-copy\n",
      "  after removing the cwd from sys.path.\n"
     ]
    }
   ],
   "source": [
    "PFCF_df = complete_df[['cash_Flow_For_The_Year','c', 'number_Of_Shares']]\n",
    "#PFCF_df = PFCF_df.unstack(level ='insID').fillna(method ='ffill').stack(level ='insID')\n",
    "PFCF_df['fcf_per_share'] = PFCF_df['cash_Flow_For_The_Year']/PFCF_df['number_Of_Shares']\n",
    "PFCF_df['fcf_r12'] = PFCF_df['fcf_per_share'].groupby(level='insID').apply(lambda x: x.rolling(12).mean())\n"
   ]
  },
  {
   "cell_type": "markdown",
   "metadata": {},
   "source": [
    "### Extract convexity"
   ]
  },
  {
   "cell_type": "markdown",
   "metadata": {},
   "source": [
    "## TEST OF RESIDUAL MOMENTUM"
   ]
  },
  {
   "cell_type": "code",
   "execution_count": 111,
   "metadata": {},
   "outputs": [
    {
     "name": "stderr",
     "output_type": "stream",
     "text": [
      "/opt/anaconda3/lib/python3.7/site-packages/pandas/core/frame.py:9138: FutureWarning: merging between different levels is deprecated and will be removed in a future version. (2 levels on the left,1 on the right)\n",
      "  sort=sort,\n"
     ]
    }
   ],
   "source": [
    "res_tmp = pd.DataFrame(price_df['c'])\n",
    "res_tmp = res_tmp.unstack('insID')\n",
    "\n",
    "index_df = pd.read_csv('data/OMX_GI.csv')\n",
    "index_df['d'] = pd.to_datetime(index_df['d'])\n",
    "index_df = index_df.set_index(['d'])\n",
    "index_df = pd.DataFrame(index_df['c'])\n",
    "index_df = index_df.resample('m').last()\n",
    "index_df.columns = ['INDEX']\n",
    "\n",
    "res_tmp = res_tmp.join(index_df, on=['d'],how='left')\n",
    "\n",
    "res_log = np.log(res_tmp) - np.log(res_tmp.shift(1))\n",
    "res_log = res_log.loc[res_log['INDEX'].first_valid_index():,]\n",
    "\n",
    "\n"
   ]
  },
  {
   "cell_type": "code",
   "execution_count": 122,
   "metadata": {
    "scrolled": true
   },
   "outputs": [
    {
     "data": {
      "text/html": [
       "<div>\n",
       "<style scoped>\n",
       "    .dataframe tbody tr th:only-of-type {\n",
       "        vertical-align: middle;\n",
       "    }\n",
       "\n",
       "    .dataframe tbody tr th {\n",
       "        vertical-align: top;\n",
       "    }\n",
       "\n",
       "    .dataframe thead th {\n",
       "        text-align: right;\n",
       "    }\n",
       "</style>\n",
       "<table border=\"1\" class=\"dataframe\">\n",
       "  <thead>\n",
       "    <tr style=\"text-align: right;\">\n",
       "      <th></th>\n",
       "      <th>(c, 2)</th>\n",
       "      <th>(c, 3)</th>\n",
       "      <th>(c, 6)</th>\n",
       "      <th>(c, 7)</th>\n",
       "      <th>(c, 8)</th>\n",
       "      <th>(c, 10)</th>\n",
       "      <th>(c, 13)</th>\n",
       "      <th>(c, 14)</th>\n",
       "      <th>(c, 17)</th>\n",
       "      <th>(c, 18)</th>\n",
       "      <th>...</th>\n",
       "      <th>(c, 2329)</th>\n",
       "      <th>(c, 2330)</th>\n",
       "      <th>(c, 2331)</th>\n",
       "      <th>(c, 2332)</th>\n",
       "      <th>(c, 2335)</th>\n",
       "      <th>(c, 2336)</th>\n",
       "      <th>(c, 2346)</th>\n",
       "      <th>(c, 2347)</th>\n",
       "      <th>(c, 2359)</th>\n",
       "      <th>INDEX</th>\n",
       "    </tr>\n",
       "    <tr>\n",
       "      <th>d</th>\n",
       "      <th></th>\n",
       "      <th></th>\n",
       "      <th></th>\n",
       "      <th></th>\n",
       "      <th></th>\n",
       "      <th></th>\n",
       "      <th></th>\n",
       "      <th></th>\n",
       "      <th></th>\n",
       "      <th></th>\n",
       "      <th></th>\n",
       "      <th></th>\n",
       "      <th></th>\n",
       "      <th></th>\n",
       "      <th></th>\n",
       "      <th></th>\n",
       "      <th></th>\n",
       "      <th></th>\n",
       "      <th></th>\n",
       "      <th></th>\n",
       "      <th></th>\n",
       "    </tr>\n",
       "  </thead>\n",
       "  <tbody>\n",
       "    <tr>\n",
       "      <th>2002-03-31</th>\n",
       "      <td>NaN</td>\n",
       "      <td>0.083115</td>\n",
       "      <td>-0.040822</td>\n",
       "      <td>-0.294371</td>\n",
       "      <td>0.095302</td>\n",
       "      <td>NaN</td>\n",
       "      <td>0.163188</td>\n",
       "      <td>NaN</td>\n",
       "      <td>0.037180</td>\n",
       "      <td>-0.034355</td>\n",
       "      <td>...</td>\n",
       "      <td>NaN</td>\n",
       "      <td>NaN</td>\n",
       "      <td>NaN</td>\n",
       "      <td>NaN</td>\n",
       "      <td>NaN</td>\n",
       "      <td>NaN</td>\n",
       "      <td>NaN</td>\n",
       "      <td>NaN</td>\n",
       "      <td>NaN</td>\n",
       "      <td>0.019856</td>\n",
       "    </tr>\n",
       "    <tr>\n",
       "      <th>2002-04-30</th>\n",
       "      <td>NaN</td>\n",
       "      <td>0.126606</td>\n",
       "      <td>-0.133531</td>\n",
       "      <td>-0.504137</td>\n",
       "      <td>-0.133524</td>\n",
       "      <td>NaN</td>\n",
       "      <td>-0.176656</td>\n",
       "      <td>NaN</td>\n",
       "      <td>-0.029633</td>\n",
       "      <td>-0.066223</td>\n",
       "      <td>...</td>\n",
       "      <td>NaN</td>\n",
       "      <td>NaN</td>\n",
       "      <td>NaN</td>\n",
       "      <td>NaN</td>\n",
       "      <td>NaN</td>\n",
       "      <td>NaN</td>\n",
       "      <td>NaN</td>\n",
       "      <td>NaN</td>\n",
       "      <td>NaN</td>\n",
       "      <td>-0.096233</td>\n",
       "    </tr>\n",
       "    <tr>\n",
       "      <th>2002-05-31</th>\n",
       "      <td>NaN</td>\n",
       "      <td>-0.038573</td>\n",
       "      <td>-0.154152</td>\n",
       "      <td>-0.628609</td>\n",
       "      <td>0.040709</td>\n",
       "      <td>NaN</td>\n",
       "      <td>-0.270875</td>\n",
       "      <td>NaN</td>\n",
       "      <td>-0.003765</td>\n",
       "      <td>-0.109519</td>\n",
       "      <td>...</td>\n",
       "      <td>NaN</td>\n",
       "      <td>NaN</td>\n",
       "      <td>NaN</td>\n",
       "      <td>NaN</td>\n",
       "      <td>NaN</td>\n",
       "      <td>NaN</td>\n",
       "      <td>NaN</td>\n",
       "      <td>NaN</td>\n",
       "      <td>NaN</td>\n",
       "      <td>-0.077751</td>\n",
       "    </tr>\n",
       "    <tr>\n",
       "      <th>2002-06-30</th>\n",
       "      <td>NaN</td>\n",
       "      <td>-0.088033</td>\n",
       "      <td>-0.149532</td>\n",
       "      <td>-0.260283</td>\n",
       "      <td>-0.094066</td>\n",
       "      <td>0.021979</td>\n",
       "      <td>-0.280302</td>\n",
       "      <td>NaN</td>\n",
       "      <td>-0.022902</td>\n",
       "      <td>-0.123005</td>\n",
       "      <td>...</td>\n",
       "      <td>NaN</td>\n",
       "      <td>NaN</td>\n",
       "      <td>NaN</td>\n",
       "      <td>NaN</td>\n",
       "      <td>NaN</td>\n",
       "      <td>NaN</td>\n",
       "      <td>NaN</td>\n",
       "      <td>NaN</td>\n",
       "      <td>NaN</td>\n",
       "      <td>-0.082061</td>\n",
       "    </tr>\n",
       "    <tr>\n",
       "      <th>2002-07-31</th>\n",
       "      <td>NaN</td>\n",
       "      <td>-0.468776</td>\n",
       "      <td>-0.255931</td>\n",
       "      <td>-0.209721</td>\n",
       "      <td>-0.147303</td>\n",
       "      <td>-0.204300</td>\n",
       "      <td>0.084558</td>\n",
       "      <td>NaN</td>\n",
       "      <td>-0.163200</td>\n",
       "      <td>-0.107690</td>\n",
       "      <td>...</td>\n",
       "      <td>NaN</td>\n",
       "      <td>NaN</td>\n",
       "      <td>NaN</td>\n",
       "      <td>NaN</td>\n",
       "      <td>NaN</td>\n",
       "      <td>NaN</td>\n",
       "      <td>NaN</td>\n",
       "      <td>NaN</td>\n",
       "      <td>NaN</td>\n",
       "      <td>-0.116014</td>\n",
       "    </tr>\n",
       "    <tr>\n",
       "      <th>...</th>\n",
       "      <td>...</td>\n",
       "      <td>...</td>\n",
       "      <td>...</td>\n",
       "      <td>...</td>\n",
       "      <td>...</td>\n",
       "      <td>...</td>\n",
       "      <td>...</td>\n",
       "      <td>...</td>\n",
       "      <td>...</td>\n",
       "      <td>...</td>\n",
       "      <td>...</td>\n",
       "      <td>...</td>\n",
       "      <td>...</td>\n",
       "      <td>...</td>\n",
       "      <td>...</td>\n",
       "      <td>...</td>\n",
       "      <td>...</td>\n",
       "      <td>...</td>\n",
       "      <td>...</td>\n",
       "      <td>...</td>\n",
       "      <td>...</td>\n",
       "    </tr>\n",
       "    <tr>\n",
       "      <th>2021-10-31</th>\n",
       "      <td>-0.005578</td>\n",
       "      <td>-0.035978</td>\n",
       "      <td>-0.071780</td>\n",
       "      <td>0.022761</td>\n",
       "      <td>0.207639</td>\n",
       "      <td>0.112426</td>\n",
       "      <td>-0.082238</td>\n",
       "      <td>0.177681</td>\n",
       "      <td>-0.016562</td>\n",
       "      <td>0.011114</td>\n",
       "      <td>...</td>\n",
       "      <td>NaN</td>\n",
       "      <td>NaN</td>\n",
       "      <td>NaN</td>\n",
       "      <td>NaN</td>\n",
       "      <td>NaN</td>\n",
       "      <td>NaN</td>\n",
       "      <td>NaN</td>\n",
       "      <td>NaN</td>\n",
       "      <td>NaN</td>\n",
       "      <td>0.021154</td>\n",
       "    </tr>\n",
       "    <tr>\n",
       "      <th>2021-11-30</th>\n",
       "      <td>-0.035520</td>\n",
       "      <td>0.095342</td>\n",
       "      <td>0.000000</td>\n",
       "      <td>0.041328</td>\n",
       "      <td>0.070381</td>\n",
       "      <td>-0.049049</td>\n",
       "      <td>-0.101041</td>\n",
       "      <td>-0.017596</td>\n",
       "      <td>0.009104</td>\n",
       "      <td>-0.064214</td>\n",
       "      <td>...</td>\n",
       "      <td>NaN</td>\n",
       "      <td>NaN</td>\n",
       "      <td>NaN</td>\n",
       "      <td>NaN</td>\n",
       "      <td>NaN</td>\n",
       "      <td>NaN</td>\n",
       "      <td>NaN</td>\n",
       "      <td>NaN</td>\n",
       "      <td>NaN</td>\n",
       "      <td>-0.019449</td>\n",
       "    </tr>\n",
       "    <tr>\n",
       "      <th>2021-12-31</th>\n",
       "      <td>0.075211</td>\n",
       "      <td>0.100739</td>\n",
       "      <td>-0.020361</td>\n",
       "      <td>0.146603</td>\n",
       "      <td>0.047402</td>\n",
       "      <td>0.040033</td>\n",
       "      <td>-0.088580</td>\n",
       "      <td>0.078494</td>\n",
       "      <td>0.084579</td>\n",
       "      <td>0.059708</td>\n",
       "      <td>...</td>\n",
       "      <td>NaN</td>\n",
       "      <td>NaN</td>\n",
       "      <td>NaN</td>\n",
       "      <td>NaN</td>\n",
       "      <td>NaN</td>\n",
       "      <td>NaN</td>\n",
       "      <td>NaN</td>\n",
       "      <td>NaN</td>\n",
       "      <td>NaN</td>\n",
       "      <td>0.076440</td>\n",
       "    </tr>\n",
       "    <tr>\n",
       "      <th>2022-01-31</th>\n",
       "      <td>-0.116344</td>\n",
       "      <td>-0.080139</td>\n",
       "      <td>-0.113835</td>\n",
       "      <td>-0.175353</td>\n",
       "      <td>-0.239480</td>\n",
       "      <td>-0.156853</td>\n",
       "      <td>0.139011</td>\n",
       "      <td>0.040734</td>\n",
       "      <td>-0.087736</td>\n",
       "      <td>0.017350</td>\n",
       "      <td>...</td>\n",
       "      <td>-0.234187</td>\n",
       "      <td>-0.175389</td>\n",
       "      <td>-0.235722</td>\n",
       "      <td>-0.049881</td>\n",
       "      <td>-0.614184</td>\n",
       "      <td>0.047429</td>\n",
       "      <td>0.051101</td>\n",
       "      <td>-0.385921</td>\n",
       "      <td>NaN</td>\n",
       "      <td>-0.055036</td>\n",
       "    </tr>\n",
       "    <tr>\n",
       "      <th>2022-02-28</th>\n",
       "      <td>0.030310</td>\n",
       "      <td>0.025396</td>\n",
       "      <td>0.014085</td>\n",
       "      <td>0.054067</td>\n",
       "      <td>0.068208</td>\n",
       "      <td>0.004804</td>\n",
       "      <td>-0.002736</td>\n",
       "      <td>0.049190</td>\n",
       "      <td>0.011788</td>\n",
       "      <td>-0.008171</td>\n",
       "      <td>...</td>\n",
       "      <td>-0.011246</td>\n",
       "      <td>-0.039635</td>\n",
       "      <td>0.025001</td>\n",
       "      <td>-0.016000</td>\n",
       "      <td>0.000000</td>\n",
       "      <td>0.018894</td>\n",
       "      <td>-0.049079</td>\n",
       "      <td>-0.006473</td>\n",
       "      <td>-0.007605</td>\n",
       "      <td>-0.005469</td>\n",
       "    </tr>\n",
       "  </tbody>\n",
       "</table>\n",
       "<p>240 rows × 788 columns</p>\n",
       "</div>"
      ],
      "text/plain": [
       "              (c, 2)    (c, 3)    (c, 6)    (c, 7)    (c, 8)   (c, 10)  \\\n",
       "d                                                                        \n",
       "2002-03-31       NaN  0.083115 -0.040822 -0.294371  0.095302       NaN   \n",
       "2002-04-30       NaN  0.126606 -0.133531 -0.504137 -0.133524       NaN   \n",
       "2002-05-31       NaN -0.038573 -0.154152 -0.628609  0.040709       NaN   \n",
       "2002-06-30       NaN -0.088033 -0.149532 -0.260283 -0.094066  0.021979   \n",
       "2002-07-31       NaN -0.468776 -0.255931 -0.209721 -0.147303 -0.204300   \n",
       "...              ...       ...       ...       ...       ...       ...   \n",
       "2021-10-31 -0.005578 -0.035978 -0.071780  0.022761  0.207639  0.112426   \n",
       "2021-11-30 -0.035520  0.095342  0.000000  0.041328  0.070381 -0.049049   \n",
       "2021-12-31  0.075211  0.100739 -0.020361  0.146603  0.047402  0.040033   \n",
       "2022-01-31 -0.116344 -0.080139 -0.113835 -0.175353 -0.239480 -0.156853   \n",
       "2022-02-28  0.030310  0.025396  0.014085  0.054067  0.068208  0.004804   \n",
       "\n",
       "             (c, 13)   (c, 14)   (c, 17)   (c, 18)  ...  (c, 2329)  (c, 2330)  \\\n",
       "d                                                   ...                         \n",
       "2002-03-31  0.163188       NaN  0.037180 -0.034355  ...        NaN        NaN   \n",
       "2002-04-30 -0.176656       NaN -0.029633 -0.066223  ...        NaN        NaN   \n",
       "2002-05-31 -0.270875       NaN -0.003765 -0.109519  ...        NaN        NaN   \n",
       "2002-06-30 -0.280302       NaN -0.022902 -0.123005  ...        NaN        NaN   \n",
       "2002-07-31  0.084558       NaN -0.163200 -0.107690  ...        NaN        NaN   \n",
       "...              ...       ...       ...       ...  ...        ...        ...   \n",
       "2021-10-31 -0.082238  0.177681 -0.016562  0.011114  ...        NaN        NaN   \n",
       "2021-11-30 -0.101041 -0.017596  0.009104 -0.064214  ...        NaN        NaN   \n",
       "2021-12-31 -0.088580  0.078494  0.084579  0.059708  ...        NaN        NaN   \n",
       "2022-01-31  0.139011  0.040734 -0.087736  0.017350  ...  -0.234187  -0.175389   \n",
       "2022-02-28 -0.002736  0.049190  0.011788 -0.008171  ...  -0.011246  -0.039635   \n",
       "\n",
       "            (c, 2331)  (c, 2332)  (c, 2335)  (c, 2336)  (c, 2346)  (c, 2347)  \\\n",
       "d                                                                              \n",
       "2002-03-31        NaN        NaN        NaN        NaN        NaN        NaN   \n",
       "2002-04-30        NaN        NaN        NaN        NaN        NaN        NaN   \n",
       "2002-05-31        NaN        NaN        NaN        NaN        NaN        NaN   \n",
       "2002-06-30        NaN        NaN        NaN        NaN        NaN        NaN   \n",
       "2002-07-31        NaN        NaN        NaN        NaN        NaN        NaN   \n",
       "...               ...        ...        ...        ...        ...        ...   \n",
       "2021-10-31        NaN        NaN        NaN        NaN        NaN        NaN   \n",
       "2021-11-30        NaN        NaN        NaN        NaN        NaN        NaN   \n",
       "2021-12-31        NaN        NaN        NaN        NaN        NaN        NaN   \n",
       "2022-01-31  -0.235722  -0.049881  -0.614184   0.047429   0.051101  -0.385921   \n",
       "2022-02-28   0.025001  -0.016000   0.000000   0.018894  -0.049079  -0.006473   \n",
       "\n",
       "            (c, 2359)     INDEX  \n",
       "d                                \n",
       "2002-03-31        NaN  0.019856  \n",
       "2002-04-30        NaN -0.096233  \n",
       "2002-05-31        NaN -0.077751  \n",
       "2002-06-30        NaN -0.082061  \n",
       "2002-07-31        NaN -0.116014  \n",
       "...               ...       ...  \n",
       "2021-10-31        NaN  0.021154  \n",
       "2021-11-30        NaN -0.019449  \n",
       "2021-12-31        NaN  0.076440  \n",
       "2022-01-31        NaN -0.055036  \n",
       "2022-02-28  -0.007605 -0.005469  \n",
       "\n",
       "[240 rows x 788 columns]"
      ]
     },
     "execution_count": 122,
     "metadata": {},
     "output_type": "execute_result"
    }
   ],
   "source": [
    "res_log"
   ]
  },
  {
   "cell_type": "code",
   "execution_count": 123,
   "metadata": {
    "scrolled": false
   },
   "outputs": [
    {
     "name": "stderr",
     "output_type": "stream",
     "text": [
      "/opt/anaconda3/lib/python3.7/site-packages/statsmodels/regression/rolling.py:255: RuntimeWarning: divide by zero encountered in double_scalars\n",
      "  s2 = ssr / (nobs - tot_params)\n",
      "/opt/anaconda3/lib/python3.7/site-packages/statsmodels/regression/rolling.py:272: RuntimeWarning: divide by zero encountered in log\n",
      "  llf = -np.log(ssr) * nobs2  # concentrated likelihood\n",
      "/opt/anaconda3/lib/python3.7/site-packages/statsmodels/regression/rolling.py:255: RuntimeWarning: invalid value encountered in double_scalars\n",
      "  s2 = ssr / (nobs - tot_params)\n",
      "/opt/anaconda3/lib/python3.7/site-packages/pandas/core/indexing.py:1667: PerformanceWarning: DataFrame is highly fragmented.  This is usually the result of calling `frame.insert` many times, which has poor performance.  Consider joining all columns at once using pd.concat(axis=1) instead.  To get a de-fragmented frame, use `newframe = frame.copy()`\n",
      "  self.obj[key] = value\n"
     ]
    }
   ],
   "source": [
    "from statsmodels.regression.rolling import RollingOLS\n",
    "import statsmodels.api as sm\n",
    "\n",
    "\n",
    "res_tmp = pd.DataFrame(price_df['c'])\n",
    "res_tmp =res_tmp.groupby([res_tmp.index.get_level_values(1), pd.Grouper(freq='m', level=0)]).last()\n",
    "res_tmp = res_tmp.unstack('insID')\n",
    "res_tmp.columns = res_tmp.columns.get_level_values(1)\n",
    "\n",
    "index_df = pd.read_csv('data/OMX_GI.csv')\n",
    "index_df['d'] = pd.to_datetime(index_df['d'])\n",
    "index_df = index_df.set_index(['d'])\n",
    "index_df = pd.DataFrame(index_df['c'])\n",
    "index_df = index_df.resample('m').last()\n",
    "index_df.columns = ['INDEX']\n",
    "\n",
    "res_tmp = res_tmp.join(index_df, on=['d'],how='left')\n",
    "\n",
    "res_log = np.log(res_tmp) - np.log(res_tmp.shift(1))\n",
    "res_log = res_log.loc[res_log['INDEX'].first_valid_index():,]\n",
    "\n",
    "\n",
    "norm_res_df = pd.DataFrame()\n",
    "ido_mom_df = pd.DataFrame()\n",
    "\n",
    "\n",
    "for col in res_log.columns:\n",
    "    try:\n",
    "        X = sm.add_constant(res_log['INDEX'])\n",
    "        Y = res_log[col]\n",
    "        mod = RollingOLS(endog=Y, exog=X, window=36).fit(cov_type='HCO')\n",
    "        Y_hat = mod.params['const'] + mod.params['INDEX']*res_log['INDEX']\n",
    "        ind_residual = Y - Y_hat\n",
    "        \n",
    "        #HANDLE OUTLIERS??\n",
    "        norm_res_df.loc[:,col] = ind_residual.rolling(12).mean()/ind_residual.rolling(12).std()\n",
    "        ido_mom_df.loc[:,col] = ind_residual.rolling(12).mean()\n",
    "        \n",
    "    except:\n",
    "        print(\"Error: \", col)\n",
    "        norm_res_df.loc[:,col] = np.nan\n",
    "        ido_mom_df.loc[:,col] = np.nan\n",
    "        \n",
    "\n",
    "temp_price_df  = pd.DataFrame(price_df['c'])\n",
    "\n",
    "\n",
    "norm_res_df = norm_res_df.drop([\"INDEX\"], axis=1)       \n",
    "norm_res_df['res_mom12'] = 'res_mom12'\n",
    "norm_res_df = norm_res_df.set_index('res_mom12', append=True).unstack('res_mom12')\n",
    "norm_res_df.columns = norm_res_df.columns.set_names(['insID', 'res_mom12'])\n",
    "norm_res_df = norm_res_df.stack('insID')\n",
    "norm_res_df.columns = norm_res_df.columns.set_names(None)\n",
    "norm_res_df = temp_price_df.merge(norm_res_df, on = ['insID', 'd'], how=\"outer\").swaplevel().sort_index()\n",
    "norm_res_df = norm_res_df.groupby('insID').ffill()\n",
    "norm_res_df = norm_res_df.unstack(level ='d').fillna(norm_res_df.unstack(level ='d').median()).stack(level ='d')\n",
    "norm_res_df = pd.DataFrame(norm_res_df[['res_mom12']])\n",
    "\n",
    "\n",
    "ido_mom_df = ido_mom_df.drop([\"INDEX\"], axis=1)       \n",
    "ido_mom_df['ido_mom12'] = 'ido_mom12'\n",
    "ido_mom_df = ido_mom_df.set_index('ido_mom12', append=True).unstack('ido_mom12')\n",
    "ido_mom_df.columns = ido_mom_df.columns.set_names(['insID', 'ido_mom12'])\n",
    "ido_mom_df = ido_mom_df.stack('insID')\n",
    "ido_mom_df.columns = ido_mom_df.columns.set_names(None)\n",
    "ido_mom_df = temp_price_df.merge(ido_mom_df, on = ['insID', 'd'], how=\"outer\").swaplevel().sort_index()\n",
    "ido_mom_df = ido_mom_df.groupby('insID').ffill()\n",
    "ido_mom_df = ido_mom_df.unstack(level ='d').fillna(ido_mom_df.unstack(level ='d').median()).stack(level ='d')\n",
    "ido_mom_df = pd.DataFrame(ido_mom_df[['ido_mom12']])\n"
   ]
  },
  {
   "cell_type": "code",
   "execution_count": 124,
   "metadata": {
    "scrolled": true
   },
   "outputs": [],
   "source": [
    "### 12 Month Alpha and Beta\n",
    "res_tmp = pd.DataFrame(price_df['c'])\n",
    "res_tmp =res_tmp.groupby([res_tmp.index.get_level_values(1), pd.Grouper(freq='m', level=0)]).last()\n",
    "res_tmp = res_tmp.unstack('insID')\n",
    "res_tmp.columns = res_tmp.columns.get_level_values(1)\n",
    "\n",
    "index_df = pd.read_csv('data/OMX_GI.csv')\n",
    "index_df['d'] = pd.to_datetime(index_df['d'])\n",
    "index_df = index_df.set_index(['d'])\n",
    "index_df = pd.DataFrame(index_df['c'])\n",
    "index_df = index_df.resample('m').last()\n",
    "index_df.columns = ['INDEX']\n",
    "\n",
    "res_tmp = res_tmp.join(index_df, on=['d'],how='left')\n",
    "\n",
    "res_log = np.log(res_tmp) - np.log(res_tmp.shift(1))\n",
    "res_log = res_log.loc[res_log['INDEX'].first_valid_index():,]\n",
    "\n",
    "\n",
    "alpha_df = pd.DataFrame()\n",
    "beta_df = pd.DataFrame()\n",
    "\n",
    "\n",
    "for col in res_log.columns:\n",
    "    try:\n",
    "        X = sm.add_constant(res_log['INDEX'])\n",
    "        Y = res_log[col]\n",
    "        mod = RollingOLS(endog=Y, exog=X, window=36).fit(cov_type='HCO')\n",
    "        \n",
    "        alpha = mod.params['const']\n",
    "        beta = mod.params['INDEX']\n",
    "        \n",
    "        alpha_df.loc[:,col] = alpha\n",
    "        beta_df.loc[:,col] = beta\n",
    "  \n",
    "        \n",
    "    except:\n",
    "        #print(\"Error: \", col)\n",
    "        alpha_df.loc[:,col] = np.nan\n",
    "        beta_df.loc[:,col] = np.nan\n",
    "\n",
    "        \n",
    "#### FORMAT DATA FRAMES\n",
    "temp_price_df  = pd.DataFrame(price_df['c'])\n",
    "\n",
    "alpha_df = alpha_df.drop([\"INDEX\"], axis=1)       \n",
    "alpha_df['alpha'] = 'alpha'\n",
    "alpha_df = alpha_df.set_index('alpha', append=True).unstack('alpha')\n",
    "alpha_df.columns = alpha_df.columns.set_names(['insID', 'alpha'])\n",
    "alpha_df = alpha_df.stack('insID')\n",
    "alpha_df.columns = alpha_df.columns.set_names(None)\n",
    "alpha_df = temp_price_df.merge(alpha_df, on = ['insID', 'd'], how=\"outer\").swaplevel().sort_index()\n",
    "alpha_df = alpha_df.groupby('insID').ffill()\n",
    "alpha_df = alpha_df.unstack(level ='d').fillna(alpha_df.unstack(level ='d').median()).stack(level ='d')\n",
    "alpha_df['volatility'] = alpha_df['c'].pct_change().groupby(level='insID').apply(lambda x: x.rolling(252).std()*252**0.5)\n",
    "alpha_df = alpha_df.groupby(level='insID').apply(\n",
    "    lambda x: x.assign(std_alpha = x.alpha/x.volatility))\n",
    "\n",
    "alpha_df = pd.DataFrame(alpha_df[['alpha','std_alpha']])\n",
    "\n",
    "\n",
    "beta_df = beta_df.drop([\"INDEX\"], axis=1)       \n",
    "beta_df['beta'] = 'beta'\n",
    "beta_df = beta_df.set_index('beta', append=True).unstack('beta')\n",
    "beta_df.columns = beta_df.columns.set_names(['insID', 'beta'])\n",
    "beta_df = beta_df.stack('insID')\n",
    "beta_df.columns = beta_df.columns.set_names(None)\n",
    "beta_df = temp_price_df.merge(beta_df, on = ['insID', 'd'], how=\"outer\").swaplevel().sort_index()\n",
    "beta_df = beta_df.groupby('insID').ffill()\n",
    "beta_df = beta_df.unstack(level ='d').fillna(beta_df.unstack(level ='d').median()).stack(level ='d')\n",
    "beta_df = pd.DataFrame(beta_df[['beta']])"
   ]
  },
  {
   "cell_type": "markdown",
   "metadata": {},
   "source": [
    "## All Around Metrics"
   ]
  },
  {
   "cell_type": "code",
   "execution_count": 70,
   "metadata": {},
   "outputs": [],
   "source": [
    "#Market Cap\n",
    "mcap_df = complete_df[['c','number_Of_Shares']]\n",
    "#mcap_df = mcap_df.unstack(level ='insID').fillna(method ='ffill').stack(level ='insID')\n",
    "\n",
    "### Backwardsfill missing numbers of shares\n",
    "mcap_df = mcap_df.unstack(level ='insID').fillna(method ='bfill').stack(level ='insID')\n",
    "\n",
    "####\n",
    "\n",
    "mcap_df['MCAP'] = mcap_df['c'] * mcap_df['number_Of_Shares']\n",
    "mcap_df = mcap_df.sort_index() "
   ]
  },
  {
   "cell_type": "code",
   "execution_count": 71,
   "metadata": {},
   "outputs": [
    {
     "name": "stderr",
     "output_type": "stream",
     "text": [
      "/opt/anaconda3/lib/python3.7/site-packages/ipykernel_launcher.py:3: SettingWithCopyWarning: \n",
      "A value is trying to be set on a copy of a slice from a DataFrame.\n",
      "Try using .loc[row_indexer,col_indexer] = value instead\n",
      "\n",
      "See the caveats in the documentation: https://pandas.pydata.org/pandas-docs/stable/user_guide/indexing.html#returning-a-view-versus-a-copy\n",
      "  This is separate from the ipykernel package so we can avoid doing imports until\n",
      "/opt/anaconda3/lib/python3.7/site-packages/ipykernel_launcher.py:4: SettingWithCopyWarning: \n",
      "A value is trying to be set on a copy of a slice from a DataFrame.\n",
      "Try using .loc[row_indexer,col_indexer] = value instead\n",
      "\n",
      "See the caveats in the documentation: https://pandas.pydata.org/pandas-docs/stable/user_guide/indexing.html#returning-a-view-versus-a-copy\n",
      "  after removing the cwd from sys.path.\n",
      "/opt/anaconda3/lib/python3.7/site-packages/ipykernel_launcher.py:6: SettingWithCopyWarning: \n",
      "A value is trying to be set on a copy of a slice from a DataFrame.\n",
      "Try using .loc[row_indexer,col_indexer] = value instead\n",
      "\n",
      "See the caveats in the documentation: https://pandas.pydata.org/pandas-docs/stable/user_guide/indexing.html#returning-a-view-versus-a-copy\n",
      "  \n"
     ]
    }
   ],
   "source": [
    "volume_df = complete_df[['c', 'v', 'number_Of_Shares']]\n",
    "#volume_df = volume_df.unstack(level ='insID').fillna(method ='ffill').stack(level ='insID')\n",
    "volume_df['MCAP'] = volume_df['c'] * volume_df['number_Of_Shares']\n",
    "volume_df['VOLUME'] = volume_df['c'] * volume_df['v']\n",
    "\n",
    "volume_df['MA3_VOL'] = volume_df['VOLUME'].groupby(level='insID').apply(lambda x: x.rolling(3).mean())\n",
    "volume_df = volume_df.unstack(level ='d').fillna(volume_df.unstack(level ='d').median()).stack(level ='d')\n",
    "volume_df = volume_df[['MA3_VOL']]\n",
    "volume_df = volume_df.sort_index()"
   ]
  },
  {
   "cell_type": "code",
   "execution_count": 72,
   "metadata": {
    "scrolled": true
   },
   "outputs": [
    {
     "name": "stderr",
     "output_type": "stream",
     "text": [
      "/opt/anaconda3/lib/python3.7/site-packages/pandas/core/indexing.py:1817: SettingWithCopyWarning: \n",
      "A value is trying to be set on a copy of a slice from a DataFrame.\n",
      "Try using .loc[row_indexer,col_indexer] = value instead\n",
      "\n",
      "See the caveats in the documentation: https://pandas.pydata.org/pandas-docs/stable/user_guide/indexing.html#returning-a-view-versus-a-copy\n",
      "  self._setitem_single_column(loc, value, pi)\n",
      "/opt/anaconda3/lib/python3.7/site-packages/ipykernel_launcher.py:4: SettingWithCopyWarning: \n",
      "A value is trying to be set on a copy of a slice from a DataFrame.\n",
      "Try using .loc[row_indexer,col_indexer] = value instead\n",
      "\n",
      "See the caveats in the documentation: https://pandas.pydata.org/pandas-docs/stable/user_guide/indexing.html#returning-a-view-versus-a-copy\n",
      "  after removing the cwd from sys.path.\n"
     ]
    }
   ],
   "source": [
    "#Cumulative dividends\n",
    "div_adj_df = complete_df[['dividend', 'c']]\n",
    "div_adj_df.loc[div_adj_df['dividend'].isna(),['dividend']] = 0\n",
    "div_adj_df['rol_div'] = div_adj_df['dividend'].groupby(level='insID').apply(lambda x: x.rolling(12).mean())\n",
    "div_adj_df.loc[div_adj_df['rol_div'].isna(),['rol_div']] = 0\n",
    "\n",
    "div_adj_df = div_adj_df.groupby(level='insID').apply(\n",
    "    lambda x: x.assign(day_div = x.rol_div/12))\n",
    "\n",
    "div_adj_df['cum_day_div'] = div_adj_df['day_div'].groupby(level='insID').cumsum()\n",
    "div_adj_df = div_adj_df.groupby(level='insID').apply(\n",
    "    lambda x: x.assign(adj_c = x.c+ x.cum_day_div))\n",
    "\n",
    "div_adj_df = div_adj_df['adj_c']"
   ]
  },
  {
   "cell_type": "code",
   "execution_count": 73,
   "metadata": {},
   "outputs": [],
   "source": [
    "#rename lists and sectors"
   ]
  },
  {
   "cell_type": "code",
   "execution_count": 74,
   "metadata": {},
   "outputs": [
    {
     "name": "stderr",
     "output_type": "stream",
     "text": [
      "/opt/anaconda3/lib/python3.7/site-packages/ipykernel_launcher.py:4: SettingWithCopyWarning: \n",
      "A value is trying to be set on a copy of a slice from a DataFrame.\n",
      "Try using .loc[row_indexer,col_indexer] = value instead\n",
      "\n",
      "See the caveats in the documentation: https://pandas.pydata.org/pandas-docs/stable/user_guide/indexing.html#returning-a-view-versus-a-copy\n",
      "  after removing the cwd from sys.path.\n",
      "/opt/anaconda3/lib/python3.7/site-packages/pandas/core/indexing.py:1667: SettingWithCopyWarning: \n",
      "A value is trying to be set on a copy of a slice from a DataFrame.\n",
      "Try using .loc[row_indexer,col_indexer] = value instead\n",
      "\n",
      "See the caveats in the documentation: https://pandas.pydata.org/pandas-docs/stable/user_guide/indexing.html#returning-a-view-versus-a-copy\n",
      "  self.obj[key] = value\n",
      "/opt/anaconda3/lib/python3.7/site-packages/pandas/core/indexing.py:1773: SettingWithCopyWarning: \n",
      "A value is trying to be set on a copy of a slice from a DataFrame.\n",
      "Try using .loc[row_indexer,col_indexer] = value instead\n",
      "\n",
      "See the caveats in the documentation: https://pandas.pydata.org/pandas-docs/stable/user_guide/indexing.html#returning-a-view-versus-a-copy\n",
      "  self._setitem_single_column(ilocs[0], value, pi)\n"
     ]
    }
   ],
   "source": [
    "list_sector_df = complete_df[['Name','sectorId', 'marketId']]\n",
    "\n",
    "\n",
    "list_sector_df['sector'] = np.nan\n",
    "list_sector_df.loc[: , 'market']= list_sector_df['marketId'].replace({1: 'Large_Cap', 2: 'Mid_Cap',\n",
    "                                                               3: 'Small_Cap', 4: 'First_North'})\n",
    "\n",
    "list_sector_df.loc[: , 'sector']= list_sector_df['sectorId'].replace({1: 'finance_RE', 2: 'consumer_goods',\n",
    "                                                               3: 'energy', 4: 'healthcare',\n",
    "                                                                     5: 'industry', 6:'info_tech',\n",
    "                                                                     7:'material', 8:'consumer_discretionary',\n",
    "                                                                     9:'telecom', 10:'infrastructure'})\n",
    "\n",
    "\n",
    "\n",
    "list_sector_df = list_sector_df[['Name','sector', 'market']]"
   ]
  },
  {
   "cell_type": "markdown",
   "metadata": {},
   "source": [
    "## Calculate EAR and SUE seperatly"
   ]
  },
  {
   "cell_type": "code",
   "execution_count": 75,
   "metadata": {},
   "outputs": [],
   "source": [
    "EAR_date_df = pd.DataFrame(reports_df['report_Date'])\n",
    "EAR_date_df['EA_ind'] = 1\n",
    "EAR_date_df = price_df.join(EAR_date_df, on=['d','insID'])[['c','EA_ind' ]]\n",
    "EAR_date_df['EA_plus'] = EAR_date_df['EA_ind'].groupby(level='insID').shift(1)\n",
    "EAR_date_df = EAR_date_df[~EAR_date_df.index.duplicated(keep='last')]\n",
    "\n",
    "#Calculate 3 day return, only select the days where EAR_date_df['EA_plus'] == 1\n",
    "EAR_date_df['3day_ret'] = EAR_date_df['c'].groupby(level='insID').pct_change(3)\n",
    "EAR_date_df['EA_ret'] = EAR_date_df['3day_ret'] * EAR_date_df['EA_plus']\n",
    "EAR_date_df = EAR_date_df.unstack(level ='insID').fillna(method ='ffill').stack(level ='insID')\n",
    "EAR_date_df = EAR_date_df.unstack(level ='d').fillna(EAR_date_df.unstack(level ='d').median()).stack(level ='d')\n",
    "\n",
    "EAR_date_df['volatility_6m'] = EAR_date_df['c'].pct_change().groupby(level='insID').apply(lambda x: x.rolling(6).std()*12**0.5)\n",
    "EAR_date_df.loc[EAR_date_df['volatility_6m'] <= 0.05 ,'volatility_6m'] = 0.05\n",
    "\n",
    "EAR_date_df['EAR_std'] = EAR_date_df['EA_ret']/(EAR_date_df['volatility_6m'] )\n",
    "\n",
    "\n",
    "EAR_date_df = EAR_date_df[['EA_ret', 'EAR_std']]\n",
    "EAR_date_df = EAR_date_df.sort_index()\n",
    "\n"
   ]
  },
  {
   "cell_type": "code",
   "execution_count": 76,
   "metadata": {},
   "outputs": [
    {
     "name": "stderr",
     "output_type": "stream",
     "text": [
      "/opt/anaconda3/lib/python3.7/site-packages/ipykernel_launcher.py:6: SettingWithCopyWarning: \n",
      "A value is trying to be set on a copy of a slice from a DataFrame.\n",
      "Try using .loc[row_indexer,col_indexer] = value instead\n",
      "\n",
      "See the caveats in the documentation: https://pandas.pydata.org/pandas-docs/stable/user_guide/indexing.html#returning-a-view-versus-a-copy\n",
      "  \n",
      "/opt/anaconda3/lib/python3.7/site-packages/ipykernel_launcher.py:7: SettingWithCopyWarning: \n",
      "A value is trying to be set on a copy of a slice from a DataFrame.\n",
      "Try using .loc[row_indexer,col_indexer] = value instead\n",
      "\n",
      "See the caveats in the documentation: https://pandas.pydata.org/pandas-docs/stable/user_guide/indexing.html#returning-a-view-versus-a-copy\n",
      "  import sys\n",
      "/opt/anaconda3/lib/python3.7/site-packages/ipykernel_launcher.py:8: SettingWithCopyWarning: \n",
      "A value is trying to be set on a copy of a slice from a DataFrame.\n",
      "Try using .loc[row_indexer,col_indexer] = value instead\n",
      "\n",
      "See the caveats in the documentation: https://pandas.pydata.org/pandas-docs/stable/user_guide/indexing.html#returning-a-view-versus-a-copy\n",
      "  \n"
     ]
    }
   ],
   "source": [
    "#RSURP YEAR\n",
    "rev_year = complete_df[['c','revenues']]\n",
    "#rev_year = rev_year.unstack(level ='insID').fillna(method ='ffill').stack(level ='insID')\n",
    "\n",
    "rev_year.loc[rev_year['revenues'] == 0,'revenues'] =-0.001 #imputing to remove inf\n",
    "rev_year['rev_vol'] = rev_year['revenues'].groupby(level='insID').apply(lambda x: x.rolling(12*2).std())\n",
    "rev_year['rev_growth'] = rev_year['revenues'].groupby(level='insID').pct_change(12)\n",
    "rev_year['RSURP_Y'] = rev_year['rev_growth']/rev_year['rev_vol']\n",
    "rev_year = rev_year.unstack(level ='d').fillna(rev_year.unstack(level ='d').median()).stack(level ='d')\n",
    "rev_year = rev_year[['RSURP_Y','rev_growth']]"
   ]
  },
  {
   "cell_type": "code",
   "execution_count": 77,
   "metadata": {},
   "outputs": [
    {
     "name": "stderr",
     "output_type": "stream",
     "text": [
      "/opt/anaconda3/lib/python3.7/site-packages/ipykernel_launcher.py:6: SettingWithCopyWarning: \n",
      "A value is trying to be set on a copy of a slice from a DataFrame.\n",
      "Try using .loc[row_indexer,col_indexer] = value instead\n",
      "\n",
      "See the caveats in the documentation: https://pandas.pydata.org/pandas-docs/stable/user_guide/indexing.html#returning-a-view-versus-a-copy\n",
      "  \n",
      "/opt/anaconda3/lib/python3.7/site-packages/ipykernel_launcher.py:7: SettingWithCopyWarning: \n",
      "A value is trying to be set on a copy of a slice from a DataFrame.\n",
      "Try using .loc[row_indexer,col_indexer] = value instead\n",
      "\n",
      "See the caveats in the documentation: https://pandas.pydata.org/pandas-docs/stable/user_guide/indexing.html#returning-a-view-versus-a-copy\n",
      "  import sys\n",
      "/opt/anaconda3/lib/python3.7/site-packages/ipykernel_launcher.py:12: SettingWithCopyWarning: \n",
      "A value is trying to be set on a copy of a slice from a DataFrame.\n",
      "Try using .loc[row_indexer,col_indexer] = value instead\n",
      "\n",
      "See the caveats in the documentation: https://pandas.pydata.org/pandas-docs/stable/user_guide/indexing.html#returning-a-view-versus-a-copy\n",
      "  if sys.path[0] == '':\n",
      "/opt/anaconda3/lib/python3.7/site-packages/ipykernel_launcher.py:13: SettingWithCopyWarning: \n",
      "A value is trying to be set on a copy of a slice from a DataFrame.\n",
      "Try using .loc[row_indexer,col_indexer] = value instead\n",
      "\n",
      "See the caveats in the documentation: https://pandas.pydata.org/pandas-docs/stable/user_guide/indexing.html#returning-a-view-versus-a-copy\n",
      "  del sys.path[0]\n"
     ]
    }
   ],
   "source": [
    "#SUE YEAR\n",
    "eps_year = complete_df[['c','earnings_Per_Share']]\n",
    "\n",
    "eps_year.loc[eps_year['earnings_Per_Share'] == 0,'earnings_Per_Share'] =-0.001 #imputing to remove inf\n",
    "\n",
    "eps_year['EPS_vol'] = eps_year['earnings_Per_Share'].groupby(level='insID').apply(lambda x: x.rolling(12*2).std())\n",
    "eps_year['EPS_growth'] = eps_year['earnings_Per_Share'].groupby(level='insID').pct_change(12)\n",
    "\n",
    "eps_year.loc[eps_year['EPS_vol'] <= 0.05 ,'EPS_vol'] = 0.05\n",
    "#eps_year.loc[eps_year['EPS_growth'] <= 0.05 ,'EPS_growth'] = 0.05\n",
    "\n",
    "eps_year['SUE_Y'] = eps_year['EPS_growth']/eps_year['EPS_vol']\n",
    "eps_year['EPS_acceleration'] = eps_year['EPS_growth'].diff(252)\n",
    "eps_year = eps_year.unstack(level ='d').fillna(eps_year.unstack(level ='d').median()).stack(level ='d')\n",
    "eps_year = eps_year[['SUE_Y','EPS_growth', 'EPS_acceleration']]\n",
    "\n"
   ]
  },
  {
   "cell_type": "code",
   "execution_count": 78,
   "metadata": {
    "scrolled": false
   },
   "outputs": [
    {
     "name": "stderr",
     "output_type": "stream",
     "text": [
      "/opt/anaconda3/lib/python3.7/site-packages/ipykernel_launcher.py:5: SettingWithCopyWarning: \n",
      "A value is trying to be set on a copy of a slice from a DataFrame.\n",
      "Try using .loc[row_indexer,col_indexer] = value instead\n",
      "\n",
      "See the caveats in the documentation: https://pandas.pydata.org/pandas-docs/stable/user_guide/indexing.html#returning-a-view-versus-a-copy\n",
      "  \"\"\"\n",
      "/opt/anaconda3/lib/python3.7/site-packages/ipykernel_launcher.py:6: SettingWithCopyWarning: \n",
      "A value is trying to be set on a copy of a slice from a DataFrame.\n",
      "Try using .loc[row_indexer,col_indexer] = value instead\n",
      "\n",
      "See the caveats in the documentation: https://pandas.pydata.org/pandas-docs/stable/user_guide/indexing.html#returning-a-view-versus-a-copy\n",
      "  \n",
      "/opt/anaconda3/lib/python3.7/site-packages/ipykernel_launcher.py:7: SettingWithCopyWarning: \n",
      "A value is trying to be set on a copy of a slice from a DataFrame.\n",
      "Try using .loc[row_indexer,col_indexer] = value instead\n",
      "\n",
      "See the caveats in the documentation: https://pandas.pydata.org/pandas-docs/stable/user_guide/indexing.html#returning-a-view-versus-a-copy\n",
      "  import sys\n",
      "/opt/anaconda3/lib/python3.7/site-packages/ipykernel_launcher.py:8: SettingWithCopyWarning: \n",
      "A value is trying to be set on a copy of a slice from a DataFrame.\n",
      "Try using .loc[row_indexer,col_indexer] = value instead\n",
      "\n",
      "See the caveats in the documentation: https://pandas.pydata.org/pandas-docs/stable/user_guide/indexing.html#returning-a-view-versus-a-copy\n",
      "  \n",
      "/opt/anaconda3/lib/python3.7/site-packages/ipykernel_launcher.py:9: SettingWithCopyWarning: \n",
      "A value is trying to be set on a copy of a slice from a DataFrame.\n",
      "Try using .loc[row_indexer,col_indexer] = value instead\n",
      "\n",
      "See the caveats in the documentation: https://pandas.pydata.org/pandas-docs/stable/user_guide/indexing.html#returning-a-view-versus-a-copy\n",
      "  if __name__ == '__main__':\n",
      "/opt/anaconda3/lib/python3.7/site-packages/ipykernel_launcher.py:10: SettingWithCopyWarning: \n",
      "A value is trying to be set on a copy of a slice from a DataFrame.\n",
      "Try using .loc[row_indexer,col_indexer] = value instead\n",
      "\n",
      "See the caveats in the documentation: https://pandas.pydata.org/pandas-docs/stable/user_guide/indexing.html#returning-a-view-versus-a-copy\n",
      "  # Remove the CWD from sys.path while we load stuff.\n",
      "/opt/anaconda3/lib/python3.7/site-packages/ipykernel_launcher.py:15: SettingWithCopyWarning: \n",
      "A value is trying to be set on a copy of a slice from a DataFrame.\n",
      "Try using .loc[row_indexer,col_indexer] = value instead\n",
      "\n",
      "See the caveats in the documentation: https://pandas.pydata.org/pandas-docs/stable/user_guide/indexing.html#returning-a-view-versus-a-copy\n",
      "  from ipykernel import kernelapp as app\n",
      "/opt/anaconda3/lib/python3.7/site-packages/ipykernel_launcher.py:16: SettingWithCopyWarning: \n",
      "A value is trying to be set on a copy of a slice from a DataFrame.\n",
      "Try using .loc[row_indexer,col_indexer] = value instead\n",
      "\n",
      "See the caveats in the documentation: https://pandas.pydata.org/pandas-docs/stable/user_guide/indexing.html#returning-a-view-versus-a-copy\n",
      "  app.launch_new_instance()\n",
      "/opt/anaconda3/lib/python3.7/site-packages/ipykernel_launcher.py:17: SettingWithCopyWarning: \n",
      "A value is trying to be set on a copy of a slice from a DataFrame.\n",
      "Try using .loc[row_indexer,col_indexer] = value instead\n",
      "\n",
      "See the caveats in the documentation: https://pandas.pydata.org/pandas-docs/stable/user_guide/indexing.html#returning-a-view-versus-a-copy\n",
      "/opt/anaconda3/lib/python3.7/site-packages/ipykernel_launcher.py:18: SettingWithCopyWarning: \n",
      "A value is trying to be set on a copy of a slice from a DataFrame.\n",
      "Try using .loc[row_indexer,col_indexer] = value instead\n",
      "\n",
      "See the caveats in the documentation: https://pandas.pydata.org/pandas-docs/stable/user_guide/indexing.html#returning-a-view-versus-a-copy\n",
      "/opt/anaconda3/lib/python3.7/site-packages/ipykernel_launcher.py:19: SettingWithCopyWarning: \n",
      "A value is trying to be set on a copy of a slice from a DataFrame.\n",
      "Try using .loc[row_indexer,col_indexer] = value instead\n",
      "\n",
      "See the caveats in the documentation: https://pandas.pydata.org/pandas-docs/stable/user_guide/indexing.html#returning-a-view-versus-a-copy\n",
      "/opt/anaconda3/lib/python3.7/site-packages/ipykernel_launcher.py:20: SettingWithCopyWarning: \n",
      "A value is trying to be set on a copy of a slice from a DataFrame.\n",
      "Try using .loc[row_indexer,col_indexer] = value instead\n",
      "\n",
      "See the caveats in the documentation: https://pandas.pydata.org/pandas-docs/stable/user_guide/indexing.html#returning-a-view-versus-a-copy\n",
      "/opt/anaconda3/lib/python3.7/site-packages/ipykernel_launcher.py:21: SettingWithCopyWarning: \n",
      "A value is trying to be set on a copy of a slice from a DataFrame.\n",
      "Try using .loc[row_indexer,col_indexer] = value instead\n",
      "\n",
      "See the caveats in the documentation: https://pandas.pydata.org/pandas-docs/stable/user_guide/indexing.html#returning-a-view-versus-a-copy\n",
      "/opt/anaconda3/lib/python3.7/site-packages/ipykernel_launcher.py:24: SettingWithCopyWarning: \n",
      "A value is trying to be set on a copy of a slice from a DataFrame.\n",
      "Try using .loc[row_indexer,col_indexer] = value instead\n",
      "\n",
      "See the caveats in the documentation: https://pandas.pydata.org/pandas-docs/stable/user_guide/indexing.html#returning-a-view-versus-a-copy\n",
      "/opt/anaconda3/lib/python3.7/site-packages/ipykernel_launcher.py:25: SettingWithCopyWarning: \n",
      "A value is trying to be set on a copy of a slice from a DataFrame.\n",
      "Try using .loc[row_indexer,col_indexer] = value instead\n",
      "\n",
      "See the caveats in the documentation: https://pandas.pydata.org/pandas-docs/stable/user_guide/indexing.html#returning-a-view-versus-a-copy\n",
      "/opt/anaconda3/lib/python3.7/site-packages/ipykernel_launcher.py:26: SettingWithCopyWarning: \n",
      "A value is trying to be set on a copy of a slice from a DataFrame.\n",
      "Try using .loc[row_indexer,col_indexer] = value instead\n",
      "\n",
      "See the caveats in the documentation: https://pandas.pydata.org/pandas-docs/stable/user_guide/indexing.html#returning-a-view-versus-a-copy\n",
      "/opt/anaconda3/lib/python3.7/site-packages/ipykernel_launcher.py:27: SettingWithCopyWarning: \n",
      "A value is trying to be set on a copy of a slice from a DataFrame.\n",
      "Try using .loc[row_indexer,col_indexer] = value instead\n",
      "\n",
      "See the caveats in the documentation: https://pandas.pydata.org/pandas-docs/stable/user_guide/indexing.html#returning-a-view-versus-a-copy\n",
      "/opt/anaconda3/lib/python3.7/site-packages/ipykernel_launcher.py:28: SettingWithCopyWarning: \n",
      "A value is trying to be set on a copy of a slice from a DataFrame.\n",
      "Try using .loc[row_indexer,col_indexer] = value instead\n",
      "\n",
      "See the caveats in the documentation: https://pandas.pydata.org/pandas-docs/stable/user_guide/indexing.html#returning-a-view-versus-a-copy\n"
     ]
    }
   ],
   "source": [
    "#MOMENTUM & vol MEASURES\n",
    "\n",
    "mom_df = complete_df[['c']]\n",
    "#mom_df = mom_df.unstack(level ='insID').fillna(method ='ffill').stack(level ='insID')\n",
    "mom_df['mom12'] = mom_df.c.groupby(level='insID').pct_change(12)\n",
    "mom_df['mom6'] = mom_df.c.groupby(level='insID').pct_change(6)\n",
    "mom_df['mom3'] = mom_df.c.groupby(level='insID').pct_change(3)\n",
    "mom_df['mom1'] = mom_df.c.groupby(level='insID').pct_change(1)\n",
    "mom_df['1_m_ret'] = mom_df.c.groupby(level='insID').pct_change()\n",
    "mom_df['volatility'] = mom_df['1_m_ret'].groupby(level='insID').apply(lambda x: x.rolling(12).std()*12**0.5)\n",
    "\n",
    "\n",
    "\n",
    "#### RELATIVE TO ROLLING HIGH\n",
    "mom_df['high_4y'] = mom_df['c'].groupby(level='insID').apply(lambda x: x/x.rolling(12*4).max())\n",
    "mom_df['high_3y'] = mom_df['c'].groupby(level='insID').apply(lambda x: x/x.rolling(12*3).max())\n",
    "mom_df['high_2y'] = mom_df['c'].groupby(level='insID').apply(lambda x: x/x.rolling(12*2).max())\n",
    "mom_df['high_12m'] = mom_df['c'].groupby(level='insID').apply(lambda x: x/x.rolling(12).max())\n",
    "mom_df['high_6m'] = mom_df['c'].groupby(level='insID').apply(lambda x: x/x.rolling(6).max())\n",
    "mom_df['high_3m'] = mom_df['c'].groupby(level='insID').apply(lambda x: x/x.rolling(3).max())\n",
    "mom_df['high_1m'] = mom_df['c'].groupby(level='insID').apply(lambda x: x/x.rolling(1).max())\n",
    "\n",
    "#### RELATIVE TO ROLLING low\n",
    "mom_df['low_2y'] = mom_df['c'].groupby(level='insID').apply(lambda x: x/x.rolling(12*2).min())\n",
    "mom_df['low_12m'] = mom_df['c'].groupby(level='insID').apply(lambda x: x/x.rolling(12).min())\n",
    "mom_df['low_6m'] = mom_df['c'].groupby(level='insID').apply(lambda x: x/x.rolling(6).min())\n",
    "mom_df['low_3m'] = mom_df['c'].groupby(level='insID').apply(lambda x: x/x.rolling(3).min())\n",
    "mom_df['low_1m'] = mom_df['c'].groupby(level='insID').apply(lambda x: x/x.rolling(1).min())\n",
    "\n",
    "\n",
    "\n",
    "\n",
    "mom_df = mom_df.groupby(level='insID').apply(\n",
    "    lambda x: x.assign(acceleration = x.mom6 -  x.mom12))\n",
    "mom_df = mom_df.groupby(level='insID').apply(\n",
    "    lambda x: x.assign(adj_mom = x.mom12 -  x.mom1))\n",
    "mom_df = mom_df.groupby(level='insID').apply(\n",
    "    lambda x: x.assign(sharpe = x.mom12/x.volatility))\n",
    "\n",
    "\n",
    "mom_df = mom_df.unstack(level ='d').fillna(mom_df.unstack(level ='d').median()).stack(level ='d')\n",
    "mom_df = mom_df[['mom12', 'mom6', 'mom3', 'mom1','1_m_ret','volatility', 'acceleration',\n",
    "               'adj_mom','sharpe', 'high_12m', 'high_6m', 'high_3m', 'high_1m', 'high_2y','high_3y',\n",
    "                 'high_4y','low_1m', 'low_3m', 'low_6m', 'low_12m', 'low_2y']]\n",
    "mom_df = mom_df.sort_index() "
   ]
  },
  {
   "cell_type": "markdown",
   "metadata": {},
   "source": [
    "## Quality Metrics"
   ]
  },
  {
   "cell_type": "code",
   "execution_count": 79,
   "metadata": {
    "scrolled": false
   },
   "outputs": [
    {
     "name": "stderr",
     "output_type": "stream",
     "text": [
      "/opt/anaconda3/lib/python3.7/site-packages/ipykernel_launcher.py:4: SettingWithCopyWarning: \n",
      "A value is trying to be set on a copy of a slice from a DataFrame.\n",
      "Try using .loc[row_indexer,col_indexer] = value instead\n",
      "\n",
      "See the caveats in the documentation: https://pandas.pydata.org/pandas-docs/stable/user_guide/indexing.html#returning-a-view-versus-a-copy\n",
      "  after removing the cwd from sys.path.\n"
     ]
    }
   ],
   "source": [
    "margin_df = complete_df[['gross_Income','net_Sales']]\n",
    "\n",
    "margin_df.loc[margin_df['net_Sales'] == 0,'net_Sales'] =-1\n",
    "margin_df['Gross_margin'] = margin_df['gross_Income'].groupby(level='insID').apply(lambda x: x.rolling(12).mean())/margin_df['net_Sales'].groupby(level='insID').apply(lambda x: x.rolling(12).mean())\n",
    "\n",
    "margin_df = margin_df.unstack(level ='d').fillna(margin_df.unstack(level ='d').median()).stack(level ='d')\n",
    "margin_df = margin_df[['Gross_margin']]\n",
    "margin_df = margin_df.sort_index() "
   ]
  },
  {
   "cell_type": "code",
   "execution_count": 80,
   "metadata": {},
   "outputs": [
    {
     "name": "stderr",
     "output_type": "stream",
     "text": [
      "/opt/anaconda3/lib/python3.7/site-packages/ipykernel_launcher.py:3: SettingWithCopyWarning: \n",
      "A value is trying to be set on a copy of a slice from a DataFrame.\n",
      "Try using .loc[row_indexer,col_indexer] = value instead\n",
      "\n",
      "See the caveats in the documentation: https://pandas.pydata.org/pandas-docs/stable/user_guide/indexing.html#returning-a-view-versus-a-copy\n",
      "  This is separate from the ipykernel package so we can avoid doing imports until\n",
      "/opt/anaconda3/lib/python3.7/site-packages/ipykernel_launcher.py:5: SettingWithCopyWarning: \n",
      "A value is trying to be set on a copy of a slice from a DataFrame.\n",
      "Try using .loc[row_indexer,col_indexer] = value instead\n",
      "\n",
      "See the caveats in the documentation: https://pandas.pydata.org/pandas-docs/stable/user_guide/indexing.html#returning-a-view-versus-a-copy\n",
      "  \"\"\"\n"
     ]
    }
   ],
   "source": [
    "GPA_df = complete_df[['gross_Income','total_Assets']]\n",
    "#GPA_df = GPA_df.unstack(level ='insID').fillna(method ='ffill').stack(level ='insID')\n",
    "GPA_df['GPA'] = GPA_df['gross_Income']/ GPA_df['total_Assets']\n",
    "\n",
    "GPA_df['GPA'] = GPA_df['gross_Income'].groupby(level='insID').apply(lambda x: x.rolling(12).mean())/GPA_df['total_Assets'].groupby(level='insID').apply(lambda x: x.rolling(12).mean())\n",
    "\n",
    "\n",
    "GPA_df = GPA_df.unstack(level ='d').fillna(GPA_df.unstack(level ='d').median()).stack(level ='d')\n",
    "GPA_df['GPA_chg'] = GPA_df['GPA'].diff(12)\n",
    "GPA_df = GPA_df[['GPA', 'GPA_chg']]\n",
    "GPA_df = GPA_df.sort_index() "
   ]
  },
  {
   "cell_type": "code",
   "execution_count": 81,
   "metadata": {
    "scrolled": false
   },
   "outputs": [
    {
     "name": "stderr",
     "output_type": "stream",
     "text": [
      "/opt/anaconda3/lib/python3.7/site-packages/ipykernel_launcher.py:2: SettingWithCopyWarning: \n",
      "A value is trying to be set on a copy of a slice from a DataFrame.\n",
      "Try using .loc[row_indexer,col_indexer] = value instead\n",
      "\n",
      "See the caveats in the documentation: https://pandas.pydata.org/pandas-docs/stable/user_guide/indexing.html#returning-a-view-versus-a-copy\n",
      "  \n",
      "/opt/anaconda3/lib/python3.7/site-packages/ipykernel_launcher.py:4: SettingWithCopyWarning: \n",
      "A value is trying to be set on a copy of a slice from a DataFrame.\n",
      "Try using .loc[row_indexer,col_indexer] = value instead\n",
      "\n",
      "See the caveats in the documentation: https://pandas.pydata.org/pandas-docs/stable/user_guide/indexing.html#returning-a-view-versus-a-copy\n",
      "  after removing the cwd from sys.path.\n"
     ]
    }
   ],
   "source": [
    "ROE_df = complete_df[['earnings_Per_Share','total_Equity','number_Of_Shares']]\n",
    "ROE_df['total_earnings'] = ROE_df['earnings_Per_Share'] * ROE_df['number_Of_Shares']\n",
    "#ROE_df = ROE_df.unstack(level ='insID').fillna(method ='ffill').stack(level ='insID')\n",
    "ROE_df['ROE'] = ROE_df['total_earnings'].groupby(level='insID').apply(lambda x: x.rolling(12).mean())/ROE_df['total_Equity'].groupby(level='insID').apply(lambda x: x.rolling(12).mean())\n",
    "\n",
    "\n",
    "\n",
    "\n",
    "ROE_df = ROE_df.unstack(level ='d').fillna(ROE_df.unstack(level ='d').median()).stack(level ='d')\n",
    "ROE_df['ROE_chg'] = ROE_df['ROE'].diff(12)\n",
    "ROE_df = ROE_df[['ROE', 'ROE_chg']]\n",
    "ROE_df = ROE_df.sort_index() "
   ]
  },
  {
   "cell_type": "code",
   "execution_count": 82,
   "metadata": {},
   "outputs": [
    {
     "name": "stderr",
     "output_type": "stream",
     "text": [
      "/opt/anaconda3/lib/python3.7/site-packages/ipykernel_launcher.py:3: SettingWithCopyWarning: \n",
      "A value is trying to be set on a copy of a slice from a DataFrame.\n",
      "Try using .loc[row_indexer,col_indexer] = value instead\n",
      "\n",
      "See the caveats in the documentation: https://pandas.pydata.org/pandas-docs/stable/user_guide/indexing.html#returning-a-view-versus-a-copy\n",
      "  This is separate from the ipykernel package so we can avoid doing imports until\n",
      "/opt/anaconda3/lib/python3.7/site-packages/ipykernel_launcher.py:5: SettingWithCopyWarning: \n",
      "A value is trying to be set on a copy of a slice from a DataFrame.\n",
      "Try using .loc[row_indexer,col_indexer] = value instead\n",
      "\n",
      "See the caveats in the documentation: https://pandas.pydata.org/pandas-docs/stable/user_guide/indexing.html#returning-a-view-versus-a-copy\n",
      "  \"\"\"\n"
     ]
    }
   ],
   "source": [
    "ROIC_df = complete_df[['operating_Income','total_Equity', 'net_Debt']]\n",
    "#ROIC_df = ROIC_df.unstack(level ='insID').fillna(method ='ffill').stack(level ='insID')\n",
    "ROIC_df['EV'] =(ROIC_df['total_Equity'] + ROIC_df['net_Debt'] )\n",
    "ROIC_df.loc[ROIC_df['EV'] == 0,'EV'] =-1\n",
    "ROIC_df['ROIC'] = ROIC_df['operating_Income'].groupby(level='insID').apply(lambda x: x.rolling(12).mean())/ROIC_df['EV'].groupby(level='insID').apply(lambda x: x.rolling(12).mean())\n",
    "\n",
    "\n",
    "\n",
    "\n",
    "ROIC_df = ROIC_df.unstack(level ='d').fillna(ROIC_df.unstack(level ='d').median()).stack(level ='d')\n",
    "ROIC_df = ROIC_df[['ROIC']]\n",
    "ROIC_df = ROIC_df.sort_index() "
   ]
  },
  {
   "cell_type": "code",
   "execution_count": 83,
   "metadata": {},
   "outputs": [
    {
     "name": "stderr",
     "output_type": "stream",
     "text": [
      "/opt/anaconda3/lib/python3.7/site-packages/ipykernel_launcher.py:3: SettingWithCopyWarning: \n",
      "A value is trying to be set on a copy of a slice from a DataFrame.\n",
      "Try using .loc[row_indexer,col_indexer] = value instead\n",
      "\n",
      "See the caveats in the documentation: https://pandas.pydata.org/pandas-docs/stable/user_guide/indexing.html#returning-a-view-versus-a-copy\n",
      "  This is separate from the ipykernel package so we can avoid doing imports until\n"
     ]
    }
   ],
   "source": [
    "\n",
    "AT_df = complete_df[['total_Assets','net_Sales']]\n",
    "#AT_df = AT_df.unstack(level ='insID').fillna(method ='ffill').stack(level ='insID')\n",
    "AT_df['AT'] = AT_df['net_Sales'].groupby(level='insID').apply(lambda x: x.rolling(12).mean())/AT_df['total_Assets'].groupby(level='insID').apply(lambda x: x.rolling(12).mean())\n",
    "\n",
    "\n",
    "\n",
    "AT_df = AT_df.unstack(level ='d').fillna(AT_df.unstack(level ='d').median()).stack(level ='d')\n",
    "AT_df = AT_df[['AT']]\n",
    "AT_df = AT_df.sort_index() "
   ]
  },
  {
   "cell_type": "code",
   "execution_count": 84,
   "metadata": {},
   "outputs": [
    {
     "name": "stderr",
     "output_type": "stream",
     "text": [
      "/opt/anaconda3/lib/python3.7/site-packages/ipykernel_launcher.py:5: SettingWithCopyWarning: \n",
      "A value is trying to be set on a copy of a slice from a DataFrame.\n",
      "Try using .loc[row_indexer,col_indexer] = value instead\n",
      "\n",
      "See the caveats in the documentation: https://pandas.pydata.org/pandas-docs/stable/user_guide/indexing.html#returning-a-view-versus-a-copy\n",
      "  \"\"\"\n"
     ]
    }
   ],
   "source": [
    "#FCFROE\n",
    "\n",
    "FCFROE_df = complete_df[['cash_Flow_For_The_Year','total_Equity']]\n",
    "#FCFROE_df = FCFROE_df.unstack(level ='insID').fillna(method ='ffill').stack(level ='insID')\n",
    "FCFROE_df['FCFROE'] = FCFROE_df['cash_Flow_For_The_Year'].groupby(level='insID').apply(lambda x: x.rolling(12).mean())/FCFROE_df['total_Equity'].groupby(level='insID').apply(lambda x: x.rolling(12).mean())\n",
    "FCFROE_df = FCFROE_df.unstack(level ='d').fillna(FCFROE_df.unstack(level ='d').median()).stack(level ='d')\n",
    "FCFROE_df = FCFROE_df[['FCFROE']]\n",
    "FCFROE_df = FCFROE_df.sort_index() "
   ]
  },
  {
   "cell_type": "code",
   "execution_count": 85,
   "metadata": {
    "scrolled": true
   },
   "outputs": [
    {
     "name": "stderr",
     "output_type": "stream",
     "text": [
      "/opt/anaconda3/lib/python3.7/site-packages/ipykernel_launcher.py:4: SettingWithCopyWarning: \n",
      "A value is trying to be set on a copy of a slice from a DataFrame.\n",
      "Try using .loc[row_indexer,col_indexer] = value instead\n",
      "\n",
      "See the caveats in the documentation: https://pandas.pydata.org/pandas-docs/stable/user_guide/indexing.html#returning-a-view-versus-a-copy\n",
      "  after removing the cwd from sys.path.\n",
      "/opt/anaconda3/lib/python3.7/site-packages/ipykernel_launcher.py:6: SettingWithCopyWarning: \n",
      "A value is trying to be set on a copy of a slice from a DataFrame.\n",
      "Try using .loc[row_indexer,col_indexer] = value instead\n",
      "\n",
      "See the caveats in the documentation: https://pandas.pydata.org/pandas-docs/stable/user_guide/indexing.html#returning-a-view-versus-a-copy\n",
      "  \n"
     ]
    }
   ],
   "source": [
    "#ROA\n",
    "\n",
    "ROA_df = complete_df[['earnings_Per_Share', 'number_Of_Shares', 'total_Assets']]\n",
    "ROA_df['total_earnings'] = ROA_df['earnings_Per_Share'] * ROA_df['number_Of_Shares']\n",
    "#ROA_df = ROA_df.unstack(level ='insID').fillna(method ='ffill').stack(level ='insID')\n",
    "ROA_df['ROA'] = ROA_df['total_earnings'].groupby(level='insID').apply(lambda x: x.rolling(12).mean())/ROA_df['total_Assets'].groupby(level='insID').apply(lambda x: x.rolling(12).mean())\n",
    "\n",
    "ROA_df = ROA_df.unstack(level ='d').fillna(ROA_df.unstack(level ='d').median()).stack(level ='d')\n",
    "ROA_df = ROA_df[['ROA']]\n",
    "ROA_df = ROA_df.sort_index() "
   ]
  },
  {
   "cell_type": "markdown",
   "metadata": {},
   "source": [
    "## Valuation Metrics"
   ]
  },
  {
   "cell_type": "code",
   "execution_count": 86,
   "metadata": {},
   "outputs": [
    {
     "name": "stderr",
     "output_type": "stream",
     "text": [
      "/opt/anaconda3/lib/python3.7/site-packages/ipykernel_launcher.py:5: SettingWithCopyWarning: \n",
      "A value is trying to be set on a copy of a slice from a DataFrame.\n",
      "Try using .loc[row_indexer,col_indexer] = value instead\n",
      "\n",
      "See the caveats in the documentation: https://pandas.pydata.org/pandas-docs/stable/user_guide/indexing.html#returning-a-view-versus-a-copy\n",
      "  \"\"\"\n"
     ]
    }
   ],
   "source": [
    "PE_df = complete_df[['earnings_Per_Share','c']]\n",
    "#PE_df = PE_df.unstack(level ='insID').fillna(method ='ffill').stack(level ='insID')\n",
    "\n",
    "PE_df.loc[PE_df['earnings_Per_Share'] == 0,'earnings_Per_Share'] =-1\n",
    "PE_df['PE'] = PE_df['c']/ PE_df['earnings_Per_Share'].groupby(level='insID').apply(lambda x: x.rolling(12).mean())\n",
    "\n",
    "PE_df = PE_df.unstack(level ='d').fillna(PE_df.unstack(level ='d').median()).stack(level ='d')\n",
    "PE_df = PE_df[['PE']]\n",
    "PE_df = PE_df.sort_index() "
   ]
  },
  {
   "cell_type": "code",
   "execution_count": 87,
   "metadata": {
    "scrolled": false
   },
   "outputs": [
    {
     "name": "stderr",
     "output_type": "stream",
     "text": [
      "/opt/anaconda3/lib/python3.7/site-packages/ipykernel_launcher.py:3: SettingWithCopyWarning: \n",
      "A value is trying to be set on a copy of a slice from a DataFrame.\n",
      "Try using .loc[row_indexer,col_indexer] = value instead\n",
      "\n",
      "See the caveats in the documentation: https://pandas.pydata.org/pandas-docs/stable/user_guide/indexing.html#returning-a-view-versus-a-copy\n",
      "  This is separate from the ipykernel package so we can avoid doing imports until\n"
     ]
    }
   ],
   "source": [
    "asset_g_df = complete_df[['total_Assets']]\n",
    "#asset_g_df = asset_g_df.unstack(level ='insID').fillna(method ='ffill').stack(level ='insID')\n",
    "asset_g_df['Asset_growth'] = asset_g_df['total_Assets'].pct_change(12)\n",
    "asset_g_df = asset_g_df.unstack(level ='d').fillna(asset_g_df.unstack(level ='d').median()).stack(level ='d')\n",
    "asset_g_df = asset_g_df[['Asset_growth']]\n",
    "asset_g_df = asset_g_df.sort_index() "
   ]
  },
  {
   "cell_type": "code",
   "execution_count": 88,
   "metadata": {},
   "outputs": [
    {
     "name": "stderr",
     "output_type": "stream",
     "text": [
      "/opt/anaconda3/lib/python3.7/site-packages/ipykernel_launcher.py:3: SettingWithCopyWarning: \n",
      "A value is trying to be set on a copy of a slice from a DataFrame.\n",
      "Try using .loc[row_indexer,col_indexer] = value instead\n",
      "\n",
      "See the caveats in the documentation: https://pandas.pydata.org/pandas-docs/stable/user_guide/indexing.html#returning-a-view-versus-a-copy\n",
      "  This is separate from the ipykernel package so we can avoid doing imports until\n",
      "/opt/anaconda3/lib/python3.7/site-packages/ipykernel_launcher.py:6: SettingWithCopyWarning: \n",
      "A value is trying to be set on a copy of a slice from a DataFrame.\n",
      "Try using .loc[row_indexer,col_indexer] = value instead\n",
      "\n",
      "See the caveats in the documentation: https://pandas.pydata.org/pandas-docs/stable/user_guide/indexing.html#returning-a-view-versus-a-copy\n",
      "  \n"
     ]
    }
   ],
   "source": [
    "PB_df = complete_df[['total_Equity','number_Of_Shares', 'c']]\n",
    "#PB_df = PB_df.unstack(level ='insID').fillna(method ='ffill').stack(level ='insID')\n",
    "PB_df['equity_ps'] = PB_df['total_Equity']/PB_df['number_Of_Shares']\n",
    "PB_df.loc[PB_df['equity_ps'] == 0,'equity_ps'] =-1\n",
    "\n",
    "PB_df['PB'] = PB_df['c']/ PB_df['equity_ps'].groupby(level='insID').apply(lambda x: x.rolling(12).mean())\n",
    "PB_df = PB_df.unstack(level ='d').fillna(PB_df.unstack(level ='d').median()).stack(level ='d')\n",
    "PB_df = PB_df[['PB']]\n",
    "PB_df = PB_df.sort_index() "
   ]
  },
  {
   "cell_type": "code",
   "execution_count": 89,
   "metadata": {
    "scrolled": false
   },
   "outputs": [
    {
     "name": "stderr",
     "output_type": "stream",
     "text": [
      "/opt/anaconda3/lib/python3.7/site-packages/ipykernel_launcher.py:2: SettingWithCopyWarning: \n",
      "A value is trying to be set on a copy of a slice from a DataFrame.\n",
      "Try using .loc[row_indexer,col_indexer] = value instead\n",
      "\n",
      "See the caveats in the documentation: https://pandas.pydata.org/pandas-docs/stable/user_guide/indexing.html#returning-a-view-versus-a-copy\n",
      "  \n",
      "/opt/anaconda3/lib/python3.7/site-packages/ipykernel_launcher.py:6: SettingWithCopyWarning: \n",
      "A value is trying to be set on a copy of a slice from a DataFrame.\n",
      "Try using .loc[row_indexer,col_indexer] = value instead\n",
      "\n",
      "See the caveats in the documentation: https://pandas.pydata.org/pandas-docs/stable/user_guide/indexing.html#returning-a-view-versus-a-copy\n",
      "  \n"
     ]
    }
   ],
   "source": [
    "EVEBIT = complete_df[['operating_Income','total_Equity','number_Of_Shares', 'c', 'net_Debt']]\n",
    "EVEBIT['EV'] = (EVEBIT['number_Of_Shares'] * EVEBIT['c']) + EVEBIT['net_Debt']\n",
    "\n",
    "EVEBIT.loc[EVEBIT['operating_Income'] == 0,'operating_Income'] =-1\n",
    "\n",
    "EVEBIT['EVEBIT'] = EVEBIT['EV'].groupby(level='insID').apply(lambda x: x.rolling(12).mean())/EVEBIT['operating_Income'].groupby(level='insID').apply(lambda x: x.rolling(12).mean())\n",
    "EVEBIT = EVEBIT.unstack(level ='d').fillna(EVEBIT.unstack(level ='d').median()).stack(level ='d')\n",
    "EVEBIT = EVEBIT['EVEBIT']"
   ]
  },
  {
   "cell_type": "code",
   "execution_count": 90,
   "metadata": {
    "scrolled": true
   },
   "outputs": [
    {
     "name": "stderr",
     "output_type": "stream",
     "text": [
      "/opt/anaconda3/lib/python3.7/site-packages/ipykernel_launcher.py:3: SettingWithCopyWarning: \n",
      "A value is trying to be set on a copy of a slice from a DataFrame.\n",
      "Try using .loc[row_indexer,col_indexer] = value instead\n",
      "\n",
      "See the caveats in the documentation: https://pandas.pydata.org/pandas-docs/stable/user_guide/indexing.html#returning-a-view-versus-a-copy\n",
      "  This is separate from the ipykernel package so we can avoid doing imports until\n",
      "/opt/anaconda3/lib/python3.7/site-packages/ipykernel_launcher.py:6: SettingWithCopyWarning: \n",
      "A value is trying to be set on a copy of a slice from a DataFrame.\n",
      "Try using .loc[row_indexer,col_indexer] = value instead\n",
      "\n",
      "See the caveats in the documentation: https://pandas.pydata.org/pandas-docs/stable/user_guide/indexing.html#returning-a-view-versus-a-copy\n",
      "  \n"
     ]
    }
   ],
   "source": [
    "EVFCF = complete_df[['cash_Flow_For_The_Year','total_Equity','number_Of_Shares', 'c', 'net_Debt']]\n",
    "\n",
    "EVFCF['EV'] = (EVFCF['number_Of_Shares'] * EVFCF['c']) + EVFCF['net_Debt']\n",
    "EVFCF.loc[EVFCF['cash_Flow_For_The_Year'] == 0,'cash_Flow_For_The_Year'] =-1\n",
    "\n",
    "EVFCF['EVFCF'] = EVFCF['EV'].groupby(level='insID').apply(lambda x: x.rolling(12).mean())/EVFCF['cash_Flow_For_The_Year'].groupby(level='insID').apply(lambda x: x.rolling(12).mean())\n",
    "\n",
    "EVFCF = EVFCF.unstack(level ='d').fillna(EVFCF.unstack(level ='d').median()).stack(level ='d')\n",
    "EVFCF = EVFCF['EVFCF']"
   ]
  },
  {
   "cell_type": "code",
   "execution_count": 91,
   "metadata": {},
   "outputs": [
    {
     "name": "stderr",
     "output_type": "stream",
     "text": [
      "/opt/anaconda3/lib/python3.7/site-packages/ipykernel_launcher.py:7: SettingWithCopyWarning: \n",
      "A value is trying to be set on a copy of a slice from a DataFrame.\n",
      "Try using .loc[row_indexer,col_indexer] = value instead\n",
      "\n",
      "See the caveats in the documentation: https://pandas.pydata.org/pandas-docs/stable/user_guide/indexing.html#returning-a-view-versus-a-copy\n",
      "  import sys\n",
      "/opt/anaconda3/lib/python3.7/site-packages/ipykernel_launcher.py:8: SettingWithCopyWarning: \n",
      "A value is trying to be set on a copy of a slice from a DataFrame.\n",
      "Try using .loc[row_indexer,col_indexer] = value instead\n",
      "\n",
      "See the caveats in the documentation: https://pandas.pydata.org/pandas-docs/stable/user_guide/indexing.html#returning-a-view-versus-a-copy\n",
      "  \n"
     ]
    }
   ],
   "source": [
    "#PS\n",
    "PS_df = complete_df[['net_Sales','c', 'number_Of_Shares']]\n",
    "\n",
    "\n",
    "PS_df.loc[PS_df['net_Sales'] == 0,'net_Sales'] =-1\n",
    "\n",
    "PS_df['sales_per_share'] = PS_df['net_Sales']/PS_df['number_Of_Shares']\n",
    "PS_df['PS'] = PS_df['c']/ PS_df['sales_per_share'].groupby(level='insID').apply(lambda x: x.rolling(12).mean())\n",
    "PS_df = PS_df.unstack(level ='d').fillna(PS_df.unstack(level ='d').median()).stack(level ='d')\n",
    "PS_df = PS_df[['PS']]\n",
    "PS_df = PS_df.sort_index() "
   ]
  },
  {
   "cell_type": "code",
   "execution_count": 92,
   "metadata": {
    "scrolled": true
   },
   "outputs": [
    {
     "name": "stderr",
     "output_type": "stream",
     "text": [
      "/opt/anaconda3/lib/python3.7/site-packages/ipykernel_launcher.py:5: SettingWithCopyWarning: \n",
      "A value is trying to be set on a copy of a slice from a DataFrame.\n",
      "Try using .loc[row_indexer,col_indexer] = value instead\n",
      "\n",
      "See the caveats in the documentation: https://pandas.pydata.org/pandas-docs/stable/user_guide/indexing.html#returning-a-view-versus-a-copy\n",
      "  \"\"\"\n",
      "/opt/anaconda3/lib/python3.7/site-packages/ipykernel_launcher.py:9: SettingWithCopyWarning: \n",
      "A value is trying to be set on a copy of a slice from a DataFrame.\n",
      "Try using .loc[row_indexer,col_indexer] = value instead\n",
      "\n",
      "See the caveats in the documentation: https://pandas.pydata.org/pandas-docs/stable/user_guide/indexing.html#returning-a-view-versus-a-copy\n",
      "  if __name__ == '__main__':\n"
     ]
    }
   ],
   "source": [
    "#PFCF\n",
    "\n",
    "PFCF_df = complete_df[['cash_Flow_For_The_Year','c', 'number_Of_Shares']]\n",
    "\n",
    "PFCF_df['fcf_per_share'] = PFCF_df['cash_Flow_For_The_Year']/PFCF_df['number_Of_Shares']\n",
    "\n",
    "PFCF_df.loc[PFCF_df['cash_Flow_For_The_Year'] == 0,'fcf_per_share'] =-1\n",
    "PFCF_df['PFCF'] = PFCF_df['c']/ PFCF_df['fcf_per_share'].groupby(level='insID').apply(lambda x: x.rolling(12).mean())\n",
    "PFCF_df = PFCF_df.unstack(level ='d').fillna(PFCF_df.unstack(level ='d').median()).stack(level ='d')\n",
    "PFCF_df = PFCF_df[['PFCF']]\n",
    "PFCF_df = PFCF_df.sort_index() "
   ]
  },
  {
   "cell_type": "code",
   "execution_count": 93,
   "metadata": {},
   "outputs": [
    {
     "name": "stderr",
     "output_type": "stream",
     "text": [
      "/opt/anaconda3/lib/python3.7/site-packages/ipykernel_launcher.py:5: SettingWithCopyWarning: \n",
      "A value is trying to be set on a copy of a slice from a DataFrame.\n",
      "Try using .loc[row_indexer,col_indexer] = value instead\n",
      "\n",
      "See the caveats in the documentation: https://pandas.pydata.org/pandas-docs/stable/user_guide/indexing.html#returning-a-view-versus-a-copy\n",
      "  \"\"\"\n",
      "/opt/anaconda3/lib/python3.7/site-packages/ipykernel_launcher.py:6: SettingWithCopyWarning: \n",
      "A value is trying to be set on a copy of a slice from a DataFrame.\n",
      "Try using .loc[row_indexer,col_indexer] = value instead\n",
      "\n",
      "See the caveats in the documentation: https://pandas.pydata.org/pandas-docs/stable/user_guide/indexing.html#returning-a-view-versus-a-copy\n",
      "  \n",
      "/opt/anaconda3/lib/python3.7/site-packages/ipykernel_launcher.py:7: SettingWithCopyWarning: \n",
      "A value is trying to be set on a copy of a slice from a DataFrame.\n",
      "Try using .loc[row_indexer,col_indexer] = value instead\n",
      "\n",
      "See the caveats in the documentation: https://pandas.pydata.org/pandas-docs/stable/user_guide/indexing.html#returning-a-view-versus-a-copy\n",
      "  import sys\n"
     ]
    }
   ],
   "source": [
    "#Div Yield\n",
    "DIV_df = complete_df[['dividend','c', 'number_Of_Shares']]\n",
    "DIV_df.loc[DIV_df['dividend'].isna(),['dividend']] = 0\n",
    "\n",
    "DIV_df['rol_div'] = DIV_df['dividend'].groupby(level='insID').apply(lambda x: x.rolling(12).mean())\n",
    "DIV_df['div_per_share'] = DIV_df['rol_div']/DIV_df['number_Of_Shares']\n",
    "DIV_df['DIV_Y'] = DIV_df['div_per_share']/ DIV_df['c']\n",
    "DIV_df = DIV_df.unstack(level ='d').fillna(DIV_df.unstack(level ='d').median()).stack(level ='d')\n",
    "DIV_df = DIV_df[['DIV_Y']]\n",
    "DIV_df = DIV_df.sort_index() "
   ]
  },
  {
   "cell_type": "markdown",
   "metadata": {},
   "source": [
    "### Merge Data"
   ]
  },
  {
   "cell_type": "code",
   "execution_count": 125,
   "metadata": {
    "scrolled": true
   },
   "outputs": [],
   "source": [
    "export_df = mcap_df.copy()\n",
    "\n",
    "export_list = [PE_df, GPA_df, asset_g_df,PB_df, EAR_date_df,EVEBIT,EVFCF,div_adj_df, ROIC_df, ROE_df, AT_df,\n",
    "              list_sector_df, rev_year, eps_year, mom_df, FCFROE_df, ROA_df, PS_df, PFCF_df,\n",
    "               DIV_df,volume_df, margin_df,norm_res_df,ido_mom_df, alpha_df, beta_df]\n",
    "\n",
    "for df in export_list:\n",
    "    try:\n",
    "        export_df = export_df.join(df.swaplevel(), on=['d','insID'],how='left')\n",
    "    except:\n",
    "        export_df = export_df.join(df, on=['d','insID'],how='left')"
   ]
  },
  {
   "cell_type": "code",
   "execution_count": 127,
   "metadata": {},
   "outputs": [],
   "source": [
    "SAVE = 'YES'\n",
    "\n",
    "if SAVE == 'YES':\n",
    "    export_df.to_csv(\"data/VQ_monthly_data.csv\")"
   ]
  },
  {
   "cell_type": "code",
   "execution_count": 128,
   "metadata": {
    "scrolled": false
   },
   "outputs": [
    {
     "name": "stdout",
     "output_type": "stream",
     "text": [
      "c : 187500.0\n",
      "number_Of_Shares : 8505.7\n",
      "MCAP : 1617774.4000000001\n",
      "PE : inf\n",
      "GPA : 3.4592373727704095\n",
      "GPA_chg : 6.765529409210369\n",
      "Asset_growth : 6153.319517354854\n",
      "PB : 36754.24103227928\n",
      "EA_ret : 4.726950354609929\n",
      "EAR_std : 53.91607704945541\n",
      "EVEBIT : inf\n",
      "EVFCF : inf\n",
      "adj_c : 206075.125\n",
      "ROIC : 12015.285714289323\n",
      "ROE : 4665.9653056\n",
      "ROE_chg : 4666.064003006776\n",
      "AT : 4.818116669055468\n",
      "Name is non-numerical\n",
      "sector is non-numerical\n",
      "market is non-numerical\n",
      "RSURP_Y : 971.8952692841466\n",
      "rev_growth : 578.4940828402366\n",
      "SUE_Y : 4168.465798624778\n",
      "EPS_growth : 840.675\n",
      "EPS_acceleration : 499.30889884763127\n",
      "mom12 : 78.64615384615385\n",
      "mom6 : 56.81226228510574\n",
      "mom3 : 24.17876160048684\n",
      "mom1 : 16.961538461538463\n",
      "1_m_ret : 16.961538461538463\n",
      "volatility : 17.09311464609449\n",
      "acceleration : 38.293263646922185\n",
      "adj_mom : 78.52881491281649\n",
      "sharpe : 17.36636921966682\n",
      "high_12m : 1.0\n",
      "high_6m : 1.0\n",
      "high_3m : 1.0\n",
      "high_1m : 1.0\n",
      "high_2y : 1.0\n",
      "high_3y : 1.0\n",
      "high_4y : 1.0\n",
      "low_1m : 1.0\n",
      "low_3m : 22.238095238095237\n",
      "low_6m : 45.08337136771642\n",
      "low_12m : 78.76160048684011\n",
      "low_2y : 86.28333333333335\n",
      "FCFROE : 109.47641641082896\n",
      "ROA : 2.761033933484227\n",
      "PS : 145388.40685546806\n",
      "PFCF : inf\n",
      "DIV_Y : 37.449186991869915\n",
      "MA3_VOL : 7626900289.333333\n",
      "Gross_margin : 24953.333333333772\n",
      "res_mom12 : 2.6052875149375154\n",
      "ido_mom12 : 0.3796863404270449\n",
      "alpha : 55.34059965065353\n",
      "std_alpha : 343.84364505665593\n",
      "beta : 1876.8915814027014\n"
     ]
    }
   ],
   "source": [
    "for col in export_df.columns:\n",
    "    try:\n",
    "        print(col + ' : ' + str(export_df[col].max()))\n",
    "    except:\n",
    "        print(col + ' is non-numerical')"
   ]
  },
  {
   "cell_type": "code",
   "execution_count": 129,
   "metadata": {},
   "outputs": [
    {
     "name": "stdout",
     "output_type": "stream",
     "text": [
      "c : 0.01\n",
      "number_Of_Shares : 0.0021\n",
      "MCAP : 0.01334\n",
      "PE : -1.4843864371813156e+18\n",
      "GPA : -6.5017006802721085\n",
      "GPA_chg : -6.712037046173784\n",
      "Asset_growth : -0.9999908653997672\n",
      "PB : -11486.325605207745\n",
      "EA_ret : -0.6978661493695442\n",
      "EAR_std : -10.156587299878137\n",
      "EVEBIT : -inf\n",
      "EVFCF : -1.6811430300137583e+19\n",
      "adj_c : 0.01\n",
      "ROIC : -5973.826833057431\n",
      "ROE : -715.2758222973001\n",
      "ROE_chg : -4663.978473469298\n",
      "AT : -0.005954783522100052\n",
      "Name is non-numerical\n",
      "sector is non-numerical\n",
      "market is non-numerical\n",
      "RSURP_Y : -4990.192426956073\n",
      "rev_growth : -3223405.0\n",
      "SUE_Y : -2751.199609479129\n",
      "EPS_growth : -1795.8\n",
      "EPS_acceleration : -1796.1447573635326\n",
      "mom12 : -0.9822622107969151\n",
      "mom6 : -0.9703737604881769\n",
      "mom3 : -0.953671875\n",
      "mom1 : -0.9540310077519379\n",
      "1_m_ret : -0.9540310077519379\n",
      "volatility : 0.0\n",
      "acceleration : -76.2551132152382\n",
      "adj_mom : -13.427557879014191\n",
      "sharpe : -3.5756333743676882\n",
      "high_12m : 0.020891364902506964\n",
      "high_6m : 0.04014470284237726\n",
      "high_3m : 0.045968992248062016\n",
      "high_1m : 1.0\n",
      "high_2y : 0.005106007067137809\n",
      "high_3y : 0.0010933147632311978\n",
      "high_4y : 0.00012650602409638553\n",
      "low_1m : 1.0\n",
      "low_3m : 1.0\n",
      "low_6m : 1.0\n",
      "low_12m : 1.0\n",
      "low_2y : 1.0\n",
      "FCFROE : -658.0000000000001\n",
      "ROA : -97.50148571428572\n",
      "PS : -696638.9669999998\n",
      "PFCF : -1.2627071642992601e+19\n",
      "DIV_Y : 0.0\n",
      "MA3_VOL : 0.0\n",
      "Gross_margin : -62645.7500000069\n",
      "res_mom12 : -2.3159775215907166\n",
      "ido_mom12 : -0.29924488258922005\n",
      "alpha : -9.819909633394673\n",
      "std_alpha : -123.51913580914884\n",
      "beta : -1479.3002162322664\n"
     ]
    }
   ],
   "source": [
    "for col in export_df.columns:\n",
    "    try:\n",
    "        print(col + ' : ' + str(export_df[col].min()))\n",
    "    except:\n",
    "        print(col + ' is non-numerical')"
   ]
  },
  {
   "cell_type": "code",
   "execution_count": null,
   "metadata": {},
   "outputs": [],
   "source": []
  }
 ],
 "metadata": {
  "kernelspec": {
   "display_name": "Python 3",
   "language": "python",
   "name": "python3"
  },
  "language_info": {
   "codemirror_mode": {
    "name": "ipython",
    "version": 3
   },
   "file_extension": ".py",
   "mimetype": "text/x-python",
   "name": "python",
   "nbconvert_exporter": "python",
   "pygments_lexer": "ipython3",
   "version": "3.7.4"
  }
 },
 "nbformat": 4,
 "nbformat_minor": 2
}
