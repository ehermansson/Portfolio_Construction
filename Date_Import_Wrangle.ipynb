{
 "cells": [
  {
   "cell_type": "code",
   "execution_count": 27,
   "metadata": {},
   "outputs": [],
   "source": [
    "import yfinance as yf \n",
    "import pandas as pd\n",
    "import numpy as np\n",
    "from datetime import datetime\n",
    "\n",
    "import quandl\n",
    "\n",
    "import sys\n",
    "import urllib\n",
    "\n",
    "import ezodf\n",
    "from matplotlib import pylab as plt "
   ]
  },
  {
   "cell_type": "code",
   "execution_count": 28,
   "metadata": {},
   "outputs": [],
   "source": [
    "def import_MSCI(name):\n",
    "    '''Function to clean data from MSCI\n",
    "    https://www.msci.com/end-of-day-data-country\n",
    "    '''\n",
    "    \n",
    "    \n",
    "    path = \"Data/\" + name + \".xls\"\n",
    "    imp_tmp = pd.read_excel(path)\n",
    "    price_type = imp_tmp.loc[1][1]\n",
    "    \n",
    "    imp = imp_tmp[6:]\n",
    "    imp.columns = ['Date', name]\n",
    "    #imp['Date'] = pd.to_datetime(imp['Date'], errors='coerce')\n",
    "    imp.loc[0] = pd.to_datetime(imp['Date'], errors='coerce')\n",
    "    imp = imp.dropna()\n",
    "    \n",
    "    imp = imp.set_index('Date')\n",
    "    #imp.index = imp.index.strftime('%Y/%m')\n",
    "    \n",
    "    print(price_type)\n",
    "    \n",
    "    return(imp)"
   ]
  },
  {
   "cell_type": "code",
   "execution_count": 29,
   "metadata": {},
   "outputs": [],
   "source": [
    "def Import_bond_return(filename, sheet_no=0, header=0):\n",
    "    '''10 YEAR BOND RETURN. sheet1:Original US, sheet2: Improved US, sheet3:germany, \n",
    "    sheet4:Japan, sheet5:Australia, sheet6:Norway. sheet7:Sweden'''\n",
    "    \n",
    "    tab = ezodf.opendoc(filename=filename).sheets[sheet_no]\n",
    "    temp_data= pd.DataFrame({col[header].value:[x.value for x in col[header+1:]]\n",
    "                         for col in tab.columns()})\n",
    "    temp_data['observation_date'] = pd.to_datetime(temp_data['observation_date'], errors='coerce')\n",
    "    temp_data.index = temp_data['observation_date']\n",
    "    bond_ret = pd.DataFrame(temp_data['Cum Ret'])\n",
    "    bond_ret = bond_ret.dropna()\n",
    "    bond_ret.columns = ['10Y Bond']\n",
    "    return(bond_ret)"
   ]
  },
  {
   "cell_type": "markdown",
   "metadata": {},
   "source": [
    "# Data Collection"
   ]
  },
  {
   "cell_type": "markdown",
   "metadata": {},
   "source": [
    "## Equity"
   ]
  },
  {
   "cell_type": "markdown",
   "metadata": {},
   "source": [
    "### Monthly"
   ]
  },
  {
   "cell_type": "code",
   "execution_count": 30,
   "metadata": {
    "scrolled": true
   },
   "outputs": [
    {
     "name": "stdout",
     "output_type": "stream",
     "text": [
      "Gross\n",
      "Gross\n",
      "Gross\n",
      "Gross\n",
      "Gross\n",
      "Gross\n"
     ]
    },
    {
     "name": "stderr",
     "output_type": "stream",
     "text": [
      "/opt/anaconda3/lib/python3.7/site-packages/pandas/core/indexing.py:205: SettingWithCopyWarning: \n",
      "A value is trying to be set on a copy of a slice from a DataFrame\n",
      "\n",
      "See the caveats in the documentation: http://pandas.pydata.org/pandas-docs/stable/user_guide/indexing.html#returning-a-view-versus-a-copy\n",
      "  self._setitem_with_indexer(indexer, value)\n"
     ]
    }
   ],
   "source": [
    "USA = import_MSCI(\"USA\")\n",
    "Pacific_ex_Japan = import_MSCI(\"PACIFIC_ex_JAPAN\")\n",
    "Japan = import_MSCI(\"JAPAN\")\n",
    "Sweden = import_MSCI(\"SWEDEN\")\n",
    "Emerging_Markets = import_MSCI(\"EMERGING_MARKETS\")\n",
    "RUSSIA = import_MSCI(\"RUSSIA\")"
   ]
  },
  {
   "cell_type": "code",
   "execution_count": 31,
   "metadata": {
    "scrolled": true
   },
   "outputs": [],
   "source": [
    "#Emerging_Markets\n"
   ]
  },
  {
   "cell_type": "markdown",
   "metadata": {},
   "source": [
    "### Daily"
   ]
  },
  {
   "cell_type": "code",
   "execution_count": 21,
   "metadata": {},
   "outputs": [
    {
     "name": "stdout",
     "output_type": "stream",
     "text": [
      "[*********************100%***********************]  1 of 1 completed\n"
     ]
    }
   ],
   "source": [
    "SP500_daily_tmp = yf.download(\"^SP500TR\")\n",
    "SP500_daily= pd.DataFrame(SP500_daily_tmp['Close'])\n",
    "SP500_daily.columns = ['SP500']"
   ]
  },
  {
   "cell_type": "markdown",
   "metadata": {},
   "source": [
    "## Bonds"
   ]
  },
  {
   "cell_type": "markdown",
   "metadata": {},
   "source": [
    "### Yearly"
   ]
  },
  {
   "cell_type": "code",
   "execution_count": 32,
   "metadata": {
    "scrolled": true
   },
   "outputs": [],
   "source": [
    "# Only says T-bond, 10 yr?, 30 yr?\n",
    "d = pd.read_html('http://pages.stern.nyu.edu/~adamodar/New_Home_Page/datafile/histretSP.html')\n",
    "T_tmp = d[0]\n",
    "T_tmp = pd.DataFrame(T_tmp[7][:])\n",
    "\n",
    "years =  pd.Series(range(1926,2020))\n",
    "T_tmp.insert(0, \"Year\", years, True)\n",
    "T_tmp.insert(2, \"Month\", 1, True)\n",
    "T_tmp.insert(3, \"Day\", 1, True)\n",
    "T_tmp = T_tmp[2:]\n",
    "T_tmp.columns = ['Year','T bond', 'Month', 'Day'] \n",
    "T_tmp['T bond'] = T_tmp['T bond'].str.replace('$', '')\n",
    "T_tmp['T bond'] = T_tmp['T bond'].str.replace(',', '')\n",
    "T_tmp['T bond'] = pd.to_numeric(T_tmp['T bond'])\n",
    "\n",
    "T_tmp['Year'] = pd.to_datetime(T_tmp['Year']*10000+T_tmp['Month']*100+T_tmp['Day'],format='%Y%m%d')\n",
    "T_tmp = T_tmp.set_index('Year')\n",
    "T_bond_yearly = pd.DataFrame(T_tmp['T bond'])\n",
    "#T_bond_yearly"
   ]
  },
  {
   "cell_type": "code",
   "execution_count": 50,
   "metadata": {},
   "outputs": [
    {
     "data": {
      "image/png": "[encoded data removed]",
      "text/plain": [
       "<Figure size 432x288 with 1 Axes>"
      ]
     },
     "metadata": {
      "needs_background": "light"
     },
     "output_type": "display_data"
    }
   ],
   "source": [
    "path = 'Data/International Monthly Government Bond Returns.ods'\n",
    "bond_import = bond_return(filename=path, sheet_no = 1)\n",
    "\n",
    "np.log(bond_import).plot();"
   ]
  },
  {
   "cell_type": "code",
   "execution_count": 108,
   "metadata": {},
   "outputs": [
    {
     "data": {
      "text/html": [
       "<div>\n",
       "<style scoped>\n",
       "    .dataframe tbody tr th:only-of-type {\n",
       "        vertical-align: middle;\n",
       "    }\n",
       "\n",
       "    .dataframe tbody tr th {\n",
       "        vertical-align: top;\n",
       "    }\n",
       "\n",
       "    .dataframe thead th {\n",
       "        text-align: right;\n",
       "    }\n",
       "</style>\n",
       "<table border=\"1\" class=\"dataframe\">\n",
       "  <thead>\n",
       "    <tr style=\"text-align: right;\">\n",
       "      <th></th>\n",
       "      <th>10Y Bond</th>\n",
       "    </tr>\n",
       "    <tr>\n",
       "      <th>observation_date</th>\n",
       "      <th></th>\n",
       "    </tr>\n",
       "  </thead>\n",
       "  <tbody>\n",
       "    <tr>\n",
       "      <td>2019-05-31</td>\n",
       "      <td>0.067044</td>\n",
       "    </tr>\n",
       "  </tbody>\n",
       "</table>\n",
       "</div>"
      ],
      "text/plain": [
       "                  10Y Bond\n",
       "observation_date          \n",
       "2019-05-31        0.067044"
      ]
     },
     "execution_count": 108,
     "metadata": {},
     "output_type": "execute_result"
    }
   ],
   "source": [
    "(bond_import.tail(1)/100)**(12/(len(bond_import))) -1 "
   ]
  },
  {
   "cell_type": "code",
   "execution_count": 142,
   "metadata": {},
   "outputs": [
    {
     "name": "stdout",
     "output_type": "stream",
     "text": [
      "[*********************100%***********************]  1 of 1 completed\n"
     ]
    }
   ],
   "source": [
    "#Attemp to calculate bond return from YTM. 30YR\n",
    "TYX_tmp = yf.download('^FVX') #data import\n",
    "TYX_tmp = TYX_tmp['Adj Close']\n"
   ]
  },
  {
   "cell_type": "code",
   "execution_count": 143,
   "metadata": {},
   "outputs": [],
   "source": [
    "TYX_monthly = TYX_tmp.resample('M').last()/100\n"
   ]
  },
  {
   "cell_type": "code",
   "execution_count": 128,
   "metadata": {},
   "outputs": [
    {
     "name": "stdout",
     "output_type": "stream",
     "text": [
      "[*********************100%***********************]  1 of 1 completed\n"
     ]
    }
   ],
   "source": [
    "TLT_tmp = yf.download('ISTB') #data import\n",
    "TLT_tmp = TLT_tmp['Adj Close']\n",
    "TLT_monthly_tmp = TLT_tmp.resample('M').last()"
   ]
  },
  {
   "cell_type": "code",
   "execution_count": 144,
   "metadata": {},
   "outputs": [],
   "source": [
    "TLT_monthly = (TLT_monthly_tmp.pct_change()+1).cumprod()\n",
    "TLT_monthly = pd.DataFrame(TLT_monthly)"
   ]
  },
  {
   "cell_type": "code",
   "execution_count": 145,
   "metadata": {},
   "outputs": [],
   "source": [
    "def calc_bond_returns(YTM, YTMM1, M):\n",
    "    DY = YTM - YTMM1\n",
    "    yield_income = (1+YTM)**(1/12) - 1\n",
    "    Z = (1+(YTM/2))\n",
    "    \n",
    "\n",
    "    duration = (1/YTM)* (1 -(1/(1+0.5*YTM)**(2*M)))\n",
    "\n",
    "\n",
    "    C1 = (2/YTM**2) * (1-Z**(-2*M))\n",
    "    C2 = ((2*M)/YTM) * Z **(-2*M - 1) \n",
    "    convex = C1-C2\n",
    "\n",
    "    ret = yield_income - duration* DY + (1/2)*convex * (DY**2)\n",
    "    return(ret)\n",
    "    "
   ]
  },
  {
   "cell_type": "code",
   "execution_count": 146,
   "metadata": {},
   "outputs": [],
   "source": [
    "def monthly_bonds_ret(bond_YTM, M):\n",
    "    bond_ret = [0]\n",
    "\n",
    "   \n",
    "    \n",
    "    for i in range(len(TYX_monthly)-1):\n",
    "        YTM = bond_YTM[i+1]\n",
    "        YTMM1 = bond_YTM[i]\n",
    "        \n",
    "        ret = calc_bond_returns(YTM, YTMM1, M)\n",
    "        bond_ret.append(ret)\n",
    "\n",
    "    bond_ret = pd.DataFrame(bond_ret)\n",
    "    bond_ret.index = TYX_monthly.index\n",
    "    \n",
    "    return(bond_ret)\n",
    "    \n"
   ]
  },
  {
   "cell_type": "code",
   "execution_count": 147,
   "metadata": {},
   "outputs": [],
   "source": [
    "calc_ret = monthly_bonds_ret(TYX_monthly, 5)\n",
    "formula = (calc_ret+1).cumprod()\n",
    "\n",
    "bond_diff = pd.concat([formula, TLT_monthly], axis = 1)\n",
    "bond_diff = bond_diff.dropna()\n",
    "bond_diff.columns = ['Formula', 'TLT']\n",
    "\n",
    "bond_diff = bond_diff/bond_diff.iloc[0] #normalize\n",
    "\n",
    "bond_diff.plot()"
   ]
  },
  {
   "cell_type": "markdown",
   "metadata": {},
   "source": [
    "## Alternatives"
   ]
  },
  {
   "cell_type": "code",
   "execution_count": 8,
   "metadata": {},
   "outputs": [
    {
     "data": {
      "text/html": [
       "<div>\n",
       "<style scoped>\n",
       "    .dataframe tbody tr th:only-of-type {\n",
       "        vertical-align: middle;\n",
       "    }\n",
       "\n",
       "    .dataframe tbody tr th {\n",
       "        vertical-align: top;\n",
       "    }\n",
       "\n",
       "    .dataframe thead th {\n",
       "        text-align: right;\n",
       "    }\n",
       "</style>\n",
       "<table border=\"1\" class=\"dataframe\">\n",
       "  <thead>\n",
       "    <tr style=\"text-align: right;\">\n",
       "      <th></th>\n",
       "      <th>USD (AM)</th>\n",
       "    </tr>\n",
       "    <tr>\n",
       "      <th>Date</th>\n",
       "      <th></th>\n",
       "    </tr>\n",
       "  </thead>\n",
       "  <tbody>\n",
       "    <tr>\n",
       "      <th>1968-01-02</th>\n",
       "      <td>35.18</td>\n",
       "    </tr>\n",
       "    <tr>\n",
       "      <th>1968-01-03</th>\n",
       "      <td>35.16</td>\n",
       "    </tr>\n",
       "    <tr>\n",
       "      <th>1968-01-04</th>\n",
       "      <td>35.14</td>\n",
       "    </tr>\n",
       "    <tr>\n",
       "      <th>1968-01-05</th>\n",
       "      <td>35.14</td>\n",
       "    </tr>\n",
       "    <tr>\n",
       "      <th>1968-01-08</th>\n",
       "      <td>35.14</td>\n",
       "    </tr>\n",
       "    <tr>\n",
       "      <th>...</th>\n",
       "      <td>...</td>\n",
       "    </tr>\n",
       "    <tr>\n",
       "      <th>2020-07-16</th>\n",
       "      <td>1804.60</td>\n",
       "    </tr>\n",
       "    <tr>\n",
       "      <th>2020-07-17</th>\n",
       "      <td>1802.90</td>\n",
       "    </tr>\n",
       "    <tr>\n",
       "      <th>2020-07-20</th>\n",
       "      <td>1810.30</td>\n",
       "    </tr>\n",
       "    <tr>\n",
       "      <th>2020-07-21</th>\n",
       "      <td>1823.20</td>\n",
       "    </tr>\n",
       "    <tr>\n",
       "      <th>2020-07-22</th>\n",
       "      <td>1851.00</td>\n",
       "    </tr>\n",
       "  </tbody>\n",
       "</table>\n",
       "<p>13284 rows × 1 columns</p>\n",
       "</div>"
      ],
      "text/plain": [
       "            USD (AM)\n",
       "Date                \n",
       "1968-01-02     35.18\n",
       "1968-01-03     35.16\n",
       "1968-01-04     35.14\n",
       "1968-01-05     35.14\n",
       "1968-01-08     35.14\n",
       "...              ...\n",
       "2020-07-16   1804.60\n",
       "2020-07-17   1802.90\n",
       "2020-07-20   1810.30\n",
       "2020-07-21   1823.20\n",
       "2020-07-22   1851.00\n",
       "\n",
       "[13284 rows x 1 columns]"
      ]
     },
     "execution_count": 8,
     "metadata": {},
     "output_type": "execute_result"
    }
   ],
   "source": [
    "#Gold\n",
    "Gold_tmp = quandl.get(\"LBMA/GOLD\", authtoken=\"6rNSyTM5R4g7_B7XSyQW\")\n",
    "Gold = pd.DataFrame(Gold_tmp[\"USD (AM)\"])\n"
   ]
  },
  {
   "cell_type": "code",
   "execution_count": null,
   "metadata": {},
   "outputs": [],
   "source": [
    "#Long Vol(Monthly)\n",
    "long_vol_imp = pd.read_excel (r'https://www.eurekahedge.com/Indices/ExportIndexReturnsToExcel?IndexType=Eurekahedge&IndexId=640')\n",
    "\n",
    "long_vol = long_vol_imp[3:]\n",
    "long_vol.index= pd.to_datetime(long_vol_imp[3:]['Unnamed: 0'])\n",
    "long_vol = pd.DataFrame(long_vol['Unnamed: 2'])\n",
    "long_vol.columns = [\"Long Vol\"]"
   ]
  }
 ],
 "metadata": {
  "kernelspec": {
   "display_name": "Python 3",
   "language": "python",
   "name": "python3"
  },
  "language_info": {
   "codemirror_mode": {
    "name": "ipython",
    "version": 3
   },
   "file_extension": ".py",
   "mimetype": "text/x-python",
   "name": "python",
   "nbconvert_exporter": "python",
   "pygments_lexer": "ipython3",
   "version": "3.7.4"
  }
 },
 "nbformat": 4,
 "nbformat_minor": 2
}
